{
 "cells": [
  {
   "cell_type": "code",
   "execution_count": 1,
   "outputs": [],
   "source": [
    "import pandas as pd"
   ],
   "metadata": {
    "collapsed": false,
    "pycharm": {
     "name": "#%%\n"
    }
   }
  },
  {
   "cell_type": "code",
   "execution_count": 2,
   "outputs": [],
   "source": [
    "pa_latin_art = pd.read_csv('../data_samples/pa_latin_art.csv')\n",
    "stored_latin_art = pa_latin_art.where(pa_latin_art.file_downloaded == True).dropna(how='all')\n",
    "stored_latin_art.reset_index(drop = True, inplace=True)"
   ],
   "metadata": {
    "collapsed": false,
    "pycharm": {
     "name": "#%%\n"
    }
   }
  },
  {
   "cell_type": "code",
   "execution_count": 3,
   "outputs": [
    {
     "data": {
      "text/plain": "                                          expanded_url  \\\n0    https://api.nga.gov/iiif/95bc5221-79a1-49e1-b7...   \n1    https://api.nga.gov/iiif/f8a0c85d-7cfa-4e63-ae...   \n2    https://api.nga.gov/iiif/a2bc5dff-08a4-46d5-97...   \n3    https://api.nga.gov/iiif/c73c0136-d48d-4bea-89...   \n4    https://api.nga.gov/iiif/1f1918c9-9d30-4491-a9...   \n..                                                 ...   \n323  https://api.nga.gov/iiif/552e99b7-0bb5-45e1-8b...   \n324  https://api.nga.gov/iiif/83c83210-819e-4c27-8c...   \n325  https://api.nga.gov/iiif/92410def-988a-4866-9c...   \n326  https://api.nga.gov/iiif/fcbe84cb-faa8-471d-b4...   \n327  https://api.nga.gov/iiif/015dcd20-3dda-448f-a5...   \n\n                                                 title     forwarddisplayname  \\\n0                                      Festival Andino        Nemesio Antunez   \n1                                         Chester Dale           Diego Rivera   \n2                                       Compostion XVI                  Matta   \n3                                        Compostion IV                  Matta   \n4                                         Compostion I                  Matta   \n..                                                 ...                    ...   \n323                            Gran Alarma Escandalosa  José Guadalupe Posada   \n324                                           Serafina  José Guadalupe Posada   \n325  La Mujer de Cien Maridos - Como Alfileres Pren...  José Guadalupe Posada   \n326                                        Don Chepito  José Guadalupe Posada   \n327                                 Calavera Maderista  José Guadalupe Posada   \n\n                                                medium           displaydate  \\\n0                                     color lithograph  Chilean, 1918 - 1993   \n1                                        oil on canvas  Mexican, 1886 - 1957   \n2    color etching, soft-ground, and aquatint with ...  Chilean, 1911 - 2002   \n3             color etching, soft-ground, and aquatint  Chilean, 1911 - 2002   \n4    color etching, soft-ground, and aquatint on Ja...  Chilean, 1911 - 2002   \n..                                                 ...                   ...   \n323         metalcut and letterpress on pink newsprint  Mexican, 1851 - 1913   \n324       metalcut and letterpress on yellow newsprint  Mexican, 1851 - 1913   \n325                          metalcut on red newsprint  Mexican, 1851 - 1913   \n326                       relief etching on pink paper  Mexican, 1851 - 1913   \n327                              relief etching (zinc)  Mexican, 1851 - 1913   \n\n     sequence   width  height  maxpixels  depictstmsobjectid  ...  \\\n0         0.0  2963.0  4000.0      640.0             46741.0  ...   \n1         0.0  5297.0  4171.0      640.0             46537.0  ...   \n2         0.0  2926.0  4000.0      640.0             48425.0  ...   \n3         0.0  4000.0  3101.0      640.0             48413.0  ...   \n4         0.0  4000.0  3084.0      640.0             48410.0  ...   \n..        ...     ...     ...        ...                 ...  ...   \n323       0.0  4949.0  7513.0        NaN            152826.0  ...   \n324       0.0  2873.0  4000.0        NaN            152827.0  ...   \n325       0.0  2726.0  4000.0        NaN            152829.0  ...   \n326       0.0  4000.0  3169.0        NaN            163508.0  ...   \n327       0.0  1806.0  4000.0        NaN             30476.0  ...   \n\n                                        provenancetext  \\\n0                                                  NaN   \n1    Commissioned 1945 by Chester Dale [1883-1962],...   \n2                                                  NaN   \n3                                                  NaN   \n4                                                  NaN   \n..                                                 ...   \n323                                                NaN   \n324                                                NaN   \n325                                                NaN   \n326  Beverly and Christopher With, Washington, D.C....   \n327                                                NaN   \n\n                                            creditline  classification  \\\n0                                 Rosenwald Collection           Print   \n1                              Chester Dale Collection        Painting   \n2                                 Rosenwald Collection           Print   \n3                                 Rosenwald Collection           Print   \n4                                 Rosenwald Collection           Print   \n..                                                 ...             ...   \n323  Given by Art Information Volunteers in Honor o...           Print   \n324  Given by Art Information Volunteers in Honor o...           Print   \n325  Given by Art Information Volunteers in Honor o...           Print   \n326  Gift of Christopher and Beverly With in memory...           Print   \n327                               Rosenwald Collection           Print   \n\n     parentid  isvirtual                                       portfolio  \\\n0         NaN        0.0                                             NaN   \n1         NaN        0.0                                             NaN   \n2         NaN        0.0  Suite from \"Come detta dentro vo significando\"   \n3         NaN        0.0  Suite from \"Come detta dentro vo significando\"   \n4         NaN        0.0  Suite from \"Come detta dentro vo significando\"   \n..        ...        ...                                             ...   \n323       NaN        0.0                                             NaN   \n324       NaN        0.0                                             NaN   \n325       NaN        0.0                                             NaN   \n326       NaN        0.0                                             NaN   \n327       NaN        0.0                                             NaN   \n\n                                             series  \\\n0                                               NaN   \n1                                               NaN   \n2    Suite from \"Come detta dentro vo significando\"   \n3    Suite from \"Come detta dentro vo significando\"   \n4    Suite from \"Come detta dentro vo significando\"   \n..                                              ...   \n323                                             NaN   \n324                                             NaN   \n325                                             NaN   \n326                                             NaN   \n327                                             NaN   \n\n                                             file_name     directory  \\\n0                                  Festival_Andino.jpg  ./All_Images   \n1                                     Chester_Dale.jpg  ./All_Images   \n2                                   Compostion_XVI.jpg  ./All_Images   \n3                                    Compostion_IV.jpg  ./All_Images   \n4                                     Compostion_I.jpg  ./All_Images   \n..                                                 ...           ...   \n323                 Gran_Alarma_Escandalosa_Posada.jpg  ./All_Images   \n324                                Serafina_Posada.jpg  ./All_Images   \n325  La_Mujer_de_Cien_Maridos_-_Como_Alfileres_Pren...  ./All_Images   \n326                             Don_Chepito_Posada.jpg  ./All_Images   \n327                      Calavera_Maderista_Posada.jpg  ./All_Images   \n\n     file_downloaded  \n0               True  \n1               True  \n2               True  \n3               True  \n4               True  \n..               ...  \n323             True  \n324             True  \n325             True  \n326             True  \n327             True  \n\n[328 rows x 39 columns]",
      "text/html": "<div>\n<style scoped>\n    .dataframe tbody tr th:only-of-type {\n        vertical-align: middle;\n    }\n\n    .dataframe tbody tr th {\n        vertical-align: top;\n    }\n\n    .dataframe thead th {\n        text-align: right;\n    }\n</style>\n<table border=\"1\" class=\"dataframe\">\n  <thead>\n    <tr style=\"text-align: right;\">\n      <th></th>\n      <th>expanded_url</th>\n      <th>title</th>\n      <th>forwarddisplayname</th>\n      <th>medium</th>\n      <th>displaydate</th>\n      <th>sequence</th>\n      <th>width</th>\n      <th>height</th>\n      <th>maxpixels</th>\n      <th>depictstmsobjectid</th>\n      <th>...</th>\n      <th>provenancetext</th>\n      <th>creditline</th>\n      <th>classification</th>\n      <th>parentid</th>\n      <th>isvirtual</th>\n      <th>portfolio</th>\n      <th>series</th>\n      <th>file_name</th>\n      <th>directory</th>\n      <th>file_downloaded</th>\n    </tr>\n  </thead>\n  <tbody>\n    <tr>\n      <th>0</th>\n      <td>https://api.nga.gov/iiif/95bc5221-79a1-49e1-b7...</td>\n      <td>Festival Andino</td>\n      <td>Nemesio Antunez</td>\n      <td>color lithograph</td>\n      <td>Chilean, 1918 - 1993</td>\n      <td>0.0</td>\n      <td>2963.0</td>\n      <td>4000.0</td>\n      <td>640.0</td>\n      <td>46741.0</td>\n      <td>...</td>\n      <td>NaN</td>\n      <td>Rosenwald Collection</td>\n      <td>Print</td>\n      <td>NaN</td>\n      <td>0.0</td>\n      <td>NaN</td>\n      <td>NaN</td>\n      <td>Festival_Andino.jpg</td>\n      <td>./All_Images</td>\n      <td>True</td>\n    </tr>\n    <tr>\n      <th>1</th>\n      <td>https://api.nga.gov/iiif/f8a0c85d-7cfa-4e63-ae...</td>\n      <td>Chester Dale</td>\n      <td>Diego Rivera</td>\n      <td>oil on canvas</td>\n      <td>Mexican, 1886 - 1957</td>\n      <td>0.0</td>\n      <td>5297.0</td>\n      <td>4171.0</td>\n      <td>640.0</td>\n      <td>46537.0</td>\n      <td>...</td>\n      <td>Commissioned 1945 by Chester Dale [1883-1962],...</td>\n      <td>Chester Dale Collection</td>\n      <td>Painting</td>\n      <td>NaN</td>\n      <td>0.0</td>\n      <td>NaN</td>\n      <td>NaN</td>\n      <td>Chester_Dale.jpg</td>\n      <td>./All_Images</td>\n      <td>True</td>\n    </tr>\n    <tr>\n      <th>2</th>\n      <td>https://api.nga.gov/iiif/a2bc5dff-08a4-46d5-97...</td>\n      <td>Compostion XVI</td>\n      <td>Matta</td>\n      <td>color etching, soft-ground, and aquatint with ...</td>\n      <td>Chilean, 1911 - 2002</td>\n      <td>0.0</td>\n      <td>2926.0</td>\n      <td>4000.0</td>\n      <td>640.0</td>\n      <td>48425.0</td>\n      <td>...</td>\n      <td>NaN</td>\n      <td>Rosenwald Collection</td>\n      <td>Print</td>\n      <td>NaN</td>\n      <td>0.0</td>\n      <td>Suite from \"Come detta dentro vo significando\"</td>\n      <td>Suite from \"Come detta dentro vo significando\"</td>\n      <td>Compostion_XVI.jpg</td>\n      <td>./All_Images</td>\n      <td>True</td>\n    </tr>\n    <tr>\n      <th>3</th>\n      <td>https://api.nga.gov/iiif/c73c0136-d48d-4bea-89...</td>\n      <td>Compostion IV</td>\n      <td>Matta</td>\n      <td>color etching, soft-ground, and aquatint</td>\n      <td>Chilean, 1911 - 2002</td>\n      <td>0.0</td>\n      <td>4000.0</td>\n      <td>3101.0</td>\n      <td>640.0</td>\n      <td>48413.0</td>\n      <td>...</td>\n      <td>NaN</td>\n      <td>Rosenwald Collection</td>\n      <td>Print</td>\n      <td>NaN</td>\n      <td>0.0</td>\n      <td>Suite from \"Come detta dentro vo significando\"</td>\n      <td>Suite from \"Come detta dentro vo significando\"</td>\n      <td>Compostion_IV.jpg</td>\n      <td>./All_Images</td>\n      <td>True</td>\n    </tr>\n    <tr>\n      <th>4</th>\n      <td>https://api.nga.gov/iiif/1f1918c9-9d30-4491-a9...</td>\n      <td>Compostion I</td>\n      <td>Matta</td>\n      <td>color etching, soft-ground, and aquatint on Ja...</td>\n      <td>Chilean, 1911 - 2002</td>\n      <td>0.0</td>\n      <td>4000.0</td>\n      <td>3084.0</td>\n      <td>640.0</td>\n      <td>48410.0</td>\n      <td>...</td>\n      <td>NaN</td>\n      <td>Rosenwald Collection</td>\n      <td>Print</td>\n      <td>NaN</td>\n      <td>0.0</td>\n      <td>Suite from \"Come detta dentro vo significando\"</td>\n      <td>Suite from \"Come detta dentro vo significando\"</td>\n      <td>Compostion_I.jpg</td>\n      <td>./All_Images</td>\n      <td>True</td>\n    </tr>\n    <tr>\n      <th>...</th>\n      <td>...</td>\n      <td>...</td>\n      <td>...</td>\n      <td>...</td>\n      <td>...</td>\n      <td>...</td>\n      <td>...</td>\n      <td>...</td>\n      <td>...</td>\n      <td>...</td>\n      <td>...</td>\n      <td>...</td>\n      <td>...</td>\n      <td>...</td>\n      <td>...</td>\n      <td>...</td>\n      <td>...</td>\n      <td>...</td>\n      <td>...</td>\n      <td>...</td>\n      <td>...</td>\n    </tr>\n    <tr>\n      <th>323</th>\n      <td>https://api.nga.gov/iiif/552e99b7-0bb5-45e1-8b...</td>\n      <td>Gran Alarma Escandalosa</td>\n      <td>José Guadalupe Posada</td>\n      <td>metalcut and letterpress on pink newsprint</td>\n      <td>Mexican, 1851 - 1913</td>\n      <td>0.0</td>\n      <td>4949.0</td>\n      <td>7513.0</td>\n      <td>NaN</td>\n      <td>152826.0</td>\n      <td>...</td>\n      <td>NaN</td>\n      <td>Given by Art Information Volunteers in Honor o...</td>\n      <td>Print</td>\n      <td>NaN</td>\n      <td>0.0</td>\n      <td>NaN</td>\n      <td>NaN</td>\n      <td>Gran_Alarma_Escandalosa_Posada.jpg</td>\n      <td>./All_Images</td>\n      <td>True</td>\n    </tr>\n    <tr>\n      <th>324</th>\n      <td>https://api.nga.gov/iiif/83c83210-819e-4c27-8c...</td>\n      <td>Serafina</td>\n      <td>José Guadalupe Posada</td>\n      <td>metalcut and letterpress on yellow newsprint</td>\n      <td>Mexican, 1851 - 1913</td>\n      <td>0.0</td>\n      <td>2873.0</td>\n      <td>4000.0</td>\n      <td>NaN</td>\n      <td>152827.0</td>\n      <td>...</td>\n      <td>NaN</td>\n      <td>Given by Art Information Volunteers in Honor o...</td>\n      <td>Print</td>\n      <td>NaN</td>\n      <td>0.0</td>\n      <td>NaN</td>\n      <td>NaN</td>\n      <td>Serafina_Posada.jpg</td>\n      <td>./All_Images</td>\n      <td>True</td>\n    </tr>\n    <tr>\n      <th>325</th>\n      <td>https://api.nga.gov/iiif/92410def-988a-4866-9c...</td>\n      <td>La Mujer de Cien Maridos - Como Alfileres Pren...</td>\n      <td>José Guadalupe Posada</td>\n      <td>metalcut on red newsprint</td>\n      <td>Mexican, 1851 - 1913</td>\n      <td>0.0</td>\n      <td>2726.0</td>\n      <td>4000.0</td>\n      <td>NaN</td>\n      <td>152829.0</td>\n      <td>...</td>\n      <td>NaN</td>\n      <td>Given by Art Information Volunteers in Honor o...</td>\n      <td>Print</td>\n      <td>NaN</td>\n      <td>0.0</td>\n      <td>NaN</td>\n      <td>NaN</td>\n      <td>La_Mujer_de_Cien_Maridos_-_Como_Alfileres_Pren...</td>\n      <td>./All_Images</td>\n      <td>True</td>\n    </tr>\n    <tr>\n      <th>326</th>\n      <td>https://api.nga.gov/iiif/fcbe84cb-faa8-471d-b4...</td>\n      <td>Don Chepito</td>\n      <td>José Guadalupe Posada</td>\n      <td>relief etching on pink paper</td>\n      <td>Mexican, 1851 - 1913</td>\n      <td>0.0</td>\n      <td>4000.0</td>\n      <td>3169.0</td>\n      <td>NaN</td>\n      <td>163508.0</td>\n      <td>...</td>\n      <td>Beverly and Christopher With, Washington, D.C....</td>\n      <td>Gift of Christopher and Beverly With in memory...</td>\n      <td>Print</td>\n      <td>NaN</td>\n      <td>0.0</td>\n      <td>NaN</td>\n      <td>NaN</td>\n      <td>Don_Chepito_Posada.jpg</td>\n      <td>./All_Images</td>\n      <td>True</td>\n    </tr>\n    <tr>\n      <th>327</th>\n      <td>https://api.nga.gov/iiif/015dcd20-3dda-448f-a5...</td>\n      <td>Calavera Maderista</td>\n      <td>José Guadalupe Posada</td>\n      <td>relief etching (zinc)</td>\n      <td>Mexican, 1851 - 1913</td>\n      <td>0.0</td>\n      <td>1806.0</td>\n      <td>4000.0</td>\n      <td>NaN</td>\n      <td>30476.0</td>\n      <td>...</td>\n      <td>NaN</td>\n      <td>Rosenwald Collection</td>\n      <td>Print</td>\n      <td>NaN</td>\n      <td>0.0</td>\n      <td>NaN</td>\n      <td>NaN</td>\n      <td>Calavera_Maderista_Posada.jpg</td>\n      <td>./All_Images</td>\n      <td>True</td>\n    </tr>\n  </tbody>\n</table>\n<p>328 rows × 39 columns</p>\n</div>"
     },
     "execution_count": 3,
     "metadata": {},
     "output_type": "execute_result"
    }
   ],
   "source": [
    "stored_latin_art"
   ],
   "metadata": {
    "collapsed": false,
    "pycharm": {
     "name": "#%%\n"
    }
   }
  },
  {
   "cell_type": "markdown",
   "source": [
    "### Feature Engineering"
   ],
   "metadata": {
    "collapsed": false,
    "pycharm": {
     "name": "#%% md\n"
    }
   }
  },
  {
   "cell_type": "code",
   "execution_count": 4,
   "outputs": [],
   "source": [
    "### Looking for text-heavy features in the data that give insight into the context of the image"
   ],
   "metadata": {
    "collapsed": false,
    "pycharm": {
     "name": "#%%\n"
    }
   }
  },
  {
   "cell_type": "code",
   "execution_count": 5,
   "outputs": [],
   "source": [
    "text_dict = {}\n",
    "for entry in stored_latin_art.title:\n",
    "    entry_words = entry.split(' ')\n",
    "    for word in entry_words:\n",
    "        word = word.strip(')([],\\./')\n",
    "        word = word.lower()\n",
    "        if word in text_dict.keys():\n",
    "            text_dict[word] += 1\n",
    "        else:\n",
    "            text_dict[word] = 1"
   ],
   "metadata": {
    "collapsed": false,
    "pycharm": {
     "name": "#%%\n"
    }
   }
  },
  {
   "cell_type": "code",
   "execution_count": 6,
   "outputs": [],
   "source": [
    "title_occurrences = pd.Series(text_dict).sort_values(ascending=False)"
   ],
   "metadata": {
    "collapsed": false,
    "pycharm": {
     "name": "#%%\n"
    }
   }
  },
  {
   "cell_type": "code",
   "execution_count": 7,
   "outputs": [
    {
     "data": {
      "text/plain": "untitled     46\nthe          46\nof           33\ngarden       28\nla           20\n             ..\ngraceful      1\ngay           1\nsomewhat      1\ngraciosa      1\nmaderista     1\nLength: 536, dtype: int64"
     },
     "execution_count": 7,
     "metadata": {},
     "output_type": "execute_result"
    }
   ],
   "source": [
    "title_occurrences"
   ],
   "metadata": {
    "collapsed": false,
    "pycharm": {
     "name": "#%%\n"
    }
   }
  },
  {
   "cell_type": "code",
   "execution_count": 8,
   "outputs": [],
   "source": [
    "import torch\n",
    "import torch.nn.functional as fun"
   ],
   "metadata": {
    "collapsed": false,
    "pycharm": {
     "name": "#%%\n"
    }
   }
  },
  {
   "cell_type": "code",
   "execution_count": 9,
   "outputs": [],
   "source": [
    "titles = stored_latin_art.title.copy()"
   ],
   "metadata": {
    "collapsed": false,
    "pycharm": {
     "name": "#%%\n"
    }
   }
  },
  {
   "cell_type": "code",
   "execution_count": 10,
   "outputs": [],
   "source": [
    "import re\n",
    "def clean_words(text):\n",
    "    def strip(string):\n",
    "        return re.sub('(?:^[{\\W}]+)|(?:[{\\W}]+$)', '', string)\n",
    "    text_arr = text.split(' ')\n",
    "    words = []\n",
    "    for word in text_arr:\n",
    "        edited = strip(word)\n",
    "        words.append(edited.lower())\n",
    "    return ' '.join(words)"
   ],
   "metadata": {
    "collapsed": false,
    "pycharm": {
     "name": "#%%\n"
    }
   }
  },
  {
   "cell_type": "code",
   "execution_count": 11,
   "outputs": [],
   "source": [
    "#cleaning and formatting the data to give uniformity and clarity\n",
    "titles = titles.apply(clean_words)"
   ],
   "metadata": {
    "collapsed": false,
    "pycharm": {
     "name": "#%%\n"
    }
   }
  },
  {
   "cell_type": "code",
   "execution_count": 12,
   "outputs": [],
   "source": [
    "from typing import Union, Iterable\n",
    "import torchtext\n",
    "from torchtext.data.utils import get_tokenizer\n",
    "from torchtext.vocab import build_vocab_from_iterator\n",
    "\n",
    "tokenizer = get_tokenizer(\"basic_english\")\n",
    "def yield_tokens(data_iter):\n",
    "    for _, text in data_iter:\n",
    "        yield tokenizer(text)"
   ],
   "metadata": {
    "collapsed": false,
    "pycharm": {
     "name": "#%%\n"
    }
   }
  },
  {
   "cell_type": "code",
   "execution_count": 13,
   "outputs": [],
   "source": [
    "train_text = iter(zip(titles.index, titles))"
   ],
   "metadata": {
    "collapsed": false,
    "pycharm": {
     "name": "#%%\n"
    }
   }
  },
  {
   "cell_type": "code",
   "execution_count": 16,
   "outputs": [],
   "source": [
    "titles.to_csv('titles.csv', index = False)"
   ],
   "metadata": {
    "collapsed": false,
    "pycharm": {
     "name": "#%%\n"
    }
   }
  },
  {
   "cell_type": "code",
   "execution_count": 14,
   "outputs": [
    {
     "name": "stderr",
     "output_type": "stream",
     "text": [
      "328lines [00:00, 88676.79lines/s]\n"
     ]
    }
   ],
   "source": [
    "voc = build_vocab_from_iterator(yield_tokens(train_text))"
   ],
   "metadata": {
    "collapsed": false,
    "pycharm": {
     "name": "#%%\n"
    }
   }
  }
 ],
 "metadata": {
  "kernelspec": {
   "display_name": "Python 3",
   "language": "python",
   "name": "python3"
  },
  "language_info": {
   "codemirror_mode": {
    "name": "ipython",
    "version": 2
   },
   "file_extension": ".py",
   "mimetype": "text/x-python",
   "name": "python",
   "nbconvert_exporter": "python",
   "pygments_lexer": "ipython2",
   "version": "2.7.6"
  }
 },
 "nbformat": 4,
 "nbformat_minor": 0
}