{
 "cells": [
  {
   "cell_type": "code",
   "execution_count": 1,
   "outputs": [],
   "source": [
    "import pandas as pd"
   ],
   "metadata": {
    "collapsed": false,
    "pycharm": {
     "name": "#%%\n"
    }
   }
  },
  {
   "cell_type": "markdown",
   "source": [
    "### Importing the Data (as URL taken from NGA database)"
   ],
   "metadata": {
    "collapsed": false,
    "pycharm": {
     "name": "#%% md\n"
    }
   }
  },
  {
   "cell_type": "code",
   "execution_count": 2,
   "outputs": [],
   "source": [
    "#pa_latin_art = pd.read_csv('./data_samples/pa_latin_art.csv')"
   ],
   "metadata": {
    "collapsed": false,
    "pycharm": {
     "name": "#%%\n"
    }
   }
  },
  {
   "cell_type": "code",
   "execution_count": 3,
   "outputs": [],
   "source": [
    "#pa_latin_art.drop(columns=['created', 'modified', 'iiifthumburl', 'iiifurl', 'artistofngaobject', 'beginyear', 'endyear', 'visualbrowsertimespan', 'visualbrowsernationality', 'Demonym', 'visualbrowserclassification', 'visualbrowsertimespan.1', 'displaydate.1', 'beginyear.1', 'endyear.1', 'objectid.1', 'volume', 'watermarks', 'subclassification', 'accessionnum', 'customprinturl', 'lastdetectedmodification'], inplace=True)"
   ],
   "metadata": {
    "collapsed": false,
    "pycharm": {
     "name": "#%%\n"
    }
   }
  },
  {
   "cell_type": "code",
   "execution_count": 4,
   "outputs": [],
   "source": [
    "#pa_latin_art = pa_latin_art[['expanded_url', 'title','forwarddisplayname', 'medium', 'displaydate', 'viewtype', 'sequence', 'width', 'height','maxpixels',\n",
    "                             #'depictstmsobjectid', 'assistivetext', 'objectid', 'displayorder',\n",
    "                             #'roletype', 'role', 'constituentid', 'ulanid', 'preferreddisplayname', 'lastname', 'nationality',\n",
    "                             #'constituenttype', 'Percent_in_NGA', 'Country', 'Continent',\n",
    "                             #'Country Name', 'accessioned', 'locationid',\n",
    "                             #'dimensions', 'inscription', 'markings', 'attributioninverted',\n",
    "                             #'attribution', 'provenancetext', 'creditline', 'classification',\n",
    "                             #'parentid', 'isvirtual', 'departmentabbr', 'portfolio', 'series']]"
   ],
   "metadata": {
    "collapsed": false,
    "pycharm": {
     "name": "#%%\n"
    }
   }
  },
  {
   "cell_type": "code",
   "execution_count": 5,
   "outputs": [],
   "source": [
    "#pa_latin_art"
   ],
   "metadata": {
    "collapsed": false,
    "pycharm": {
     "name": "#%%\n"
    }
   }
  },
  {
   "cell_type": "markdown",
   "source": [
    "### Scraping Images from Open Source NGA Database"
   ],
   "metadata": {
    "collapsed": false,
    "pycharm": {
     "name": "#%% md\n"
    }
   }
  },
  {
   "cell_type": "code",
   "execution_count": 6,
   "outputs": [],
   "source": [
    "#import shutil\n",
    "#import requests\n",
    "#def download_image(url, file_name, headers):\n",
    "#    response = requests.get(url, headers=headers)\n",
    "#    if response.status_code == 200:\n",
    "#        with open(file_name, \"wb\") as f:\n",
    "#            f.write(response.content)\n",
    "#        shutil.move(file_name,'./All_Images/' + file_name)\n",
    "#    else:\n",
    "#        print(response.status_code)"
   ],
   "metadata": {
    "collapsed": false,
    "pycharm": {
     "name": "#%%\n"
    }
   }
  },
  {
   "cell_type": "code",
   "execution_count": 7,
   "outputs": [],
   "source": [
    " # Define HTTP Headers\n",
    "#headers = {\n",
    "#    \"User-Agent\": \"Chrome/51.0.2704.103\",\n",
    "#}\n",
    "#import time\n",
    "#for i in range(197, len(pa_latin_art)):\n",
    "#    #Define URL of an image\n",
    "#    url = pa_latin_art.expanded_url[i]\n",
    "#    # Define image file name\n",
    "#    file_name = str.replace(str.replace(pa_latin_art.title[i], ' ', '_'), '/', '&') + '_' + str.replace(pa_latin_art.lastname[i], ' ', '_') + '.jpg'\n",
    "#    # Download image\n",
    "#    #timer delay (15 seconds)\n",
    "#    time.sleep(15)\n",
    "#    download_image(url, file_name, headers)"
   ],
   "metadata": {
    "collapsed": false,
    "pycharm": {
     "name": "#%%\n"
    }
   }
  },
  {
   "cell_type": "code",
   "execution_count": 8,
   "outputs": [],
   "source": [
    "#pa_latin_art['file_name'] = pd.concat([pa_latin_art[:197].title.apply(lambda x: x.replace(' ', '_') + '.jpg'), pa_latin_art[197:].title.apply(lambda x: x.replace(' ', '_').replace('/', '&')) + '_' + pa_latin_art[197:].lastname.apply(lambda x: x + '.jpg')])"
   ],
   "metadata": {
    "collapsed": false,
    "pycharm": {
     "name": "#%%\n"
    }
   }
  },
  {
   "cell_type": "code",
   "execution_count": 9,
   "outputs": [],
   "source": [
    "#pa_latin_art.to_csv('./data_samples/pa_latin_art.csv', index=False)"
   ],
   "metadata": {
    "collapsed": false,
    "pycharm": {
     "name": "#%%\n"
    }
   }
  },
  {
   "cell_type": "markdown",
   "source": [
    "### Verifying File Names Correspond to the Dataset (Some Images Unable to be Downloaded)"
   ],
   "metadata": {
    "collapsed": false,
    "pycharm": {
     "name": "#%% md\n"
    }
   }
  },
  {
   "cell_type": "code",
   "execution_count": 10,
   "outputs": [],
   "source": [
    "#pa_latin_art.drop(columns=['departmentabbr', 'locationid', 'role', 'roletype', 'viewtype'], inplace=True)\n",
    "#pa_latin_art['directory'] = ['./All_Images'] * len(pa_latin_art)\n",
    "#pa_latin_art.to_csv('./data_samples/pa_latin_art.csv', index=False)"
   ],
   "metadata": {
    "collapsed": false,
    "pycharm": {
     "name": "#%%\n"
    }
   }
  },
  {
   "cell_type": "code",
   "execution_count": 11,
   "outputs": [],
   "source": [
    "pa_latin_art = pd.read_csv('../data_samples/pa_latin_art.csv')"
   ],
   "metadata": {
    "collapsed": false,
    "pycharm": {
     "name": "#%%\n"
    }
   }
  },
  {
   "cell_type": "code",
   "execution_count": 12,
   "outputs": [],
   "source": [
    "#checking that the filepath / naming conventions I used are consistent\n",
    "#from os.path import exists\n",
    "#file_exists = []\n",
    "#for i in range(len(pa_latin_art)):\n",
    "#    directory = pa_latin_art.directory[i]\n",
    "#    filename = pa_latin_art.file_name[i]\n",
    "#    full = directory + '/' + filename\n",
    "#    file_exists.append(exists(full))"
   ],
   "metadata": {
    "collapsed": false,
    "pycharm": {
     "name": "#%%\n"
    }
   }
  },
  {
   "cell_type": "code",
   "execution_count": 13,
   "outputs": [],
   "source": [
    "#pa_latin_art['file_downloaded'] = file_exists"
   ],
   "metadata": {
    "collapsed": false,
    "pycharm": {
     "name": "#%%\n"
    }
   }
  },
  {
   "cell_type": "code",
   "execution_count": 14,
   "outputs": [],
   "source": [
    "#pa_latin_art.to_csv('./data_samples/pa_latin_art.csv', index=False)"
   ],
   "metadata": {
    "collapsed": false,
    "pycharm": {
     "name": "#%%\n"
    }
   }
  },
  {
   "cell_type": "code",
   "execution_count": 15,
   "outputs": [],
   "source": [
    "stored_latin_art = pa_latin_art.where(pa_latin_art.file_downloaded == True).dropna(how='all')\n",
    "stored_latin_art.reset_index(drop = True, inplace=True)"
   ],
   "metadata": {
    "collapsed": false,
    "pycharm": {
     "name": "#%%\n"
    }
   }
  },
  {
   "cell_type": "markdown",
   "source": [
    "### Using Pre-Trained ResNet Classification Model for Initial Insights"
   ],
   "metadata": {
    "collapsed": false,
    "pycharm": {
     "name": "#%% md\n"
    }
   }
  },
  {
   "cell_type": "code",
   "execution_count": 17,
   "outputs": [],
   "source": [
    "#from torchvision.models import resnet50, ResNet50_Weights\n",
    "#from PIL import Image"
   ],
   "metadata": {
    "collapsed": false,
    "pycharm": {
     "name": "#%%\n"
    }
   }
  },
  {
   "cell_type": "code",
   "execution_count": 18,
   "outputs": [],
   "source": [
    "#Step 1: Creating the Model\n",
    "#weights = ResNet50_Weights.DEFAULT\n",
    "#model = resnet50(weights=weights)\n",
    "#model.eval()\n",
    "##Step 2: Preprocessing Step for Inference (transforming the images)\n",
    "#preprocess = weights.transforms()"
   ],
   "metadata": {
    "collapsed": false,
    "pycharm": {
     "name": "#%%\n"
    }
   }
  },
  {
   "cell_type": "code",
   "execution_count": 19,
   "outputs": [],
   "source": [
    "##Step 3: Apply previous step to all Images (To speed up the process, could use a dataloader to feed the images)\n",
    "#ResNet50_Accuracy = []\n",
    "#ResNet50_Prediction = []\n",
    "#for i in range(len(stored_latin_art)):\n",
    "#    img = Image.open(stored_latin_art.directory[i] + '/' + stored_latin_art.file_name[i])\n",
    "#    batch = preprocess(img).unsqueeze(0)\n",
    "#    prediction = model(batch).squeeze(0).softmax(0)\n",
    "#    # Step 4: Use the model and print the predicted category\n",
    "#    class_id = prediction.argmax().item()\n",
    "#    score = prediction[class_id].item()\n",
    "#    category_name = weights.meta[\"categories\"][class_id]\n",
    "#    ResNet50_Accuracy.append(100 * score)\n",
    "#    ResNet50_Prediction.append(category_name)"
   ],
   "metadata": {
    "collapsed": false,
    "pycharm": {
     "name": "#%%\n"
    }
   }
  },
  {
   "cell_type": "code",
   "execution_count": 20,
   "outputs": [],
   "source": [
    "#predictions = pd.DataFrame({'Image Accuracy - ResNet V2 (%)': ResNet50_Accuracy, 'Image Prediction - ResNet V2': ResNet50_Prediction})"
   ],
   "metadata": {
    "collapsed": false,
    "pycharm": {
     "name": "#%%\n"
    }
   }
  },
  {
   "cell_type": "code",
   "execution_count": 21,
   "outputs": [],
   "source": [
    "#predictions = pd.concat([predictions, stored_latin_art.loc[:, ['title', 'forwarddisplayname']]], axis = 1)"
   ],
   "metadata": {
    "collapsed": false,
    "pycharm": {
     "name": "#%%\n"
    }
   }
  },
  {
   "cell_type": "code",
   "execution_count": 22,
   "outputs": [],
   "source": [
    "#predictions.sort_values(by='Image Accuracy - ResNet V2 (%)', ascending=False)"
   ],
   "metadata": {
    "collapsed": false,
    "pycharm": {
     "name": "#%%\n"
    }
   }
  },
  {
   "cell_type": "code",
   "execution_count": 23,
   "outputs": [],
   "source": [
    "#predictions.to_csv('./data_samples/results/image_predictions_resnetv2.csv', index=False)"
   ],
   "metadata": {
    "collapsed": false,
    "pycharm": {
     "name": "#%%\n"
    }
   }
  },
  {
   "cell_type": "code",
   "execution_count": 24,
   "outputs": [],
   "source": [
    "predictions = pd.read_csv('../data_samples/results/image_predictions_resnetv2.csv')"
   ],
   "metadata": {
    "collapsed": false,
    "pycharm": {
     "name": "#%%\n"
    }
   }
  },
  {
   "cell_type": "code",
   "execution_count": 25,
   "outputs": [
    {
     "data": {
      "text/plain": "count    328.000000\nmean      16.238882\nstd       11.398615\nmin        2.167588\n25%        7.772030\n50%       13.693587\n75%       19.781394\nmax       60.189790\nName: Image Accuracy - ResNet V2 (%), dtype: float64"
     },
     "execution_count": 25,
     "metadata": {},
     "output_type": "execute_result"
    }
   ],
   "source": [
    "predictions.loc[:, 'Image Accuracy - ResNet V2 (%)'].describe()"
   ],
   "metadata": {
    "collapsed": false,
    "pycharm": {
     "name": "#%%\n"
    }
   }
  },
  {
   "cell_type": "code",
   "execution_count": 26,
   "outputs": [],
   "source": [
    "import numpy as np"
   ],
   "metadata": {
    "collapsed": false,
    "pycharm": {
     "name": "#%%\n"
    }
   }
  },
  {
   "cell_type": "code",
   "execution_count": 27,
   "outputs": [
    {
     "data": {
      "text/plain": "13.693586736917496"
     },
     "execution_count": 27,
     "metadata": {},
     "output_type": "execute_result"
    }
   ],
   "source": [
    "np.median(predictions.loc[:, 'Image Accuracy - ResNet V2 (%)'])"
   ],
   "metadata": {
    "collapsed": false,
    "pycharm": {
     "name": "#%%\n"
    }
   }
  },
  {
   "cell_type": "markdown",
   "source": [
    "## Outcome\n",
    "Given the description above of the predictions using ResNet (A state of the art image classification algorithm) many of the objects which it predicted as belonging to the image have a very low score / accuracy. 50% of all the predictions have an accuracy in the range of ~8% to ~20%. 25% belong to the larger range of 20% to 60%, and the last 25% in the smaller and much worse range of ~2% to ~8%. This shows me that the predictions' distributions are shifted to the left and is tapered/skewed to the right-tail thus it is positively skewed and the mean>median, showing that larger scores are outliers.\n",
    "\n",
    "I think the reason the model is doing badly in its classification of an image / object, is because artwork contains many elements at times and is abstract so introducing noise to models which are trained on real-world photographs. To make better predictions, I will need to train my own model on the artwork, and extract labels from the dataset which give insight into the semantic meaning of the art itself. The labels will have to be general enough to have many pieces and training observations to make better predictions. Furthermore, I may need to lower the amount of classes used to maintain the size of the art data within each class. Furthermore, I may need to train the model on the entire NGA dataset, then perform classification on this smaller dataset to increase the size during the training phase."
   ],
   "metadata": {
    "collapsed": false,
    "pycharm": {
     "name": "#%% md\n"
    }
   }
  },
  {
   "cell_type": "code",
   "execution_count": 27,
   "outputs": [],
   "source": [],
   "metadata": {
    "collapsed": false,
    "pycharm": {
     "name": "#%%\n"
    }
   }
  }
 ],
 "metadata": {
  "kernelspec": {
   "display_name": "Python 3",
   "language": "python",
   "name": "python3"
  },
  "language_info": {
   "codemirror_mode": {
    "name": "ipython",
    "version": 2
   },
   "file_extension": ".py",
   "mimetype": "text/x-python",
   "name": "python",
   "nbconvert_exporter": "python",
   "pygments_lexer": "ipython2",
   "version": "2.7.6"
  }
 },
 "nbformat": 4,
 "nbformat_minor": 0
}