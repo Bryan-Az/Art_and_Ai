{
 "cells": [
  {
   "cell_type": "code",
   "execution_count": 43,
   "outputs": [],
   "source": [
    "import numpy as np\n",
    "import pandas as pd\n",
    "from IPython.display import display, HTML"
   ],
   "metadata": {
    "collapsed": false,
    "pycharm": {
     "name": "#%%\n"
    }
   }
  },
  {
   "cell_type": "code",
   "execution_count": 2,
   "outputs": [],
   "source": [
    "pa_latin_art = pd.read_csv('../data_samples/pa_latin_art.csv')\n",
    "stored_latin_art = pa_latin_art.where(pa_latin_art.file_downloaded == True).dropna(how='all')\n",
    "stored_latin_art.reset_index(drop = True, inplace=True)"
   ],
   "metadata": {
    "collapsed": false,
    "pycharm": {
     "name": "#%%\n"
    }
   }
  },
  {
   "cell_type": "markdown",
   "source": [
    "## Exploratory Data Analysis"
   ],
   "metadata": {
    "collapsed": false,
    "pycharm": {
     "name": "#%% md\n"
    }
   }
  },
  {
   "cell_type": "markdown",
   "source": [
    "### Amount of NA/Null Values per Feature in the Dataset"
   ],
   "metadata": {
    "collapsed": false,
    "pycharm": {
     "name": "#%% md\n"
    }
   }
  },
  {
   "cell_type": "code",
   "execution_count": 45,
   "outputs": [],
   "source": [
    "num_nulls = pd.isna(stored_latin_art)"
   ],
   "metadata": {
    "collapsed": false,
    "pycharm": {
     "name": "#%%\n"
    }
   }
  },
  {
   "cell_type": "code",
   "execution_count": 56,
   "outputs": [],
   "source": [
    "num_nulls = num_nulls.sum() / len(num_nulls)"
   ],
   "metadata": {
    "collapsed": false,
    "pycharm": {
     "name": "#%%\n"
    }
   }
  },
  {
   "cell_type": "code",
   "execution_count": 61,
   "outputs": [],
   "source": [
    "num_nulls = num_nulls.sort_values(ascending=False).where(num_nulls > 0).dropna()"
   ],
   "metadata": {
    "collapsed": false,
    "pycharm": {
     "name": "#%%\n"
    }
   }
  },
  {
   "cell_type": "code",
   "execution_count": 62,
   "outputs": [
    {
     "data": {
      "text/plain": "assistivetext     1.000000\nmarkings          0.756098\nparentid          0.737805\nseries            0.682927\nportfolio         0.539634\nprovenancetext    0.506098\ninscription       0.500000\ndimensions        0.307927\nulanid            0.201220\nmaxpixels         0.152439\nlastname          0.009146\ndtype: float64"
     },
     "execution_count": 62,
     "metadata": {},
     "output_type": "execute_result"
    }
   ],
   "source": [
    "num_nulls"
   ],
   "metadata": {
    "collapsed": false,
    "pycharm": {
     "name": "#%%\n"
    }
   }
  },
  {
   "cell_type": "markdown",
   "source": [
    "### Number of Artworks in Dataset by Individual Artists, Distribution of Works by Artists in Dataset"
   ],
   "metadata": {
    "collapsed": false,
    "pycharm": {
     "name": "#%% md\n"
    }
   }
  },
  {
   "cell_type": "code",
   "execution_count": 3,
   "outputs": [],
   "source": [
    "works_by_artist = stored_latin_art.groupby('preferreddisplayname').apply(len)"
   ],
   "metadata": {
    "collapsed": false,
    "pycharm": {
     "name": "#%%\n"
    }
   }
  },
  {
   "cell_type": "code",
   "execution_count": 4,
   "outputs": [
    {
     "data": {
      "text/plain": "preferreddisplayname\nMéndez, Leopoldo         28\nAbularach, Rodolfo       22\nIturbide, Graciela       21\nMatta                    18\nÁlvarez Bravo, Manuel    17\n                         ..\nLam, Wifredo              1\nLarez, Francisco          1\nAnguiano, Raúl            1\nMeinel, Javier Silva      1\nLovera, Héctor Rondón     1\nLength: 68, dtype: int64"
     },
     "metadata": {},
     "output_type": "display_data"
    },
    {
     "data": {
      "text/plain": "count    68.000000\nmean      4.823529\nstd       5.992386\nmin       1.000000\n25%       1.000000\n50%       2.000000\n75%       6.000000\nmax      28.000000\ndtype: float64"
     },
     "metadata": {},
     "output_type": "display_data"
    }
   ],
   "source": [
    "display(works_by_artist.sort_values(ascending=False))\n",
    "display(works_by_artist.describe())"
   ],
   "metadata": {
    "collapsed": false,
    "pycharm": {
     "name": "#%%\n"
    }
   }
  },
  {
   "cell_type": "markdown",
   "source": [
    "## Feature Engineering"
   ],
   "metadata": {
    "collapsed": false,
    "pycharm": {
     "name": "#%% md\n"
    }
   }
  },
  {
   "cell_type": "markdown",
   "source": [
    "### Converting titles from Spanish to English to match preloaded english classification model"
   ],
   "metadata": {
    "collapsed": false,
    "pycharm": {
     "name": "#%% md\n"
    }
   }
  },
  {
   "cell_type": "code",
   "execution_count": 6,
   "outputs": [],
   "source": [
    "english_titles = pd.read_csv('en_titles.csv')\n",
    "english_titles.drop('Unnamed: 0', axis=1, inplace=True)"
   ],
   "metadata": {
    "collapsed": false,
    "pycharm": {
     "name": "#%%\n"
    }
   }
  },
  {
   "cell_type": "code",
   "execution_count": 7,
   "outputs": [],
   "source": [
    "stored_latin_art['en_translation'] = english_titles"
   ],
   "metadata": {
    "collapsed": false,
    "pycharm": {
     "name": "#%%\n"
    }
   }
  },
  {
   "cell_type": "code",
   "execution_count": 9,
   "outputs": [],
   "source": [
    "text_dict = {}\n",
    "for entry in stored_latin_art.en_translation:\n",
    "    entry_words = entry.split(' ')\n",
    "    for word in entry_words:\n",
    "        word = word.strip(')([],\\./')\n",
    "        word = word.lower()\n",
    "        if word in text_dict.keys():\n",
    "            text_dict[word] += 1\n",
    "        else:\n",
    "            text_dict[word] = 1"
   ],
   "metadata": {
    "collapsed": false,
    "pycharm": {
     "name": "#%%\n"
    }
   }
  },
  {
   "cell_type": "code",
   "execution_count": 10,
   "outputs": [],
   "source": [
    "title_occurrences = pd.Series(text_dict).sort_values(ascending=False)"
   ],
   "metadata": {
    "collapsed": false,
    "pycharm": {
     "name": "#%%\n"
    }
   }
  },
  {
   "cell_type": "code",
   "execution_count": 11,
   "outputs": [
    {
     "data": {
      "text/plain": "Index(['the', 'untitled', 'of', 'garden', 'a', 'in', 'woman', 'fontamara',\n       'city', 'and',\n       ...\n       'have', 'photographs', 'blondes', 'world', 'third', 'desolation',\n       'bravo', 'álvarez', 'manuel', 'maderista'],\n      dtype='object', length=449)"
     },
     "execution_count": 11,
     "metadata": {},
     "output_type": "execute_result"
    }
   ],
   "source": [
    "title_occurrences.index"
   ],
   "metadata": {
    "collapsed": false,
    "pycharm": {
     "name": "#%%\n"
    }
   }
  },
  {
   "cell_type": "code",
   "execution_count": 12,
   "outputs": [],
   "source": [
    "import torch\n",
    "import torch.nn.functional as fun\n",
    "from sklearn.feature_extraction.text import CountVectorizer"
   ],
   "metadata": {
    "collapsed": false,
    "pycharm": {
     "name": "#%%\n"
    }
   }
  },
  {
   "cell_type": "code",
   "execution_count": 13,
   "outputs": [],
   "source": [
    "en_titles = stored_latin_art.en_translation.copy()"
   ],
   "metadata": {
    "collapsed": false,
    "pycharm": {
     "name": "#%%\n"
    }
   }
  },
  {
   "cell_type": "code",
   "execution_count": 14,
   "outputs": [],
   "source": [
    "import re\n",
    "def clean_words(text):\n",
    "    def strip(string):\n",
    "        return re.sub('(?:^[{\\W}]+)|(?:[{\\W}]+$)', '', string)\n",
    "    text_arr = text.split(' ')\n",
    "    words = []\n",
    "    for word in text_arr:\n",
    "        edited = strip(word)\n",
    "        words.append(edited.lower())\n",
    "    return ' '.join(words)"
   ],
   "metadata": {
    "collapsed": false,
    "pycharm": {
     "name": "#%%\n"
    }
   }
  },
  {
   "cell_type": "code",
   "execution_count": 15,
   "outputs": [],
   "source": [
    "#cleaning and formatting the data to give uniformity and clarity\n",
    "en_titles = en_titles.apply(clean_words)"
   ],
   "metadata": {
    "collapsed": false,
    "pycharm": {
     "name": "#%%\n"
    }
   }
  },
  {
   "cell_type": "markdown",
   "source": [
    "### Converting text into tokens and making one-hot for word generalization across titles, medium, country origin, and artist name"
   ],
   "metadata": {
    "collapsed": false,
    "pycharm": {
     "name": "#%% md\n"
    }
   }
  },
  {
   "cell_type": "code",
   "execution_count": 16,
   "outputs": [],
   "source": [
    "one_hot_vectorizer = CountVectorizer(binary=True)\n",
    "one_hot = one_hot_vectorizer.fit_transform(en_titles)"
   ],
   "metadata": {
    "collapsed": false,
    "pycharm": {
     "name": "#%%\n"
    }
   }
  },
  {
   "cell_type": "code",
   "execution_count": 17,
   "outputs": [
    {
     "name": "stderr",
     "output_type": "stream",
     "text": [
      "/Users/mocha/opt/anaconda3/lib/python3.7/site-packages/sklearn/utils/deprecation.py:87: FutureWarning: Function get_feature_names is deprecated; get_feature_names is deprecated in 1.0 and will be removed in 1.2. Please use get_feature_names_out instead.\n",
      "  warnings.warn(msg, category=FutureWarning)\n"
     ]
    }
   ],
   "source": [
    "title_oh = pd.DataFrame(one_hot.toarray().tolist(), columns=one_hot_vectorizer.get_feature_names_out())"
   ],
   "metadata": {
    "collapsed": false,
    "pycharm": {
     "name": "#%%\n"
    }
   }
  },
  {
   "cell_type": "code",
   "execution_count": 65,
   "outputs": [],
   "source": [
    "one_hot = one_hot_vectorizer.fit_transform(stored_latin_art.medium)\n",
    "medium_oh = pd.DataFrame(one_hot.toarray().tolist(), columns = one_hot_vectorizer.get_feature_names_out())"
   ],
   "metadata": {
    "collapsed": false,
    "pycharm": {
     "name": "#%%\n"
    }
   }
  },
  {
   "cell_type": "code",
   "execution_count": 68,
   "outputs": [],
   "source": [
    "one_hot = one_hot_vectorizer.fit_transform(stored_latin_art['Country Name'])\n",
    "country_oh = pd.DataFrame(one_hot.toarray().tolist(), columns = one_hot_vectorizer.get_feature_names_out())"
   ],
   "metadata": {
    "collapsed": false,
    "pycharm": {
     "name": "#%%\n"
    }
   }
  },
  {
   "cell_type": "code",
   "execution_count": 70,
   "outputs": [],
   "source": [
    "one_hot = one_hot_vectorizer.fit_transform(stored_latin_art['preferreddisplayname'])\n",
    "artist_oh = pd.DataFrame(one_hot.toarray().tolist(), columns = one_hot_vectorizer.get_feature_names_out())"
   ],
   "metadata": {
    "collapsed": false,
    "pycharm": {
     "name": "#%%\n"
    }
   }
  },
  {
   "cell_type": "code",
   "execution_count": 78,
   "outputs": [],
   "source": [
    "oh_collection = pd.concat([title_oh, medium_oh, artist_oh, country_oh], axis=1)"
   ],
   "metadata": {
    "collapsed": false,
    "pycharm": {
     "name": "#%%\n"
    }
   }
  },
  {
   "cell_type": "code",
   "execution_count": 79,
   "outputs": [
    {
     "data": {
      "text/plain": "   17  1962  1972  1977  20  25  5x  abstraction  accident  aid  ...  \\\n0   0     0     0     0   0   0   0            0         0    0  ...   \n1   0     0     0     0   0   0   0            0         0    0  ...   \n2   0     0     0     0   0   0   0            0         0    0  ...   \n3   0     0     0     0   0   0   0            0         0    0  ...   \n4   0     0     0     0   0   0   0            0         0    0  ...   \n\n   colombia  cuba  guatemala  mexico  nicaragua  of  peru  republic  uruguay  \\\n0         0     0          0       0          0   0     0         0        0   \n1         0     0          0       1          0   0     0         0        0   \n2         0     0          0       0          0   0     0         0        0   \n3         0     0          0       0          0   0     0         0        0   \n4         0     0          0       0          0   0     0         0        0   \n\n   venezuela  \n0          0  \n1          0  \n2          0  \n3          0  \n4          0  \n\n[5 rows x 727 columns]",
      "text/html": "<div>\n<style scoped>\n    .dataframe tbody tr th:only-of-type {\n        vertical-align: middle;\n    }\n\n    .dataframe tbody tr th {\n        vertical-align: top;\n    }\n\n    .dataframe thead th {\n        text-align: right;\n    }\n</style>\n<table border=\"1\" class=\"dataframe\">\n  <thead>\n    <tr style=\"text-align: right;\">\n      <th></th>\n      <th>17</th>\n      <th>1962</th>\n      <th>1972</th>\n      <th>1977</th>\n      <th>20</th>\n      <th>25</th>\n      <th>5x</th>\n      <th>abstraction</th>\n      <th>accident</th>\n      <th>aid</th>\n      <th>...</th>\n      <th>colombia</th>\n      <th>cuba</th>\n      <th>guatemala</th>\n      <th>mexico</th>\n      <th>nicaragua</th>\n      <th>of</th>\n      <th>peru</th>\n      <th>republic</th>\n      <th>uruguay</th>\n      <th>venezuela</th>\n    </tr>\n  </thead>\n  <tbody>\n    <tr>\n      <th>0</th>\n      <td>0</td>\n      <td>0</td>\n      <td>0</td>\n      <td>0</td>\n      <td>0</td>\n      <td>0</td>\n      <td>0</td>\n      <td>0</td>\n      <td>0</td>\n      <td>0</td>\n      <td>...</td>\n      <td>0</td>\n      <td>0</td>\n      <td>0</td>\n      <td>0</td>\n      <td>0</td>\n      <td>0</td>\n      <td>0</td>\n      <td>0</td>\n      <td>0</td>\n      <td>0</td>\n    </tr>\n    <tr>\n      <th>1</th>\n      <td>0</td>\n      <td>0</td>\n      <td>0</td>\n      <td>0</td>\n      <td>0</td>\n      <td>0</td>\n      <td>0</td>\n      <td>0</td>\n      <td>0</td>\n      <td>0</td>\n      <td>...</td>\n      <td>0</td>\n      <td>0</td>\n      <td>0</td>\n      <td>1</td>\n      <td>0</td>\n      <td>0</td>\n      <td>0</td>\n      <td>0</td>\n      <td>0</td>\n      <td>0</td>\n    </tr>\n    <tr>\n      <th>2</th>\n      <td>0</td>\n      <td>0</td>\n      <td>0</td>\n      <td>0</td>\n      <td>0</td>\n      <td>0</td>\n      <td>0</td>\n      <td>0</td>\n      <td>0</td>\n      <td>0</td>\n      <td>...</td>\n      <td>0</td>\n      <td>0</td>\n      <td>0</td>\n      <td>0</td>\n      <td>0</td>\n      <td>0</td>\n      <td>0</td>\n      <td>0</td>\n      <td>0</td>\n      <td>0</td>\n    </tr>\n    <tr>\n      <th>3</th>\n      <td>0</td>\n      <td>0</td>\n      <td>0</td>\n      <td>0</td>\n      <td>0</td>\n      <td>0</td>\n      <td>0</td>\n      <td>0</td>\n      <td>0</td>\n      <td>0</td>\n      <td>...</td>\n      <td>0</td>\n      <td>0</td>\n      <td>0</td>\n      <td>0</td>\n      <td>0</td>\n      <td>0</td>\n      <td>0</td>\n      <td>0</td>\n      <td>0</td>\n      <td>0</td>\n    </tr>\n    <tr>\n      <th>4</th>\n      <td>0</td>\n      <td>0</td>\n      <td>0</td>\n      <td>0</td>\n      <td>0</td>\n      <td>0</td>\n      <td>0</td>\n      <td>0</td>\n      <td>0</td>\n      <td>0</td>\n      <td>...</td>\n      <td>0</td>\n      <td>0</td>\n      <td>0</td>\n      <td>0</td>\n      <td>0</td>\n      <td>0</td>\n      <td>0</td>\n      <td>0</td>\n      <td>0</td>\n      <td>0</td>\n    </tr>\n  </tbody>\n</table>\n<p>5 rows × 727 columns</p>\n</div>"
     },
     "execution_count": 79,
     "metadata": {},
     "output_type": "execute_result"
    }
   ],
   "source": [
    "oh_collection.head()"
   ],
   "metadata": {
    "collapsed": false,
    "pycharm": {
     "name": "#%%\n"
    }
   }
  },
  {
   "cell_type": "markdown",
   "source": [
    "### FE of Numerical Data"
   ],
   "metadata": {
    "collapsed": false,
    "pycharm": {
     "name": "#%% md\n"
    }
   }
  },
  {
   "cell_type": "markdown",
   "source": [
    "### feature containing % dataset created by individual artists"
   ],
   "metadata": {
    "collapsed": false,
    "pycharm": {
     "name": "#%% md\n"
    }
   }
  },
  {
   "cell_type": "code",
   "execution_count": 84,
   "outputs": [],
   "source": [
    "import scipy.stats as stats"
   ],
   "metadata": {
    "collapsed": false,
    "pycharm": {
     "name": "#%%\n"
    }
   }
  },
  {
   "cell_type": "code",
   "execution_count": 35,
   "outputs": [],
   "source": [
    "percent_by_artist = stored_latin_art.preferreddisplayname.value_counts(normalize='True')"
   ],
   "metadata": {
    "collapsed": false,
    "pycharm": {
     "name": "#%%\n"
    }
   }
  },
  {
   "cell_type": "code",
   "execution_count": 87,
   "outputs": [],
   "source": [
    "artist_zscore = stats.zscore(percent_by_artist)"
   ],
   "metadata": {
    "collapsed": false,
    "pycharm": {
     "name": "#%%\n"
    }
   }
  },
  {
   "cell_type": "code",
   "execution_count": 90,
   "outputs": [],
   "source": [
    "stored_latin_art['artist_zscore'] = stored_latin_art.preferreddisplayname.apply(lambda x: artist_zscore[x])"
   ],
   "metadata": {
    "collapsed": false,
    "pycharm": {
     "name": "#%%\n"
    }
   }
  },
  {
   "cell_type": "code",
   "execution_count": 37,
   "outputs": [],
   "source": [
    "stored_latin_art['percent_by_artist'] = stored_latin_art.preferreddisplayname.apply(lambda x: percent_by_artist[x])"
   ],
   "metadata": {
    "collapsed": false,
    "pycharm": {
     "name": "#%%\n"
    }
   }
  },
  {
   "cell_type": "code",
   "execution_count": 91,
   "outputs": [],
   "source": [
    "numerical_cols = ['width', 'height', 'maxpixels', 'percent_by_artist', 'artist_zscore']"
   ],
   "metadata": {
    "collapsed": false,
    "pycharm": {
     "name": "#%%\n"
    }
   }
  },
  {
   "cell_type": "code",
   "execution_count": 92,
   "outputs": [],
   "source": [
    "numerical_data = stored_latin_art.loc[:, numerical_cols]"
   ],
   "metadata": {
    "collapsed": false,
    "pycharm": {
     "name": "#%%\n"
    }
   }
  },
  {
   "cell_type": "code",
   "execution_count": 93,
   "outputs": [
    {
     "data": {
      "text/plain": "      width  height  maxpixels  percent_by_artist  artist_zscore\n0    2963.0  4000.0      640.0           0.003049      -0.642809\n1    5297.0  4171.0      640.0           0.018293       0.197787\n2    2926.0  4000.0      640.0           0.054878       2.215217\n3    4000.0  3101.0      640.0           0.054878       2.215217\n4    4000.0  3084.0      640.0           0.054878       2.215217\n..      ...     ...        ...                ...            ...\n323  4949.0  7513.0        NaN           0.015244       0.029668\n324  2873.0  4000.0        NaN           0.015244       0.029668\n325  2726.0  4000.0        NaN           0.015244       0.029668\n326  4000.0  3169.0        NaN           0.015244       0.029668\n327  1806.0  4000.0        NaN           0.015244       0.029668\n\n[328 rows x 5 columns]",
      "text/html": "<div>\n<style scoped>\n    .dataframe tbody tr th:only-of-type {\n        vertical-align: middle;\n    }\n\n    .dataframe tbody tr th {\n        vertical-align: top;\n    }\n\n    .dataframe thead th {\n        text-align: right;\n    }\n</style>\n<table border=\"1\" class=\"dataframe\">\n  <thead>\n    <tr style=\"text-align: right;\">\n      <th></th>\n      <th>width</th>\n      <th>height</th>\n      <th>maxpixels</th>\n      <th>percent_by_artist</th>\n      <th>artist_zscore</th>\n    </tr>\n  </thead>\n  <tbody>\n    <tr>\n      <th>0</th>\n      <td>2963.0</td>\n      <td>4000.0</td>\n      <td>640.0</td>\n      <td>0.003049</td>\n      <td>-0.642809</td>\n    </tr>\n    <tr>\n      <th>1</th>\n      <td>5297.0</td>\n      <td>4171.0</td>\n      <td>640.0</td>\n      <td>0.018293</td>\n      <td>0.197787</td>\n    </tr>\n    <tr>\n      <th>2</th>\n      <td>2926.0</td>\n      <td>4000.0</td>\n      <td>640.0</td>\n      <td>0.054878</td>\n      <td>2.215217</td>\n    </tr>\n    <tr>\n      <th>3</th>\n      <td>4000.0</td>\n      <td>3101.0</td>\n      <td>640.0</td>\n      <td>0.054878</td>\n      <td>2.215217</td>\n    </tr>\n    <tr>\n      <th>4</th>\n      <td>4000.0</td>\n      <td>3084.0</td>\n      <td>640.0</td>\n      <td>0.054878</td>\n      <td>2.215217</td>\n    </tr>\n    <tr>\n      <th>...</th>\n      <td>...</td>\n      <td>...</td>\n      <td>...</td>\n      <td>...</td>\n      <td>...</td>\n    </tr>\n    <tr>\n      <th>323</th>\n      <td>4949.0</td>\n      <td>7513.0</td>\n      <td>NaN</td>\n      <td>0.015244</td>\n      <td>0.029668</td>\n    </tr>\n    <tr>\n      <th>324</th>\n      <td>2873.0</td>\n      <td>4000.0</td>\n      <td>NaN</td>\n      <td>0.015244</td>\n      <td>0.029668</td>\n    </tr>\n    <tr>\n      <th>325</th>\n      <td>2726.0</td>\n      <td>4000.0</td>\n      <td>NaN</td>\n      <td>0.015244</td>\n      <td>0.029668</td>\n    </tr>\n    <tr>\n      <th>326</th>\n      <td>4000.0</td>\n      <td>3169.0</td>\n      <td>NaN</td>\n      <td>0.015244</td>\n      <td>0.029668</td>\n    </tr>\n    <tr>\n      <th>327</th>\n      <td>1806.0</td>\n      <td>4000.0</td>\n      <td>NaN</td>\n      <td>0.015244</td>\n      <td>0.029668</td>\n    </tr>\n  </tbody>\n</table>\n<p>328 rows × 5 columns</p>\n</div>"
     },
     "execution_count": 93,
     "metadata": {},
     "output_type": "execute_result"
    }
   ],
   "source": [
    "numerical_data"
   ],
   "metadata": {
    "collapsed": false,
    "pycharm": {
     "name": "#%%\n"
    }
   }
  },
  {
   "cell_type": "markdown",
   "source": [
    "## Creating the Data Pipeline"
   ],
   "metadata": {
    "collapsed": false,
    "pycharm": {
     "name": "#%% md\n"
    }
   }
  },
  {
   "cell_type": "markdown",
   "source": [
    "## Text Classification Model"
   ],
   "metadata": {
    "collapsed": false,
    "pycharm": {
     "name": "#%% md\n"
    }
   }
  },
  {
   "cell_type": "code",
   "execution_count": 20,
   "outputs": [],
   "source": [
    "DEVICE = torch.device(\"cuda\") if torch.cuda.is_available() else torch.device(\"cpu\")"
   ],
   "metadata": {
    "collapsed": false,
    "pycharm": {
     "name": "#%%\n"
    }
   }
  },
  {
   "cell_type": "code",
   "execution_count": null,
   "outputs": [],
   "source": [],
   "metadata": {
    "collapsed": false,
    "pycharm": {
     "name": "#%%\n"
    }
   }
  }
 ],
 "metadata": {
  "kernelspec": {
   "display_name": "Python 3",
   "language": "python",
   "name": "python3"
  },
  "language_info": {
   "codemirror_mode": {
    "name": "ipython",
    "version": 2
   },
   "file_extension": ".py",
   "mimetype": "text/x-python",
   "name": "python",
   "nbconvert_exporter": "python",
   "pygments_lexer": "ipython2",
   "version": "2.7.6"
  }
 },
 "nbformat": 4,
 "nbformat_minor": 0
}