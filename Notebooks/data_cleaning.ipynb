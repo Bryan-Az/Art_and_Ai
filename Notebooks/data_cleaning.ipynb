{
 "cells": [
  {
   "cell_type": "code",
   "execution_count": 2,
   "outputs": [],
   "source": [
    "import numpy as np\n",
    "import pandas as pd\n",
    "from IPython.display import display, HTML"
   ],
   "metadata": {
    "collapsed": false,
    "pycharm": {
     "name": "#%%\n"
    }
   }
  },
  {
   "cell_type": "code",
   "execution_count": 3,
   "outputs": [],
   "source": [
    "pa_latin_art = pd.read_csv('../data_samples/pa_latin_art.csv')\n",
    "stored_latin_art = pa_latin_art.where(pa_latin_art.file_downloaded == True).dropna(how='all')\n",
    "stored_latin_art.reset_index(drop = True, inplace=True)"
   ],
   "metadata": {
    "collapsed": false,
    "pycharm": {
     "name": "#%%\n"
    }
   }
  },
  {
   "cell_type": "markdown",
   "source": [
    "## Exploratory Data Analysis"
   ],
   "metadata": {
    "collapsed": false,
    "pycharm": {
     "name": "#%% md\n"
    }
   }
  },
  {
   "cell_type": "markdown",
   "source": [
    "### Amount of NA/Null Values per Feature in the Dataset"
   ],
   "metadata": {
    "collapsed": false,
    "pycharm": {
     "name": "#%% md\n"
    }
   }
  },
  {
   "cell_type": "code",
   "execution_count": 4,
   "outputs": [],
   "source": [
    "num_nulls = pd.isna(stored_latin_art)"
   ],
   "metadata": {
    "collapsed": false,
    "pycharm": {
     "name": "#%%\n"
    }
   }
  },
  {
   "cell_type": "code",
   "execution_count": 5,
   "outputs": [],
   "source": [
    "num_nulls = num_nulls.sum() / len(num_nulls)"
   ],
   "metadata": {
    "collapsed": false,
    "pycharm": {
     "name": "#%%\n"
    }
   }
  },
  {
   "cell_type": "code",
   "execution_count": 6,
   "outputs": [],
   "source": [
    "num_nulls = num_nulls.sort_values(ascending=False).where(num_nulls > 0).dropna()"
   ],
   "metadata": {
    "collapsed": false,
    "pycharm": {
     "name": "#%%\n"
    }
   }
  },
  {
   "cell_type": "code",
   "execution_count": 7,
   "outputs": [
    {
     "data": {
      "text/plain": "assistivetext     1.000000\nmarkings          0.756098\nparentid          0.737805\nseries            0.682927\nportfolio         0.539634\nprovenancetext    0.506098\ninscription       0.500000\ndimensions        0.307927\nulanid            0.201220\nmaxpixels         0.152439\nlastname          0.009146\ndtype: float64"
     },
     "execution_count": 7,
     "metadata": {},
     "output_type": "execute_result"
    }
   ],
   "source": [
    "num_nulls"
   ],
   "metadata": {
    "collapsed": false,
    "pycharm": {
     "name": "#%%\n"
    }
   }
  },
  {
   "cell_type": "markdown",
   "source": [
    "### Dataset Distributions"
   ],
   "metadata": {
    "collapsed": false,
    "pycharm": {
     "name": "#%% md\n"
    }
   }
  },
  {
   "cell_type": "code",
   "execution_count": 73,
   "outputs": [
    {
     "data": {
      "text/plain": "Index(['expanded_url', 'title', 'forwarddisplayname', 'medium', 'displaydate',\n       'sequence', 'width', 'height', 'maxpixels', 'depictstmsobjectid',\n       'assistivetext', 'objectid', 'displayorder', 'constituentid', 'ulanid',\n       'preferreddisplayname', 'lastname', 'nationality', 'constituenttype',\n       'Percent_in_NGA', 'Country', 'Continent', 'Country Name', 'accessioned',\n       'dimensions', 'inscription', 'markings', 'attributioninverted',\n       'attribution', 'provenancetext', 'creditline', 'classification',\n       'parentid', 'isvirtual', 'portfolio', 'series', 'file_name',\n       'directory', 'file_downloaded', 'en_translation', 'artist_zscore',\n       'percent_by_artist', 'log_percent_by_artist', 'log_width',\n       'log_height'],\n      dtype='object')"
     },
     "execution_count": 73,
     "metadata": {},
     "output_type": "execute_result"
    }
   ],
   "source": [
    "stored_latin_art.columns"
   ],
   "metadata": {
    "collapsed": false,
    "pycharm": {
     "name": "#%%\n"
    }
   }
  },
  {
   "cell_type": "code",
   "execution_count": 81,
   "outputs": [
    {
     "data": {
      "text/plain": "                                          expanded_url  \\\n0    https://api.nga.gov/iiif/95bc5221-79a1-49e1-b7...   \n1    https://api.nga.gov/iiif/f8a0c85d-7cfa-4e63-ae...   \n2    https://api.nga.gov/iiif/a2bc5dff-08a4-46d5-97...   \n3    https://api.nga.gov/iiif/c73c0136-d48d-4bea-89...   \n4    https://api.nga.gov/iiif/1f1918c9-9d30-4491-a9...   \n..                                                 ...   \n323  https://api.nga.gov/iiif/552e99b7-0bb5-45e1-8b...   \n324  https://api.nga.gov/iiif/83c83210-819e-4c27-8c...   \n325  https://api.nga.gov/iiif/92410def-988a-4866-9c...   \n326  https://api.nga.gov/iiif/fcbe84cb-faa8-471d-b4...   \n327  https://api.nga.gov/iiif/015dcd20-3dda-448f-a5...   \n\n                                                 title     forwarddisplayname  \\\n0                                      Festival Andino        Nemesio Antunez   \n1                                         Chester Dale           Diego Rivera   \n2                                       Compostion XVI                  Matta   \n3                                        Compostion IV                  Matta   \n4                                         Compostion I                  Matta   \n..                                                 ...                    ...   \n323                            Gran Alarma Escandalosa  José Guadalupe Posada   \n324                                           Serafina  José Guadalupe Posada   \n325  La Mujer de Cien Maridos - Como Alfileres Pren...  José Guadalupe Posada   \n326                                        Don Chepito  José Guadalupe Posada   \n327                                 Calavera Maderista  José Guadalupe Posada   \n\n                                                medium           displaydate  \\\n0                                     color lithograph  Chilean, 1918 - 1993   \n1                                        oil on canvas  Mexican, 1886 - 1957   \n2    color etching, soft-ground, and aquatint with ...  Chilean, 1911 - 2002   \n3             color etching, soft-ground, and aquatint  Chilean, 1911 - 2002   \n4    color etching, soft-ground, and aquatint on Ja...  Chilean, 1911 - 2002   \n..                                                 ...                   ...   \n323         metalcut and letterpress on pink newsprint  Mexican, 1851 - 1913   \n324       metalcut and letterpress on yellow newsprint  Mexican, 1851 - 1913   \n325                          metalcut on red newsprint  Mexican, 1851 - 1913   \n326                       relief etching on pink paper  Mexican, 1851 - 1913   \n327                              relief etching (zinc)  Mexican, 1851 - 1913   \n\n     sequence   width  height  maxpixels  depictstmsobjectid  ...  \\\n0         0.0  2963.0  4000.0      640.0             46741.0  ...   \n1         0.0  5297.0  4171.0      640.0             46537.0  ...   \n2         0.0  2926.0  4000.0      640.0             48425.0  ...   \n3         0.0  4000.0  3101.0      640.0             48413.0  ...   \n4         0.0  4000.0  3084.0      640.0             48410.0  ...   \n..        ...     ...     ...        ...                 ...  ...   \n323       0.0  4949.0  7513.0        NaN            152826.0  ...   \n324       0.0  2873.0  4000.0        NaN            152827.0  ...   \n325       0.0  2726.0  4000.0        NaN            152829.0  ...   \n326       0.0  4000.0  3169.0        NaN            163508.0  ...   \n327       0.0  1806.0  4000.0        NaN             30476.0  ...   \n\n                                             series  \\\n0                                               NaN   \n1                                               NaN   \n2    Suite from \"Come detta dentro vo significando\"   \n3    Suite from \"Come detta dentro vo significando\"   \n4    Suite from \"Come detta dentro vo significando\"   \n..                                              ...   \n323                                             NaN   \n324                                             NaN   \n325                                             NaN   \n326                                             NaN   \n327                                             NaN   \n\n                                             file_name     directory  \\\n0                                  Festival_Andino.jpg  ./All_Images   \n1                                     Chester_Dale.jpg  ./All_Images   \n2                                   Compostion_XVI.jpg  ./All_Images   \n3                                    Compostion_IV.jpg  ./All_Images   \n4                                     Compostion_I.jpg  ./All_Images   \n..                                                 ...           ...   \n323                 Gran_Alarma_Escandalosa_Posada.jpg  ./All_Images   \n324                                Serafina_Posada.jpg  ./All_Images   \n325  La_Mujer_de_Cien_Maridos_-_Como_Alfileres_Pren...  ./All_Images   \n326                             Don_Chepito_Posada.jpg  ./All_Images   \n327                      Calavera_Maderista_Posada.jpg  ./All_Images   \n\n     file_downloaded                               en_translation  \\\n0               True                              Andean festival   \n1               True                                 Chester Dale   \n2               True                              Composition XVI   \n3               True                                Compostion IV   \n4               True                                 Compostion I   \n..               ...                                          ...   \n323             True                         Big scandalous alarm   \n324             True                                     Serafina   \n325             True  The wife of a hundred husbands like pins on   \n326             True                                  Don Chepito   \n327             True                              Maderista skull   \n\n    artist_zscore percent_by_artist log_percent_by_artist log_width  \\\n0       -0.642809          0.003049              0.003044  7.994295   \n1        0.197787          0.018293              0.018127  8.575085   \n2        2.215217          0.054878              0.053425  7.981733   \n3        2.215217          0.054878              0.053425  8.294300   \n4        2.215217          0.054878              0.053425  8.294300   \n..            ...               ...                   ...       ...   \n323      0.029668          0.015244              0.015129  8.507143   \n324      0.029668          0.015244              0.015129  7.963460   \n325      0.029668          0.015244              0.015129  7.910957   \n326      0.029668          0.015244              0.015129  8.294300   \n327      0.029668          0.015244              0.015129  7.499423   \n\n     log_height  \n0      8.294300  \n1      8.336151  \n2      8.294300  \n3      8.039802  \n4      8.034307  \n..          ...  \n323    8.924523  \n324    8.294300  \n325    8.294300  \n326    8.061487  \n327    8.294300  \n\n[328 rows x 45 columns]",
      "text/html": "<div>\n<style scoped>\n    .dataframe tbody tr th:only-of-type {\n        vertical-align: middle;\n    }\n\n    .dataframe tbody tr th {\n        vertical-align: top;\n    }\n\n    .dataframe thead th {\n        text-align: right;\n    }\n</style>\n<table border=\"1\" class=\"dataframe\">\n  <thead>\n    <tr style=\"text-align: right;\">\n      <th></th>\n      <th>expanded_url</th>\n      <th>title</th>\n      <th>forwarddisplayname</th>\n      <th>medium</th>\n      <th>displaydate</th>\n      <th>sequence</th>\n      <th>width</th>\n      <th>height</th>\n      <th>maxpixels</th>\n      <th>depictstmsobjectid</th>\n      <th>...</th>\n      <th>series</th>\n      <th>file_name</th>\n      <th>directory</th>\n      <th>file_downloaded</th>\n      <th>en_translation</th>\n      <th>artist_zscore</th>\n      <th>percent_by_artist</th>\n      <th>log_percent_by_artist</th>\n      <th>log_width</th>\n      <th>log_height</th>\n    </tr>\n  </thead>\n  <tbody>\n    <tr>\n      <th>0</th>\n      <td>https://api.nga.gov/iiif/95bc5221-79a1-49e1-b7...</td>\n      <td>Festival Andino</td>\n      <td>Nemesio Antunez</td>\n      <td>color lithograph</td>\n      <td>Chilean, 1918 - 1993</td>\n      <td>0.0</td>\n      <td>2963.0</td>\n      <td>4000.0</td>\n      <td>640.0</td>\n      <td>46741.0</td>\n      <td>...</td>\n      <td>NaN</td>\n      <td>Festival_Andino.jpg</td>\n      <td>./All_Images</td>\n      <td>True</td>\n      <td>Andean festival</td>\n      <td>-0.642809</td>\n      <td>0.003049</td>\n      <td>0.003044</td>\n      <td>7.994295</td>\n      <td>8.294300</td>\n    </tr>\n    <tr>\n      <th>1</th>\n      <td>https://api.nga.gov/iiif/f8a0c85d-7cfa-4e63-ae...</td>\n      <td>Chester Dale</td>\n      <td>Diego Rivera</td>\n      <td>oil on canvas</td>\n      <td>Mexican, 1886 - 1957</td>\n      <td>0.0</td>\n      <td>5297.0</td>\n      <td>4171.0</td>\n      <td>640.0</td>\n      <td>46537.0</td>\n      <td>...</td>\n      <td>NaN</td>\n      <td>Chester_Dale.jpg</td>\n      <td>./All_Images</td>\n      <td>True</td>\n      <td>Chester Dale</td>\n      <td>0.197787</td>\n      <td>0.018293</td>\n      <td>0.018127</td>\n      <td>8.575085</td>\n      <td>8.336151</td>\n    </tr>\n    <tr>\n      <th>2</th>\n      <td>https://api.nga.gov/iiif/a2bc5dff-08a4-46d5-97...</td>\n      <td>Compostion XVI</td>\n      <td>Matta</td>\n      <td>color etching, soft-ground, and aquatint with ...</td>\n      <td>Chilean, 1911 - 2002</td>\n      <td>0.0</td>\n      <td>2926.0</td>\n      <td>4000.0</td>\n      <td>640.0</td>\n      <td>48425.0</td>\n      <td>...</td>\n      <td>Suite from \"Come detta dentro vo significando\"</td>\n      <td>Compostion_XVI.jpg</td>\n      <td>./All_Images</td>\n      <td>True</td>\n      <td>Composition XVI</td>\n      <td>2.215217</td>\n      <td>0.054878</td>\n      <td>0.053425</td>\n      <td>7.981733</td>\n      <td>8.294300</td>\n    </tr>\n    <tr>\n      <th>3</th>\n      <td>https://api.nga.gov/iiif/c73c0136-d48d-4bea-89...</td>\n      <td>Compostion IV</td>\n      <td>Matta</td>\n      <td>color etching, soft-ground, and aquatint</td>\n      <td>Chilean, 1911 - 2002</td>\n      <td>0.0</td>\n      <td>4000.0</td>\n      <td>3101.0</td>\n      <td>640.0</td>\n      <td>48413.0</td>\n      <td>...</td>\n      <td>Suite from \"Come detta dentro vo significando\"</td>\n      <td>Compostion_IV.jpg</td>\n      <td>./All_Images</td>\n      <td>True</td>\n      <td>Compostion IV</td>\n      <td>2.215217</td>\n      <td>0.054878</td>\n      <td>0.053425</td>\n      <td>8.294300</td>\n      <td>8.039802</td>\n    </tr>\n    <tr>\n      <th>4</th>\n      <td>https://api.nga.gov/iiif/1f1918c9-9d30-4491-a9...</td>\n      <td>Compostion I</td>\n      <td>Matta</td>\n      <td>color etching, soft-ground, and aquatint on Ja...</td>\n      <td>Chilean, 1911 - 2002</td>\n      <td>0.0</td>\n      <td>4000.0</td>\n      <td>3084.0</td>\n      <td>640.0</td>\n      <td>48410.0</td>\n      <td>...</td>\n      <td>Suite from \"Come detta dentro vo significando\"</td>\n      <td>Compostion_I.jpg</td>\n      <td>./All_Images</td>\n      <td>True</td>\n      <td>Compostion I</td>\n      <td>2.215217</td>\n      <td>0.054878</td>\n      <td>0.053425</td>\n      <td>8.294300</td>\n      <td>8.034307</td>\n    </tr>\n    <tr>\n      <th>...</th>\n      <td>...</td>\n      <td>...</td>\n      <td>...</td>\n      <td>...</td>\n      <td>...</td>\n      <td>...</td>\n      <td>...</td>\n      <td>...</td>\n      <td>...</td>\n      <td>...</td>\n      <td>...</td>\n      <td>...</td>\n      <td>...</td>\n      <td>...</td>\n      <td>...</td>\n      <td>...</td>\n      <td>...</td>\n      <td>...</td>\n      <td>...</td>\n      <td>...</td>\n      <td>...</td>\n    </tr>\n    <tr>\n      <th>323</th>\n      <td>https://api.nga.gov/iiif/552e99b7-0bb5-45e1-8b...</td>\n      <td>Gran Alarma Escandalosa</td>\n      <td>José Guadalupe Posada</td>\n      <td>metalcut and letterpress on pink newsprint</td>\n      <td>Mexican, 1851 - 1913</td>\n      <td>0.0</td>\n      <td>4949.0</td>\n      <td>7513.0</td>\n      <td>NaN</td>\n      <td>152826.0</td>\n      <td>...</td>\n      <td>NaN</td>\n      <td>Gran_Alarma_Escandalosa_Posada.jpg</td>\n      <td>./All_Images</td>\n      <td>True</td>\n      <td>Big scandalous alarm</td>\n      <td>0.029668</td>\n      <td>0.015244</td>\n      <td>0.015129</td>\n      <td>8.507143</td>\n      <td>8.924523</td>\n    </tr>\n    <tr>\n      <th>324</th>\n      <td>https://api.nga.gov/iiif/83c83210-819e-4c27-8c...</td>\n      <td>Serafina</td>\n      <td>José Guadalupe Posada</td>\n      <td>metalcut and letterpress on yellow newsprint</td>\n      <td>Mexican, 1851 - 1913</td>\n      <td>0.0</td>\n      <td>2873.0</td>\n      <td>4000.0</td>\n      <td>NaN</td>\n      <td>152827.0</td>\n      <td>...</td>\n      <td>NaN</td>\n      <td>Serafina_Posada.jpg</td>\n      <td>./All_Images</td>\n      <td>True</td>\n      <td>Serafina</td>\n      <td>0.029668</td>\n      <td>0.015244</td>\n      <td>0.015129</td>\n      <td>7.963460</td>\n      <td>8.294300</td>\n    </tr>\n    <tr>\n      <th>325</th>\n      <td>https://api.nga.gov/iiif/92410def-988a-4866-9c...</td>\n      <td>La Mujer de Cien Maridos - Como Alfileres Pren...</td>\n      <td>José Guadalupe Posada</td>\n      <td>metalcut on red newsprint</td>\n      <td>Mexican, 1851 - 1913</td>\n      <td>0.0</td>\n      <td>2726.0</td>\n      <td>4000.0</td>\n      <td>NaN</td>\n      <td>152829.0</td>\n      <td>...</td>\n      <td>NaN</td>\n      <td>La_Mujer_de_Cien_Maridos_-_Como_Alfileres_Pren...</td>\n      <td>./All_Images</td>\n      <td>True</td>\n      <td>The wife of a hundred husbands like pins on</td>\n      <td>0.029668</td>\n      <td>0.015244</td>\n      <td>0.015129</td>\n      <td>7.910957</td>\n      <td>8.294300</td>\n    </tr>\n    <tr>\n      <th>326</th>\n      <td>https://api.nga.gov/iiif/fcbe84cb-faa8-471d-b4...</td>\n      <td>Don Chepito</td>\n      <td>José Guadalupe Posada</td>\n      <td>relief etching on pink paper</td>\n      <td>Mexican, 1851 - 1913</td>\n      <td>0.0</td>\n      <td>4000.0</td>\n      <td>3169.0</td>\n      <td>NaN</td>\n      <td>163508.0</td>\n      <td>...</td>\n      <td>NaN</td>\n      <td>Don_Chepito_Posada.jpg</td>\n      <td>./All_Images</td>\n      <td>True</td>\n      <td>Don Chepito</td>\n      <td>0.029668</td>\n      <td>0.015244</td>\n      <td>0.015129</td>\n      <td>8.294300</td>\n      <td>8.061487</td>\n    </tr>\n    <tr>\n      <th>327</th>\n      <td>https://api.nga.gov/iiif/015dcd20-3dda-448f-a5...</td>\n      <td>Calavera Maderista</td>\n      <td>José Guadalupe Posada</td>\n      <td>relief etching (zinc)</td>\n      <td>Mexican, 1851 - 1913</td>\n      <td>0.0</td>\n      <td>1806.0</td>\n      <td>4000.0</td>\n      <td>NaN</td>\n      <td>30476.0</td>\n      <td>...</td>\n      <td>NaN</td>\n      <td>Calavera_Maderista_Posada.jpg</td>\n      <td>./All_Images</td>\n      <td>True</td>\n      <td>Maderista skull</td>\n      <td>0.029668</td>\n      <td>0.015244</td>\n      <td>0.015129</td>\n      <td>7.499423</td>\n      <td>8.294300</td>\n    </tr>\n  </tbody>\n</table>\n<p>328 rows × 45 columns</p>\n</div>"
     },
     "execution_count": 81,
     "metadata": {},
     "output_type": "execute_result"
    }
   ],
   "source": [
    "stored_latin_art"
   ],
   "metadata": {
    "collapsed": false,
    "pycharm": {
     "name": "#%%\n"
    }
   }
  },
  {
   "cell_type": "code",
   "execution_count": 74,
   "outputs": [
    {
     "data": {
      "text/plain": "                                        expanded_url            title  \\\n0  https://api.nga.gov/iiif/95bc5221-79a1-49e1-b7...  Festival Andino   \n1  https://api.nga.gov/iiif/f8a0c85d-7cfa-4e63-ae...     Chester Dale   \n2  https://api.nga.gov/iiif/a2bc5dff-08a4-46d5-97...   Compostion XVI   \n3  https://api.nga.gov/iiif/c73c0136-d48d-4bea-89...    Compostion IV   \n4  https://api.nga.gov/iiif/1f1918c9-9d30-4491-a9...     Compostion I   \n\n  forwarddisplayname                                             medium  \\\n0    Nemesio Antunez                                   color lithograph   \n1       Diego Rivera                                      oil on canvas   \n2              Matta  color etching, soft-ground, and aquatint with ...   \n3              Matta           color etching, soft-ground, and aquatint   \n4              Matta  color etching, soft-ground, and aquatint on Ja...   \n\n            displaydate  sequence   width  height  maxpixels  \\\n0  Chilean, 1918 - 1993       0.0  2963.0  4000.0      640.0   \n1  Mexican, 1886 - 1957       0.0  5297.0  4171.0      640.0   \n2  Chilean, 1911 - 2002       0.0  2926.0  4000.0      640.0   \n3  Chilean, 1911 - 2002       0.0  4000.0  3101.0      640.0   \n4  Chilean, 1911 - 2002       0.0  4000.0  3084.0      640.0   \n\n   depictstmsobjectid  ...                                          series  \\\n0             46741.0  ...                                             NaN   \n1             46537.0  ...                                             NaN   \n2             48425.0  ...  Suite from \"Come detta dentro vo significando\"   \n3             48413.0  ...  Suite from \"Come detta dentro vo significando\"   \n4             48410.0  ...  Suite from \"Come detta dentro vo significando\"   \n\n             file_name     directory  file_downloaded   en_translation  \\\n0  Festival_Andino.jpg  ./All_Images             True  Andean festival   \n1     Chester_Dale.jpg  ./All_Images             True     Chester Dale   \n2   Compostion_XVI.jpg  ./All_Images             True  Composition XVI   \n3    Compostion_IV.jpg  ./All_Images             True    Compostion IV   \n4     Compostion_I.jpg  ./All_Images             True     Compostion I   \n\n  artist_zscore percent_by_artist log_percent_by_artist log_width  log_height  \n0     -0.642809          0.003049              0.003044  7.994295    8.294300  \n1      0.197787          0.018293              0.018127  8.575085    8.336151  \n2      2.215217          0.054878              0.053425  7.981733    8.294300  \n3      2.215217          0.054878              0.053425  8.294300    8.039802  \n4      2.215217          0.054878              0.053425  8.294300    8.034307  \n\n[5 rows x 45 columns]",
      "text/html": "<div>\n<style scoped>\n    .dataframe tbody tr th:only-of-type {\n        vertical-align: middle;\n    }\n\n    .dataframe tbody tr th {\n        vertical-align: top;\n    }\n\n    .dataframe thead th {\n        text-align: right;\n    }\n</style>\n<table border=\"1\" class=\"dataframe\">\n  <thead>\n    <tr style=\"text-align: right;\">\n      <th></th>\n      <th>expanded_url</th>\n      <th>title</th>\n      <th>forwarddisplayname</th>\n      <th>medium</th>\n      <th>displaydate</th>\n      <th>sequence</th>\n      <th>width</th>\n      <th>height</th>\n      <th>maxpixels</th>\n      <th>depictstmsobjectid</th>\n      <th>...</th>\n      <th>series</th>\n      <th>file_name</th>\n      <th>directory</th>\n      <th>file_downloaded</th>\n      <th>en_translation</th>\n      <th>artist_zscore</th>\n      <th>percent_by_artist</th>\n      <th>log_percent_by_artist</th>\n      <th>log_width</th>\n      <th>log_height</th>\n    </tr>\n  </thead>\n  <tbody>\n    <tr>\n      <th>0</th>\n      <td>https://api.nga.gov/iiif/95bc5221-79a1-49e1-b7...</td>\n      <td>Festival Andino</td>\n      <td>Nemesio Antunez</td>\n      <td>color lithograph</td>\n      <td>Chilean, 1918 - 1993</td>\n      <td>0.0</td>\n      <td>2963.0</td>\n      <td>4000.0</td>\n      <td>640.0</td>\n      <td>46741.0</td>\n      <td>...</td>\n      <td>NaN</td>\n      <td>Festival_Andino.jpg</td>\n      <td>./All_Images</td>\n      <td>True</td>\n      <td>Andean festival</td>\n      <td>-0.642809</td>\n      <td>0.003049</td>\n      <td>0.003044</td>\n      <td>7.994295</td>\n      <td>8.294300</td>\n    </tr>\n    <tr>\n      <th>1</th>\n      <td>https://api.nga.gov/iiif/f8a0c85d-7cfa-4e63-ae...</td>\n      <td>Chester Dale</td>\n      <td>Diego Rivera</td>\n      <td>oil on canvas</td>\n      <td>Mexican, 1886 - 1957</td>\n      <td>0.0</td>\n      <td>5297.0</td>\n      <td>4171.0</td>\n      <td>640.0</td>\n      <td>46537.0</td>\n      <td>...</td>\n      <td>NaN</td>\n      <td>Chester_Dale.jpg</td>\n      <td>./All_Images</td>\n      <td>True</td>\n      <td>Chester Dale</td>\n      <td>0.197787</td>\n      <td>0.018293</td>\n      <td>0.018127</td>\n      <td>8.575085</td>\n      <td>8.336151</td>\n    </tr>\n    <tr>\n      <th>2</th>\n      <td>https://api.nga.gov/iiif/a2bc5dff-08a4-46d5-97...</td>\n      <td>Compostion XVI</td>\n      <td>Matta</td>\n      <td>color etching, soft-ground, and aquatint with ...</td>\n      <td>Chilean, 1911 - 2002</td>\n      <td>0.0</td>\n      <td>2926.0</td>\n      <td>4000.0</td>\n      <td>640.0</td>\n      <td>48425.0</td>\n      <td>...</td>\n      <td>Suite from \"Come detta dentro vo significando\"</td>\n      <td>Compostion_XVI.jpg</td>\n      <td>./All_Images</td>\n      <td>True</td>\n      <td>Composition XVI</td>\n      <td>2.215217</td>\n      <td>0.054878</td>\n      <td>0.053425</td>\n      <td>7.981733</td>\n      <td>8.294300</td>\n    </tr>\n    <tr>\n      <th>3</th>\n      <td>https://api.nga.gov/iiif/c73c0136-d48d-4bea-89...</td>\n      <td>Compostion IV</td>\n      <td>Matta</td>\n      <td>color etching, soft-ground, and aquatint</td>\n      <td>Chilean, 1911 - 2002</td>\n      <td>0.0</td>\n      <td>4000.0</td>\n      <td>3101.0</td>\n      <td>640.0</td>\n      <td>48413.0</td>\n      <td>...</td>\n      <td>Suite from \"Come detta dentro vo significando\"</td>\n      <td>Compostion_IV.jpg</td>\n      <td>./All_Images</td>\n      <td>True</td>\n      <td>Compostion IV</td>\n      <td>2.215217</td>\n      <td>0.054878</td>\n      <td>0.053425</td>\n      <td>8.294300</td>\n      <td>8.039802</td>\n    </tr>\n    <tr>\n      <th>4</th>\n      <td>https://api.nga.gov/iiif/1f1918c9-9d30-4491-a9...</td>\n      <td>Compostion I</td>\n      <td>Matta</td>\n      <td>color etching, soft-ground, and aquatint on Ja...</td>\n      <td>Chilean, 1911 - 2002</td>\n      <td>0.0</td>\n      <td>4000.0</td>\n      <td>3084.0</td>\n      <td>640.0</td>\n      <td>48410.0</td>\n      <td>...</td>\n      <td>Suite from \"Come detta dentro vo significando\"</td>\n      <td>Compostion_I.jpg</td>\n      <td>./All_Images</td>\n      <td>True</td>\n      <td>Compostion I</td>\n      <td>2.215217</td>\n      <td>0.054878</td>\n      <td>0.053425</td>\n      <td>8.294300</td>\n      <td>8.034307</td>\n    </tr>\n  </tbody>\n</table>\n<p>5 rows × 45 columns</p>\n</div>"
     },
     "execution_count": 74,
     "metadata": {},
     "output_type": "execute_result"
    }
   ],
   "source": [
    "stored_latin_art.head()"
   ],
   "metadata": {
    "collapsed": false,
    "pycharm": {
     "name": "#%%\n"
    }
   }
  },
  {
   "cell_type": "code",
   "execution_count": 65,
   "outputs": [
    {
     "data": {
      "text/plain": "<AxesSubplot:>"
     },
     "execution_count": 65,
     "metadata": {},
     "output_type": "execute_result"
    },
    {
     "data": {
      "text/plain": "<Figure size 640x480 with 1 Axes>",
      "image/png": "[encoded data removed]"
     },
     "metadata": {},
     "output_type": "display_data"
    }
   ],
   "source": [
    "display_type = stored_latin_art.classification.value_counts().sort_values()\n",
    "display_type.plot(kind='barh')"
   ],
   "metadata": {
    "collapsed": false,
    "pycharm": {
     "name": "#%%\n"
    }
   }
  },
  {
   "cell_type": "code",
   "execution_count": 8,
   "outputs": [],
   "source": [
    "works_by_artist = stored_latin_art.groupby('preferreddisplayname').apply(len)"
   ],
   "metadata": {
    "collapsed": false,
    "pycharm": {
     "name": "#%%\n"
    }
   }
  },
  {
   "cell_type": "code",
   "execution_count": 57,
   "outputs": [],
   "source": [
    "works_by_continent = stored_latin_art.groupby('Continent').apply(len).sort_values(ascending=True)"
   ],
   "metadata": {
    "collapsed": false,
    "pycharm": {
     "name": "#%%\n"
    }
   }
  },
  {
   "cell_type": "code",
   "execution_count": 54,
   "outputs": [],
   "source": [
    "works_by_country = stored_latin_art.groupby('Country Name').apply(len).sort_values(ascending=True)"
   ],
   "metadata": {
    "collapsed": false,
    "pycharm": {
     "name": "#%%\n"
    }
   }
  },
  {
   "cell_type": "code",
   "execution_count": 58,
   "outputs": [
    {
     "data": {
      "text/plain": "<AxesSubplot:ylabel='Continent'>"
     },
     "execution_count": 58,
     "metadata": {},
     "output_type": "execute_result"
    },
    {
     "data": {
      "text/plain": "<Figure size 640x480 with 1 Axes>",
      "image/png": "[encoded data removed]"
     },
     "metadata": {},
     "output_type": "display_data"
    }
   ],
   "source": [
    "works_by_continent.plot(kind='barh')"
   ],
   "metadata": {
    "collapsed": false,
    "pycharm": {
     "name": "#%%\n"
    }
   }
  },
  {
   "cell_type": "code",
   "execution_count": 55,
   "outputs": [
    {
     "data": {
      "text/plain": "<AxesSubplot:ylabel='Country Name'>"
     },
     "execution_count": 55,
     "metadata": {},
     "output_type": "execute_result"
    },
    {
     "data": {
      "text/plain": "<Figure size 640x480 with 1 Axes>",
      "image/png": "[encoded data removed]"
     },
     "metadata": {},
     "output_type": "display_data"
    }
   ],
   "source": [
    "works_by_country.plot(kind='barh')"
   ],
   "metadata": {
    "collapsed": false,
    "pycharm": {
     "name": "#%%\n"
    }
   }
  },
  {
   "cell_type": "code",
   "execution_count": 9,
   "outputs": [
    {
     "data": {
      "text/plain": "preferreddisplayname\nMéndez, Leopoldo         28\nAbularach, Rodolfo       22\nIturbide, Graciela       21\nMatta                    18\nÁlvarez Bravo, Manuel    17\n                         ..\nLam, Wifredo              1\nLarez, Francisco          1\nAnguiano, Raúl            1\nMeinel, Javier Silva      1\nLovera, Héctor Rondón     1\nLength: 68, dtype: int64"
     },
     "metadata": {},
     "output_type": "display_data"
    },
    {
     "data": {
      "text/plain": "count    68.000000\nmean      4.823529\nstd       5.992386\nmin       1.000000\n25%       1.000000\n50%       2.000000\n75%       6.000000\nmax      28.000000\ndtype: float64"
     },
     "metadata": {},
     "output_type": "display_data"
    }
   ],
   "source": [
    "display(works_by_artist.sort_values(ascending=False))\n",
    "display(works_by_artist.describe())"
   ],
   "metadata": {
    "collapsed": false,
    "pycharm": {
     "name": "#%%\n"
    }
   }
  },
  {
   "cell_type": "markdown",
   "source": [
    "## Feature Engineering"
   ],
   "metadata": {
    "collapsed": false,
    "pycharm": {
     "name": "#%% md\n"
    }
   }
  },
  {
   "cell_type": "markdown",
   "source": [
    "### Converting titles from Spanish to English to match preloaded english classification model"
   ],
   "metadata": {
    "collapsed": false,
    "pycharm": {
     "name": "#%% md\n"
    }
   }
  },
  {
   "cell_type": "code",
   "execution_count": 10,
   "outputs": [],
   "source": [
    "english_titles = pd.read_csv('../data_samples/results/en_titles.csv')\n",
    "english_titles.drop('Unnamed: 0', axis=1, inplace=True)"
   ],
   "metadata": {
    "collapsed": false,
    "pycharm": {
     "name": "#%%\n"
    }
   }
  },
  {
   "cell_type": "code",
   "execution_count": 11,
   "outputs": [],
   "source": [
    "stored_latin_art['en_translation'] = english_titles"
   ],
   "metadata": {
    "collapsed": false,
    "pycharm": {
     "name": "#%%\n"
    }
   }
  },
  {
   "cell_type": "code",
   "execution_count": 12,
   "outputs": [],
   "source": [
    "text_dict = {}\n",
    "for entry in stored_latin_art.en_translation:\n",
    "    entry_words = entry.split(' ')\n",
    "    for word in entry_words:\n",
    "        word = word.strip(')([],\\./')\n",
    "        word = word.lower()\n",
    "        if word in text_dict.keys():\n",
    "            text_dict[word] += 1\n",
    "        else:\n",
    "            text_dict[word] = 1"
   ],
   "metadata": {
    "collapsed": false,
    "pycharm": {
     "name": "#%%\n"
    }
   }
  },
  {
   "cell_type": "code",
   "execution_count": 13,
   "outputs": [],
   "source": [
    "title_occurrences = pd.Series(text_dict).sort_values(ascending=False)"
   ],
   "metadata": {
    "collapsed": false,
    "pycharm": {
     "name": "#%%\n"
    }
   }
  },
  {
   "cell_type": "code",
   "execution_count": 14,
   "outputs": [
    {
     "data": {
      "text/plain": "Index(['the', 'untitled', 'of', 'garden', 'a', 'in', 'woman', 'fontamara',\n       'city', 'and',\n       ...\n       'have', 'photographs', 'blondes', 'world', 'third', 'desolation',\n       'bravo', 'álvarez', 'manuel', 'maderista'],\n      dtype='object', length=449)"
     },
     "execution_count": 14,
     "metadata": {},
     "output_type": "execute_result"
    }
   ],
   "source": [
    "title_occurrences.index"
   ],
   "metadata": {
    "collapsed": false,
    "pycharm": {
     "name": "#%%\n"
    }
   }
  },
  {
   "cell_type": "code",
   "execution_count": 15,
   "outputs": [],
   "source": [
    "import torch\n",
    "import torch.nn.functional as fun\n",
    "from sklearn.feature_extraction.text import CountVectorizer"
   ],
   "metadata": {
    "collapsed": false,
    "pycharm": {
     "name": "#%%\n"
    }
   }
  },
  {
   "cell_type": "code",
   "execution_count": 16,
   "outputs": [],
   "source": [
    "en_titles = stored_latin_art.en_translation.copy()"
   ],
   "metadata": {
    "collapsed": false,
    "pycharm": {
     "name": "#%%\n"
    }
   }
  },
  {
   "cell_type": "code",
   "execution_count": 17,
   "outputs": [],
   "source": [
    "import re\n",
    "def clean_words(text):\n",
    "    def strip(string):\n",
    "        return re.sub('(?:^[{\\W}]+)|(?:[{\\W}]+$)', '', string)\n",
    "    text_arr = text.split(' ')\n",
    "    words = []\n",
    "    for word in text_arr:\n",
    "        edited = strip(word)\n",
    "        words.append(edited.lower())\n",
    "    return ' '.join(words)"
   ],
   "metadata": {
    "collapsed": false,
    "pycharm": {
     "name": "#%%\n"
    }
   }
  },
  {
   "cell_type": "code",
   "execution_count": 18,
   "outputs": [],
   "source": [
    "#cleaning and formatting the data to give uniformity and clarity\n",
    "en_titles = en_titles.apply(clean_words)"
   ],
   "metadata": {
    "collapsed": false,
    "pycharm": {
     "name": "#%%\n"
    }
   }
  },
  {
   "cell_type": "markdown",
   "source": [
    "### Converting text into tokens and making one-hot for word generalization across titles, medium, country origin, and artist name"
   ],
   "metadata": {
    "collapsed": false,
    "pycharm": {
     "name": "#%% md\n"
    }
   }
  },
  {
   "cell_type": "code",
   "execution_count": 26,
   "outputs": [],
   "source": [
    "one_hot_vectorizer = CountVectorizer(binary=True)\n",
    "one_hot = one_hot_vectorizer.fit_transform(en_titles)"
   ],
   "metadata": {
    "collapsed": false,
    "pycharm": {
     "name": "#%%\n"
    }
   }
  },
  {
   "cell_type": "code",
   "execution_count": 27,
   "outputs": [],
   "source": [
    "title_oh = pd.DataFrame(one_hot.toarray().tolist(), columns=one_hot_vectorizer.get_feature_names_out())"
   ],
   "metadata": {
    "collapsed": false,
    "pycharm": {
     "name": "#%%\n"
    }
   }
  },
  {
   "cell_type": "code",
   "execution_count": 28,
   "outputs": [],
   "source": [
    "one_hot = one_hot_vectorizer.fit_transform(stored_latin_art.medium)\n",
    "# Handling Duplicate Token Names in Columns (OH)\n",
    "medium_cols = [x + ' (medium)' for x in one_hot_vectorizer.get_feature_names_out()]\n",
    "medium_oh = pd.DataFrame(one_hot.toarray().tolist(), columns = medium_cols)"
   ],
   "metadata": {
    "collapsed": false,
    "pycharm": {
     "name": "#%%\n"
    }
   }
  },
  {
   "cell_type": "code",
   "execution_count": 29,
   "outputs": [],
   "source": [
    "one_hot = one_hot_vectorizer.fit_transform(stored_latin_art['Country Name'], )\n",
    "# Handling Duplicate Token Names in Columns (OH)\n",
    "country_cols = [x + ' (country)' for x in one_hot_vectorizer.get_feature_names_out()]\n",
    "country_oh = pd.DataFrame(one_hot.toarray().tolist(), columns = country_cols)"
   ],
   "metadata": {
    "collapsed": false,
    "pycharm": {
     "name": "#%%\n"
    }
   }
  },
  {
   "cell_type": "code",
   "execution_count": 30,
   "outputs": [],
   "source": [
    "one_hot = one_hot_vectorizer.fit_transform(stored_latin_art['preferreddisplayname'])\n",
    "# Handling Duplicate Token Names in Columns (OH)\n",
    "name_cols = [x + ' (artist)' for x in one_hot_vectorizer.get_feature_names_out()]\n",
    "artist_oh = pd.DataFrame(one_hot.toarray().tolist(), columns = name_cols)"
   ],
   "metadata": {
    "collapsed": false,
    "pycharm": {
     "name": "#%%\n"
    }
   }
  },
  {
   "cell_type": "code",
   "execution_count": 31,
   "outputs": [],
   "source": [
    "oh_collection = pd.concat([title_oh, medium_oh, artist_oh, country_oh], axis=1)"
   ],
   "metadata": {
    "collapsed": false,
    "pycharm": {
     "name": "#%%\n"
    }
   }
  },
  {
   "cell_type": "code",
   "execution_count": 32,
   "outputs": [
    {
     "data": {
      "text/plain": "   17  1962  1972  1977  20  25  5x  abstraction  accident  aid  ...  \\\n0   0     0     0     0   0   0   0            0         0    0  ...   \n1   0     0     0     0   0   0   0            0         0    0  ...   \n2   0     0     0     0   0   0   0            0         0    0  ...   \n3   0     0     0     0   0   0   0            0         0    0  ...   \n4   0     0     0     0   0   0   0            0         0    0  ...   \n\n   colombia (country)  cuba (country)  guatemala (country)  mexico (country)  \\\n0                   0               0                    0                 0   \n1                   0               0                    0                 1   \n2                   0               0                    0                 0   \n3                   0               0                    0                 0   \n4                   0               0                    0                 0   \n\n   nicaragua (country)  of (country)  peru (country)  republic (country)  \\\n0                    0             0               0                   0   \n1                    0             0               0                   0   \n2                    0             0               0                   0   \n3                    0             0               0                   0   \n4                    0             0               0                   0   \n\n   uruguay (country)  venezuela (country)  \n0                  0                    0  \n1                  0                    0  \n2                  0                    0  \n3                  0                    0  \n4                  0                    0  \n\n[5 rows x 727 columns]",
      "text/html": "<div>\n<style scoped>\n    .dataframe tbody tr th:only-of-type {\n        vertical-align: middle;\n    }\n\n    .dataframe tbody tr th {\n        vertical-align: top;\n    }\n\n    .dataframe thead th {\n        text-align: right;\n    }\n</style>\n<table border=\"1\" class=\"dataframe\">\n  <thead>\n    <tr style=\"text-align: right;\">\n      <th></th>\n      <th>17</th>\n      <th>1962</th>\n      <th>1972</th>\n      <th>1977</th>\n      <th>20</th>\n      <th>25</th>\n      <th>5x</th>\n      <th>abstraction</th>\n      <th>accident</th>\n      <th>aid</th>\n      <th>...</th>\n      <th>colombia (country)</th>\n      <th>cuba (country)</th>\n      <th>guatemala (country)</th>\n      <th>mexico (country)</th>\n      <th>nicaragua (country)</th>\n      <th>of (country)</th>\n      <th>peru (country)</th>\n      <th>republic (country)</th>\n      <th>uruguay (country)</th>\n      <th>venezuela (country)</th>\n    </tr>\n  </thead>\n  <tbody>\n    <tr>\n      <th>0</th>\n      <td>0</td>\n      <td>0</td>\n      <td>0</td>\n      <td>0</td>\n      <td>0</td>\n      <td>0</td>\n      <td>0</td>\n      <td>0</td>\n      <td>0</td>\n      <td>0</td>\n      <td>...</td>\n      <td>0</td>\n      <td>0</td>\n      <td>0</td>\n      <td>0</td>\n      <td>0</td>\n      <td>0</td>\n      <td>0</td>\n      <td>0</td>\n      <td>0</td>\n      <td>0</td>\n    </tr>\n    <tr>\n      <th>1</th>\n      <td>0</td>\n      <td>0</td>\n      <td>0</td>\n      <td>0</td>\n      <td>0</td>\n      <td>0</td>\n      <td>0</td>\n      <td>0</td>\n      <td>0</td>\n      <td>0</td>\n      <td>...</td>\n      <td>0</td>\n      <td>0</td>\n      <td>0</td>\n      <td>1</td>\n      <td>0</td>\n      <td>0</td>\n      <td>0</td>\n      <td>0</td>\n      <td>0</td>\n      <td>0</td>\n    </tr>\n    <tr>\n      <th>2</th>\n      <td>0</td>\n      <td>0</td>\n      <td>0</td>\n      <td>0</td>\n      <td>0</td>\n      <td>0</td>\n      <td>0</td>\n      <td>0</td>\n      <td>0</td>\n      <td>0</td>\n      <td>...</td>\n      <td>0</td>\n      <td>0</td>\n      <td>0</td>\n      <td>0</td>\n      <td>0</td>\n      <td>0</td>\n      <td>0</td>\n      <td>0</td>\n      <td>0</td>\n      <td>0</td>\n    </tr>\n    <tr>\n      <th>3</th>\n      <td>0</td>\n      <td>0</td>\n      <td>0</td>\n      <td>0</td>\n      <td>0</td>\n      <td>0</td>\n      <td>0</td>\n      <td>0</td>\n      <td>0</td>\n      <td>0</td>\n      <td>...</td>\n      <td>0</td>\n      <td>0</td>\n      <td>0</td>\n      <td>0</td>\n      <td>0</td>\n      <td>0</td>\n      <td>0</td>\n      <td>0</td>\n      <td>0</td>\n      <td>0</td>\n    </tr>\n    <tr>\n      <th>4</th>\n      <td>0</td>\n      <td>0</td>\n      <td>0</td>\n      <td>0</td>\n      <td>0</td>\n      <td>0</td>\n      <td>0</td>\n      <td>0</td>\n      <td>0</td>\n      <td>0</td>\n      <td>...</td>\n      <td>0</td>\n      <td>0</td>\n      <td>0</td>\n      <td>0</td>\n      <td>0</td>\n      <td>0</td>\n      <td>0</td>\n      <td>0</td>\n      <td>0</td>\n      <td>0</td>\n    </tr>\n  </tbody>\n</table>\n<p>5 rows × 727 columns</p>\n</div>"
     },
     "execution_count": 32,
     "metadata": {},
     "output_type": "execute_result"
    }
   ],
   "source": [
    "oh_collection.head()"
   ],
   "metadata": {
    "collapsed": false,
    "pycharm": {
     "name": "#%%\n"
    }
   }
  },
  {
   "cell_type": "markdown",
   "source": [
    "### FE of Numerical Data"
   ],
   "metadata": {
    "collapsed": false,
    "pycharm": {
     "name": "#%% md\n"
    }
   }
  },
  {
   "cell_type": "markdown",
   "source": [
    "### feature containing % dataset created by individual artists"
   ],
   "metadata": {
    "collapsed": false,
    "pycharm": {
     "name": "#%% md\n"
    }
   }
  },
  {
   "cell_type": "code",
   "execution_count": 33,
   "outputs": [],
   "source": [
    "import scipy.stats as stats"
   ],
   "metadata": {
    "collapsed": false,
    "pycharm": {
     "name": "#%%\n"
    }
   }
  },
  {
   "cell_type": "code",
   "execution_count": 34,
   "outputs": [],
   "source": [
    "percent_by_artist = stored_latin_art.preferreddisplayname.value_counts(normalize='True')"
   ],
   "metadata": {
    "collapsed": false,
    "pycharm": {
     "name": "#%%\n"
    }
   }
  },
  {
   "cell_type": "code",
   "execution_count": 35,
   "outputs": [],
   "source": [
    "artist_zscore = stats.zscore(percent_by_artist)"
   ],
   "metadata": {
    "collapsed": false,
    "pycharm": {
     "name": "#%%\n"
    }
   }
  },
  {
   "cell_type": "code",
   "execution_count": 36,
   "outputs": [],
   "source": [
    "stored_latin_art['artist_zscore'] = stored_latin_art.preferreddisplayname.apply(lambda x: artist_zscore[x])"
   ],
   "metadata": {
    "collapsed": false,
    "pycharm": {
     "name": "#%%\n"
    }
   }
  },
  {
   "cell_type": "code",
   "execution_count": 37,
   "outputs": [],
   "source": [
    "stored_latin_art['percent_by_artist'] = stored_latin_art.preferreddisplayname.apply(lambda x: percent_by_artist[x])"
   ],
   "metadata": {
    "collapsed": false,
    "pycharm": {
     "name": "#%%\n"
    }
   }
  },
  {
   "cell_type": "code",
   "execution_count": 38,
   "outputs": [],
   "source": [
    "stored_latin_art['log_percent_by_artist'] = stored_latin_art['percent_by_artist'].apply(lambda x: np.log(x + 1))"
   ],
   "metadata": {
    "collapsed": false,
    "pycharm": {
     "name": "#%%\n"
    }
   }
  },
  {
   "cell_type": "code",
   "execution_count": 39,
   "outputs": [],
   "source": [
    "stored_latin_art['log_width'] = stored_latin_art['width'].apply(lambda x: np.log(x + 1))\n",
    "stored_latin_art['log_height'] = stored_latin_art['height'].apply(lambda x: np.log(x + 1))"
   ],
   "metadata": {
    "collapsed": false,
    "pycharm": {
     "name": "#%%\n"
    }
   }
  },
  {
   "cell_type": "code",
   "execution_count": 40,
   "outputs": [],
   "source": [
    "numerical_cols = ['log_width', 'log_height', 'log_percent_by_artist']"
   ],
   "metadata": {
    "collapsed": false,
    "pycharm": {
     "name": "#%%\n"
    }
   }
  },
  {
   "cell_type": "code",
   "execution_count": 41,
   "outputs": [],
   "source": [
    "numerical_data = stored_latin_art.loc[:, numerical_cols]"
   ],
   "metadata": {
    "collapsed": false,
    "pycharm": {
     "name": "#%%\n"
    }
   }
  },
  {
   "cell_type": "markdown",
   "source": [
    "### Final Collection of Transformed data"
   ],
   "metadata": {
    "collapsed": false,
    "pycharm": {
     "name": "#%% md\n"
    }
   }
  },
  {
   "cell_type": "code",
   "execution_count": 42,
   "outputs": [],
   "source": [
    "image_features = ['expanded_url', 'file_name', 'directory', 'file_downloaded']"
   ],
   "metadata": {
    "collapsed": false,
    "pycharm": {
     "name": "#%%\n"
    }
   }
  },
  {
   "cell_type": "code",
   "execution_count": 43,
   "outputs": [],
   "source": [
    "image_data = stored_latin_art.loc[:, image_features]"
   ],
   "metadata": {
    "collapsed": false,
    "pycharm": {
     "name": "#%%\n"
    }
   }
  },
  {
   "cell_type": "code",
   "execution_count": 44,
   "outputs": [
    {
     "name": "stdout",
     "output_type": "stream",
     "text": [
      "(328, 4)\n",
      "(328, 727)\n",
      "(328, 3)\n"
     ]
    }
   ],
   "source": [
    "print(image_data.shape)\n",
    "print(oh_collection.shape)\n",
    "print(numerical_data.shape)"
   ],
   "metadata": {
    "collapsed": false,
    "pycharm": {
     "name": "#%%\n"
    }
   }
  },
  {
   "cell_type": "code",
   "execution_count": 45,
   "outputs": [],
   "source": [
    "transformed_data = pd.concat([image_data, oh_collection, numerical_data], axis=1)"
   ],
   "metadata": {
    "collapsed": false,
    "pycharm": {
     "name": "#%%\n"
    }
   }
  },
  {
   "cell_type": "code",
   "execution_count": 46,
   "outputs": [
    {
     "data": {
      "text/plain": "                                        expanded_url            file_name  \\\n0  https://api.nga.gov/iiif/95bc5221-79a1-49e1-b7...  Festival_Andino.jpg   \n1  https://api.nga.gov/iiif/f8a0c85d-7cfa-4e63-ae...     Chester_Dale.jpg   \n2  https://api.nga.gov/iiif/a2bc5dff-08a4-46d5-97...   Compostion_XVI.jpg   \n3  https://api.nga.gov/iiif/c73c0136-d48d-4bea-89...    Compostion_IV.jpg   \n4  https://api.nga.gov/iiif/1f1918c9-9d30-4491-a9...     Compostion_I.jpg   \n\n      directory file_downloaded  17  1962  1972  1977  20  25  ...  \\\n0  ./All_Images            True   0     0     0     0   0   0  ...   \n1  ./All_Images            True   0     0     0     0   0   0  ...   \n2  ./All_Images            True   0     0     0     0   0   0  ...   \n3  ./All_Images            True   0     0     0     0   0   0  ...   \n4  ./All_Images            True   0     0     0     0   0   0  ...   \n\n   mexico (country)  nicaragua (country)  of (country)  peru (country)  \\\n0                 0                    0             0               0   \n1                 1                    0             0               0   \n2                 0                    0             0               0   \n3                 0                    0             0               0   \n4                 0                    0             0               0   \n\n   republic (country)  uruguay (country)  venezuela (country)  log_width  \\\n0                   0                  0                    0   7.994295   \n1                   0                  0                    0   8.575085   \n2                   0                  0                    0   7.981733   \n3                   0                  0                    0   8.294300   \n4                   0                  0                    0   8.294300   \n\n   log_height  log_percent_by_artist  \n0    8.294300               0.003044  \n1    8.336151               0.018127  \n2    8.294300               0.053425  \n3    8.039802               0.053425  \n4    8.034307               0.053425  \n\n[5 rows x 734 columns]",
      "text/html": "<div>\n<style scoped>\n    .dataframe tbody tr th:only-of-type {\n        vertical-align: middle;\n    }\n\n    .dataframe tbody tr th {\n        vertical-align: top;\n    }\n\n    .dataframe thead th {\n        text-align: right;\n    }\n</style>\n<table border=\"1\" class=\"dataframe\">\n  <thead>\n    <tr style=\"text-align: right;\">\n      <th></th>\n      <th>expanded_url</th>\n      <th>file_name</th>\n      <th>directory</th>\n      <th>file_downloaded</th>\n      <th>17</th>\n      <th>1962</th>\n      <th>1972</th>\n      <th>1977</th>\n      <th>20</th>\n      <th>25</th>\n      <th>...</th>\n      <th>mexico (country)</th>\n      <th>nicaragua (country)</th>\n      <th>of (country)</th>\n      <th>peru (country)</th>\n      <th>republic (country)</th>\n      <th>uruguay (country)</th>\n      <th>venezuela (country)</th>\n      <th>log_width</th>\n      <th>log_height</th>\n      <th>log_percent_by_artist</th>\n    </tr>\n  </thead>\n  <tbody>\n    <tr>\n      <th>0</th>\n      <td>https://api.nga.gov/iiif/95bc5221-79a1-49e1-b7...</td>\n      <td>Festival_Andino.jpg</td>\n      <td>./All_Images</td>\n      <td>True</td>\n      <td>0</td>\n      <td>0</td>\n      <td>0</td>\n      <td>0</td>\n      <td>0</td>\n      <td>0</td>\n      <td>...</td>\n      <td>0</td>\n      <td>0</td>\n      <td>0</td>\n      <td>0</td>\n      <td>0</td>\n      <td>0</td>\n      <td>0</td>\n      <td>7.994295</td>\n      <td>8.294300</td>\n      <td>0.003044</td>\n    </tr>\n    <tr>\n      <th>1</th>\n      <td>https://api.nga.gov/iiif/f8a0c85d-7cfa-4e63-ae...</td>\n      <td>Chester_Dale.jpg</td>\n      <td>./All_Images</td>\n      <td>True</td>\n      <td>0</td>\n      <td>0</td>\n      <td>0</td>\n      <td>0</td>\n      <td>0</td>\n      <td>0</td>\n      <td>...</td>\n      <td>1</td>\n      <td>0</td>\n      <td>0</td>\n      <td>0</td>\n      <td>0</td>\n      <td>0</td>\n      <td>0</td>\n      <td>8.575085</td>\n      <td>8.336151</td>\n      <td>0.018127</td>\n    </tr>\n    <tr>\n      <th>2</th>\n      <td>https://api.nga.gov/iiif/a2bc5dff-08a4-46d5-97...</td>\n      <td>Compostion_XVI.jpg</td>\n      <td>./All_Images</td>\n      <td>True</td>\n      <td>0</td>\n      <td>0</td>\n      <td>0</td>\n      <td>0</td>\n      <td>0</td>\n      <td>0</td>\n      <td>...</td>\n      <td>0</td>\n      <td>0</td>\n      <td>0</td>\n      <td>0</td>\n      <td>0</td>\n      <td>0</td>\n      <td>0</td>\n      <td>7.981733</td>\n      <td>8.294300</td>\n      <td>0.053425</td>\n    </tr>\n    <tr>\n      <th>3</th>\n      <td>https://api.nga.gov/iiif/c73c0136-d48d-4bea-89...</td>\n      <td>Compostion_IV.jpg</td>\n      <td>./All_Images</td>\n      <td>True</td>\n      <td>0</td>\n      <td>0</td>\n      <td>0</td>\n      <td>0</td>\n      <td>0</td>\n      <td>0</td>\n      <td>...</td>\n      <td>0</td>\n      <td>0</td>\n      <td>0</td>\n      <td>0</td>\n      <td>0</td>\n      <td>0</td>\n      <td>0</td>\n      <td>8.294300</td>\n      <td>8.039802</td>\n      <td>0.053425</td>\n    </tr>\n    <tr>\n      <th>4</th>\n      <td>https://api.nga.gov/iiif/1f1918c9-9d30-4491-a9...</td>\n      <td>Compostion_I.jpg</td>\n      <td>./All_Images</td>\n      <td>True</td>\n      <td>0</td>\n      <td>0</td>\n      <td>0</td>\n      <td>0</td>\n      <td>0</td>\n      <td>0</td>\n      <td>...</td>\n      <td>0</td>\n      <td>0</td>\n      <td>0</td>\n      <td>0</td>\n      <td>0</td>\n      <td>0</td>\n      <td>0</td>\n      <td>8.294300</td>\n      <td>8.034307</td>\n      <td>0.053425</td>\n    </tr>\n  </tbody>\n</table>\n<p>5 rows × 734 columns</p>\n</div>"
     },
     "execution_count": 46,
     "metadata": {},
     "output_type": "execute_result"
    }
   ],
   "source": [
    "transformed_data.head()"
   ],
   "metadata": {
    "collapsed": false,
    "pycharm": {
     "name": "#%%\n"
    }
   }
  },
  {
   "cell_type": "code",
   "execution_count": 47,
   "outputs": [],
   "source": [
    "transformed_data.to_csv('../data_samples/results/transformed_la_art.csv', index=False)"
   ],
   "metadata": {
    "collapsed": false,
    "pycharm": {
     "name": "#%%\n"
    }
   }
  }
 ],
 "metadata": {
  "kernelspec": {
   "display_name": "Python 3",
   "language": "python",
   "name": "python3"
  },
  "language_info": {
   "codemirror_mode": {
    "name": "ipython",
    "version": 2
   },
   "file_extension": ".py",
   "mimetype": "text/x-python",
   "name": "python",
   "nbconvert_exporter": "python",
   "pygments_lexer": "ipython2",
   "version": "2.7.6"
  }
 },
 "nbformat": 4,
 "nbformat_minor": 0
}