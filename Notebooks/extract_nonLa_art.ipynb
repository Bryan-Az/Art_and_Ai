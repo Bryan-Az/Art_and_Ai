{
 "cells": [
  {
   "cell_type": "code",
   "execution_count": 2,
   "outputs": [],
   "source": [
    "import pandas as pd"
   ],
   "metadata": {
    "collapsed": false,
    "pycharm": {
     "name": "#%%\n"
    }
   }
  },
  {
   "cell_type": "code",
   "execution_count": 7,
   "outputs": [],
   "source": [
    "nonLaArt = pd.read_csv('../data_samples/nonLA_artists_works_with_links.csv')"
   ],
   "metadata": {
    "collapsed": false,
    "pycharm": {
     "name": "#%%\n"
    }
   }
  },
  {
   "cell_type": "code",
   "execution_count": 8,
   "outputs": [
    {
     "data": {
      "text/plain": "             #                                  uuid  \\\n0            1  0fd53c39-8333-4cbf-b44e-ecab29a5447e   \n1            2  10017041-429c-43b6-91c7-5470ffc0288f   \n2            3  10017041-429c-43b6-91c7-5470ffc0288f   \n3            4  10017041-429c-43b6-91c7-5470ffc0288f   \n4            5  10017041-429c-43b6-91c7-5470ffc0288f   \n...        ...                                   ...   \n235498  235499  54767d02-147d-4b74-8bbe-424f5ae43b67   \n235499  235500  54767d02-147d-4b74-8bbe-424f5ae43b67   \n235500  235501  56f26af9-d457-4f9d-ab94-9c86fe0255bf   \n235501  235502  56f26af9-d457-4f9d-ab94-9c86fe0255bf   \n235502  235503  56f2dbf4-20f5-4418-bfa7-a05dd9e7f570   \n\n                                                  iiifurl  \\\n0       https://api.nga.gov/iiif/0fd53c39-8333-4cbf-b4...   \n1       https://api.nga.gov/iiif/10017041-429c-43b6-91...   \n2       https://api.nga.gov/iiif/10017041-429c-43b6-91...   \n3       https://api.nga.gov/iiif/10017041-429c-43b6-91...   \n4       https://api.nga.gov/iiif/10017041-429c-43b6-91...   \n...                                                   ...   \n235498  https://api.nga.gov/iiif/54767d02-147d-4b74-8b...   \n235499  https://api.nga.gov/iiif/54767d02-147d-4b74-8b...   \n235500  https://api.nga.gov/iiif/56f26af9-d457-4f9d-ab...   \n235501  https://api.nga.gov/iiif/56f26af9-d457-4f9d-ab...   \n235502  https://api.nga.gov/iiif/56f2dbf4-20f5-4418-bf...   \n\n                                             iiifthumburl viewtype  sequence  \\\n0       https://api.nga.gov/iiif/0fd53c39-8333-4cbf-b4...  primary         0   \n1       https://api.nga.gov/iiif/10017041-429c-43b6-91...  primary         0   \n2       https://api.nga.gov/iiif/10017041-429c-43b6-91...  primary         0   \n3       https://api.nga.gov/iiif/10017041-429c-43b6-91...  primary         0   \n4       https://api.nga.gov/iiif/10017041-429c-43b6-91...  primary         0   \n...                                                   ...      ...       ...   \n235498  https://api.nga.gov/iiif/54767d02-147d-4b74-8b...  primary         0   \n235499  https://api.nga.gov/iiif/54767d02-147d-4b74-8b...  primary         0   \n235500  https://api.nga.gov/iiif/56f26af9-d457-4f9d-ab...  primary         0   \n235501  https://api.nga.gov/iiif/56f26af9-d457-4f9d-ab...  primary         0   \n235502  https://api.nga.gov/iiif/56f2dbf4-20f5-4418-bf...  primary         0   \n\n        width  height  maxpixels                 created  ...       ulanid  \\\n0        4591    3399        NaN  2013-12-02 12:07:19-05  ...          NaN   \n1        3118    2538        NaN  2015-09-23 11:12:17-04  ...  500115207.0   \n2        3118    2538        NaN  2015-09-23 11:12:17-04  ...  500115207.0   \n3        3118    2538        NaN  2015-09-23 11:12:17-04  ...          NaN   \n4        3118    2538        NaN  2015-09-23 11:12:17-04  ...          NaN   \n...       ...     ...        ...                     ...  ...          ...   \n235498   5482    7619        NaN  2012-10-10 10:32:48-04  ...  500024827.0   \n235499   5482    7619        NaN  2012-10-10 10:32:48-04  ...  500048286.0   \n235500   4728    6392        NaN  2014-01-06 11:13:26-05  ...  500012148.0   \n235501   4728    6392        NaN  2014-01-06 11:13:26-05  ...  500115190.0   \n235502   4000    2851      640.0  2007-06-14 14:52:42-04  ...  500024106.0   \n\n           preferreddisplayname       forwarddisplayname   lastname  \\\n0               Dieterich, John           John Dieterich  Dieterich   \n1           Muybridge, Eadweard       Eadweard Muybridge  Muybridge   \n2           Muybridge, Eadweard       Eadweard Muybridge  Muybridge   \n3       Corcoran Gallery of Art  Corcoran Gallery of Art        NaN   \n4       Corcoran Gallery of Art  Corcoran Gallery of Art        NaN   \n...                         ...                      ...        ...   \n235498        Rigaud, Hyacinthe         Hyacinthe Rigaud     Rigaud   \n235499    Balechou, Jean-Joseph     Jean-Joseph Balechou   Balechou   \n235500    Delff, Willem Jacobsz     Willem Jacobsz Delff      Delff   \n235501   Dyck, Anthony van, Sir     Sir Anthony van Dyck       Dyck   \n235502            Beckmann, Max             Max Beckmann   Beckmann   \n\n        artistofngaobject  birth_year death_year      lifespan nationality  \\\n0                       1      1855.0     1995.0  1851 to 1875    American   \n1                       1      1830.0     1904.0  1826 to 1850    American   \n2                       1      1830.0     1904.0  1826 to 1850    American   \n3                       1         NaN        NaN           NaN         NaN   \n4                       1         NaN        NaN           NaN         NaN   \n...                   ...         ...        ...           ...         ...   \n235498                  1      1659.0     1743.0  1651 to 1700      French   \n235499                  1      1716.0     1764.0  1701 to 1725      French   \n235500                  1      1580.0     1638.0  1551 to 1600       Dutch   \n235501                  1      1599.0     1641.0  1551 to 1600     Flemish   \n235502                  1      1884.0     1950.0  1876 to 1900      German   \n\n       constituenttype  \n0           individual  \n1           individual  \n2           individual  \n3            corporate  \n4            corporate  \n...                ...  \n235498      individual  \n235499      individual  \n235500      individual  \n235501      individual  \n235502      individual  \n\n[235503 rows x 35 columns]",
      "text/html": "<div>\n<style scoped>\n    .dataframe tbody tr th:only-of-type {\n        vertical-align: middle;\n    }\n\n    .dataframe tbody tr th {\n        vertical-align: top;\n    }\n\n    .dataframe thead th {\n        text-align: right;\n    }\n</style>\n<table border=\"1\" class=\"dataframe\">\n  <thead>\n    <tr style=\"text-align: right;\">\n      <th></th>\n      <th>#</th>\n      <th>uuid</th>\n      <th>iiifurl</th>\n      <th>iiifthumburl</th>\n      <th>viewtype</th>\n      <th>sequence</th>\n      <th>width</th>\n      <th>height</th>\n      <th>maxpixels</th>\n      <th>created</th>\n      <th>...</th>\n      <th>ulanid</th>\n      <th>preferreddisplayname</th>\n      <th>forwarddisplayname</th>\n      <th>lastname</th>\n      <th>artistofngaobject</th>\n      <th>birth_year</th>\n      <th>death_year</th>\n      <th>lifespan</th>\n      <th>nationality</th>\n      <th>constituenttype</th>\n    </tr>\n  </thead>\n  <tbody>\n    <tr>\n      <th>0</th>\n      <td>1</td>\n      <td>0fd53c39-8333-4cbf-b44e-ecab29a5447e</td>\n      <td>https://api.nga.gov/iiif/0fd53c39-8333-4cbf-b4...</td>\n      <td>https://api.nga.gov/iiif/0fd53c39-8333-4cbf-b4...</td>\n      <td>primary</td>\n      <td>0</td>\n      <td>4591</td>\n      <td>3399</td>\n      <td>NaN</td>\n      <td>2013-12-02 12:07:19-05</td>\n      <td>...</td>\n      <td>NaN</td>\n      <td>Dieterich, John</td>\n      <td>John Dieterich</td>\n      <td>Dieterich</td>\n      <td>1</td>\n      <td>1855.0</td>\n      <td>1995.0</td>\n      <td>1851 to 1875</td>\n      <td>American</td>\n      <td>individual</td>\n    </tr>\n    <tr>\n      <th>1</th>\n      <td>2</td>\n      <td>10017041-429c-43b6-91c7-5470ffc0288f</td>\n      <td>https://api.nga.gov/iiif/10017041-429c-43b6-91...</td>\n      <td>https://api.nga.gov/iiif/10017041-429c-43b6-91...</td>\n      <td>primary</td>\n      <td>0</td>\n      <td>3118</td>\n      <td>2538</td>\n      <td>NaN</td>\n      <td>2015-09-23 11:12:17-04</td>\n      <td>...</td>\n      <td>500115207.0</td>\n      <td>Muybridge, Eadweard</td>\n      <td>Eadweard Muybridge</td>\n      <td>Muybridge</td>\n      <td>1</td>\n      <td>1830.0</td>\n      <td>1904.0</td>\n      <td>1826 to 1850</td>\n      <td>American</td>\n      <td>individual</td>\n    </tr>\n    <tr>\n      <th>2</th>\n      <td>3</td>\n      <td>10017041-429c-43b6-91c7-5470ffc0288f</td>\n      <td>https://api.nga.gov/iiif/10017041-429c-43b6-91...</td>\n      <td>https://api.nga.gov/iiif/10017041-429c-43b6-91...</td>\n      <td>primary</td>\n      <td>0</td>\n      <td>3118</td>\n      <td>2538</td>\n      <td>NaN</td>\n      <td>2015-09-23 11:12:17-04</td>\n      <td>...</td>\n      <td>500115207.0</td>\n      <td>Muybridge, Eadweard</td>\n      <td>Eadweard Muybridge</td>\n      <td>Muybridge</td>\n      <td>1</td>\n      <td>1830.0</td>\n      <td>1904.0</td>\n      <td>1826 to 1850</td>\n      <td>American</td>\n      <td>individual</td>\n    </tr>\n    <tr>\n      <th>3</th>\n      <td>4</td>\n      <td>10017041-429c-43b6-91c7-5470ffc0288f</td>\n      <td>https://api.nga.gov/iiif/10017041-429c-43b6-91...</td>\n      <td>https://api.nga.gov/iiif/10017041-429c-43b6-91...</td>\n      <td>primary</td>\n      <td>0</td>\n      <td>3118</td>\n      <td>2538</td>\n      <td>NaN</td>\n      <td>2015-09-23 11:12:17-04</td>\n      <td>...</td>\n      <td>NaN</td>\n      <td>Corcoran Gallery of Art</td>\n      <td>Corcoran Gallery of Art</td>\n      <td>NaN</td>\n      <td>1</td>\n      <td>NaN</td>\n      <td>NaN</td>\n      <td>NaN</td>\n      <td>NaN</td>\n      <td>corporate</td>\n    </tr>\n    <tr>\n      <th>4</th>\n      <td>5</td>\n      <td>10017041-429c-43b6-91c7-5470ffc0288f</td>\n      <td>https://api.nga.gov/iiif/10017041-429c-43b6-91...</td>\n      <td>https://api.nga.gov/iiif/10017041-429c-43b6-91...</td>\n      <td>primary</td>\n      <td>0</td>\n      <td>3118</td>\n      <td>2538</td>\n      <td>NaN</td>\n      <td>2015-09-23 11:12:17-04</td>\n      <td>...</td>\n      <td>NaN</td>\n      <td>Corcoran Gallery of Art</td>\n      <td>Corcoran Gallery of Art</td>\n      <td>NaN</td>\n      <td>1</td>\n      <td>NaN</td>\n      <td>NaN</td>\n      <td>NaN</td>\n      <td>NaN</td>\n      <td>corporate</td>\n    </tr>\n    <tr>\n      <th>...</th>\n      <td>...</td>\n      <td>...</td>\n      <td>...</td>\n      <td>...</td>\n      <td>...</td>\n      <td>...</td>\n      <td>...</td>\n      <td>...</td>\n      <td>...</td>\n      <td>...</td>\n      <td>...</td>\n      <td>...</td>\n      <td>...</td>\n      <td>...</td>\n      <td>...</td>\n      <td>...</td>\n      <td>...</td>\n      <td>...</td>\n      <td>...</td>\n      <td>...</td>\n      <td>...</td>\n    </tr>\n    <tr>\n      <th>235498</th>\n      <td>235499</td>\n      <td>54767d02-147d-4b74-8bbe-424f5ae43b67</td>\n      <td>https://api.nga.gov/iiif/54767d02-147d-4b74-8b...</td>\n      <td>https://api.nga.gov/iiif/54767d02-147d-4b74-8b...</td>\n      <td>primary</td>\n      <td>0</td>\n      <td>5482</td>\n      <td>7619</td>\n      <td>NaN</td>\n      <td>2012-10-10 10:32:48-04</td>\n      <td>...</td>\n      <td>500024827.0</td>\n      <td>Rigaud, Hyacinthe</td>\n      <td>Hyacinthe Rigaud</td>\n      <td>Rigaud</td>\n      <td>1</td>\n      <td>1659.0</td>\n      <td>1743.0</td>\n      <td>1651 to 1700</td>\n      <td>French</td>\n      <td>individual</td>\n    </tr>\n    <tr>\n      <th>235499</th>\n      <td>235500</td>\n      <td>54767d02-147d-4b74-8bbe-424f5ae43b67</td>\n      <td>https://api.nga.gov/iiif/54767d02-147d-4b74-8b...</td>\n      <td>https://api.nga.gov/iiif/54767d02-147d-4b74-8b...</td>\n      <td>primary</td>\n      <td>0</td>\n      <td>5482</td>\n      <td>7619</td>\n      <td>NaN</td>\n      <td>2012-10-10 10:32:48-04</td>\n      <td>...</td>\n      <td>500048286.0</td>\n      <td>Balechou, Jean-Joseph</td>\n      <td>Jean-Joseph Balechou</td>\n      <td>Balechou</td>\n      <td>1</td>\n      <td>1716.0</td>\n      <td>1764.0</td>\n      <td>1701 to 1725</td>\n      <td>French</td>\n      <td>individual</td>\n    </tr>\n    <tr>\n      <th>235500</th>\n      <td>235501</td>\n      <td>56f26af9-d457-4f9d-ab94-9c86fe0255bf</td>\n      <td>https://api.nga.gov/iiif/56f26af9-d457-4f9d-ab...</td>\n      <td>https://api.nga.gov/iiif/56f26af9-d457-4f9d-ab...</td>\n      <td>primary</td>\n      <td>0</td>\n      <td>4728</td>\n      <td>6392</td>\n      <td>NaN</td>\n      <td>2014-01-06 11:13:26-05</td>\n      <td>...</td>\n      <td>500012148.0</td>\n      <td>Delff, Willem Jacobsz</td>\n      <td>Willem Jacobsz Delff</td>\n      <td>Delff</td>\n      <td>1</td>\n      <td>1580.0</td>\n      <td>1638.0</td>\n      <td>1551 to 1600</td>\n      <td>Dutch</td>\n      <td>individual</td>\n    </tr>\n    <tr>\n      <th>235501</th>\n      <td>235502</td>\n      <td>56f26af9-d457-4f9d-ab94-9c86fe0255bf</td>\n      <td>https://api.nga.gov/iiif/56f26af9-d457-4f9d-ab...</td>\n      <td>https://api.nga.gov/iiif/56f26af9-d457-4f9d-ab...</td>\n      <td>primary</td>\n      <td>0</td>\n      <td>4728</td>\n      <td>6392</td>\n      <td>NaN</td>\n      <td>2014-01-06 11:13:26-05</td>\n      <td>...</td>\n      <td>500115190.0</td>\n      <td>Dyck, Anthony van, Sir</td>\n      <td>Sir Anthony van Dyck</td>\n      <td>Dyck</td>\n      <td>1</td>\n      <td>1599.0</td>\n      <td>1641.0</td>\n      <td>1551 to 1600</td>\n      <td>Flemish</td>\n      <td>individual</td>\n    </tr>\n    <tr>\n      <th>235502</th>\n      <td>235503</td>\n      <td>56f2dbf4-20f5-4418-bfa7-a05dd9e7f570</td>\n      <td>https://api.nga.gov/iiif/56f2dbf4-20f5-4418-bf...</td>\n      <td>https://api.nga.gov/iiif/56f2dbf4-20f5-4418-bf...</td>\n      <td>primary</td>\n      <td>0</td>\n      <td>4000</td>\n      <td>2851</td>\n      <td>640.0</td>\n      <td>2007-06-14 14:52:42-04</td>\n      <td>...</td>\n      <td>500024106.0</td>\n      <td>Beckmann, Max</td>\n      <td>Max Beckmann</td>\n      <td>Beckmann</td>\n      <td>1</td>\n      <td>1884.0</td>\n      <td>1950.0</td>\n      <td>1876 to 1900</td>\n      <td>German</td>\n      <td>individual</td>\n    </tr>\n  </tbody>\n</table>\n<p>235503 rows × 35 columns</p>\n</div>"
     },
     "execution_count": 8,
     "metadata": {},
     "output_type": "execute_result"
    }
   ],
   "source": [
    "nonLaArt"
   ],
   "metadata": {
    "collapsed": false,
    "pycharm": {
     "name": "#%%\n"
    }
   }
  },
  {
   "cell_type": "code",
   "execution_count": null,
   "outputs": [],
   "source": [],
   "metadata": {
    "collapsed": false,
    "pycharm": {
     "name": "#%%\n"
    }
   }
  }
 ],
 "metadata": {
  "kernelspec": {
   "display_name": "Python 3",
   "language": "python",
   "name": "python3"
  },
  "language_info": {
   "codemirror_mode": {
    "name": "ipython",
    "version": 2
   },
   "file_extension": ".py",
   "mimetype": "text/x-python",
   "name": "python",
   "nbconvert_exporter": "python",
   "pygments_lexer": "ipython2",
   "version": "2.7.6"
  }
 },
 "nbformat": 4,
 "nbformat_minor": 0
}