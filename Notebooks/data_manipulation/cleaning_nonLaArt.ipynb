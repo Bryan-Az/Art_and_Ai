{
 "cells": [
  {
   "cell_type": "code",
   "execution_count": 63,
   "outputs": [],
   "source": [
    "import pandas as pd"
   ],
   "metadata": {
    "collapsed": false,
    "pycharm": {
     "name": "#%%\n"
    }
   }
  },
  {
   "cell_type": "code",
   "execution_count": 64,
   "outputs": [],
   "source": [
    "nonLaArt = pd.read_csv('../../data_samples/results/processed_results/pa_nonLa_art.csv')"
   ],
   "metadata": {
    "collapsed": false,
    "pycharm": {
     "name": "#%%\n"
    }
   }
  },
  {
   "cell_type": "code",
   "execution_count": 65,
   "outputs": [],
   "source": [
    "LaArt = pd.read_csv('../../data_samples/results/processed_results/pa_latin_art.csv')"
   ],
   "metadata": {
    "collapsed": false,
    "pycharm": {
     "name": "#%%\n"
    }
   }
  },
  {
   "cell_type": "code",
   "execution_count": 66,
   "outputs": [],
   "source": [
    "#removing rows where there is no publically available image link\n",
    "nonLaArt = nonLaArt.where(nonLaArt.iiifthumburl.apply(lambda x: pd.notna(x))).dropna(how='all')"
   ],
   "metadata": {
    "collapsed": false,
    "pycharm": {
     "name": "#%%\n"
    }
   }
  },
  {
   "cell_type": "code",
   "execution_count": 67,
   "outputs": [
    {
     "name": "stdout",
     "output_type": "stream",
     "text": [
      "(354, 39)\n",
      "(235503, 60)\n"
     ]
    }
   ],
   "source": [
    "print(LaArt.shape)\n",
    "print(nonLaArt.shape)"
   ],
   "metadata": {
    "collapsed": false,
    "pycharm": {
     "name": "#%%\n"
    }
   }
  },
  {
   "cell_type": "code",
   "execution_count": 68,
   "outputs": [],
   "source": [
    "# Change - Reformat URL to View Entire Art (Expanded Url)\n",
    "nonLaArt['expanded_url'] = nonLaArt.iiifthumburl.apply(lambda x: x.replace('!200,200', 'full'))"
   ],
   "metadata": {
    "collapsed": false,
    "pycharm": {
     "name": "#%%\n"
    }
   }
  },
  {
   "cell_type": "code",
   "execution_count": 69,
   "outputs": [],
   "source": [
    "#selecting only data that has a listed nationality\n",
    "nonLaArt = nonLaArt.where(nonLaArt.nationality.apply(pd.notna)).dropna(how='all')"
   ],
   "metadata": {
    "collapsed": false,
    "pycharm": {
     "name": "#%%\n"
    }
   }
  },
  {
   "cell_type": "code",
   "execution_count": 70,
   "outputs": [
    {
     "name": "stdout",
     "output_type": "stream",
     "text": [
      "(354, 39)\n",
      "(204986, 61)\n"
     ]
    }
   ],
   "source": [
    "print(LaArt.shape)\n",
    "print(nonLaArt.shape)"
   ],
   "metadata": {
    "collapsed": false,
    "pycharm": {
     "name": "#%%\n"
    }
   }
  },
  {
   "cell_type": "code",
   "execution_count": 75,
   "outputs": [
    {
     "data": {
      "text/plain": "set()"
     },
     "execution_count": 75,
     "metadata": {},
     "output_type": "execute_result"
    }
   ],
   "source": [
    "#To Remove (Columns in nonLaArt, not in LaArt)\n",
    "set(nonLaArt.columns) - set(LaArt.columns)"
   ],
   "metadata": {
    "collapsed": false,
    "pycharm": {
     "name": "#%%\n"
    }
   }
  },
  {
   "cell_type": "code",
   "execution_count": 72,
   "outputs": [],
   "source": [
    "#dropping columns in nonLaArt missing in LaArt\n",
    "nonLaArt = nonLaArt.drop(columns = ['modified', 'iiifthumburl', 'iiifurl', 'viewtype', 'zipcode_created', 'watermarks', 'volume', 'visualbrowserclassification', 'viewtype', 'uuid', 'suffix', 'roletype', 'role', 'prefix', 'modified', 'locationid', 'lastdetectedmodification', 'iiifurl', 'iiifthumburl', 'departmentabbr', 'artistofngaobject', 'artist_lifespan', 'accessionnum', 'accessioned', 'birth_year', 'country_created', 'created', 'creation_end', 'creation_start', 'customprinturl', 'death_year', 'lifespan', 'relationship_ended', 'relationship_started', 'subclassification'])"
   ],
   "metadata": {
    "collapsed": false,
    "pycharm": {
     "name": "#%%\n"
    }
   }
  },
  {
   "cell_type": "code",
   "execution_count": 74,
   "outputs": [
    {
     "data": {
      "text/plain": "{'Continent',\n 'Country',\n 'Country Name',\n 'Percent_in_NGA',\n 'accessioned',\n 'directory',\n 'displaydate',\n 'file_downloaded',\n 'file_name'}"
     },
     "execution_count": 74,
     "metadata": {},
     "output_type": "execute_result"
    }
   ],
   "source": [
    "#to add columns\n",
    "set(LaArt.columns) - set(nonLaArt.columns)"
   ],
   "metadata": {
    "collapsed": false,
    "pycharm": {
     "name": "#%%\n"
    }
   }
  },
  {
   "cell_type": "code",
   "execution_count": 76,
   "outputs": [
    {
     "name": "stdout",
     "output_type": "stream",
     "text": [
      "(354, 39)\n",
      "(204986, 30)\n"
     ]
    }
   ],
   "source": [
    "print(LaArt.shape)\n",
    "print(nonLaArt.shape)"
   ],
   "metadata": {
    "collapsed": false,
    "pycharm": {
     "name": "#%%\n"
    }
   }
  }
 ],
 "metadata": {
  "kernelspec": {
   "display_name": "Python 3",
   "language": "python",
   "name": "python3"
  },
  "language_info": {
   "codemirror_mode": {
    "name": "ipython",
    "version": 2
   },
   "file_extension": ".py",
   "mimetype": "text/x-python",
   "name": "python",
   "nbconvert_exporter": "python",
   "pygments_lexer": "ipython2",
   "version": "2.7.6"
  }
 },
 "nbformat": 4,
 "nbformat_minor": 0
}