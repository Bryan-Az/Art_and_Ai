{
 "cells": [
  {
   "cell_type": "code",
   "execution_count": 1,
   "outputs": [],
   "source": [
    "import pandas as pd"
   ],
   "metadata": {
    "collapsed": false,
    "pycharm": {
     "name": "#%%\n"
    }
   }
  },
  {
   "cell_type": "markdown",
   "source": [
    "### Importing the Data (as URL taken from NGA database)"
   ],
   "metadata": {
    "collapsed": false,
    "pycharm": {
     "name": "#%% md\n"
    }
   }
  },
  {
   "cell_type": "code",
   "execution_count": 2,
   "outputs": [],
   "source": [
    "#pa_latin_art = pd.read_csv('./data_samples/pa_latin_art.csv')"
   ],
   "metadata": {
    "collapsed": false,
    "pycharm": {
     "name": "#%%\n"
    }
   }
  },
  {
   "cell_type": "code",
   "execution_count": 3,
   "outputs": [],
   "source": [
    "#pa_latin_art.drop(columns=['created', 'modified', 'iiifthumburl', 'iiifurl', 'artistofngaobject', 'beginyear', 'endyear', 'visualbrowsertimespan', 'visualbrowsernationality', 'Demonym', 'visualbrowserclassification', 'visualbrowsertimespan.1', 'displaydate.1', 'beginyear.1', 'endyear.1', 'objectid.1', 'volume', 'watermarks', 'subclassification', 'accessionnum', 'customprinturl', 'lastdetectedmodification'], inplace=True)"
   ],
   "metadata": {
    "collapsed": false,
    "pycharm": {
     "name": "#%%\n"
    }
   }
  },
  {
   "cell_type": "code",
   "execution_count": 4,
   "outputs": [],
   "source": [
    "#pa_latin_art = pa_latin_art[['expanded_url', 'title','forwarddisplayname', 'medium', 'displaydate', 'viewtype', 'sequence', 'width', 'height','maxpixels',\n",
    "                             #'depictstmsobjectid', 'assistivetext', 'objectid', 'displayorder',\n",
    "                             #'roletype', 'role', 'constituentid', 'ulanid', 'preferreddisplayname', 'lastname', 'nationality',\n",
    "                             #'constituenttype', 'Percent_in_NGA', 'Country', 'Continent',\n",
    "                             #'Country Name', 'accessioned', 'locationid',\n",
    "                             #'dimensions', 'inscription', 'markings', 'attributioninverted',\n",
    "                             #'attribution', 'provenancetext', 'creditline', 'classification',\n",
    "                             #'parentid', 'isvirtual', 'departmentabbr', 'portfolio', 'series']]"
   ],
   "metadata": {
    "collapsed": false,
    "pycharm": {
     "name": "#%%\n"
    }
   }
  },
  {
   "cell_type": "code",
   "execution_count": 5,
   "outputs": [],
   "source": [
    "#pa_latin_art"
   ],
   "metadata": {
    "collapsed": false,
    "pycharm": {
     "name": "#%%\n"
    }
   }
  },
  {
   "cell_type": "markdown",
   "source": [
    "### Scraping Images from Open Source NGA Database"
   ],
   "metadata": {
    "collapsed": false,
    "pycharm": {
     "name": "#%% md\n"
    }
   }
  },
  {
   "cell_type": "code",
   "execution_count": 6,
   "outputs": [],
   "source": [
    "#import shutil\n",
    "#import requests\n",
    "#def download_image(url, file_name, headers):\n",
    "#    response = requests.get(url, headers=headers)\n",
    "#    if response.status_code == 200:\n",
    "#        with open(file_name, \"wb\") as f:\n",
    "#            f.write(response.content)\n",
    "#        shutil.move(file_name,'./All_Images/' + file_name)\n",
    "#    else:\n",
    "#        print(response.status_code)"
   ],
   "metadata": {
    "collapsed": false,
    "pycharm": {
     "name": "#%%\n"
    }
   }
  },
  {
   "cell_type": "code",
   "execution_count": 7,
   "outputs": [],
   "source": [
    " # Define HTTP Headers\n",
    "#headers = {\n",
    "#    \"User-Agent\": \"Chrome/51.0.2704.103\",\n",
    "#}\n",
    "#import time\n",
    "#for i in range(197, len(pa_latin_art)):\n",
    "#    #Define URL of an image\n",
    "#    url = pa_latin_art.expanded_url[i]\n",
    "#    # Define image file name\n",
    "#    file_name = str.replace(str.replace(pa_latin_art.title[i], ' ', '_'), '/', '&') + '_' + str.replace(pa_latin_art.lastname[i], ' ', '_') + '.jpg'\n",
    "#    # Download image\n",
    "#    #timer delay (15 seconds)\n",
    "#    time.sleep(15)\n",
    "#    download_image(url, file_name, headers)"
   ],
   "metadata": {
    "collapsed": false,
    "pycharm": {
     "name": "#%%\n"
    }
   }
  },
  {
   "cell_type": "code",
   "execution_count": 8,
   "outputs": [],
   "source": [
    "#pa_latin_art['file_name'] = pd.concat([pa_latin_art[:197].title.apply(lambda x: x.replace(' ', '_') + '.jpg'), pa_latin_art[197:].title.apply(lambda x: x.replace(' ', '_').replace('/', '&')) + '_' + pa_latin_art[197:].lastname.apply(lambda x: x + '.jpg')])"
   ],
   "metadata": {
    "collapsed": false,
    "pycharm": {
     "name": "#%%\n"
    }
   }
  },
  {
   "cell_type": "code",
   "execution_count": 9,
   "outputs": [],
   "source": [
    "#pa_latin_art.to_csv('./data_samples/pa_latin_art.csv', index=False)"
   ],
   "metadata": {
    "collapsed": false,
    "pycharm": {
     "name": "#%%\n"
    }
   }
  },
  {
   "cell_type": "markdown",
   "source": [
    "### Verifying File Names Correspond to the Dataset (Some Images Unable to be Downloaded)"
   ],
   "metadata": {
    "collapsed": false,
    "pycharm": {
     "name": "#%% md\n"
    }
   }
  },
  {
   "cell_type": "code",
   "execution_count": 10,
   "outputs": [],
   "source": [
    "#pa_latin_art.drop(columns=['departmentabbr', 'locationid', 'role', 'roletype', 'viewtype'], inplace=True)\n",
    "#pa_latin_art['directory'] = ['./All_Images'] * len(pa_latin_art)\n",
    "#pa_latin_art.to_csv('./data_samples/pa_latin_art.csv', index=False)"
   ],
   "metadata": {
    "collapsed": false,
    "pycharm": {
     "name": "#%%\n"
    }
   }
  },
  {
   "cell_type": "code",
   "execution_count": 2,
   "outputs": [],
   "source": [
    "pa_latin_art = pd.read_csv('./data_samples/pa_latin_art.csv')"
   ],
   "metadata": {
    "collapsed": false,
    "pycharm": {
     "name": "#%%\n"
    }
   }
  },
  {
   "cell_type": "code",
   "execution_count": 3,
   "outputs": [
    {
     "data": {
      "text/plain": "                                          expanded_url  \\\n0    https://api.nga.gov/iiif/95bc5221-79a1-49e1-b7...   \n1    https://api.nga.gov/iiif/f8a0c85d-7cfa-4e63-ae...   \n2    https://api.nga.gov/iiif/a2bc5dff-08a4-46d5-97...   \n3    https://api.nga.gov/iiif/c73c0136-d48d-4bea-89...   \n4    https://api.nga.gov/iiif/1f1918c9-9d30-4491-a9...   \n..                                                 ...   \n349  https://api.nga.gov/iiif/83c83210-819e-4c27-8c...   \n350  https://api.nga.gov/iiif/92410def-988a-4866-9c...   \n351  https://api.nga.gov/iiif/fcbe84cb-faa8-471d-b4...   \n352  https://api.nga.gov/iiif/015dcd20-3dda-448f-a5...   \n353  https://api.nga.gov/iiif/957d7147-9e54-473f-bd...   \n\n                                                 title     forwarddisplayname  \\\n0                                      Festival Andino        Nemesio Antunez   \n1                                         Chester Dale           Diego Rivera   \n2                                       Compostion XVI                  Matta   \n3                                        Compostion IV                  Matta   \n4                                         Compostion I                  Matta   \n..                                                 ...                    ...   \n349                                           Serafina  José Guadalupe Posada   \n350  La Mujer de Cien Maridos - Como Alfileres Pren...  José Guadalupe Posada   \n351                                        Don Chepito  José Guadalupe Posada   \n352                                 Calavera Maderista  José Guadalupe Posada   \n353                                       Château Noir        Marius de Zayas   \n\n                                                medium           displaydate  \\\n0                                     color lithograph  Chilean, 1918 - 1993   \n1                                        oil on canvas  Mexican, 1886 - 1957   \n2    color etching, soft-ground, and aquatint with ...  Chilean, 1911 - 2002   \n3             color etching, soft-ground, and aquatint  Chilean, 1911 - 2002   \n4    color etching, soft-ground, and aquatint on Ja...  Chilean, 1911 - 2002   \n..                                                 ...                   ...   \n349       metalcut and letterpress on yellow newsprint  Mexican, 1851 - 1913   \n350                          metalcut on red newsprint  Mexican, 1851 - 1913   \n351                       relief etching on pink paper  Mexican, 1851 - 1913   \n352                              relief etching (zinc)  Mexican, 1851 - 1913   \n353                                      oil on canvas  Mexican, 1880 - 1961   \n\n     sequence  width  height  maxpixels  depictstmsobjectid  ...  \\\n0           0   2963    4000      640.0               46741  ...   \n1           0   5297    4171      640.0               46537  ...   \n2           0   2926    4000      640.0               48425  ...   \n3           0   4000    3101      640.0               48413  ...   \n4           0   4000    3084      640.0               48410  ...   \n..        ...    ...     ...        ...                 ...  ...   \n349         0   2873    4000        NaN              152827  ...   \n350         0   2726    4000        NaN              152829  ...   \n351         0   4000    3169        NaN              163508  ...   \n352         0   1806    4000        NaN               30476  ...   \n353         0  29263   22362        NaN               45866  ...   \n\n                                        provenancetext  \\\n0                                                  NaN   \n1    Commissioned 1945 by Chester Dale [1883-1962],...   \n2                                                  NaN   \n3                                                  NaN   \n4                                                  NaN   \n..                                                 ...   \n349                                                NaN   \n350                                                NaN   \n351  Beverly and Christopher With, Washington, D.C....   \n352                                                NaN   \n353  Acquired 1907 by (Ambroise Vollard [1867-1939]...   \n\n                                            creditline  classification  \\\n0                                 Rosenwald Collection           Print   \n1                              Chester Dale Collection        Painting   \n2                                 Rosenwald Collection           Print   \n3                                 Rosenwald Collection           Print   \n4                                 Rosenwald Collection           Print   \n..                                                 ...             ...   \n349  Given by Art Information Volunteers in Honor o...           Print   \n350  Given by Art Information Volunteers in Honor o...           Print   \n351  Gift of Christopher and Beverly With in memory...           Print   \n352                               Rosenwald Collection           Print   \n353                  Gift of Eugene and Agnes E. Meyer        Painting   \n\n     parentid  isvirtual                                       portfolio  \\\n0         NaN          0                                             NaN   \n1         NaN          0                                             NaN   \n2         NaN          0  Suite from \"Come detta dentro vo significando\"   \n3         NaN          0  Suite from \"Come detta dentro vo significando\"   \n4         NaN          0  Suite from \"Come detta dentro vo significando\"   \n..        ...        ...                                             ...   \n349       NaN          0                                             NaN   \n350       NaN          0                                             NaN   \n351       NaN          0                                             NaN   \n352       NaN          0                                             NaN   \n353       NaN          0                                             NaN   \n\n                                             series  \\\n0                                               NaN   \n1                                               NaN   \n2    Suite from \"Come detta dentro vo significando\"   \n3    Suite from \"Come detta dentro vo significando\"   \n4    Suite from \"Come detta dentro vo significando\"   \n..                                              ...   \n349                                             NaN   \n350                                             NaN   \n351                                             NaN   \n352                                             NaN   \n353                                             NaN   \n\n                                             file_name     directory  \\\n0                                  Festival_Andino.jpg  ./All_Images   \n1                                     Chester_Dale.jpg  ./All_Images   \n2                                   Compostion_XVI.jpg  ./All_Images   \n3                                    Compostion_IV.jpg  ./All_Images   \n4                                     Compostion_I.jpg  ./All_Images   \n..                                                 ...           ...   \n349                                Serafina_Posada.jpg  ./All_Images   \n350  La_Mujer_de_Cien_Maridos_-_Como_Alfileres_Pren...  ./All_Images   \n351                             Don_Chepito_Posada.jpg  ./All_Images   \n352                      Calavera_Maderista_Posada.jpg  ./All_Images   \n353                          Château_Noir_de Zayas.jpg  ./All_Images   \n\n     file_downloaded  \n0               True  \n1               True  \n2               True  \n3               True  \n4               True  \n..               ...  \n349             True  \n350             True  \n351             True  \n352             True  \n353            False  \n\n[354 rows x 39 columns]",
      "text/html": "<div>\n<style scoped>\n    .dataframe tbody tr th:only-of-type {\n        vertical-align: middle;\n    }\n\n    .dataframe tbody tr th {\n        vertical-align: top;\n    }\n\n    .dataframe thead th {\n        text-align: right;\n    }\n</style>\n<table border=\"1\" class=\"dataframe\">\n  <thead>\n    <tr style=\"text-align: right;\">\n      <th></th>\n      <th>expanded_url</th>\n      <th>title</th>\n      <th>forwarddisplayname</th>\n      <th>medium</th>\n      <th>displaydate</th>\n      <th>sequence</th>\n      <th>width</th>\n      <th>height</th>\n      <th>maxpixels</th>\n      <th>depictstmsobjectid</th>\n      <th>...</th>\n      <th>provenancetext</th>\n      <th>creditline</th>\n      <th>classification</th>\n      <th>parentid</th>\n      <th>isvirtual</th>\n      <th>portfolio</th>\n      <th>series</th>\n      <th>file_name</th>\n      <th>directory</th>\n      <th>file_downloaded</th>\n    </tr>\n  </thead>\n  <tbody>\n    <tr>\n      <th>0</th>\n      <td>https://api.nga.gov/iiif/95bc5221-79a1-49e1-b7...</td>\n      <td>Festival Andino</td>\n      <td>Nemesio Antunez</td>\n      <td>color lithograph</td>\n      <td>Chilean, 1918 - 1993</td>\n      <td>0</td>\n      <td>2963</td>\n      <td>4000</td>\n      <td>640.0</td>\n      <td>46741</td>\n      <td>...</td>\n      <td>NaN</td>\n      <td>Rosenwald Collection</td>\n      <td>Print</td>\n      <td>NaN</td>\n      <td>0</td>\n      <td>NaN</td>\n      <td>NaN</td>\n      <td>Festival_Andino.jpg</td>\n      <td>./All_Images</td>\n      <td>True</td>\n    </tr>\n    <tr>\n      <th>1</th>\n      <td>https://api.nga.gov/iiif/f8a0c85d-7cfa-4e63-ae...</td>\n      <td>Chester Dale</td>\n      <td>Diego Rivera</td>\n      <td>oil on canvas</td>\n      <td>Mexican, 1886 - 1957</td>\n      <td>0</td>\n      <td>5297</td>\n      <td>4171</td>\n      <td>640.0</td>\n      <td>46537</td>\n      <td>...</td>\n      <td>Commissioned 1945 by Chester Dale [1883-1962],...</td>\n      <td>Chester Dale Collection</td>\n      <td>Painting</td>\n      <td>NaN</td>\n      <td>0</td>\n      <td>NaN</td>\n      <td>NaN</td>\n      <td>Chester_Dale.jpg</td>\n      <td>./All_Images</td>\n      <td>True</td>\n    </tr>\n    <tr>\n      <th>2</th>\n      <td>https://api.nga.gov/iiif/a2bc5dff-08a4-46d5-97...</td>\n      <td>Compostion XVI</td>\n      <td>Matta</td>\n      <td>color etching, soft-ground, and aquatint with ...</td>\n      <td>Chilean, 1911 - 2002</td>\n      <td>0</td>\n      <td>2926</td>\n      <td>4000</td>\n      <td>640.0</td>\n      <td>48425</td>\n      <td>...</td>\n      <td>NaN</td>\n      <td>Rosenwald Collection</td>\n      <td>Print</td>\n      <td>NaN</td>\n      <td>0</td>\n      <td>Suite from \"Come detta dentro vo significando\"</td>\n      <td>Suite from \"Come detta dentro vo significando\"</td>\n      <td>Compostion_XVI.jpg</td>\n      <td>./All_Images</td>\n      <td>True</td>\n    </tr>\n    <tr>\n      <th>3</th>\n      <td>https://api.nga.gov/iiif/c73c0136-d48d-4bea-89...</td>\n      <td>Compostion IV</td>\n      <td>Matta</td>\n      <td>color etching, soft-ground, and aquatint</td>\n      <td>Chilean, 1911 - 2002</td>\n      <td>0</td>\n      <td>4000</td>\n      <td>3101</td>\n      <td>640.0</td>\n      <td>48413</td>\n      <td>...</td>\n      <td>NaN</td>\n      <td>Rosenwald Collection</td>\n      <td>Print</td>\n      <td>NaN</td>\n      <td>0</td>\n      <td>Suite from \"Come detta dentro vo significando\"</td>\n      <td>Suite from \"Come detta dentro vo significando\"</td>\n      <td>Compostion_IV.jpg</td>\n      <td>./All_Images</td>\n      <td>True</td>\n    </tr>\n    <tr>\n      <th>4</th>\n      <td>https://api.nga.gov/iiif/1f1918c9-9d30-4491-a9...</td>\n      <td>Compostion I</td>\n      <td>Matta</td>\n      <td>color etching, soft-ground, and aquatint on Ja...</td>\n      <td>Chilean, 1911 - 2002</td>\n      <td>0</td>\n      <td>4000</td>\n      <td>3084</td>\n      <td>640.0</td>\n      <td>48410</td>\n      <td>...</td>\n      <td>NaN</td>\n      <td>Rosenwald Collection</td>\n      <td>Print</td>\n      <td>NaN</td>\n      <td>0</td>\n      <td>Suite from \"Come detta dentro vo significando\"</td>\n      <td>Suite from \"Come detta dentro vo significando\"</td>\n      <td>Compostion_I.jpg</td>\n      <td>./All_Images</td>\n      <td>True</td>\n    </tr>\n    <tr>\n      <th>...</th>\n      <td>...</td>\n      <td>...</td>\n      <td>...</td>\n      <td>...</td>\n      <td>...</td>\n      <td>...</td>\n      <td>...</td>\n      <td>...</td>\n      <td>...</td>\n      <td>...</td>\n      <td>...</td>\n      <td>...</td>\n      <td>...</td>\n      <td>...</td>\n      <td>...</td>\n      <td>...</td>\n      <td>...</td>\n      <td>...</td>\n      <td>...</td>\n      <td>...</td>\n      <td>...</td>\n    </tr>\n    <tr>\n      <th>349</th>\n      <td>https://api.nga.gov/iiif/83c83210-819e-4c27-8c...</td>\n      <td>Serafina</td>\n      <td>José Guadalupe Posada</td>\n      <td>metalcut and letterpress on yellow newsprint</td>\n      <td>Mexican, 1851 - 1913</td>\n      <td>0</td>\n      <td>2873</td>\n      <td>4000</td>\n      <td>NaN</td>\n      <td>152827</td>\n      <td>...</td>\n      <td>NaN</td>\n      <td>Given by Art Information Volunteers in Honor o...</td>\n      <td>Print</td>\n      <td>NaN</td>\n      <td>0</td>\n      <td>NaN</td>\n      <td>NaN</td>\n      <td>Serafina_Posada.jpg</td>\n      <td>./All_Images</td>\n      <td>True</td>\n    </tr>\n    <tr>\n      <th>350</th>\n      <td>https://api.nga.gov/iiif/92410def-988a-4866-9c...</td>\n      <td>La Mujer de Cien Maridos - Como Alfileres Pren...</td>\n      <td>José Guadalupe Posada</td>\n      <td>metalcut on red newsprint</td>\n      <td>Mexican, 1851 - 1913</td>\n      <td>0</td>\n      <td>2726</td>\n      <td>4000</td>\n      <td>NaN</td>\n      <td>152829</td>\n      <td>...</td>\n      <td>NaN</td>\n      <td>Given by Art Information Volunteers in Honor o...</td>\n      <td>Print</td>\n      <td>NaN</td>\n      <td>0</td>\n      <td>NaN</td>\n      <td>NaN</td>\n      <td>La_Mujer_de_Cien_Maridos_-_Como_Alfileres_Pren...</td>\n      <td>./All_Images</td>\n      <td>True</td>\n    </tr>\n    <tr>\n      <th>351</th>\n      <td>https://api.nga.gov/iiif/fcbe84cb-faa8-471d-b4...</td>\n      <td>Don Chepito</td>\n      <td>José Guadalupe Posada</td>\n      <td>relief etching on pink paper</td>\n      <td>Mexican, 1851 - 1913</td>\n      <td>0</td>\n      <td>4000</td>\n      <td>3169</td>\n      <td>NaN</td>\n      <td>163508</td>\n      <td>...</td>\n      <td>Beverly and Christopher With, Washington, D.C....</td>\n      <td>Gift of Christopher and Beverly With in memory...</td>\n      <td>Print</td>\n      <td>NaN</td>\n      <td>0</td>\n      <td>NaN</td>\n      <td>NaN</td>\n      <td>Don_Chepito_Posada.jpg</td>\n      <td>./All_Images</td>\n      <td>True</td>\n    </tr>\n    <tr>\n      <th>352</th>\n      <td>https://api.nga.gov/iiif/015dcd20-3dda-448f-a5...</td>\n      <td>Calavera Maderista</td>\n      <td>José Guadalupe Posada</td>\n      <td>relief etching (zinc)</td>\n      <td>Mexican, 1851 - 1913</td>\n      <td>0</td>\n      <td>1806</td>\n      <td>4000</td>\n      <td>NaN</td>\n      <td>30476</td>\n      <td>...</td>\n      <td>NaN</td>\n      <td>Rosenwald Collection</td>\n      <td>Print</td>\n      <td>NaN</td>\n      <td>0</td>\n      <td>NaN</td>\n      <td>NaN</td>\n      <td>Calavera_Maderista_Posada.jpg</td>\n      <td>./All_Images</td>\n      <td>True</td>\n    </tr>\n    <tr>\n      <th>353</th>\n      <td>https://api.nga.gov/iiif/957d7147-9e54-473f-bd...</td>\n      <td>Château Noir</td>\n      <td>Marius de Zayas</td>\n      <td>oil on canvas</td>\n      <td>Mexican, 1880 - 1961</td>\n      <td>0</td>\n      <td>29263</td>\n      <td>22362</td>\n      <td>NaN</td>\n      <td>45866</td>\n      <td>...</td>\n      <td>Acquired 1907 by (Ambroise Vollard [1867-1939]...</td>\n      <td>Gift of Eugene and Agnes E. Meyer</td>\n      <td>Painting</td>\n      <td>NaN</td>\n      <td>0</td>\n      <td>NaN</td>\n      <td>NaN</td>\n      <td>Château_Noir_de Zayas.jpg</td>\n      <td>./All_Images</td>\n      <td>False</td>\n    </tr>\n  </tbody>\n</table>\n<p>354 rows × 39 columns</p>\n</div>"
     },
     "execution_count": 3,
     "metadata": {},
     "output_type": "execute_result"
    }
   ],
   "source": [
    "pa_latin_art"
   ],
   "metadata": {
    "collapsed": false,
    "pycharm": {
     "name": "#%%\n"
    }
   }
  },
  {
   "cell_type": "code",
   "execution_count": 13,
   "outputs": [],
   "source": [
    "#checking that the filepath / naming conventions I used are consistent\n",
    "#from os.path import exists\n",
    "#file_exists = []\n",
    "#for i in range(len(pa_latin_art)):\n",
    "#    directory = pa_latin_art.directory[i]\n",
    "#    filename = pa_latin_art.file_name[i]\n",
    "#    full = directory + '/' + filename\n",
    "#    file_exists.append(exists(full))"
   ],
   "metadata": {
    "collapsed": false,
    "pycharm": {
     "name": "#%%\n"
    }
   }
  },
  {
   "cell_type": "code",
   "execution_count": 14,
   "outputs": [],
   "source": [
    "#pa_latin_art['file_downloaded'] = file_exists"
   ],
   "metadata": {
    "collapsed": false,
    "pycharm": {
     "name": "#%%\n"
    }
   }
  },
  {
   "cell_type": "code",
   "execution_count": 15,
   "outputs": [],
   "source": [
    "#pa_latin_art.to_csv('./data_samples/pa_latin_art.csv', index=False)"
   ],
   "metadata": {
    "collapsed": false,
    "pycharm": {
     "name": "#%%\n"
    }
   }
  },
  {
   "cell_type": "code",
   "execution_count": 4,
   "outputs": [],
   "source": [
    "stored_latin_art = pa_latin_art.where(pa_latin_art.file_downloaded == True).dropna(how='all')\n",
    "stored_latin_art.reset_index(drop = True, inplace=True)"
   ],
   "metadata": {
    "collapsed": false,
    "pycharm": {
     "name": "#%%\n"
    }
   }
  },
  {
   "cell_type": "code",
   "execution_count": 5,
   "outputs": [
    {
     "data": {
      "text/plain": "                                          expanded_url  \\\n0    https://api.nga.gov/iiif/95bc5221-79a1-49e1-b7...   \n1    https://api.nga.gov/iiif/f8a0c85d-7cfa-4e63-ae...   \n2    https://api.nga.gov/iiif/a2bc5dff-08a4-46d5-97...   \n3    https://api.nga.gov/iiif/c73c0136-d48d-4bea-89...   \n4    https://api.nga.gov/iiif/1f1918c9-9d30-4491-a9...   \n..                                                 ...   \n323  https://api.nga.gov/iiif/552e99b7-0bb5-45e1-8b...   \n324  https://api.nga.gov/iiif/83c83210-819e-4c27-8c...   \n325  https://api.nga.gov/iiif/92410def-988a-4866-9c...   \n326  https://api.nga.gov/iiif/fcbe84cb-faa8-471d-b4...   \n327  https://api.nga.gov/iiif/015dcd20-3dda-448f-a5...   \n\n                                                 title     forwarddisplayname  \\\n0                                      Festival Andino        Nemesio Antunez   \n1                                         Chester Dale           Diego Rivera   \n2                                       Compostion XVI                  Matta   \n3                                        Compostion IV                  Matta   \n4                                         Compostion I                  Matta   \n..                                                 ...                    ...   \n323                            Gran Alarma Escandalosa  José Guadalupe Posada   \n324                                           Serafina  José Guadalupe Posada   \n325  La Mujer de Cien Maridos - Como Alfileres Pren...  José Guadalupe Posada   \n326                                        Don Chepito  José Guadalupe Posada   \n327                                 Calavera Maderista  José Guadalupe Posada   \n\n                                                medium           displaydate  \\\n0                                     color lithograph  Chilean, 1918 - 1993   \n1                                        oil on canvas  Mexican, 1886 - 1957   \n2    color etching, soft-ground, and aquatint with ...  Chilean, 1911 - 2002   \n3             color etching, soft-ground, and aquatint  Chilean, 1911 - 2002   \n4    color etching, soft-ground, and aquatint on Ja...  Chilean, 1911 - 2002   \n..                                                 ...                   ...   \n323         metalcut and letterpress on pink newsprint  Mexican, 1851 - 1913   \n324       metalcut and letterpress on yellow newsprint  Mexican, 1851 - 1913   \n325                          metalcut on red newsprint  Mexican, 1851 - 1913   \n326                       relief etching on pink paper  Mexican, 1851 - 1913   \n327                              relief etching (zinc)  Mexican, 1851 - 1913   \n\n     sequence   width  height  maxpixels  depictstmsobjectid  ...  \\\n0         0.0  2963.0  4000.0      640.0             46741.0  ...   \n1         0.0  5297.0  4171.0      640.0             46537.0  ...   \n2         0.0  2926.0  4000.0      640.0             48425.0  ...   \n3         0.0  4000.0  3101.0      640.0             48413.0  ...   \n4         0.0  4000.0  3084.0      640.0             48410.0  ...   \n..        ...     ...     ...        ...                 ...  ...   \n323       0.0  4949.0  7513.0        NaN            152826.0  ...   \n324       0.0  2873.0  4000.0        NaN            152827.0  ...   \n325       0.0  2726.0  4000.0        NaN            152829.0  ...   \n326       0.0  4000.0  3169.0        NaN            163508.0  ...   \n327       0.0  1806.0  4000.0        NaN             30476.0  ...   \n\n                                        provenancetext  \\\n0                                                  NaN   \n1    Commissioned 1945 by Chester Dale [1883-1962],...   \n2                                                  NaN   \n3                                                  NaN   \n4                                                  NaN   \n..                                                 ...   \n323                                                NaN   \n324                                                NaN   \n325                                                NaN   \n326  Beverly and Christopher With, Washington, D.C....   \n327                                                NaN   \n\n                                            creditline  classification  \\\n0                                 Rosenwald Collection           Print   \n1                              Chester Dale Collection        Painting   \n2                                 Rosenwald Collection           Print   \n3                                 Rosenwald Collection           Print   \n4                                 Rosenwald Collection           Print   \n..                                                 ...             ...   \n323  Given by Art Information Volunteers in Honor o...           Print   \n324  Given by Art Information Volunteers in Honor o...           Print   \n325  Given by Art Information Volunteers in Honor o...           Print   \n326  Gift of Christopher and Beverly With in memory...           Print   \n327                               Rosenwald Collection           Print   \n\n     parentid  isvirtual                                       portfolio  \\\n0         NaN        0.0                                             NaN   \n1         NaN        0.0                                             NaN   \n2         NaN        0.0  Suite from \"Come detta dentro vo significando\"   \n3         NaN        0.0  Suite from \"Come detta dentro vo significando\"   \n4         NaN        0.0  Suite from \"Come detta dentro vo significando\"   \n..        ...        ...                                             ...   \n323       NaN        0.0                                             NaN   \n324       NaN        0.0                                             NaN   \n325       NaN        0.0                                             NaN   \n326       NaN        0.0                                             NaN   \n327       NaN        0.0                                             NaN   \n\n                                             series  \\\n0                                               NaN   \n1                                               NaN   \n2    Suite from \"Come detta dentro vo significando\"   \n3    Suite from \"Come detta dentro vo significando\"   \n4    Suite from \"Come detta dentro vo significando\"   \n..                                              ...   \n323                                             NaN   \n324                                             NaN   \n325                                             NaN   \n326                                             NaN   \n327                                             NaN   \n\n                                             file_name     directory  \\\n0                                  Festival_Andino.jpg  ./All_Images   \n1                                     Chester_Dale.jpg  ./All_Images   \n2                                   Compostion_XVI.jpg  ./All_Images   \n3                                    Compostion_IV.jpg  ./All_Images   \n4                                     Compostion_I.jpg  ./All_Images   \n..                                                 ...           ...   \n323                 Gran_Alarma_Escandalosa_Posada.jpg  ./All_Images   \n324                                Serafina_Posada.jpg  ./All_Images   \n325  La_Mujer_de_Cien_Maridos_-_Como_Alfileres_Pren...  ./All_Images   \n326                             Don_Chepito_Posada.jpg  ./All_Images   \n327                      Calavera_Maderista_Posada.jpg  ./All_Images   \n\n     file_downloaded  \n0               True  \n1               True  \n2               True  \n3               True  \n4               True  \n..               ...  \n323             True  \n324             True  \n325             True  \n326             True  \n327             True  \n\n[328 rows x 39 columns]",
      "text/html": "<div>\n<style scoped>\n    .dataframe tbody tr th:only-of-type {\n        vertical-align: middle;\n    }\n\n    .dataframe tbody tr th {\n        vertical-align: top;\n    }\n\n    .dataframe thead th {\n        text-align: right;\n    }\n</style>\n<table border=\"1\" class=\"dataframe\">\n  <thead>\n    <tr style=\"text-align: right;\">\n      <th></th>\n      <th>expanded_url</th>\n      <th>title</th>\n      <th>forwarddisplayname</th>\n      <th>medium</th>\n      <th>displaydate</th>\n      <th>sequence</th>\n      <th>width</th>\n      <th>height</th>\n      <th>maxpixels</th>\n      <th>depictstmsobjectid</th>\n      <th>...</th>\n      <th>provenancetext</th>\n      <th>creditline</th>\n      <th>classification</th>\n      <th>parentid</th>\n      <th>isvirtual</th>\n      <th>portfolio</th>\n      <th>series</th>\n      <th>file_name</th>\n      <th>directory</th>\n      <th>file_downloaded</th>\n    </tr>\n  </thead>\n  <tbody>\n    <tr>\n      <th>0</th>\n      <td>https://api.nga.gov/iiif/95bc5221-79a1-49e1-b7...</td>\n      <td>Festival Andino</td>\n      <td>Nemesio Antunez</td>\n      <td>color lithograph</td>\n      <td>Chilean, 1918 - 1993</td>\n      <td>0.0</td>\n      <td>2963.0</td>\n      <td>4000.0</td>\n      <td>640.0</td>\n      <td>46741.0</td>\n      <td>...</td>\n      <td>NaN</td>\n      <td>Rosenwald Collection</td>\n      <td>Print</td>\n      <td>NaN</td>\n      <td>0.0</td>\n      <td>NaN</td>\n      <td>NaN</td>\n      <td>Festival_Andino.jpg</td>\n      <td>./All_Images</td>\n      <td>True</td>\n    </tr>\n    <tr>\n      <th>1</th>\n      <td>https://api.nga.gov/iiif/f8a0c85d-7cfa-4e63-ae...</td>\n      <td>Chester Dale</td>\n      <td>Diego Rivera</td>\n      <td>oil on canvas</td>\n      <td>Mexican, 1886 - 1957</td>\n      <td>0.0</td>\n      <td>5297.0</td>\n      <td>4171.0</td>\n      <td>640.0</td>\n      <td>46537.0</td>\n      <td>...</td>\n      <td>Commissioned 1945 by Chester Dale [1883-1962],...</td>\n      <td>Chester Dale Collection</td>\n      <td>Painting</td>\n      <td>NaN</td>\n      <td>0.0</td>\n      <td>NaN</td>\n      <td>NaN</td>\n      <td>Chester_Dale.jpg</td>\n      <td>./All_Images</td>\n      <td>True</td>\n    </tr>\n    <tr>\n      <th>2</th>\n      <td>https://api.nga.gov/iiif/a2bc5dff-08a4-46d5-97...</td>\n      <td>Compostion XVI</td>\n      <td>Matta</td>\n      <td>color etching, soft-ground, and aquatint with ...</td>\n      <td>Chilean, 1911 - 2002</td>\n      <td>0.0</td>\n      <td>2926.0</td>\n      <td>4000.0</td>\n      <td>640.0</td>\n      <td>48425.0</td>\n      <td>...</td>\n      <td>NaN</td>\n      <td>Rosenwald Collection</td>\n      <td>Print</td>\n      <td>NaN</td>\n      <td>0.0</td>\n      <td>Suite from \"Come detta dentro vo significando\"</td>\n      <td>Suite from \"Come detta dentro vo significando\"</td>\n      <td>Compostion_XVI.jpg</td>\n      <td>./All_Images</td>\n      <td>True</td>\n    </tr>\n    <tr>\n      <th>3</th>\n      <td>https://api.nga.gov/iiif/c73c0136-d48d-4bea-89...</td>\n      <td>Compostion IV</td>\n      <td>Matta</td>\n      <td>color etching, soft-ground, and aquatint</td>\n      <td>Chilean, 1911 - 2002</td>\n      <td>0.0</td>\n      <td>4000.0</td>\n      <td>3101.0</td>\n      <td>640.0</td>\n      <td>48413.0</td>\n      <td>...</td>\n      <td>NaN</td>\n      <td>Rosenwald Collection</td>\n      <td>Print</td>\n      <td>NaN</td>\n      <td>0.0</td>\n      <td>Suite from \"Come detta dentro vo significando\"</td>\n      <td>Suite from \"Come detta dentro vo significando\"</td>\n      <td>Compostion_IV.jpg</td>\n      <td>./All_Images</td>\n      <td>True</td>\n    </tr>\n    <tr>\n      <th>4</th>\n      <td>https://api.nga.gov/iiif/1f1918c9-9d30-4491-a9...</td>\n      <td>Compostion I</td>\n      <td>Matta</td>\n      <td>color etching, soft-ground, and aquatint on Ja...</td>\n      <td>Chilean, 1911 - 2002</td>\n      <td>0.0</td>\n      <td>4000.0</td>\n      <td>3084.0</td>\n      <td>640.0</td>\n      <td>48410.0</td>\n      <td>...</td>\n      <td>NaN</td>\n      <td>Rosenwald Collection</td>\n      <td>Print</td>\n      <td>NaN</td>\n      <td>0.0</td>\n      <td>Suite from \"Come detta dentro vo significando\"</td>\n      <td>Suite from \"Come detta dentro vo significando\"</td>\n      <td>Compostion_I.jpg</td>\n      <td>./All_Images</td>\n      <td>True</td>\n    </tr>\n    <tr>\n      <th>...</th>\n      <td>...</td>\n      <td>...</td>\n      <td>...</td>\n      <td>...</td>\n      <td>...</td>\n      <td>...</td>\n      <td>...</td>\n      <td>...</td>\n      <td>...</td>\n      <td>...</td>\n      <td>...</td>\n      <td>...</td>\n      <td>...</td>\n      <td>...</td>\n      <td>...</td>\n      <td>...</td>\n      <td>...</td>\n      <td>...</td>\n      <td>...</td>\n      <td>...</td>\n      <td>...</td>\n    </tr>\n    <tr>\n      <th>323</th>\n      <td>https://api.nga.gov/iiif/552e99b7-0bb5-45e1-8b...</td>\n      <td>Gran Alarma Escandalosa</td>\n      <td>José Guadalupe Posada</td>\n      <td>metalcut and letterpress on pink newsprint</td>\n      <td>Mexican, 1851 - 1913</td>\n      <td>0.0</td>\n      <td>4949.0</td>\n      <td>7513.0</td>\n      <td>NaN</td>\n      <td>152826.0</td>\n      <td>...</td>\n      <td>NaN</td>\n      <td>Given by Art Information Volunteers in Honor o...</td>\n      <td>Print</td>\n      <td>NaN</td>\n      <td>0.0</td>\n      <td>NaN</td>\n      <td>NaN</td>\n      <td>Gran_Alarma_Escandalosa_Posada.jpg</td>\n      <td>./All_Images</td>\n      <td>True</td>\n    </tr>\n    <tr>\n      <th>324</th>\n      <td>https://api.nga.gov/iiif/83c83210-819e-4c27-8c...</td>\n      <td>Serafina</td>\n      <td>José Guadalupe Posada</td>\n      <td>metalcut and letterpress on yellow newsprint</td>\n      <td>Mexican, 1851 - 1913</td>\n      <td>0.0</td>\n      <td>2873.0</td>\n      <td>4000.0</td>\n      <td>NaN</td>\n      <td>152827.0</td>\n      <td>...</td>\n      <td>NaN</td>\n      <td>Given by Art Information Volunteers in Honor o...</td>\n      <td>Print</td>\n      <td>NaN</td>\n      <td>0.0</td>\n      <td>NaN</td>\n      <td>NaN</td>\n      <td>Serafina_Posada.jpg</td>\n      <td>./All_Images</td>\n      <td>True</td>\n    </tr>\n    <tr>\n      <th>325</th>\n      <td>https://api.nga.gov/iiif/92410def-988a-4866-9c...</td>\n      <td>La Mujer de Cien Maridos - Como Alfileres Pren...</td>\n      <td>José Guadalupe Posada</td>\n      <td>metalcut on red newsprint</td>\n      <td>Mexican, 1851 - 1913</td>\n      <td>0.0</td>\n      <td>2726.0</td>\n      <td>4000.0</td>\n      <td>NaN</td>\n      <td>152829.0</td>\n      <td>...</td>\n      <td>NaN</td>\n      <td>Given by Art Information Volunteers in Honor o...</td>\n      <td>Print</td>\n      <td>NaN</td>\n      <td>0.0</td>\n      <td>NaN</td>\n      <td>NaN</td>\n      <td>La_Mujer_de_Cien_Maridos_-_Como_Alfileres_Pren...</td>\n      <td>./All_Images</td>\n      <td>True</td>\n    </tr>\n    <tr>\n      <th>326</th>\n      <td>https://api.nga.gov/iiif/fcbe84cb-faa8-471d-b4...</td>\n      <td>Don Chepito</td>\n      <td>José Guadalupe Posada</td>\n      <td>relief etching on pink paper</td>\n      <td>Mexican, 1851 - 1913</td>\n      <td>0.0</td>\n      <td>4000.0</td>\n      <td>3169.0</td>\n      <td>NaN</td>\n      <td>163508.0</td>\n      <td>...</td>\n      <td>Beverly and Christopher With, Washington, D.C....</td>\n      <td>Gift of Christopher and Beverly With in memory...</td>\n      <td>Print</td>\n      <td>NaN</td>\n      <td>0.0</td>\n      <td>NaN</td>\n      <td>NaN</td>\n      <td>Don_Chepito_Posada.jpg</td>\n      <td>./All_Images</td>\n      <td>True</td>\n    </tr>\n    <tr>\n      <th>327</th>\n      <td>https://api.nga.gov/iiif/015dcd20-3dda-448f-a5...</td>\n      <td>Calavera Maderista</td>\n      <td>José Guadalupe Posada</td>\n      <td>relief etching (zinc)</td>\n      <td>Mexican, 1851 - 1913</td>\n      <td>0.0</td>\n      <td>1806.0</td>\n      <td>4000.0</td>\n      <td>NaN</td>\n      <td>30476.0</td>\n      <td>...</td>\n      <td>NaN</td>\n      <td>Rosenwald Collection</td>\n      <td>Print</td>\n      <td>NaN</td>\n      <td>0.0</td>\n      <td>NaN</td>\n      <td>NaN</td>\n      <td>Calavera_Maderista_Posada.jpg</td>\n      <td>./All_Images</td>\n      <td>True</td>\n    </tr>\n  </tbody>\n</table>\n<p>328 rows × 39 columns</p>\n</div>"
     },
     "execution_count": 5,
     "metadata": {},
     "output_type": "execute_result"
    }
   ],
   "source": [
    "stored_latin_art"
   ],
   "metadata": {
    "collapsed": false,
    "pycharm": {
     "name": "#%%\n"
    }
   }
  },
  {
   "cell_type": "markdown",
   "source": [
    "### Using Pre-Trained ResNet Classification Model for Initial Insights"
   ],
   "metadata": {
    "collapsed": false,
    "pycharm": {
     "name": "#%% md\n"
    }
   }
  },
  {
   "cell_type": "code",
   "execution_count": 14,
   "outputs": [],
   "source": [
    "from torchvision.models import resnet50, ResNet50_Weights\n",
    "from PIL import Image"
   ],
   "metadata": {
    "collapsed": false,
    "pycharm": {
     "name": "#%%\n"
    }
   }
  },
  {
   "cell_type": "code",
   "execution_count": 21,
   "outputs": [
    {
     "name": "stderr",
     "output_type": "stream",
     "text": [
      "Downloading: \"https://download.pytorch.org/models/resnet50-11ad3fa6.pth\" to /Users/mocha/.cache/torch/hub/checkpoints/resnet50-11ad3fa6.pth\n"
     ]
    },
    {
     "data": {
      "text/plain": "  0%|          | 0.00/97.8M [00:00<?, ?B/s]",
      "application/vnd.jupyter.widget-view+json": {
       "version_major": 2,
       "version_minor": 0,
       "model_id": "6c97a07842414b679fd763bf1d97dd5a"
      }
     },
     "metadata": {},
     "output_type": "display_data"
    }
   ],
   "source": [
    "#Step 1: Creating the Model\n",
    "weights = ResNet50_Weights.DEFAULT\n",
    "model = resnet50(weights=weights)\n",
    "model.eval()\n",
    "#Step 2: Preprocessing Step for Inference (transforming the images)\n",
    "preprocess = weights.transforms()"
   ],
   "metadata": {
    "collapsed": false,
    "pycharm": {
     "name": "#%%\n"
    }
   }
  },
  {
   "cell_type": "code",
   "execution_count": 25,
   "outputs": [],
   "source": [
    "#Step 3: Apply previous step to all Images (To speed up the process, could use a dataloader to feed the images)\n",
    "ResNet50_Accuracy = []\n",
    "ResNet50_Prediction = []\n",
    "for i in range(len(stored_latin_art)):\n",
    "    img = Image.open(stored_latin_art.directory[i] + '/' + stored_latin_art.file_name[i])\n",
    "    batch = preprocess(img).unsqueeze(0)\n",
    "    prediction = model(batch).squeeze(0).softmax(0)\n",
    "    # Step 4: Use the model and print the predicted category\n",
    "    class_id = prediction.argmax().item()\n",
    "    score = prediction[class_id].item()\n",
    "    category_name = weights.meta[\"categories\"][class_id]\n",
    "    ResNet50_Accuracy.append(100 * score)\n",
    "    ResNet50_Prediction.append(category_name)"
   ],
   "metadata": {
    "collapsed": false,
    "pycharm": {
     "name": "#%%\n"
    }
   }
  },
  {
   "cell_type": "code",
   "execution_count": 47,
   "outputs": [],
   "source": [
    "predictions = pd.DataFrame({'Image Accuracy - ResNet V2 (%)': ResNet50_Accuracy, 'Image Prediction - ResNet V2': ResNet50_Prediction})"
   ],
   "metadata": {
    "collapsed": false,
    "pycharm": {
     "name": "#%%\n"
    }
   }
  },
  {
   "cell_type": "code",
   "execution_count": 48,
   "outputs": [],
   "source": [
    "predictions = pd.concat([predictions, stored_latin_art.loc[:, ['title', 'forwarddisplayname']]], axis = 1)"
   ],
   "metadata": {
    "collapsed": false,
    "pycharm": {
     "name": "#%%\n"
    }
   }
  },
  {
   "cell_type": "code",
   "execution_count": 49,
   "outputs": [
    {
     "data": {
      "text/plain": "     Image Accuracy - ResNet V2 (%) Image Prediction - ResNet V2  \\\n179                       60.189790                   jinrikisha   \n294                       60.074079                  book jacket   \n186                       60.024506                        crate   \n168                       58.018595                  book jacket   \n210                       53.387141                        stupa   \n..                              ...                          ...   \n226                        2.786587                     umbrella   \n104                        2.688292                        groom   \n178                        2.616519                   Weimaraner   \n204                        2.514718                  book jacket   \n289                        2.167588                     terrapin   \n\n                                                 title      forwarddisplayname  \n179                  Los agachados (The crouched ones)    Manuel Álvarez Bravo  \n294                                        The Weavers         Leopoldo Méndez  \n186                               Untitled Composition   Joaquín Torres-García  \n168                                     Drowned Shadow            Maria Bonomi  \n210         La grande tentation (The Great Temptation)           Victor Delhez  \n..                                                 ...                     ...  \n226                                           Magnolia       Graciela Iturbide  \n104  Mujer angel, Desierto de Sonora, México (Angel...       Graciela Iturbide  \n178      La de las Bellas Artes (She of the fine arts)    Manuel Álvarez Bravo  \n204                          Self-Portrait at Midnight        José Luis Cuevas  \n289                                     Reclining Nude  David Alfaro Siqueiros  \n\n[328 rows x 4 columns]",
      "text/html": "<div>\n<style scoped>\n    .dataframe tbody tr th:only-of-type {\n        vertical-align: middle;\n    }\n\n    .dataframe tbody tr th {\n        vertical-align: top;\n    }\n\n    .dataframe thead th {\n        text-align: right;\n    }\n</style>\n<table border=\"1\" class=\"dataframe\">\n  <thead>\n    <tr style=\"text-align: right;\">\n      <th></th>\n      <th>Image Accuracy - ResNet V2 (%)</th>\n      <th>Image Prediction - ResNet V2</th>\n      <th>title</th>\n      <th>forwarddisplayname</th>\n    </tr>\n  </thead>\n  <tbody>\n    <tr>\n      <th>179</th>\n      <td>60.189790</td>\n      <td>jinrikisha</td>\n      <td>Los agachados (The crouched ones)</td>\n      <td>Manuel Álvarez Bravo</td>\n    </tr>\n    <tr>\n      <th>294</th>\n      <td>60.074079</td>\n      <td>book jacket</td>\n      <td>The Weavers</td>\n      <td>Leopoldo Méndez</td>\n    </tr>\n    <tr>\n      <th>186</th>\n      <td>60.024506</td>\n      <td>crate</td>\n      <td>Untitled Composition</td>\n      <td>Joaquín Torres-García</td>\n    </tr>\n    <tr>\n      <th>168</th>\n      <td>58.018595</td>\n      <td>book jacket</td>\n      <td>Drowned Shadow</td>\n      <td>Maria Bonomi</td>\n    </tr>\n    <tr>\n      <th>210</th>\n      <td>53.387141</td>\n      <td>stupa</td>\n      <td>La grande tentation (The Great Temptation)</td>\n      <td>Victor Delhez</td>\n    </tr>\n    <tr>\n      <th>...</th>\n      <td>...</td>\n      <td>...</td>\n      <td>...</td>\n      <td>...</td>\n    </tr>\n    <tr>\n      <th>226</th>\n      <td>2.786587</td>\n      <td>umbrella</td>\n      <td>Magnolia</td>\n      <td>Graciela Iturbide</td>\n    </tr>\n    <tr>\n      <th>104</th>\n      <td>2.688292</td>\n      <td>groom</td>\n      <td>Mujer angel, Desierto de Sonora, México (Angel...</td>\n      <td>Graciela Iturbide</td>\n    </tr>\n    <tr>\n      <th>178</th>\n      <td>2.616519</td>\n      <td>Weimaraner</td>\n      <td>La de las Bellas Artes (She of the fine arts)</td>\n      <td>Manuel Álvarez Bravo</td>\n    </tr>\n    <tr>\n      <th>204</th>\n      <td>2.514718</td>\n      <td>book jacket</td>\n      <td>Self-Portrait at Midnight</td>\n      <td>José Luis Cuevas</td>\n    </tr>\n    <tr>\n      <th>289</th>\n      <td>2.167588</td>\n      <td>terrapin</td>\n      <td>Reclining Nude</td>\n      <td>David Alfaro Siqueiros</td>\n    </tr>\n  </tbody>\n</table>\n<p>328 rows × 4 columns</p>\n</div>"
     },
     "execution_count": 49,
     "metadata": {},
     "output_type": "execute_result"
    }
   ],
   "source": [
    "predictions.sort_values(by='Image Accuracy - ResNet V2 (%)', ascending=False)"
   ],
   "metadata": {
    "collapsed": false,
    "pycharm": {
     "name": "#%%\n"
    }
   }
  },
  {
   "cell_type": "code",
   "execution_count": 51,
   "outputs": [],
   "source": [
    "predictions.to_csv('./data_samples/results/image_predictions_resnetv2.csv', index=False)"
   ],
   "metadata": {
    "collapsed": false,
    "pycharm": {
     "name": "#%%\n"
    }
   }
  },
  {
   "cell_type": "code",
   "execution_count": null,
   "outputs": [],
   "source": [],
   "metadata": {
    "collapsed": false,
    "pycharm": {
     "name": "#%%\n"
    }
   }
  }
 ],
 "metadata": {
  "kernelspec": {
   "display_name": "Python 3",
   "language": "python",
   "name": "python3"
  },
  "language_info": {
   "codemirror_mode": {
    "name": "ipython",
    "version": 2
   },
   "file_extension": ".py",
   "mimetype": "text/x-python",
   "name": "python",
   "nbconvert_exporter": "python",
   "pygments_lexer": "ipython2",
   "version": "2.7.6"
  }
 },
 "nbformat": 4,
 "nbformat_minor": 0
}