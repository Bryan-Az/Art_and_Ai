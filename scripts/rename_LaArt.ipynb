{
 "cells": [
  {
   "cell_type": "code",
   "execution_count": 25,
   "metadata": {
    "collapsed": false,
    "jupyter": {
     "outputs_hidden": false
    },
    "pycharm": {
     "name": "#%%\n"
    }
   },
   "outputs": [],
   "source": [
    "import pandas as pd\n",
    "import os\n",
    "import re"
   ]
  },
  {
   "cell_type": "markdown",
   "metadata": {
    "pycharm": {
     "name": "#%% md\n"
    }
   },
   "source": [
    "### Identifying location of images in the directory structure for editing"
   ]
  },
  {
   "cell_type": "code",
   "execution_count": 2,
   "metadata": {
    "collapsed": false,
    "jupyter": {
     "outputs_hidden": false
    },
    "pycharm": {
     "name": "#%%\n"
    }
   },
   "outputs": [],
   "source": [
    "#import the metadata for La Art after moving into the new directory\n",
    "la_image_metadata = pd.read_csv('../data_samples/results/whole_set_results/pa_latin_art.csv')"
   ]
  },
  {
   "cell_type": "code",
   "execution_count": 3,
   "metadata": {
    "collapsed": false,
    "jupyter": {
     "outputs_hidden": false
    },
    "pycharm": {
     "name": "#%%\n"
    }
   },
   "outputs": [],
   "source": [
    "la_image_metadata = la_image_metadata.drop(['accessioned', 'displaydate'], axis = 1)"
   ]
  },
  {
   "cell_type": "code",
   "execution_count": 4,
   "metadata": {
    "collapsed": false,
    "jupyter": {
     "outputs_hidden": false
    },
    "pycharm": {
     "name": "#%%\n"
    }
   },
   "outputs": [],
   "source": [
    "proportion_ofCountry = la_image_metadata['Country Name'].value_counts(normalize=True)\n",
    "la_image_metadata['percent_fromCountry'] = la_image_metadata['Country Name'].apply(lambda x: proportion_ofCountry[x])\n",
    "la_image_metadata = la_image_metadata.rename({'Percent_in_NGA': 'percent_fromArtist'}, axis=1)"
   ]
  },
  {
   "cell_type": "code",
   "execution_count": 5,
   "metadata": {
    "collapsed": false,
    "jupyter": {
     "outputs_hidden": false
    },
    "pycharm": {
     "name": "#%%\n"
    }
   },
   "outputs": [],
   "source": [
    "la_image_directory = '../latinamerican-2-imagefolder-split/'\n",
    "la_image_metadata['directory'] = [la_image_directory] * len(la_image_metadata)"
   ]
  },
  {
   "cell_type": "code",
   "execution_count": 6,
   "metadata": {
    "collapsed": false,
    "jupyter": {
     "outputs_hidden": false
    },
    "pycharm": {
     "name": "#%%\n"
    }
   },
   "outputs": [],
   "source": [
    "#using a file path searching algorithm to add the subdirectories the files exist in to make the full filepath\n",
    "#this function requires the name to be formatted with extension\n",
    "def find_files(filename, search_path):\n",
    "    result = []\n",
    "\n",
    "    # Walking top-down from the root\n",
    "    for root, dir, files in os.walk(search_path):\n",
    "        if filename in files:\n",
    "            result.append(os.path.join(root, filename))\n",
    "    if len(result) == 1:\n",
    "        return result[0]\n",
    "    else:\n",
    "        return 'Not Found'"
   ]
  },
  {
   "cell_type": "code",
   "execution_count": 8,
   "metadata": {
    "collapsed": false,
    "jupyter": {
     "outputs_hidden": false
    },
    "pycharm": {
     "name": "#%%\n"
    }
   },
   "outputs": [],
   "source": [
    "la_image_metadata['image_fp'] = la_image_metadata.file_name.apply(lambda x: find_files(x, la_image_directory))"
   ]
  },
  {
   "cell_type": "code",
   "execution_count": 9,
   "metadata": {
    "collapsed": false,
    "jupyter": {
     "outputs_hidden": false
    },
    "pycharm": {
     "name": "#%%\n"
    }
   },
   "outputs": [],
   "source": [
    "available_data = la_image_metadata.where(la_image_metadata.image_fp != 'Not Found').dropna(how='all')"
   ]
  },
  {
   "cell_type": "code",
   "execution_count": 12,
   "metadata": {
    "collapsed": false,
    "jupyter": {
     "outputs_hidden": false
    },
    "pycharm": {
     "name": "#%%\n"
    }
   },
   "outputs": [],
   "source": [
    "available_data['old_file_name'] = available_data.file_name.copy()"
   ]
  },
  {
   "cell_type": "code",
   "execution_count": 18,
   "metadata": {
    "collapsed": false,
    "jupyter": {
     "outputs_hidden": false
    },
    "pycharm": {
     "name": "#%%\n"
    }
   },
   "outputs": [],
   "source": [
    "#selecting columns with title, lastname, and objectid present\n",
    "available_data = available_data.where(available_data.title.apply(pd.notna)).dropna(how='all')\n",
    "available_data = available_data.where(available_data.lastname.apply(pd.notna)).dropna(how='all')\n",
    "available_data = available_data.where(available_data.objectid.apply(pd.notna)).dropna(how='all')"
   ]
  },
  {
   "cell_type": "code",
   "execution_count": 22,
   "metadata": {
    "collapsed": false,
    "jupyter": {
     "outputs_hidden": false
    },
    "pycharm": {
     "name": "#%%\n"
    }
   },
   "outputs": [],
   "source": [
    "available_data['file_name'] = available_data['title'].apply(lambda x: x.replace(' ','_').replace('/', '&')) + '_' + available_data['lastname'].apply(lambda x: x.replace(' ', '_').replace('/', '&')) + '_' + available_data['objectid'].apply(lambda x: str(int(x)) + '.jpg')"
   ]
  },
  {
   "cell_type": "code",
   "execution_count": 33,
   "metadata": {
    "collapsed": false,
    "jupyter": {
     "outputs_hidden": false
    },
    "pycharm": {
     "name": "#%%\n"
    }
   },
   "outputs": [],
   "source": [
    "available_data['subfolder'] = available_data.image_fp.apply(lambda x: re.search('train|test', x)[0])"
   ]
  },
  {
   "cell_type": "markdown",
   "metadata": {
    "pycharm": {
     "name": "#%% md\n"
    }
   },
   "source": [
    "### Identifying the duplicates which causes a reduction in the num of images downloaded due to file name overwriting issue (duplicates have same name, author) & redownloading with appropriate reidentification"
   ]
  },
  {
   "cell_type": "code",
   "execution_count": 39,
   "metadata": {
    "collapsed": false,
    "jupyter": {
     "outputs_hidden": false
    },
    "pycharm": {
     "name": "#%%\n"
    }
   },
   "outputs": [],
   "source": [
    "#redownloading files with redundant names\n",
    "#these are files we need to reinspect due to their multiplicity\n",
    "series_num_objs = available_data.loc[:, ['title', 'lastname', 'preferreddisplayname']].groupby(\n",
    "    ['title', 'lastname']).apply(len)\n",
    "series = series_num_objs[series_num_objs > 2]\n",
    "series_groups = series.index\n",
    "series_groups[0]\n",
    "duplicates = None\n",
    "for title, author in series_groups:\n",
    "    dupe_partition = available_data.where(\n",
    "        (available_data.title == title) & (available_data.lastname == author)).dropna(how='all')\n",
    "    if duplicates is None:\n",
    "        duplicates = dupe_partition\n",
    "    else:\n",
    "        duplicates = pd.concat([duplicates, dupe_partition])"
   ]
  },
  {
   "cell_type": "code",
   "execution_count": 42,
   "metadata": {
    "collapsed": false,
    "jupyter": {
     "outputs_hidden": false
    },
    "pycharm": {
     "name": "#%%\n"
    }
   },
   "outputs": [],
   "source": [
    "duplicates = duplicates.reset_index(drop=False)"
   ]
  },
  {
   "cell_type": "code",
   "execution_count": 51,
   "metadata": {
    "collapsed": false,
    "jupyter": {
     "outputs_hidden": false
    },
    "pycharm": {
     "name": "#%%\n"
    }
   },
   "outputs": [],
   "source": [
    "duplicates['old_fp'] = duplicates.directory + duplicates.subfolder + '/' + duplicates['title'].apply(lambda x: x.replace(' ','_').replace('/', '&')) + '_' + duplicates['lastname'].apply(lambda x: x.replace(' ', '_').replace('/', '&') + '.jpg')"
   ]
  },
  {
   "cell_type": "code",
   "execution_count": 57,
   "metadata": {
    "collapsed": false,
    "jupyter": {
     "outputs_hidden": false
    },
    "pycharm": {
     "name": "#%%\n"
    }
   },
   "outputs": [
    {
     "name": "stdout",
     "output_type": "stream",
     "text": [
      "Not found:  ../latinamerican-2-imagefolder-split/train/A_Brazilian_in_Florida_Batista.jpg\n",
      "Not found:  ../latinamerican-2-imagefolder-split/test/Garden_Iturbide.jpg\n",
      "Not found:  ../latinamerican-2-imagefolder-split/test/Garden_Toledo.jpg\n",
      "Not found:  ../latinamerican-2-imagefolder-split/test/Garden_de_Ávila.jpg\n",
      "Not found:  ../latinamerican-2-imagefolder-split/train/Head_Tamayo.jpg\n",
      "Not found:  ../latinamerican-2-imagefolder-split/test/Optical_Box_Soto.jpg\n",
      "Not found:  ../latinamerican-2-imagefolder-split/test/Untitled_Abularach.jpg\n",
      "Not found:  ../latinamerican-2-imagefolder-split/test/Untitled_Gego.jpg\n",
      "Not found:  ../latinamerican-2-imagefolder-split/test/Untitled_Merida.jpg\n",
      "Not found:  ../latinamerican-2-imagefolder-split/test/Untitled_(Skull)_Cervantes.jpg\n"
     ]
    }
   ],
   "source": [
    "#deleting old names (if not found thats a good thing)\n",
    "for name in duplicates.old_fp.unique():\n",
    "    try:\n",
    "        os.remove(name)\n",
    "    except FileNotFoundError:\n",
    "        print('Not found: ', name)"
   ]
  },
  {
   "cell_type": "code",
   "execution_count": 44,
   "metadata": {
    "collapsed": false,
    "jupyter": {
     "outputs_hidden": false
    },
    "pycharm": {
     "name": "#%%\n"
    }
   },
   "outputs": [],
   "source": [
    "import shutil\n",
    "import requests\n",
    "def download_image(url, folder, file_name, headers):\n",
    "    response = requests.get(url, headers=headers)\n",
    "    if response.status_code == 200:\n",
    "        with open(file_name, \"wb\") as f:\n",
    "            f.write(response.content)\n",
    "        shutil.move(file_name, folder + file_name)\n",
    "    else:\n",
    "        print(response.status_code)\n",
    "#Define HTTP Headers\n",
    "headers = {\n",
    "    \"User-Agent\": \"Chrome/51.0.2704.103\",\n",
    "}\n",
    "import time\n",
    "for i in range(0, len(duplicates)):\n",
    "    #Define URL of an image\n",
    "    url = duplicates.expanded_url[i]\n",
    "    # Define image file name\n",
    "    file_name = duplicates.file_name[i]\n",
    "    # Define location to move file\n",
    "    folder = duplicates.directory[i] + duplicates.subfolder[i] + '/'\n",
    "    if len(file_name[:-4]) > 250:\n",
    "        num_remove = len(file_name[:-4]) - 250\n",
    "        file_name = file_name[:-(4 + num_remove)] + '.jpg'\n",
    "    # Download image\n",
    "    #timer delay (15 seconds)\n",
    "    time.sleep(15)\n",
    "    download_image(url, folder, file_name, headers)"
   ]
  },
  {
   "cell_type": "code",
   "execution_count": 59,
   "metadata": {
    "collapsed": false,
    "jupyter": {
     "outputs_hidden": false
    },
    "pycharm": {
     "name": "#%%\n"
    }
   },
   "outputs": [
    {
     "data": {
      "text/html": [
       "<div>\n",
       "<style scoped>\n",
       "    .dataframe tbody tr th:only-of-type {\n",
       "        vertical-align: middle;\n",
       "    }\n",
       "\n",
       "    .dataframe tbody tr th {\n",
       "        vertical-align: top;\n",
       "    }\n",
       "\n",
       "    .dataframe thead th {\n",
       "        text-align: right;\n",
       "    }\n",
       "</style>\n",
       "<table border=\"1\" class=\"dataframe\">\n",
       "  <thead>\n",
       "    <tr style=\"text-align: right;\">\n",
       "      <th></th>\n",
       "      <th>expanded_url</th>\n",
       "      <th>title</th>\n",
       "      <th>forwarddisplayname</th>\n",
       "      <th>medium</th>\n",
       "      <th>sequence</th>\n",
       "      <th>width</th>\n",
       "      <th>height</th>\n",
       "      <th>maxpixels</th>\n",
       "      <th>depictstmsobjectid</th>\n",
       "      <th>assistivetext</th>\n",
       "      <th>...</th>\n",
       "      <th>isvirtual</th>\n",
       "      <th>portfolio</th>\n",
       "      <th>series</th>\n",
       "      <th>file_name</th>\n",
       "      <th>directory</th>\n",
       "      <th>file_downloaded</th>\n",
       "      <th>percent_fromCountry</th>\n",
       "      <th>image_fp</th>\n",
       "      <th>old_file_name</th>\n",
       "      <th>subfolder</th>\n",
       "    </tr>\n",
       "  </thead>\n",
       "  <tbody>\n",
       "    <tr>\n",
       "      <th>0</th>\n",
       "      <td>https://api.nga.gov/iiif/95bc5221-79a1-49e1-b7...</td>\n",
       "      <td>Festival Andino</td>\n",
       "      <td>Nemesio Antunez</td>\n",
       "      <td>color lithograph</td>\n",
       "      <td>0.0</td>\n",
       "      <td>2963.0</td>\n",
       "      <td>4000.0</td>\n",
       "      <td>640.0</td>\n",
       "      <td>46741.0</td>\n",
       "      <td>NaN</td>\n",
       "      <td>...</td>\n",
       "      <td>0.0</td>\n",
       "      <td>NaN</td>\n",
       "      <td>NaN</td>\n",
       "      <td>Festival_Andino_Antunez_46741.jpg</td>\n",
       "      <td>../latinamerican-2-imagefolder-split/</td>\n",
       "      <td>True</td>\n",
       "      <td>0.059322</td>\n",
       "      <td>../latinamerican-2-imagefolder-split/train/Fes...</td>\n",
       "      <td>Festival_Andino.jpg</td>\n",
       "      <td>train</td>\n",
       "    </tr>\n",
       "    <tr>\n",
       "      <th>1</th>\n",
       "      <td>https://api.nga.gov/iiif/f8a0c85d-7cfa-4e63-ae...</td>\n",
       "      <td>Chester Dale</td>\n",
       "      <td>Diego Rivera</td>\n",
       "      <td>oil on canvas</td>\n",
       "      <td>0.0</td>\n",
       "      <td>5297.0</td>\n",
       "      <td>4171.0</td>\n",
       "      <td>640.0</td>\n",
       "      <td>46537.0</td>\n",
       "      <td>NaN</td>\n",
       "      <td>...</td>\n",
       "      <td>0.0</td>\n",
       "      <td>NaN</td>\n",
       "      <td>NaN</td>\n",
       "      <td>Chester_Dale_Rivera_46537.jpg</td>\n",
       "      <td>../latinamerican-2-imagefolder-split/</td>\n",
       "      <td>True</td>\n",
       "      <td>0.607345</td>\n",
       "      <td>../latinamerican-2-imagefolder-split/train/Che...</td>\n",
       "      <td>Chester_Dale.jpg</td>\n",
       "      <td>train</td>\n",
       "    </tr>\n",
       "    <tr>\n",
       "      <th>2</th>\n",
       "      <td>https://api.nga.gov/iiif/a2bc5dff-08a4-46d5-97...</td>\n",
       "      <td>Compostion XVI</td>\n",
       "      <td>Matta</td>\n",
       "      <td>color etching, soft-ground, and aquatint with ...</td>\n",
       "      <td>0.0</td>\n",
       "      <td>2926.0</td>\n",
       "      <td>4000.0</td>\n",
       "      <td>640.0</td>\n",
       "      <td>48425.0</td>\n",
       "      <td>NaN</td>\n",
       "      <td>...</td>\n",
       "      <td>0.0</td>\n",
       "      <td>Suite from \"Come detta dentro vo significando\"</td>\n",
       "      <td>Suite from \"Come detta dentro vo significando\"</td>\n",
       "      <td>Compostion_XVI_Matta_48425.jpg</td>\n",
       "      <td>../latinamerican-2-imagefolder-split/</td>\n",
       "      <td>True</td>\n",
       "      <td>0.059322</td>\n",
       "      <td>../latinamerican-2-imagefolder-split/train/Com...</td>\n",
       "      <td>Compostion_XVI.jpg</td>\n",
       "      <td>train</td>\n",
       "    </tr>\n",
       "    <tr>\n",
       "      <th>3</th>\n",
       "      <td>https://api.nga.gov/iiif/c73c0136-d48d-4bea-89...</td>\n",
       "      <td>Compostion IV</td>\n",
       "      <td>Matta</td>\n",
       "      <td>color etching, soft-ground, and aquatint</td>\n",
       "      <td>0.0</td>\n",
       "      <td>4000.0</td>\n",
       "      <td>3101.0</td>\n",
       "      <td>640.0</td>\n",
       "      <td>48413.0</td>\n",
       "      <td>NaN</td>\n",
       "      <td>...</td>\n",
       "      <td>0.0</td>\n",
       "      <td>Suite from \"Come detta dentro vo significando\"</td>\n",
       "      <td>Suite from \"Come detta dentro vo significando\"</td>\n",
       "      <td>Compostion_IV_Matta_48413.jpg</td>\n",
       "      <td>../latinamerican-2-imagefolder-split/</td>\n",
       "      <td>True</td>\n",
       "      <td>0.059322</td>\n",
       "      <td>../latinamerican-2-imagefolder-split/train/Com...</td>\n",
       "      <td>Compostion_IV.jpg</td>\n",
       "      <td>train</td>\n",
       "    </tr>\n",
       "    <tr>\n",
       "      <th>4</th>\n",
       "      <td>https://api.nga.gov/iiif/1f1918c9-9d30-4491-a9...</td>\n",
       "      <td>Compostion I</td>\n",
       "      <td>Matta</td>\n",
       "      <td>color etching, soft-ground, and aquatint on Ja...</td>\n",
       "      <td>0.0</td>\n",
       "      <td>4000.0</td>\n",
       "      <td>3084.0</td>\n",
       "      <td>640.0</td>\n",
       "      <td>48410.0</td>\n",
       "      <td>NaN</td>\n",
       "      <td>...</td>\n",
       "      <td>0.0</td>\n",
       "      <td>Suite from \"Come detta dentro vo significando\"</td>\n",
       "      <td>Suite from \"Come detta dentro vo significando\"</td>\n",
       "      <td>Compostion_I_Matta_48410.jpg</td>\n",
       "      <td>../latinamerican-2-imagefolder-split/</td>\n",
       "      <td>True</td>\n",
       "      <td>0.059322</td>\n",
       "      <td>../latinamerican-2-imagefolder-split/test/Comp...</td>\n",
       "      <td>Compostion_I.jpg</td>\n",
       "      <td>test</td>\n",
       "    </tr>\n",
       "    <tr>\n",
       "      <th>...</th>\n",
       "      <td>...</td>\n",
       "      <td>...</td>\n",
       "      <td>...</td>\n",
       "      <td>...</td>\n",
       "      <td>...</td>\n",
       "      <td>...</td>\n",
       "      <td>...</td>\n",
       "      <td>...</td>\n",
       "      <td>...</td>\n",
       "      <td>...</td>\n",
       "      <td>...</td>\n",
       "      <td>...</td>\n",
       "      <td>...</td>\n",
       "      <td>...</td>\n",
       "      <td>...</td>\n",
       "      <td>...</td>\n",
       "      <td>...</td>\n",
       "      <td>...</td>\n",
       "      <td>...</td>\n",
       "      <td>...</td>\n",
       "      <td>...</td>\n",
       "    </tr>\n",
       "    <tr>\n",
       "      <th>348</th>\n",
       "      <td>https://api.nga.gov/iiif/552e99b7-0bb5-45e1-8b...</td>\n",
       "      <td>Gran Alarma Escandalosa</td>\n",
       "      <td>José Guadalupe Posada</td>\n",
       "      <td>metalcut and letterpress on pink newsprint</td>\n",
       "      <td>0.0</td>\n",
       "      <td>4949.0</td>\n",
       "      <td>7513.0</td>\n",
       "      <td>NaN</td>\n",
       "      <td>152826.0</td>\n",
       "      <td>NaN</td>\n",
       "      <td>...</td>\n",
       "      <td>0.0</td>\n",
       "      <td>NaN</td>\n",
       "      <td>NaN</td>\n",
       "      <td>Gran_Alarma_Escandalosa_Posada_152826.jpg</td>\n",
       "      <td>../latinamerican-2-imagefolder-split/</td>\n",
       "      <td>True</td>\n",
       "      <td>0.607345</td>\n",
       "      <td>../latinamerican-2-imagefolder-split/train/Gra...</td>\n",
       "      <td>Gran_Alarma_Escandalosa_Posada.jpg</td>\n",
       "      <td>train</td>\n",
       "    </tr>\n",
       "    <tr>\n",
       "      <th>349</th>\n",
       "      <td>https://api.nga.gov/iiif/83c83210-819e-4c27-8c...</td>\n",
       "      <td>Serafina</td>\n",
       "      <td>José Guadalupe Posada</td>\n",
       "      <td>metalcut and letterpress on yellow newsprint</td>\n",
       "      <td>0.0</td>\n",
       "      <td>2873.0</td>\n",
       "      <td>4000.0</td>\n",
       "      <td>NaN</td>\n",
       "      <td>152827.0</td>\n",
       "      <td>NaN</td>\n",
       "      <td>...</td>\n",
       "      <td>0.0</td>\n",
       "      <td>NaN</td>\n",
       "      <td>NaN</td>\n",
       "      <td>Serafina_Posada_152827.jpg</td>\n",
       "      <td>../latinamerican-2-imagefolder-split/</td>\n",
       "      <td>True</td>\n",
       "      <td>0.607345</td>\n",
       "      <td>../latinamerican-2-imagefolder-split/train/Ser...</td>\n",
       "      <td>Serafina_Posada.jpg</td>\n",
       "      <td>train</td>\n",
       "    </tr>\n",
       "    <tr>\n",
       "      <th>350</th>\n",
       "      <td>https://api.nga.gov/iiif/92410def-988a-4866-9c...</td>\n",
       "      <td>La Mujer de Cien Maridos - Como Alfileres Pren...</td>\n",
       "      <td>José Guadalupe Posada</td>\n",
       "      <td>metalcut on red newsprint</td>\n",
       "      <td>0.0</td>\n",
       "      <td>2726.0</td>\n",
       "      <td>4000.0</td>\n",
       "      <td>NaN</td>\n",
       "      <td>152829.0</td>\n",
       "      <td>NaN</td>\n",
       "      <td>...</td>\n",
       "      <td>0.0</td>\n",
       "      <td>NaN</td>\n",
       "      <td>NaN</td>\n",
       "      <td>La_Mujer_de_Cien_Maridos_-_Como_Alfileres_Pren...</td>\n",
       "      <td>../latinamerican-2-imagefolder-split/</td>\n",
       "      <td>True</td>\n",
       "      <td>0.607345</td>\n",
       "      <td>../latinamerican-2-imagefolder-split/test/La_M...</td>\n",
       "      <td>La_Mujer_de_Cien_Maridos_-_Como_Alfileres_Pren...</td>\n",
       "      <td>test</td>\n",
       "    </tr>\n",
       "    <tr>\n",
       "      <th>351</th>\n",
       "      <td>https://api.nga.gov/iiif/fcbe84cb-faa8-471d-b4...</td>\n",
       "      <td>Don Chepito</td>\n",
       "      <td>José Guadalupe Posada</td>\n",
       "      <td>relief etching on pink paper</td>\n",
       "      <td>0.0</td>\n",
       "      <td>4000.0</td>\n",
       "      <td>3169.0</td>\n",
       "      <td>NaN</td>\n",
       "      <td>163508.0</td>\n",
       "      <td>NaN</td>\n",
       "      <td>...</td>\n",
       "      <td>0.0</td>\n",
       "      <td>NaN</td>\n",
       "      <td>NaN</td>\n",
       "      <td>Don_Chepito_Posada_163508.jpg</td>\n",
       "      <td>../latinamerican-2-imagefolder-split/</td>\n",
       "      <td>True</td>\n",
       "      <td>0.607345</td>\n",
       "      <td>../latinamerican-2-imagefolder-split/train/Don...</td>\n",
       "      <td>Don_Chepito_Posada.jpg</td>\n",
       "      <td>train</td>\n",
       "    </tr>\n",
       "    <tr>\n",
       "      <th>352</th>\n",
       "      <td>https://api.nga.gov/iiif/015dcd20-3dda-448f-a5...</td>\n",
       "      <td>Calavera Maderista</td>\n",
       "      <td>José Guadalupe Posada</td>\n",
       "      <td>relief etching (zinc)</td>\n",
       "      <td>0.0</td>\n",
       "      <td>1806.0</td>\n",
       "      <td>4000.0</td>\n",
       "      <td>NaN</td>\n",
       "      <td>30476.0</td>\n",
       "      <td>NaN</td>\n",
       "      <td>...</td>\n",
       "      <td>0.0</td>\n",
       "      <td>NaN</td>\n",
       "      <td>NaN</td>\n",
       "      <td>Calavera_Maderista_Posada_30476.jpg</td>\n",
       "      <td>../latinamerican-2-imagefolder-split/</td>\n",
       "      <td>True</td>\n",
       "      <td>0.607345</td>\n",
       "      <td>../latinamerican-2-imagefolder-split/train/Cal...</td>\n",
       "      <td>Calavera_Maderista_Posada.jpg</td>\n",
       "      <td>train</td>\n",
       "    </tr>\n",
       "  </tbody>\n",
       "</table>\n",
       "<p>325 rows × 41 columns</p>\n",
       "</div>"
      ],
      "text/plain": [
       "                                          expanded_url  \\\n",
       "0    https://api.nga.gov/iiif/95bc5221-79a1-49e1-b7...   \n",
       "1    https://api.nga.gov/iiif/f8a0c85d-7cfa-4e63-ae...   \n",
       "2    https://api.nga.gov/iiif/a2bc5dff-08a4-46d5-97...   \n",
       "3    https://api.nga.gov/iiif/c73c0136-d48d-4bea-89...   \n",
       "4    https://api.nga.gov/iiif/1f1918c9-9d30-4491-a9...   \n",
       "..                                                 ...   \n",
       "348  https://api.nga.gov/iiif/552e99b7-0bb5-45e1-8b...   \n",
       "349  https://api.nga.gov/iiif/83c83210-819e-4c27-8c...   \n",
       "350  https://api.nga.gov/iiif/92410def-988a-4866-9c...   \n",
       "351  https://api.nga.gov/iiif/fcbe84cb-faa8-471d-b4...   \n",
       "352  https://api.nga.gov/iiif/015dcd20-3dda-448f-a5...   \n",
       "\n",
       "                                                 title     forwarddisplayname  \\\n",
       "0                                      Festival Andino        Nemesio Antunez   \n",
       "1                                         Chester Dale           Diego Rivera   \n",
       "2                                       Compostion XVI                  Matta   \n",
       "3                                        Compostion IV                  Matta   \n",
       "4                                         Compostion I                  Matta   \n",
       "..                                                 ...                    ...   \n",
       "348                            Gran Alarma Escandalosa  José Guadalupe Posada   \n",
       "349                                           Serafina  José Guadalupe Posada   \n",
       "350  La Mujer de Cien Maridos - Como Alfileres Pren...  José Guadalupe Posada   \n",
       "351                                        Don Chepito  José Guadalupe Posada   \n",
       "352                                 Calavera Maderista  José Guadalupe Posada   \n",
       "\n",
       "                                                medium  sequence   width  \\\n",
       "0                                     color lithograph       0.0  2963.0   \n",
       "1                                        oil on canvas       0.0  5297.0   \n",
       "2    color etching, soft-ground, and aquatint with ...       0.0  2926.0   \n",
       "3             color etching, soft-ground, and aquatint       0.0  4000.0   \n",
       "4    color etching, soft-ground, and aquatint on Ja...       0.0  4000.0   \n",
       "..                                                 ...       ...     ...   \n",
       "348         metalcut and letterpress on pink newsprint       0.0  4949.0   \n",
       "349       metalcut and letterpress on yellow newsprint       0.0  2873.0   \n",
       "350                          metalcut on red newsprint       0.0  2726.0   \n",
       "351                       relief etching on pink paper       0.0  4000.0   \n",
       "352                              relief etching (zinc)       0.0  1806.0   \n",
       "\n",
       "     height  maxpixels  depictstmsobjectid assistivetext  ...  isvirtual  \\\n",
       "0    4000.0      640.0             46741.0           NaN  ...        0.0   \n",
       "1    4171.0      640.0             46537.0           NaN  ...        0.0   \n",
       "2    4000.0      640.0             48425.0           NaN  ...        0.0   \n",
       "3    3101.0      640.0             48413.0           NaN  ...        0.0   \n",
       "4    3084.0      640.0             48410.0           NaN  ...        0.0   \n",
       "..      ...        ...                 ...           ...  ...        ...   \n",
       "348  7513.0        NaN            152826.0           NaN  ...        0.0   \n",
       "349  4000.0        NaN            152827.0           NaN  ...        0.0   \n",
       "350  4000.0        NaN            152829.0           NaN  ...        0.0   \n",
       "351  3169.0        NaN            163508.0           NaN  ...        0.0   \n",
       "352  4000.0        NaN             30476.0           NaN  ...        0.0   \n",
       "\n",
       "                                          portfolio  \\\n",
       "0                                               NaN   \n",
       "1                                               NaN   \n",
       "2    Suite from \"Come detta dentro vo significando\"   \n",
       "3    Suite from \"Come detta dentro vo significando\"   \n",
       "4    Suite from \"Come detta dentro vo significando\"   \n",
       "..                                              ...   \n",
       "348                                             NaN   \n",
       "349                                             NaN   \n",
       "350                                             NaN   \n",
       "351                                             NaN   \n",
       "352                                             NaN   \n",
       "\n",
       "                                             series  \\\n",
       "0                                               NaN   \n",
       "1                                               NaN   \n",
       "2    Suite from \"Come detta dentro vo significando\"   \n",
       "3    Suite from \"Come detta dentro vo significando\"   \n",
       "4    Suite from \"Come detta dentro vo significando\"   \n",
       "..                                              ...   \n",
       "348                                             NaN   \n",
       "349                                             NaN   \n",
       "350                                             NaN   \n",
       "351                                             NaN   \n",
       "352                                             NaN   \n",
       "\n",
       "                                             file_name  \\\n",
       "0                    Festival_Andino_Antunez_46741.jpg   \n",
       "1                        Chester_Dale_Rivera_46537.jpg   \n",
       "2                       Compostion_XVI_Matta_48425.jpg   \n",
       "3                        Compostion_IV_Matta_48413.jpg   \n",
       "4                         Compostion_I_Matta_48410.jpg   \n",
       "..                                                 ...   \n",
       "348          Gran_Alarma_Escandalosa_Posada_152826.jpg   \n",
       "349                         Serafina_Posada_152827.jpg   \n",
       "350  La_Mujer_de_Cien_Maridos_-_Como_Alfileres_Pren...   \n",
       "351                      Don_Chepito_Posada_163508.jpg   \n",
       "352                Calavera_Maderista_Posada_30476.jpg   \n",
       "\n",
       "                                 directory file_downloaded  \\\n",
       "0    ../latinamerican-2-imagefolder-split/            True   \n",
       "1    ../latinamerican-2-imagefolder-split/            True   \n",
       "2    ../latinamerican-2-imagefolder-split/            True   \n",
       "3    ../latinamerican-2-imagefolder-split/            True   \n",
       "4    ../latinamerican-2-imagefolder-split/            True   \n",
       "..                                     ...             ...   \n",
       "348  ../latinamerican-2-imagefolder-split/            True   \n",
       "349  ../latinamerican-2-imagefolder-split/            True   \n",
       "350  ../latinamerican-2-imagefolder-split/            True   \n",
       "351  ../latinamerican-2-imagefolder-split/            True   \n",
       "352  ../latinamerican-2-imagefolder-split/            True   \n",
       "\n",
       "    percent_fromCountry                                           image_fp  \\\n",
       "0              0.059322  ../latinamerican-2-imagefolder-split/train/Fes...   \n",
       "1              0.607345  ../latinamerican-2-imagefolder-split/train/Che...   \n",
       "2              0.059322  ../latinamerican-2-imagefolder-split/train/Com...   \n",
       "3              0.059322  ../latinamerican-2-imagefolder-split/train/Com...   \n",
       "4              0.059322  ../latinamerican-2-imagefolder-split/test/Comp...   \n",
       "..                  ...                                                ...   \n",
       "348            0.607345  ../latinamerican-2-imagefolder-split/train/Gra...   \n",
       "349            0.607345  ../latinamerican-2-imagefolder-split/train/Ser...   \n",
       "350            0.607345  ../latinamerican-2-imagefolder-split/test/La_M...   \n",
       "351            0.607345  ../latinamerican-2-imagefolder-split/train/Don...   \n",
       "352            0.607345  ../latinamerican-2-imagefolder-split/train/Cal...   \n",
       "\n",
       "                                         old_file_name subfolder  \n",
       "0                                  Festival_Andino.jpg     train  \n",
       "1                                     Chester_Dale.jpg     train  \n",
       "2                                   Compostion_XVI.jpg     train  \n",
       "3                                    Compostion_IV.jpg     train  \n",
       "4                                     Compostion_I.jpg      test  \n",
       "..                                                 ...       ...  \n",
       "348                 Gran_Alarma_Escandalosa_Posada.jpg     train  \n",
       "349                                Serafina_Posada.jpg     train  \n",
       "350  La_Mujer_de_Cien_Maridos_-_Como_Alfileres_Pren...      test  \n",
       "351                             Don_Chepito_Posada.jpg     train  \n",
       "352                      Calavera_Maderista_Posada.jpg     train  \n",
       "\n",
       "[325 rows x 41 columns]"
      ]
     },
     "execution_count": 59,
     "metadata": {},
     "output_type": "execute_result"
    }
   ],
   "source": [
    "available_data"
   ]
  },
  {
   "cell_type": "code",
   "execution_count": 63,
   "metadata": {
    "collapsed": false,
    "jupyter": {
     "outputs_hidden": false
    },
    "pycharm": {
     "name": "#%%\n"
    }
   },
   "outputs": [],
   "source": [
    "available_data = available_data.reset_index(drop=False)"
   ]
  },
  {
   "cell_type": "code",
   "execution_count": 65,
   "metadata": {
    "collapsed": false,
    "jupyter": {
     "outputs_hidden": false
    },
    "pycharm": {
     "name": "#%%\n"
    }
   },
   "outputs": [
    {
     "name": "stdout",
     "output_type": "stream",
     "text": [
      "New Name:  Sed_non_Satiata_Delhez_119885.jpg\n",
      "New Name:  No._9,_Nature_Morte_Espagnole_Rivera_121051.jpg\n",
      "New Name:  Montserrat_Rivera_121052.jpg\n",
      "New Name:  Prosa_de_la_Calavera_Cervantes_128543.jpg\n",
      "New Name:  Arlequino_Rayo_130886.jpg\n",
      "New Name:  Free_Youth,_Smog_and_Demagogue_Matta_133434.jpg\n",
      "New Name:  Machines_(Máquinas)_Orozco_133435.jpg\n",
      "Old Name Deleted:  Untitled_(Skull).jpg\n",
      "New Name:  Cinco_Grabados_(Five_Prints)_Cervantes_133869.jpg\n",
      "New Name:  Untitled_(Envelope_Torn)_Cervantes_133877.jpg\n",
      "New Name:  Untitled_(Envelope_with_Leaves)_Cervantes_133878.jpg\n",
      "New Name:  Untitled_(Envelope_Open)_Cervantes_133879.jpg\n",
      "New Name:  Untitled_(Envelope_Painted)_Cervantes_133880.jpg\n",
      "New Name:  Untitled_(Envelope_Composition)_Cervantes_133881.jpg\n",
      "New Name:  Community_of_Franciscan_Monks,_San_Francisco_Monastery,_Cusco_Chambi_134860.jpg\n",
      "New Name:  Parabola_Optica_(Optical_parable)_Álvarez_Bravo_136777.jpg\n",
      "New Name:  Mental_Reactions_de_Zayas_137583.jpg\n",
      "New Name:  Drowned_Shadow_Bonomi_145426.jpg\n",
      "New Name:  Untitled_(Abstraction)_Ostrower_145431.jpg\n",
      "New Name:  Image_de_Soleil_Froid_Zanartú_146252.jpg\n",
      "New Name:  Rumba_Covarrubias_148744.jpg\n",
      "New Name:  El_ensueño_(The_daydream)_Álvarez_Bravo_150703.jpg\n",
      "New Name:  La_buena_fama_durmiendo_(The_good_reputation_sleeping)_Álvarez_Bravo_150704.jpg\n",
      "New Name:  El_Sistema_Nervioso_del_Gran_Simpatico_(The_sympathetic_nervous_system)_Álvarez_Bravo_150705.jpg\n",
      "New Name:  El_eclipse_(The_eclipse)_Álvarez_Bravo_150706.jpg\n",
      "New Name:  Sed_pública_(Public_thirst)_Álvarez_Bravo_150707.jpg\n",
      "New Name:  La_quema_(The_kiln)_Álvarez_Bravo_150708.jpg\n",
      "New Name:  La_de_las_Bellas_Artes_(She_of_the_fine_arts)_Álvarez_Bravo_150709.jpg\n",
      "New Name:  Los_agachados_(The_crouched_ones)_Álvarez_Bravo_150710.jpg\n",
      "New Name:  Trampa_puesta_(Set_trap)_Álvarez_Bravo_150711.jpg\n",
      "New Name:  Un_poco_alegre_y_graciosa_(Somewhat_gay_and_graceful)_Álvarez_Bravo_150712.jpg\n",
      "New Name:  Barda_de_panteon_(Enclosed_cemetary)_Álvarez_Bravo_150713.jpg\n",
      "New Name:  Obrero_en_huelga,_asesinado_(Striking_worker,_assassinated)_Álvarez_Bravo_150714.jpg\n",
      "New Name:  Tumba_reciente_(Recent_grave)_Álvarez_Bravo_150715.jpg\n",
      "New Name:  Paisaje_inventado_(Invented_landscape)_Álvarez_Bravo_150716.jpg\n",
      "New Name:  Untitled_Composition_Torres-García_150852.jpg\n",
      "New Name:  Fifteen_Photographs_by_Manuel_Alvarez_Bravo_Álvarez_Bravo_153112.jpg\n",
      "New Name:  Clowns_(Payasos)_Orozco_154008.jpg\n",
      "New Name:  Third_World_Blondes_Have_More_Money_(Raquel_20_Animales)_Rossell_157357.jpg\n",
      "New Name:  Untitled_(Romero_Cavalcanti_wearing_Parangolé_Cape_25,_New_York_City,_1972)_Oiticica_163302.jpg\n",
      "New Name:  Horse_and_Running_Girl_Tamayo_163543.jpg\n",
      "New Name:  Heavy_Metal,_Vol._1,_No._6,_September_1977_Macedo_165695.jpg\n",
      "New Name:  Untitled_(Pier)_Garaicoa_169092.jpg\n",
      "New Name:  Velero_(Ship)_Garaicoa_169094.jpg\n",
      "New Name:  La_pêche_miraculeuse_(The_Miraculous_Catch_of_Fish)_Delhez_169871.jpg\n",
      "New Name:  Cuatro_Pescaditos_(Four_Little_Fish)_Iturbide_171744.jpg\n",
      "New Name:  Doble_Identidad_&_Dupla_Identidade_(Double_Identity_&_Double_Identity)_Filho_173039.jpg\n",
      "New Name:  Doble_Identidad_&_Dupla_Identidade_(Double_Identity_&_Double_Identity)_Gerchman_173039.jpg\n",
      "New Name:  La_Ciega_(The_Blind_Woman)_Yampolsky_173316.jpg\n",
      "New Name:  Onde_Verte_Tellez_173520.jpg\n",
      "New Name:  El_Abrazo_(The_Hug)_Zúñiga_174168.jpg\n",
      "New Name:  Self-Portrait_at_Midnight_Cuevas_174306.jpg\n",
      "New Name:  La_Mujer,_Juchitán,_Mexico_(The_Woman,_Juchitán,_Mexico)_Garduño_175609.jpg\n",
      "New Name:  Héroes_de_la_Patria,_Cuetzalan,_Puebla,_México_(Heroes_of_the_Fatherland,_Cuetzalan,_Puebla,_Mexico)_Iturbide_175610.jpg\n",
      "New Name:  Rostro_con_Peces,_Shipibo_Conibo,_Pucallpa,_Peru_(Face_with_Fish,_Shipibo_Conibo,_Pucallpa,_Peru)_Meinel_175619.jpg\n",
      "New Name:  Caricia_(Caress)_Yampolsky_175632.jpg\n",
      "New Name:  Diptych_Saunier_179431.jpg\n",
      "New Name:  La_grande_tentation_(The_Great_Temptation)_Delhez_181849.jpg\n",
      "New Name:  Protesta_Dosamantes_183747.jpg\n",
      "New Name:  Grinding_Maize,_Cuautla_Méndez_183894.jpg\n",
      "New Name:  Hennequen_Plant_in_Yucatán_Zalce_184006.jpg\n",
      "New Name:  Lumber_Workers,_Bay_of_Campeche_Zalce_184007.jpg\n",
      "New Name:  Lime_Kilns_in_Tula_Anguiano_184671.jpg\n",
      "New Name:  Equinox_Saunier_195672.jpg\n",
      "New Name:  Asymmetrical_Sin_Rizzi_199322.jpg\n",
      "New Name:  Merging_Rizzi_199318.jpg\n",
      "New Name:  Arrojo_Rizzi_199324.jpg\n",
      "New Name:  May_17_Rizzi_199315.jpg\n",
      "New Name:  Stairway_to_the_Cathedral_(Subida_a_la_catedral)_Horna_210341.jpg\n",
      "New Name:  Magnolia_Iturbide_211390.jpg\n",
      "New Name:  El_Jardinero_(The_Gardener)_Iturbide_211393.jpg\n",
      "New Name:  La_Niña_del_Peine_(Girl_with_Comb)_Iturbide_211388.jpg\n",
      "New Name:  Marcha_Política_(Political_Rally)_Iturbide_211389.jpg\n",
      "New Name:  Quince_Años_(Fifteenth_Birthday)_Iturbide_211391.jpg\n",
      "New Name:  Nuestra_Señora_de_Las_Iguanas_(Our_Lady_of_the_Iguanas)_Iturbide_211392.jpg\n",
      "New Name:  Procesión_(Procession)_Iturbide_211394.jpg\n",
      "New Name:  Nueve_Días_de_Luto_(Nine_Days_of_Mourning)_Iturbide_211395.jpg\n",
      "New Name:  Mujer_y_Pájaros_(Woman_and_Birds)_Iturbide_211396.jpg\n",
      "New Name:  Pescadores_y_Vagos_Bellocq_4557.jpg\n",
      "New Name:  Viejos_Desesperados_Bellocq_4558.jpg\n",
      "New Name:  The_Old_Vic_Kuitca_216535.jpg\n",
      "New Name:  El_Fantasma_(Ghost)_Reynoso_216620.jpg\n",
      "New Name:  Sin_título_(Milicianos_en_un_trinchera)_(Untitled_[Militiamen_in_a_trench])_Horna_217263.jpg\n",
      "New Name:  Aid_from_the_Padre_Lovera_218532.jpg\n",
      "New Name:  Mulher_(Woman)_Carneiro_219357.jpg\n",
      "New Name:  Beast_Aróstegui_219519.jpg\n",
      "New Name:  Untitled_Horna_221003.jpg\n",
      "New Name:  Remedios_Varo_Wearing_a_Mask_by_Leonora_Carrington_Horna_221005.jpg\n",
      "New Name:  Anunciation_(Annunciation)_Reynoso_221012.jpg\n",
      "New Name:  El_Botéllon_(The_Bottle)_Horna_221013.jpg\n",
      "New Name:  Seri_Indian,_Isla_del_Tiburon_Amero_221109.jpg\n",
      "New Name:  Pots_at_Market_Amero_221111.jpg\n",
      "New Name:  A_Sunburst_Restrained_Berrío_221464.jpg\n",
      "New Name:  El_Grito_de_la_Muerte_(The_Scream_of_Death)_Andrade_221938.jpg\n",
      "New Name:  La_Mujer_Murciélago_(Bat_Woman)_Andrade_221940.jpg\n",
      "New Name:  Open_Sea_Cinto_222827.jpg\n",
      "New Name:  Untitled_#1_Cinto_222828.jpg\n",
      "New Name:  Untitled_#2_Cinto_222829.jpg\n",
      "New Name:  Untitled_#3_Cinto_222830.jpg\n",
      "New Name:  Untitled_#4_Cinto_222831.jpg\n",
      "New Name:  Untitled_#5_Cinto_222832.jpg\n",
      "New Name:  Untitled_(Carnaval_de_Huejotzingo,_Puebla)_Horna_223250.jpg\n",
      "New Name:  Untitled_(Historia_de_un_Vampiro:_Sucedió_en_Coyoacán_en_1962)_Horna_223251.jpg\n",
      "New Name:  La_Escoba_&_The_Broom_&_Le_Volai_Yampolsky_223741.jpg\n",
      "New Name:  Hombre_Bueno_Bellocq_4551.jpg\n",
      "New Name:  Vagabundo_Bellocq_4552.jpg\n",
      "New Name:  Errante_Bellocq_4553.jpg\n",
      "New Name:  Beethoven_Bellocq_4554.jpg\n",
      "New Name:  Mother_and_Child_Amero_3642.jpg\n",
      "New Name:  Viejo_Lobo_Bellocq_4555.jpg\n",
      "New Name:  Atorrantes_Bellocq_4556.jpg\n",
      "New Name:  The_Family_(La_familia)_Orozco_9504.jpg\n",
      "New Name:  Viva_Zapata_Rivera_10153.jpg\n",
      "New Name:  Woodchopper_Tamayo_10591.jpg\n",
      "New Name:  Head_of_a_Woman_Dosamantes_30252.jpg\n",
      "New Name:  Street_Meeting_Méndez_30702.jpg\n",
      "New Name:  The_Thunderbolt_Méndez_30706.jpg\n",
      "New Name:  Juarez_Méndez_30707.jpg\n",
      "New Name:  The_Vulture's_Nest_Méndez_30708.jpg\n",
      "New Name:  Fascism_I_Méndez_30709.jpg\n",
      "New Name:  Fascism_II_Méndez_30710.jpg\n",
      "New Name:  The_Letter_Méndez_30711.jpg\n",
      "New Name:  For_Teaching_Them_to_Read_Méndez_30712.jpg\n",
      "New Name:  Protest_Méndez_30713.jpg\n",
      "New Name:  Book_Cover_Méndez_30714.jpg\n",
      "New Name:  The_Peoples_Revenge_Méndez_30715.jpg\n",
      "New Name:  Salute_to_the_Sun_Bracho_30247.jpg\n",
      "New Name:  The_Injured_Eye_Castellanos_30249.jpg\n",
      "New Name:  Flag_(Bandera)_Orozco_30273.jpg\n",
      "New Name:  Requiem_Orozco_30274.jpg\n",
      "New Name:  Reclining_Nude_Siqueiros_30303.jpg\n",
      "New Name:  Apples_Zalce_30309.jpg\n",
      "New Name:  Illustration_for_a_Popular_Song_Méndez_30703.jpg\n",
      "New Name:  Corner_of_a_House_and_Figures_(Esquina_de_casa_y_figuras)_Orozco_30639.jpg\n",
      "New Name:  Black_Woman_(Dama_negra)_Siqueiros_30640.jpg\n",
      "New Name:  The_Weavers_Méndez_30704.jpg\n",
      "New Name:  Chicle_Gatherer_Méndez_30705.jpg\n",
      "New Name:  Sweat_of_Blood_Méndez_30690.jpg\n",
      "New Name:  25_Prints_of_Leopoldo_Mendez_Méndez_30691.jpg\n",
      "New Name:  Dreams_of_Paupers_Méndez_30692.jpg\n",
      "New Name:  Horsemen_Méndez_30693.jpg\n",
      "New Name:  Landowner_Méndez_30694.jpg\n",
      "New Name:  Fools_Concert_Méndez_30695.jpg\n",
      "New Name:  Soldier_Méndez_30696.jpg\n",
      "New Name:  An_Accident_Méndez_30697.jpg\n",
      "New Name:  The_Symphonic_Concert_of_Skeletons_Méndez_30698.jpg\n",
      "New Name:  Stablemen_Méndez_30699.jpg\n",
      "New Name:  Prisoner_Méndez_30700.jpg\n",
      "New Name:  Newsboys_Méndez_30701.jpg\n",
      "New Name:  Mexico_Méndez_33117.jpg\n",
      "New Name:  Woman_Seated_Costa_33363.jpg\n",
      "New Name:  Yucatán_Zalce_33513.jpg\n",
      "New Name:  Fisherman_Zalce_33514.jpg\n",
      "New Name:  Woman_Seated_Zalce_33515.jpg\n",
      "New Name:  Weaver_of_Becal_Hats_Zalce_33516.jpg\n",
      "New Name:  Mayan_Fisherman_in_Yucatán_Zalce_33511.jpg\n",
      "New Name:  The_Palizada_River_Zalce_33512.jpg\n",
      "New Name:  In_the_Hammock_Zalce_33517.jpg\n",
      "New Name:  Henequén_Worker_Zalce_33518.jpg\n",
      "New Name:  Salt_Deposits_of_Celestién_Zalce_33519.jpg\n",
      "New Name:  Garden_of_Hecelchácan_Zalce_33520.jpg\n",
      "New Name:  Work_Sica_37447.jpg\n",
      "New Name:  Huida_a_Egipto_(Flight_into_Egypt)_Cantú_41845.jpg\n",
      "New Name:  Fiesta_Amero_42617.jpg\n",
      "New Name:  Gran_Alarma_Escandalosa_Posada_152826.jpg\n",
      "New Name:  Serafina_Posada_152827.jpg\n",
      "New Name:  La_Mujer_de_Cien_Maridos_-_Como_Alfileres_Prendidos_Posada_152829.jpg\n",
      "New Name:  Don_Chepito_Posada_163508.jpg\n",
      "New Name:  Calavera_Maderista_Posada_30476.jpg\n"
     ]
    },
    {
     "name": "stderr",
     "output_type": "stream",
     "text": [
      "/Users/mocha/opt/anaconda3/lib/python3.7/site-packages/ipykernel_launcher.py:20: SettingWithCopyWarning: \n",
      "A value is trying to be set on a copy of a slice from a DataFrame\n",
      "\n",
      "See the caveats in the documentation: https://pandas.pydata.org/pandas-docs/stable/user_guide/indexing.html#returning-a-view-versus-a-copy\n",
      "/Users/mocha/opt/anaconda3/lib/python3.7/site-packages/ipykernel_launcher.py:14: SettingWithCopyWarning: \n",
      "A value is trying to be set on a copy of a slice from a DataFrame\n",
      "\n",
      "See the caveats in the documentation: https://pandas.pydata.org/pandas-docs/stable/user_guide/indexing.html#returning-a-view-versus-a-copy\n",
      "  \n"
     ]
    }
   ],
   "source": [
    "for i in range(0, len(available_data)):\n",
    "    # Renaming filenames in overall metadata & in directory to recognize new naming pattern =, only if not already in to_download\n",
    "    folder = available_data.directory[i] + available_data.subfolder[i] + '/'\n",
    "    old_file_name = available_data.old_file_name[i]\n",
    "    new_file_name = available_data.file_name[i]\n",
    "    if len(new_file_name[:-4]) > 250:\n",
    "        num_remove = len(new_file_name[:-4]) - 250\n",
    "        new_file_name = new_file_name[:-(4 + num_remove)] + '.jpg'\n",
    "    #renaming the file in the directory\n",
    "    oldName = os.path.join(folder, old_file_name)\n",
    "    newName = os.path.join(folder, new_file_name)\n",
    "    if os.path.exists(oldName) and os.path.exists(newName):\n",
    "        os.remove(oldName)\n",
    "        available_data['file_name'][i] = new_file_name\n",
    "        print('Old Name Deleted: ', old_file_name)\n",
    "    elif os.path.exists(oldName) and not os.path.exists(newName):\n",
    "        # update to new naming convention and delete oldName and update metadata\n",
    "        os.rename(oldName, newName)\n",
    "        #renaming the file in the metadata\n",
    "        available_data['file_name'][i] = new_file_name\n",
    "        print('New Name: ', new_file_name)"
   ]
  },
  {
   "cell_type": "code",
   "execution_count": 69,
   "metadata": {
    "collapsed": false,
    "jupyter": {
     "outputs_hidden": false
    },
    "pycharm": {
     "name": "#%%\n"
    }
   },
   "outputs": [],
   "source": [
    "available_data.to_csv('../data_samples/results/whole_set_results/downloaded_LaArt.csv', index=False)"
   ]
  }
 ],
 "metadata": {
  "kernelspec": {
   "display_name": "Python 3 (ipykernel)",
   "language": "python",
   "name": "python3"
  },
  "language_info": {
   "codemirror_mode": {
    "name": "ipython",
    "version": 3
   },
   "file_extension": ".py",
   "mimetype": "text/x-python",
   "name": "python",
   "nbconvert_exporter": "python",
   "pygments_lexer": "ipython3",
   "version": "3.9.16"
  }
 },
 "nbformat": 4,
 "nbformat_minor": 4
}
