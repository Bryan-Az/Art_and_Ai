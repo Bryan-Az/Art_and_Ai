{
 "cells": [
  {
   "cell_type": "code",
   "execution_count": 1,
   "outputs": [],
   "source": [
    "import os\n",
    "import shutil\n",
    "import pathlib\n",
    "import pandas as pd\n",
    "import re"
   ],
   "metadata": {
    "collapsed": false,
    "pycharm": {
     "name": "#%%\n"
    }
   }
  },
  {
   "cell_type": "code",
   "execution_count": 2,
   "outputs": [],
   "source": [
    "la_image_metadata = pd.read_csv('../../data_samples/results/whole_set_results/pa_latin_art.csv')\n",
    "nonla_image_metadata = pd.read_csv('../../data_samples/results/whole_set_results/pa_nonLa_art.csv')"
   ],
   "metadata": {
    "collapsed": false,
    "pycharm": {
     "name": "#%%\n"
    }
   }
  },
  {
   "cell_type": "code",
   "execution_count": 3,
   "outputs": [],
   "source": [
    "#Still need to download the images that were sampled before we can introduce the directory, file_downloaded, or file_name columns\n",
    "#Accessioned/Directory can be dropped & Percent_in_NGA added to LA IMAGE metadata"
   ],
   "metadata": {
    "collapsed": false,
    "pycharm": {
     "name": "#%%\n"
    }
   }
  },
  {
   "cell_type": "code",
   "execution_count": 4,
   "outputs": [],
   "source": [
    "la_image_metadata = la_image_metadata.drop(['accessioned', 'displaydate'], axis = 1)"
   ],
   "metadata": {
    "collapsed": false,
    "pycharm": {
     "name": "#%%\n"
    }
   }
  },
  {
   "cell_type": "code",
   "execution_count": 5,
   "outputs": [],
   "source": [
    "proportion_ofCountry = la_image_metadata['Country Name'].value_counts(normalize=True)"
   ],
   "metadata": {
    "collapsed": false,
    "pycharm": {
     "name": "#%%\n"
    }
   }
  },
  {
   "cell_type": "code",
   "execution_count": 6,
   "outputs": [],
   "source": [
    "la_image_metadata['percent_fromCountry'] = la_image_metadata['Country Name'].apply(lambda x: proportion_ofCountry[x])"
   ],
   "metadata": {
    "collapsed": false,
    "pycharm": {
     "name": "#%%\n"
    }
   }
  },
  {
   "cell_type": "code",
   "execution_count": 7,
   "outputs": [],
   "source": [
    "la_image_metadata = la_image_metadata.rename({'Percent_in_NGA': 'percent_fromArtist'}, axis=1)"
   ],
   "metadata": {
    "collapsed": false,
    "pycharm": {
     "name": "#%%\n"
    }
   }
  },
  {
   "cell_type": "code",
   "execution_count": 8,
   "outputs": [],
   "source": [
    "proportion_ofArtist = nonla_image_metadata.forwarddisplayname.value_counts(normalize=True)\n",
    "nonla_image_metadata['percent_fromArtist'] = nonla_image_metadata.forwarddisplayname.apply(lambda x: proportion_ofArtist[x])"
   ],
   "metadata": {
    "collapsed": false,
    "pycharm": {
     "name": "#%%\n"
    }
   }
  },
  {
   "cell_type": "code",
   "execution_count": 9,
   "outputs": [
    {
     "name": "stdout",
     "output_type": "stream",
     "text": [
      "(354, 38)\n",
      "(197584, 35)\n"
     ]
    }
   ],
   "source": [
    "print(la_image_metadata.shape)\n",
    "print(nonla_image_metadata.shape)"
   ],
   "metadata": {
    "collapsed": false,
    "pycharm": {
     "name": "#%%\n"
    }
   }
  },
  {
   "cell_type": "code",
   "execution_count": 10,
   "outputs": [
    {
     "data": {
      "text/plain": "{'directory', 'file_downloaded', 'file_name'}"
     },
     "execution_count": 10,
     "metadata": {},
     "output_type": "execute_result"
    }
   ],
   "source": [
    "#the following columns are missing in the NON LA IMAGE dataset and need to be added (after sampling taken place)\n",
    "set(la_image_metadata.columns) - set(nonla_image_metadata.columns)"
   ],
   "metadata": {
    "collapsed": false,
    "pycharm": {
     "name": "#%%\n"
    }
   }
  },
  {
   "cell_type": "code",
   "execution_count": 11,
   "outputs": [],
   "source": [
    "la_image_directory = '../../la_images'"
   ],
   "metadata": {
    "collapsed": false,
    "pycharm": {
     "name": "#%%\n"
    }
   }
  },
  {
   "cell_type": "code",
   "execution_count": 12,
   "outputs": [],
   "source": [
    "la_image_metadata['directory'] = [la_image_directory] * len(la_image_metadata)"
   ],
   "metadata": {
    "collapsed": false,
    "pycharm": {
     "name": "#%%\n"
    }
   }
  },
  {
   "cell_type": "code",
   "execution_count": 13,
   "outputs": [],
   "source": [
    "la_image_metadata['image_fp'] = la_image_metadata['directory'] + '/' + la_image_metadata['file_name']"
   ],
   "metadata": {
    "collapsed": false,
    "pycharm": {
     "name": "#%%\n"
    }
   }
  },
  {
   "cell_type": "markdown",
   "source": [
    "### Splitting the La Art which already has directory and image reference data\n",
    "Still have to download the images for the non-LA art and add directory and image reference data"
   ],
   "metadata": {
    "collapsed": false,
    "pycharm": {
     "name": "#%% md\n"
    }
   }
  },
  {
   "cell_type": "code",
   "execution_count": 14,
   "outputs": [],
   "source": [
    "from sklearn.model_selection import train_test_split\n",
    "\n",
    "X_train, X_valid, y_train, y_valid = train_test_split(la_image_metadata, la_image_metadata.title, train_size=0.8,test_size=0.2, random_state=101)"
   ],
   "metadata": {
    "collapsed": false,
    "pycharm": {
     "name": "#%%\n"
    }
   }
  },
  {
   "cell_type": "markdown",
   "source": [
    "### Splitting the Non La Art, for sampling, which does not have directory and image reference data"
   ],
   "metadata": {
    "collapsed": false,
    "pycharm": {
     "name": "#%% md\n"
    }
   }
  },
  {
   "cell_type": "code",
   "execution_count": 15,
   "outputs": [],
   "source": [
    "from sklearn.model_selection import train_test_split\n",
    "#1580 rows for training (0.008%) & 396 (0.002%) for validation/testing == 1976 for one iteration of sample (1/100 of total dataset)\n",
    "X_train_sample, X_valid_sample, y_train_sample, y_valid_sample = train_test_split(nonla_image_metadata, nonla_image_metadata.title, train_size=0.008,test_size=0.002, random_state=626)"
   ],
   "metadata": {
    "collapsed": false,
    "pycharm": {
     "name": "#%%\n"
    }
   }
  },
  {
   "cell_type": "code",
   "execution_count": 33,
   "outputs": [
    {
     "data": {
      "text/plain": "        objectid                                              title  \\\n181864  206907.0  La Hollande Cintre du Salon de la Paix en face...   \n10978     6736.0                                   The Flagellation   \n163394   51333.0                   Philip II of Spain on His Throne   \n66548   169413.0                                     September Morn   \n121102  170228.0                                           Untitled   \n...          ...                                                ...   \n88188   152008.0                                             Cicada   \n112997    8694.0  The Triumph of Julius Caesar [no.5 and 6 plus ...   \n194548   37038.0                        Two Mercenaries and a Woman   \n44937   142723.0              Target with Plaster Casts [3rd state]   \n60017   123613.0                                       Rosi Fischer   \n\n                                                   medium  \\\n181864                            engraving on laid paper   \n10978                                             woodcut   \n163394                                            etching   \n66548       pen and black ink over graphite on wove paper   \n121102                                       paper relief   \n...                                                   ...   \n88188   color lithograph on Georges Duchêne Calcaire h...   \n112997                                chiaroscuro woodcut   \n194548                                            woodcut   \n44937         etching and aquatint in black on wove paper   \n60017                     woodcut in black on japan paper   \n\n                                               dimensions  \\\n181864  sheet: 64 × 90.2 cm (25 3/16 × 35 1/2 in.)\\npl...   \n10978                                                 NaN   \n163394                                                NaN   \n66548        sheet: 34.29 × 36.2 cm (13 1/2 × 14 1/4 in.)   \n121102      sheet: 25.72 × 36.83 cm (10 1/8 × 14 1/2 in.)   \n...                                                   ...   \n88188   image: 67.31 × 51.75 cm (26 1/2 × 20 3/8 in.)\\...   \n112997                                                NaN   \n194548                                                NaN   \n44937   sheet: 75.88 × 56.04 cm (29 7/8 × 22 1/16 in.)...   \n60017   block: 29.6 x 24 cm (11 5/8 x 9 7/16 in.)\\nshe...   \n\n                                              inscription  \\\n181864  In plate: LL: Peint par Ch. Le Brun et dessiné...   \n10978                                                 NaN   \n163394                                                NaN   \n66548   lower right in black ink: C.K.Berryman / THE E...   \n121102        lower right verso in graphite: Goldberg '74   \n...                                                   ...   \n88188   lower left in graphite: Trial Proof; lower rig...   \n112997                                                NaN   \n194548                                                NaN   \n44937   lower right, in graphite: J Johns '79 - '80; l...   \n60017   lower right in graphite: Gothein / 25; lower c...   \n\n                                                 markings  \\\n181864                                                NaN   \n10978                                                 NaN   \n163394                                                NaN   \n66548                                                 NaN   \n121102                                                NaN   \n...                                                   ...   \n88188   embossed lower right: © [Gemini G.E.L.]; stamp...   \n112997                                                NaN   \n194548                                                NaN   \n44937                                                 NaN   \n60017                                                 NaN   \n\n                                      attributioninverted  \\\n181864  Massé, Jean-Baptiste (designer) and Louis Desp...   \n10978                                     Dürer, Albrecht   \n163394                                  Tempesta, Antonio   \n66548                          Berryman, Clifford Kennedy   \n121102                                  Goldberg, Michael   \n...                                                   ...   \n88188                                       Johns, Jasper   \n112997             Andreani, Andrea after Andrea Mantegna   \n194548                                        Graf I, Urs   \n44937                                       Johns, Jasper   \n60017                                     Gothein, Werner   \n\n                                              attribution  \\\n181864  Jean-Baptiste Massé (designer) and Louis Despl...   \n10978                                      Albrecht Dürer   \n163394                                   Antonio Tempesta   \n66548                           Clifford Kennedy Berryman   \n121102                                   Michael Goldberg   \n...                                                   ...   \n88188                                        Jasper Johns   \n112997              Andrea Andreani after Andrea Mantegna   \n194548                                         Urs Graf I   \n44937                                        Jasper Johns   \n60017                                      Werner Gothein   \n\n                                           provenancetext  \\\n181864  Dyson Perrins Museum Trust (stamp). R.W. Burns...   \n10978                                                 NaN   \n163394                                                NaN   \n66548   the artist, Washington, DC; Corcoran Gallery o...   \n121102  The Honorable William H.G. FitzGerald, Mr. Des...   \n...                                                   ...   \n88188   the artist, Sharon, Connecticut; acquired 2010...   \n112997                                                NaN   \n194548                                                NaN   \n44937   the artist, Sharon, Connecticut; acquired 2008...   \n60017   (E. Weyhe, Inc., New York?); Jacob Kainen, Was...   \n\n                                               creditline  ...  \\\n181864                         Gift of David H. McDonnell  ...   \n10978                                Rosenwald Collection  ...   \n163394                           R.L. Baumfeld Collection  ...   \n66548            Corcoran Collection (Gift of the artist)  ...   \n121102  Corcoran Collection (Gift of William H. G. Fit...  ...   \n...                                                   ...  ...   \n88188   Patrons' Permanent Fund and Special Friends of...  ...   \n112997                               Rosenwald Collection  ...   \n194548                               Rosenwald Collection  ...   \n44937   Patrons' Permanent Fund and Special Friends of...  ...   \n60017                                Gift of Jacob Kainen  ...   \n\n               forwarddisplayname   lastname  nationality constituenttype  \\\n181864            Charles Le Brun    Le Brun       French      individual   \n10978    Lessing Julius Rosenwald  Rosenwald     American      individual   \n163394           Antonio Tempesta   Tempesta      Italian      individual   \n66548   Clifford Kennedy Berryman   Berryman     American      individual   \n121102           Michael Goldberg   Goldberg     American      individual   \n...                           ...        ...          ...             ...   \n88188               Richard Garst      Garst     American      individual   \n112997   Lessing Julius Rosenwald  Rosenwald     American      individual   \n194548                 Urs Graf I     Graf I        Swiss      individual   \n44937                Jasper Johns      Johns     American      individual   \n60017                Jacob Kainen     Kainen     American      individual   \n\n                                             expanded_url  \\\n181864  https://api.nga.gov/iiif/466dd719-9d6c-4371-b2...   \n10978   https://api.nga.gov/iiif/6a36a204-6ab0-41ae-af...   \n163394  https://api.nga.gov/iiif/b0115a46-b98b-4775-98...   \n66548   https://api.nga.gov/iiif/2966eaae-4bf3-4413-9a...   \n121102  https://api.nga.gov/iiif/22e9679c-98c4-47dd-81...   \n...                                                   ...   \n88188   https://api.nga.gov/iiif/55e4aec6-185b-4489-8f...   \n112997  https://api.nga.gov/iiif/cc3af392-be24-4995-8c...   \n194548  https://api.nga.gov/iiif/cd90cff0-859d-47ca-8b...   \n44937   https://api.nga.gov/iiif/970c679a-0bbf-4d17-a0...   \n60017   https://api.nga.gov/iiif/03d31f13-43a6-4383-b6...   \n\n        percent_fromCountry   Country Name  Country      Continent  \\\n181864             0.101900         France       FR         Europe   \n10978              0.709936  United States       US  North America   \n163394             0.045247          Italy       IT         Europe   \n66548              0.709936  United States       US  North America   \n121102             0.709936  United States       US  North America   \n...                     ...            ...      ...            ...   \n88188              0.709936  United States       US  North America   \n112997             0.709936  United States       US  North America   \n194548             0.003839    Switzerland       CH         Europe   \n44937              0.709936  United States       US  North America   \n60017              0.709936  United States       US  North America   \n\n        percent_fromArtist  \n181864            0.000152  \n10978             0.261980  \n163394            0.000304  \n66548             0.000192  \n121102            0.000051  \n...                    ...  \n88188             0.000344  \n112997            0.261980  \n194548            0.000040  \n44937             0.023722  \n60017             0.006833  \n\n[396 rows x 35 columns]",
      "text/html": "<div>\n<style scoped>\n    .dataframe tbody tr th:only-of-type {\n        vertical-align: middle;\n    }\n\n    .dataframe tbody tr th {\n        vertical-align: top;\n    }\n\n    .dataframe thead th {\n        text-align: right;\n    }\n</style>\n<table border=\"1\" class=\"dataframe\">\n  <thead>\n    <tr style=\"text-align: right;\">\n      <th></th>\n      <th>objectid</th>\n      <th>title</th>\n      <th>medium</th>\n      <th>dimensions</th>\n      <th>inscription</th>\n      <th>markings</th>\n      <th>attributioninverted</th>\n      <th>attribution</th>\n      <th>provenancetext</th>\n      <th>creditline</th>\n      <th>...</th>\n      <th>forwarddisplayname</th>\n      <th>lastname</th>\n      <th>nationality</th>\n      <th>constituenttype</th>\n      <th>expanded_url</th>\n      <th>percent_fromCountry</th>\n      <th>Country Name</th>\n      <th>Country</th>\n      <th>Continent</th>\n      <th>percent_fromArtist</th>\n    </tr>\n  </thead>\n  <tbody>\n    <tr>\n      <th>181864</th>\n      <td>206907.0</td>\n      <td>La Hollande Cintre du Salon de la Paix en face...</td>\n      <td>engraving on laid paper</td>\n      <td>sheet: 64 × 90.2 cm (25 3/16 × 35 1/2 in.)\\npl...</td>\n      <td>In plate: LL: Peint par Ch. Le Brun et dessiné...</td>\n      <td>NaN</td>\n      <td>Massé, Jean-Baptiste (designer) and Louis Desp...</td>\n      <td>Jean-Baptiste Massé (designer) and Louis Despl...</td>\n      <td>Dyson Perrins Museum Trust (stamp). R.W. Burns...</td>\n      <td>Gift of David H. McDonnell</td>\n      <td>...</td>\n      <td>Charles Le Brun</td>\n      <td>Le Brun</td>\n      <td>French</td>\n      <td>individual</td>\n      <td>https://api.nga.gov/iiif/466dd719-9d6c-4371-b2...</td>\n      <td>0.101900</td>\n      <td>France</td>\n      <td>FR</td>\n      <td>Europe</td>\n      <td>0.000152</td>\n    </tr>\n    <tr>\n      <th>10978</th>\n      <td>6736.0</td>\n      <td>The Flagellation</td>\n      <td>woodcut</td>\n      <td>NaN</td>\n      <td>NaN</td>\n      <td>NaN</td>\n      <td>Dürer, Albrecht</td>\n      <td>Albrecht Dürer</td>\n      <td>NaN</td>\n      <td>Rosenwald Collection</td>\n      <td>...</td>\n      <td>Lessing Julius Rosenwald</td>\n      <td>Rosenwald</td>\n      <td>American</td>\n      <td>individual</td>\n      <td>https://api.nga.gov/iiif/6a36a204-6ab0-41ae-af...</td>\n      <td>0.709936</td>\n      <td>United States</td>\n      <td>US</td>\n      <td>North America</td>\n      <td>0.261980</td>\n    </tr>\n    <tr>\n      <th>163394</th>\n      <td>51333.0</td>\n      <td>Philip II of Spain on His Throne</td>\n      <td>etching</td>\n      <td>NaN</td>\n      <td>NaN</td>\n      <td>NaN</td>\n      <td>Tempesta, Antonio</td>\n      <td>Antonio Tempesta</td>\n      <td>NaN</td>\n      <td>R.L. Baumfeld Collection</td>\n      <td>...</td>\n      <td>Antonio Tempesta</td>\n      <td>Tempesta</td>\n      <td>Italian</td>\n      <td>individual</td>\n      <td>https://api.nga.gov/iiif/b0115a46-b98b-4775-98...</td>\n      <td>0.045247</td>\n      <td>Italy</td>\n      <td>IT</td>\n      <td>Europe</td>\n      <td>0.000304</td>\n    </tr>\n    <tr>\n      <th>66548</th>\n      <td>169413.0</td>\n      <td>September Morn</td>\n      <td>pen and black ink over graphite on wove paper</td>\n      <td>sheet: 34.29 × 36.2 cm (13 1/2 × 14 1/4 in.)</td>\n      <td>lower right in black ink: C.K.Berryman / THE E...</td>\n      <td>NaN</td>\n      <td>Berryman, Clifford Kennedy</td>\n      <td>Clifford Kennedy Berryman</td>\n      <td>the artist, Washington, DC; Corcoran Gallery o...</td>\n      <td>Corcoran Collection (Gift of the artist)</td>\n      <td>...</td>\n      <td>Clifford Kennedy Berryman</td>\n      <td>Berryman</td>\n      <td>American</td>\n      <td>individual</td>\n      <td>https://api.nga.gov/iiif/2966eaae-4bf3-4413-9a...</td>\n      <td>0.709936</td>\n      <td>United States</td>\n      <td>US</td>\n      <td>North America</td>\n      <td>0.000192</td>\n    </tr>\n    <tr>\n      <th>121102</th>\n      <td>170228.0</td>\n      <td>Untitled</td>\n      <td>paper relief</td>\n      <td>sheet: 25.72 × 36.83 cm (10 1/8 × 14 1/2 in.)</td>\n      <td>lower right verso in graphite: Goldberg '74</td>\n      <td>NaN</td>\n      <td>Goldberg, Michael</td>\n      <td>Michael Goldberg</td>\n      <td>The Honorable William H.G. FitzGerald, Mr. Des...</td>\n      <td>Corcoran Collection (Gift of William H. G. Fit...</td>\n      <td>...</td>\n      <td>Michael Goldberg</td>\n      <td>Goldberg</td>\n      <td>American</td>\n      <td>individual</td>\n      <td>https://api.nga.gov/iiif/22e9679c-98c4-47dd-81...</td>\n      <td>0.709936</td>\n      <td>United States</td>\n      <td>US</td>\n      <td>North America</td>\n      <td>0.000051</td>\n    </tr>\n    <tr>\n      <th>...</th>\n      <td>...</td>\n      <td>...</td>\n      <td>...</td>\n      <td>...</td>\n      <td>...</td>\n      <td>...</td>\n      <td>...</td>\n      <td>...</td>\n      <td>...</td>\n      <td>...</td>\n      <td>...</td>\n      <td>...</td>\n      <td>...</td>\n      <td>...</td>\n      <td>...</td>\n      <td>...</td>\n      <td>...</td>\n      <td>...</td>\n      <td>...</td>\n      <td>...</td>\n      <td>...</td>\n    </tr>\n    <tr>\n      <th>88188</th>\n      <td>152008.0</td>\n      <td>Cicada</td>\n      <td>color lithograph on Georges Duchêne Calcaire h...</td>\n      <td>image: 67.31 × 51.75 cm (26 1/2 × 20 3/8 in.)\\...</td>\n      <td>lower left in graphite: Trial Proof; lower rig...</td>\n      <td>embossed lower right: © [Gemini G.E.L.]; stamp...</td>\n      <td>Johns, Jasper</td>\n      <td>Jasper Johns</td>\n      <td>the artist, Sharon, Connecticut; acquired 2010...</td>\n      <td>Patrons' Permanent Fund and Special Friends of...</td>\n      <td>...</td>\n      <td>Richard Garst</td>\n      <td>Garst</td>\n      <td>American</td>\n      <td>individual</td>\n      <td>https://api.nga.gov/iiif/55e4aec6-185b-4489-8f...</td>\n      <td>0.709936</td>\n      <td>United States</td>\n      <td>US</td>\n      <td>North America</td>\n      <td>0.000344</td>\n    </tr>\n    <tr>\n      <th>112997</th>\n      <td>8694.0</td>\n      <td>The Triumph of Julius Caesar [no.5 and 6 plus ...</td>\n      <td>chiaroscuro woodcut</td>\n      <td>NaN</td>\n      <td>NaN</td>\n      <td>NaN</td>\n      <td>Andreani, Andrea after Andrea Mantegna</td>\n      <td>Andrea Andreani after Andrea Mantegna</td>\n      <td>NaN</td>\n      <td>Rosenwald Collection</td>\n      <td>...</td>\n      <td>Lessing Julius Rosenwald</td>\n      <td>Rosenwald</td>\n      <td>American</td>\n      <td>individual</td>\n      <td>https://api.nga.gov/iiif/cc3af392-be24-4995-8c...</td>\n      <td>0.709936</td>\n      <td>United States</td>\n      <td>US</td>\n      <td>North America</td>\n      <td>0.261980</td>\n    </tr>\n    <tr>\n      <th>194548</th>\n      <td>37038.0</td>\n      <td>Two Mercenaries and a Woman</td>\n      <td>woodcut</td>\n      <td>NaN</td>\n      <td>NaN</td>\n      <td>NaN</td>\n      <td>Graf I, Urs</td>\n      <td>Urs Graf I</td>\n      <td>NaN</td>\n      <td>Rosenwald Collection</td>\n      <td>...</td>\n      <td>Urs Graf I</td>\n      <td>Graf I</td>\n      <td>Swiss</td>\n      <td>individual</td>\n      <td>https://api.nga.gov/iiif/cd90cff0-859d-47ca-8b...</td>\n      <td>0.003839</td>\n      <td>Switzerland</td>\n      <td>CH</td>\n      <td>Europe</td>\n      <td>0.000040</td>\n    </tr>\n    <tr>\n      <th>44937</th>\n      <td>142723.0</td>\n      <td>Target with Plaster Casts [3rd state]</td>\n      <td>etching and aquatint in black on wove paper</td>\n      <td>sheet: 75.88 × 56.04 cm (29 7/8 × 22 1/16 in.)...</td>\n      <td>lower right, in graphite: J Johns '79 - '80; l...</td>\n      <td>NaN</td>\n      <td>Johns, Jasper</td>\n      <td>Jasper Johns</td>\n      <td>the artist, Sharon, Connecticut; acquired 2008...</td>\n      <td>Patrons' Permanent Fund and Special Friends of...</td>\n      <td>...</td>\n      <td>Jasper Johns</td>\n      <td>Johns</td>\n      <td>American</td>\n      <td>individual</td>\n      <td>https://api.nga.gov/iiif/970c679a-0bbf-4d17-a0...</td>\n      <td>0.709936</td>\n      <td>United States</td>\n      <td>US</td>\n      <td>North America</td>\n      <td>0.023722</td>\n    </tr>\n    <tr>\n      <th>60017</th>\n      <td>123613.0</td>\n      <td>Rosi Fischer</td>\n      <td>woodcut in black on japan paper</td>\n      <td>block: 29.6 x 24 cm (11 5/8 x 9 7/16 in.)\\nshe...</td>\n      <td>lower right in graphite: Gothein / 25; lower c...</td>\n      <td>NaN</td>\n      <td>Gothein, Werner</td>\n      <td>Werner Gothein</td>\n      <td>(E. Weyhe, Inc., New York?); Jacob Kainen, Was...</td>\n      <td>Gift of Jacob Kainen</td>\n      <td>...</td>\n      <td>Jacob Kainen</td>\n      <td>Kainen</td>\n      <td>American</td>\n      <td>individual</td>\n      <td>https://api.nga.gov/iiif/03d31f13-43a6-4383-b6...</td>\n      <td>0.709936</td>\n      <td>United States</td>\n      <td>US</td>\n      <td>North America</td>\n      <td>0.006833</td>\n    </tr>\n  </tbody>\n</table>\n<p>396 rows × 35 columns</p>\n</div>"
     },
     "execution_count": 33,
     "metadata": {},
     "output_type": "execute_result"
    }
   ],
   "source": [
    "X_valid_sample"
   ],
   "metadata": {
    "collapsed": false,
    "pycharm": {
     "name": "#%%\n"
    }
   }
  },
  {
   "cell_type": "markdown",
   "source": [
    "### Making the individual directories for testing and training\n",
    "For both Latin American and Non-LA art"
   ],
   "metadata": {
    "collapsed": false,
    "pycharm": {
     "name": "#%% md\n"
    }
   }
  },
  {
   "cell_type": "code",
   "execution_count": 17,
   "outputs": [],
   "source": [
    "test_directory = '/test'\n",
    "train_directory = '/train'"
   ],
   "metadata": {
    "collapsed": false,
    "pycharm": {
     "name": "#%%\n"
    }
   }
  },
  {
   "cell_type": "code",
   "execution_count": 18,
   "outputs": [],
   "source": [
    "parent_image_folder = '../../latinamerican-2-imagefolder-split'\n",
    "\n",
    "test_fp = [parent_image_folder + test_directory] * len(X_valid)\n",
    "train_fp = [parent_image_folder + train_directory] * len(X_train)"
   ],
   "metadata": {
    "collapsed": false,
    "pycharm": {
     "name": "#%%\n"
    }
   }
  },
  {
   "cell_type": "code",
   "execution_count": 19,
   "outputs": [],
   "source": [
    "X_valid['destination_fp'] = test_fp\n",
    "X_train['destination_fp'] = train_fp"
   ],
   "metadata": {
    "collapsed": false,
    "pycharm": {
     "name": "#%%\n"
    }
   }
  },
  {
   "cell_type": "code",
   "execution_count": 20,
   "outputs": [],
   "source": [
    "def move_images(valid, train):\n",
    "    #moves images into folders from the datasets' image_fp and into their destination_fp\n",
    "    def shuttle(index):\n",
    "        try:\n",
    "            shutil.move(index['image_fp'], index['destination_fp'])\n",
    "        except:\n",
    "            pass\n",
    "\n",
    "    valid.apply(lambda x: shuttle(x), axis = 1)\n",
    "    train.apply(lambda x: shuttle(x), axis = 1)"
   ],
   "metadata": {
    "collapsed": false,
    "pycharm": {
     "name": "#%%\n"
    }
   }
  },
  {
   "cell_type": "code",
   "execution_count": 21,
   "outputs": [],
   "source": [
    "move_images(X_valid, X_train)"
   ],
   "metadata": {
    "collapsed": false,
    "pycharm": {
     "name": "#%%\n"
    }
   }
  },
  {
   "cell_type": "code",
   "execution_count": 22,
   "outputs": [
    {
     "data": {
      "image/jpeg": "[encoded data removed]",
      "text/plain": "<IPython.core.display.Image object>"
     },
     "execution_count": 22,
     "metadata": {},
     "output_type": "execute_result"
    }
   ],
   "source": [
    "from IPython.display import Image\n",
    "Image(filename='../../la_Images/\"...Un_Pez_que_Llaman_Sierra\"_(\"...A_Fish_Called_Saw\")_Álvarez_Bravo.jpg')"
   ],
   "metadata": {
    "collapsed": false,
    "pycharm": {
     "name": "#%%\n"
    }
   }
  },
  {
   "cell_type": "markdown",
   "source": [
    "### Checking the status of the image directories post-move\n",
    "Latin America Only"
   ],
   "metadata": {
    "collapsed": false,
    "pycharm": {
     "name": "#%% md\n"
    }
   }
  },
  {
   "cell_type": "code",
   "execution_count": 23,
   "outputs": [],
   "source": [
    "import os.path\n",
    "from os import path"
   ],
   "metadata": {
    "collapsed": false,
    "pycharm": {
     "name": "#%%\n"
    }
   }
  },
  {
   "cell_type": "code",
   "execution_count": 24,
   "outputs": [],
   "source": [
    "#checks the presence of file at destination filepath\n",
    "def update_file_presence(dataset):\n",
    "    dataset['file_downloaded'] = dataset['destination_fp'].apply(path.exists)\n",
    "    return dataset"
   ],
   "metadata": {
    "collapsed": false,
    "pycharm": {
     "name": "#%%\n"
    }
   }
  },
  {
   "cell_type": "code",
   "execution_count": 25,
   "outputs": [],
   "source": [
    "X_valid = update_file_presence(X_valid)\n",
    "X_train = update_file_presence(X_train)"
   ],
   "metadata": {
    "collapsed": false,
    "pycharm": {
     "name": "#%%\n"
    }
   }
  },
  {
   "cell_type": "code",
   "execution_count": 26,
   "outputs": [
    {
     "name": "stdout",
     "output_type": "stream",
     "text": [
      "1.0\n",
      "1.0\n",
      "All Images Moved Successfully\n"
     ]
    }
   ],
   "source": [
    "print(X_valid.file_downloaded.sum() / len(X_valid))\n",
    "print(X_train.file_downloaded.sum() / len(X_train))\n",
    "print('All Images Moved Successfully')"
   ],
   "metadata": {
    "collapsed": false,
    "pycharm": {
     "name": "#%%\n"
    }
   }
  },
  {
   "cell_type": "code",
   "execution_count": 27,
   "outputs": [],
   "source": [
    "def incur_fp_column(dataset):\n",
    "    #need to check strength of previous move\n",
    "    dataset = dataset.drop('image_fp', axis = 1)\n",
    "    dataset.rename(columns={'destination_fp': 'image_fp'}, inplace = True)\n",
    "    return dataset"
   ],
   "metadata": {
    "collapsed": false,
    "pycharm": {
     "name": "#%%\n"
    }
   }
  },
  {
   "cell_type": "code",
   "execution_count": 28,
   "outputs": [],
   "source": [
    "X_train = incur_fp_column(X_train)\n",
    "X_valid = incur_fp_column(X_valid)"
   ],
   "metadata": {
    "collapsed": false,
    "pycharm": {
     "name": "#%%\n"
    }
   }
  },
  {
   "cell_type": "code",
   "execution_count": 29,
   "outputs": [],
   "source": [
    "def incur_directory_column(dataset):\n",
    "    directory = [parent_image_folder] * len(dataset)\n",
    "    dataset['directory'] = directory\n",
    "\n",
    "    subfolder = [re.search('test|train', x).group() for x in dataset.image_fp]\n",
    "    dataset['subfolder'] = subfolder"
   ],
   "metadata": {
    "collapsed": false,
    "pycharm": {
     "name": "#%%\n"
    }
   }
  },
  {
   "cell_type": "code",
   "execution_count": 30,
   "outputs": [],
   "source": [
    "incur_directory_column(X_valid)\n",
    "incur_directory_column(X_train)"
   ],
   "metadata": {
    "collapsed": false,
    "pycharm": {
     "name": "#%%\n"
    }
   }
  },
  {
   "cell_type": "code",
   "execution_count": null,
   "outputs": [],
   "source": [],
   "metadata": {
    "collapsed": false,
    "pycharm": {
     "name": "#%%\n"
    }
   }
  }
 ],
 "metadata": {
  "kernelspec": {
   "display_name": "Python 3",
   "language": "python",
   "name": "python3"
  },
  "language_info": {
   "codemirror_mode": {
    "name": "ipython",
    "version": 2
   },
   "file_extension": ".py",
   "mimetype": "text/x-python",
   "name": "python",
   "nbconvert_exporter": "python",
   "pygments_lexer": "ipython2",
   "version": "2.7.6"
  }
 },
 "nbformat": 4,
 "nbformat_minor": 0
}