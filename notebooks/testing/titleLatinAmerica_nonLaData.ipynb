{
 "cells": [
  {
   "cell_type": "code",
   "execution_count": 2,
   "outputs": [],
   "source": [
    "import pandas as pd"
   ],
   "metadata": {
    "collapsed": false,
    "pycharm": {
     "name": "#%%\n"
    }
   }
  },
  {
   "cell_type": "code",
   "execution_count": 3,
   "outputs": [],
   "source": [
    "### Download images similar to process in image_classification notebook, except the images are nonLa and the sample is a subset (la art was more manageable) and thus are randomly selected."
   ],
   "metadata": {
    "collapsed": false,
    "pycharm": {
     "name": "#%%\n"
    }
   }
  },
  {
   "cell_type": "code",
   "execution_count": 4,
   "outputs": [],
   "source": [
    "#pa_nonLa_art = pd.read_csv('../../data_samples/results/whole_set_results/pa_nonLa_art.csv')"
   ],
   "metadata": {
    "collapsed": false,
    "pycharm": {
     "name": "#%%\n"
    }
   }
  },
  {
   "cell_type": "code",
   "execution_count": 3,
   "outputs": [],
   "source": [
    "artbench_meta = pd.read_csv('../../data_samples/results/whole_set_results/ArtBench-10.csv')"
   ],
   "metadata": {
    "collapsed": false,
    "pycharm": {
     "name": "#%%\n"
    }
   }
  },
  {
   "cell_type": "code",
   "execution_count": 4,
   "outputs": [
    {
     "data": {
      "text/plain": "                                                name                 artist  \\\n0          frank-omeara_towards-night-and-winter.jpg           frank-omeara   \n1                     goldstein-grigoriy_morning.jpg     goldstein-grigoriy   \n2                     georges-lemmen_man-reading.jpg         georges-lemmen   \n3           theodor-aman_port-of-constantza-1882.jpg           theodor-aman   \n4      niccolo-cannicci_il-passo-della-futa-1914.jpg       niccolo-cannicci   \n...                                              ...                    ...   \n59995                   utagawa-hiroshige-ii_579.jpg   utagawa-hiroshige-ii   \n59996                    utagawa-hiroshige_11968.jpg      utagawa-hiroshige   \n59997                    utagawa-hiroshige_18919.jpg      utagawa-hiroshige   \n59998                    toyohara-chikanobu_3078.jpg     toyohara-chikanobu   \n59999                  utagawa-hiroshige-iii_793.jpg  utagawa-hiroshige-iii   \n\n                                                     url  is_public_domain  \\\n0      https://uploads5.wikiart.org/00316/images/fran...              True   \n1      https://uploads5.wikiart.org/images/grigoriy-g...              True   \n2      https://uploads6.wikiart.org/images/georges-le...              True   \n3      https://uploads6.wikiart.org/images/theodor-am...              True   \n4      https://uploads3.wikiart.org/images/niccolo-ca...              True   \n...                                                  ...               ...   \n59995   https://ukiyo-e.org/image/famsf/5050161212750078              True   \n59996   https://ukiyo-e.org/image/famsf/5050161207490054              True   \n59997   https://ukiyo-e.org/image/famsf/5050161219930042              True   \n59998   https://ukiyo-e.org/image/famsf/7255324240550041              True   \n59999   https://ukiyo-e.org/image/famsf/7224328201820041              True   \n\n       length  width          label  split  cifar_index  \n0         800    657  impressionism  train        43186  \n1         521    499  impressionism  train        41151  \n2         800    612  impressionism  train         9754  \n3         560    336  impressionism  train        44244  \n4        2400   2322  impressionism  train        46885  \n...       ...    ...            ...    ...          ...  \n59995     900    607        ukiyo_e  train        19424  \n59996    1220    825        ukiyo_e  train        48260  \n59997    1220    794        ukiyo_e   test         9541  \n59998    1220    613        ukiyo_e  train        27420  \n59999    1220    675        ukiyo_e  train        27253  \n\n[60000 rows x 9 columns]",
      "text/html": "<div>\n<style scoped>\n    .dataframe tbody tr th:only-of-type {\n        vertical-align: middle;\n    }\n\n    .dataframe tbody tr th {\n        vertical-align: top;\n    }\n\n    .dataframe thead th {\n        text-align: right;\n    }\n</style>\n<table border=\"1\" class=\"dataframe\">\n  <thead>\n    <tr style=\"text-align: right;\">\n      <th></th>\n      <th>name</th>\n      <th>artist</th>\n      <th>url</th>\n      <th>is_public_domain</th>\n      <th>length</th>\n      <th>width</th>\n      <th>label</th>\n      <th>split</th>\n      <th>cifar_index</th>\n    </tr>\n  </thead>\n  <tbody>\n    <tr>\n      <th>0</th>\n      <td>frank-omeara_towards-night-and-winter.jpg</td>\n      <td>frank-omeara</td>\n      <td>https://uploads5.wikiart.org/00316/images/fran...</td>\n      <td>True</td>\n      <td>800</td>\n      <td>657</td>\n      <td>impressionism</td>\n      <td>train</td>\n      <td>43186</td>\n    </tr>\n    <tr>\n      <th>1</th>\n      <td>goldstein-grigoriy_morning.jpg</td>\n      <td>goldstein-grigoriy</td>\n      <td>https://uploads5.wikiart.org/images/grigoriy-g...</td>\n      <td>True</td>\n      <td>521</td>\n      <td>499</td>\n      <td>impressionism</td>\n      <td>train</td>\n      <td>41151</td>\n    </tr>\n    <tr>\n      <th>2</th>\n      <td>georges-lemmen_man-reading.jpg</td>\n      <td>georges-lemmen</td>\n      <td>https://uploads6.wikiart.org/images/georges-le...</td>\n      <td>True</td>\n      <td>800</td>\n      <td>612</td>\n      <td>impressionism</td>\n      <td>train</td>\n      <td>9754</td>\n    </tr>\n    <tr>\n      <th>3</th>\n      <td>theodor-aman_port-of-constantza-1882.jpg</td>\n      <td>theodor-aman</td>\n      <td>https://uploads6.wikiart.org/images/theodor-am...</td>\n      <td>True</td>\n      <td>560</td>\n      <td>336</td>\n      <td>impressionism</td>\n      <td>train</td>\n      <td>44244</td>\n    </tr>\n    <tr>\n      <th>4</th>\n      <td>niccolo-cannicci_il-passo-della-futa-1914.jpg</td>\n      <td>niccolo-cannicci</td>\n      <td>https://uploads3.wikiart.org/images/niccolo-ca...</td>\n      <td>True</td>\n      <td>2400</td>\n      <td>2322</td>\n      <td>impressionism</td>\n      <td>train</td>\n      <td>46885</td>\n    </tr>\n    <tr>\n      <th>...</th>\n      <td>...</td>\n      <td>...</td>\n      <td>...</td>\n      <td>...</td>\n      <td>...</td>\n      <td>...</td>\n      <td>...</td>\n      <td>...</td>\n      <td>...</td>\n    </tr>\n    <tr>\n      <th>59995</th>\n      <td>utagawa-hiroshige-ii_579.jpg</td>\n      <td>utagawa-hiroshige-ii</td>\n      <td>https://ukiyo-e.org/image/famsf/5050161212750078</td>\n      <td>True</td>\n      <td>900</td>\n      <td>607</td>\n      <td>ukiyo_e</td>\n      <td>train</td>\n      <td>19424</td>\n    </tr>\n    <tr>\n      <th>59996</th>\n      <td>utagawa-hiroshige_11968.jpg</td>\n      <td>utagawa-hiroshige</td>\n      <td>https://ukiyo-e.org/image/famsf/5050161207490054</td>\n      <td>True</td>\n      <td>1220</td>\n      <td>825</td>\n      <td>ukiyo_e</td>\n      <td>train</td>\n      <td>48260</td>\n    </tr>\n    <tr>\n      <th>59997</th>\n      <td>utagawa-hiroshige_18919.jpg</td>\n      <td>utagawa-hiroshige</td>\n      <td>https://ukiyo-e.org/image/famsf/5050161219930042</td>\n      <td>True</td>\n      <td>1220</td>\n      <td>794</td>\n      <td>ukiyo_e</td>\n      <td>test</td>\n      <td>9541</td>\n    </tr>\n    <tr>\n      <th>59998</th>\n      <td>toyohara-chikanobu_3078.jpg</td>\n      <td>toyohara-chikanobu</td>\n      <td>https://ukiyo-e.org/image/famsf/7255324240550041</td>\n      <td>True</td>\n      <td>1220</td>\n      <td>613</td>\n      <td>ukiyo_e</td>\n      <td>train</td>\n      <td>27420</td>\n    </tr>\n    <tr>\n      <th>59999</th>\n      <td>utagawa-hiroshige-iii_793.jpg</td>\n      <td>utagawa-hiroshige-iii</td>\n      <td>https://ukiyo-e.org/image/famsf/7224328201820041</td>\n      <td>True</td>\n      <td>1220</td>\n      <td>675</td>\n      <td>ukiyo_e</td>\n      <td>train</td>\n      <td>27253</td>\n    </tr>\n  </tbody>\n</table>\n<p>60000 rows × 9 columns</p>\n</div>"
     },
     "execution_count": 4,
     "metadata": {},
     "output_type": "execute_result"
    }
   ],
   "source": [
    "artbench_meta"
   ],
   "metadata": {
    "collapsed": false,
    "pycharm": {
     "name": "#%%\n"
    }
   }
  },
  {
   "cell_type": "code",
   "execution_count": null,
   "outputs": [],
   "source": [],
   "metadata": {
    "collapsed": false,
    "pycharm": {
     "name": "#%%\n"
    }
   }
  }
 ],
 "metadata": {
  "kernelspec": {
   "display_name": "Python 3",
   "language": "python",
   "name": "python3"
  },
  "language_info": {
   "codemirror_mode": {
    "name": "ipython",
    "version": 2
   },
   "file_extension": ".py",
   "mimetype": "text/x-python",
   "name": "python",
   "nbconvert_exporter": "python",
   "pygments_lexer": "ipython2",
   "version": "2.7.6"
  }
 },
 "nbformat": 4,
 "nbformat_minor": 0
}