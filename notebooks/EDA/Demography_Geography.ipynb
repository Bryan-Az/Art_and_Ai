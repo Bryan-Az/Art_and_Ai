{
 "cells": [
  {
   "cell_type": "code",
   "execution_count": 6,
   "id": "382ff35e-a93a-40f1-9df2-c91da075a2db",
   "metadata": {},
   "outputs": [],
   "source": [
    "import pandas as pd"
   ]
  },
  {
   "cell_type": "markdown",
   "id": "dec4c459-ee98-48cb-9a28-592e7fff3a5c",
   "metadata": {
    "tags": []
   },
   "source": [
    "# Geography and Demography within the NGA Data"
   ]
  },
  {
   "cell_type": "markdown",
   "id": "6d665b37-37b9-434d-881d-b52983da8b40",
   "metadata": {},
   "source": [
    "### Top Nations Present in National Gallery of Art in Washington, DC (EDA)"
   ]
  },
  {
   "cell_type": "code",
   "execution_count": 15,
   "id": "2c7ac9c2-8561-4edf-9335-88a044bf0978",
   "metadata": {},
   "outputs": [],
   "source": [
    "# I need to import a copy of the constituents 'nationality' column from the non_latin_art.csv dataset recently added into \n",
    "nationalities = pd.read_csv('../../data_samples/nonLaArt/constituents_nationalities.csv')\n"
   ]
  },
  {
   "cell_type": "code",
   "execution_count": 16,
   "id": "31f51bb9-b681-41fa-93e0-8a5ef795b474",
   "metadata": {},
   "outputs": [
    {
     "data": {
      "text/html": [
       "<div>\n",
       "<style scoped>\n",
       "    .dataframe tbody tr th:only-of-type {\n",
       "        vertical-align: middle;\n",
       "    }\n",
       "\n",
       "    .dataframe tbody tr th {\n",
       "        vertical-align: top;\n",
       "    }\n",
       "\n",
       "    .dataframe thead th {\n",
       "        text-align: right;\n",
       "    }\n",
       "</style>\n",
       "<table border=\"1\" class=\"dataframe\">\n",
       "  <thead>\n",
       "    <tr style=\"text-align: right;\">\n",
       "      <th></th>\n",
       "      <th>nationality</th>\n",
       "    </tr>\n",
       "  </thead>\n",
       "  <tbody>\n",
       "    <tr>\n",
       "      <th>0</th>\n",
       "      <td>American</td>\n",
       "    </tr>\n",
       "    <tr>\n",
       "      <th>1</th>\n",
       "      <td>American</td>\n",
       "    </tr>\n",
       "    <tr>\n",
       "      <th>2</th>\n",
       "      <td>American</td>\n",
       "    </tr>\n",
       "    <tr>\n",
       "      <th>3</th>\n",
       "      <td>American</td>\n",
       "    </tr>\n",
       "    <tr>\n",
       "      <th>4</th>\n",
       "      <td>American</td>\n",
       "    </tr>\n",
       "  </tbody>\n",
       "</table>\n",
       "</div>"
      ],
      "text/plain": [
       "  nationality\n",
       "0    American\n",
       "1    American\n",
       "2    American\n",
       "3    American\n",
       "4    American"
      ]
     },
     "execution_count": 16,
     "metadata": {},
     "output_type": "execute_result"
    }
   ],
   "source": [
    "nationalities.head()"
   ]
  },
  {
   "cell_type": "code",
   "execution_count": null,
   "id": "7b00d1a9-ff4e-41f2-8901-3c6582e925ef",
   "metadata": {},
   "outputs": [],
   "source": [
    "artist_origin = nationalities.value_counts(normalize=True)"
   ]
  },
  {
   "cell_type": "code",
   "execution_count": null,
   "id": "e67b0ffa-732e-48f1-b8c6-b42d26e9f97f",
   "metadata": {},
   "outputs": [],
   "source": [
    "artist_origin[:20].plot(kind='bar')"
   ]
  },
  {
   "cell_type": "code",
   "execution_count": null,
   "id": "f29db90d-f0d8-4869-9b63-162fc5bdca01",
   "metadata": {},
   "outputs": [],
   "source": []
  }
 ],
 "metadata": {
  "kernelspec": {
   "display_name": "Python 3 (ipykernel)",
   "language": "python",
   "name": "python3"
  },
  "language_info": {
   "codemirror_mode": {
    "name": "ipython",
    "version": 3
   },
   "file_extension": ".py",
   "mimetype": "text/x-python",
   "name": "python",
   "nbconvert_exporter": "python",
   "pygments_lexer": "ipython3",
   "version": "3.9.16"
  }
 },
 "nbformat": 4,
 "nbformat_minor": 5
}
