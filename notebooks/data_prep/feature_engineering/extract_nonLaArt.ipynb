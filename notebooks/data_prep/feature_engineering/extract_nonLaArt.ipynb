{
 "cells": [
  {
   "cell_type": "code",
   "execution_count": 95,
   "metadata": {
    "collapsed": false,
    "jupyter": {
     "outputs_hidden": false
    },
    "pycharm": {
     "name": "#%%\n"
    },
    "tags": []
   },
   "outputs": [],
   "source": [
    "import pandas as pd\n",
    "import numpy as np\n",
    "import pycountry\n",
    "import pycountry_convert as pc\n",
    "import random"
   ]
  },
  {
   "cell_type": "markdown",
   "metadata": {},
   "source": [
    "### Step 1: Importing/Exporting of Data"
   ]
  },
  {
   "cell_type": "markdown",
   "metadata": {},
   "source": [
    "The initial number of rows in the non_latinamerican_art dataset is 471542 in the database and after removing the 'bad lines', 7743 rows were removed."
   ]
  },
  {
   "cell_type": "code",
   "execution_count": 96,
   "metadata": {
    "collapsed": false,
    "jupyter": {
     "outputs_hidden": false
    },
    "pycharm": {
     "name": "#%%\n"
    },
    "tags": []
   },
   "outputs": [],
   "source": [
    "#new version expects dtype on import however as of now only 1 row is impacted\n",
    "non_latinamerican_art = pd.read_csv('../../../data_samples/nonLaArt/non_latinamerican_art.csv', low_memory=False, on_bad_lines='skip')"
   ]
  },
  {
   "cell_type": "code",
   "execution_count": 97,
   "metadata": {
    "tags": []
   },
   "outputs": [
    {
     "data": {
      "text/plain": [
       "(200073, 40)"
      ]
     },
     "execution_count": 97,
     "metadata": {},
     "output_type": "execute_result"
    }
   ],
   "source": [
    "non_latinamerican_art.shape"
   ]
  },
  {
   "cell_type": "markdown",
   "metadata": {},
   "source": [
    " Saving this column to its' own dataframe will allow for the EDA notebook 'Geography and Demography' to be ran and utilized later"
   ]
  },
  {
   "cell_type": "markdown",
   "metadata": {},
   "source": [
    "### Step 2 of the La Art Pipeline: Feature Engineering new geographical features"
   ]
  },
  {
   "cell_type": "markdown",
   "metadata": {},
   "source": [
    "#### List of Continent Codes for Determining which non Latin American countries are present in the Gallery"
   ]
  },
  {
   "cell_type": "code",
   "execution_count": 98,
   "metadata": {
    "tags": []
   },
   "outputs": [],
   "source": [
    "cname_alpha_2 = []\n",
    "cname_alpha_3 = []\n",
    "for country in pycountry.countries:\n",
    "    cname_alpha_2.append(country.alpha_2)\n",
    "    cname_alpha_3.append(country.alpha_3)"
   ]
  },
  {
   "cell_type": "code",
   "execution_count": 99,
   "metadata": {
    "tags": []
   },
   "outputs": [],
   "source": [
    "cname_alpha_2 = pd.Series(cname_alpha_2)\n",
    "cname_alpha_3 = pd.Series(cname_alpha_3)"
   ]
  },
  {
   "cell_type": "code",
   "execution_count": 100,
   "metadata": {
    "tags": []
   },
   "outputs": [],
   "source": [
    "error_list = ['AQ', 'TF', 'EH', 'PN', 'SX', 'TL', 'UM', 'VA']\n",
    "continent_names = cname_alpha_2.apply(lambda x: pc.country_alpha2_to_continent_code(x) if x not in error_list else 'non-transformable')"
   ]
  },
  {
   "cell_type": "code",
   "execution_count": 101,
   "metadata": {
    "tags": []
   },
   "outputs": [],
   "source": [
    "country_and_continent = pd.DataFrame([cname_alpha_2, continent_names], index= ['Country', 'Continent']).T"
   ]
  },
  {
   "cell_type": "markdown",
   "metadata": {},
   "source": [
    "This is an important aspect of the data as it will pair the countries with their continents and the nationalities of the artists in the dataset"
   ]
  },
  {
   "cell_type": "code",
   "execution_count": 102,
   "metadata": {
    "tags": []
   },
   "outputs": [
    {
     "data": {
      "text/html": [
       "<div>\n",
       "<style scoped>\n",
       "    .dataframe tbody tr th:only-of-type {\n",
       "        vertical-align: middle;\n",
       "    }\n",
       "\n",
       "    .dataframe tbody tr th {\n",
       "        vertical-align: top;\n",
       "    }\n",
       "\n",
       "    .dataframe thead th {\n",
       "        text-align: right;\n",
       "    }\n",
       "</style>\n",
       "<table border=\"1\" class=\"dataframe\">\n",
       "  <thead>\n",
       "    <tr style=\"text-align: right;\">\n",
       "      <th></th>\n",
       "      <th>Country</th>\n",
       "      <th>Continent</th>\n",
       "    </tr>\n",
       "  </thead>\n",
       "  <tbody>\n",
       "    <tr>\n",
       "      <th>0</th>\n",
       "      <td>AW</td>\n",
       "      <td>NA</td>\n",
       "    </tr>\n",
       "    <tr>\n",
       "      <th>1</th>\n",
       "      <td>AF</td>\n",
       "      <td>AS</td>\n",
       "    </tr>\n",
       "    <tr>\n",
       "      <th>2</th>\n",
       "      <td>AO</td>\n",
       "      <td>AF</td>\n",
       "    </tr>\n",
       "    <tr>\n",
       "      <th>3</th>\n",
       "      <td>AI</td>\n",
       "      <td>NA</td>\n",
       "    </tr>\n",
       "    <tr>\n",
       "      <th>4</th>\n",
       "      <td>AX</td>\n",
       "      <td>EU</td>\n",
       "    </tr>\n",
       "  </tbody>\n",
       "</table>\n",
       "</div>"
      ],
      "text/plain": [
       "  Country Continent\n",
       "0      AW        NA\n",
       "1      AF        AS\n",
       "2      AO        AF\n",
       "3      AI        NA\n",
       "4      AX        EU"
      ]
     },
     "execution_count": 102,
     "metadata": {},
     "output_type": "execute_result"
    }
   ],
   "source": [
    "country_and_continent.head()"
   ]
  },
  {
   "cell_type": "code",
   "execution_count": 103,
   "metadata": {
    "tags": []
   },
   "outputs": [],
   "source": [
    "total_by_continent = country_and_continent.groupby('Continent').count()['Country'].copy()"
   ]
  },
  {
   "cell_type": "code",
   "execution_count": 104,
   "metadata": {
    "tags": []
   },
   "outputs": [
    {
     "data": {
      "text/plain": [
       "Continent\n",
       "AF                   57\n",
       "AN                    2\n",
       "AS                   53\n",
       "EU                   50\n",
       "NA                   40\n",
       "OC                   24\n",
       "SA                   15\n",
       "non-transformable     8\n",
       "Name: Country, dtype: int64"
      ]
     },
     "execution_count": 104,
     "metadata": {},
     "output_type": "execute_result"
    }
   ],
   "source": [
    "total_by_continent"
   ]
  },
  {
   "cell_type": "markdown",
   "metadata": {},
   "source": [
    "### Distribution of Countries by Continent, World Wide"
   ]
  },
  {
   "cell_type": "code",
   "execution_count": 105,
   "metadata": {
    "tags": []
   },
   "outputs": [],
   "source": [
    "country_and_continent['Country Name'] = country_and_continent.Country.apply(pc.country_alpha2_to_country_name)"
   ]
  },
  {
   "cell_type": "code",
   "execution_count": 106,
   "metadata": {
    "tags": []
   },
   "outputs": [],
   "source": [
    "country_and_continent['Continent Name'] = country_and_continent.Continent.apply(lambda x: pc.convert_continent_code_to_continent_name(x) if x != 'non-transformable' else x)"
   ]
  },
  {
   "cell_type": "code",
   "execution_count": 107,
   "metadata": {
    "tags": []
   },
   "outputs": [
    {
     "data": {
      "text/html": [
       "<div>\n",
       "<style scoped>\n",
       "    .dataframe tbody tr th:only-of-type {\n",
       "        vertical-align: middle;\n",
       "    }\n",
       "\n",
       "    .dataframe tbody tr th {\n",
       "        vertical-align: top;\n",
       "    }\n",
       "\n",
       "    .dataframe thead th {\n",
       "        text-align: right;\n",
       "    }\n",
       "</style>\n",
       "<table border=\"1\" class=\"dataframe\">\n",
       "  <thead>\n",
       "    <tr style=\"text-align: right;\">\n",
       "      <th></th>\n",
       "      <th>Country</th>\n",
       "      <th>Continent</th>\n",
       "      <th>Country Name</th>\n",
       "      <th>Continent Name</th>\n",
       "    </tr>\n",
       "  </thead>\n",
       "  <tbody>\n",
       "    <tr>\n",
       "      <th>0</th>\n",
       "      <td>AW</td>\n",
       "      <td>NA</td>\n",
       "      <td>Aruba</td>\n",
       "      <td>North America</td>\n",
       "    </tr>\n",
       "    <tr>\n",
       "      <th>1</th>\n",
       "      <td>AF</td>\n",
       "      <td>AS</td>\n",
       "      <td>Afghanistan</td>\n",
       "      <td>Asia</td>\n",
       "    </tr>\n",
       "    <tr>\n",
       "      <th>2</th>\n",
       "      <td>AO</td>\n",
       "      <td>AF</td>\n",
       "      <td>Angola</td>\n",
       "      <td>Africa</td>\n",
       "    </tr>\n",
       "    <tr>\n",
       "      <th>3</th>\n",
       "      <td>AI</td>\n",
       "      <td>NA</td>\n",
       "      <td>Anguilla</td>\n",
       "      <td>North America</td>\n",
       "    </tr>\n",
       "    <tr>\n",
       "      <th>4</th>\n",
       "      <td>AX</td>\n",
       "      <td>EU</td>\n",
       "      <td>Åland Islands</td>\n",
       "      <td>Europe</td>\n",
       "    </tr>\n",
       "  </tbody>\n",
       "</table>\n",
       "</div>"
      ],
      "text/plain": [
       "  Country Continent   Country Name Continent Name\n",
       "0      AW        NA          Aruba  North America\n",
       "1      AF        AS    Afghanistan           Asia\n",
       "2      AO        AF         Angola         Africa\n",
       "3      AI        NA       Anguilla  North America\n",
       "4      AX        EU  Åland Islands         Europe"
      ]
     },
     "execution_count": 107,
     "metadata": {},
     "output_type": "execute_result"
    }
   ],
   "source": [
    "country_and_continent.head()"
   ]
  },
  {
   "cell_type": "code",
   "execution_count": 108,
   "metadata": {
    "tags": []
   },
   "outputs": [],
   "source": [
    "constituent_nationalities = non_latinamerican_art.nationality.copy()"
   ]
  },
  {
   "cell_type": "code",
   "execution_count": 109,
   "metadata": {
    "tags": []
   },
   "outputs": [],
   "source": [
    "nonla_artist_origin = constituent_nationalities.value_counts(normalize=True)"
   ]
  },
  {
   "cell_type": "code",
   "execution_count": 110,
   "metadata": {
    "tags": []
   },
   "outputs": [
    {
     "data": {
      "text/plain": [
       "(200073,)"
      ]
     },
     "execution_count": 110,
     "metadata": {},
     "output_type": "execute_result"
    }
   ],
   "source": [
    "constituent_nationalities.shape"
   ]
  },
  {
   "cell_type": "code",
   "execution_count": 111,
   "metadata": {
    "tags": []
   },
   "outputs": [
    {
     "data": {
      "text/plain": [
       "nationality\n",
       "American    0.549140\n",
       "French      0.153443\n",
       "German      0.072701\n",
       "Italian     0.060949\n",
       "British     0.046483\n",
       "Name: proportion, dtype: float64"
      ]
     },
     "execution_count": 111,
     "metadata": {},
     "output_type": "execute_result"
    }
   ],
   "source": [
    "nonla_artist_origin.head()"
   ]
  },
  {
   "cell_type": "markdown",
   "metadata": {},
   "source": [
    "#### Adding information to select for non_latinamerican_art (todo- write script to create the change in the DB)"
   ]
  },
  {
   "cell_type": "code",
   "execution_count": 112,
   "metadata": {
    "tags": []
   },
   "outputs": [],
   "source": [
    "Latin_in_NA = ['BZ', 'CR', 'CU', 'DO', 'SV', 'GT', 'HT', 'HN', 'JM', 'MX', 'NI', 'PA', 'LC']\n",
    "latin_in_NA_map = country_and_continent.Country.apply(lambda x: x in Latin_in_NA)\n",
    "latin_in_SA_map = country_and_continent.Continent.apply(lambda x: x == 'SA')\n",
    "latins = country_and_continent.where(latin_in_SA_map | latin_in_NA_map).dropna()\n",
    "latins.name = 'Latin Countries'\n",
    "latins.reset_index(inplace=True, drop=True)\n",
    "latins['Country Name'] = latins.Country.apply(pc.country_alpha2_to_country_name)"
   ]
  },
  {
   "cell_type": "code",
   "execution_count": 113,
   "metadata": {
    "tags": []
   },
   "outputs": [],
   "source": [
    "#the assistance of an outside demonyms table which has a key to connect Country to Demonym\n",
    "demonyms = pd.read_csv('../../../data_samples/results/processed_subset_results/demonyms.csv')"
   ]
  },
  {
   "cell_type": "code",
   "execution_count": 114,
   "metadata": {
    "tags": []
   },
   "outputs": [],
   "source": [
    "latins['demonym'] = ['Argentinean', 'Belizean', 'Bolivian', 'Brazilian', 'Chilean', 'Colombian', 'Costa Rican', 'Cuban', 'Dominican', 'Ecuadorian', 'Falkland Islander', 'Guatemalan', 'Guianese', 'Guyanese', 'Honduran', 'Haitian', 'Jamaican', 'Saint Lucian', 'Mexican', 'Nicaraguan', 'Panamanian', 'Peruvian', 'Paraguayan', 'South Georgian', 'Salvadoran', 'Surinamese', 'Uruguayan', 'Venezuelan']"
   ]
  },
  {
   "cell_type": "code",
   "execution_count": 115,
   "metadata": {
    "tags": []
   },
   "outputs": [
    {
     "data": {
      "text/html": [
       "<div>\n",
       "<style scoped>\n",
       "    .dataframe tbody tr th:only-of-type {\n",
       "        vertical-align: middle;\n",
       "    }\n",
       "\n",
       "    .dataframe tbody tr th {\n",
       "        vertical-align: top;\n",
       "    }\n",
       "\n",
       "    .dataframe thead th {\n",
       "        text-align: right;\n",
       "    }\n",
       "</style>\n",
       "<table border=\"1\" class=\"dataframe\">\n",
       "  <thead>\n",
       "    <tr style=\"text-align: right;\">\n",
       "      <th></th>\n",
       "      <th>Country</th>\n",
       "      <th>Continent</th>\n",
       "      <th>Country Name</th>\n",
       "      <th>Continent Name</th>\n",
       "      <th>demonym</th>\n",
       "    </tr>\n",
       "  </thead>\n",
       "  <tbody>\n",
       "    <tr>\n",
       "      <th>0</th>\n",
       "      <td>AR</td>\n",
       "      <td>SA</td>\n",
       "      <td>Argentina</td>\n",
       "      <td>South America</td>\n",
       "      <td>Argentinean</td>\n",
       "    </tr>\n",
       "    <tr>\n",
       "      <th>1</th>\n",
       "      <td>BZ</td>\n",
       "      <td>NA</td>\n",
       "      <td>Belize</td>\n",
       "      <td>North America</td>\n",
       "      <td>Belizean</td>\n",
       "    </tr>\n",
       "    <tr>\n",
       "      <th>2</th>\n",
       "      <td>BO</td>\n",
       "      <td>SA</td>\n",
       "      <td>Bolivia, Plurinational State of</td>\n",
       "      <td>South America</td>\n",
       "      <td>Bolivian</td>\n",
       "    </tr>\n",
       "    <tr>\n",
       "      <th>3</th>\n",
       "      <td>BR</td>\n",
       "      <td>SA</td>\n",
       "      <td>Brazil</td>\n",
       "      <td>South America</td>\n",
       "      <td>Brazilian</td>\n",
       "    </tr>\n",
       "    <tr>\n",
       "      <th>4</th>\n",
       "      <td>CL</td>\n",
       "      <td>SA</td>\n",
       "      <td>Chile</td>\n",
       "      <td>South America</td>\n",
       "      <td>Chilean</td>\n",
       "    </tr>\n",
       "    <tr>\n",
       "      <th>5</th>\n",
       "      <td>CO</td>\n",
       "      <td>SA</td>\n",
       "      <td>Colombia</td>\n",
       "      <td>South America</td>\n",
       "      <td>Colombian</td>\n",
       "    </tr>\n",
       "    <tr>\n",
       "      <th>6</th>\n",
       "      <td>CR</td>\n",
       "      <td>NA</td>\n",
       "      <td>Costa Rica</td>\n",
       "      <td>North America</td>\n",
       "      <td>Costa Rican</td>\n",
       "    </tr>\n",
       "    <tr>\n",
       "      <th>7</th>\n",
       "      <td>CU</td>\n",
       "      <td>NA</td>\n",
       "      <td>Cuba</td>\n",
       "      <td>North America</td>\n",
       "      <td>Cuban</td>\n",
       "    </tr>\n",
       "    <tr>\n",
       "      <th>8</th>\n",
       "      <td>DO</td>\n",
       "      <td>NA</td>\n",
       "      <td>Dominican Republic</td>\n",
       "      <td>North America</td>\n",
       "      <td>Dominican</td>\n",
       "    </tr>\n",
       "    <tr>\n",
       "      <th>9</th>\n",
       "      <td>EC</td>\n",
       "      <td>SA</td>\n",
       "      <td>Ecuador</td>\n",
       "      <td>South America</td>\n",
       "      <td>Ecuadorian</td>\n",
       "    </tr>\n",
       "    <tr>\n",
       "      <th>10</th>\n",
       "      <td>FK</td>\n",
       "      <td>SA</td>\n",
       "      <td>Falkland Islands (Malvinas)</td>\n",
       "      <td>South America</td>\n",
       "      <td>Falkland Islander</td>\n",
       "    </tr>\n",
       "    <tr>\n",
       "      <th>11</th>\n",
       "      <td>GT</td>\n",
       "      <td>NA</td>\n",
       "      <td>Guatemala</td>\n",
       "      <td>North America</td>\n",
       "      <td>Guatemalan</td>\n",
       "    </tr>\n",
       "    <tr>\n",
       "      <th>12</th>\n",
       "      <td>GF</td>\n",
       "      <td>SA</td>\n",
       "      <td>French Guiana</td>\n",
       "      <td>South America</td>\n",
       "      <td>Guianese</td>\n",
       "    </tr>\n",
       "    <tr>\n",
       "      <th>13</th>\n",
       "      <td>GY</td>\n",
       "      <td>SA</td>\n",
       "      <td>Guyana</td>\n",
       "      <td>South America</td>\n",
       "      <td>Guyanese</td>\n",
       "    </tr>\n",
       "    <tr>\n",
       "      <th>14</th>\n",
       "      <td>HN</td>\n",
       "      <td>NA</td>\n",
       "      <td>Honduras</td>\n",
       "      <td>North America</td>\n",
       "      <td>Honduran</td>\n",
       "    </tr>\n",
       "    <tr>\n",
       "      <th>15</th>\n",
       "      <td>HT</td>\n",
       "      <td>NA</td>\n",
       "      <td>Haiti</td>\n",
       "      <td>North America</td>\n",
       "      <td>Haitian</td>\n",
       "    </tr>\n",
       "    <tr>\n",
       "      <th>16</th>\n",
       "      <td>JM</td>\n",
       "      <td>NA</td>\n",
       "      <td>Jamaica</td>\n",
       "      <td>North America</td>\n",
       "      <td>Jamaican</td>\n",
       "    </tr>\n",
       "    <tr>\n",
       "      <th>17</th>\n",
       "      <td>LC</td>\n",
       "      <td>NA</td>\n",
       "      <td>Saint Lucia</td>\n",
       "      <td>North America</td>\n",
       "      <td>Saint Lucian</td>\n",
       "    </tr>\n",
       "    <tr>\n",
       "      <th>18</th>\n",
       "      <td>MX</td>\n",
       "      <td>NA</td>\n",
       "      <td>Mexico</td>\n",
       "      <td>North America</td>\n",
       "      <td>Mexican</td>\n",
       "    </tr>\n",
       "    <tr>\n",
       "      <th>19</th>\n",
       "      <td>NI</td>\n",
       "      <td>NA</td>\n",
       "      <td>Nicaragua</td>\n",
       "      <td>North America</td>\n",
       "      <td>Nicaraguan</td>\n",
       "    </tr>\n",
       "    <tr>\n",
       "      <th>20</th>\n",
       "      <td>PA</td>\n",
       "      <td>NA</td>\n",
       "      <td>Panama</td>\n",
       "      <td>North America</td>\n",
       "      <td>Panamanian</td>\n",
       "    </tr>\n",
       "    <tr>\n",
       "      <th>21</th>\n",
       "      <td>PE</td>\n",
       "      <td>SA</td>\n",
       "      <td>Peru</td>\n",
       "      <td>South America</td>\n",
       "      <td>Peruvian</td>\n",
       "    </tr>\n",
       "    <tr>\n",
       "      <th>22</th>\n",
       "      <td>PY</td>\n",
       "      <td>SA</td>\n",
       "      <td>Paraguay</td>\n",
       "      <td>South America</td>\n",
       "      <td>Paraguayan</td>\n",
       "    </tr>\n",
       "    <tr>\n",
       "      <th>23</th>\n",
       "      <td>GS</td>\n",
       "      <td>SA</td>\n",
       "      <td>South Georgia and the South Sandwich Islands</td>\n",
       "      <td>South America</td>\n",
       "      <td>South Georgian</td>\n",
       "    </tr>\n",
       "    <tr>\n",
       "      <th>24</th>\n",
       "      <td>SV</td>\n",
       "      <td>NA</td>\n",
       "      <td>El Salvador</td>\n",
       "      <td>North America</td>\n",
       "      <td>Salvadoran</td>\n",
       "    </tr>\n",
       "    <tr>\n",
       "      <th>25</th>\n",
       "      <td>SR</td>\n",
       "      <td>SA</td>\n",
       "      <td>Suriname</td>\n",
       "      <td>South America</td>\n",
       "      <td>Surinamese</td>\n",
       "    </tr>\n",
       "    <tr>\n",
       "      <th>26</th>\n",
       "      <td>UY</td>\n",
       "      <td>SA</td>\n",
       "      <td>Uruguay</td>\n",
       "      <td>South America</td>\n",
       "      <td>Uruguayan</td>\n",
       "    </tr>\n",
       "    <tr>\n",
       "      <th>27</th>\n",
       "      <td>VE</td>\n",
       "      <td>SA</td>\n",
       "      <td>Venezuela, Bolivarian Republic of</td>\n",
       "      <td>South America</td>\n",
       "      <td>Venezuelan</td>\n",
       "    </tr>\n",
       "  </tbody>\n",
       "</table>\n",
       "</div>"
      ],
      "text/plain": [
       "   Country Continent                                  Country Name  \\\n",
       "0       AR        SA                                     Argentina   \n",
       "1       BZ        NA                                        Belize   \n",
       "2       BO        SA               Bolivia, Plurinational State of   \n",
       "3       BR        SA                                        Brazil   \n",
       "4       CL        SA                                         Chile   \n",
       "5       CO        SA                                      Colombia   \n",
       "6       CR        NA                                    Costa Rica   \n",
       "7       CU        NA                                          Cuba   \n",
       "8       DO        NA                            Dominican Republic   \n",
       "9       EC        SA                                       Ecuador   \n",
       "10      FK        SA                   Falkland Islands (Malvinas)   \n",
       "11      GT        NA                                     Guatemala   \n",
       "12      GF        SA                                 French Guiana   \n",
       "13      GY        SA                                        Guyana   \n",
       "14      HN        NA                                      Honduras   \n",
       "15      HT        NA                                         Haiti   \n",
       "16      JM        NA                                       Jamaica   \n",
       "17      LC        NA                                   Saint Lucia   \n",
       "18      MX        NA                                        Mexico   \n",
       "19      NI        NA                                     Nicaragua   \n",
       "20      PA        NA                                        Panama   \n",
       "21      PE        SA                                          Peru   \n",
       "22      PY        SA                                      Paraguay   \n",
       "23      GS        SA  South Georgia and the South Sandwich Islands   \n",
       "24      SV        NA                                   El Salvador   \n",
       "25      SR        SA                                      Suriname   \n",
       "26      UY        SA                                       Uruguay   \n",
       "27      VE        SA             Venezuela, Bolivarian Republic of   \n",
       "\n",
       "   Continent Name            demonym  \n",
       "0   South America        Argentinean  \n",
       "1   North America           Belizean  \n",
       "2   South America           Bolivian  \n",
       "3   South America          Brazilian  \n",
       "4   South America            Chilean  \n",
       "5   South America          Colombian  \n",
       "6   North America        Costa Rican  \n",
       "7   North America              Cuban  \n",
       "8   North America          Dominican  \n",
       "9   South America         Ecuadorian  \n",
       "10  South America  Falkland Islander  \n",
       "11  North America         Guatemalan  \n",
       "12  South America           Guianese  \n",
       "13  South America           Guyanese  \n",
       "14  North America           Honduran  \n",
       "15  North America            Haitian  \n",
       "16  North America           Jamaican  \n",
       "17  North America       Saint Lucian  \n",
       "18  North America            Mexican  \n",
       "19  North America         Nicaraguan  \n",
       "20  North America         Panamanian  \n",
       "21  South America           Peruvian  \n",
       "22  South America         Paraguayan  \n",
       "23  South America     South Georgian  \n",
       "24  North America         Salvadoran  \n",
       "25  South America         Surinamese  \n",
       "26  South America          Uruguayan  \n",
       "27  South America         Venezuelan  "
      ]
     },
     "execution_count": 115,
     "metadata": {},
     "output_type": "execute_result"
    }
   ],
   "source": [
    "latins"
   ]
  },
  {
   "cell_type": "code",
   "execution_count": 116,
   "metadata": {
    "tags": []
   },
   "outputs": [],
   "source": [
    "nonla_artist_origin = nonla_artist_origin.reset_index(drop=False)"
   ]
  },
  {
   "cell_type": "code",
   "execution_count": 117,
   "metadata": {
    "tags": []
   },
   "outputs": [],
   "source": [
    "nonla_artist_origin.columns = ['demonym', 'pct_country_NGA']"
   ]
  },
  {
   "cell_type": "code",
   "execution_count": 118,
   "metadata": {
    "tags": []
   },
   "outputs": [
    {
     "data": {
      "text/html": [
       "<div>\n",
       "<style scoped>\n",
       "    .dataframe tbody tr th:only-of-type {\n",
       "        vertical-align: middle;\n",
       "    }\n",
       "\n",
       "    .dataframe tbody tr th {\n",
       "        vertical-align: top;\n",
       "    }\n",
       "\n",
       "    .dataframe thead th {\n",
       "        text-align: right;\n",
       "    }\n",
       "</style>\n",
       "<table border=\"1\" class=\"dataframe\">\n",
       "  <thead>\n",
       "    <tr style=\"text-align: right;\">\n",
       "      <th></th>\n",
       "      <th>demonym</th>\n",
       "      <th>pct_country_NGA</th>\n",
       "    </tr>\n",
       "  </thead>\n",
       "  <tbody>\n",
       "    <tr>\n",
       "      <th>0</th>\n",
       "      <td>American</td>\n",
       "      <td>0.549140</td>\n",
       "    </tr>\n",
       "    <tr>\n",
       "      <th>1</th>\n",
       "      <td>French</td>\n",
       "      <td>0.153443</td>\n",
       "    </tr>\n",
       "    <tr>\n",
       "      <th>2</th>\n",
       "      <td>German</td>\n",
       "      <td>0.072701</td>\n",
       "    </tr>\n",
       "    <tr>\n",
       "      <th>3</th>\n",
       "      <td>Italian</td>\n",
       "      <td>0.060949</td>\n",
       "    </tr>\n",
       "    <tr>\n",
       "      <th>4</th>\n",
       "      <td>British</td>\n",
       "      <td>0.046483</td>\n",
       "    </tr>\n",
       "    <tr>\n",
       "      <th>...</th>\n",
       "      <td>...</td>\n",
       "      <td>...</td>\n",
       "    </tr>\n",
       "    <tr>\n",
       "      <th>130</th>\n",
       "      <td>10402</td>\n",
       "      <td>0.000010</td>\n",
       "    </tr>\n",
       "    <tr>\n",
       "      <th>131</th>\n",
       "      <td>8200</td>\n",
       "      <td>0.000010</td>\n",
       "    </tr>\n",
       "    <tr>\n",
       "      <th>132</th>\n",
       "      <td>6b7aa14f-e63c-4387-80ba-aea129df9ac9</td>\n",
       "      <td>0.000010</td>\n",
       "    </tr>\n",
       "    <tr>\n",
       "      <th>133</th>\n",
       "      <td>3209</td>\n",
       "      <td>0.000010</td>\n",
       "    </tr>\n",
       "    <tr>\n",
       "      <th>134</th>\n",
       "      <td>f7827671-4081-46ad-bfe3-53b9aa68ebd0</td>\n",
       "      <td>0.000010</td>\n",
       "    </tr>\n",
       "  </tbody>\n",
       "</table>\n",
       "<p>135 rows × 2 columns</p>\n",
       "</div>"
      ],
      "text/plain": [
       "                                  demonym  pct_country_NGA\n",
       "0                                American         0.549140\n",
       "1                                  French         0.153443\n",
       "2                                  German         0.072701\n",
       "3                                 Italian         0.060949\n",
       "4                                 British         0.046483\n",
       "..                                    ...              ...\n",
       "130                                 10402         0.000010\n",
       "131                                  8200         0.000010\n",
       "132  6b7aa14f-e63c-4387-80ba-aea129df9ac9         0.000010\n",
       "133                                  3209         0.000010\n",
       "134  f7827671-4081-46ad-bfe3-53b9aa68ebd0         0.000010\n",
       "\n",
       "[135 rows x 2 columns]"
      ]
     },
     "execution_count": 118,
     "metadata": {},
     "output_type": "execute_result"
    }
   ],
   "source": [
    "nonla_artist_origin"
   ]
  },
  {
   "cell_type": "markdown",
   "metadata": {
    "tags": []
   },
   "source": [
    "#### This will remove the subset of data that is latin american from nonlatines and thus nonla_geographicStatistics"
   ]
  },
  {
   "cell_type": "code",
   "execution_count": 119,
   "metadata": {
    "tags": []
   },
   "outputs": [],
   "source": [
    "non_latines = pd.merge(country_and_continent, demonyms, how='inner', on ='Country Name')"
   ]
  },
  {
   "cell_type": "code",
   "execution_count": 120,
   "metadata": {
    "tags": []
   },
   "outputs": [],
   "source": [
    "non_latines = non_latines.astype({'Country':'string','Continent':'string','Country Name':'string','Continent Name':'string','demonym':'string'})"
   ]
  },
  {
   "cell_type": "code",
   "execution_count": 121,
   "metadata": {
    "tags": []
   },
   "outputs": [],
   "source": [
    "latins = latins.astype({'Country':'string','Continent':'string','Country Name':'string','Continent Name':'string','demonym':'string'})"
   ]
  },
  {
   "cell_type": "code",
   "execution_count": 122,
   "metadata": {
    "tags": []
   },
   "outputs": [],
   "source": [
    "non_latines = non_latines.where(non_latines['Country Name'].apply(lambda x: not latins['Country Name'].isin([x]).any())).dropna(how='all')"
   ]
  },
  {
   "cell_type": "markdown",
   "metadata": {
    "tags": []
   },
   "source": [
    "#### TODO: Some of these countries may be part of latin america. South America was completely removed after seperation which is expected."
   ]
  },
  {
   "cell_type": "code",
   "execution_count": 123,
   "metadata": {},
   "outputs": [],
   "source": [
    "# Might remove jamaica/belize? from the latinamerican group"
   ]
  },
  {
   "cell_type": "code",
   "execution_count": 124,
   "metadata": {},
   "outputs": [
    {
     "data": {
      "text/plain": [
       "Belize                1\n",
       "Costa Rica            1\n",
       "Cuba                  1\n",
       "Dominican Republic    1\n",
       "Guatemala             1\n",
       "Honduras              1\n",
       "Haiti                 1\n",
       "Jamaica               1\n",
       "Saint Lucia           1\n",
       "Mexico                1\n",
       "Nicaragua             1\n",
       "Panama                1\n",
       "El Salvador           1\n",
       "Name: Country Name, dtype: Int64"
      ]
     },
     "execution_count": 124,
     "metadata": {},
     "output_type": "execute_result"
    }
   ],
   "source": [
    "latins.groupby('Continent Name')['Country Name'].apply(lambda x: x.value_counts())['North America']"
   ]
  },
  {
   "cell_type": "code",
   "execution_count": 125,
   "metadata": {},
   "outputs": [],
   "source": [
    "# To include puerto rico in the latinamerican group"
   ]
  },
  {
   "cell_type": "code",
   "execution_count": 126,
   "metadata": {},
   "outputs": [
    {
     "data": {
      "text/plain": [
       "Barbados            4\n",
       "Canada              4\n",
       "United States       4\n",
       "Bermuda             2\n",
       "Guadeloupe          2\n",
       "Martinique          2\n",
       "Puerto Rico         2\n",
       "Aruba               1\n",
       "Anguilla            1\n",
       "Saint Barthélemy    1\n",
       "Curaçao             1\n",
       "Cayman Islands      1\n",
       "Dominica            1\n",
       "Grenada             1\n",
       "Greenland           1\n",
       "Montserrat          1\n",
       "Name: Country Name, dtype: Int64"
      ]
     },
     "execution_count": 126,
     "metadata": {},
     "output_type": "execute_result"
    }
   ],
   "source": [
    "non_latines.groupby('Continent Name')['Country Name'].apply(lambda x: x.value_counts())['North America']"
   ]
  },
  {
   "cell_type": "code",
   "execution_count": 127,
   "metadata": {
    "tags": []
   },
   "outputs": [
    {
     "data": {
      "text/html": [
       "<div>\n",
       "<style scoped>\n",
       "    .dataframe tbody tr th:only-of-type {\n",
       "        vertical-align: middle;\n",
       "    }\n",
       "\n",
       "    .dataframe tbody tr th {\n",
       "        vertical-align: top;\n",
       "    }\n",
       "\n",
       "    .dataframe thead th {\n",
       "        text-align: right;\n",
       "    }\n",
       "</style>\n",
       "<table border=\"1\" class=\"dataframe\">\n",
       "  <thead>\n",
       "    <tr style=\"text-align: right;\">\n",
       "      <th></th>\n",
       "      <th>Country</th>\n",
       "      <th>Continent</th>\n",
       "      <th>Country Name</th>\n",
       "      <th>Continent Name</th>\n",
       "      <th>demonym</th>\n",
       "    </tr>\n",
       "  </thead>\n",
       "  <tbody>\n",
       "    <tr>\n",
       "      <th>0</th>\n",
       "      <td>AR</td>\n",
       "      <td>SA</td>\n",
       "      <td>Argentina</td>\n",
       "      <td>South America</td>\n",
       "      <td>Argentinean</td>\n",
       "    </tr>\n",
       "    <tr>\n",
       "      <th>1</th>\n",
       "      <td>BZ</td>\n",
       "      <td>NA</td>\n",
       "      <td>Belize</td>\n",
       "      <td>North America</td>\n",
       "      <td>Belizean</td>\n",
       "    </tr>\n",
       "    <tr>\n",
       "      <th>2</th>\n",
       "      <td>BO</td>\n",
       "      <td>SA</td>\n",
       "      <td>Bolivia, Plurinational State of</td>\n",
       "      <td>South America</td>\n",
       "      <td>Bolivian</td>\n",
       "    </tr>\n",
       "    <tr>\n",
       "      <th>3</th>\n",
       "      <td>BR</td>\n",
       "      <td>SA</td>\n",
       "      <td>Brazil</td>\n",
       "      <td>South America</td>\n",
       "      <td>Brazilian</td>\n",
       "    </tr>\n",
       "    <tr>\n",
       "      <th>4</th>\n",
       "      <td>CL</td>\n",
       "      <td>SA</td>\n",
       "      <td>Chile</td>\n",
       "      <td>South America</td>\n",
       "      <td>Chilean</td>\n",
       "    </tr>\n",
       "    <tr>\n",
       "      <th>5</th>\n",
       "      <td>CO</td>\n",
       "      <td>SA</td>\n",
       "      <td>Colombia</td>\n",
       "      <td>South America</td>\n",
       "      <td>Colombian</td>\n",
       "    </tr>\n",
       "    <tr>\n",
       "      <th>6</th>\n",
       "      <td>CR</td>\n",
       "      <td>NA</td>\n",
       "      <td>Costa Rica</td>\n",
       "      <td>North America</td>\n",
       "      <td>Costa Rican</td>\n",
       "    </tr>\n",
       "    <tr>\n",
       "      <th>7</th>\n",
       "      <td>CU</td>\n",
       "      <td>NA</td>\n",
       "      <td>Cuba</td>\n",
       "      <td>North America</td>\n",
       "      <td>Cuban</td>\n",
       "    </tr>\n",
       "    <tr>\n",
       "      <th>8</th>\n",
       "      <td>DO</td>\n",
       "      <td>NA</td>\n",
       "      <td>Dominican Republic</td>\n",
       "      <td>North America</td>\n",
       "      <td>Dominican</td>\n",
       "    </tr>\n",
       "    <tr>\n",
       "      <th>9</th>\n",
       "      <td>EC</td>\n",
       "      <td>SA</td>\n",
       "      <td>Ecuador</td>\n",
       "      <td>South America</td>\n",
       "      <td>Ecuadorian</td>\n",
       "    </tr>\n",
       "    <tr>\n",
       "      <th>10</th>\n",
       "      <td>FK</td>\n",
       "      <td>SA</td>\n",
       "      <td>Falkland Islands (Malvinas)</td>\n",
       "      <td>South America</td>\n",
       "      <td>Falkland Islander</td>\n",
       "    </tr>\n",
       "    <tr>\n",
       "      <th>11</th>\n",
       "      <td>GT</td>\n",
       "      <td>NA</td>\n",
       "      <td>Guatemala</td>\n",
       "      <td>North America</td>\n",
       "      <td>Guatemalan</td>\n",
       "    </tr>\n",
       "    <tr>\n",
       "      <th>12</th>\n",
       "      <td>GF</td>\n",
       "      <td>SA</td>\n",
       "      <td>French Guiana</td>\n",
       "      <td>South America</td>\n",
       "      <td>Guianese</td>\n",
       "    </tr>\n",
       "    <tr>\n",
       "      <th>13</th>\n",
       "      <td>GY</td>\n",
       "      <td>SA</td>\n",
       "      <td>Guyana</td>\n",
       "      <td>South America</td>\n",
       "      <td>Guyanese</td>\n",
       "    </tr>\n",
       "    <tr>\n",
       "      <th>14</th>\n",
       "      <td>HN</td>\n",
       "      <td>NA</td>\n",
       "      <td>Honduras</td>\n",
       "      <td>North America</td>\n",
       "      <td>Honduran</td>\n",
       "    </tr>\n",
       "    <tr>\n",
       "      <th>15</th>\n",
       "      <td>HT</td>\n",
       "      <td>NA</td>\n",
       "      <td>Haiti</td>\n",
       "      <td>North America</td>\n",
       "      <td>Haitian</td>\n",
       "    </tr>\n",
       "    <tr>\n",
       "      <th>16</th>\n",
       "      <td>JM</td>\n",
       "      <td>NA</td>\n",
       "      <td>Jamaica</td>\n",
       "      <td>North America</td>\n",
       "      <td>Jamaican</td>\n",
       "    </tr>\n",
       "    <tr>\n",
       "      <th>17</th>\n",
       "      <td>LC</td>\n",
       "      <td>NA</td>\n",
       "      <td>Saint Lucia</td>\n",
       "      <td>North America</td>\n",
       "      <td>Saint Lucian</td>\n",
       "    </tr>\n",
       "    <tr>\n",
       "      <th>18</th>\n",
       "      <td>MX</td>\n",
       "      <td>NA</td>\n",
       "      <td>Mexico</td>\n",
       "      <td>North America</td>\n",
       "      <td>Mexican</td>\n",
       "    </tr>\n",
       "    <tr>\n",
       "      <th>19</th>\n",
       "      <td>NI</td>\n",
       "      <td>NA</td>\n",
       "      <td>Nicaragua</td>\n",
       "      <td>North America</td>\n",
       "      <td>Nicaraguan</td>\n",
       "    </tr>\n",
       "    <tr>\n",
       "      <th>20</th>\n",
       "      <td>PA</td>\n",
       "      <td>NA</td>\n",
       "      <td>Panama</td>\n",
       "      <td>North America</td>\n",
       "      <td>Panamanian</td>\n",
       "    </tr>\n",
       "    <tr>\n",
       "      <th>21</th>\n",
       "      <td>PE</td>\n",
       "      <td>SA</td>\n",
       "      <td>Peru</td>\n",
       "      <td>South America</td>\n",
       "      <td>Peruvian</td>\n",
       "    </tr>\n",
       "    <tr>\n",
       "      <th>22</th>\n",
       "      <td>PY</td>\n",
       "      <td>SA</td>\n",
       "      <td>Paraguay</td>\n",
       "      <td>South America</td>\n",
       "      <td>Paraguayan</td>\n",
       "    </tr>\n",
       "    <tr>\n",
       "      <th>23</th>\n",
       "      <td>GS</td>\n",
       "      <td>SA</td>\n",
       "      <td>South Georgia and the South Sandwich Islands</td>\n",
       "      <td>South America</td>\n",
       "      <td>South Georgian</td>\n",
       "    </tr>\n",
       "    <tr>\n",
       "      <th>24</th>\n",
       "      <td>SV</td>\n",
       "      <td>NA</td>\n",
       "      <td>El Salvador</td>\n",
       "      <td>North America</td>\n",
       "      <td>Salvadoran</td>\n",
       "    </tr>\n",
       "    <tr>\n",
       "      <th>25</th>\n",
       "      <td>SR</td>\n",
       "      <td>SA</td>\n",
       "      <td>Suriname</td>\n",
       "      <td>South America</td>\n",
       "      <td>Surinamese</td>\n",
       "    </tr>\n",
       "    <tr>\n",
       "      <th>26</th>\n",
       "      <td>UY</td>\n",
       "      <td>SA</td>\n",
       "      <td>Uruguay</td>\n",
       "      <td>South America</td>\n",
       "      <td>Uruguayan</td>\n",
       "    </tr>\n",
       "    <tr>\n",
       "      <th>27</th>\n",
       "      <td>VE</td>\n",
       "      <td>SA</td>\n",
       "      <td>Venezuela, Bolivarian Republic of</td>\n",
       "      <td>South America</td>\n",
       "      <td>Venezuelan</td>\n",
       "    </tr>\n",
       "  </tbody>\n",
       "</table>\n",
       "</div>"
      ],
      "text/plain": [
       "   Country Continent                                  Country Name  \\\n",
       "0       AR        SA                                     Argentina   \n",
       "1       BZ        NA                                        Belize   \n",
       "2       BO        SA               Bolivia, Plurinational State of   \n",
       "3       BR        SA                                        Brazil   \n",
       "4       CL        SA                                         Chile   \n",
       "5       CO        SA                                      Colombia   \n",
       "6       CR        NA                                    Costa Rica   \n",
       "7       CU        NA                                          Cuba   \n",
       "8       DO        NA                            Dominican Republic   \n",
       "9       EC        SA                                       Ecuador   \n",
       "10      FK        SA                   Falkland Islands (Malvinas)   \n",
       "11      GT        NA                                     Guatemala   \n",
       "12      GF        SA                                 French Guiana   \n",
       "13      GY        SA                                        Guyana   \n",
       "14      HN        NA                                      Honduras   \n",
       "15      HT        NA                                         Haiti   \n",
       "16      JM        NA                                       Jamaica   \n",
       "17      LC        NA                                   Saint Lucia   \n",
       "18      MX        NA                                        Mexico   \n",
       "19      NI        NA                                     Nicaragua   \n",
       "20      PA        NA                                        Panama   \n",
       "21      PE        SA                                          Peru   \n",
       "22      PY        SA                                      Paraguay   \n",
       "23      GS        SA  South Georgia and the South Sandwich Islands   \n",
       "24      SV        NA                                   El Salvador   \n",
       "25      SR        SA                                      Suriname   \n",
       "26      UY        SA                                       Uruguay   \n",
       "27      VE        SA             Venezuela, Bolivarian Republic of   \n",
       "\n",
       "   Continent Name            demonym  \n",
       "0   South America        Argentinean  \n",
       "1   North America           Belizean  \n",
       "2   South America           Bolivian  \n",
       "3   South America          Brazilian  \n",
       "4   South America            Chilean  \n",
       "5   South America          Colombian  \n",
       "6   North America        Costa Rican  \n",
       "7   North America              Cuban  \n",
       "8   North America          Dominican  \n",
       "9   South America         Ecuadorian  \n",
       "10  South America  Falkland Islander  \n",
       "11  North America         Guatemalan  \n",
       "12  South America           Guianese  \n",
       "13  South America           Guyanese  \n",
       "14  North America           Honduran  \n",
       "15  North America            Haitian  \n",
       "16  North America           Jamaican  \n",
       "17  North America       Saint Lucian  \n",
       "18  North America            Mexican  \n",
       "19  North America         Nicaraguan  \n",
       "20  North America         Panamanian  \n",
       "21  South America           Peruvian  \n",
       "22  South America         Paraguayan  \n",
       "23  South America     South Georgian  \n",
       "24  North America         Salvadoran  \n",
       "25  South America         Surinamese  \n",
       "26  South America          Uruguayan  \n",
       "27  South America         Venezuelan  "
      ]
     },
     "execution_count": 127,
     "metadata": {},
     "output_type": "execute_result"
    }
   ],
   "source": [
    "latins"
   ]
  },
  {
   "cell_type": "code",
   "execution_count": 128,
   "metadata": {
    "tags": []
   },
   "outputs": [],
   "source": [
    "nonla_artist_origin = nonla_artist_origin.where(nonla_artist_origin['demonym'].apply(lambda x: not latins['demonym'].isin([x]).any())).dropna(how='all')"
   ]
  },
  {
   "cell_type": "code",
   "execution_count": 129,
   "metadata": {
    "tags": []
   },
   "outputs": [],
   "source": [
    "nonla_geographicStatistics = pd.merge(nonla_artist_origin, non_latines, on='demonym')"
   ]
  },
  {
   "cell_type": "code",
   "execution_count": 130,
   "metadata": {
    "tags": []
   },
   "outputs": [
    {
     "data": {
      "text/plain": [
       "(38, 6)"
      ]
     },
     "execution_count": 130,
     "metadata": {},
     "output_type": "execute_result"
    }
   ],
   "source": [
    "nonla_geographicStatistics.shape"
   ]
  },
  {
   "cell_type": "code",
   "execution_count": 131,
   "metadata": {
    "tags": []
   },
   "outputs": [],
   "source": [
    "nonla_geographicStatistics = nonla_geographicStatistics.sort_values(by='Country Name')"
   ]
  },
  {
   "cell_type": "code",
   "execution_count": 132,
   "metadata": {
    "tags": []
   },
   "outputs": [],
   "source": [
    "nonla_geographicStatistics.reset_index(drop=True, inplace=True)"
   ]
  },
  {
   "cell_type": "code",
   "execution_count": 133,
   "metadata": {
    "tags": []
   },
   "outputs": [
    {
     "data": {
      "text/html": [
       "<div>\n",
       "<style scoped>\n",
       "    .dataframe tbody tr th:only-of-type {\n",
       "        vertical-align: middle;\n",
       "    }\n",
       "\n",
       "    .dataframe tbody tr th {\n",
       "        vertical-align: top;\n",
       "    }\n",
       "\n",
       "    .dataframe thead th {\n",
       "        text-align: right;\n",
       "    }\n",
       "</style>\n",
       "<table border=\"1\" class=\"dataframe\">\n",
       "  <thead>\n",
       "    <tr style=\"text-align: right;\">\n",
       "      <th></th>\n",
       "      <th>demonym</th>\n",
       "      <th>pct_country_NGA</th>\n",
       "      <th>Country</th>\n",
       "      <th>Continent</th>\n",
       "      <th>Country Name</th>\n",
       "      <th>Continent Name</th>\n",
       "    </tr>\n",
       "  </thead>\n",
       "  <tbody>\n",
       "    <tr>\n",
       "      <th>0</th>\n",
       "      <td>Albanian</td>\n",
       "      <td>0.000030</td>\n",
       "      <td>AL</td>\n",
       "      <td>EU</td>\n",
       "      <td>Albania</td>\n",
       "      <td>Europe</td>\n",
       "    </tr>\n",
       "    <tr>\n",
       "      <th>1</th>\n",
       "      <td>Armenian</td>\n",
       "      <td>0.000010</td>\n",
       "      <td>AM</td>\n",
       "      <td>AS</td>\n",
       "      <td>Armenia</td>\n",
       "      <td>Asia</td>\n",
       "    </tr>\n",
       "    <tr>\n",
       "      <th>2</th>\n",
       "      <td>Australian</td>\n",
       "      <td>0.000292</td>\n",
       "      <td>AU</td>\n",
       "      <td>OC</td>\n",
       "      <td>Australia</td>\n",
       "      <td>Oceania</td>\n",
       "    </tr>\n",
       "    <tr>\n",
       "      <th>3</th>\n",
       "      <td>Austrian</td>\n",
       "      <td>0.003508</td>\n",
       "      <td>AT</td>\n",
       "      <td>EU</td>\n",
       "      <td>Austria</td>\n",
       "      <td>Europe</td>\n",
       "    </tr>\n",
       "    <tr>\n",
       "      <th>4</th>\n",
       "      <td>Belgian</td>\n",
       "      <td>0.001257</td>\n",
       "      <td>BE</td>\n",
       "      <td>EU</td>\n",
       "      <td>Belgium</td>\n",
       "      <td>Europe</td>\n",
       "    </tr>\n",
       "    <tr>\n",
       "      <th>5</th>\n",
       "      <td>Bulgarian</td>\n",
       "      <td>0.000070</td>\n",
       "      <td>BG</td>\n",
       "      <td>EU</td>\n",
       "      <td>Bulgaria</td>\n",
       "      <td>Europe</td>\n",
       "    </tr>\n",
       "    <tr>\n",
       "      <th>6</th>\n",
       "      <td>Canadian</td>\n",
       "      <td>0.001146</td>\n",
       "      <td>CA</td>\n",
       "      <td>NA</td>\n",
       "      <td>Canada</td>\n",
       "      <td>North America</td>\n",
       "    </tr>\n",
       "    <tr>\n",
       "      <th>7</th>\n",
       "      <td>Chinese</td>\n",
       "      <td>0.003669</td>\n",
       "      <td>CN</td>\n",
       "      <td>AS</td>\n",
       "      <td>China</td>\n",
       "      <td>Asia</td>\n",
       "    </tr>\n",
       "    <tr>\n",
       "      <th>8</th>\n",
       "      <td>Croatian</td>\n",
       "      <td>0.000251</td>\n",
       "      <td>HR</td>\n",
       "      <td>EU</td>\n",
       "      <td>Croatia</td>\n",
       "      <td>Europe</td>\n",
       "    </tr>\n",
       "    <tr>\n",
       "      <th>9</th>\n",
       "      <td>Danish</td>\n",
       "      <td>0.000774</td>\n",
       "      <td>DK</td>\n",
       "      <td>EU</td>\n",
       "      <td>Denmark</td>\n",
       "      <td>Europe</td>\n",
       "    </tr>\n",
       "    <tr>\n",
       "      <th>10</th>\n",
       "      <td>Finnish</td>\n",
       "      <td>0.000080</td>\n",
       "      <td>FI</td>\n",
       "      <td>EU</td>\n",
       "      <td>Finland</td>\n",
       "      <td>Europe</td>\n",
       "    </tr>\n",
       "    <tr>\n",
       "      <th>11</th>\n",
       "      <td>French</td>\n",
       "      <td>0.153443</td>\n",
       "      <td>FR</td>\n",
       "      <td>EU</td>\n",
       "      <td>France</td>\n",
       "      <td>Europe</td>\n",
       "    </tr>\n",
       "    <tr>\n",
       "      <th>12</th>\n",
       "      <td>German</td>\n",
       "      <td>0.072701</td>\n",
       "      <td>DE</td>\n",
       "      <td>EU</td>\n",
       "      <td>Germany</td>\n",
       "      <td>Europe</td>\n",
       "    </tr>\n",
       "    <tr>\n",
       "      <th>13</th>\n",
       "      <td>Greek</td>\n",
       "      <td>0.000080</td>\n",
       "      <td>GR</td>\n",
       "      <td>EU</td>\n",
       "      <td>Greece</td>\n",
       "      <td>Europe</td>\n",
       "    </tr>\n",
       "    <tr>\n",
       "      <th>14</th>\n",
       "      <td>Hungarian</td>\n",
       "      <td>0.000402</td>\n",
       "      <td>HU</td>\n",
       "      <td>EU</td>\n",
       "      <td>Hungary</td>\n",
       "      <td>Europe</td>\n",
       "    </tr>\n",
       "  </tbody>\n",
       "</table>\n",
       "</div>"
      ],
      "text/plain": [
       "       demonym  pct_country_NGA Country Continent Country Name Continent Name\n",
       "0     Albanian         0.000030      AL        EU      Albania         Europe\n",
       "1     Armenian         0.000010      AM        AS      Armenia           Asia\n",
       "2   Australian         0.000292      AU        OC    Australia        Oceania\n",
       "3     Austrian         0.003508      AT        EU      Austria         Europe\n",
       "4      Belgian         0.001257      BE        EU      Belgium         Europe\n",
       "5    Bulgarian         0.000070      BG        EU     Bulgaria         Europe\n",
       "6     Canadian         0.001146      CA        NA       Canada  North America\n",
       "7      Chinese         0.003669      CN        AS        China           Asia\n",
       "8     Croatian         0.000251      HR        EU      Croatia         Europe\n",
       "9       Danish         0.000774      DK        EU      Denmark         Europe\n",
       "10     Finnish         0.000080      FI        EU      Finland         Europe\n",
       "11      French         0.153443      FR        EU       France         Europe\n",
       "12      German         0.072701      DE        EU      Germany         Europe\n",
       "13       Greek         0.000080      GR        EU       Greece         Europe\n",
       "14   Hungarian         0.000402      HU        EU      Hungary         Europe"
      ]
     },
     "execution_count": 133,
     "metadata": {},
     "output_type": "execute_result"
    }
   ],
   "source": [
    "nonla_geographicStatistics.head(15)"
   ]
  },
  {
   "cell_type": "markdown",
   "metadata": {
    "pycharm": {
     "name": "#%% md\n"
    }
   },
   "source": [
    "### Proportion of Countries per Continent\n",
    "Real vs Non-LA Dataset Distributions"
   ]
  },
  {
   "cell_type": "code",
   "execution_count": 134,
   "metadata": {
    "tags": []
   },
   "outputs": [],
   "source": [
    "remove_from_index = ['non-transformable']\n",
    "total_by_continent.index = pd.Series(list(total_by_continent.index)).apply(lambda x: pc.convert_continent_code_to_continent_name(x) if x not in remove_from_index else x)"
   ]
  },
  {
   "cell_type": "code",
   "execution_count": 135,
   "metadata": {
    "tags": []
   },
   "outputs": [],
   "source": [
    "actual_proportion_of_countries = total_by_continent/ total_by_continent.sum()"
   ]
  },
  {
   "cell_type": "code",
   "execution_count": 136,
   "metadata": {
    "tags": []
   },
   "outputs": [],
   "source": [
    "total_by_continent = pd.DataFrame({'Countries':total_by_continent,'proportion_of_countries':actual_proportion_of_countries})"
   ]
  },
  {
   "cell_type": "code",
   "execution_count": 137,
   "metadata": {
    "collapsed": false,
    "jupyter": {
     "outputs_hidden": false
    },
    "pycharm": {
     "name": "#%%\n"
    },
    "tags": []
   },
   "outputs": [],
   "source": [
    "total_by_continent.name = 'Actual Distribution'"
   ]
  },
  {
   "cell_type": "code",
   "execution_count": 138,
   "metadata": {
    "tags": []
   },
   "outputs": [],
   "source": [
    "nonla_geographicStatistics['Continent'] = nonla_geographicStatistics['Continent'].replace('NA', 'NoA')"
   ]
  },
  {
   "cell_type": "code",
   "execution_count": 139,
   "metadata": {
    "collapsed": false,
    "jupyter": {
     "outputs_hidden": false
    },
    "pycharm": {
     "name": "#%%\n"
    },
    "tags": []
   },
   "outputs": [],
   "source": [
    "nonla_continentCounts = nonla_geographicStatistics.groupby('Continent Name').apply(lambda x: len(x))"
   ]
  },
  {
   "cell_type": "markdown",
   "metadata": {},
   "source": [
    " After using the demonym dataset to link the geographic naming Data\n",
    " with the pct_country_NGA data, some datapoints were lots. (sum of pct is now ~96%) and the number of countries was reduced to ~ 52 (one duplicate)"
   ]
  },
  {
   "cell_type": "code",
   "execution_count": 140,
   "metadata": {
    "collapsed": false,
    "jupyter": {
     "outputs_hidden": false
    },
    "pycharm": {
     "name": "#%%\n"
    },
    "tags": []
   },
   "outputs": [],
   "source": [
    "nonla_continentCounts.name = 'Countrys_in_Continents'"
   ]
  },
  {
   "cell_type": "code",
   "execution_count": 141,
   "metadata": {
    "tags": []
   },
   "outputs": [
    {
     "data": {
      "text/plain": [
       "Continent Name\n",
       "Africa            4\n",
       "Asia              5\n",
       "Europe           25\n",
       "North America     2\n",
       "Oceania           2\n",
       "Name: Countrys_in_Continents, dtype: int64"
      ]
     },
     "execution_count": 141,
     "metadata": {},
     "output_type": "execute_result"
    }
   ],
   "source": [
    "nonla_continentCounts"
   ]
  },
  {
   "cell_type": "markdown",
   "metadata": {},
   "source": [
    "#### Adding pct_continent_in_NGA to nonla_ContinentCounts using the pct_in_NGA column and Continent Name from nonla_geographicStatistics"
   ]
  },
  {
   "cell_type": "code",
   "execution_count": 142,
   "metadata": {
    "tags": []
   },
   "outputs": [],
   "source": [
    "pct_continent_NGA = nonla_geographicStatistics.groupby('Continent Name')['pct_country_NGA'].sum()"
   ]
  },
  {
   "cell_type": "code",
   "execution_count": 143,
   "metadata": {
    "tags": []
   },
   "outputs": [
    {
     "data": {
      "text/plain": [
       "Continent Name\n",
       "Africa           0.000362\n",
       "Asia             0.006816\n",
       "Europe           0.383065\n",
       "North America    0.550286\n",
       "Oceania          0.000312\n",
       "Name: pct_country_NGA, dtype: float64"
      ]
     },
     "execution_count": 143,
     "metadata": {},
     "output_type": "execute_result"
    }
   ],
   "source": [
    "pct_continent_NGA"
   ]
  },
  {
   "cell_type": "code",
   "execution_count": 144,
   "metadata": {
    "tags": []
   },
   "outputs": [
    {
     "data": {
      "text/plain": [
       "Continent Name\n",
       "Africa            4\n",
       "Asia              5\n",
       "Europe           25\n",
       "North America     2\n",
       "Oceania           2\n",
       "Name: Countrys_in_Continents, dtype: int64"
      ]
     },
     "execution_count": 144,
     "metadata": {},
     "output_type": "execute_result"
    }
   ],
   "source": [
    "nonla_continentCounts"
   ]
  },
  {
   "cell_type": "markdown",
   "metadata": {},
   "source": [
    "The goal is to make nonla_continentCounts a dataframe similar to total_by_continent and use this to measure distribution by geography"
   ]
  },
  {
   "cell_type": "code",
   "execution_count": 145,
   "metadata": {
    "tags": []
   },
   "outputs": [
    {
     "data": {
      "text/html": [
       "<div>\n",
       "<style scoped>\n",
       "    .dataframe tbody tr th:only-of-type {\n",
       "        vertical-align: middle;\n",
       "    }\n",
       "\n",
       "    .dataframe tbody tr th {\n",
       "        vertical-align: top;\n",
       "    }\n",
       "\n",
       "    .dataframe thead th {\n",
       "        text-align: right;\n",
       "    }\n",
       "</style>\n",
       "<table border=\"1\" class=\"dataframe\">\n",
       "  <thead>\n",
       "    <tr style=\"text-align: right;\">\n",
       "      <th></th>\n",
       "      <th>Countries</th>\n",
       "      <th>proportion_of_countries</th>\n",
       "    </tr>\n",
       "  </thead>\n",
       "  <tbody>\n",
       "    <tr>\n",
       "      <th>Africa</th>\n",
       "      <td>57</td>\n",
       "      <td>0.228916</td>\n",
       "    </tr>\n",
       "    <tr>\n",
       "      <th>Antarctica</th>\n",
       "      <td>2</td>\n",
       "      <td>0.008032</td>\n",
       "    </tr>\n",
       "    <tr>\n",
       "      <th>Asia</th>\n",
       "      <td>53</td>\n",
       "      <td>0.212851</td>\n",
       "    </tr>\n",
       "    <tr>\n",
       "      <th>Europe</th>\n",
       "      <td>50</td>\n",
       "      <td>0.200803</td>\n",
       "    </tr>\n",
       "    <tr>\n",
       "      <th>North America</th>\n",
       "      <td>40</td>\n",
       "      <td>0.160643</td>\n",
       "    </tr>\n",
       "    <tr>\n",
       "      <th>Oceania</th>\n",
       "      <td>24</td>\n",
       "      <td>0.096386</td>\n",
       "    </tr>\n",
       "    <tr>\n",
       "      <th>South America</th>\n",
       "      <td>15</td>\n",
       "      <td>0.060241</td>\n",
       "    </tr>\n",
       "    <tr>\n",
       "      <th>non-transformable</th>\n",
       "      <td>8</td>\n",
       "      <td>0.032129</td>\n",
       "    </tr>\n",
       "  </tbody>\n",
       "</table>\n",
       "</div>"
      ],
      "text/plain": [
       "                   Countries  proportion_of_countries\n",
       "Africa                    57                 0.228916\n",
       "Antarctica                 2                 0.008032\n",
       "Asia                      53                 0.212851\n",
       "Europe                    50                 0.200803\n",
       "North America             40                 0.160643\n",
       "Oceania                   24                 0.096386\n",
       "South America             15                 0.060241\n",
       "non-transformable          8                 0.032129"
      ]
     },
     "execution_count": 145,
     "metadata": {},
     "output_type": "execute_result"
    }
   ],
   "source": [
    "total_by_continent"
   ]
  },
  {
   "cell_type": "markdown",
   "metadata": {},
   "source": [
    "#### No artists in the NGA dataset were credited as having Antarctic/South American (after LatinAmerican data was removed) nationality & the non-transformable index was leftover from try-catching the PyCountry transformation of ISO codes, so they will be removed."
   ]
  },
  {
   "cell_type": "code",
   "execution_count": 146,
   "metadata": {
    "tags": []
   },
   "outputs": [],
   "source": [
    "total_by_continent.drop('Antarctica', inplace=True)\n",
    "total_by_continent.drop('non-transformable', inplace=True)\n",
    "total_by_continent.drop('South America', inplace=True)"
   ]
  },
  {
   "cell_type": "code",
   "execution_count": 147,
   "metadata": {
    "collapsed": false,
    "jupyter": {
     "outputs_hidden": false
    },
    "pycharm": {
     "name": "#%%\n"
    },
    "tags": []
   },
   "outputs": [],
   "source": [
    "nonla_continentCounts = pd.DataFrame({'countries_present':nonla_continentCounts, 'proportion_of_continent': (nonla_continentCounts / total_by_continent['Countries'])})"
   ]
  },
  {
   "cell_type": "markdown",
   "metadata": {},
   "source": [
    "#### This table shows world-wide share of countries and their proportion out of the total number of countries."
   ]
  },
  {
   "cell_type": "code",
   "execution_count": 148,
   "metadata": {
    "tags": []
   },
   "outputs": [
    {
     "data": {
      "text/html": [
       "<div>\n",
       "<style scoped>\n",
       "    .dataframe tbody tr th:only-of-type {\n",
       "        vertical-align: middle;\n",
       "    }\n",
       "\n",
       "    .dataframe tbody tr th {\n",
       "        vertical-align: top;\n",
       "    }\n",
       "\n",
       "    .dataframe thead th {\n",
       "        text-align: right;\n",
       "    }\n",
       "</style>\n",
       "<table border=\"1\" class=\"dataframe\">\n",
       "  <thead>\n",
       "    <tr style=\"text-align: right;\">\n",
       "      <th></th>\n",
       "      <th>Countries</th>\n",
       "      <th>proportion_of_countries</th>\n",
       "    </tr>\n",
       "  </thead>\n",
       "  <tbody>\n",
       "    <tr>\n",
       "      <th>Africa</th>\n",
       "      <td>57</td>\n",
       "      <td>0.228916</td>\n",
       "    </tr>\n",
       "    <tr>\n",
       "      <th>Asia</th>\n",
       "      <td>53</td>\n",
       "      <td>0.212851</td>\n",
       "    </tr>\n",
       "    <tr>\n",
       "      <th>Europe</th>\n",
       "      <td>50</td>\n",
       "      <td>0.200803</td>\n",
       "    </tr>\n",
       "    <tr>\n",
       "      <th>North America</th>\n",
       "      <td>40</td>\n",
       "      <td>0.160643</td>\n",
       "    </tr>\n",
       "    <tr>\n",
       "      <th>Oceania</th>\n",
       "      <td>24</td>\n",
       "      <td>0.096386</td>\n",
       "    </tr>\n",
       "  </tbody>\n",
       "</table>\n",
       "</div>"
      ],
      "text/plain": [
       "               Countries  proportion_of_countries\n",
       "Africa                57                 0.228916\n",
       "Asia                  53                 0.212851\n",
       "Europe                50                 0.200803\n",
       "North America         40                 0.160643\n",
       "Oceania               24                 0.096386"
      ]
     },
     "execution_count": 148,
     "metadata": {},
     "output_type": "execute_result"
    }
   ],
   "source": [
    "total_by_continent"
   ]
  },
  {
   "cell_type": "markdown",
   "metadata": {},
   "source": [
    "#### This table shows countries and continents present in the NGA dataset and the proportion of countries present from the continent."
   ]
  },
  {
   "cell_type": "code",
   "execution_count": 149,
   "metadata": {
    "tags": []
   },
   "outputs": [],
   "source": [
    "nonla_continentCounts['pct_continent_NGA'] = pct_continent_NGA"
   ]
  },
  {
   "cell_type": "code",
   "execution_count": 150,
   "metadata": {
    "tags": []
   },
   "outputs": [
    {
     "data": {
      "text/html": [
       "<div>\n",
       "<style scoped>\n",
       "    .dataframe tbody tr th:only-of-type {\n",
       "        vertical-align: middle;\n",
       "    }\n",
       "\n",
       "    .dataframe tbody tr th {\n",
       "        vertical-align: top;\n",
       "    }\n",
       "\n",
       "    .dataframe thead th {\n",
       "        text-align: right;\n",
       "    }\n",
       "</style>\n",
       "<table border=\"1\" class=\"dataframe\">\n",
       "  <thead>\n",
       "    <tr style=\"text-align: right;\">\n",
       "      <th></th>\n",
       "      <th>countries_present</th>\n",
       "      <th>proportion_of_continent</th>\n",
       "      <th>pct_continent_NGA</th>\n",
       "    </tr>\n",
       "    <tr>\n",
       "      <th>Continent Name</th>\n",
       "      <th></th>\n",
       "      <th></th>\n",
       "      <th></th>\n",
       "    </tr>\n",
       "  </thead>\n",
       "  <tbody>\n",
       "    <tr>\n",
       "      <th>Africa</th>\n",
       "      <td>4</td>\n",
       "      <td>0.070175</td>\n",
       "      <td>0.000362</td>\n",
       "    </tr>\n",
       "    <tr>\n",
       "      <th>Asia</th>\n",
       "      <td>5</td>\n",
       "      <td>0.094340</td>\n",
       "      <td>0.006816</td>\n",
       "    </tr>\n",
       "    <tr>\n",
       "      <th>Europe</th>\n",
       "      <td>25</td>\n",
       "      <td>0.500000</td>\n",
       "      <td>0.383065</td>\n",
       "    </tr>\n",
       "    <tr>\n",
       "      <th>North America</th>\n",
       "      <td>2</td>\n",
       "      <td>0.050000</td>\n",
       "      <td>0.550286</td>\n",
       "    </tr>\n",
       "    <tr>\n",
       "      <th>Oceania</th>\n",
       "      <td>2</td>\n",
       "      <td>0.083333</td>\n",
       "      <td>0.000312</td>\n",
       "    </tr>\n",
       "  </tbody>\n",
       "</table>\n",
       "</div>"
      ],
      "text/plain": [
       "                countries_present  proportion_of_continent  pct_continent_NGA\n",
       "Continent Name                                                               \n",
       "Africa                          4                 0.070175           0.000362\n",
       "Asia                            5                 0.094340           0.006816\n",
       "Europe                         25                 0.500000           0.383065\n",
       "North America                   2                 0.050000           0.550286\n",
       "Oceania                         2                 0.083333           0.000312"
      ]
     },
     "execution_count": 150,
     "metadata": {},
     "output_type": "execute_result"
    }
   ],
   "source": [
    "nonla_continentCounts"
   ]
  },
  {
   "cell_type": "markdown",
   "metadata": {},
   "source": [
    "#### To find out how many continents are not included in the NGA dataset, I will subtract the total for ALL countries included in the PyCountry library, and subtract the countries visible within the dataset per continent. The different will be called nonla_continentCounts_missing."
   ]
  },
  {
   "cell_type": "code",
   "execution_count": 151,
   "metadata": {
    "collapsed": false,
    "jupyter": {
     "outputs_hidden": false
    },
    "pycharm": {
     "name": "#%%\n"
    },
    "tags": []
   },
   "outputs": [],
   "source": [
    "nonla_continentCounts_missing = total_by_continent['Countries'] - nonla_continentCounts['countries_present']"
   ]
  },
  {
   "cell_type": "code",
   "execution_count": 152,
   "metadata": {
    "tags": []
   },
   "outputs": [],
   "source": [
    "nonla_continentCounts_missing.name = 'Missing_from_Actual_Distribution'"
   ]
  },
  {
   "cell_type": "code",
   "execution_count": 153,
   "metadata": {
    "tags": []
   },
   "outputs": [],
   "source": [
    "nonla_continentCounts_missing = pd.DataFrame({'countries_missing':nonla_continentCounts_missing, 'proportion_of_continent': (nonla_continentCounts_missing / total_by_continent['Countries'])})"
   ]
  },
  {
   "cell_type": "code",
   "execution_count": 154,
   "metadata": {
    "tags": []
   },
   "outputs": [],
   "source": [
    "nonla_continentCounts_missing = nonla_continentCounts_missing.reset_index(drop=False)"
   ]
  },
  {
   "cell_type": "code",
   "execution_count": 155,
   "metadata": {
    "tags": []
   },
   "outputs": [],
   "source": [
    "nonla_continentCounts_missing.columns = ['Continent Name', 'countries_missing', 'proportion_of_continent']"
   ]
  },
  {
   "cell_type": "markdown",
   "metadata": {},
   "source": [
    "#### The number of columns before adding information about the specific geographical details of the artists' nationalities as well as additional statistical information about the countries and continents representation within the dataset"
   ]
  },
  {
   "cell_type": "code",
   "execution_count": 156,
   "metadata": {
    "tags": []
   },
   "outputs": [],
   "source": [
    "nonla_geographicStatistics = pd.merge(nonla_geographicStatistics, nonla_continentCounts_missing.loc[:, ['Continent Name','countries_missing']], how='inner', on='Continent Name')"
   ]
  },
  {
   "cell_type": "code",
   "execution_count": 159,
   "metadata": {},
   "outputs": [
    {
     "data": {
      "text/html": [
       "<div>\n",
       "<style scoped>\n",
       "    .dataframe tbody tr th:only-of-type {\n",
       "        vertical-align: middle;\n",
       "    }\n",
       "\n",
       "    .dataframe tbody tr th {\n",
       "        vertical-align: top;\n",
       "    }\n",
       "\n",
       "    .dataframe thead th {\n",
       "        text-align: right;\n",
       "    }\n",
       "</style>\n",
       "<table border=\"1\" class=\"dataframe\">\n",
       "  <thead>\n",
       "    <tr style=\"text-align: right;\">\n",
       "      <th></th>\n",
       "      <th>countries_present</th>\n",
       "      <th>proportion_of_continent</th>\n",
       "      <th>pct_continent_NGA</th>\n",
       "    </tr>\n",
       "    <tr>\n",
       "      <th>Continent Name</th>\n",
       "      <th></th>\n",
       "      <th></th>\n",
       "      <th></th>\n",
       "    </tr>\n",
       "  </thead>\n",
       "  <tbody>\n",
       "    <tr>\n",
       "      <th>Africa</th>\n",
       "      <td>4</td>\n",
       "      <td>0.070175</td>\n",
       "      <td>0.000362</td>\n",
       "    </tr>\n",
       "    <tr>\n",
       "      <th>Asia</th>\n",
       "      <td>5</td>\n",
       "      <td>0.094340</td>\n",
       "      <td>0.006816</td>\n",
       "    </tr>\n",
       "    <tr>\n",
       "      <th>Europe</th>\n",
       "      <td>25</td>\n",
       "      <td>0.500000</td>\n",
       "      <td>0.383065</td>\n",
       "    </tr>\n",
       "    <tr>\n",
       "      <th>North America</th>\n",
       "      <td>2</td>\n",
       "      <td>0.050000</td>\n",
       "      <td>0.550286</td>\n",
       "    </tr>\n",
       "    <tr>\n",
       "      <th>Oceania</th>\n",
       "      <td>2</td>\n",
       "      <td>0.083333</td>\n",
       "      <td>0.000312</td>\n",
       "    </tr>\n",
       "  </tbody>\n",
       "</table>\n",
       "</div>"
      ],
      "text/plain": [
       "                countries_present  proportion_of_continent  pct_continent_NGA\n",
       "Continent Name                                                               \n",
       "Africa                          4                 0.070175           0.000362\n",
       "Asia                            5                 0.094340           0.006816\n",
       "Europe                         25                 0.500000           0.383065\n",
       "North America                   2                 0.050000           0.550286\n",
       "Oceania                         2                 0.083333           0.000312"
      ]
     },
     "execution_count": 159,
     "metadata": {},
     "output_type": "execute_result"
    }
   ],
   "source": [
    "nonla_continentCounts"
   ]
  },
  {
   "cell_type": "code",
   "execution_count": 161,
   "metadata": {
    "tags": []
   },
   "outputs": [],
   "source": [
    "nonla_continentCounts.reset_index(drop=False, inplace=True)"
   ]
  },
  {
   "cell_type": "code",
   "execution_count": 64,
   "metadata": {},
   "outputs": [],
   "source": [
    "nonla_geographicStatistics = pd.merge(nonla_continentCounts, nonla_geographicStatistics, on='Continent Name')"
   ]
  },
  {
   "cell_type": "code",
   "execution_count": 65,
   "metadata": {
    "tags": []
   },
   "outputs": [
    {
     "data": {
      "text/plain": [
       "(187183, 51)"
      ]
     },
     "execution_count": 65,
     "metadata": {},
     "output_type": "execute_result"
    }
   ],
   "source": [
    "non_latinamerican_art.shape"
   ]
  },
  {
   "cell_type": "code",
   "execution_count": 165,
   "metadata": {},
   "outputs": [
    {
     "data": {
      "text/plain": [
       "Index(['iiifurl', 'iiifthumburl', 'accessioned', 'title',\n",
       "       'displayDate_created', 'roletype', 'role', 'forwarddisplayname',\n",
       "       'birthyear', 'deathyear', 'ulanid', 'artistofngaobject', 'nationality',\n",
       "       'constituenttype', 'beginyear_artistAssigned', 'endyear_artistAssigned',\n",
       "       'country_artistAssigned', 'zipcode_artistAssigned', 'medium',\n",
       "       'dimensions', 'inscription', 'markings', 'attribution',\n",
       "       'visualBrowserClassification', 'parentID', 'isVirtual', 'portfolio',\n",
       "       'series', 'volume', 'watermarks', 'uuid', 'viewtype', 'sequence',\n",
       "       'width', 'height', 'maxpixels', 'assistivetext', 'depictstmsobjectid',\n",
       "       'objectid', 'constituentid'],\n",
       "      dtype='object')"
      ]
     },
     "execution_count": 165,
     "metadata": {},
     "output_type": "execute_result"
    }
   ],
   "source": [
    "non_latinamerican_art.columns"
   ]
  },
  {
   "cell_type": "code",
   "execution_count": 166,
   "metadata": {
    "tags": []
   },
   "outputs": [],
   "source": [
    "#inner join of nonla_geographicStatistics and non_latinamerican_art\n",
    "non_latinamerican_art = pd.merge(non_latinamerican_art, nonla_geographicStatistics, how='inner', left_on='nationality', right_on='demonym')"
   ]
  },
  {
   "cell_type": "code",
   "execution_count": 167,
   "metadata": {},
   "outputs": [
    {
     "data": {
      "text/plain": [
       "Index(['iiifurl', 'iiifthumburl', 'accessioned', 'title',\n",
       "       'displayDate_created', 'roletype', 'role', 'forwarddisplayname',\n",
       "       'birthyear', 'deathyear', 'ulanid', 'artistofngaobject', 'nationality',\n",
       "       'constituenttype', 'beginyear_artistAssigned', 'endyear_artistAssigned',\n",
       "       'country_artistAssigned', 'zipcode_artistAssigned', 'medium',\n",
       "       'dimensions', 'inscription', 'markings', 'attribution',\n",
       "       'visualBrowserClassification', 'parentID', 'isVirtual', 'portfolio',\n",
       "       'series', 'volume', 'watermarks', 'uuid', 'viewtype', 'sequence',\n",
       "       'width', 'height', 'maxpixels', 'assistivetext', 'depictstmsobjectid',\n",
       "       'objectid', 'constituentid', 'demonym', 'pct_country_NGA', 'Country',\n",
       "       'Continent', 'Country Name', 'Continent Name', 'countries_missing'],\n",
       "      dtype='object')"
      ]
     },
     "execution_count": 167,
     "metadata": {},
     "output_type": "execute_result"
    }
   ],
   "source": [
    "non_latinamerican_art.columns"
   ]
  },
  {
   "cell_type": "markdown",
   "metadata": {
    "tags": []
   },
   "source": [
    "#### Feature Engineering IIIFUrl Links to view the data at the desired resolution"
   ]
  },
  {
   "cell_type": "code",
   "execution_count": 68,
   "metadata": {
    "tags": []
   },
   "outputs": [],
   "source": [
    "#converts the iiifurl to return the full image size\n",
    "non_latinamerican_art['expanded_url'] = non_latinamerican_art.iiifthumburl.apply(lambda x: x.replace('!200,200', '!640,640'))"
   ]
  },
  {
   "cell_type": "code",
   "execution_count": 81,
   "metadata": {
    "tags": []
   },
   "outputs": [
    {
     "data": {
      "text/plain": [
       "(187183, 51)"
      ]
     },
     "execution_count": 81,
     "metadata": {},
     "output_type": "execute_result"
    }
   ],
   "source": [
    "non_latinamerican_art.shape"
   ]
  },
  {
   "cell_type": "code",
   "execution_count": 82,
   "metadata": {},
   "outputs": [
    {
     "data": {
      "text/html": [
       "<div>\n",
       "<style scoped>\n",
       "    .dataframe tbody tr th:only-of-type {\n",
       "        vertical-align: middle;\n",
       "    }\n",
       "\n",
       "    .dataframe tbody tr th {\n",
       "        vertical-align: top;\n",
       "    }\n",
       "\n",
       "    .dataframe thead th {\n",
       "        text-align: right;\n",
       "    }\n",
       "</style>\n",
       "<table border=\"1\" class=\"dataframe\">\n",
       "  <thead>\n",
       "    <tr style=\"text-align: right;\">\n",
       "      <th></th>\n",
       "      <th>iiifurl</th>\n",
       "      <th>iiifthumburl</th>\n",
       "      <th>accessioned</th>\n",
       "      <th>title</th>\n",
       "      <th>displayDate_created</th>\n",
       "      <th>roletype</th>\n",
       "      <th>role</th>\n",
       "      <th>forwarddisplayname</th>\n",
       "      <th>birthyear</th>\n",
       "      <th>deathyear</th>\n",
       "      <th>...</th>\n",
       "      <th>countries_present</th>\n",
       "      <th>proportion_of_continent</th>\n",
       "      <th>pct_continent_NGA</th>\n",
       "      <th>demonym</th>\n",
       "      <th>pct_country_NGA</th>\n",
       "      <th>Country</th>\n",
       "      <th>Continent</th>\n",
       "      <th>Country Name</th>\n",
       "      <th>countries_missing</th>\n",
       "      <th>expanded_url</th>\n",
       "    </tr>\n",
       "  </thead>\n",
       "  <tbody>\n",
       "    <tr>\n",
       "      <th>14566</th>\n",
       "      <td>https://api.nga.gov/iiif/78475106-6aab-4ce5-bd...</td>\n",
       "      <td>https://api.nga.gov/iiif/78475106-6aab-4ce5-bd...</td>\n",
       "      <td>1</td>\n",
       "      <td>Roche Taillet sur la Saosne proche Lyon</td>\n",
       "      <td>French, 1621 - 1691</td>\n",
       "      <td>artist</td>\n",
       "      <td>artist</td>\n",
       "      <td>Israël Silvestre</td>\n",
       "      <td>1621.0</td>\n",
       "      <td>1691.0</td>\n",
       "      <td>...</td>\n",
       "      <td>25</td>\n",
       "      <td>0.50</td>\n",
       "      <td>0.383065</td>\n",
       "      <td>French</td>\n",
       "      <td>0.153443</td>\n",
       "      <td>FR</td>\n",
       "      <td>EU</td>\n",
       "      <td>France</td>\n",
       "      <td>25</td>\n",
       "      <td>https://api.nga.gov/iiif/78475106-6aab-4ce5-bd...</td>\n",
       "    </tr>\n",
       "    <tr>\n",
       "      <th>40267</th>\n",
       "      <td>https://api.nga.gov/iiif/16fd17a5-946f-4d3e-8d...</td>\n",
       "      <td>https://api.nga.gov/iiif/16fd17a5-946f-4d3e-8d...</td>\n",
       "      <td>1</td>\n",
       "      <td>California Western Railroad</td>\n",
       "      <td>American, born 1954</td>\n",
       "      <td>artist</td>\n",
       "      <td>artist</td>\n",
       "      <td>Mark Ruwedel</td>\n",
       "      <td>1954.0</td>\n",
       "      <td>NaN</td>\n",
       "      <td>...</td>\n",
       "      <td>2</td>\n",
       "      <td>0.05</td>\n",
       "      <td>0.550286</td>\n",
       "      <td>American</td>\n",
       "      <td>0.549140</td>\n",
       "      <td>US</td>\n",
       "      <td>NoA</td>\n",
       "      <td>United States</td>\n",
       "      <td>38</td>\n",
       "      <td>https://api.nga.gov/iiif/16fd17a5-946f-4d3e-8d...</td>\n",
       "    </tr>\n",
       "    <tr>\n",
       "      <th>109501</th>\n",
       "      <td>https://api.nga.gov/iiif/b878c2b2-7af3-4700-bb...</td>\n",
       "      <td>https://api.nga.gov/iiif/b878c2b2-7af3-4700-bb...</td>\n",
       "      <td>1</td>\n",
       "      <td>Rear View of Reclining Female Nude, Leaning on...</td>\n",
       "      <td>American, born Russia (now Latvia), 1903 - 1970</td>\n",
       "      <td>artist</td>\n",
       "      <td>artist</td>\n",
       "      <td>Mark Rothko</td>\n",
       "      <td>1903.0</td>\n",
       "      <td>1970.0</td>\n",
       "      <td>...</td>\n",
       "      <td>2</td>\n",
       "      <td>0.05</td>\n",
       "      <td>0.550286</td>\n",
       "      <td>American</td>\n",
       "      <td>0.549140</td>\n",
       "      <td>US</td>\n",
       "      <td>NoA</td>\n",
       "      <td>United States</td>\n",
       "      <td>38</td>\n",
       "      <td>https://api.nga.gov/iiif/b878c2b2-7af3-4700-bb...</td>\n",
       "    </tr>\n",
       "    <tr>\n",
       "      <th>1629</th>\n",
       "      <td>https://api.nga.gov/iiif/0d7a4f6f-5499-4f4c-9f...</td>\n",
       "      <td>https://api.nga.gov/iiif/0d7a4f6f-5499-4f4c-9f...</td>\n",
       "      <td>1</td>\n",
       "      <td>La Blanchisseuse</td>\n",
       "      <td>French, 1688 - 1754</td>\n",
       "      <td>artist</td>\n",
       "      <td>artist</td>\n",
       "      <td>Charles-Nicolas Cochin I</td>\n",
       "      <td>1688.0</td>\n",
       "      <td>1754.0</td>\n",
       "      <td>...</td>\n",
       "      <td>25</td>\n",
       "      <td>0.50</td>\n",
       "      <td>0.383065</td>\n",
       "      <td>French</td>\n",
       "      <td>0.153443</td>\n",
       "      <td>FR</td>\n",
       "      <td>EU</td>\n",
       "      <td>France</td>\n",
       "      <td>25</td>\n",
       "      <td>https://api.nga.gov/iiif/0d7a4f6f-5499-4f4c-9f...</td>\n",
       "    </tr>\n",
       "    <tr>\n",
       "      <th>97199</th>\n",
       "      <td>https://api.nga.gov/iiif/9baebc22-ffed-4aff-a6...</td>\n",
       "      <td>https://api.nga.gov/iiif/9baebc22-ffed-4aff-a6...</td>\n",
       "      <td>1</td>\n",
       "      <td>Garden Ornament (Greyhound)</td>\n",
       "      <td>American, active c. 1935</td>\n",
       "      <td>artist</td>\n",
       "      <td>artist</td>\n",
       "      <td>George Constantine</td>\n",
       "      <td>1855.0</td>\n",
       "      <td>1995.0</td>\n",
       "      <td>...</td>\n",
       "      <td>2</td>\n",
       "      <td>0.05</td>\n",
       "      <td>0.550286</td>\n",
       "      <td>American</td>\n",
       "      <td>0.549140</td>\n",
       "      <td>US</td>\n",
       "      <td>NoA</td>\n",
       "      <td>United States</td>\n",
       "      <td>38</td>\n",
       "      <td>https://api.nga.gov/iiif/9baebc22-ffed-4aff-a6...</td>\n",
       "    </tr>\n",
       "  </tbody>\n",
       "</table>\n",
       "<p>5 rows × 51 columns</p>\n",
       "</div>"
      ],
      "text/plain": [
       "                                                  iiifurl  \\\n",
       "14566   https://api.nga.gov/iiif/78475106-6aab-4ce5-bd...   \n",
       "40267   https://api.nga.gov/iiif/16fd17a5-946f-4d3e-8d...   \n",
       "109501  https://api.nga.gov/iiif/b878c2b2-7af3-4700-bb...   \n",
       "1629    https://api.nga.gov/iiif/0d7a4f6f-5499-4f4c-9f...   \n",
       "97199   https://api.nga.gov/iiif/9baebc22-ffed-4aff-a6...   \n",
       "\n",
       "                                             iiifthumburl  accessioned  \\\n",
       "14566   https://api.nga.gov/iiif/78475106-6aab-4ce5-bd...            1   \n",
       "40267   https://api.nga.gov/iiif/16fd17a5-946f-4d3e-8d...            1   \n",
       "109501  https://api.nga.gov/iiif/b878c2b2-7af3-4700-bb...            1   \n",
       "1629    https://api.nga.gov/iiif/0d7a4f6f-5499-4f4c-9f...            1   \n",
       "97199   https://api.nga.gov/iiif/9baebc22-ffed-4aff-a6...            1   \n",
       "\n",
       "                                                    title  \\\n",
       "14566             Roche Taillet sur la Saosne proche Lyon   \n",
       "40267                         California Western Railroad   \n",
       "109501  Rear View of Reclining Female Nude, Leaning on...   \n",
       "1629                                     La Blanchisseuse   \n",
       "97199                         Garden Ornament (Greyhound)   \n",
       "\n",
       "                                    displayDate_created roletype    role  \\\n",
       "14566                               French, 1621 - 1691   artist  artist   \n",
       "40267                               American, born 1954   artist  artist   \n",
       "109501  American, born Russia (now Latvia), 1903 - 1970   artist  artist   \n",
       "1629                                French, 1688 - 1754   artist  artist   \n",
       "97199                          American, active c. 1935   artist  artist   \n",
       "\n",
       "              forwarddisplayname  birthyear  deathyear  ...  \\\n",
       "14566           Israël Silvestre     1621.0     1691.0  ...   \n",
       "40267               Mark Ruwedel     1954.0        NaN  ...   \n",
       "109501               Mark Rothko     1903.0     1970.0  ...   \n",
       "1629    Charles-Nicolas Cochin I     1688.0     1754.0  ...   \n",
       "97199         George Constantine     1855.0     1995.0  ...   \n",
       "\n",
       "        countries_present  proportion_of_continent pct_continent_NGA  \\\n",
       "14566                  25                     0.50          0.383065   \n",
       "40267                   2                     0.05          0.550286   \n",
       "109501                  2                     0.05          0.550286   \n",
       "1629                   25                     0.50          0.383065   \n",
       "97199                   2                     0.05          0.550286   \n",
       "\n",
       "         demonym  pct_country_NGA  Country Continent   Country Name  \\\n",
       "14566     French         0.153443       FR        EU         France   \n",
       "40267   American         0.549140       US       NoA  United States   \n",
       "109501  American         0.549140       US       NoA  United States   \n",
       "1629      French         0.153443       FR        EU         France   \n",
       "97199   American         0.549140       US       NoA  United States   \n",
       "\n",
       "       countries_missing                                       expanded_url  \n",
       "14566                 25  https://api.nga.gov/iiif/78475106-6aab-4ce5-bd...  \n",
       "40267                 38  https://api.nga.gov/iiif/16fd17a5-946f-4d3e-8d...  \n",
       "109501                38  https://api.nga.gov/iiif/b878c2b2-7af3-4700-bb...  \n",
       "1629                  25  https://api.nga.gov/iiif/0d7a4f6f-5499-4f4c-9f...  \n",
       "97199                 38  https://api.nga.gov/iiif/9baebc22-ffed-4aff-a6...  \n",
       "\n",
       "[5 rows x 51 columns]"
      ]
     },
     "execution_count": 82,
     "metadata": {},
     "output_type": "execute_result"
    }
   ],
   "source": [
    "non_latinamerican_art.sample(5)"
   ]
  },
  {
   "cell_type": "markdown",
   "metadata": {},
   "source": [
    "After merging the main non_latinamerican_art dataset with the external geographical information that I created, I will write the updated dataset back to the original filepath and overwrite it as it contains valuable information"
   ]
  },
  {
   "cell_type": "code",
   "execution_count": 83,
   "metadata": {
    "tags": []
   },
   "outputs": [
    {
     "data": {
      "text/html": [
       "<div>\n",
       "<style scoped>\n",
       "    .dataframe tbody tr th:only-of-type {\n",
       "        vertical-align: middle;\n",
       "    }\n",
       "\n",
       "    .dataframe tbody tr th {\n",
       "        vertical-align: top;\n",
       "    }\n",
       "\n",
       "    .dataframe thead th {\n",
       "        text-align: right;\n",
       "    }\n",
       "</style>\n",
       "<table border=\"1\" class=\"dataframe\">\n",
       "  <thead>\n",
       "    <tr style=\"text-align: right;\">\n",
       "      <th></th>\n",
       "      <th>iiifurl</th>\n",
       "      <th>iiifthumburl</th>\n",
       "      <th>accessioned</th>\n",
       "      <th>title</th>\n",
       "      <th>displayDate_created</th>\n",
       "      <th>roletype</th>\n",
       "      <th>role</th>\n",
       "      <th>forwarddisplayname</th>\n",
       "      <th>birthyear</th>\n",
       "      <th>deathyear</th>\n",
       "      <th>...</th>\n",
       "      <th>countries_present</th>\n",
       "      <th>proportion_of_continent</th>\n",
       "      <th>pct_continent_NGA</th>\n",
       "      <th>demonym</th>\n",
       "      <th>pct_country_NGA</th>\n",
       "      <th>Country</th>\n",
       "      <th>Continent</th>\n",
       "      <th>Country Name</th>\n",
       "      <th>countries_missing</th>\n",
       "      <th>expanded_url</th>\n",
       "    </tr>\n",
       "  </thead>\n",
       "  <tbody>\n",
       "    <tr>\n",
       "      <th>0</th>\n",
       "      <td>https://api.nga.gov/iiif/00004dec-8300-4487-8d...</td>\n",
       "      <td>https://api.nga.gov/iiif/00004dec-8300-4487-8d...</td>\n",
       "      <td>1</td>\n",
       "      <td>First Book: Daphnis Playing His Pipe for Chloe...</td>\n",
       "      <td>French, 1861 - 1944</td>\n",
       "      <td>artist</td>\n",
       "      <td>artist</td>\n",
       "      <td>Aristide Maillol</td>\n",
       "      <td>1861.0</td>\n",
       "      <td>1944.0</td>\n",
       "      <td>...</td>\n",
       "      <td>25</td>\n",
       "      <td>0.5</td>\n",
       "      <td>0.383065</td>\n",
       "      <td>French</td>\n",
       "      <td>0.153443</td>\n",
       "      <td>FR</td>\n",
       "      <td>EU</td>\n",
       "      <td>France</td>\n",
       "      <td>25</td>\n",
       "      <td>https://api.nga.gov/iiif/00004dec-8300-4487-8d...</td>\n",
       "    </tr>\n",
       "    <tr>\n",
       "      <th>1</th>\n",
       "      <td>https://api.nga.gov/iiif/00004dec-8300-4487-8d...</td>\n",
       "      <td>https://api.nga.gov/iiif/00004dec-8300-4487-8d...</td>\n",
       "      <td>1</td>\n",
       "      <td>First Book: Daphnis Playing His Pipe for Chloe...</td>\n",
       "      <td>French, 1861 - 1944</td>\n",
       "      <td>artist</td>\n",
       "      <td>artist</td>\n",
       "      <td>Aristide Maillol</td>\n",
       "      <td>1861.0</td>\n",
       "      <td>1944.0</td>\n",
       "      <td>...</td>\n",
       "      <td>25</td>\n",
       "      <td>0.5</td>\n",
       "      <td>0.383065</td>\n",
       "      <td>French</td>\n",
       "      <td>0.153443</td>\n",
       "      <td>FR</td>\n",
       "      <td>EU</td>\n",
       "      <td>France</td>\n",
       "      <td>25</td>\n",
       "      <td>https://api.nga.gov/iiif/00004dec-8300-4487-8d...</td>\n",
       "    </tr>\n",
       "    <tr>\n",
       "      <th>2</th>\n",
       "      <td>https://api.nga.gov/iiif/00018ee2-2b87-444d-af...</td>\n",
       "      <td>https://api.nga.gov/iiif/00018ee2-2b87-444d-af...</td>\n",
       "      <td>1</td>\n",
       "      <td>Rose and Romaine</td>\n",
       "      <td>French, 1890 - 1968</td>\n",
       "      <td>artist</td>\n",
       "      <td>artist</td>\n",
       "      <td>Valentine Hugo</td>\n",
       "      <td>1890.0</td>\n",
       "      <td>1968.0</td>\n",
       "      <td>...</td>\n",
       "      <td>25</td>\n",
       "      <td>0.5</td>\n",
       "      <td>0.383065</td>\n",
       "      <td>French</td>\n",
       "      <td>0.153443</td>\n",
       "      <td>FR</td>\n",
       "      <td>EU</td>\n",
       "      <td>France</td>\n",
       "      <td>25</td>\n",
       "      <td>https://api.nga.gov/iiif/00018ee2-2b87-444d-af...</td>\n",
       "    </tr>\n",
       "    <tr>\n",
       "      <th>3</th>\n",
       "      <td>https://api.nga.gov/iiif/00018ee2-2b87-444d-af...</td>\n",
       "      <td>https://api.nga.gov/iiif/00018ee2-2b87-444d-af...</td>\n",
       "      <td>1</td>\n",
       "      <td>Rose and Romaine</td>\n",
       "      <td>French, 1890 - 1968</td>\n",
       "      <td>artist</td>\n",
       "      <td>artist</td>\n",
       "      <td>Valentine Hugo</td>\n",
       "      <td>1890.0</td>\n",
       "      <td>1968.0</td>\n",
       "      <td>...</td>\n",
       "      <td>25</td>\n",
       "      <td>0.5</td>\n",
       "      <td>0.383065</td>\n",
       "      <td>French</td>\n",
       "      <td>0.153443</td>\n",
       "      <td>FR</td>\n",
       "      <td>EU</td>\n",
       "      <td>France</td>\n",
       "      <td>25</td>\n",
       "      <td>https://api.nga.gov/iiif/00018ee2-2b87-444d-af...</td>\n",
       "    </tr>\n",
       "    <tr>\n",
       "      <th>4</th>\n",
       "      <td>https://api.nga.gov/iiif/0002991a-98fa-42bd-bb...</td>\n",
       "      <td>https://api.nga.gov/iiif/0002991a-98fa-42bd-bb...</td>\n",
       "      <td>1</td>\n",
       "      <td>Fourth Book: Daphnis Plays to His Goats (Daphn...</td>\n",
       "      <td>French, 1861 - 1944</td>\n",
       "      <td>artist</td>\n",
       "      <td>artist</td>\n",
       "      <td>Aristide Maillol</td>\n",
       "      <td>1861.0</td>\n",
       "      <td>1944.0</td>\n",
       "      <td>...</td>\n",
       "      <td>25</td>\n",
       "      <td>0.5</td>\n",
       "      <td>0.383065</td>\n",
       "      <td>French</td>\n",
       "      <td>0.153443</td>\n",
       "      <td>FR</td>\n",
       "      <td>EU</td>\n",
       "      <td>France</td>\n",
       "      <td>25</td>\n",
       "      <td>https://api.nga.gov/iiif/0002991a-98fa-42bd-bb...</td>\n",
       "    </tr>\n",
       "  </tbody>\n",
       "</table>\n",
       "<p>5 rows × 51 columns</p>\n",
       "</div>"
      ],
      "text/plain": [
       "                                             iiifurl  \\\n",
       "0  https://api.nga.gov/iiif/00004dec-8300-4487-8d...   \n",
       "1  https://api.nga.gov/iiif/00004dec-8300-4487-8d...   \n",
       "2  https://api.nga.gov/iiif/00018ee2-2b87-444d-af...   \n",
       "3  https://api.nga.gov/iiif/00018ee2-2b87-444d-af...   \n",
       "4  https://api.nga.gov/iiif/0002991a-98fa-42bd-bb...   \n",
       "\n",
       "                                        iiifthumburl  accessioned  \\\n",
       "0  https://api.nga.gov/iiif/00004dec-8300-4487-8d...            1   \n",
       "1  https://api.nga.gov/iiif/00004dec-8300-4487-8d...            1   \n",
       "2  https://api.nga.gov/iiif/00018ee2-2b87-444d-af...            1   \n",
       "3  https://api.nga.gov/iiif/00018ee2-2b87-444d-af...            1   \n",
       "4  https://api.nga.gov/iiif/0002991a-98fa-42bd-bb...            1   \n",
       "\n",
       "                                               title  displayDate_created  \\\n",
       "0  First Book: Daphnis Playing His Pipe for Chloe...  French, 1861 - 1944   \n",
       "1  First Book: Daphnis Playing His Pipe for Chloe...  French, 1861 - 1944   \n",
       "2                                   Rose and Romaine  French, 1890 - 1968   \n",
       "3                                   Rose and Romaine  French, 1890 - 1968   \n",
       "4  Fourth Book: Daphnis Plays to His Goats (Daphn...  French, 1861 - 1944   \n",
       "\n",
       "  roletype    role forwarddisplayname  birthyear  deathyear  ...  \\\n",
       "0   artist  artist   Aristide Maillol     1861.0     1944.0  ...   \n",
       "1   artist  artist   Aristide Maillol     1861.0     1944.0  ...   \n",
       "2   artist  artist     Valentine Hugo     1890.0     1968.0  ...   \n",
       "3   artist  artist     Valentine Hugo     1890.0     1968.0  ...   \n",
       "4   artist  artist   Aristide Maillol     1861.0     1944.0  ...   \n",
       "\n",
       "   countries_present  proportion_of_continent pct_continent_NGA demonym  \\\n",
       "0                 25                      0.5          0.383065  French   \n",
       "1                 25                      0.5          0.383065  French   \n",
       "2                 25                      0.5          0.383065  French   \n",
       "3                 25                      0.5          0.383065  French   \n",
       "4                 25                      0.5          0.383065  French   \n",
       "\n",
       "   pct_country_NGA  Country Continent  Country Name countries_missing  \\\n",
       "0         0.153443       FR        EU        France                25   \n",
       "1         0.153443       FR        EU        France                25   \n",
       "2         0.153443       FR        EU        France                25   \n",
       "3         0.153443       FR        EU        France                25   \n",
       "4         0.153443       FR        EU        France                25   \n",
       "\n",
       "                                        expanded_url  \n",
       "0  https://api.nga.gov/iiif/00004dec-8300-4487-8d...  \n",
       "1  https://api.nga.gov/iiif/00004dec-8300-4487-8d...  \n",
       "2  https://api.nga.gov/iiif/00018ee2-2b87-444d-af...  \n",
       "3  https://api.nga.gov/iiif/00018ee2-2b87-444d-af...  \n",
       "4  https://api.nga.gov/iiif/0002991a-98fa-42bd-bb...  \n",
       "\n",
       "[5 rows x 51 columns]"
      ]
     },
     "execution_count": 83,
     "metadata": {},
     "output_type": "execute_result"
    }
   ],
   "source": [
    "non_latinamerican_art.head()"
   ]
  },
  {
   "cell_type": "markdown",
   "metadata": {},
   "source": [
    "### Step 3 - Sampling from the large dataset for batch training"
   ]
  },
  {
   "cell_type": "code",
   "execution_count": 84,
   "metadata": {
    "collapsed": false,
    "jupyter": {
     "outputs_hidden": false
    },
    "pycharm": {
     "name": "#%%\n"
    },
    "tags": []
   },
   "outputs": [],
   "source": [
    "#Sampling from the full dataset (200073 rows), 500 rows for training  & 200 (for validation/testing == 700 total for one iteration of sample (1/100 of total dataset) // make sure not being selected with replacement to remove duplicates\n",
    "matching_distribution = np.random.choice(non_latinamerican_art.index, p= non_latinamerican_art.pct_continent_NGA / non_latinamerican_art.pct_continent_NGA.sum(), size=700, replace=False)"
   ]
  },
  {
   "cell_type": "code",
   "execution_count": 85,
   "metadata": {
    "collapsed": false,
    "jupyter": {
     "outputs_hidden": false
    },
    "pycharm": {
     "name": "#%%\n"
    },
    "tags": []
   },
   "outputs": [],
   "source": [
    "index_matching = list(matching_distribution)"
   ]
  },
  {
   "cell_type": "code",
   "execution_count": 86,
   "metadata": {
    "collapsed": false,
    "jupyter": {
     "outputs_hidden": false
    },
    "pycharm": {
     "name": "#%%\n"
    },
    "tags": []
   },
   "outputs": [],
   "source": [
    "subsample_nonla = non_latinamerican_art.iloc[index_matching, :]"
   ]
  },
  {
   "cell_type": "code",
   "execution_count": 87,
   "metadata": {
    "collapsed": false,
    "jupyter": {
     "outputs_hidden": false
    },
    "pycharm": {
     "name": "#%%\n"
    },
    "tags": []
   },
   "outputs": [],
   "source": [
    "subsample_geography = subsample_nonla.groupby('Country Name').apply(lambda x: len(x))"
   ]
  },
  {
   "cell_type": "code",
   "execution_count": 88,
   "metadata": {
    "collapsed": false,
    "jupyter": {
     "outputs_hidden": false
    },
    "pycharm": {
     "name": "#%%\n"
    },
    "tags": []
   },
   "outputs": [
    {
     "data": {
      "text/plain": [
       "Country Name\n",
       "Austria             25\n",
       "Belgium              7\n",
       "Bulgaria             1\n",
       "Canada               9\n",
       "Croatia              2\n",
       "Denmark              3\n",
       "Finland              1\n",
       "France            1049\n",
       "Germany            511\n",
       "Greece               1\n",
       "Hungary              3\n",
       "Ireland              4\n",
       "Israel               1\n",
       "Italy              451\n",
       "Netherlands        200\n",
       "Norway              10\n",
       "Poland               2\n",
       "Romania              1\n",
       "Spain               53\n",
       "Sweden               3\n",
       "Switzerland         49\n",
       "United Kingdom     360\n",
       "United States     5456\n",
       "dtype: int64"
      ]
     },
     "execution_count": 88,
     "metadata": {},
     "output_type": "execute_result"
    }
   ],
   "source": [
    "subsample_geography"
   ]
  },
  {
   "cell_type": "code",
   "execution_count": 89,
   "metadata": {
    "collapsed": false,
    "jupyter": {
     "outputs_hidden": false
    },
    "pycharm": {
     "name": "#%%\n"
    },
    "tags": []
   },
   "outputs": [],
   "source": [
    "subsample_geography = pd.DataFrame({'counts': subsample_geography,'proportion':subsample_geography / subsample_geography.sum()})"
   ]
  },
  {
   "cell_type": "markdown",
   "metadata": {
    "pycharm": {
     "name": "#%% md\n"
    }
   },
   "source": [
    "### Using the normalized probabilities in pct_continent_NGA to sample 10%, made the sample a little less representative to overall dataset. Since this is only a 10% sample, it is not fully representative, but I expect to train with more samples/batches."
   ]
  },
  {
   "cell_type": "code",
   "execution_count": 90,
   "metadata": {
    "collapsed": false,
    "jupyter": {
     "outputs_hidden": false
    },
    "pycharm": {
     "name": "#%%\n"
    },
    "tags": []
   },
   "outputs": [
    {
     "data": {
      "text/html": [
       "<div>\n",
       "<style scoped>\n",
       "    .dataframe tbody tr th:only-of-type {\n",
       "        vertical-align: middle;\n",
       "    }\n",
       "\n",
       "    .dataframe tbody tr th {\n",
       "        vertical-align: top;\n",
       "    }\n",
       "\n",
       "    .dataframe thead th {\n",
       "        text-align: right;\n",
       "    }\n",
       "</style>\n",
       "<table border=\"1\" class=\"dataframe\">\n",
       "  <thead>\n",
       "    <tr style=\"text-align: right;\">\n",
       "      <th></th>\n",
       "      <th>counts</th>\n",
       "      <th>proportion</th>\n",
       "    </tr>\n",
       "    <tr>\n",
       "      <th>Country Name</th>\n",
       "      <th></th>\n",
       "      <th></th>\n",
       "    </tr>\n",
       "  </thead>\n",
       "  <tbody>\n",
       "    <tr>\n",
       "      <th>United States</th>\n",
       "      <td>5456</td>\n",
       "      <td>0.665204</td>\n",
       "    </tr>\n",
       "    <tr>\n",
       "      <th>France</th>\n",
       "      <td>1049</td>\n",
       "      <td>0.127896</td>\n",
       "    </tr>\n",
       "    <tr>\n",
       "      <th>Germany</th>\n",
       "      <td>511</td>\n",
       "      <td>0.062302</td>\n",
       "    </tr>\n",
       "    <tr>\n",
       "      <th>Italy</th>\n",
       "      <td>451</td>\n",
       "      <td>0.054987</td>\n",
       "    </tr>\n",
       "    <tr>\n",
       "      <th>United Kingdom</th>\n",
       "      <td>360</td>\n",
       "      <td>0.043892</td>\n",
       "    </tr>\n",
       "    <tr>\n",
       "      <th>Netherlands</th>\n",
       "      <td>200</td>\n",
       "      <td>0.024384</td>\n",
       "    </tr>\n",
       "    <tr>\n",
       "      <th>Spain</th>\n",
       "      <td>53</td>\n",
       "      <td>0.006462</td>\n",
       "    </tr>\n",
       "    <tr>\n",
       "      <th>Switzerland</th>\n",
       "      <td>49</td>\n",
       "      <td>0.005974</td>\n",
       "    </tr>\n",
       "    <tr>\n",
       "      <th>Austria</th>\n",
       "      <td>25</td>\n",
       "      <td>0.003048</td>\n",
       "    </tr>\n",
       "    <tr>\n",
       "      <th>Norway</th>\n",
       "      <td>10</td>\n",
       "      <td>0.001219</td>\n",
       "    </tr>\n",
       "    <tr>\n",
       "      <th>Canada</th>\n",
       "      <td>9</td>\n",
       "      <td>0.001097</td>\n",
       "    </tr>\n",
       "    <tr>\n",
       "      <th>Belgium</th>\n",
       "      <td>7</td>\n",
       "      <td>0.000853</td>\n",
       "    </tr>\n",
       "    <tr>\n",
       "      <th>Ireland</th>\n",
       "      <td>4</td>\n",
       "      <td>0.000488</td>\n",
       "    </tr>\n",
       "    <tr>\n",
       "      <th>Hungary</th>\n",
       "      <td>3</td>\n",
       "      <td>0.000366</td>\n",
       "    </tr>\n",
       "    <tr>\n",
       "      <th>Denmark</th>\n",
       "      <td>3</td>\n",
       "      <td>0.000366</td>\n",
       "    </tr>\n",
       "    <tr>\n",
       "      <th>Sweden</th>\n",
       "      <td>3</td>\n",
       "      <td>0.000366</td>\n",
       "    </tr>\n",
       "    <tr>\n",
       "      <th>Poland</th>\n",
       "      <td>2</td>\n",
       "      <td>0.000244</td>\n",
       "    </tr>\n",
       "    <tr>\n",
       "      <th>Croatia</th>\n",
       "      <td>2</td>\n",
       "      <td>0.000244</td>\n",
       "    </tr>\n",
       "    <tr>\n",
       "      <th>Greece</th>\n",
       "      <td>1</td>\n",
       "      <td>0.000122</td>\n",
       "    </tr>\n",
       "    <tr>\n",
       "      <th>Israel</th>\n",
       "      <td>1</td>\n",
       "      <td>0.000122</td>\n",
       "    </tr>\n",
       "    <tr>\n",
       "      <th>Finland</th>\n",
       "      <td>1</td>\n",
       "      <td>0.000122</td>\n",
       "    </tr>\n",
       "    <tr>\n",
       "      <th>Romania</th>\n",
       "      <td>1</td>\n",
       "      <td>0.000122</td>\n",
       "    </tr>\n",
       "    <tr>\n",
       "      <th>Bulgaria</th>\n",
       "      <td>1</td>\n",
       "      <td>0.000122</td>\n",
       "    </tr>\n",
       "  </tbody>\n",
       "</table>\n",
       "</div>"
      ],
      "text/plain": [
       "                counts  proportion\n",
       "Country Name                      \n",
       "United States     5456    0.665204\n",
       "France            1049    0.127896\n",
       "Germany            511    0.062302\n",
       "Italy              451    0.054987\n",
       "United Kingdom     360    0.043892\n",
       "Netherlands        200    0.024384\n",
       "Spain               53    0.006462\n",
       "Switzerland         49    0.005974\n",
       "Austria             25    0.003048\n",
       "Norway              10    0.001219\n",
       "Canada               9    0.001097\n",
       "Belgium              7    0.000853\n",
       "Ireland              4    0.000488\n",
       "Hungary              3    0.000366\n",
       "Denmark              3    0.000366\n",
       "Sweden               3    0.000366\n",
       "Poland               2    0.000244\n",
       "Croatia              2    0.000244\n",
       "Greece               1    0.000122\n",
       "Israel               1    0.000122\n",
       "Finland              1    0.000122\n",
       "Romania              1    0.000122\n",
       "Bulgaria             1    0.000122"
      ]
     },
     "execution_count": 90,
     "metadata": {},
     "output_type": "execute_result"
    }
   ],
   "source": [
    "subsample_geography.sort_values(by='proportion', ascending=False)"
   ]
  },
  {
   "cell_type": "code",
   "execution_count": 91,
   "metadata": {
    "collapsed": false,
    "jupyter": {
     "outputs_hidden": false
    },
    "pycharm": {
     "name": "#%%\n"
    },
    "tags": []
   },
   "outputs": [
    {
     "data": {
      "text/html": [
       "<div>\n",
       "<style scoped>\n",
       "    .dataframe tbody tr th:only-of-type {\n",
       "        vertical-align: middle;\n",
       "    }\n",
       "\n",
       "    .dataframe tbody tr th {\n",
       "        vertical-align: top;\n",
       "    }\n",
       "\n",
       "    .dataframe thead th {\n",
       "        text-align: right;\n",
       "    }\n",
       "</style>\n",
       "<table border=\"1\" class=\"dataframe\">\n",
       "  <thead>\n",
       "    <tr style=\"text-align: right;\">\n",
       "      <th></th>\n",
       "      <th>Continent Name</th>\n",
       "      <th>countries_present</th>\n",
       "      <th>proportion_of_continent</th>\n",
       "      <th>pct_continent_NGA</th>\n",
       "      <th>demonym</th>\n",
       "      <th>pct_country_NGA</th>\n",
       "      <th>Country</th>\n",
       "      <th>Continent</th>\n",
       "      <th>Country Name</th>\n",
       "      <th>countries_missing</th>\n",
       "    </tr>\n",
       "  </thead>\n",
       "  <tbody>\n",
       "    <tr>\n",
       "      <th>35</th>\n",
       "      <td>North America</td>\n",
       "      <td>2</td>\n",
       "      <td>0.05000</td>\n",
       "      <td>0.584888</td>\n",
       "      <td>American</td>\n",
       "      <td>0.583669</td>\n",
       "      <td>US</td>\n",
       "      <td>NoA</td>\n",
       "      <td>United States</td>\n",
       "      <td>38</td>\n",
       "    </tr>\n",
       "    <tr>\n",
       "      <th>16</th>\n",
       "      <td>Europe</td>\n",
       "      <td>25</td>\n",
       "      <td>0.50000</td>\n",
       "      <td>0.407152</td>\n",
       "      <td>French</td>\n",
       "      <td>0.163092</td>\n",
       "      <td>FR</td>\n",
       "      <td>EU</td>\n",
       "      <td>France</td>\n",
       "      <td>25</td>\n",
       "    </tr>\n",
       "    <tr>\n",
       "      <th>17</th>\n",
       "      <td>Europe</td>\n",
       "      <td>25</td>\n",
       "      <td>0.50000</td>\n",
       "      <td>0.407152</td>\n",
       "      <td>German</td>\n",
       "      <td>0.077272</td>\n",
       "      <td>DE</td>\n",
       "      <td>EU</td>\n",
       "      <td>Germany</td>\n",
       "      <td>25</td>\n",
       "    </tr>\n",
       "    <tr>\n",
       "      <th>21</th>\n",
       "      <td>Europe</td>\n",
       "      <td>25</td>\n",
       "      <td>0.50000</td>\n",
       "      <td>0.407152</td>\n",
       "      <td>Italian</td>\n",
       "      <td>0.064782</td>\n",
       "      <td>IT</td>\n",
       "      <td>EU</td>\n",
       "      <td>Italy</td>\n",
       "      <td>25</td>\n",
       "    </tr>\n",
       "    <tr>\n",
       "      <th>33</th>\n",
       "      <td>Europe</td>\n",
       "      <td>25</td>\n",
       "      <td>0.50000</td>\n",
       "      <td>0.407152</td>\n",
       "      <td>British</td>\n",
       "      <td>0.049406</td>\n",
       "      <td>GB</td>\n",
       "      <td>EU</td>\n",
       "      <td>United Kingdom</td>\n",
       "      <td>25</td>\n",
       "    </tr>\n",
       "    <tr>\n",
       "      <th>24</th>\n",
       "      <td>Europe</td>\n",
       "      <td>25</td>\n",
       "      <td>0.50000</td>\n",
       "      <td>0.407152</td>\n",
       "      <td>Dutch</td>\n",
       "      <td>0.026990</td>\n",
       "      <td>NL</td>\n",
       "      <td>EU</td>\n",
       "      <td>Netherlands</td>\n",
       "      <td>25</td>\n",
       "    </tr>\n",
       "    <tr>\n",
       "      <th>30</th>\n",
       "      <td>Europe</td>\n",
       "      <td>25</td>\n",
       "      <td>0.50000</td>\n",
       "      <td>0.407152</td>\n",
       "      <td>Spanish</td>\n",
       "      <td>0.007511</td>\n",
       "      <td>ES</td>\n",
       "      <td>EU</td>\n",
       "      <td>Spain</td>\n",
       "      <td>25</td>\n",
       "    </tr>\n",
       "    <tr>\n",
       "      <th>32</th>\n",
       "      <td>Europe</td>\n",
       "      <td>25</td>\n",
       "      <td>0.50000</td>\n",
       "      <td>0.407152</td>\n",
       "      <td>Swiss</td>\n",
       "      <td>0.007169</td>\n",
       "      <td>CH</td>\n",
       "      <td>EU</td>\n",
       "      <td>Switzerland</td>\n",
       "      <td>25</td>\n",
       "    </tr>\n",
       "    <tr>\n",
       "      <th>5</th>\n",
       "      <td>Asia</td>\n",
       "      <td>5</td>\n",
       "      <td>0.09434</td>\n",
       "      <td>0.007244</td>\n",
       "      <td>Chinese</td>\n",
       "      <td>0.003900</td>\n",
       "      <td>CN</td>\n",
       "      <td>AS</td>\n",
       "      <td>China</td>\n",
       "      <td>48</td>\n",
       "    </tr>\n",
       "    <tr>\n",
       "      <th>10</th>\n",
       "      <td>Europe</td>\n",
       "      <td>25</td>\n",
       "      <td>0.50000</td>\n",
       "      <td>0.407152</td>\n",
       "      <td>Austrian</td>\n",
       "      <td>0.003729</td>\n",
       "      <td>AT</td>\n",
       "      <td>EU</td>\n",
       "      <td>Austria</td>\n",
       "      <td>25</td>\n",
       "    </tr>\n",
       "  </tbody>\n",
       "</table>\n",
       "</div>"
      ],
      "text/plain": [
       "   Continent Name  countries_present  proportion_of_continent  \\\n",
       "35  North America                  2                  0.05000   \n",
       "16         Europe                 25                  0.50000   \n",
       "17         Europe                 25                  0.50000   \n",
       "21         Europe                 25                  0.50000   \n",
       "33         Europe                 25                  0.50000   \n",
       "24         Europe                 25                  0.50000   \n",
       "30         Europe                 25                  0.50000   \n",
       "32         Europe                 25                  0.50000   \n",
       "5            Asia                  5                  0.09434   \n",
       "10         Europe                 25                  0.50000   \n",
       "\n",
       "    pct_continent_NGA   demonym  pct_country_NGA Country Continent  \\\n",
       "35           0.584888  American         0.583669      US       NoA   \n",
       "16           0.407152    French         0.163092      FR        EU   \n",
       "17           0.407152    German         0.077272      DE        EU   \n",
       "21           0.407152   Italian         0.064782      IT        EU   \n",
       "33           0.407152   British         0.049406      GB        EU   \n",
       "24           0.407152     Dutch         0.026990      NL        EU   \n",
       "30           0.407152   Spanish         0.007511      ES        EU   \n",
       "32           0.407152     Swiss         0.007169      CH        EU   \n",
       "5            0.007244   Chinese         0.003900      CN        AS   \n",
       "10           0.407152  Austrian         0.003729      AT        EU   \n",
       "\n",
       "      Country Name  countries_missing  \n",
       "35   United States                 38  \n",
       "16          France                 25  \n",
       "17         Germany                 25  \n",
       "21           Italy                 25  \n",
       "33  United Kingdom                 25  \n",
       "24     Netherlands                 25  \n",
       "30           Spain                 25  \n",
       "32     Switzerland                 25  \n",
       "5            China                 48  \n",
       "10         Austria                 25  "
      ]
     },
     "execution_count": 91,
     "metadata": {},
     "output_type": "execute_result"
    }
   ],
   "source": [
    "nonla_geographicStatistics.sort_values(by='pct_country_NGA', ascending=False).head(10)"
   ]
  },
  {
   "cell_type": "code",
   "execution_count": 92,
   "metadata": {},
   "outputs": [
    {
     "data": {
      "text/plain": [
       "(187183, 51)"
      ]
     },
     "execution_count": 92,
     "metadata": {},
     "output_type": "execute_result"
    }
   ],
   "source": [
    "non_latinamerican_art.shape"
   ]
  },
  {
   "cell_type": "markdown",
   "metadata": {},
   "source": [
    "### Step 3 - Outputting the final combined NGA/FE data"
   ]
  },
  {
   "cell_type": "code",
   "execution_count": 93,
   "metadata": {
    "tags": []
   },
   "outputs": [],
   "source": [
    "subsample_nonla.reset_index(drop=True, inplace=True)"
   ]
  },
  {
   "cell_type": "code",
   "execution_count": 94,
   "metadata": {},
   "outputs": [
    {
     "data": {
      "text/html": [
       "<div>\n",
       "<style scoped>\n",
       "    .dataframe tbody tr th:only-of-type {\n",
       "        vertical-align: middle;\n",
       "    }\n",
       "\n",
       "    .dataframe tbody tr th {\n",
       "        vertical-align: top;\n",
       "    }\n",
       "\n",
       "    .dataframe thead th {\n",
       "        text-align: right;\n",
       "    }\n",
       "</style>\n",
       "<table border=\"1\" class=\"dataframe\">\n",
       "  <thead>\n",
       "    <tr style=\"text-align: right;\">\n",
       "      <th></th>\n",
       "      <th>iiifurl</th>\n",
       "      <th>iiifthumburl</th>\n",
       "      <th>accessioned</th>\n",
       "      <th>title</th>\n",
       "      <th>displayDate_created</th>\n",
       "      <th>roletype</th>\n",
       "      <th>role</th>\n",
       "      <th>forwarddisplayname</th>\n",
       "      <th>birthyear</th>\n",
       "      <th>deathyear</th>\n",
       "      <th>...</th>\n",
       "      <th>countries_present</th>\n",
       "      <th>proportion_of_continent</th>\n",
       "      <th>pct_continent_NGA</th>\n",
       "      <th>demonym</th>\n",
       "      <th>pct_country_NGA</th>\n",
       "      <th>Country</th>\n",
       "      <th>Continent</th>\n",
       "      <th>Country Name</th>\n",
       "      <th>countries_missing</th>\n",
       "      <th>expanded_url</th>\n",
       "    </tr>\n",
       "  </thead>\n",
       "  <tbody>\n",
       "    <tr>\n",
       "      <th>0</th>\n",
       "      <td>https://api.nga.gov/iiif/b23ef555-1102-4abc-9b...</td>\n",
       "      <td>https://api.nga.gov/iiif/b23ef555-1102-4abc-9b...</td>\n",
       "      <td>1</td>\n",
       "      <td>Haystack #4</td>\n",
       "      <td>American, 1923 - 1997</td>\n",
       "      <td>artist</td>\n",
       "      <td>artist</td>\n",
       "      <td>Roy Lichtenstein</td>\n",
       "      <td>1923.0</td>\n",
       "      <td>1997.0</td>\n",
       "      <td>...</td>\n",
       "      <td>2</td>\n",
       "      <td>0.05</td>\n",
       "      <td>0.550286</td>\n",
       "      <td>American</td>\n",
       "      <td>0.549140</td>\n",
       "      <td>US</td>\n",
       "      <td>NoA</td>\n",
       "      <td>United States</td>\n",
       "      <td>38</td>\n",
       "      <td>https://api.nga.gov/iiif/b23ef555-1102-4abc-9b...</td>\n",
       "    </tr>\n",
       "    <tr>\n",
       "      <th>1</th>\n",
       "      <td>https://api.nga.gov/iiif/ef36c5b0-2fe3-4b10-91...</td>\n",
       "      <td>https://api.nga.gov/iiif/ef36c5b0-2fe3-4b10-91...</td>\n",
       "      <td>1</td>\n",
       "      <td>Horse Weather Vane</td>\n",
       "      <td>American, 1915 - 2001</td>\n",
       "      <td>artist</td>\n",
       "      <td>artist</td>\n",
       "      <td>Dolores Haupt</td>\n",
       "      <td>1915.0</td>\n",
       "      <td>2001.0</td>\n",
       "      <td>...</td>\n",
       "      <td>2</td>\n",
       "      <td>0.05</td>\n",
       "      <td>0.550286</td>\n",
       "      <td>American</td>\n",
       "      <td>0.549140</td>\n",
       "      <td>US</td>\n",
       "      <td>NoA</td>\n",
       "      <td>United States</td>\n",
       "      <td>38</td>\n",
       "      <td>https://api.nga.gov/iiif/ef36c5b0-2fe3-4b10-91...</td>\n",
       "    </tr>\n",
       "    <tr>\n",
       "      <th>2</th>\n",
       "      <td>https://api.nga.gov/iiif/641e71ef-5b9e-4373-a5...</td>\n",
       "      <td>https://api.nga.gov/iiif/641e71ef-5b9e-4373-a5...</td>\n",
       "      <td>1</td>\n",
       "      <td>American Tivoli</td>\n",
       "      <td>American, 1857 - 1926</td>\n",
       "      <td>artist</td>\n",
       "      <td>artist</td>\n",
       "      <td>Joseph Pennell</td>\n",
       "      <td>1857.0</td>\n",
       "      <td>1926.0</td>\n",
       "      <td>...</td>\n",
       "      <td>2</td>\n",
       "      <td>0.05</td>\n",
       "      <td>0.550286</td>\n",
       "      <td>American</td>\n",
       "      <td>0.549140</td>\n",
       "      <td>US</td>\n",
       "      <td>NoA</td>\n",
       "      <td>United States</td>\n",
       "      <td>38</td>\n",
       "      <td>https://api.nga.gov/iiif/641e71ef-5b9e-4373-a5...</td>\n",
       "    </tr>\n",
       "    <tr>\n",
       "      <th>3</th>\n",
       "      <td>https://api.nga.gov/iiif/b466775f-8037-402f-b6...</td>\n",
       "      <td>https://api.nga.gov/iiif/b466775f-8037-402f-b6...</td>\n",
       "      <td>1</td>\n",
       "      <td>Franklin's Kite</td>\n",
       "      <td>American, 1899 - 1964</td>\n",
       "      <td>artist</td>\n",
       "      <td>artist</td>\n",
       "      <td>Alfred Bendiner</td>\n",
       "      <td>1899.0</td>\n",
       "      <td>1964.0</td>\n",
       "      <td>...</td>\n",
       "      <td>2</td>\n",
       "      <td>0.05</td>\n",
       "      <td>0.550286</td>\n",
       "      <td>American</td>\n",
       "      <td>0.549140</td>\n",
       "      <td>US</td>\n",
       "      <td>NoA</td>\n",
       "      <td>United States</td>\n",
       "      <td>38</td>\n",
       "      <td>https://api.nga.gov/iiif/b466775f-8037-402f-b6...</td>\n",
       "    </tr>\n",
       "    <tr>\n",
       "      <th>4</th>\n",
       "      <td>https://api.nga.gov/iiif/123b5d53-7093-473d-8e...</td>\n",
       "      <td>https://api.nga.gov/iiif/123b5d53-7093-473d-8e...</td>\n",
       "      <td>1</td>\n",
       "      <td>Toaster</td>\n",
       "      <td>American, active c. 1935</td>\n",
       "      <td>artist</td>\n",
       "      <td>artist</td>\n",
       "      <td>Roy Weber</td>\n",
       "      <td>1855.0</td>\n",
       "      <td>1995.0</td>\n",
       "      <td>...</td>\n",
       "      <td>2</td>\n",
       "      <td>0.05</td>\n",
       "      <td>0.550286</td>\n",
       "      <td>American</td>\n",
       "      <td>0.549140</td>\n",
       "      <td>US</td>\n",
       "      <td>NoA</td>\n",
       "      <td>United States</td>\n",
       "      <td>38</td>\n",
       "      <td>https://api.nga.gov/iiif/123b5d53-7093-473d-8e...</td>\n",
       "    </tr>\n",
       "    <tr>\n",
       "      <th>...</th>\n",
       "      <td>...</td>\n",
       "      <td>...</td>\n",
       "      <td>...</td>\n",
       "      <td>...</td>\n",
       "      <td>...</td>\n",
       "      <td>...</td>\n",
       "      <td>...</td>\n",
       "      <td>...</td>\n",
       "      <td>...</td>\n",
       "      <td>...</td>\n",
       "      <td>...</td>\n",
       "      <td>...</td>\n",
       "      <td>...</td>\n",
       "      <td>...</td>\n",
       "      <td>...</td>\n",
       "      <td>...</td>\n",
       "      <td>...</td>\n",
       "      <td>...</td>\n",
       "      <td>...</td>\n",
       "      <td>...</td>\n",
       "      <td>...</td>\n",
       "    </tr>\n",
       "    <tr>\n",
       "      <th>8197</th>\n",
       "      <td>https://api.nga.gov/iiif/bd6f880a-0c5a-4c74-82...</td>\n",
       "      <td>https://api.nga.gov/iiif/bd6f880a-0c5a-4c74-82...</td>\n",
       "      <td>1</td>\n",
       "      <td>Grazing Cow</td>\n",
       "      <td>Dutch, 1625 - 1654</td>\n",
       "      <td>artist</td>\n",
       "      <td>artist</td>\n",
       "      <td>Paulus Potter</td>\n",
       "      <td>1625.0</td>\n",
       "      <td>1654.0</td>\n",
       "      <td>...</td>\n",
       "      <td>25</td>\n",
       "      <td>0.50</td>\n",
       "      <td>0.383065</td>\n",
       "      <td>Dutch</td>\n",
       "      <td>0.025393</td>\n",
       "      <td>NL</td>\n",
       "      <td>EU</td>\n",
       "      <td>Netherlands</td>\n",
       "      <td>25</td>\n",
       "      <td>https://api.nga.gov/iiif/bd6f880a-0c5a-4c74-82...</td>\n",
       "    </tr>\n",
       "    <tr>\n",
       "      <th>8198</th>\n",
       "      <td>https://api.nga.gov/iiif/56d88ffe-e713-4807-ad...</td>\n",
       "      <td>https://api.nga.gov/iiif/56d88ffe-e713-4807-ad...</td>\n",
       "      <td>1</td>\n",
       "      <td>San Francisco</td>\n",
       "      <td>American, born 1939</td>\n",
       "      <td>artist</td>\n",
       "      <td>artist</td>\n",
       "      <td>Ralph Gibson</td>\n",
       "      <td>1939.0</td>\n",
       "      <td>NaN</td>\n",
       "      <td>...</td>\n",
       "      <td>2</td>\n",
       "      <td>0.05</td>\n",
       "      <td>0.550286</td>\n",
       "      <td>American</td>\n",
       "      <td>0.549140</td>\n",
       "      <td>US</td>\n",
       "      <td>NoA</td>\n",
       "      <td>United States</td>\n",
       "      <td>38</td>\n",
       "      <td>https://api.nga.gov/iiif/56d88ffe-e713-4807-ad...</td>\n",
       "    </tr>\n",
       "    <tr>\n",
       "      <th>8199</th>\n",
       "      <td>https://api.nga.gov/iiif/c8769981-fe96-4749-a2...</td>\n",
       "      <td>https://api.nga.gov/iiif/c8769981-fe96-4749-a2...</td>\n",
       "      <td>1</td>\n",
       "      <td>NY from Dyckman St., Ferry Hill, No. 2</td>\n",
       "      <td>American, 1870 - 1953</td>\n",
       "      <td>artist</td>\n",
       "      <td>artist</td>\n",
       "      <td>John Marin</td>\n",
       "      <td>1870.0</td>\n",
       "      <td>1953.0</td>\n",
       "      <td>...</td>\n",
       "      <td>2</td>\n",
       "      <td>0.05</td>\n",
       "      <td>0.550286</td>\n",
       "      <td>American</td>\n",
       "      <td>0.549140</td>\n",
       "      <td>US</td>\n",
       "      <td>NoA</td>\n",
       "      <td>United States</td>\n",
       "      <td>38</td>\n",
       "      <td>https://api.nga.gov/iiif/c8769981-fe96-4749-a2...</td>\n",
       "    </tr>\n",
       "    <tr>\n",
       "      <th>8200</th>\n",
       "      <td>https://api.nga.gov/iiif/16c3c8ff-133b-48ee-a6...</td>\n",
       "      <td>https://api.nga.gov/iiif/16c3c8ff-133b-48ee-a6...</td>\n",
       "      <td>1</td>\n",
       "      <td>The Siege of Breda [plate 2 of 6]</td>\n",
       "      <td>French, 1592 - 1635</td>\n",
       "      <td>artist</td>\n",
       "      <td>artist</td>\n",
       "      <td>Jacques Callot</td>\n",
       "      <td>1592.0</td>\n",
       "      <td>1635.0</td>\n",
       "      <td>...</td>\n",
       "      <td>25</td>\n",
       "      <td>0.50</td>\n",
       "      <td>0.383065</td>\n",
       "      <td>French</td>\n",
       "      <td>0.153443</td>\n",
       "      <td>FR</td>\n",
       "      <td>EU</td>\n",
       "      <td>France</td>\n",
       "      <td>25</td>\n",
       "      <td>https://api.nga.gov/iiif/16c3c8ff-133b-48ee-a6...</td>\n",
       "    </tr>\n",
       "    <tr>\n",
       "      <th>8201</th>\n",
       "      <td>https://api.nga.gov/iiif/ac1f0480-cceb-458b-80...</td>\n",
       "      <td>https://api.nga.gov/iiif/ac1f0480-cceb-458b-80...</td>\n",
       "      <td>1</td>\n",
       "      <td>Grandfather\" Clock\"</td>\n",
       "      <td>American, 1888 - 1980</td>\n",
       "      <td>artist</td>\n",
       "      <td>artist</td>\n",
       "      <td>Magnus S. Fossum</td>\n",
       "      <td>1888.0</td>\n",
       "      <td>1980.0</td>\n",
       "      <td>...</td>\n",
       "      <td>2</td>\n",
       "      <td>0.05</td>\n",
       "      <td>0.550286</td>\n",
       "      <td>American</td>\n",
       "      <td>0.549140</td>\n",
       "      <td>US</td>\n",
       "      <td>NoA</td>\n",
       "      <td>United States</td>\n",
       "      <td>38</td>\n",
       "      <td>https://api.nga.gov/iiif/ac1f0480-cceb-458b-80...</td>\n",
       "    </tr>\n",
       "  </tbody>\n",
       "</table>\n",
       "<p>8202 rows × 51 columns</p>\n",
       "</div>"
      ],
      "text/plain": [
       "                                                iiifurl  \\\n",
       "0     https://api.nga.gov/iiif/b23ef555-1102-4abc-9b...   \n",
       "1     https://api.nga.gov/iiif/ef36c5b0-2fe3-4b10-91...   \n",
       "2     https://api.nga.gov/iiif/641e71ef-5b9e-4373-a5...   \n",
       "3     https://api.nga.gov/iiif/b466775f-8037-402f-b6...   \n",
       "4     https://api.nga.gov/iiif/123b5d53-7093-473d-8e...   \n",
       "...                                                 ...   \n",
       "8197  https://api.nga.gov/iiif/bd6f880a-0c5a-4c74-82...   \n",
       "8198  https://api.nga.gov/iiif/56d88ffe-e713-4807-ad...   \n",
       "8199  https://api.nga.gov/iiif/c8769981-fe96-4749-a2...   \n",
       "8200  https://api.nga.gov/iiif/16c3c8ff-133b-48ee-a6...   \n",
       "8201  https://api.nga.gov/iiif/ac1f0480-cceb-458b-80...   \n",
       "\n",
       "                                           iiifthumburl  accessioned  \\\n",
       "0     https://api.nga.gov/iiif/b23ef555-1102-4abc-9b...            1   \n",
       "1     https://api.nga.gov/iiif/ef36c5b0-2fe3-4b10-91...            1   \n",
       "2     https://api.nga.gov/iiif/641e71ef-5b9e-4373-a5...            1   \n",
       "3     https://api.nga.gov/iiif/b466775f-8037-402f-b6...            1   \n",
       "4     https://api.nga.gov/iiif/123b5d53-7093-473d-8e...            1   \n",
       "...                                                 ...          ...   \n",
       "8197  https://api.nga.gov/iiif/bd6f880a-0c5a-4c74-82...            1   \n",
       "8198  https://api.nga.gov/iiif/56d88ffe-e713-4807-ad...            1   \n",
       "8199  https://api.nga.gov/iiif/c8769981-fe96-4749-a2...            1   \n",
       "8200  https://api.nga.gov/iiif/16c3c8ff-133b-48ee-a6...            1   \n",
       "8201  https://api.nga.gov/iiif/ac1f0480-cceb-458b-80...            1   \n",
       "\n",
       "                                       title       displayDate_created  \\\n",
       "0                                Haystack #4     American, 1923 - 1997   \n",
       "1                         Horse Weather Vane     American, 1915 - 2001   \n",
       "2                            American Tivoli     American, 1857 - 1926   \n",
       "3                            Franklin's Kite     American, 1899 - 1964   \n",
       "4                                    Toaster  American, active c. 1935   \n",
       "...                                      ...                       ...   \n",
       "8197                             Grazing Cow        Dutch, 1625 - 1654   \n",
       "8198                           San Francisco       American, born 1939   \n",
       "8199  NY from Dyckman St., Ferry Hill, No. 2     American, 1870 - 1953   \n",
       "8200       The Siege of Breda [plate 2 of 6]       French, 1592 - 1635   \n",
       "8201                     Grandfather\" Clock\"     American, 1888 - 1980   \n",
       "\n",
       "     roletype    role forwarddisplayname  birthyear  deathyear  ...  \\\n",
       "0      artist  artist   Roy Lichtenstein     1923.0     1997.0  ...   \n",
       "1      artist  artist      Dolores Haupt     1915.0     2001.0  ...   \n",
       "2      artist  artist     Joseph Pennell     1857.0     1926.0  ...   \n",
       "3      artist  artist    Alfred Bendiner     1899.0     1964.0  ...   \n",
       "4      artist  artist          Roy Weber     1855.0     1995.0  ...   \n",
       "...       ...     ...                ...        ...        ...  ...   \n",
       "8197   artist  artist      Paulus Potter     1625.0     1654.0  ...   \n",
       "8198   artist  artist       Ralph Gibson     1939.0        NaN  ...   \n",
       "8199   artist  artist         John Marin     1870.0     1953.0  ...   \n",
       "8200   artist  artist     Jacques Callot     1592.0     1635.0  ...   \n",
       "8201   artist  artist   Magnus S. Fossum     1888.0     1980.0  ...   \n",
       "\n",
       "      countries_present  proportion_of_continent pct_continent_NGA   demonym  \\\n",
       "0                     2                     0.05          0.550286  American   \n",
       "1                     2                     0.05          0.550286  American   \n",
       "2                     2                     0.05          0.550286  American   \n",
       "3                     2                     0.05          0.550286  American   \n",
       "4                     2                     0.05          0.550286  American   \n",
       "...                 ...                      ...               ...       ...   \n",
       "8197                 25                     0.50          0.383065     Dutch   \n",
       "8198                  2                     0.05          0.550286  American   \n",
       "8199                  2                     0.05          0.550286  American   \n",
       "8200                 25                     0.50          0.383065    French   \n",
       "8201                  2                     0.05          0.550286  American   \n",
       "\n",
       "      pct_country_NGA  Country Continent   Country Name countries_missing  \\\n",
       "0            0.549140       US       NoA  United States                38   \n",
       "1            0.549140       US       NoA  United States                38   \n",
       "2            0.549140       US       NoA  United States                38   \n",
       "3            0.549140       US       NoA  United States                38   \n",
       "4            0.549140       US       NoA  United States                38   \n",
       "...               ...      ...       ...            ...               ...   \n",
       "8197         0.025393       NL        EU    Netherlands                25   \n",
       "8198         0.549140       US       NoA  United States                38   \n",
       "8199         0.549140       US       NoA  United States                38   \n",
       "8200         0.153443       FR        EU         France                25   \n",
       "8201         0.549140       US       NoA  United States                38   \n",
       "\n",
       "                                           expanded_url  \n",
       "0     https://api.nga.gov/iiif/b23ef555-1102-4abc-9b...  \n",
       "1     https://api.nga.gov/iiif/ef36c5b0-2fe3-4b10-91...  \n",
       "2     https://api.nga.gov/iiif/641e71ef-5b9e-4373-a5...  \n",
       "3     https://api.nga.gov/iiif/b466775f-8037-402f-b6...  \n",
       "4     https://api.nga.gov/iiif/123b5d53-7093-473d-8e...  \n",
       "...                                                 ...  \n",
       "8197  https://api.nga.gov/iiif/bd6f880a-0c5a-4c74-82...  \n",
       "8198  https://api.nga.gov/iiif/56d88ffe-e713-4807-ad...  \n",
       "8199  https://api.nga.gov/iiif/c8769981-fe96-4749-a2...  \n",
       "8200  https://api.nga.gov/iiif/16c3c8ff-133b-48ee-a6...  \n",
       "8201  https://api.nga.gov/iiif/ac1f0480-cceb-458b-80...  \n",
       "\n",
       "[8202 rows x 51 columns]"
      ]
     },
     "execution_count": 94,
     "metadata": {},
     "output_type": "execute_result"
    }
   ],
   "source": [
    "subsample_nonla"
   ]
  },
  {
   "cell_type": "code",
   "execution_count": null,
   "metadata": {
    "tags": []
   },
   "outputs": [],
   "source": [
    "nonla_geographicStatistics.to_csv('../../../data_samples/nonLaArt/nonla_geographicStatistics.csv', index=False)"
   ]
  },
  {
   "cell_type": "code",
   "execution_count": null,
   "metadata": {
    "collapsed": false,
    "jupyter": {
     "outputs_hidden": false
    },
    "pycharm": {
     "name": "#%%\n"
    },
    "tags": []
   },
   "outputs": [],
   "source": [
    "subsample_nonla.to_csv('../../../data_samples/results/processed_subset_results/non_latinamericanart_sample.csv', index=False)"
   ]
  }
 ],
 "metadata": {
  "kernelspec": {
   "display_name": "Python 3 (ipykernel)",
   "language": "python",
   "name": "python3"
  },
  "language_info": {
   "codemirror_mode": {
    "name": "ipython",
    "version": 3
   },
   "file_extension": ".py",
   "mimetype": "text/x-python",
   "name": "python",
   "nbconvert_exporter": "python",
   "pygments_lexer": "ipython3",
   "version": "3.8.19"
  }
 },
 "nbformat": 4,
 "nbformat_minor": 4
}
