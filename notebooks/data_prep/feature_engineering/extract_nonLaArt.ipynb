{
 "cells": [
  {
   "cell_type": "code",
   "execution_count": 1,
   "metadata": {
    "collapsed": false,
    "jupyter": {
     "outputs_hidden": false
    },
    "pycharm": {
     "name": "#%%\n"
    },
    "tags": []
   },
   "outputs": [],
   "source": [
    "import pandas as pd\n",
    "import numpy as np\n",
    "import pycountry\n",
    "import pycountry_convert as pc\n",
    "import random"
   ]
  },
  {
   "cell_type": "markdown",
   "metadata": {},
   "source": [
    "### Step 1: Importing/Exporting of Data"
   ]
  },
  {
   "cell_type": "markdown",
   "metadata": {},
   "source": [
    "The initial number of rows in the non_latinamerican_art dataset is 471542 in the database and after removing the 'bad lines', 7743 rows were removed."
   ]
  },
  {
   "cell_type": "code",
   "execution_count": 2,
   "metadata": {
    "collapsed": false,
    "jupyter": {
     "outputs_hidden": false
    },
    "pycharm": {
     "name": "#%%\n"
    },
    "tags": []
   },
   "outputs": [],
   "source": [
    "#new version expects dtype on import however as of now only 1 row is impacted\n",
    "non_latinamerican_art = pd.read_csv('../../../data_samples/art_tables/non_latinamerican_art.csv', low_memory=False, on_bad_lines='skip')"
   ]
  },
  {
   "cell_type": "code",
   "execution_count": 403,
   "metadata": {
    "tags": []
   },
   "outputs": [
    {
     "data": {
      "text/plain": [
       "(463799, 40)"
      ]
     },
     "execution_count": 403,
     "metadata": {},
     "output_type": "execute_result"
    }
   ],
   "source": [
    "non_latinamerican_art.shape"
   ]
  },
  {
   "cell_type": "markdown",
   "metadata": {},
   "source": [
    " Saving this column to its' own dataframe will allow for the EDA notebook 'Geography and Demography' to be ran and utilized later"
   ]
  },
  {
   "cell_type": "markdown",
   "metadata": {},
   "source": [
    "### Step 2: of the La Art Pipeline - Feature Engineering new geographical features"
   ]
  },
  {
   "cell_type": "markdown",
   "metadata": {},
   "source": [
    "#### List of Continent Codes for Determining which non Latin American countries are present in the Gallery"
   ]
  },
  {
   "cell_type": "code",
   "execution_count": 323,
   "metadata": {
    "tags": []
   },
   "outputs": [],
   "source": [
    "cname_alpha_2 = []\n",
    "cname_alpha_3 = []\n",
    "for country in pycountry.countries:\n",
    "    cname_alpha_2.append(country.alpha_2)\n",
    "    cname_alpha_3.append(country.alpha_3)"
   ]
  },
  {
   "cell_type": "code",
   "execution_count": 324,
   "metadata": {
    "tags": []
   },
   "outputs": [],
   "source": [
    "cname_alpha_2 = pd.Series(cname_alpha_2)\n",
    "cname_alpha_3 = pd.Series(cname_alpha_3)"
   ]
  },
  {
   "cell_type": "code",
   "execution_count": 325,
   "metadata": {
    "tags": []
   },
   "outputs": [],
   "source": [
    "error_list = ['AQ', 'TF', 'EH', 'PN', 'SX', 'TL', 'UM', 'VA']\n",
    "continent_names = cname_alpha_2.apply(lambda x: pc.country_alpha2_to_continent_code(x) if x not in error_list else 'non-transformable')"
   ]
  },
  {
   "cell_type": "code",
   "execution_count": 326,
   "metadata": {
    "tags": []
   },
   "outputs": [],
   "source": [
    "country_and_continent = pd.DataFrame([cname_alpha_2, continent_names], index= ['Country', 'Continent']).T"
   ]
  },
  {
   "cell_type": "markdown",
   "metadata": {},
   "source": [
    "This is an important aspect of the data as it will pair the countries with their continents and the nationalities of the artists in the dataset"
   ]
  },
  {
   "cell_type": "code",
   "execution_count": 327,
   "metadata": {
    "tags": []
   },
   "outputs": [
    {
     "data": {
      "text/html": [
       "<div>\n",
       "<style scoped>\n",
       "    .dataframe tbody tr th:only-of-type {\n",
       "        vertical-align: middle;\n",
       "    }\n",
       "\n",
       "    .dataframe tbody tr th {\n",
       "        vertical-align: top;\n",
       "    }\n",
       "\n",
       "    .dataframe thead th {\n",
       "        text-align: right;\n",
       "    }\n",
       "</style>\n",
       "<table border=\"1\" class=\"dataframe\">\n",
       "  <thead>\n",
       "    <tr style=\"text-align: right;\">\n",
       "      <th></th>\n",
       "      <th>Country</th>\n",
       "      <th>Continent</th>\n",
       "    </tr>\n",
       "  </thead>\n",
       "  <tbody>\n",
       "    <tr>\n",
       "      <th>0</th>\n",
       "      <td>AW</td>\n",
       "      <td>NA</td>\n",
       "    </tr>\n",
       "    <tr>\n",
       "      <th>1</th>\n",
       "      <td>AF</td>\n",
       "      <td>AS</td>\n",
       "    </tr>\n",
       "    <tr>\n",
       "      <th>2</th>\n",
       "      <td>AO</td>\n",
       "      <td>AF</td>\n",
       "    </tr>\n",
       "    <tr>\n",
       "      <th>3</th>\n",
       "      <td>AI</td>\n",
       "      <td>NA</td>\n",
       "    </tr>\n",
       "    <tr>\n",
       "      <th>4</th>\n",
       "      <td>AX</td>\n",
       "      <td>EU</td>\n",
       "    </tr>\n",
       "  </tbody>\n",
       "</table>\n",
       "</div>"
      ],
      "text/plain": [
       "  Country Continent\n",
       "0      AW        NA\n",
       "1      AF        AS\n",
       "2      AO        AF\n",
       "3      AI        NA\n",
       "4      AX        EU"
      ]
     },
     "execution_count": 327,
     "metadata": {},
     "output_type": "execute_result"
    }
   ],
   "source": [
    "country_and_continent.head()"
   ]
  },
  {
   "cell_type": "code",
   "execution_count": 328,
   "metadata": {
    "tags": []
   },
   "outputs": [],
   "source": [
    "total_by_continent = country_and_continent.groupby('Continent').count()['Country'].copy()"
   ]
  },
  {
   "cell_type": "code",
   "execution_count": 329,
   "metadata": {
    "tags": []
   },
   "outputs": [
    {
     "data": {
      "text/plain": [
       "Continent\n",
       "AF                   57\n",
       "AN                    2\n",
       "AS                   53\n",
       "EU                   50\n",
       "NA                   40\n",
       "OC                   24\n",
       "SA                   15\n",
       "non-transformable     8\n",
       "Name: Country, dtype: int64"
      ]
     },
     "execution_count": 329,
     "metadata": {},
     "output_type": "execute_result"
    }
   ],
   "source": [
    "total_by_continent"
   ]
  },
  {
   "cell_type": "markdown",
   "metadata": {},
   "source": [
    "### Distribution of Countries by Continent, World Wide"
   ]
  },
  {
   "cell_type": "code",
   "execution_count": 330,
   "metadata": {
    "tags": []
   },
   "outputs": [],
   "source": [
    "country_and_continent['Country Name'] = country_and_continent.Country.apply(pc.country_alpha2_to_country_name)"
   ]
  },
  {
   "cell_type": "code",
   "execution_count": 331,
   "metadata": {
    "tags": []
   },
   "outputs": [],
   "source": [
    "country_and_continent['Continent Name'] = country_and_continent.Continent.apply(lambda x: pc.convert_continent_code_to_continent_name(x) if x != 'non-transformable' else x)"
   ]
  },
  {
   "cell_type": "code",
   "execution_count": 332,
   "metadata": {
    "tags": []
   },
   "outputs": [
    {
     "data": {
      "text/html": [
       "<div>\n",
       "<style scoped>\n",
       "    .dataframe tbody tr th:only-of-type {\n",
       "        vertical-align: middle;\n",
       "    }\n",
       "\n",
       "    .dataframe tbody tr th {\n",
       "        vertical-align: top;\n",
       "    }\n",
       "\n",
       "    .dataframe thead th {\n",
       "        text-align: right;\n",
       "    }\n",
       "</style>\n",
       "<table border=\"1\" class=\"dataframe\">\n",
       "  <thead>\n",
       "    <tr style=\"text-align: right;\">\n",
       "      <th></th>\n",
       "      <th>Country</th>\n",
       "      <th>Continent</th>\n",
       "      <th>Country Name</th>\n",
       "      <th>Continent Name</th>\n",
       "    </tr>\n",
       "  </thead>\n",
       "  <tbody>\n",
       "    <tr>\n",
       "      <th>0</th>\n",
       "      <td>AW</td>\n",
       "      <td>NA</td>\n",
       "      <td>Aruba</td>\n",
       "      <td>North America</td>\n",
       "    </tr>\n",
       "    <tr>\n",
       "      <th>1</th>\n",
       "      <td>AF</td>\n",
       "      <td>AS</td>\n",
       "      <td>Afghanistan</td>\n",
       "      <td>Asia</td>\n",
       "    </tr>\n",
       "    <tr>\n",
       "      <th>2</th>\n",
       "      <td>AO</td>\n",
       "      <td>AF</td>\n",
       "      <td>Angola</td>\n",
       "      <td>Africa</td>\n",
       "    </tr>\n",
       "    <tr>\n",
       "      <th>3</th>\n",
       "      <td>AI</td>\n",
       "      <td>NA</td>\n",
       "      <td>Anguilla</td>\n",
       "      <td>North America</td>\n",
       "    </tr>\n",
       "    <tr>\n",
       "      <th>4</th>\n",
       "      <td>AX</td>\n",
       "      <td>EU</td>\n",
       "      <td>Åland Islands</td>\n",
       "      <td>Europe</td>\n",
       "    </tr>\n",
       "  </tbody>\n",
       "</table>\n",
       "</div>"
      ],
      "text/plain": [
       "  Country Continent   Country Name Continent Name\n",
       "0      AW        NA          Aruba  North America\n",
       "1      AF        AS    Afghanistan           Asia\n",
       "2      AO        AF         Angola         Africa\n",
       "3      AI        NA       Anguilla  North America\n",
       "4      AX        EU  Åland Islands         Europe"
      ]
     },
     "execution_count": 332,
     "metadata": {},
     "output_type": "execute_result"
    }
   ],
   "source": [
    "country_and_continent.head()"
   ]
  },
  {
   "cell_type": "code",
   "execution_count": 333,
   "metadata": {
    "tags": []
   },
   "outputs": [],
   "source": [
    "constituent_nationalities = non_latinamerican_art.nationality.copy()"
   ]
  },
  {
   "cell_type": "code",
   "execution_count": 334,
   "metadata": {
    "tags": []
   },
   "outputs": [],
   "source": [
    "nonla_artist_origin = constituent_nationalities.value_counts(normalize=True)"
   ]
  },
  {
   "cell_type": "code",
   "execution_count": 335,
   "metadata": {
    "tags": []
   },
   "outputs": [
    {
     "data": {
      "text/plain": [
       "(463799,)"
      ]
     },
     "execution_count": 335,
     "metadata": {},
     "output_type": "execute_result"
    }
   ],
   "source": [
    "constituent_nationalities.shape"
   ]
  },
  {
   "cell_type": "code",
   "execution_count": 336,
   "metadata": {
    "tags": []
   },
   "outputs": [
    {
     "data": {
      "text/plain": [
       "American    0.704890\n",
       "French      0.102478\n",
       "Italian     0.045463\n",
       "German      0.041107\n",
       "British     0.029466\n",
       "Name: nationality, dtype: float64"
      ]
     },
     "execution_count": 336,
     "metadata": {},
     "output_type": "execute_result"
    }
   ],
   "source": [
    "nonla_artist_origin.head()"
   ]
  },
  {
   "cell_type": "markdown",
   "metadata": {},
   "source": [
    "#### Adding information to select for non_latinamerican_art (todo- write script to create the change in the DB)"
   ]
  },
  {
   "cell_type": "code",
   "execution_count": 337,
   "metadata": {
    "tags": []
   },
   "outputs": [],
   "source": [
    "Latin_in_NA = ['BZ', 'CR', 'CU', 'DO', 'SV', 'GT', 'HT', 'HN', 'JM', 'MX', 'NI', 'PA', 'LC']\n",
    "latin_in_NA_map = country_and_continent.Country.apply(lambda x: x in Latin_in_NA)\n",
    "latin_in_SA_map = country_and_continent.Continent.apply(lambda x: x == 'SA')\n",
    "latins = country_and_continent.where(latin_in_SA_map | latin_in_NA_map).dropna()\n",
    "latins.name = 'Latin Countries'\n",
    "latins.reset_index(inplace=True, drop=True)\n",
    "latins['Country Name'] = latins.Country.apply(pc.country_alpha2_to_country_name)"
   ]
  },
  {
   "cell_type": "code",
   "execution_count": 338,
   "metadata": {
    "tags": []
   },
   "outputs": [],
   "source": [
    "#the assistance of an outside demonyms table which has a key to connect Country to Demonym\n",
    "demonyms = pd.read_csv('../../../data_samples/results/processed_subset_results/demonyms.csv')"
   ]
  },
  {
   "cell_type": "code",
   "execution_count": 339,
   "metadata": {
    "tags": []
   },
   "outputs": [],
   "source": [
    "latins['demonym'] = ['Argentinean', 'Belizean', 'Bolivian', 'Brazilian', 'Chilean', 'Colombian', 'Costa Rican', 'Cuban', 'Dominican', 'Ecuadorian', 'Falkland Islander', 'Guatemalan', 'Guianese', 'Guyanese', 'Honduran', 'Haitian', 'Jamaican', 'Saint Lucian', 'Mexican', 'Nicaraguan', 'Panamanian', 'Peruvian', 'Paraguayan', 'South Georgian', 'Salvadoran', 'Surinamese', 'Uruguayan', 'Venezuelan']"
   ]
  },
  {
   "cell_type": "code",
   "execution_count": 340,
   "metadata": {
    "tags": []
   },
   "outputs": [
    {
     "data": {
      "text/html": [
       "<div>\n",
       "<style scoped>\n",
       "    .dataframe tbody tr th:only-of-type {\n",
       "        vertical-align: middle;\n",
       "    }\n",
       "\n",
       "    .dataframe tbody tr th {\n",
       "        vertical-align: top;\n",
       "    }\n",
       "\n",
       "    .dataframe thead th {\n",
       "        text-align: right;\n",
       "    }\n",
       "</style>\n",
       "<table border=\"1\" class=\"dataframe\">\n",
       "  <thead>\n",
       "    <tr style=\"text-align: right;\">\n",
       "      <th></th>\n",
       "      <th>Country</th>\n",
       "      <th>Continent</th>\n",
       "      <th>Country Name</th>\n",
       "      <th>Continent Name</th>\n",
       "      <th>demonym</th>\n",
       "    </tr>\n",
       "  </thead>\n",
       "  <tbody>\n",
       "    <tr>\n",
       "      <th>0</th>\n",
       "      <td>AR</td>\n",
       "      <td>SA</td>\n",
       "      <td>Argentina</td>\n",
       "      <td>South America</td>\n",
       "      <td>Argentinean</td>\n",
       "    </tr>\n",
       "    <tr>\n",
       "      <th>1</th>\n",
       "      <td>BZ</td>\n",
       "      <td>NA</td>\n",
       "      <td>Belize</td>\n",
       "      <td>North America</td>\n",
       "      <td>Belizean</td>\n",
       "    </tr>\n",
       "    <tr>\n",
       "      <th>2</th>\n",
       "      <td>BO</td>\n",
       "      <td>SA</td>\n",
       "      <td>Bolivia, Plurinational State of</td>\n",
       "      <td>South America</td>\n",
       "      <td>Bolivian</td>\n",
       "    </tr>\n",
       "    <tr>\n",
       "      <th>3</th>\n",
       "      <td>BR</td>\n",
       "      <td>SA</td>\n",
       "      <td>Brazil</td>\n",
       "      <td>South America</td>\n",
       "      <td>Brazilian</td>\n",
       "    </tr>\n",
       "    <tr>\n",
       "      <th>4</th>\n",
       "      <td>CL</td>\n",
       "      <td>SA</td>\n",
       "      <td>Chile</td>\n",
       "      <td>South America</td>\n",
       "      <td>Chilean</td>\n",
       "    </tr>\n",
       "    <tr>\n",
       "      <th>5</th>\n",
       "      <td>CO</td>\n",
       "      <td>SA</td>\n",
       "      <td>Colombia</td>\n",
       "      <td>South America</td>\n",
       "      <td>Colombian</td>\n",
       "    </tr>\n",
       "    <tr>\n",
       "      <th>6</th>\n",
       "      <td>CR</td>\n",
       "      <td>NA</td>\n",
       "      <td>Costa Rica</td>\n",
       "      <td>North America</td>\n",
       "      <td>Costa Rican</td>\n",
       "    </tr>\n",
       "    <tr>\n",
       "      <th>7</th>\n",
       "      <td>CU</td>\n",
       "      <td>NA</td>\n",
       "      <td>Cuba</td>\n",
       "      <td>North America</td>\n",
       "      <td>Cuban</td>\n",
       "    </tr>\n",
       "    <tr>\n",
       "      <th>8</th>\n",
       "      <td>DO</td>\n",
       "      <td>NA</td>\n",
       "      <td>Dominican Republic</td>\n",
       "      <td>North America</td>\n",
       "      <td>Dominican</td>\n",
       "    </tr>\n",
       "    <tr>\n",
       "      <th>9</th>\n",
       "      <td>EC</td>\n",
       "      <td>SA</td>\n",
       "      <td>Ecuador</td>\n",
       "      <td>South America</td>\n",
       "      <td>Ecuadorian</td>\n",
       "    </tr>\n",
       "    <tr>\n",
       "      <th>10</th>\n",
       "      <td>FK</td>\n",
       "      <td>SA</td>\n",
       "      <td>Falkland Islands (Malvinas)</td>\n",
       "      <td>South America</td>\n",
       "      <td>Falkland Islander</td>\n",
       "    </tr>\n",
       "    <tr>\n",
       "      <th>11</th>\n",
       "      <td>GT</td>\n",
       "      <td>NA</td>\n",
       "      <td>Guatemala</td>\n",
       "      <td>North America</td>\n",
       "      <td>Guatemalan</td>\n",
       "    </tr>\n",
       "    <tr>\n",
       "      <th>12</th>\n",
       "      <td>GF</td>\n",
       "      <td>SA</td>\n",
       "      <td>French Guiana</td>\n",
       "      <td>South America</td>\n",
       "      <td>Guianese</td>\n",
       "    </tr>\n",
       "    <tr>\n",
       "      <th>13</th>\n",
       "      <td>GY</td>\n",
       "      <td>SA</td>\n",
       "      <td>Guyana</td>\n",
       "      <td>South America</td>\n",
       "      <td>Guyanese</td>\n",
       "    </tr>\n",
       "    <tr>\n",
       "      <th>14</th>\n",
       "      <td>HN</td>\n",
       "      <td>NA</td>\n",
       "      <td>Honduras</td>\n",
       "      <td>North America</td>\n",
       "      <td>Honduran</td>\n",
       "    </tr>\n",
       "    <tr>\n",
       "      <th>15</th>\n",
       "      <td>HT</td>\n",
       "      <td>NA</td>\n",
       "      <td>Haiti</td>\n",
       "      <td>North America</td>\n",
       "      <td>Haitian</td>\n",
       "    </tr>\n",
       "    <tr>\n",
       "      <th>16</th>\n",
       "      <td>JM</td>\n",
       "      <td>NA</td>\n",
       "      <td>Jamaica</td>\n",
       "      <td>North America</td>\n",
       "      <td>Jamaican</td>\n",
       "    </tr>\n",
       "    <tr>\n",
       "      <th>17</th>\n",
       "      <td>LC</td>\n",
       "      <td>NA</td>\n",
       "      <td>Saint Lucia</td>\n",
       "      <td>North America</td>\n",
       "      <td>Saint Lucian</td>\n",
       "    </tr>\n",
       "    <tr>\n",
       "      <th>18</th>\n",
       "      <td>MX</td>\n",
       "      <td>NA</td>\n",
       "      <td>Mexico</td>\n",
       "      <td>North America</td>\n",
       "      <td>Mexican</td>\n",
       "    </tr>\n",
       "    <tr>\n",
       "      <th>19</th>\n",
       "      <td>NI</td>\n",
       "      <td>NA</td>\n",
       "      <td>Nicaragua</td>\n",
       "      <td>North America</td>\n",
       "      <td>Nicaraguan</td>\n",
       "    </tr>\n",
       "    <tr>\n",
       "      <th>20</th>\n",
       "      <td>PA</td>\n",
       "      <td>NA</td>\n",
       "      <td>Panama</td>\n",
       "      <td>North America</td>\n",
       "      <td>Panamanian</td>\n",
       "    </tr>\n",
       "    <tr>\n",
       "      <th>21</th>\n",
       "      <td>PE</td>\n",
       "      <td>SA</td>\n",
       "      <td>Peru</td>\n",
       "      <td>South America</td>\n",
       "      <td>Peruvian</td>\n",
       "    </tr>\n",
       "    <tr>\n",
       "      <th>22</th>\n",
       "      <td>PY</td>\n",
       "      <td>SA</td>\n",
       "      <td>Paraguay</td>\n",
       "      <td>South America</td>\n",
       "      <td>Paraguayan</td>\n",
       "    </tr>\n",
       "    <tr>\n",
       "      <th>23</th>\n",
       "      <td>GS</td>\n",
       "      <td>SA</td>\n",
       "      <td>South Georgia and the South Sandwich Islands</td>\n",
       "      <td>South America</td>\n",
       "      <td>South Georgian</td>\n",
       "    </tr>\n",
       "    <tr>\n",
       "      <th>24</th>\n",
       "      <td>SV</td>\n",
       "      <td>NA</td>\n",
       "      <td>El Salvador</td>\n",
       "      <td>North America</td>\n",
       "      <td>Salvadoran</td>\n",
       "    </tr>\n",
       "    <tr>\n",
       "      <th>25</th>\n",
       "      <td>SR</td>\n",
       "      <td>SA</td>\n",
       "      <td>Suriname</td>\n",
       "      <td>South America</td>\n",
       "      <td>Surinamese</td>\n",
       "    </tr>\n",
       "    <tr>\n",
       "      <th>26</th>\n",
       "      <td>UY</td>\n",
       "      <td>SA</td>\n",
       "      <td>Uruguay</td>\n",
       "      <td>South America</td>\n",
       "      <td>Uruguayan</td>\n",
       "    </tr>\n",
       "    <tr>\n",
       "      <th>27</th>\n",
       "      <td>VE</td>\n",
       "      <td>SA</td>\n",
       "      <td>Venezuela, Bolivarian Republic of</td>\n",
       "      <td>South America</td>\n",
       "      <td>Venezuelan</td>\n",
       "    </tr>\n",
       "  </tbody>\n",
       "</table>\n",
       "</div>"
      ],
      "text/plain": [
       "   Country Continent                                  Country Name  \\\n",
       "0       AR        SA                                     Argentina   \n",
       "1       BZ        NA                                        Belize   \n",
       "2       BO        SA               Bolivia, Plurinational State of   \n",
       "3       BR        SA                                        Brazil   \n",
       "4       CL        SA                                         Chile   \n",
       "5       CO        SA                                      Colombia   \n",
       "6       CR        NA                                    Costa Rica   \n",
       "7       CU        NA                                          Cuba   \n",
       "8       DO        NA                            Dominican Republic   \n",
       "9       EC        SA                                       Ecuador   \n",
       "10      FK        SA                   Falkland Islands (Malvinas)   \n",
       "11      GT        NA                                     Guatemala   \n",
       "12      GF        SA                                 French Guiana   \n",
       "13      GY        SA                                        Guyana   \n",
       "14      HN        NA                                      Honduras   \n",
       "15      HT        NA                                         Haiti   \n",
       "16      JM        NA                                       Jamaica   \n",
       "17      LC        NA                                   Saint Lucia   \n",
       "18      MX        NA                                        Mexico   \n",
       "19      NI        NA                                     Nicaragua   \n",
       "20      PA        NA                                        Panama   \n",
       "21      PE        SA                                          Peru   \n",
       "22      PY        SA                                      Paraguay   \n",
       "23      GS        SA  South Georgia and the South Sandwich Islands   \n",
       "24      SV        NA                                   El Salvador   \n",
       "25      SR        SA                                      Suriname   \n",
       "26      UY        SA                                       Uruguay   \n",
       "27      VE        SA             Venezuela, Bolivarian Republic of   \n",
       "\n",
       "   Continent Name            demonym  \n",
       "0   South America        Argentinean  \n",
       "1   North America           Belizean  \n",
       "2   South America           Bolivian  \n",
       "3   South America          Brazilian  \n",
       "4   South America            Chilean  \n",
       "5   South America          Colombian  \n",
       "6   North America        Costa Rican  \n",
       "7   North America              Cuban  \n",
       "8   North America          Dominican  \n",
       "9   South America         Ecuadorian  \n",
       "10  South America  Falkland Islander  \n",
       "11  North America         Guatemalan  \n",
       "12  South America           Guianese  \n",
       "13  South America           Guyanese  \n",
       "14  North America           Honduran  \n",
       "15  North America            Haitian  \n",
       "16  North America           Jamaican  \n",
       "17  North America       Saint Lucian  \n",
       "18  North America            Mexican  \n",
       "19  North America         Nicaraguan  \n",
       "20  North America         Panamanian  \n",
       "21  South America           Peruvian  \n",
       "22  South America         Paraguayan  \n",
       "23  South America     South Georgian  \n",
       "24  North America         Salvadoran  \n",
       "25  South America         Surinamese  \n",
       "26  South America          Uruguayan  \n",
       "27  South America         Venezuelan  "
      ]
     },
     "execution_count": 340,
     "metadata": {},
     "output_type": "execute_result"
    }
   ],
   "source": [
    "latins"
   ]
  },
  {
   "cell_type": "code",
   "execution_count": 341,
   "metadata": {
    "tags": []
   },
   "outputs": [],
   "source": [
    "nonla_artist_origin = nonla_artist_origin.reset_index(drop=False)"
   ]
  },
  {
   "cell_type": "code",
   "execution_count": 342,
   "metadata": {
    "tags": []
   },
   "outputs": [],
   "source": [
    "nonla_artist_origin.columns = ['demonym', 'pct_country_NGA']"
   ]
  },
  {
   "cell_type": "code",
   "execution_count": 343,
   "metadata": {
    "tags": []
   },
   "outputs": [
    {
     "data": {
      "text/html": [
       "<div>\n",
       "<style scoped>\n",
       "    .dataframe tbody tr th:only-of-type {\n",
       "        vertical-align: middle;\n",
       "    }\n",
       "\n",
       "    .dataframe tbody tr th {\n",
       "        vertical-align: top;\n",
       "    }\n",
       "\n",
       "    .dataframe thead th {\n",
       "        text-align: right;\n",
       "    }\n",
       "</style>\n",
       "<table border=\"1\" class=\"dataframe\">\n",
       "  <thead>\n",
       "    <tr style=\"text-align: right;\">\n",
       "      <th></th>\n",
       "      <th>demonym</th>\n",
       "      <th>pct_country_NGA</th>\n",
       "    </tr>\n",
       "  </thead>\n",
       "  <tbody>\n",
       "    <tr>\n",
       "      <th>0</th>\n",
       "      <td>American</td>\n",
       "      <td>0.704890</td>\n",
       "    </tr>\n",
       "    <tr>\n",
       "      <th>1</th>\n",
       "      <td>French</td>\n",
       "      <td>0.102478</td>\n",
       "    </tr>\n",
       "    <tr>\n",
       "      <th>2</th>\n",
       "      <td>Italian</td>\n",
       "      <td>0.045463</td>\n",
       "    </tr>\n",
       "    <tr>\n",
       "      <th>3</th>\n",
       "      <td>German</td>\n",
       "      <td>0.041107</td>\n",
       "    </tr>\n",
       "    <tr>\n",
       "      <th>4</th>\n",
       "      <td>British</td>\n",
       "      <td>0.029466</td>\n",
       "    </tr>\n",
       "    <tr>\n",
       "      <th>...</th>\n",
       "      <td>...</td>\n",
       "      <td>...</td>\n",
       "    </tr>\n",
       "    <tr>\n",
       "      <th>208</th>\n",
       "      <td>None.</td>\n",
       "      <td>0.000005</td>\n",
       "    </tr>\n",
       "    <tr>\n",
       "      <th>209</th>\n",
       "      <td>3262</td>\n",
       "      <td>0.000005</td>\n",
       "    </tr>\n",
       "    <tr>\n",
       "      <th>210</th>\n",
       "      <td>4685</td>\n",
       "      <td>0.000005</td>\n",
       "    </tr>\n",
       "    <tr>\n",
       "      <th>211</th>\n",
       "      <td>3483</td>\n",
       "      <td>0.000005</td>\n",
       "    </tr>\n",
       "    <tr>\n",
       "      <th>212</th>\n",
       "      <td>3752</td>\n",
       "      <td>0.000005</td>\n",
       "    </tr>\n",
       "  </tbody>\n",
       "</table>\n",
       "<p>213 rows × 2 columns</p>\n",
       "</div>"
      ],
      "text/plain": [
       "      demonym  pct_country_NGA\n",
       "0    American         0.704890\n",
       "1      French         0.102478\n",
       "2     Italian         0.045463\n",
       "3      German         0.041107\n",
       "4     British         0.029466\n",
       "..        ...              ...\n",
       "208     None.         0.000005\n",
       "209      3262         0.000005\n",
       "210      4685         0.000005\n",
       "211      3483         0.000005\n",
       "212      3752         0.000005\n",
       "\n",
       "[213 rows x 2 columns]"
      ]
     },
     "execution_count": 343,
     "metadata": {},
     "output_type": "execute_result"
    }
   ],
   "source": [
    "nonla_artist_origin"
   ]
  },
  {
   "cell_type": "markdown",
   "metadata": {
    "tags": []
   },
   "source": [
    "#### This will remove the subset of data that is latin american from nonlatines and thus nonla_geographicStatistics"
   ]
  },
  {
   "cell_type": "code",
   "execution_count": 344,
   "metadata": {
    "tags": []
   },
   "outputs": [],
   "source": [
    "non_latines = pd.merge(country_and_continent, demonyms, how='inner', on ='Country Name')"
   ]
  },
  {
   "cell_type": "code",
   "execution_count": 345,
   "metadata": {
    "tags": []
   },
   "outputs": [],
   "source": [
    "non_latines = non_latines.astype({'Country':'string','Continent':'string','Country Name':'string','Continent Name':'string','demonym':'string'})"
   ]
  },
  {
   "cell_type": "code",
   "execution_count": 346,
   "metadata": {
    "tags": []
   },
   "outputs": [],
   "source": [
    "latins = latins.astype({'Country':'string','Continent':'string','Country Name':'string','Continent Name':'string','demonym':'string'})"
   ]
  },
  {
   "cell_type": "code",
   "execution_count": 347,
   "metadata": {
    "tags": []
   },
   "outputs": [],
   "source": [
    "non_latines = non_latines.where(non_latines['Country Name'].apply(lambda x: not latins['Country Name'].isin([x]).any())).dropna(how='all')"
   ]
  },
  {
   "cell_type": "markdown",
   "metadata": {
    "tags": []
   },
   "source": [
    "#### TODO: Some of these countries may be part of latin america. South America was completely removed after seperation which is expected."
   ]
  },
  {
   "cell_type": "code",
   "execution_count": null,
   "metadata": {},
   "outputs": [],
   "source": [
    "# Might remove jamaica/belize? from the latinamerican group"
   ]
  },
  {
   "cell_type": "code",
   "execution_count": 348,
   "metadata": {},
   "outputs": [
    {
     "data": {
      "text/plain": [
       "Belize                1\n",
       "Costa Rica            1\n",
       "Cuba                  1\n",
       "Dominican Republic    1\n",
       "Guatemala             1\n",
       "Honduras              1\n",
       "Haiti                 1\n",
       "Jamaica               1\n",
       "Saint Lucia           1\n",
       "Mexico                1\n",
       "Nicaragua             1\n",
       "Panama                1\n",
       "El Salvador           1\n",
       "Name: Country Name, dtype: Int64"
      ]
     },
     "execution_count": 348,
     "metadata": {},
     "output_type": "execute_result"
    }
   ],
   "source": [
    "latins.groupby('Continent Name')['Country Name'].apply(lambda x: x.value_counts())['North America']"
   ]
  },
  {
   "cell_type": "code",
   "execution_count": null,
   "metadata": {},
   "outputs": [],
   "source": [
    "# To include puerto rico in the latinamerican group"
   ]
  },
  {
   "cell_type": "code",
   "execution_count": 349,
   "metadata": {},
   "outputs": [
    {
     "data": {
      "text/plain": [
       "Barbados            4\n",
       "Canada              4\n",
       "United States       4\n",
       "Bermuda             2\n",
       "Guadeloupe          2\n",
       "Martinique          2\n",
       "Puerto Rico         2\n",
       "Aruba               1\n",
       "Anguilla            1\n",
       "Saint Barthélemy    1\n",
       "Curaçao             1\n",
       "Cayman Islands      1\n",
       "Dominica            1\n",
       "Grenada             1\n",
       "Greenland           1\n",
       "Montserrat          1\n",
       "Name: Country Name, dtype: Int64"
      ]
     },
     "execution_count": 349,
     "metadata": {},
     "output_type": "execute_result"
    }
   ],
   "source": [
    "non_latines.groupby('Continent Name')['Country Name'].apply(lambda x: x.value_counts())['North America']"
   ]
  },
  {
   "cell_type": "code",
   "execution_count": 350,
   "metadata": {
    "tags": []
   },
   "outputs": [
    {
     "data": {
      "text/html": [
       "<div>\n",
       "<style scoped>\n",
       "    .dataframe tbody tr th:only-of-type {\n",
       "        vertical-align: middle;\n",
       "    }\n",
       "\n",
       "    .dataframe tbody tr th {\n",
       "        vertical-align: top;\n",
       "    }\n",
       "\n",
       "    .dataframe thead th {\n",
       "        text-align: right;\n",
       "    }\n",
       "</style>\n",
       "<table border=\"1\" class=\"dataframe\">\n",
       "  <thead>\n",
       "    <tr style=\"text-align: right;\">\n",
       "      <th></th>\n",
       "      <th>Country</th>\n",
       "      <th>Continent</th>\n",
       "      <th>Country Name</th>\n",
       "      <th>Continent Name</th>\n",
       "      <th>demonym</th>\n",
       "    </tr>\n",
       "  </thead>\n",
       "  <tbody>\n",
       "    <tr>\n",
       "      <th>0</th>\n",
       "      <td>AR</td>\n",
       "      <td>SA</td>\n",
       "      <td>Argentina</td>\n",
       "      <td>South America</td>\n",
       "      <td>Argentinean</td>\n",
       "    </tr>\n",
       "    <tr>\n",
       "      <th>1</th>\n",
       "      <td>BZ</td>\n",
       "      <td>NA</td>\n",
       "      <td>Belize</td>\n",
       "      <td>North America</td>\n",
       "      <td>Belizean</td>\n",
       "    </tr>\n",
       "    <tr>\n",
       "      <th>2</th>\n",
       "      <td>BO</td>\n",
       "      <td>SA</td>\n",
       "      <td>Bolivia, Plurinational State of</td>\n",
       "      <td>South America</td>\n",
       "      <td>Bolivian</td>\n",
       "    </tr>\n",
       "    <tr>\n",
       "      <th>3</th>\n",
       "      <td>BR</td>\n",
       "      <td>SA</td>\n",
       "      <td>Brazil</td>\n",
       "      <td>South America</td>\n",
       "      <td>Brazilian</td>\n",
       "    </tr>\n",
       "    <tr>\n",
       "      <th>4</th>\n",
       "      <td>CL</td>\n",
       "      <td>SA</td>\n",
       "      <td>Chile</td>\n",
       "      <td>South America</td>\n",
       "      <td>Chilean</td>\n",
       "    </tr>\n",
       "    <tr>\n",
       "      <th>5</th>\n",
       "      <td>CO</td>\n",
       "      <td>SA</td>\n",
       "      <td>Colombia</td>\n",
       "      <td>South America</td>\n",
       "      <td>Colombian</td>\n",
       "    </tr>\n",
       "    <tr>\n",
       "      <th>6</th>\n",
       "      <td>CR</td>\n",
       "      <td>NA</td>\n",
       "      <td>Costa Rica</td>\n",
       "      <td>North America</td>\n",
       "      <td>Costa Rican</td>\n",
       "    </tr>\n",
       "    <tr>\n",
       "      <th>7</th>\n",
       "      <td>CU</td>\n",
       "      <td>NA</td>\n",
       "      <td>Cuba</td>\n",
       "      <td>North America</td>\n",
       "      <td>Cuban</td>\n",
       "    </tr>\n",
       "    <tr>\n",
       "      <th>8</th>\n",
       "      <td>DO</td>\n",
       "      <td>NA</td>\n",
       "      <td>Dominican Republic</td>\n",
       "      <td>North America</td>\n",
       "      <td>Dominican</td>\n",
       "    </tr>\n",
       "    <tr>\n",
       "      <th>9</th>\n",
       "      <td>EC</td>\n",
       "      <td>SA</td>\n",
       "      <td>Ecuador</td>\n",
       "      <td>South America</td>\n",
       "      <td>Ecuadorian</td>\n",
       "    </tr>\n",
       "    <tr>\n",
       "      <th>10</th>\n",
       "      <td>FK</td>\n",
       "      <td>SA</td>\n",
       "      <td>Falkland Islands (Malvinas)</td>\n",
       "      <td>South America</td>\n",
       "      <td>Falkland Islander</td>\n",
       "    </tr>\n",
       "    <tr>\n",
       "      <th>11</th>\n",
       "      <td>GT</td>\n",
       "      <td>NA</td>\n",
       "      <td>Guatemala</td>\n",
       "      <td>North America</td>\n",
       "      <td>Guatemalan</td>\n",
       "    </tr>\n",
       "    <tr>\n",
       "      <th>12</th>\n",
       "      <td>GF</td>\n",
       "      <td>SA</td>\n",
       "      <td>French Guiana</td>\n",
       "      <td>South America</td>\n",
       "      <td>Guianese</td>\n",
       "    </tr>\n",
       "    <tr>\n",
       "      <th>13</th>\n",
       "      <td>GY</td>\n",
       "      <td>SA</td>\n",
       "      <td>Guyana</td>\n",
       "      <td>South America</td>\n",
       "      <td>Guyanese</td>\n",
       "    </tr>\n",
       "    <tr>\n",
       "      <th>14</th>\n",
       "      <td>HN</td>\n",
       "      <td>NA</td>\n",
       "      <td>Honduras</td>\n",
       "      <td>North America</td>\n",
       "      <td>Honduran</td>\n",
       "    </tr>\n",
       "    <tr>\n",
       "      <th>15</th>\n",
       "      <td>HT</td>\n",
       "      <td>NA</td>\n",
       "      <td>Haiti</td>\n",
       "      <td>North America</td>\n",
       "      <td>Haitian</td>\n",
       "    </tr>\n",
       "    <tr>\n",
       "      <th>16</th>\n",
       "      <td>JM</td>\n",
       "      <td>NA</td>\n",
       "      <td>Jamaica</td>\n",
       "      <td>North America</td>\n",
       "      <td>Jamaican</td>\n",
       "    </tr>\n",
       "    <tr>\n",
       "      <th>17</th>\n",
       "      <td>LC</td>\n",
       "      <td>NA</td>\n",
       "      <td>Saint Lucia</td>\n",
       "      <td>North America</td>\n",
       "      <td>Saint Lucian</td>\n",
       "    </tr>\n",
       "    <tr>\n",
       "      <th>18</th>\n",
       "      <td>MX</td>\n",
       "      <td>NA</td>\n",
       "      <td>Mexico</td>\n",
       "      <td>North America</td>\n",
       "      <td>Mexican</td>\n",
       "    </tr>\n",
       "    <tr>\n",
       "      <th>19</th>\n",
       "      <td>NI</td>\n",
       "      <td>NA</td>\n",
       "      <td>Nicaragua</td>\n",
       "      <td>North America</td>\n",
       "      <td>Nicaraguan</td>\n",
       "    </tr>\n",
       "    <tr>\n",
       "      <th>20</th>\n",
       "      <td>PA</td>\n",
       "      <td>NA</td>\n",
       "      <td>Panama</td>\n",
       "      <td>North America</td>\n",
       "      <td>Panamanian</td>\n",
       "    </tr>\n",
       "    <tr>\n",
       "      <th>21</th>\n",
       "      <td>PE</td>\n",
       "      <td>SA</td>\n",
       "      <td>Peru</td>\n",
       "      <td>South America</td>\n",
       "      <td>Peruvian</td>\n",
       "    </tr>\n",
       "    <tr>\n",
       "      <th>22</th>\n",
       "      <td>PY</td>\n",
       "      <td>SA</td>\n",
       "      <td>Paraguay</td>\n",
       "      <td>South America</td>\n",
       "      <td>Paraguayan</td>\n",
       "    </tr>\n",
       "    <tr>\n",
       "      <th>23</th>\n",
       "      <td>GS</td>\n",
       "      <td>SA</td>\n",
       "      <td>South Georgia and the South Sandwich Islands</td>\n",
       "      <td>South America</td>\n",
       "      <td>South Georgian</td>\n",
       "    </tr>\n",
       "    <tr>\n",
       "      <th>24</th>\n",
       "      <td>SV</td>\n",
       "      <td>NA</td>\n",
       "      <td>El Salvador</td>\n",
       "      <td>North America</td>\n",
       "      <td>Salvadoran</td>\n",
       "    </tr>\n",
       "    <tr>\n",
       "      <th>25</th>\n",
       "      <td>SR</td>\n",
       "      <td>SA</td>\n",
       "      <td>Suriname</td>\n",
       "      <td>South America</td>\n",
       "      <td>Surinamese</td>\n",
       "    </tr>\n",
       "    <tr>\n",
       "      <th>26</th>\n",
       "      <td>UY</td>\n",
       "      <td>SA</td>\n",
       "      <td>Uruguay</td>\n",
       "      <td>South America</td>\n",
       "      <td>Uruguayan</td>\n",
       "    </tr>\n",
       "    <tr>\n",
       "      <th>27</th>\n",
       "      <td>VE</td>\n",
       "      <td>SA</td>\n",
       "      <td>Venezuela, Bolivarian Republic of</td>\n",
       "      <td>South America</td>\n",
       "      <td>Venezuelan</td>\n",
       "    </tr>\n",
       "  </tbody>\n",
       "</table>\n",
       "</div>"
      ],
      "text/plain": [
       "   Country Continent                                  Country Name  \\\n",
       "0       AR        SA                                     Argentina   \n",
       "1       BZ        NA                                        Belize   \n",
       "2       BO        SA               Bolivia, Plurinational State of   \n",
       "3       BR        SA                                        Brazil   \n",
       "4       CL        SA                                         Chile   \n",
       "5       CO        SA                                      Colombia   \n",
       "6       CR        NA                                    Costa Rica   \n",
       "7       CU        NA                                          Cuba   \n",
       "8       DO        NA                            Dominican Republic   \n",
       "9       EC        SA                                       Ecuador   \n",
       "10      FK        SA                   Falkland Islands (Malvinas)   \n",
       "11      GT        NA                                     Guatemala   \n",
       "12      GF        SA                                 French Guiana   \n",
       "13      GY        SA                                        Guyana   \n",
       "14      HN        NA                                      Honduras   \n",
       "15      HT        NA                                         Haiti   \n",
       "16      JM        NA                                       Jamaica   \n",
       "17      LC        NA                                   Saint Lucia   \n",
       "18      MX        NA                                        Mexico   \n",
       "19      NI        NA                                     Nicaragua   \n",
       "20      PA        NA                                        Panama   \n",
       "21      PE        SA                                          Peru   \n",
       "22      PY        SA                                      Paraguay   \n",
       "23      GS        SA  South Georgia and the South Sandwich Islands   \n",
       "24      SV        NA                                   El Salvador   \n",
       "25      SR        SA                                      Suriname   \n",
       "26      UY        SA                                       Uruguay   \n",
       "27      VE        SA             Venezuela, Bolivarian Republic of   \n",
       "\n",
       "   Continent Name            demonym  \n",
       "0   South America        Argentinean  \n",
       "1   North America           Belizean  \n",
       "2   South America           Bolivian  \n",
       "3   South America          Brazilian  \n",
       "4   South America            Chilean  \n",
       "5   South America          Colombian  \n",
       "6   North America        Costa Rican  \n",
       "7   North America              Cuban  \n",
       "8   North America          Dominican  \n",
       "9   South America         Ecuadorian  \n",
       "10  South America  Falkland Islander  \n",
       "11  North America         Guatemalan  \n",
       "12  South America           Guianese  \n",
       "13  South America           Guyanese  \n",
       "14  North America           Honduran  \n",
       "15  North America            Haitian  \n",
       "16  North America           Jamaican  \n",
       "17  North America       Saint Lucian  \n",
       "18  North America            Mexican  \n",
       "19  North America         Nicaraguan  \n",
       "20  North America         Panamanian  \n",
       "21  South America           Peruvian  \n",
       "22  South America         Paraguayan  \n",
       "23  South America     South Georgian  \n",
       "24  North America         Salvadoran  \n",
       "25  South America         Surinamese  \n",
       "26  South America          Uruguayan  \n",
       "27  South America         Venezuelan  "
      ]
     },
     "execution_count": 350,
     "metadata": {},
     "output_type": "execute_result"
    }
   ],
   "source": [
    "latins"
   ]
  },
  {
   "cell_type": "code",
   "execution_count": 351,
   "metadata": {
    "tags": []
   },
   "outputs": [],
   "source": [
    "nonla_artist_origin = nonla_artist_origin.where(nonla_artist_origin['demonym'].apply(lambda x: not latins['demonym'].isin([x]).any())).dropna(how='all')"
   ]
  },
  {
   "cell_type": "code",
   "execution_count": 352,
   "metadata": {
    "tags": []
   },
   "outputs": [],
   "source": [
    "nonla_geographicStatistics = pd.merge(nonla_artist_origin, non_latines, on='demonym')"
   ]
  },
  {
   "cell_type": "code",
   "execution_count": 353,
   "metadata": {
    "tags": []
   },
   "outputs": [
    {
     "data": {
      "text/plain": [
       "(42, 6)"
      ]
     },
     "execution_count": 353,
     "metadata": {},
     "output_type": "execute_result"
    }
   ],
   "source": [
    "nonla_geographicStatistics.shape"
   ]
  },
  {
   "cell_type": "code",
   "execution_count": 354,
   "metadata": {
    "tags": []
   },
   "outputs": [],
   "source": [
    "nonla_geographicStatistics = nonla_geographicStatistics.sort_values(by='Country Name')"
   ]
  },
  {
   "cell_type": "code",
   "execution_count": 355,
   "metadata": {
    "tags": []
   },
   "outputs": [],
   "source": [
    "nonla_geographicStatistics.reset_index(drop=True, inplace=True)"
   ]
  },
  {
   "cell_type": "code",
   "execution_count": 356,
   "metadata": {
    "tags": []
   },
   "outputs": [
    {
     "data": {
      "text/html": [
       "<div>\n",
       "<style scoped>\n",
       "    .dataframe tbody tr th:only-of-type {\n",
       "        vertical-align: middle;\n",
       "    }\n",
       "\n",
       "    .dataframe tbody tr th {\n",
       "        vertical-align: top;\n",
       "    }\n",
       "\n",
       "    .dataframe thead th {\n",
       "        text-align: right;\n",
       "    }\n",
       "</style>\n",
       "<table border=\"1\" class=\"dataframe\">\n",
       "  <thead>\n",
       "    <tr style=\"text-align: right;\">\n",
       "      <th></th>\n",
       "      <th>demonym</th>\n",
       "      <th>pct_country_NGA</th>\n",
       "      <th>Country</th>\n",
       "      <th>Continent</th>\n",
       "      <th>Country Name</th>\n",
       "      <th>Continent Name</th>\n",
       "    </tr>\n",
       "  </thead>\n",
       "  <tbody>\n",
       "    <tr>\n",
       "      <th>0</th>\n",
       "      <td>Albanian</td>\n",
       "      <td>0.000015</td>\n",
       "      <td>AL</td>\n",
       "      <td>EU</td>\n",
       "      <td>Albania</td>\n",
       "      <td>Europe</td>\n",
       "    </tr>\n",
       "    <tr>\n",
       "      <th>1</th>\n",
       "      <td>Armenian</td>\n",
       "      <td>0.000005</td>\n",
       "      <td>AM</td>\n",
       "      <td>AS</td>\n",
       "      <td>Armenia</td>\n",
       "      <td>Asia</td>\n",
       "    </tr>\n",
       "    <tr>\n",
       "      <th>2</th>\n",
       "      <td>Australian</td>\n",
       "      <td>0.000347</td>\n",
       "      <td>AU</td>\n",
       "      <td>OC</td>\n",
       "      <td>Australia</td>\n",
       "      <td>Oceania</td>\n",
       "    </tr>\n",
       "    <tr>\n",
       "      <th>3</th>\n",
       "      <td>Austrian</td>\n",
       "      <td>0.001889</td>\n",
       "      <td>AT</td>\n",
       "      <td>EU</td>\n",
       "      <td>Austria</td>\n",
       "      <td>Europe</td>\n",
       "    </tr>\n",
       "    <tr>\n",
       "      <th>4</th>\n",
       "      <td>Belgian</td>\n",
       "      <td>0.000774</td>\n",
       "      <td>BE</td>\n",
       "      <td>EU</td>\n",
       "      <td>Belgium</td>\n",
       "      <td>Europe</td>\n",
       "    </tr>\n",
       "    <tr>\n",
       "      <th>5</th>\n",
       "      <td>Bulgarian</td>\n",
       "      <td>0.000035</td>\n",
       "      <td>BG</td>\n",
       "      <td>EU</td>\n",
       "      <td>Bulgaria</td>\n",
       "      <td>Europe</td>\n",
       "    </tr>\n",
       "    <tr>\n",
       "      <th>6</th>\n",
       "      <td>Canadian</td>\n",
       "      <td>0.000640</td>\n",
       "      <td>CA</td>\n",
       "      <td>NA</td>\n",
       "      <td>Canada</td>\n",
       "      <td>North America</td>\n",
       "    </tr>\n",
       "    <tr>\n",
       "      <th>7</th>\n",
       "      <td>Chinese</td>\n",
       "      <td>0.001939</td>\n",
       "      <td>CN</td>\n",
       "      <td>AS</td>\n",
       "      <td>China</td>\n",
       "      <td>Asia</td>\n",
       "    </tr>\n",
       "    <tr>\n",
       "      <th>8</th>\n",
       "      <td>Croatian</td>\n",
       "      <td>0.000134</td>\n",
       "      <td>HR</td>\n",
       "      <td>EU</td>\n",
       "      <td>Croatia</td>\n",
       "      <td>Europe</td>\n",
       "    </tr>\n",
       "    <tr>\n",
       "      <th>9</th>\n",
       "      <td>Danish</td>\n",
       "      <td>0.000585</td>\n",
       "      <td>DK</td>\n",
       "      <td>EU</td>\n",
       "      <td>Denmark</td>\n",
       "      <td>Europe</td>\n",
       "    </tr>\n",
       "    <tr>\n",
       "      <th>10</th>\n",
       "      <td>Egyptian</td>\n",
       "      <td>0.000015</td>\n",
       "      <td>EG</td>\n",
       "      <td>AF</td>\n",
       "      <td>Egypt</td>\n",
       "      <td>Africa</td>\n",
       "    </tr>\n",
       "    <tr>\n",
       "      <th>11</th>\n",
       "      <td>Ethiopian</td>\n",
       "      <td>0.000010</td>\n",
       "      <td>ET</td>\n",
       "      <td>AF</td>\n",
       "      <td>Ethiopia</td>\n",
       "      <td>Africa</td>\n",
       "    </tr>\n",
       "    <tr>\n",
       "      <th>12</th>\n",
       "      <td>Finnish</td>\n",
       "      <td>0.000050</td>\n",
       "      <td>FI</td>\n",
       "      <td>EU</td>\n",
       "      <td>Finland</td>\n",
       "      <td>Europe</td>\n",
       "    </tr>\n",
       "    <tr>\n",
       "      <th>13</th>\n",
       "      <td>French</td>\n",
       "      <td>0.102478</td>\n",
       "      <td>FR</td>\n",
       "      <td>EU</td>\n",
       "      <td>France</td>\n",
       "      <td>Europe</td>\n",
       "    </tr>\n",
       "    <tr>\n",
       "      <th>14</th>\n",
       "      <td>German</td>\n",
       "      <td>0.041107</td>\n",
       "      <td>DE</td>\n",
       "      <td>EU</td>\n",
       "      <td>Germany</td>\n",
       "      <td>Europe</td>\n",
       "    </tr>\n",
       "  </tbody>\n",
       "</table>\n",
       "</div>"
      ],
      "text/plain": [
       "       demonym  pct_country_NGA Country Continent Country Name Continent Name\n",
       "0     Albanian         0.000015      AL        EU      Albania         Europe\n",
       "1     Armenian         0.000005      AM        AS      Armenia           Asia\n",
       "2   Australian         0.000347      AU        OC    Australia        Oceania\n",
       "3     Austrian         0.001889      AT        EU      Austria         Europe\n",
       "4      Belgian         0.000774      BE        EU      Belgium         Europe\n",
       "5    Bulgarian         0.000035      BG        EU     Bulgaria         Europe\n",
       "6     Canadian         0.000640      CA        NA       Canada  North America\n",
       "7      Chinese         0.001939      CN        AS        China           Asia\n",
       "8     Croatian         0.000134      HR        EU      Croatia         Europe\n",
       "9       Danish         0.000585      DK        EU      Denmark         Europe\n",
       "10    Egyptian         0.000015      EG        AF        Egypt         Africa\n",
       "11   Ethiopian         0.000010      ET        AF     Ethiopia         Africa\n",
       "12     Finnish         0.000050      FI        EU      Finland         Europe\n",
       "13      French         0.102478      FR        EU       France         Europe\n",
       "14      German         0.041107      DE        EU      Germany         Europe"
      ]
     },
     "execution_count": 356,
     "metadata": {},
     "output_type": "execute_result"
    }
   ],
   "source": [
    "nonla_geographicStatistics.head(15)"
   ]
  },
  {
   "cell_type": "markdown",
   "metadata": {
    "pycharm": {
     "name": "#%% md\n"
    }
   },
   "source": [
    "### Proportion of Countries per Continent\n",
    "Real vs Non-LA Dataset Distributions"
   ]
  },
  {
   "cell_type": "code",
   "execution_count": 357,
   "metadata": {
    "tags": []
   },
   "outputs": [],
   "source": [
    "remove_from_index = ['non-transformable']\n",
    "total_by_continent.index = pd.Series(list(total_by_continent.index)).apply(lambda x: pc.convert_continent_code_to_continent_name(x) if x not in remove_from_index else x)"
   ]
  },
  {
   "cell_type": "code",
   "execution_count": 358,
   "metadata": {
    "tags": []
   },
   "outputs": [],
   "source": [
    "actual_proportion_of_countries = total_by_continent/ total_by_continent.sum()"
   ]
  },
  {
   "cell_type": "code",
   "execution_count": 359,
   "metadata": {
    "tags": []
   },
   "outputs": [],
   "source": [
    "total_by_continent = pd.DataFrame({'Countries':total_by_continent,'proportion_of_countries':actual_proportion_of_countries})"
   ]
  },
  {
   "cell_type": "code",
   "execution_count": 360,
   "metadata": {
    "collapsed": false,
    "jupyter": {
     "outputs_hidden": false
    },
    "pycharm": {
     "name": "#%%\n"
    },
    "tags": []
   },
   "outputs": [],
   "source": [
    "total_by_continent.name = 'Actual Distribution'"
   ]
  },
  {
   "cell_type": "code",
   "execution_count": 361,
   "metadata": {
    "tags": []
   },
   "outputs": [],
   "source": [
    "nonla_geographicStatistics['Continent'] = nonla_geographicStatistics['Continent'].replace('NA', 'NoA')"
   ]
  },
  {
   "cell_type": "code",
   "execution_count": 362,
   "metadata": {
    "collapsed": false,
    "jupyter": {
     "outputs_hidden": false
    },
    "pycharm": {
     "name": "#%%\n"
    },
    "tags": []
   },
   "outputs": [],
   "source": [
    "nonla_continentCounts = nonla_geographicStatistics.groupby('Continent Name').apply(lambda x: len(x))"
   ]
  },
  {
   "cell_type": "markdown",
   "metadata": {},
   "source": [
    " After using the demonym dataset to link the geographic naming Data\n",
    " with the pct_country_NGA data, some datapoints were lots. (sum of pct is now ~96%) and the number of countries was reduced to ~ 52 (one duplicate)"
   ]
  },
  {
   "cell_type": "code",
   "execution_count": 363,
   "metadata": {
    "collapsed": false,
    "jupyter": {
     "outputs_hidden": false
    },
    "pycharm": {
     "name": "#%%\n"
    },
    "tags": []
   },
   "outputs": [],
   "source": [
    "nonla_continentCounts.name = 'Countrys_in_Continents'"
   ]
  },
  {
   "cell_type": "code",
   "execution_count": 364,
   "metadata": {
    "tags": []
   },
   "outputs": [
    {
     "data": {
      "text/plain": [
       "Continent Name\n",
       "Africa            6\n",
       "Asia              6\n",
       "Europe           25\n",
       "North America     2\n",
       "Oceania           3\n",
       "Name: Countrys_in_Continents, dtype: int64"
      ]
     },
     "execution_count": 364,
     "metadata": {},
     "output_type": "execute_result"
    }
   ],
   "source": [
    "nonla_continentCounts"
   ]
  },
  {
   "cell_type": "markdown",
   "metadata": {},
   "source": [
    "#### Adding pct_continent_in_NGA to nonla_ContinentCounts using the pct_in_NGA column and Continent Name from nonla_geographicStatistics"
   ]
  },
  {
   "cell_type": "code",
   "execution_count": 365,
   "metadata": {
    "tags": []
   },
   "outputs": [],
   "source": [
    "pct_continent_NGA = nonla_geographicStatistics.groupby('Continent Name')['pct_country_NGA'].sum()"
   ]
  },
  {
   "cell_type": "code",
   "execution_count": 366,
   "metadata": {
    "tags": []
   },
   "outputs": [
    {
     "data": {
      "text/plain": [
       "Continent Name\n",
       "Africa           0.000233\n",
       "Asia             0.004086\n",
       "Europe           0.249498\n",
       "North America    0.705530\n",
       "Oceania          0.000362\n",
       "Name: pct_country_NGA, dtype: float64"
      ]
     },
     "execution_count": 366,
     "metadata": {},
     "output_type": "execute_result"
    }
   ],
   "source": [
    "pct_continent_NGA"
   ]
  },
  {
   "cell_type": "code",
   "execution_count": 367,
   "metadata": {
    "tags": []
   },
   "outputs": [
    {
     "data": {
      "text/plain": [
       "Continent Name\n",
       "Africa            6\n",
       "Asia              6\n",
       "Europe           25\n",
       "North America     2\n",
       "Oceania           3\n",
       "Name: Countrys_in_Continents, dtype: int64"
      ]
     },
     "execution_count": 367,
     "metadata": {},
     "output_type": "execute_result"
    }
   ],
   "source": [
    "nonla_continentCounts"
   ]
  },
  {
   "cell_type": "markdown",
   "metadata": {},
   "source": [
    "The goal is to make nonla_continentCounts a dataframe similar to total_by_continent and use this to measure distribution by geography"
   ]
  },
  {
   "cell_type": "code",
   "execution_count": 368,
   "metadata": {
    "tags": []
   },
   "outputs": [
    {
     "data": {
      "text/html": [
       "<div>\n",
       "<style scoped>\n",
       "    .dataframe tbody tr th:only-of-type {\n",
       "        vertical-align: middle;\n",
       "    }\n",
       "\n",
       "    .dataframe tbody tr th {\n",
       "        vertical-align: top;\n",
       "    }\n",
       "\n",
       "    .dataframe thead th {\n",
       "        text-align: right;\n",
       "    }\n",
       "</style>\n",
       "<table border=\"1\" class=\"dataframe\">\n",
       "  <thead>\n",
       "    <tr style=\"text-align: right;\">\n",
       "      <th></th>\n",
       "      <th>Countries</th>\n",
       "      <th>proportion_of_countries</th>\n",
       "    </tr>\n",
       "  </thead>\n",
       "  <tbody>\n",
       "    <tr>\n",
       "      <th>Africa</th>\n",
       "      <td>57</td>\n",
       "      <td>0.228916</td>\n",
       "    </tr>\n",
       "    <tr>\n",
       "      <th>Antarctica</th>\n",
       "      <td>2</td>\n",
       "      <td>0.008032</td>\n",
       "    </tr>\n",
       "    <tr>\n",
       "      <th>Asia</th>\n",
       "      <td>53</td>\n",
       "      <td>0.212851</td>\n",
       "    </tr>\n",
       "    <tr>\n",
       "      <th>Europe</th>\n",
       "      <td>50</td>\n",
       "      <td>0.200803</td>\n",
       "    </tr>\n",
       "    <tr>\n",
       "      <th>North America</th>\n",
       "      <td>40</td>\n",
       "      <td>0.160643</td>\n",
       "    </tr>\n",
       "    <tr>\n",
       "      <th>Oceania</th>\n",
       "      <td>24</td>\n",
       "      <td>0.096386</td>\n",
       "    </tr>\n",
       "    <tr>\n",
       "      <th>South America</th>\n",
       "      <td>15</td>\n",
       "      <td>0.060241</td>\n",
       "    </tr>\n",
       "    <tr>\n",
       "      <th>non-transformable</th>\n",
       "      <td>8</td>\n",
       "      <td>0.032129</td>\n",
       "    </tr>\n",
       "  </tbody>\n",
       "</table>\n",
       "</div>"
      ],
      "text/plain": [
       "                   Countries  proportion_of_countries\n",
       "Africa                    57                 0.228916\n",
       "Antarctica                 2                 0.008032\n",
       "Asia                      53                 0.212851\n",
       "Europe                    50                 0.200803\n",
       "North America             40                 0.160643\n",
       "Oceania                   24                 0.096386\n",
       "South America             15                 0.060241\n",
       "non-transformable          8                 0.032129"
      ]
     },
     "execution_count": 368,
     "metadata": {},
     "output_type": "execute_result"
    }
   ],
   "source": [
    "total_by_continent"
   ]
  },
  {
   "cell_type": "markdown",
   "metadata": {},
   "source": [
    "#### No artists in the NGA dataset were credited as having Antarctic/South American (after LatinAmerican data was removed) nationality & the non-transformable index was leftover from try-catching the PyCountry transformation of ISO codes, so they will be removed."
   ]
  },
  {
   "cell_type": "code",
   "execution_count": 369,
   "metadata": {
    "tags": []
   },
   "outputs": [],
   "source": [
    "total_by_continent.drop('Antarctica', inplace=True)\n",
    "\n",
    "total_by_continent.drop('non-transformable', inplace=True)\n",
    "\n",
    "total_by_continent.drop('South America', inplace=True)"
   ]
  },
  {
   "cell_type": "code",
   "execution_count": 370,
   "metadata": {
    "collapsed": false,
    "jupyter": {
     "outputs_hidden": false
    },
    "pycharm": {
     "name": "#%%\n"
    },
    "tags": []
   },
   "outputs": [],
   "source": [
    "nonla_continentCounts = pd.DataFrame({'countries_present':nonla_continentCounts, 'proportion_of_continent': (nonla_continentCounts / total_by_continent['Countries'])})"
   ]
  },
  {
   "cell_type": "markdown",
   "metadata": {},
   "source": [
    "#### This table shows world-wide share of countries and their proportion out of the total number of countries."
   ]
  },
  {
   "cell_type": "code",
   "execution_count": 371,
   "metadata": {
    "tags": []
   },
   "outputs": [
    {
     "data": {
      "text/html": [
       "<div>\n",
       "<style scoped>\n",
       "    .dataframe tbody tr th:only-of-type {\n",
       "        vertical-align: middle;\n",
       "    }\n",
       "\n",
       "    .dataframe tbody tr th {\n",
       "        vertical-align: top;\n",
       "    }\n",
       "\n",
       "    .dataframe thead th {\n",
       "        text-align: right;\n",
       "    }\n",
       "</style>\n",
       "<table border=\"1\" class=\"dataframe\">\n",
       "  <thead>\n",
       "    <tr style=\"text-align: right;\">\n",
       "      <th></th>\n",
       "      <th>Countries</th>\n",
       "      <th>proportion_of_countries</th>\n",
       "    </tr>\n",
       "  </thead>\n",
       "  <tbody>\n",
       "    <tr>\n",
       "      <th>Africa</th>\n",
       "      <td>57</td>\n",
       "      <td>0.228916</td>\n",
       "    </tr>\n",
       "    <tr>\n",
       "      <th>Asia</th>\n",
       "      <td>53</td>\n",
       "      <td>0.212851</td>\n",
       "    </tr>\n",
       "    <tr>\n",
       "      <th>Europe</th>\n",
       "      <td>50</td>\n",
       "      <td>0.200803</td>\n",
       "    </tr>\n",
       "    <tr>\n",
       "      <th>North America</th>\n",
       "      <td>40</td>\n",
       "      <td>0.160643</td>\n",
       "    </tr>\n",
       "    <tr>\n",
       "      <th>Oceania</th>\n",
       "      <td>24</td>\n",
       "      <td>0.096386</td>\n",
       "    </tr>\n",
       "  </tbody>\n",
       "</table>\n",
       "</div>"
      ],
      "text/plain": [
       "               Countries  proportion_of_countries\n",
       "Africa                57                 0.228916\n",
       "Asia                  53                 0.212851\n",
       "Europe                50                 0.200803\n",
       "North America         40                 0.160643\n",
       "Oceania               24                 0.096386"
      ]
     },
     "execution_count": 371,
     "metadata": {},
     "output_type": "execute_result"
    }
   ],
   "source": [
    "total_by_continent"
   ]
  },
  {
   "cell_type": "markdown",
   "metadata": {},
   "source": [
    "#### This table shows countries and continents present in the NGA dataset and the proportion of countries present from the continent. (e.g. 50% of countries from europe are not present in the NGA)"
   ]
  },
  {
   "cell_type": "code",
   "execution_count": 372,
   "metadata": {
    "tags": []
   },
   "outputs": [],
   "source": [
    "nonla_continentCounts['pct_continent_NGA'] = pct_continent_NGA"
   ]
  },
  {
   "cell_type": "code",
   "execution_count": 373,
   "metadata": {
    "tags": []
   },
   "outputs": [
    {
     "data": {
      "text/html": [
       "<div>\n",
       "<style scoped>\n",
       "    .dataframe tbody tr th:only-of-type {\n",
       "        vertical-align: middle;\n",
       "    }\n",
       "\n",
       "    .dataframe tbody tr th {\n",
       "        vertical-align: top;\n",
       "    }\n",
       "\n",
       "    .dataframe thead th {\n",
       "        text-align: right;\n",
       "    }\n",
       "</style>\n",
       "<table border=\"1\" class=\"dataframe\">\n",
       "  <thead>\n",
       "    <tr style=\"text-align: right;\">\n",
       "      <th></th>\n",
       "      <th>countries_present</th>\n",
       "      <th>proportion_of_continent</th>\n",
       "      <th>pct_continent_NGA</th>\n",
       "    </tr>\n",
       "    <tr>\n",
       "      <th>Continent Name</th>\n",
       "      <th></th>\n",
       "      <th></th>\n",
       "      <th></th>\n",
       "    </tr>\n",
       "  </thead>\n",
       "  <tbody>\n",
       "    <tr>\n",
       "      <th>Africa</th>\n",
       "      <td>6</td>\n",
       "      <td>0.105263</td>\n",
       "      <td>0.000233</td>\n",
       "    </tr>\n",
       "    <tr>\n",
       "      <th>Asia</th>\n",
       "      <td>6</td>\n",
       "      <td>0.113208</td>\n",
       "      <td>0.004086</td>\n",
       "    </tr>\n",
       "    <tr>\n",
       "      <th>Europe</th>\n",
       "      <td>25</td>\n",
       "      <td>0.500000</td>\n",
       "      <td>0.249498</td>\n",
       "    </tr>\n",
       "    <tr>\n",
       "      <th>North America</th>\n",
       "      <td>2</td>\n",
       "      <td>0.050000</td>\n",
       "      <td>0.705530</td>\n",
       "    </tr>\n",
       "    <tr>\n",
       "      <th>Oceania</th>\n",
       "      <td>3</td>\n",
       "      <td>0.125000</td>\n",
       "      <td>0.000362</td>\n",
       "    </tr>\n",
       "  </tbody>\n",
       "</table>\n",
       "</div>"
      ],
      "text/plain": [
       "                countries_present  proportion_of_continent  pct_continent_NGA\n",
       "Continent Name                                                               \n",
       "Africa                          6                 0.105263           0.000233\n",
       "Asia                            6                 0.113208           0.004086\n",
       "Europe                         25                 0.500000           0.249498\n",
       "North America                   2                 0.050000           0.705530\n",
       "Oceania                         3                 0.125000           0.000362"
      ]
     },
     "execution_count": 373,
     "metadata": {},
     "output_type": "execute_result"
    }
   ],
   "source": [
    "nonla_continentCounts"
   ]
  },
  {
   "cell_type": "markdown",
   "metadata": {},
   "source": [
    "#### To find out how many continents are not included in the NGA dataset, I will subtract the total for ALL countries included in the PyCountry library, and subtract the countries visible within the dataset per continent. The different will be called nonla_continentCounts_missing."
   ]
  },
  {
   "cell_type": "code",
   "execution_count": 374,
   "metadata": {
    "collapsed": false,
    "jupyter": {
     "outputs_hidden": false
    },
    "pycharm": {
     "name": "#%%\n"
    },
    "tags": []
   },
   "outputs": [],
   "source": [
    "nonla_continentCounts_missing = total_by_continent['Countries'] - nonla_continentCounts['countries_present']"
   ]
  },
  {
   "cell_type": "code",
   "execution_count": 375,
   "metadata": {
    "tags": []
   },
   "outputs": [],
   "source": [
    "nonla_continentCounts_missing.name = 'Missing_from_Actual_Distribution'"
   ]
  },
  {
   "cell_type": "code",
   "execution_count": 376,
   "metadata": {
    "tags": []
   },
   "outputs": [],
   "source": [
    "nonla_continentCounts_missing = pd.DataFrame({'countries_missing':nonla_continentCounts_missing, 'proportion_of_continent': (nonla_continentCounts_missing / total_by_continent['Countries'])})"
   ]
  },
  {
   "cell_type": "code",
   "execution_count": 381,
   "metadata": {
    "tags": []
   },
   "outputs": [],
   "source": [
    "nonla_continentCounts_missing = nonla_continentCounts_missing.reset_index(drop=False)"
   ]
  },
  {
   "cell_type": "code",
   "execution_count": 383,
   "metadata": {
    "tags": []
   },
   "outputs": [],
   "source": [
    "nonla_continentCounts_missing.columns = ['Continent Name', 'countries_missing', 'proportion_of_continent']"
   ]
  },
  {
   "cell_type": "markdown",
   "metadata": {},
   "source": [
    "#### The number of columns before adding information about the specific geographical details of the artists' nationalities as well as additional statistical information about the countries and continents representation within the dataset"
   ]
  },
  {
   "cell_type": "code",
   "execution_count": 385,
   "metadata": {
    "tags": []
   },
   "outputs": [],
   "source": [
    "nonla_geographicStatistics = pd.merge(nonla_geographicStatistics, nonla_continentCounts_missing.loc[:, ['Continent Name','countries_missing']], how='inner', on='Continent Name')"
   ]
  },
  {
   "cell_type": "code",
   "execution_count": 386,
   "metadata": {
    "tags": []
   },
   "outputs": [],
   "source": [
    "nonla_continentCounts.reset_index(drop=False, inplace=True)"
   ]
  },
  {
   "cell_type": "code",
   "execution_count": 387,
   "metadata": {},
   "outputs": [],
   "source": [
    "nonla_geographicStatistics = pd.merge(nonla_continentCounts, nonla_geographicStatistics, on='Continent Name')"
   ]
  },
  {
   "cell_type": "code",
   "execution_count": 389,
   "metadata": {
    "tags": []
   },
   "outputs": [
    {
     "data": {
      "text/plain": [
       "(463799, 40)"
      ]
     },
     "execution_count": 389,
     "metadata": {},
     "output_type": "execute_result"
    }
   ],
   "source": [
    "non_latinamerican_art.shape"
   ]
  },
  {
   "cell_type": "markdown",
   "metadata": {},
   "source": [
    "I will merge the information about the missing continent/country data with the information about the data which is contained and use this to track if there is a naming issue causing datapoints to be dropped and non-EU or non-NA images and artists to not be included in the dataset - this is a given as I have noticed artists from asian and african countries featured in the NGA but that are now missing"
   ]
  },
  {
   "cell_type": "code",
   "execution_count": 390,
   "metadata": {
    "tags": []
   },
   "outputs": [],
   "source": [
    "#inner join of nonla_geographicStatistics and non_latinamerican_art\n",
    "non_latinamerican_art = pd.merge(non_latinamerican_art, nonla_geographicStatistics, how='inner',left_on='nationality', right_on='demonym')"
   ]
  },
  {
   "cell_type": "markdown",
   "metadata": {
    "tags": []
   },
   "source": [
    "#### Feature Engineering IIIFUrl Links to view the data at the desired resolution"
   ]
  },
  {
   "cell_type": "code",
   "execution_count": 393,
   "metadata": {
    "tags": []
   },
   "outputs": [],
   "source": [
    "#converts the iiifurl to return the full image size\n",
    "non_latinamerican_art['expanded_url'] = non_latinamerican_art.iiifthumburl.apply(lambda x: x.replace('!200,200', '!640,640'))"
   ]
  },
  {
   "cell_type": "code",
   "execution_count": 394,
   "metadata": {
    "tags": []
   },
   "outputs": [
    {
     "data": {
      "text/plain": [
       "(387064, 51)"
      ]
     },
     "execution_count": 394,
     "metadata": {},
     "output_type": "execute_result"
    }
   ],
   "source": [
    "non_latinamerican_art.shape"
   ]
  },
  {
   "cell_type": "markdown",
   "metadata": {},
   "source": [
    "After merging the main non_latinamerican_art dataset with the external geographical information that I created, I will write the updated dataset back to the original filepath and overwrite it as it contains valuable information"
   ]
  },
  {
   "cell_type": "code",
   "execution_count": 73,
   "metadata": {
    "tags": []
   },
   "outputs": [
    {
     "data": {
      "text/html": [
       "<div>\n",
       "<style scoped>\n",
       "    .dataframe tbody tr th:only-of-type {\n",
       "        vertical-align: middle;\n",
       "    }\n",
       "\n",
       "    .dataframe tbody tr th {\n",
       "        vertical-align: top;\n",
       "    }\n",
       "\n",
       "    .dataframe thead th {\n",
       "        text-align: right;\n",
       "    }\n",
       "</style>\n",
       "<table border=\"1\" class=\"dataframe\">\n",
       "  <thead>\n",
       "    <tr style=\"text-align: right;\">\n",
       "      <th></th>\n",
       "      <th>uuid</th>\n",
       "      <th>iiifurl</th>\n",
       "      <th>iiifthumburl</th>\n",
       "      <th>accessioned</th>\n",
       "      <th>title</th>\n",
       "      <th>displayDate_created</th>\n",
       "      <th>roletype</th>\n",
       "      <th>role</th>\n",
       "      <th>forwarddisplayname</th>\n",
       "      <th>birthyear</th>\n",
       "      <th>...</th>\n",
       "      <th>constituentid</th>\n",
       "      <th>Continent Name</th>\n",
       "      <th>countries_present</th>\n",
       "      <th>proportion_of_continent</th>\n",
       "      <th>pct_continent_NGA</th>\n",
       "      <th>demonym</th>\n",
       "      <th>pct_country_NGA</th>\n",
       "      <th>Country</th>\n",
       "      <th>Continent</th>\n",
       "      <th>Country Name</th>\n",
       "    </tr>\n",
       "  </thead>\n",
       "  <tbody>\n",
       "    <tr>\n",
       "      <th>0</th>\n",
       "      <td>00004dec-8300-4487-8d89-562d0126b6a1</td>\n",
       "      <td>https://api.nga.gov/iiif/00004dec-8300-4487-8d...</td>\n",
       "      <td>https://api.nga.gov/iiif/00004dec-8300-4487-8d...</td>\n",
       "      <td>1</td>\n",
       "      <td>First Book: Daphnis Playing His Pipe for Chloe...</td>\n",
       "      <td>French, 1861 - 1944</td>\n",
       "      <td>artist</td>\n",
       "      <td>artist</td>\n",
       "      <td>Aristide Maillol</td>\n",
       "      <td>1861.0</td>\n",
       "      <td>...</td>\n",
       "      <td>2163.0</td>\n",
       "      <td>Europe</td>\n",
       "      <td>25</td>\n",
       "      <td>0.5</td>\n",
       "      <td>0.249498</td>\n",
       "      <td>French</td>\n",
       "      <td>0.102478</td>\n",
       "      <td>FR</td>\n",
       "      <td>EU</td>\n",
       "      <td>France</td>\n",
       "    </tr>\n",
       "    <tr>\n",
       "      <th>1</th>\n",
       "      <td>00004dec-8300-4487-8d89-562d0126b6a1</td>\n",
       "      <td>https://api.nga.gov/iiif/00004dec-8300-4487-8d...</td>\n",
       "      <td>https://api.nga.gov/iiif/00004dec-8300-4487-8d...</td>\n",
       "      <td>1</td>\n",
       "      <td>First Book: Daphnis Playing His Pipe for Chloe...</td>\n",
       "      <td>French, 1861 - 1944</td>\n",
       "      <td>artist</td>\n",
       "      <td>artist</td>\n",
       "      <td>Aristide Maillol</td>\n",
       "      <td>1861.0</td>\n",
       "      <td>...</td>\n",
       "      <td>2163.0</td>\n",
       "      <td>Europe</td>\n",
       "      <td>25</td>\n",
       "      <td>0.5</td>\n",
       "      <td>0.249498</td>\n",
       "      <td>French</td>\n",
       "      <td>0.102478</td>\n",
       "      <td>FR</td>\n",
       "      <td>EU</td>\n",
       "      <td>France</td>\n",
       "    </tr>\n",
       "    <tr>\n",
       "      <th>2</th>\n",
       "      <td>00018ee2-2b87-444d-afbf-b5d916306d2b</td>\n",
       "      <td>https://api.nga.gov/iiif/00018ee2-2b87-444d-af...</td>\n",
       "      <td>https://api.nga.gov/iiif/00018ee2-2b87-444d-af...</td>\n",
       "      <td>1</td>\n",
       "      <td>Rose and Romaine</td>\n",
       "      <td>French, 1890 - 1968</td>\n",
       "      <td>artist</td>\n",
       "      <td>artist</td>\n",
       "      <td>Valentine Hugo</td>\n",
       "      <td>1890.0</td>\n",
       "      <td>...</td>\n",
       "      <td>4397.0</td>\n",
       "      <td>Europe</td>\n",
       "      <td>25</td>\n",
       "      <td>0.5</td>\n",
       "      <td>0.249498</td>\n",
       "      <td>French</td>\n",
       "      <td>0.102478</td>\n",
       "      <td>FR</td>\n",
       "      <td>EU</td>\n",
       "      <td>France</td>\n",
       "    </tr>\n",
       "    <tr>\n",
       "      <th>3</th>\n",
       "      <td>00018ee2-2b87-444d-afbf-b5d916306d2b</td>\n",
       "      <td>https://api.nga.gov/iiif/00018ee2-2b87-444d-af...</td>\n",
       "      <td>https://api.nga.gov/iiif/00018ee2-2b87-444d-af...</td>\n",
       "      <td>1</td>\n",
       "      <td>Rose and Romaine</td>\n",
       "      <td>French, 1890 - 1968</td>\n",
       "      <td>artist</td>\n",
       "      <td>artist</td>\n",
       "      <td>Valentine Hugo</td>\n",
       "      <td>1890.0</td>\n",
       "      <td>...</td>\n",
       "      <td>4397.0</td>\n",
       "      <td>Europe</td>\n",
       "      <td>25</td>\n",
       "      <td>0.5</td>\n",
       "      <td>0.249498</td>\n",
       "      <td>French</td>\n",
       "      <td>0.102478</td>\n",
       "      <td>FR</td>\n",
       "      <td>EU</td>\n",
       "      <td>France</td>\n",
       "    </tr>\n",
       "    <tr>\n",
       "      <th>4</th>\n",
       "      <td>0002991a-98fa-42bd-bb33-fd0e2ff1ed1f</td>\n",
       "      <td>https://api.nga.gov/iiif/0002991a-98fa-42bd-bb...</td>\n",
       "      <td>https://api.nga.gov/iiif/0002991a-98fa-42bd-bb...</td>\n",
       "      <td>1</td>\n",
       "      <td>Fourth Book: Daphnis Plays to His Goats (Daphn...</td>\n",
       "      <td>French, 1861 - 1944</td>\n",
       "      <td>artist</td>\n",
       "      <td>artist</td>\n",
       "      <td>Aristide Maillol</td>\n",
       "      <td>1861.0</td>\n",
       "      <td>...</td>\n",
       "      <td>2163.0</td>\n",
       "      <td>Europe</td>\n",
       "      <td>25</td>\n",
       "      <td>0.5</td>\n",
       "      <td>0.249498</td>\n",
       "      <td>French</td>\n",
       "      <td>0.102478</td>\n",
       "      <td>FR</td>\n",
       "      <td>EU</td>\n",
       "      <td>France</td>\n",
       "    </tr>\n",
       "  </tbody>\n",
       "</table>\n",
       "<p>5 rows × 49 columns</p>\n",
       "</div>"
      ],
      "text/plain": [
       "                                   uuid  \\\n",
       "0  00004dec-8300-4487-8d89-562d0126b6a1   \n",
       "1  00004dec-8300-4487-8d89-562d0126b6a1   \n",
       "2  00018ee2-2b87-444d-afbf-b5d916306d2b   \n",
       "3  00018ee2-2b87-444d-afbf-b5d916306d2b   \n",
       "4  0002991a-98fa-42bd-bb33-fd0e2ff1ed1f   \n",
       "\n",
       "                                             iiifurl  \\\n",
       "0  https://api.nga.gov/iiif/00004dec-8300-4487-8d...   \n",
       "1  https://api.nga.gov/iiif/00004dec-8300-4487-8d...   \n",
       "2  https://api.nga.gov/iiif/00018ee2-2b87-444d-af...   \n",
       "3  https://api.nga.gov/iiif/00018ee2-2b87-444d-af...   \n",
       "4  https://api.nga.gov/iiif/0002991a-98fa-42bd-bb...   \n",
       "\n",
       "                                        iiifthumburl  accessioned  \\\n",
       "0  https://api.nga.gov/iiif/00004dec-8300-4487-8d...            1   \n",
       "1  https://api.nga.gov/iiif/00004dec-8300-4487-8d...            1   \n",
       "2  https://api.nga.gov/iiif/00018ee2-2b87-444d-af...            1   \n",
       "3  https://api.nga.gov/iiif/00018ee2-2b87-444d-af...            1   \n",
       "4  https://api.nga.gov/iiif/0002991a-98fa-42bd-bb...            1   \n",
       "\n",
       "                                               title  displayDate_created  \\\n",
       "0  First Book: Daphnis Playing His Pipe for Chloe...  French, 1861 - 1944   \n",
       "1  First Book: Daphnis Playing His Pipe for Chloe...  French, 1861 - 1944   \n",
       "2                                   Rose and Romaine  French, 1890 - 1968   \n",
       "3                                   Rose and Romaine  French, 1890 - 1968   \n",
       "4  Fourth Book: Daphnis Plays to His Goats (Daphn...  French, 1861 - 1944   \n",
       "\n",
       "  roletype    role forwarddisplayname  birthyear  ...  constituentid  \\\n",
       "0   artist  artist   Aristide Maillol     1861.0  ...         2163.0   \n",
       "1   artist  artist   Aristide Maillol     1861.0  ...         2163.0   \n",
       "2   artist  artist     Valentine Hugo     1890.0  ...         4397.0   \n",
       "3   artist  artist     Valentine Hugo     1890.0  ...         4397.0   \n",
       "4   artist  artist   Aristide Maillol     1861.0  ...         2163.0   \n",
       "\n",
       "   Continent Name  countries_present proportion_of_continent  \\\n",
       "0          Europe                 25                     0.5   \n",
       "1          Europe                 25                     0.5   \n",
       "2          Europe                 25                     0.5   \n",
       "3          Europe                 25                     0.5   \n",
       "4          Europe                 25                     0.5   \n",
       "\n",
       "  pct_continent_NGA  demonym  pct_country_NGA Country  Continent Country Name  \n",
       "0          0.249498   French         0.102478      FR         EU       France  \n",
       "1          0.249498   French         0.102478      FR         EU       France  \n",
       "2          0.249498   French         0.102478      FR         EU       France  \n",
       "3          0.249498   French         0.102478      FR         EU       France  \n",
       "4          0.249498   French         0.102478      FR         EU       France  \n",
       "\n",
       "[5 rows x 49 columns]"
      ]
     },
     "execution_count": 73,
     "metadata": {},
     "output_type": "execute_result"
    }
   ],
   "source": [
    "non_latinamerican_art.head()"
   ]
  },
  {
   "cell_type": "markdown",
   "metadata": {},
   "source": [
    "### Step 3 - Sampling from the large dataset for batch training"
   ]
  },
  {
   "cell_type": "code",
   "execution_count": 306,
   "metadata": {
    "collapsed": false,
    "jupyter": {
     "outputs_hidden": false
    },
    "pycharm": {
     "name": "#%%\n"
    },
    "tags": []
   },
   "outputs": [],
   "source": [
    "#Sampling from the full dataset, 30970 rows for training (0.08%) & 3960 (0.02%) for validation/testing == 34930 for one iteration of sample (1/10 of total dataset) // make sure not being selected with replacement to remove duplicates\n",
    "matching_distribution = np.random.choice(non_latinamerican_art.index, p= non_latinamerican_art.pct_country_NGA / non_latinamerican_art.pct_country_NGA.sum(), size=34930, replace=False)"
   ]
  },
  {
   "cell_type": "code",
   "execution_count": 307,
   "metadata": {
    "collapsed": false,
    "jupyter": {
     "outputs_hidden": false
    },
    "pycharm": {
     "name": "#%%\n"
    },
    "tags": []
   },
   "outputs": [],
   "source": [
    "index_matching = list(matching_distribution)"
   ]
  },
  {
   "cell_type": "code",
   "execution_count": 308,
   "metadata": {
    "collapsed": false,
    "jupyter": {
     "outputs_hidden": false
    },
    "pycharm": {
     "name": "#%%\n"
    },
    "tags": []
   },
   "outputs": [],
   "source": [
    "subsample_nonla = non_latinamerican_art.iloc[index_matching, :]"
   ]
  },
  {
   "cell_type": "code",
   "execution_count": 309,
   "metadata": {
    "collapsed": false,
    "jupyter": {
     "outputs_hidden": false
    },
    "pycharm": {
     "name": "#%%\n"
    },
    "tags": []
   },
   "outputs": [],
   "source": [
    "subsample_geography = subsample_nonla.groupby('Country Name').apply(lambda x: len(x))"
   ]
  },
  {
   "cell_type": "code",
   "execution_count": 310,
   "metadata": {
    "collapsed": false,
    "jupyter": {
     "outputs_hidden": false
    },
    "pycharm": {
     "name": "#%%\n"
    },
    "tags": []
   },
   "outputs": [
    {
     "data": {
      "text/plain": [
       "Country Name\n",
       "France              763\n",
       "Germany             139\n",
       "Italy               154\n",
       "Netherlands          22\n",
       "Spain                 1\n",
       "Switzerland           1\n",
       "United Kingdom       62\n",
       "United States     33788\n",
       "dtype: int64"
      ]
     },
     "execution_count": 310,
     "metadata": {},
     "output_type": "execute_result"
    }
   ],
   "source": [
    "subsample_geography"
   ]
  },
  {
   "cell_type": "code",
   "execution_count": 311,
   "metadata": {
    "collapsed": false,
    "jupyter": {
     "outputs_hidden": false
    },
    "pycharm": {
     "name": "#%%\n"
    },
    "tags": []
   },
   "outputs": [],
   "source": [
    "subsample_geography = pd.DataFrame({'counts': subsample_geography,'proportion':subsample_geography / subsample_geography.sum()})"
   ]
  },
  {
   "cell_type": "markdown",
   "metadata": {
    "pycharm": {
     "name": "#%% md\n"
    }
   },
   "source": [
    "### Using the normalized probabilities in pct_continent_NGA to sample 10%, made the sample a little less representative to overall dataset. Since this is only a 10% sample, it is not fully representative, but I expect to train with more samples/batches."
   ]
  },
  {
   "cell_type": "code",
   "execution_count": 312,
   "metadata": {
    "collapsed": false,
    "jupyter": {
     "outputs_hidden": false
    },
    "pycharm": {
     "name": "#%%\n"
    },
    "tags": []
   },
   "outputs": [
    {
     "data": {
      "text/html": [
       "<div>\n",
       "<style scoped>\n",
       "    .dataframe tbody tr th:only-of-type {\n",
       "        vertical-align: middle;\n",
       "    }\n",
       "\n",
       "    .dataframe tbody tr th {\n",
       "        vertical-align: top;\n",
       "    }\n",
       "\n",
       "    .dataframe thead th {\n",
       "        text-align: right;\n",
       "    }\n",
       "</style>\n",
       "<table border=\"1\" class=\"dataframe\">\n",
       "  <thead>\n",
       "    <tr style=\"text-align: right;\">\n",
       "      <th></th>\n",
       "      <th>counts</th>\n",
       "      <th>proportion</th>\n",
       "    </tr>\n",
       "    <tr>\n",
       "      <th>Country Name</th>\n",
       "      <th></th>\n",
       "      <th></th>\n",
       "    </tr>\n",
       "  </thead>\n",
       "  <tbody>\n",
       "    <tr>\n",
       "      <th>United States</th>\n",
       "      <td>33788</td>\n",
       "      <td>0.967306</td>\n",
       "    </tr>\n",
       "    <tr>\n",
       "      <th>France</th>\n",
       "      <td>763</td>\n",
       "      <td>0.021844</td>\n",
       "    </tr>\n",
       "    <tr>\n",
       "      <th>Italy</th>\n",
       "      <td>154</td>\n",
       "      <td>0.004409</td>\n",
       "    </tr>\n",
       "    <tr>\n",
       "      <th>Germany</th>\n",
       "      <td>139</td>\n",
       "      <td>0.003979</td>\n",
       "    </tr>\n",
       "    <tr>\n",
       "      <th>United Kingdom</th>\n",
       "      <td>62</td>\n",
       "      <td>0.001775</td>\n",
       "    </tr>\n",
       "    <tr>\n",
       "      <th>Netherlands</th>\n",
       "      <td>22</td>\n",
       "      <td>0.000630</td>\n",
       "    </tr>\n",
       "    <tr>\n",
       "      <th>Spain</th>\n",
       "      <td>1</td>\n",
       "      <td>0.000029</td>\n",
       "    </tr>\n",
       "    <tr>\n",
       "      <th>Switzerland</th>\n",
       "      <td>1</td>\n",
       "      <td>0.000029</td>\n",
       "    </tr>\n",
       "  </tbody>\n",
       "</table>\n",
       "</div>"
      ],
      "text/plain": [
       "                counts  proportion\n",
       "Country Name                      \n",
       "United States    33788    0.967306\n",
       "France             763    0.021844\n",
       "Italy              154    0.004409\n",
       "Germany            139    0.003979\n",
       "United Kingdom      62    0.001775\n",
       "Netherlands         22    0.000630\n",
       "Spain                1    0.000029\n",
       "Switzerland          1    0.000029"
      ]
     },
     "execution_count": 312,
     "metadata": {},
     "output_type": "execute_result"
    }
   ],
   "source": [
    "subsample_geography.sort_values(by='proportion', ascending=False)"
   ]
  },
  {
   "cell_type": "code",
   "execution_count": 396,
   "metadata": {
    "collapsed": false,
    "jupyter": {
     "outputs_hidden": false
    },
    "pycharm": {
     "name": "#%%\n"
    },
    "tags": []
   },
   "outputs": [
    {
     "data": {
      "text/html": [
       "<div>\n",
       "<style scoped>\n",
       "    .dataframe tbody tr th:only-of-type {\n",
       "        vertical-align: middle;\n",
       "    }\n",
       "\n",
       "    .dataframe tbody tr th {\n",
       "        vertical-align: top;\n",
       "    }\n",
       "\n",
       "    .dataframe thead th {\n",
       "        text-align: right;\n",
       "    }\n",
       "</style>\n",
       "<table border=\"1\" class=\"dataframe\">\n",
       "  <thead>\n",
       "    <tr style=\"text-align: right;\">\n",
       "      <th></th>\n",
       "      <th>Continent Name</th>\n",
       "      <th>countries_present</th>\n",
       "      <th>proportion_of_continent</th>\n",
       "      <th>pct_continent_NGA</th>\n",
       "      <th>demonym</th>\n",
       "      <th>pct_country_NGA</th>\n",
       "      <th>Country</th>\n",
       "      <th>Continent</th>\n",
       "      <th>Country Name</th>\n",
       "      <th>countries_missing</th>\n",
       "    </tr>\n",
       "  </thead>\n",
       "  <tbody>\n",
       "    <tr>\n",
       "      <th>38</th>\n",
       "      <td>North America</td>\n",
       "      <td>2</td>\n",
       "      <td>0.050000</td>\n",
       "      <td>0.705530</td>\n",
       "      <td>American</td>\n",
       "      <td>0.704890</td>\n",
       "      <td>US</td>\n",
       "      <td>NoA</td>\n",
       "      <td>United States</td>\n",
       "      <td>38</td>\n",
       "    </tr>\n",
       "    <tr>\n",
       "      <th>19</th>\n",
       "      <td>Europe</td>\n",
       "      <td>25</td>\n",
       "      <td>0.500000</td>\n",
       "      <td>0.249498</td>\n",
       "      <td>French</td>\n",
       "      <td>0.102478</td>\n",
       "      <td>FR</td>\n",
       "      <td>EU</td>\n",
       "      <td>France</td>\n",
       "      <td>25</td>\n",
       "    </tr>\n",
       "    <tr>\n",
       "      <th>24</th>\n",
       "      <td>Europe</td>\n",
       "      <td>25</td>\n",
       "      <td>0.500000</td>\n",
       "      <td>0.249498</td>\n",
       "      <td>Italian</td>\n",
       "      <td>0.045463</td>\n",
       "      <td>IT</td>\n",
       "      <td>EU</td>\n",
       "      <td>Italy</td>\n",
       "      <td>25</td>\n",
       "    </tr>\n",
       "    <tr>\n",
       "      <th>20</th>\n",
       "      <td>Europe</td>\n",
       "      <td>25</td>\n",
       "      <td>0.500000</td>\n",
       "      <td>0.249498</td>\n",
       "      <td>German</td>\n",
       "      <td>0.041107</td>\n",
       "      <td>DE</td>\n",
       "      <td>EU</td>\n",
       "      <td>Germany</td>\n",
       "      <td>25</td>\n",
       "    </tr>\n",
       "    <tr>\n",
       "      <th>36</th>\n",
       "      <td>Europe</td>\n",
       "      <td>25</td>\n",
       "      <td>0.500000</td>\n",
       "      <td>0.249498</td>\n",
       "      <td>British</td>\n",
       "      <td>0.029466</td>\n",
       "      <td>GB</td>\n",
       "      <td>EU</td>\n",
       "      <td>United Kingdom</td>\n",
       "      <td>25</td>\n",
       "    </tr>\n",
       "    <tr>\n",
       "      <th>27</th>\n",
       "      <td>Europe</td>\n",
       "      <td>25</td>\n",
       "      <td>0.500000</td>\n",
       "      <td>0.249498</td>\n",
       "      <td>Dutch</td>\n",
       "      <td>0.016821</td>\n",
       "      <td>NL</td>\n",
       "      <td>EU</td>\n",
       "      <td>Netherlands</td>\n",
       "      <td>25</td>\n",
       "    </tr>\n",
       "    <tr>\n",
       "      <th>33</th>\n",
       "      <td>Europe</td>\n",
       "      <td>25</td>\n",
       "      <td>0.500000</td>\n",
       "      <td>0.249498</td>\n",
       "      <td>Spanish</td>\n",
       "      <td>0.003908</td>\n",
       "      <td>ES</td>\n",
       "      <td>EU</td>\n",
       "      <td>Spain</td>\n",
       "      <td>25</td>\n",
       "    </tr>\n",
       "    <tr>\n",
       "      <th>35</th>\n",
       "      <td>Europe</td>\n",
       "      <td>25</td>\n",
       "      <td>0.500000</td>\n",
       "      <td>0.249498</td>\n",
       "      <td>Swiss</td>\n",
       "      <td>0.003898</td>\n",
       "      <td>CH</td>\n",
       "      <td>EU</td>\n",
       "      <td>Switzerland</td>\n",
       "      <td>25</td>\n",
       "    </tr>\n",
       "    <tr>\n",
       "      <th>7</th>\n",
       "      <td>Asia</td>\n",
       "      <td>6</td>\n",
       "      <td>0.113208</td>\n",
       "      <td>0.004086</td>\n",
       "      <td>Chinese</td>\n",
       "      <td>0.001939</td>\n",
       "      <td>CN</td>\n",
       "      <td>AS</td>\n",
       "      <td>China</td>\n",
       "      <td>47</td>\n",
       "    </tr>\n",
       "    <tr>\n",
       "      <th>13</th>\n",
       "      <td>Europe</td>\n",
       "      <td>25</td>\n",
       "      <td>0.500000</td>\n",
       "      <td>0.249498</td>\n",
       "      <td>Austrian</td>\n",
       "      <td>0.001889</td>\n",
       "      <td>AT</td>\n",
       "      <td>EU</td>\n",
       "      <td>Austria</td>\n",
       "      <td>25</td>\n",
       "    </tr>\n",
       "  </tbody>\n",
       "</table>\n",
       "</div>"
      ],
      "text/plain": [
       "   Continent Name  countries_present  proportion_of_continent  \\\n",
       "38  North America                  2                 0.050000   \n",
       "19         Europe                 25                 0.500000   \n",
       "24         Europe                 25                 0.500000   \n",
       "20         Europe                 25                 0.500000   \n",
       "36         Europe                 25                 0.500000   \n",
       "27         Europe                 25                 0.500000   \n",
       "33         Europe                 25                 0.500000   \n",
       "35         Europe                 25                 0.500000   \n",
       "7            Asia                  6                 0.113208   \n",
       "13         Europe                 25                 0.500000   \n",
       "\n",
       "    pct_continent_NGA   demonym  pct_country_NGA Country Continent  \\\n",
       "38           0.705530  American         0.704890      US       NoA   \n",
       "19           0.249498    French         0.102478      FR        EU   \n",
       "24           0.249498   Italian         0.045463      IT        EU   \n",
       "20           0.249498    German         0.041107      DE        EU   \n",
       "36           0.249498   British         0.029466      GB        EU   \n",
       "27           0.249498     Dutch         0.016821      NL        EU   \n",
       "33           0.249498   Spanish         0.003908      ES        EU   \n",
       "35           0.249498     Swiss         0.003898      CH        EU   \n",
       "7            0.004086   Chinese         0.001939      CN        AS   \n",
       "13           0.249498  Austrian         0.001889      AT        EU   \n",
       "\n",
       "      Country Name  countries_missing  \n",
       "38   United States                 38  \n",
       "19          France                 25  \n",
       "24           Italy                 25  \n",
       "20         Germany                 25  \n",
       "36  United Kingdom                 25  \n",
       "27     Netherlands                 25  \n",
       "33           Spain                 25  \n",
       "35     Switzerland                 25  \n",
       "7            China                 47  \n",
       "13         Austria                 25  "
      ]
     },
     "execution_count": 396,
     "metadata": {},
     "output_type": "execute_result"
    }
   ],
   "source": [
    "nonla_geographicStatistics.sort_values(by='pct_country_NGA', ascending=False).head(10)"
   ]
  },
  {
   "cell_type": "markdown",
   "metadata": {},
   "source": [
    "### Step 3 - Outputting the final combined NGA/FE data"
   ]
  },
  {
   "cell_type": "code",
   "execution_count": 395,
   "metadata": {
    "tags": []
   },
   "outputs": [],
   "source": [
    "non_latinamerican_art.to_csv('../../../data_samples/art_tables/non_latinamerican_art.csv', index=False)"
   ]
  },
  {
   "cell_type": "code",
   "execution_count": 397,
   "metadata": {
    "tags": []
   },
   "outputs": [],
   "source": [
    "subsample_nonla.reset_index(drop=True, inplace=True)"
   ]
  },
  {
   "cell_type": "code",
   "execution_count": 399,
   "metadata": {
    "tags": []
   },
   "outputs": [],
   "source": [
    "nonla_geographicStatistics.to_csv('../../../data_samples/nonLaArt/nonla_geographicStatistics.csv', index=False)"
   ]
  },
  {
   "cell_type": "code",
   "execution_count": 400,
   "metadata": {
    "collapsed": false,
    "jupyter": {
     "outputs_hidden": false
    },
    "pycharm": {
     "name": "#%%\n"
    },
    "tags": []
   },
   "outputs": [],
   "source": [
    "subsample_nonla.to_csv('../../../data_samples/results/processed_subset_results/non_latinamericanart_sample.csv', index=False)"
   ]
  }
 ],
 "metadata": {
  "kernelspec": {
   "display_name": "Python 3 (ipykernel)",
   "language": "python",
   "name": "python3"
  },
  "language_info": {
   "codemirror_mode": {
    "name": "ipython",
    "version": 3
   },
   "file_extension": ".py",
   "mimetype": "text/x-python",
   "name": "python",
   "nbconvert_exporter": "python",
   "pygments_lexer": "ipython3",
   "version": "3.10.9"
  }
 },
 "nbformat": 4,
 "nbformat_minor": 4
}
