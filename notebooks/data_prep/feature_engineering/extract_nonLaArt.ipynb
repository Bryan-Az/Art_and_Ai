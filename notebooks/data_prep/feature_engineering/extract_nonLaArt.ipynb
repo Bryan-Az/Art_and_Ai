{
 "cells": [
  {
   "cell_type": "code",
   "execution_count": 3,
   "metadata": {
    "collapsed": false,
    "jupyter": {
     "outputs_hidden": false
    },
    "pycharm": {
     "name": "#%%\n"
    }
   },
   "outputs": [],
   "source": [
    "import pandas as pd\n",
    "import numpy as np\n",
    "import pycountry\n",
    "import pycountry_convert as pc\n",
    "import random"
   ]
  },
  {
   "cell_type": "markdown",
   "metadata": {},
   "source": [
    "### Step 1: Importing/Exporting of Data"
   ]
  },
  {
   "cell_type": "code",
   "execution_count": 4,
   "metadata": {
    "collapsed": false,
    "jupyter": {
     "outputs_hidden": false
    },
    "pycharm": {
     "name": "#%%\n"
    }
   },
   "outputs": [
    {
     "name": "stderr",
     "output_type": "stream",
     "text": [
      "/tmp/ipykernel_3542920/2677599048.py:2: DtypeWarning: Columns (11) have mixed types. Specify dtype option on import or set low_memory=False.\n",
      "  non_latinamerican_art = pd.read_csv('../../../data_samples/art_tables/non_latin_art.csv', on_bad_lines='skip')\n"
     ]
    }
   ],
   "source": [
    "#new version expects dtype on import however as of now only 1 row is impacted\n",
    "non_latinamerican_art = pd.read_csv('../../../data_samples/art_tables/non_latin_art.csv', on_bad_lines='skip')"
   ]
  },
  {
   "cell_type": "markdown",
   "metadata": {},
   "source": [
    " Saving this column to its' own dataframe will allow for the EDA notebook 'Geography and Demography' to be ran and utilized later"
   ]
  },
  {
   "cell_type": "code",
   "execution_count": 5,
   "metadata": {},
   "outputs": [],
   "source": [
    "#Saving the 'nationality' feature to the constituents nationalities CSV file\n",
    "non_latinamerican_art.nationality.to_csv('../../../data_samples/nonLaArt/constituents_nationalities.csv', index=False)"
   ]
  },
  {
   "cell_type": "markdown",
   "metadata": {},
   "source": [
    "### Step 2: of the La Art Pipeline - Feature Engineering new geographical features"
   ]
  },
  {
   "cell_type": "markdown",
   "metadata": {},
   "source": [
    "#### List of Continent Codes for Determining which non Latin American countries are present in the Gallery"
   ]
  },
  {
   "cell_type": "code",
   "execution_count": 6,
   "metadata": {},
   "outputs": [],
   "source": [
    "cname_alpha_2 = []\n",
    "cname_alpha_3 = []\n",
    "for country in pycountry.countries:\n",
    "    cname_alpha_2.append(country.alpha_2)\n",
    "    cname_alpha_3.append(country.alpha_3)"
   ]
  },
  {
   "cell_type": "code",
   "execution_count": 7,
   "metadata": {},
   "outputs": [],
   "source": [
    "cname_alpha_2 = pd.Series(cname_alpha_2)\n",
    "cname_alpha_3 = pd.Series(cname_alpha_3)"
   ]
  },
  {
   "cell_type": "code",
   "execution_count": 8,
   "metadata": {},
   "outputs": [],
   "source": [
    "error_list = ['AQ', 'TF', 'EH', 'PN', 'SX', 'TL', 'UM', 'VA']\n",
    "continent_names = cname_alpha_2.apply(lambda x: pc.country_alpha2_to_continent_code(x) if x not in error_list else 'non-transformable')"
   ]
  },
  {
   "cell_type": "code",
   "execution_count": 9,
   "metadata": {},
   "outputs": [],
   "source": [
    "country_and_continent = pd.DataFrame([cname_alpha_2, continent_names], index= ['Country', 'Continent']).T"
   ]
  },
  {
   "cell_type": "code",
   "execution_count": 10,
   "metadata": {},
   "outputs": [],
   "source": [
    "total_by_continent = country_and_continent.groupby('Continent').count()"
   ]
  },
  {
   "cell_type": "markdown",
   "metadata": {},
   "source": [
    "### Distribution of Countries by Continent, World Wide"
   ]
  },
  {
   "cell_type": "code",
   "execution_count": 11,
   "metadata": {},
   "outputs": [],
   "source": [
    "country_and_continent['Country Name'] = country_and_continent.Country.apply(pc.country_alpha2_to_country_name)"
   ]
  },
  {
   "cell_type": "code",
   "execution_count": 12,
   "metadata": {},
   "outputs": [],
   "source": [
    "country_and_continent['Continent Name'] = country_and_continent.Continent.apply(lambda x: pc.convert_continent_code_to_continent_name(x) if x != 'non-transformable' else x)"
   ]
  },
  {
   "cell_type": "code",
   "execution_count": 15,
   "metadata": {
    "tags": []
   },
   "outputs": [],
   "source": [
    "constituent_nationalities = non_latinamerican_art.nationality.copy()"
   ]
  },
  {
   "cell_type": "code",
   "execution_count": 16,
   "metadata": {
    "tags": []
   },
   "outputs": [],
   "source": [
    "nonla_artist_origin = constituent_nationalities.value_counts(normalize=True)"
   ]
  },
  {
   "cell_type": "code",
   "execution_count": 17,
   "metadata": {},
   "outputs": [],
   "source": [
    "nonla_artist_origin = nonla_artist_origin.reset_index(drop=False)"
   ]
  },
  {
   "cell_type": "code",
   "execution_count": 18,
   "metadata": {},
   "outputs": [],
   "source": [
    "nonla_artist_origin.columns = ['demonym', 'pct_country_NGA']"
   ]
  },
  {
   "cell_type": "code",
   "execution_count": 19,
   "metadata": {},
   "outputs": [],
   "source": [
    "#the assistance of an outside demonyms table which has a key to connect Country to Demonym\n",
    "demonyms = pd.read_csv('../../../data_samples/results/processed_subset_results/demonyms.csv')"
   ]
  },
  {
   "cell_type": "code",
   "execution_count": 20,
   "metadata": {},
   "outputs": [],
   "source": [
    "non_latines = pd.merge(country_and_continent, demonyms, how='inner', on ='Country Name')"
   ]
  },
  {
   "cell_type": "code",
   "execution_count": 22,
   "metadata": {},
   "outputs": [],
   "source": [
    "nonla_geographicStatistics = pd.merge(nonla_artist_origin, non_latines, how='inner', on = 'demonym')"
   ]
  },
  {
   "cell_type": "code",
   "execution_count": 23,
   "metadata": {},
   "outputs": [
    {
     "data": {
      "text/html": [
       "<div>\n",
       "<style scoped>\n",
       "    .dataframe tbody tr th:only-of-type {\n",
       "        vertical-align: middle;\n",
       "    }\n",
       "\n",
       "    .dataframe tbody tr th {\n",
       "        vertical-align: top;\n",
       "    }\n",
       "\n",
       "    .dataframe thead th {\n",
       "        text-align: right;\n",
       "    }\n",
       "</style>\n",
       "<table border=\"1\" class=\"dataframe\">\n",
       "  <thead>\n",
       "    <tr style=\"text-align: right;\">\n",
       "      <th></th>\n",
       "      <th>demonym</th>\n",
       "      <th>pct_country_NGA</th>\n",
       "      <th>Country</th>\n",
       "      <th>Continent</th>\n",
       "      <th>Country Name</th>\n",
       "      <th>Continent Name</th>\n",
       "    </tr>\n",
       "  </thead>\n",
       "  <tbody>\n",
       "    <tr>\n",
       "      <th>0</th>\n",
       "      <td>American</td>\n",
       "      <td>0.378527</td>\n",
       "      <td>US</td>\n",
       "      <td>NA</td>\n",
       "      <td>United States</td>\n",
       "      <td>North America</td>\n",
       "    </tr>\n",
       "    <tr>\n",
       "      <th>1</th>\n",
       "      <td>French</td>\n",
       "      <td>0.347459</td>\n",
       "      <td>FR</td>\n",
       "      <td>EU</td>\n",
       "      <td>France</td>\n",
       "      <td>Europe</td>\n",
       "    </tr>\n",
       "    <tr>\n",
       "      <th>2</th>\n",
       "      <td>German</td>\n",
       "      <td>0.119132</td>\n",
       "      <td>DE</td>\n",
       "      <td>EU</td>\n",
       "      <td>Germany</td>\n",
       "      <td>Europe</td>\n",
       "    </tr>\n",
       "    <tr>\n",
       "      <th>3</th>\n",
       "      <td>Italian</td>\n",
       "      <td>0.034380</td>\n",
       "      <td>IT</td>\n",
       "      <td>EU</td>\n",
       "      <td>Italy</td>\n",
       "      <td>Europe</td>\n",
       "    </tr>\n",
       "    <tr>\n",
       "      <th>4</th>\n",
       "      <td>British</td>\n",
       "      <td>0.028555</td>\n",
       "      <td>GB</td>\n",
       "      <td>EU</td>\n",
       "      <td>United Kingdom</td>\n",
       "      <td>Europe</td>\n",
       "    </tr>\n",
       "  </tbody>\n",
       "</table>\n",
       "</div>"
      ],
      "text/plain": [
       "    demonym  pct_country_NGA Country Continent    Country Name Continent Name\n",
       "0  American         0.378527      US        NA   United States  North America\n",
       "1    French         0.347459      FR        EU          France         Europe\n",
       "2    German         0.119132      DE        EU         Germany         Europe\n",
       "3   Italian         0.034380      IT        EU           Italy         Europe\n",
       "4   British         0.028555      GB        EU  United Kingdom         Europe"
      ]
     },
     "execution_count": 23,
     "metadata": {},
     "output_type": "execute_result"
    }
   ],
   "source": [
    "nonla_geographicStatistics.head()"
   ]
  },
  {
   "cell_type": "markdown",
   "metadata": {
    "pycharm": {
     "name": "#%% md\n"
    }
   },
   "source": [
    "### Proportion of Countries per Continent\n",
    "Real vs Non-LA Dataset Distributions"
   ]
  },
  {
   "cell_type": "code",
   "execution_count": 25,
   "metadata": {},
   "outputs": [],
   "source": [
    "remove_from_index = ['non-transformable']\n",
    "total_by_continent.index = pd.Series(list(total_by_continent.index)).apply(lambda x: pc.convert_continent_code_to_continent_name(x) if x not in remove_from_index else x)"
   ]
  },
  {
   "cell_type": "code",
   "execution_count": 27,
   "metadata": {
    "collapsed": false,
    "jupyter": {
     "outputs_hidden": false
    },
    "pycharm": {
     "name": "#%%\n"
    }
   },
   "outputs": [],
   "source": [
    "total_by_continent['proportion'] = total_by_continent['Country'] / total_by_continent['Country'].sum()"
   ]
  },
  {
   "cell_type": "code",
   "execution_count": 156,
   "metadata": {
    "collapsed": false,
    "jupyter": {
     "outputs_hidden": false
    },
    "pycharm": {
     "name": "#%%\n"
    }
   },
   "outputs": [],
   "source": [
    "total_by_continent.name = 'Actual Distribution'"
   ]
  },
  {
   "cell_type": "code",
   "execution_count": 157,
   "metadata": {},
   "outputs": [
    {
     "data": {
      "text/html": [
       "<div>\n",
       "<style scoped>\n",
       "    .dataframe tbody tr th:only-of-type {\n",
       "        vertical-align: middle;\n",
       "    }\n",
       "\n",
       "    .dataframe tbody tr th {\n",
       "        vertical-align: top;\n",
       "    }\n",
       "\n",
       "    .dataframe thead th {\n",
       "        text-align: right;\n",
       "    }\n",
       "</style>\n",
       "<table border=\"1\" class=\"dataframe\">\n",
       "  <thead>\n",
       "    <tr style=\"text-align: right;\">\n",
       "      <th></th>\n",
       "      <th>Country</th>\n",
       "      <th>proportion</th>\n",
       "    </tr>\n",
       "  </thead>\n",
       "  <tbody>\n",
       "    <tr>\n",
       "      <th>Africa</th>\n",
       "      <td>57</td>\n",
       "      <td>0.228916</td>\n",
       "    </tr>\n",
       "    <tr>\n",
       "      <th>Antarctica</th>\n",
       "      <td>2</td>\n",
       "      <td>0.008032</td>\n",
       "    </tr>\n",
       "    <tr>\n",
       "      <th>Asia</th>\n",
       "      <td>53</td>\n",
       "      <td>0.212851</td>\n",
       "    </tr>\n",
       "    <tr>\n",
       "      <th>Europe</th>\n",
       "      <td>50</td>\n",
       "      <td>0.200803</td>\n",
       "    </tr>\n",
       "    <tr>\n",
       "      <th>North America</th>\n",
       "      <td>40</td>\n",
       "      <td>0.160643</td>\n",
       "    </tr>\n",
       "    <tr>\n",
       "      <th>Oceania</th>\n",
       "      <td>24</td>\n",
       "      <td>0.096386</td>\n",
       "    </tr>\n",
       "    <tr>\n",
       "      <th>South America</th>\n",
       "      <td>15</td>\n",
       "      <td>0.060241</td>\n",
       "    </tr>\n",
       "    <tr>\n",
       "      <th>non-transformable</th>\n",
       "      <td>8</td>\n",
       "      <td>0.032129</td>\n",
       "    </tr>\n",
       "  </tbody>\n",
       "</table>\n",
       "</div>"
      ],
      "text/plain": [
       "                   Country  proportion\n",
       "Africa                  57    0.228916\n",
       "Antarctica               2    0.008032\n",
       "Asia                    53    0.212851\n",
       "Europe                  50    0.200803\n",
       "North America           40    0.160643\n",
       "Oceania                 24    0.096386\n",
       "South America           15    0.060241\n",
       "non-transformable        8    0.032129"
      ]
     },
     "execution_count": 157,
     "metadata": {},
     "output_type": "execute_result"
    }
   ],
   "source": [
    "total_by_continent"
   ]
  },
  {
   "cell_type": "code",
   "execution_count": 70,
   "metadata": {},
   "outputs": [],
   "source": [
    "nonla_geographicStatistics['Continent'] = nonla_geographicStatistics['Continent'].replace('NA', 'NoA')"
   ]
  },
  {
   "cell_type": "code",
   "execution_count": 220,
   "metadata": {
    "collapsed": false,
    "jupyter": {
     "outputs_hidden": false
    },
    "pycharm": {
     "name": "#%%\n"
    }
   },
   "outputs": [],
   "source": [
    "nonla_continentCounts = nonla_geographicStatistics.groupby('Continent').apply(lambda x: len(x))"
   ]
  },
  {
   "cell_type": "markdown",
   "metadata": {},
   "source": [
    " After using the demonym dataset to link the geographic naming Data\n",
    " with the pct_country_NGA data, some datapoints were lots. (sum of pct is now ~92%)"
   ]
  },
  {
   "cell_type": "code",
   "execution_count": 221,
   "metadata": {},
   "outputs": [
    {
     "data": {
      "text/html": [
       "<div>\n",
       "<style scoped>\n",
       "    .dataframe tbody tr th:only-of-type {\n",
       "        vertical-align: middle;\n",
       "    }\n",
       "\n",
       "    .dataframe tbody tr th {\n",
       "        vertical-align: top;\n",
       "    }\n",
       "\n",
       "    .dataframe thead th {\n",
       "        text-align: right;\n",
       "    }\n",
       "</style>\n",
       "<table border=\"1\" class=\"dataframe\">\n",
       "  <thead>\n",
       "    <tr style=\"text-align: right;\">\n",
       "      <th></th>\n",
       "      <th>demonym</th>\n",
       "      <th>pct_country_NGA</th>\n",
       "      <th>Country</th>\n",
       "      <th>Continent</th>\n",
       "      <th>Country Name</th>\n",
       "      <th>Continent Name</th>\n",
       "    </tr>\n",
       "  </thead>\n",
       "  <tbody>\n",
       "    <tr>\n",
       "      <th>0</th>\n",
       "      <td>American</td>\n",
       "      <td>0.378527</td>\n",
       "      <td>US</td>\n",
       "      <td>NoA</td>\n",
       "      <td>United States</td>\n",
       "      <td>North America</td>\n",
       "    </tr>\n",
       "    <tr>\n",
       "      <th>1</th>\n",
       "      <td>French</td>\n",
       "      <td>0.347459</td>\n",
       "      <td>FR</td>\n",
       "      <td>EU</td>\n",
       "      <td>France</td>\n",
       "      <td>Europe</td>\n",
       "    </tr>\n",
       "    <tr>\n",
       "      <th>2</th>\n",
       "      <td>German</td>\n",
       "      <td>0.119132</td>\n",
       "      <td>DE</td>\n",
       "      <td>EU</td>\n",
       "      <td>Germany</td>\n",
       "      <td>Europe</td>\n",
       "    </tr>\n",
       "    <tr>\n",
       "      <th>3</th>\n",
       "      <td>Italian</td>\n",
       "      <td>0.034380</td>\n",
       "      <td>IT</td>\n",
       "      <td>EU</td>\n",
       "      <td>Italy</td>\n",
       "      <td>Europe</td>\n",
       "    </tr>\n",
       "    <tr>\n",
       "      <th>4</th>\n",
       "      <td>British</td>\n",
       "      <td>0.028555</td>\n",
       "      <td>GB</td>\n",
       "      <td>EU</td>\n",
       "      <td>United Kingdom</td>\n",
       "      <td>Europe</td>\n",
       "    </tr>\n",
       "    <tr>\n",
       "      <th>5</th>\n",
       "      <td>Spanish</td>\n",
       "      <td>0.009595</td>\n",
       "      <td>ES</td>\n",
       "      <td>EU</td>\n",
       "      <td>Spain</td>\n",
       "      <td>Europe</td>\n",
       "    </tr>\n",
       "    <tr>\n",
       "      <th>6</th>\n",
       "      <td>Dutch</td>\n",
       "      <td>0.006967</td>\n",
       "      <td>NL</td>\n",
       "      <td>EU</td>\n",
       "      <td>Netherlands</td>\n",
       "      <td>Europe</td>\n",
       "    </tr>\n",
       "    <tr>\n",
       "      <th>7</th>\n",
       "      <td>Greek</td>\n",
       "      <td>0.000742</td>\n",
       "      <td>GR</td>\n",
       "      <td>EU</td>\n",
       "      <td>Greece</td>\n",
       "      <td>Europe</td>\n",
       "    </tr>\n",
       "    <tr>\n",
       "      <th>8</th>\n",
       "      <td>Swiss</td>\n",
       "      <td>0.000457</td>\n",
       "      <td>CH</td>\n",
       "      <td>EU</td>\n",
       "      <td>Switzerland</td>\n",
       "      <td>Europe</td>\n",
       "    </tr>\n",
       "    <tr>\n",
       "      <th>9</th>\n",
       "      <td>Austrian</td>\n",
       "      <td>0.000343</td>\n",
       "      <td>AT</td>\n",
       "      <td>EU</td>\n",
       "      <td>Austria</td>\n",
       "      <td>Europe</td>\n",
       "    </tr>\n",
       "  </tbody>\n",
       "</table>\n",
       "</div>"
      ],
      "text/plain": [
       "    demonym  pct_country_NGA Country Continent    Country Name Continent Name\n",
       "0  American         0.378527      US       NoA   United States  North America\n",
       "1    French         0.347459      FR        EU          France         Europe\n",
       "2    German         0.119132      DE        EU         Germany         Europe\n",
       "3   Italian         0.034380      IT        EU           Italy         Europe\n",
       "4   British         0.028555      GB        EU  United Kingdom         Europe\n",
       "5   Spanish         0.009595      ES        EU           Spain         Europe\n",
       "6     Dutch         0.006967      NL        EU     Netherlands         Europe\n",
       "7     Greek         0.000742      GR        EU          Greece         Europe\n",
       "8     Swiss         0.000457      CH        EU     Switzerland         Europe\n",
       "9  Austrian         0.000343      AT        EU         Austria         Europe"
      ]
     },
     "execution_count": 221,
     "metadata": {},
     "output_type": "execute_result"
    }
   ],
   "source": [
    "nonla_geographicStatistics"
   ]
  },
  {
   "cell_type": "markdown",
   "metadata": {},
   "source": [
    "Among all countries, 9 belong to EU and 1 to NoA (US) which represents 92% of all the artwork in the NGA"
   ]
  },
  {
   "cell_type": "code",
   "execution_count": 222,
   "metadata": {},
   "outputs": [
    {
     "data": {
      "text/plain": [
       "Continent\n",
       "EU     9\n",
       "NoA    1\n",
       "dtype: int64"
      ]
     },
     "execution_count": 222,
     "metadata": {},
     "output_type": "execute_result"
    }
   ],
   "source": [
    "nonla_continentCounts"
   ]
  },
  {
   "cell_type": "code",
   "execution_count": 223,
   "metadata": {
    "collapsed": false,
    "jupyter": {
     "outputs_hidden": false
    },
    "pycharm": {
     "name": "#%%\n"
    }
   },
   "outputs": [],
   "source": [
    "nonla_continentCounts.index = ['Europe', 'North America']"
   ]
  },
  {
   "cell_type": "code",
   "execution_count": 224,
   "metadata": {
    "collapsed": false,
    "jupyter": {
     "outputs_hidden": false
    },
    "pycharm": {
     "name": "#%%\n"
    }
   },
   "outputs": [],
   "source": [
    "nonla_continentCounts = pd.concat([nonla_continentCounts, pd.Series({'Africa': 0, 'Antarctica': 0, 'Asia': 0, 'Oceania':0, 'South America':0, 'non-transformable':0})])"
   ]
  },
  {
   "cell_type": "code",
   "execution_count": 225,
   "metadata": {},
   "outputs": [
    {
     "data": {
      "text/plain": [
       "Europe               9\n",
       "North America        1\n",
       "Africa               0\n",
       "Antarctica           0\n",
       "Asia                 0\n",
       "Oceania              0\n",
       "South America        0\n",
       "non-transformable    0\n",
       "dtype: int64"
      ]
     },
     "execution_count": 225,
     "metadata": {},
     "output_type": "execute_result"
    }
   ],
   "source": [
    "nonla_continentCounts"
   ]
  },
  {
   "cell_type": "code",
   "execution_count": 226,
   "metadata": {
    "collapsed": false,
    "jupyter": {
     "outputs_hidden": false
    },
    "pycharm": {
     "name": "#%%\n"
    }
   },
   "outputs": [],
   "source": [
    "nonla_continentCounts = nonla_continentCounts.reindex(total_by_continent.index)\n",
    "nonla_continentCounts.name = 'Countrys_in_Continents'"
   ]
  },
  {
   "cell_type": "code",
   "execution_count": 227,
   "metadata": {},
   "outputs": [
    {
     "data": {
      "text/plain": [
       "Africa               0\n",
       "Antarctica           0\n",
       "Asia                 0\n",
       "Europe               9\n",
       "North America        1\n",
       "Oceania              0\n",
       "South America        0\n",
       "non-transformable    0\n",
       "Name: Countrys_in_Continents, dtype: int64"
      ]
     },
     "execution_count": 227,
     "metadata": {},
     "output_type": "execute_result"
    }
   ],
   "source": [
    "nonla_continentCounts"
   ]
  },
  {
   "cell_type": "markdown",
   "metadata": {},
   "source": [
    "The goal is to create a dataframe similar to this dataset and use this to measure distribution by geography"
   ]
  },
  {
   "cell_type": "code",
   "execution_count": 228,
   "metadata": {},
   "outputs": [
    {
     "data": {
      "text/html": [
       "<div>\n",
       "<style scoped>\n",
       "    .dataframe tbody tr th:only-of-type {\n",
       "        vertical-align: middle;\n",
       "    }\n",
       "\n",
       "    .dataframe tbody tr th {\n",
       "        vertical-align: top;\n",
       "    }\n",
       "\n",
       "    .dataframe thead th {\n",
       "        text-align: right;\n",
       "    }\n",
       "</style>\n",
       "<table border=\"1\" class=\"dataframe\">\n",
       "  <thead>\n",
       "    <tr style=\"text-align: right;\">\n",
       "      <th></th>\n",
       "      <th>Country</th>\n",
       "      <th>proportion</th>\n",
       "    </tr>\n",
       "  </thead>\n",
       "  <tbody>\n",
       "    <tr>\n",
       "      <th>Africa</th>\n",
       "      <td>57</td>\n",
       "      <td>0.228916</td>\n",
       "    </tr>\n",
       "    <tr>\n",
       "      <th>Antarctica</th>\n",
       "      <td>2</td>\n",
       "      <td>0.008032</td>\n",
       "    </tr>\n",
       "    <tr>\n",
       "      <th>Asia</th>\n",
       "      <td>53</td>\n",
       "      <td>0.212851</td>\n",
       "    </tr>\n",
       "    <tr>\n",
       "      <th>Europe</th>\n",
       "      <td>50</td>\n",
       "      <td>0.200803</td>\n",
       "    </tr>\n",
       "    <tr>\n",
       "      <th>North America</th>\n",
       "      <td>40</td>\n",
       "      <td>0.160643</td>\n",
       "    </tr>\n",
       "    <tr>\n",
       "      <th>Oceania</th>\n",
       "      <td>24</td>\n",
       "      <td>0.096386</td>\n",
       "    </tr>\n",
       "    <tr>\n",
       "      <th>South America</th>\n",
       "      <td>15</td>\n",
       "      <td>0.060241</td>\n",
       "    </tr>\n",
       "    <tr>\n",
       "      <th>non-transformable</th>\n",
       "      <td>8</td>\n",
       "      <td>0.032129</td>\n",
       "    </tr>\n",
       "  </tbody>\n",
       "</table>\n",
       "</div>"
      ],
      "text/plain": [
       "                   Country  proportion\n",
       "Africa                  57    0.228916\n",
       "Antarctica               2    0.008032\n",
       "Asia                    53    0.212851\n",
       "Europe                  50    0.200803\n",
       "North America           40    0.160643\n",
       "Oceania                 24    0.096386\n",
       "South America           15    0.060241\n",
       "non-transformable        8    0.032129"
      ]
     },
     "execution_count": 228,
     "metadata": {},
     "output_type": "execute_result"
    }
   ],
   "source": [
    "total_by_continent"
   ]
  },
  {
   "cell_type": "code",
   "execution_count": 229,
   "metadata": {},
   "outputs": [
    {
     "data": {
      "text/plain": [
       "Africa               0\n",
       "Antarctica           0\n",
       "Asia                 0\n",
       "Europe               9\n",
       "North America        1\n",
       "Oceania              0\n",
       "South America        0\n",
       "non-transformable    0\n",
       "Name: Countrys_in_Continents, dtype: int64"
      ]
     },
     "execution_count": 229,
     "metadata": {},
     "output_type": "execute_result"
    }
   ],
   "source": [
    "nonla_continentCounts"
   ]
  },
  {
   "cell_type": "code",
   "execution_count": 230,
   "metadata": {
    "collapsed": false,
    "jupyter": {
     "outputs_hidden": false
    },
    "pycharm": {
     "name": "#%%\n"
    }
   },
   "outputs": [],
   "source": [
    "nonla_continentCounts = pd.DataFrame({'countries_present':nonla_continentCounts, 'proportion_of_continent': (nonla_continentCounts / total_by_continent['Country'])})"
   ]
  },
  {
   "cell_type": "code",
   "execution_count": 231,
   "metadata": {},
   "outputs": [
    {
     "data": {
      "text/html": [
       "<div>\n",
       "<style scoped>\n",
       "    .dataframe tbody tr th:only-of-type {\n",
       "        vertical-align: middle;\n",
       "    }\n",
       "\n",
       "    .dataframe tbody tr th {\n",
       "        vertical-align: top;\n",
       "    }\n",
       "\n",
       "    .dataframe thead th {\n",
       "        text-align: right;\n",
       "    }\n",
       "</style>\n",
       "<table border=\"1\" class=\"dataframe\">\n",
       "  <thead>\n",
       "    <tr style=\"text-align: right;\">\n",
       "      <th></th>\n",
       "      <th>countries_present</th>\n",
       "      <th>proportion_of_continent</th>\n",
       "    </tr>\n",
       "  </thead>\n",
       "  <tbody>\n",
       "    <tr>\n",
       "      <th>Africa</th>\n",
       "      <td>0</td>\n",
       "      <td>0.000</td>\n",
       "    </tr>\n",
       "    <tr>\n",
       "      <th>Antarctica</th>\n",
       "      <td>0</td>\n",
       "      <td>0.000</td>\n",
       "    </tr>\n",
       "    <tr>\n",
       "      <th>Asia</th>\n",
       "      <td>0</td>\n",
       "      <td>0.000</td>\n",
       "    </tr>\n",
       "    <tr>\n",
       "      <th>Europe</th>\n",
       "      <td>9</td>\n",
       "      <td>0.180</td>\n",
       "    </tr>\n",
       "    <tr>\n",
       "      <th>North America</th>\n",
       "      <td>1</td>\n",
       "      <td>0.025</td>\n",
       "    </tr>\n",
       "    <tr>\n",
       "      <th>Oceania</th>\n",
       "      <td>0</td>\n",
       "      <td>0.000</td>\n",
       "    </tr>\n",
       "    <tr>\n",
       "      <th>South America</th>\n",
       "      <td>0</td>\n",
       "      <td>0.000</td>\n",
       "    </tr>\n",
       "    <tr>\n",
       "      <th>non-transformable</th>\n",
       "      <td>0</td>\n",
       "      <td>0.000</td>\n",
       "    </tr>\n",
       "  </tbody>\n",
       "</table>\n",
       "</div>"
      ],
      "text/plain": [
       "                   countries_present  proportion_of_continent\n",
       "Africa                             0                    0.000\n",
       "Antarctica                         0                    0.000\n",
       "Asia                               0                    0.000\n",
       "Europe                             9                    0.180\n",
       "North America                      1                    0.025\n",
       "Oceania                            0                    0.000\n",
       "South America                      0                    0.000\n",
       "non-transformable                  0                    0.000"
      ]
     },
     "execution_count": 231,
     "metadata": {},
     "output_type": "execute_result"
    }
   ],
   "source": [
    "nonla_continentCounts"
   ]
  },
  {
   "cell_type": "markdown",
   "metadata": {},
   "source": [
    "To find out how many continents are not included in the NGA dataset, I will subtract the total for ALL countries included in the PyCountry library, and subtract the countries visible within the dataset per continent. The different will be called nonla_continentCounts_missing."
   ]
  },
  {
   "cell_type": "code",
   "execution_count": 232,
   "metadata": {},
   "outputs": [
    {
     "data": {
      "text/plain": [
       "Africa               57\n",
       "Antarctica            2\n",
       "Asia                 53\n",
       "Europe               50\n",
       "North America        40\n",
       "Oceania              24\n",
       "South America        15\n",
       "non-transformable     8\n",
       "Name: Country, dtype: int64"
      ]
     },
     "execution_count": 232,
     "metadata": {},
     "output_type": "execute_result"
    }
   ],
   "source": [
    "total_by_continent['Country']"
   ]
  },
  {
   "cell_type": "code",
   "execution_count": 280,
   "metadata": {
    "collapsed": false,
    "jupyter": {
     "outputs_hidden": false
    },
    "pycharm": {
     "name": "#%%\n"
    }
   },
   "outputs": [],
   "source": [
    "nonla_continentCounts_missing = total_by_continent['Country'] - nonla_continentCounts['countries_present']"
   ]
  },
  {
   "cell_type": "code",
   "execution_count": 281,
   "metadata": {},
   "outputs": [],
   "source": [
    "nonla_continentCounts_missing.name = 'Missing_from_Actual_Distribution'"
   ]
  },
  {
   "cell_type": "code",
   "execution_count": 282,
   "metadata": {},
   "outputs": [],
   "source": [
    "nonla_continentCounts_missing = pd.DataFrame({'countries_missing':nonla_continentCounts_missing, 'proportion_of_continent': (nonla_continentCounts_missing / total_by_continent['Country'])})"
   ]
  },
  {
   "cell_type": "code",
   "execution_count": 283,
   "metadata": {},
   "outputs": [
    {
     "data": {
      "text/html": [
       "<div>\n",
       "<style scoped>\n",
       "    .dataframe tbody tr th:only-of-type {\n",
       "        vertical-align: middle;\n",
       "    }\n",
       "\n",
       "    .dataframe tbody tr th {\n",
       "        vertical-align: top;\n",
       "    }\n",
       "\n",
       "    .dataframe thead th {\n",
       "        text-align: right;\n",
       "    }\n",
       "</style>\n",
       "<table border=\"1\" class=\"dataframe\">\n",
       "  <thead>\n",
       "    <tr style=\"text-align: right;\">\n",
       "      <th></th>\n",
       "      <th>countries_missing</th>\n",
       "      <th>proportion_of_continent</th>\n",
       "    </tr>\n",
       "  </thead>\n",
       "  <tbody>\n",
       "    <tr>\n",
       "      <th>Africa</th>\n",
       "      <td>57</td>\n",
       "      <td>1.000</td>\n",
       "    </tr>\n",
       "    <tr>\n",
       "      <th>Antarctica</th>\n",
       "      <td>2</td>\n",
       "      <td>1.000</td>\n",
       "    </tr>\n",
       "    <tr>\n",
       "      <th>Asia</th>\n",
       "      <td>53</td>\n",
       "      <td>1.000</td>\n",
       "    </tr>\n",
       "    <tr>\n",
       "      <th>Europe</th>\n",
       "      <td>41</td>\n",
       "      <td>0.820</td>\n",
       "    </tr>\n",
       "    <tr>\n",
       "      <th>North America</th>\n",
       "      <td>39</td>\n",
       "      <td>0.975</td>\n",
       "    </tr>\n",
       "    <tr>\n",
       "      <th>Oceania</th>\n",
       "      <td>24</td>\n",
       "      <td>1.000</td>\n",
       "    </tr>\n",
       "    <tr>\n",
       "      <th>South America</th>\n",
       "      <td>15</td>\n",
       "      <td>1.000</td>\n",
       "    </tr>\n",
       "    <tr>\n",
       "      <th>non-transformable</th>\n",
       "      <td>8</td>\n",
       "      <td>1.000</td>\n",
       "    </tr>\n",
       "  </tbody>\n",
       "</table>\n",
       "</div>"
      ],
      "text/plain": [
       "                   countries_missing  proportion_of_continent\n",
       "Africa                            57                    1.000\n",
       "Antarctica                         2                    1.000\n",
       "Asia                              53                    1.000\n",
       "Europe                            41                    0.820\n",
       "North America                     39                    0.975\n",
       "Oceania                           24                    1.000\n",
       "South America                     15                    1.000\n",
       "non-transformable                  8                    1.000"
      ]
     },
     "execution_count": 283,
     "metadata": {},
     "output_type": "execute_result"
    }
   ],
   "source": [
    "nonla_continentCounts_missing"
   ]
  },
  {
   "cell_type": "code",
   "execution_count": 100,
   "metadata": {},
   "outputs": [],
   "source": [
    "#inner join of non_latines and non_latinamerican_art to get the elementwise probs\n",
    "non_latinamerican_art = pd.merge(non_latinamerican_art, non_latines, how='inner',left_on='nationality', right_on='demonym')"
   ]
  },
  {
   "cell_type": "code",
   "execution_count": 238,
   "metadata": {},
   "outputs": [
    {
     "data": {
      "text/plain": [
       "(32434, 46)"
      ]
     },
     "execution_count": 238,
     "metadata": {},
     "output_type": "execute_result"
    }
   ],
   "source": [
    "non_latinamerican_art.shape"
   ]
  },
  {
   "cell_type": "markdown",
   "metadata": {},
   "source": [
    "After merging the main non_latinamerican_art dataset with the external geographical information that I created, I will write the updated dataset back to the original filepath and overwrite it as it contains valuable information"
   ]
  },
  {
   "cell_type": "code",
   "execution_count": 246,
   "metadata": {},
   "outputs": [
    {
     "data": {
      "text/html": [
       "<div>\n",
       "<style scoped>\n",
       "    .dataframe tbody tr th:only-of-type {\n",
       "        vertical-align: middle;\n",
       "    }\n",
       "\n",
       "    .dataframe tbody tr th {\n",
       "        vertical-align: top;\n",
       "    }\n",
       "\n",
       "    .dataframe thead th {\n",
       "        text-align: right;\n",
       "    }\n",
       "</style>\n",
       "<table border=\"1\" class=\"dataframe\">\n",
       "  <thead>\n",
       "    <tr style=\"text-align: right;\">\n",
       "      <th></th>\n",
       "      <th>iiifurl</th>\n",
       "      <th>iiifthumburl</th>\n",
       "      <th>accessioned</th>\n",
       "      <th>title</th>\n",
       "      <th>displayDate_created</th>\n",
       "      <th>roletype</th>\n",
       "      <th>role</th>\n",
       "      <th>forwarddisplayname</th>\n",
       "      <th>birthyear</th>\n",
       "      <th>deathyear</th>\n",
       "      <th>...</th>\n",
       "      <th>maxpixels</th>\n",
       "      <th>assistivetext</th>\n",
       "      <th>depictstmsobjectid</th>\n",
       "      <th>objectid</th>\n",
       "      <th>constituentid</th>\n",
       "      <th>Country</th>\n",
       "      <th>Continent</th>\n",
       "      <th>Country Name</th>\n",
       "      <th>Continent Name</th>\n",
       "      <th>demonym</th>\n",
       "    </tr>\n",
       "  </thead>\n",
       "  <tbody>\n",
       "    <tr>\n",
       "      <th>0</th>\n",
       "      <td>https://api.nga.gov/iiif/0056d32a-f4a3-44ee-a3...</td>\n",
       "      <td>https://api.nga.gov/iiif/0056d32a-f4a3-44ee-a3...</td>\n",
       "      <td>1.0</td>\n",
       "      <td>Red-necked Grebe</td>\n",
       "      <td>1836</td>\n",
       "      <td>artist</td>\n",
       "      <td>artist after</td>\n",
       "      <td>John James Audubon</td>\n",
       "      <td>1785.0</td>\n",
       "      <td>1851.0</td>\n",
       "      <td>...</td>\n",
       "      <td>NaN</td>\n",
       "      <td>NaN</td>\n",
       "      <td>32439.0</td>\n",
       "      <td>32439.0</td>\n",
       "      <td>122.0</td>\n",
       "      <td>US</td>\n",
       "      <td>NoA</td>\n",
       "      <td>United States</td>\n",
       "      <td>North America</td>\n",
       "      <td>American</td>\n",
       "    </tr>\n",
       "    <tr>\n",
       "      <th>1</th>\n",
       "      <td>https://api.nga.gov/iiif/0056d32a-f4a3-44ee-a3...</td>\n",
       "      <td>https://api.nga.gov/iiif/0056d32a-f4a3-44ee-a3...</td>\n",
       "      <td>1.0</td>\n",
       "      <td>Red-necked Grebe</td>\n",
       "      <td>1836</td>\n",
       "      <td>artist</td>\n",
       "      <td>artist after</td>\n",
       "      <td>John James Audubon</td>\n",
       "      <td>1785.0</td>\n",
       "      <td>1851.0</td>\n",
       "      <td>...</td>\n",
       "      <td>NaN</td>\n",
       "      <td>NaN</td>\n",
       "      <td>32439.0</td>\n",
       "      <td>32439.0</td>\n",
       "      <td>122.0</td>\n",
       "      <td>US</td>\n",
       "      <td>NoA</td>\n",
       "      <td>United States</td>\n",
       "      <td>North America</td>\n",
       "      <td>American</td>\n",
       "    </tr>\n",
       "    <tr>\n",
       "      <th>2</th>\n",
       "      <td>https://api.nga.gov/iiif/00c13cb9-012b-473a-ba...</td>\n",
       "      <td>https://api.nga.gov/iiif/00c13cb9-012b-473a-ba...</td>\n",
       "      <td>1.0</td>\n",
       "      <td>Bewick's Long-tailed Wren</td>\n",
       "      <td>1827</td>\n",
       "      <td>artist</td>\n",
       "      <td>artist after</td>\n",
       "      <td>John James Audubon</td>\n",
       "      <td>1785.0</td>\n",
       "      <td>1851.0</td>\n",
       "      <td>...</td>\n",
       "      <td>NaN</td>\n",
       "      <td>NaN</td>\n",
       "      <td>32159.0</td>\n",
       "      <td>32159.0</td>\n",
       "      <td>122.0</td>\n",
       "      <td>US</td>\n",
       "      <td>NoA</td>\n",
       "      <td>United States</td>\n",
       "      <td>North America</td>\n",
       "      <td>American</td>\n",
       "    </tr>\n",
       "    <tr>\n",
       "      <th>3</th>\n",
       "      <td>https://api.nga.gov/iiif/00c13cb9-012b-473a-ba...</td>\n",
       "      <td>https://api.nga.gov/iiif/00c13cb9-012b-473a-ba...</td>\n",
       "      <td>1.0</td>\n",
       "      <td>Bewick's Long-tailed Wren</td>\n",
       "      <td>1827</td>\n",
       "      <td>artist</td>\n",
       "      <td>artist after</td>\n",
       "      <td>John James Audubon</td>\n",
       "      <td>1785.0</td>\n",
       "      <td>1851.0</td>\n",
       "      <td>...</td>\n",
       "      <td>NaN</td>\n",
       "      <td>NaN</td>\n",
       "      <td>32159.0</td>\n",
       "      <td>32159.0</td>\n",
       "      <td>122.0</td>\n",
       "      <td>US</td>\n",
       "      <td>NoA</td>\n",
       "      <td>United States</td>\n",
       "      <td>North America</td>\n",
       "      <td>American</td>\n",
       "    </tr>\n",
       "    <tr>\n",
       "      <th>4</th>\n",
       "      <td>https://api.nga.gov/iiif/00dbc7b2-0300-443b-87...</td>\n",
       "      <td>https://api.nga.gov/iiif/00dbc7b2-0300-443b-87...</td>\n",
       "      <td>1.0</td>\n",
       "      <td>Swallow-tailed Hawk</td>\n",
       "      <td>1829</td>\n",
       "      <td>artist</td>\n",
       "      <td>artist after</td>\n",
       "      <td>John James Audubon</td>\n",
       "      <td>1785.0</td>\n",
       "      <td>1851.0</td>\n",
       "      <td>...</td>\n",
       "      <td>NaN</td>\n",
       "      <td>NaN</td>\n",
       "      <td>32213.0</td>\n",
       "      <td>32213.0</td>\n",
       "      <td>122.0</td>\n",
       "      <td>US</td>\n",
       "      <td>NoA</td>\n",
       "      <td>United States</td>\n",
       "      <td>North America</td>\n",
       "      <td>American</td>\n",
       "    </tr>\n",
       "  </tbody>\n",
       "</table>\n",
       "<p>5 rows × 46 columns</p>\n",
       "</div>"
      ],
      "text/plain": [
       "                                             iiifurl  \\\n",
       "0  https://api.nga.gov/iiif/0056d32a-f4a3-44ee-a3...   \n",
       "1  https://api.nga.gov/iiif/0056d32a-f4a3-44ee-a3...   \n",
       "2  https://api.nga.gov/iiif/00c13cb9-012b-473a-ba...   \n",
       "3  https://api.nga.gov/iiif/00c13cb9-012b-473a-ba...   \n",
       "4  https://api.nga.gov/iiif/00dbc7b2-0300-443b-87...   \n",
       "\n",
       "                                        iiifthumburl  accessioned  \\\n",
       "0  https://api.nga.gov/iiif/0056d32a-f4a3-44ee-a3...          1.0   \n",
       "1  https://api.nga.gov/iiif/0056d32a-f4a3-44ee-a3...          1.0   \n",
       "2  https://api.nga.gov/iiif/00c13cb9-012b-473a-ba...          1.0   \n",
       "3  https://api.nga.gov/iiif/00c13cb9-012b-473a-ba...          1.0   \n",
       "4  https://api.nga.gov/iiif/00dbc7b2-0300-443b-87...          1.0   \n",
       "\n",
       "                       title displayDate_created roletype          role  \\\n",
       "0           Red-necked Grebe                1836   artist  artist after   \n",
       "1           Red-necked Grebe                1836   artist  artist after   \n",
       "2  Bewick's Long-tailed Wren                1827   artist  artist after   \n",
       "3  Bewick's Long-tailed Wren                1827   artist  artist after   \n",
       "4        Swallow-tailed Hawk                1829   artist  artist after   \n",
       "\n",
       "   forwarddisplayname  birthyear  deathyear  ...  maxpixels assistivetext  \\\n",
       "0  John James Audubon     1785.0     1851.0  ...        NaN           NaN   \n",
       "1  John James Audubon     1785.0     1851.0  ...        NaN           NaN   \n",
       "2  John James Audubon     1785.0     1851.0  ...        NaN           NaN   \n",
       "3  John James Audubon     1785.0     1851.0  ...        NaN           NaN   \n",
       "4  John James Audubon     1785.0     1851.0  ...        NaN           NaN   \n",
       "\n",
       "  depictstmsobjectid objectid  constituentid  Country Continent  \\\n",
       "0            32439.0  32439.0          122.0       US       NoA   \n",
       "1            32439.0  32439.0          122.0       US       NoA   \n",
       "2            32159.0  32159.0          122.0       US       NoA   \n",
       "3            32159.0  32159.0          122.0       US       NoA   \n",
       "4            32213.0  32213.0          122.0       US       NoA   \n",
       "\n",
       "    Country Name  Continent Name   demonym  \n",
       "0  United States   North America  American  \n",
       "1  United States   North America  American  \n",
       "2  United States   North America  American  \n",
       "3  United States   North America  American  \n",
       "4  United States   North America  American  \n",
       "\n",
       "[5 rows x 46 columns]"
      ]
     },
     "execution_count": 246,
     "metadata": {},
     "output_type": "execute_result"
    }
   ],
   "source": [
    "non_latinamerican_art.head()"
   ]
  },
  {
   "cell_type": "code",
   "execution_count": 243,
   "metadata": {},
   "outputs": [],
   "source": [
    "non_latinamerican_art.to_csv('../../../data_samples/art_tables/non_latin_art.csv', index=False)"
   ]
  },
  {
   "cell_type": "code",
   "execution_count": 259,
   "metadata": {
    "collapsed": false,
    "jupyter": {
     "outputs_hidden": false
    },
    "pycharm": {
     "name": "#%%\n"
    }
   },
   "outputs": [],
   "source": [
    "continent_probabilities = pd.concat([nonla_continentCounts, non_latinamerican_art['Continent Name'].value_counts(normalize=True)], axis = 1).dropna(how='all')"
   ]
  },
  {
   "cell_type": "code",
   "execution_count": 261,
   "metadata": {},
   "outputs": [],
   "source": [
    "continent_probabilities['pct_continent_NGA'] = continent_probabilities['Continent Name'].fillna(0)"
   ]
  },
  {
   "cell_type": "code",
   "execution_count": 263,
   "metadata": {},
   "outputs": [],
   "source": [
    "continent_probabilities.drop('Continent Name', axis = 1, inplace=True)"
   ]
  },
  {
   "cell_type": "code",
   "execution_count": 267,
   "metadata": {
    "collapsed": false,
    "jupyter": {
     "outputs_hidden": false
    },
    "pycharm": {
     "name": "#%%\n"
    }
   },
   "outputs": [],
   "source": [
    "continent_probabilities.columns = ['countries_present', 'pct_countries_from_continent_NGA', 'pct_from_continent_NGA']"
   ]
  },
  {
   "cell_type": "code",
   "execution_count": 268,
   "metadata": {},
   "outputs": [
    {
     "data": {
      "text/html": [
       "<div>\n",
       "<style scoped>\n",
       "    .dataframe tbody tr th:only-of-type {\n",
       "        vertical-align: middle;\n",
       "    }\n",
       "\n",
       "    .dataframe tbody tr th {\n",
       "        vertical-align: top;\n",
       "    }\n",
       "\n",
       "    .dataframe thead th {\n",
       "        text-align: right;\n",
       "    }\n",
       "</style>\n",
       "<table border=\"1\" class=\"dataframe\">\n",
       "  <thead>\n",
       "    <tr style=\"text-align: right;\">\n",
       "      <th></th>\n",
       "      <th>countries_present</th>\n",
       "      <th>pct_countries_from_continent_NGA</th>\n",
       "      <th>pct_from_continent_NGA</th>\n",
       "    </tr>\n",
       "  </thead>\n",
       "  <tbody>\n",
       "    <tr>\n",
       "      <th>Africa</th>\n",
       "      <td>0</td>\n",
       "      <td>0.000</td>\n",
       "      <td>0.000000</td>\n",
       "    </tr>\n",
       "    <tr>\n",
       "      <th>Antarctica</th>\n",
       "      <td>0</td>\n",
       "      <td>0.000</td>\n",
       "      <td>0.000000</td>\n",
       "    </tr>\n",
       "    <tr>\n",
       "      <th>Asia</th>\n",
       "      <td>0</td>\n",
       "      <td>0.000</td>\n",
       "      <td>0.000000</td>\n",
       "    </tr>\n",
       "    <tr>\n",
       "      <th>Europe</th>\n",
       "      <td>9</td>\n",
       "      <td>0.180</td>\n",
       "      <td>0.591293</td>\n",
       "    </tr>\n",
       "    <tr>\n",
       "      <th>North America</th>\n",
       "      <td>1</td>\n",
       "      <td>0.025</td>\n",
       "      <td>0.408707</td>\n",
       "    </tr>\n",
       "    <tr>\n",
       "      <th>Oceania</th>\n",
       "      <td>0</td>\n",
       "      <td>0.000</td>\n",
       "      <td>0.000000</td>\n",
       "    </tr>\n",
       "    <tr>\n",
       "      <th>South America</th>\n",
       "      <td>0</td>\n",
       "      <td>0.000</td>\n",
       "      <td>0.000000</td>\n",
       "    </tr>\n",
       "    <tr>\n",
       "      <th>non-transformable</th>\n",
       "      <td>0</td>\n",
       "      <td>0.000</td>\n",
       "      <td>0.000000</td>\n",
       "    </tr>\n",
       "  </tbody>\n",
       "</table>\n",
       "</div>"
      ],
      "text/plain": [
       "                   countries_present  pct_countries_from_continent_NGA  \\\n",
       "Africa                             0                             0.000   \n",
       "Antarctica                         0                             0.000   \n",
       "Asia                               0                             0.000   \n",
       "Europe                             9                             0.180   \n",
       "North America                      1                             0.025   \n",
       "Oceania                            0                             0.000   \n",
       "South America                      0                             0.000   \n",
       "non-transformable                  0                             0.000   \n",
       "\n",
       "                   pct_from_continent_NGA  \n",
       "Africa                           0.000000  \n",
       "Antarctica                       0.000000  \n",
       "Asia                             0.000000  \n",
       "Europe                           0.591293  \n",
       "North America                    0.408707  \n",
       "Oceania                          0.000000  \n",
       "South America                    0.000000  \n",
       "non-transformable                0.000000  "
      ]
     },
     "execution_count": 268,
     "metadata": {},
     "output_type": "execute_result"
    }
   ],
   "source": [
    "continent_probabilities"
   ]
  },
  {
   "cell_type": "code",
   "execution_count": 287,
   "metadata": {},
   "outputs": [],
   "source": [
    "nonla_continentCounts_missing.columns = ['countries_missing', 'pct_countries_missing_from_continent_NGA']"
   ]
  },
  {
   "cell_type": "code",
   "execution_count": 294,
   "metadata": {},
   "outputs": [],
   "source": [
    "nonla_continentCounts_missing['is_missing'] = nonla_continentCounts_missing.pct_countries_missing_from_continent_NGA.apply(lambda x: 0 if x < 1 else 1)"
   ]
  },
  {
   "cell_type": "markdown",
   "metadata": {},
   "source": [
    "I will merge the information about the missing continent/country data with the information about the data which is contained and use this to track if there is a naming issue causing datapoints to be dropped and non-EU or non-NA images and artists to not be included in the dataset - this is a given as I have noticed artists from asian and african countries featured in the NGA but that are now missing"
   ]
  },
  {
   "cell_type": "code",
   "execution_count": 295,
   "metadata": {},
   "outputs": [
    {
     "data": {
      "text/html": [
       "<div>\n",
       "<style scoped>\n",
       "    .dataframe tbody tr th:only-of-type {\n",
       "        vertical-align: middle;\n",
       "    }\n",
       "\n",
       "    .dataframe tbody tr th {\n",
       "        vertical-align: top;\n",
       "    }\n",
       "\n",
       "    .dataframe thead th {\n",
       "        text-align: right;\n",
       "    }\n",
       "</style>\n",
       "<table border=\"1\" class=\"dataframe\">\n",
       "  <thead>\n",
       "    <tr style=\"text-align: right;\">\n",
       "      <th></th>\n",
       "      <th>countries_missing</th>\n",
       "      <th>pct_countries_missing_from_continent_NGA</th>\n",
       "      <th>is_missing</th>\n",
       "    </tr>\n",
       "  </thead>\n",
       "  <tbody>\n",
       "    <tr>\n",
       "      <th>Africa</th>\n",
       "      <td>57</td>\n",
       "      <td>1.000</td>\n",
       "      <td>1</td>\n",
       "    </tr>\n",
       "    <tr>\n",
       "      <th>Antarctica</th>\n",
       "      <td>2</td>\n",
       "      <td>1.000</td>\n",
       "      <td>1</td>\n",
       "    </tr>\n",
       "    <tr>\n",
       "      <th>Asia</th>\n",
       "      <td>53</td>\n",
       "      <td>1.000</td>\n",
       "      <td>1</td>\n",
       "    </tr>\n",
       "    <tr>\n",
       "      <th>Europe</th>\n",
       "      <td>41</td>\n",
       "      <td>0.820</td>\n",
       "      <td>0</td>\n",
       "    </tr>\n",
       "    <tr>\n",
       "      <th>North America</th>\n",
       "      <td>39</td>\n",
       "      <td>0.975</td>\n",
       "      <td>0</td>\n",
       "    </tr>\n",
       "    <tr>\n",
       "      <th>Oceania</th>\n",
       "      <td>24</td>\n",
       "      <td>1.000</td>\n",
       "      <td>1</td>\n",
       "    </tr>\n",
       "    <tr>\n",
       "      <th>South America</th>\n",
       "      <td>15</td>\n",
       "      <td>1.000</td>\n",
       "      <td>1</td>\n",
       "    </tr>\n",
       "    <tr>\n",
       "      <th>non-transformable</th>\n",
       "      <td>8</td>\n",
       "      <td>1.000</td>\n",
       "      <td>1</td>\n",
       "    </tr>\n",
       "  </tbody>\n",
       "</table>\n",
       "</div>"
      ],
      "text/plain": [
       "                   countries_missing  \\\n",
       "Africa                            57   \n",
       "Antarctica                         2   \n",
       "Asia                              53   \n",
       "Europe                            41   \n",
       "North America                     39   \n",
       "Oceania                           24   \n",
       "South America                     15   \n",
       "non-transformable                  8   \n",
       "\n",
       "                   pct_countries_missing_from_continent_NGA  is_missing  \n",
       "Africa                                                1.000           1  \n",
       "Antarctica                                            1.000           1  \n",
       "Asia                                                  1.000           1  \n",
       "Europe                                                0.820           0  \n",
       "North America                                         0.975           0  \n",
       "Oceania                                               1.000           1  \n",
       "South America                                         1.000           1  \n",
       "non-transformable                                     1.000           1  "
      ]
     },
     "execution_count": 295,
     "metadata": {},
     "output_type": "execute_result"
    }
   ],
   "source": [
    "nonla_continentCounts_missing"
   ]
  },
  {
   "cell_type": "markdown",
   "metadata": {},
   "source": [
    "Below is the code that samples data from the dataset using the missing/not missing information of country and continent data to influence its decision (not ready yet as the information is not yet accurate representation)"
   ]
  },
  {
   "cell_type": "code",
   "execution_count": 299,
   "metadata": {},
   "outputs": [
    {
     "data": {
      "text/html": [
       "<div>\n",
       "<style scoped>\n",
       "    .dataframe tbody tr th:only-of-type {\n",
       "        vertical-align: middle;\n",
       "    }\n",
       "\n",
       "    .dataframe tbody tr th {\n",
       "        vertical-align: top;\n",
       "    }\n",
       "\n",
       "    .dataframe thead th {\n",
       "        text-align: right;\n",
       "    }\n",
       "</style>\n",
       "<table border=\"1\" class=\"dataframe\">\n",
       "  <thead>\n",
       "    <tr style=\"text-align: right;\">\n",
       "      <th></th>\n",
       "      <th>demonym</th>\n",
       "      <th>pct_country_NGA</th>\n",
       "      <th>Country</th>\n",
       "      <th>Continent</th>\n",
       "      <th>Country Name</th>\n",
       "      <th>Continent Name</th>\n",
       "    </tr>\n",
       "  </thead>\n",
       "  <tbody>\n",
       "    <tr>\n",
       "      <th>0</th>\n",
       "      <td>American</td>\n",
       "      <td>0.378527</td>\n",
       "      <td>US</td>\n",
       "      <td>NoA</td>\n",
       "      <td>United States</td>\n",
       "      <td>North America</td>\n",
       "    </tr>\n",
       "    <tr>\n",
       "      <th>1</th>\n",
       "      <td>French</td>\n",
       "      <td>0.347459</td>\n",
       "      <td>FR</td>\n",
       "      <td>EU</td>\n",
       "      <td>France</td>\n",
       "      <td>Europe</td>\n",
       "    </tr>\n",
       "    <tr>\n",
       "      <th>2</th>\n",
       "      <td>German</td>\n",
       "      <td>0.119132</td>\n",
       "      <td>DE</td>\n",
       "      <td>EU</td>\n",
       "      <td>Germany</td>\n",
       "      <td>Europe</td>\n",
       "    </tr>\n",
       "    <tr>\n",
       "      <th>3</th>\n",
       "      <td>Italian</td>\n",
       "      <td>0.034380</td>\n",
       "      <td>IT</td>\n",
       "      <td>EU</td>\n",
       "      <td>Italy</td>\n",
       "      <td>Europe</td>\n",
       "    </tr>\n",
       "    <tr>\n",
       "      <th>4</th>\n",
       "      <td>British</td>\n",
       "      <td>0.028555</td>\n",
       "      <td>GB</td>\n",
       "      <td>EU</td>\n",
       "      <td>United Kingdom</td>\n",
       "      <td>Europe</td>\n",
       "    </tr>\n",
       "    <tr>\n",
       "      <th>5</th>\n",
       "      <td>Spanish</td>\n",
       "      <td>0.009595</td>\n",
       "      <td>ES</td>\n",
       "      <td>EU</td>\n",
       "      <td>Spain</td>\n",
       "      <td>Europe</td>\n",
       "    </tr>\n",
       "    <tr>\n",
       "      <th>6</th>\n",
       "      <td>Dutch</td>\n",
       "      <td>0.006967</td>\n",
       "      <td>NL</td>\n",
       "      <td>EU</td>\n",
       "      <td>Netherlands</td>\n",
       "      <td>Europe</td>\n",
       "    </tr>\n",
       "    <tr>\n",
       "      <th>7</th>\n",
       "      <td>Greek</td>\n",
       "      <td>0.000742</td>\n",
       "      <td>GR</td>\n",
       "      <td>EU</td>\n",
       "      <td>Greece</td>\n",
       "      <td>Europe</td>\n",
       "    </tr>\n",
       "    <tr>\n",
       "      <th>8</th>\n",
       "      <td>Swiss</td>\n",
       "      <td>0.000457</td>\n",
       "      <td>CH</td>\n",
       "      <td>EU</td>\n",
       "      <td>Switzerland</td>\n",
       "      <td>Europe</td>\n",
       "    </tr>\n",
       "    <tr>\n",
       "      <th>9</th>\n",
       "      <td>Austrian</td>\n",
       "      <td>0.000343</td>\n",
       "      <td>AT</td>\n",
       "      <td>EU</td>\n",
       "      <td>Austria</td>\n",
       "      <td>Europe</td>\n",
       "    </tr>\n",
       "  </tbody>\n",
       "</table>\n",
       "</div>"
      ],
      "text/plain": [
       "    demonym  pct_country_NGA Country Continent    Country Name Continent Name\n",
       "0  American         0.378527      US       NoA   United States  North America\n",
       "1    French         0.347459      FR        EU          France         Europe\n",
       "2    German         0.119132      DE        EU         Germany         Europe\n",
       "3   Italian         0.034380      IT        EU           Italy         Europe\n",
       "4   British         0.028555      GB        EU  United Kingdom         Europe\n",
       "5   Spanish         0.009595      ES        EU           Spain         Europe\n",
       "6     Dutch         0.006967      NL        EU     Netherlands         Europe\n",
       "7     Greek         0.000742      GR        EU          Greece         Europe\n",
       "8     Swiss         0.000457      CH        EU     Switzerland         Europe\n",
       "9  Austrian         0.000343      AT        EU         Austria         Europe"
      ]
     },
     "execution_count": 299,
     "metadata": {},
     "output_type": "execute_result"
    }
   ],
   "source": [
    "nonla_geographicStatistics"
   ]
  },
  {
   "cell_type": "code",
   "execution_count": 301,
   "metadata": {},
   "outputs": [],
   "source": [
    "nonla_continentStatistics = pd.concat([continent_probabilities, nonla_continentCounts_missing], axis = 1)"
   ]
  },
  {
   "cell_type": "code",
   "execution_count": 302,
   "metadata": {},
   "outputs": [],
   "source": [
    "nonla_continentStatistics.to_csv('../../../data_samples/nonLaArt/nonla_continentStatistics.csv', index=False)"
   ]
  },
  {
   "cell_type": "code",
   "execution_count": 121,
   "metadata": {
    "collapsed": false,
    "jupyter": {
     "outputs_hidden": false
    },
    "pycharm": {
     "name": "#%%\n"
    }
   },
   "outputs": [],
   "source": [
    "#1580 rows for training (0.008%) & 396 (0.002%) for validation/testing == 1976 for one iteration of sample (1/100 of total dataset) // make sure not being selected with replacement to remove duplicate issue resolved in download_nonLa_art (sampling only for nonLa)\n",
    "#matching_distribution = np.random.choice(non_latinamerican_art.index, p=percent_from_nonLaContinent, size=1976, replace=False)"
   ]
  },
  {
   "cell_type": "code",
   "execution_count": 123,
   "metadata": {
    "collapsed": false,
    "jupyter": {
     "outputs_hidden": false
    },
    "pycharm": {
     "name": "#%%\n"
    }
   },
   "outputs": [],
   "source": [
    "#index_matching = list(matching_distribution)"
   ]
  },
  {
   "cell_type": "code",
   "execution_count": 125,
   "metadata": {
    "collapsed": false,
    "jupyter": {
     "outputs_hidden": false
    },
    "pycharm": {
     "name": "#%%\n"
    }
   },
   "outputs": [],
   "source": [
    "#nonLa_art_subsample = nonLa_art.iloc[index_matching, :]"
   ]
  },
  {
   "cell_type": "code",
   "execution_count": 126,
   "metadata": {
    "collapsed": false,
    "jupyter": {
     "outputs_hidden": false
    },
    "pycharm": {
     "name": "#%%\n"
    }
   },
   "outputs": [],
   "source": [
    "#subsample_countryCounts = nonLa_art_subsample.groupby('Continent').apply(lambda x: len(x))"
   ]
  },
  {
   "cell_type": "code",
   "execution_count": 127,
   "metadata": {
    "collapsed": false,
    "jupyter": {
     "outputs_hidden": false
    },
    "pycharm": {
     "name": "#%%\n"
    }
   },
   "outputs": [
    {
     "data": {
      "text/plain": [
       "Continent\n",
       "Africa           480\n",
       "Asia             453\n",
       "Europe           469\n",
       "North America    384\n",
       "Oceania          190\n",
       "dtype: int64"
      ]
     },
     "execution_count": 127,
     "metadata": {},
     "output_type": "execute_result"
    }
   ],
   "source": [
    "#subsample_countryCounts"
   ]
  },
  {
   "cell_type": "code",
   "execution_count": 128,
   "metadata": {
    "collapsed": false,
    "jupyter": {
     "outputs_hidden": false
    },
    "pycharm": {
     "name": "#%%\n"
    }
   },
   "outputs": [],
   "source": [
    "#subsample_countryCounts = pd.DataFrame({'counts': subsample_countryCounts,'proportion':subsample_countryCounts / subsample_countryCounts.sum()})"
   ]
  },
  {
   "cell_type": "markdown",
   "metadata": {
    "pycharm": {
     "name": "#%% md\n"
    }
   },
   "source": [
    "### Using the probabilities in percent_from_nonLaContinent (with minor correction due to removing the la art causing probabilities to not sum to 1) made the sample about equally representative to overall dataset"
   ]
  },
  {
   "cell_type": "code",
   "execution_count": 129,
   "metadata": {
    "collapsed": false,
    "jupyter": {
     "outputs_hidden": false
    },
    "pycharm": {
     "name": "#%%\n"
    }
   },
   "outputs": [
    {
     "data": {
      "text/html": [
       "<div>\n",
       "<style scoped>\n",
       "    .dataframe tbody tr th:only-of-type {\n",
       "        vertical-align: middle;\n",
       "    }\n",
       "\n",
       "    .dataframe tbody tr th {\n",
       "        vertical-align: top;\n",
       "    }\n",
       "\n",
       "    .dataframe thead th {\n",
       "        text-align: right;\n",
       "    }\n",
       "</style>\n",
       "<table border=\"1\" class=\"dataframe\">\n",
       "  <thead>\n",
       "    <tr style=\"text-align: right;\">\n",
       "      <th></th>\n",
       "      <th>counts</th>\n",
       "      <th>proportion</th>\n",
       "    </tr>\n",
       "    <tr>\n",
       "      <th>Continent</th>\n",
       "      <th></th>\n",
       "      <th></th>\n",
       "    </tr>\n",
       "  </thead>\n",
       "  <tbody>\n",
       "    <tr>\n",
       "      <th>Africa</th>\n",
       "      <td>480</td>\n",
       "      <td>0.242915</td>\n",
       "    </tr>\n",
       "    <tr>\n",
       "      <th>Asia</th>\n",
       "      <td>453</td>\n",
       "      <td>0.229251</td>\n",
       "    </tr>\n",
       "    <tr>\n",
       "      <th>Europe</th>\n",
       "      <td>469</td>\n",
       "      <td>0.237348</td>\n",
       "    </tr>\n",
       "    <tr>\n",
       "      <th>North America</th>\n",
       "      <td>384</td>\n",
       "      <td>0.194332</td>\n",
       "    </tr>\n",
       "    <tr>\n",
       "      <th>Oceania</th>\n",
       "      <td>190</td>\n",
       "      <td>0.096154</td>\n",
       "    </tr>\n",
       "  </tbody>\n",
       "</table>\n",
       "</div>"
      ],
      "text/plain": [
       "               counts  proportion\n",
       "Continent                        \n",
       "Africa            480    0.242915\n",
       "Asia              453    0.229251\n",
       "Europe            469    0.237348\n",
       "North America     384    0.194332\n",
       "Oceania           190    0.096154"
      ]
     },
     "execution_count": 129,
     "metadata": {},
     "output_type": "execute_result"
    }
   ],
   "source": [
    "#subsample_countryCounts"
   ]
  },
  {
   "cell_type": "code",
   "execution_count": 130,
   "metadata": {
    "collapsed": false,
    "jupyter": {
     "outputs_hidden": false
    },
    "pycharm": {
     "name": "#%%\n"
    }
   },
   "outputs": [
    {
     "data": {
      "text/html": [
       "<div>\n",
       "<style scoped>\n",
       "    .dataframe tbody tr th:only-of-type {\n",
       "        vertical-align: middle;\n",
       "    }\n",
       "\n",
       "    .dataframe tbody tr th {\n",
       "        vertical-align: top;\n",
       "    }\n",
       "\n",
       "    .dataframe thead th {\n",
       "        text-align: right;\n",
       "    }\n",
       "</style>\n",
       "<table border=\"1\" class=\"dataframe\">\n",
       "  <thead>\n",
       "    <tr style=\"text-align: right;\">\n",
       "      <th></th>\n",
       "      <th>Countries</th>\n",
       "      <th>proportion</th>\n",
       "    </tr>\n",
       "  </thead>\n",
       "  <tbody>\n",
       "    <tr>\n",
       "      <th>Africa</th>\n",
       "      <td>57</td>\n",
       "      <td>0.247826</td>\n",
       "    </tr>\n",
       "    <tr>\n",
       "      <th>Antarctica</th>\n",
       "      <td>2</td>\n",
       "      <td>0.008696</td>\n",
       "    </tr>\n",
       "    <tr>\n",
       "      <th>Asia</th>\n",
       "      <td>53</td>\n",
       "      <td>0.230435</td>\n",
       "    </tr>\n",
       "    <tr>\n",
       "      <th>Europe</th>\n",
       "      <td>50</td>\n",
       "      <td>0.217391</td>\n",
       "    </tr>\n",
       "    <tr>\n",
       "      <th>North America</th>\n",
       "      <td>36</td>\n",
       "      <td>0.156522</td>\n",
       "    </tr>\n",
       "    <tr>\n",
       "      <th>Oceania</th>\n",
       "      <td>24</td>\n",
       "      <td>0.104348</td>\n",
       "    </tr>\n",
       "    <tr>\n",
       "      <th>South America</th>\n",
       "      <td>0</td>\n",
       "      <td>0.000000</td>\n",
       "    </tr>\n",
       "    <tr>\n",
       "      <th>non-transformable</th>\n",
       "      <td>8</td>\n",
       "      <td>0.034783</td>\n",
       "    </tr>\n",
       "  </tbody>\n",
       "</table>\n",
       "</div>"
      ],
      "text/plain": [
       "                   Countries  proportion\n",
       "Africa                    57    0.247826\n",
       "Antarctica                 2    0.008696\n",
       "Asia                      53    0.230435\n",
       "Europe                    50    0.217391\n",
       "North America             36    0.156522\n",
       "Oceania                   24    0.104348\n",
       "South America              0    0.000000\n",
       "non-transformable          8    0.034783"
      ]
     },
     "execution_count": 130,
     "metadata": {},
     "output_type": "execute_result"
    }
   ],
   "source": [
    "#nonla_countryCounts"
   ]
  },
  {
   "cell_type": "markdown",
   "metadata": {
    "tags": []
   },
   "source": [
    "### Step 3 - Feature Engineering IIIFUrl Links to view the data at the desired resolution"
   ]
  },
  {
   "cell_type": "markdown",
   "metadata": {},
   "source": [
    "### Step 4 - Outputting the final combined NGA/FE data"
   ]
  },
  {
   "cell_type": "markdown",
   "metadata": {
    "pycharm": {
     "name": "#%% md\n"
    }
   },
   "source": [
    "### Downloading the art and dropping into non_laImages folder TBD in download_nonLA_art notebook!"
   ]
  },
  {
   "cell_type": "code",
   "execution_count": 24,
   "metadata": {},
   "outputs": [],
   "source": [
    "#nonla_geographicStatistics.to_csv('../../../data_samples/nonLaArt/nonla_geographicStatistics.csv', index=False)"
   ]
  },
  {
   "cell_type": "code",
   "execution_count": 132,
   "metadata": {
    "collapsed": false,
    "jupyter": {
     "outputs_hidden": false
    },
    "pycharm": {
     "name": "#%%\n"
    }
   },
   "outputs": [],
   "source": [
    "#nonLa_art_subsample.to_csv('../../data_samples/results/processed_subset_results/nonLa_art_sample.csv', index=False)"
   ]
  }
 ],
 "metadata": {
  "kernelspec": {
   "display_name": "Python (test-env)",
   "language": "python",
   "name": "test-env"
  },
  "language_info": {
   "codemirror_mode": {
    "name": "ipython",
    "version": 3
   },
   "file_extension": ".py",
   "mimetype": "text/x-python",
   "name": "python",
   "nbconvert_exporter": "python",
   "pygments_lexer": "ipython3",
   "version": "3.10.9"
  }
 },
 "nbformat": 4,
 "nbformat_minor": 4
}
