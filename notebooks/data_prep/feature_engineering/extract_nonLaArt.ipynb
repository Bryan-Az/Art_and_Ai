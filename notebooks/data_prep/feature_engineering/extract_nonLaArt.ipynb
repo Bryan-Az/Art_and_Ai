{
 "cells": [
  {
   "cell_type": "code",
   "execution_count": 1,
   "metadata": {
    "collapsed": false,
    "jupyter": {
     "outputs_hidden": false
    },
    "pycharm": {
     "name": "#%%\n"
    },
    "tags": []
   },
   "outputs": [],
   "source": [
    "import pandas as pd\n",
    "import numpy as np\n",
    "import pycountry\n",
    "import pycountry_convert as pc\n",
    "import random"
   ]
  },
  {
   "cell_type": "markdown",
   "metadata": {},
   "source": [
    "### Step 1: Importing/Exporting of Data"
   ]
  },
  {
   "cell_type": "markdown",
   "metadata": {},
   "source": [
    "The initial number of rows in the non_latinamerican_art dataset is 471542 in the database and after removing the 'bad lines', 7743 rows were removed."
   ]
  },
  {
   "cell_type": "code",
   "execution_count": 10,
   "metadata": {
    "collapsed": false,
    "jupyter": {
     "outputs_hidden": false
    },
    "pycharm": {
     "name": "#%%\n"
    },
    "tags": []
   },
   "outputs": [],
   "source": [
    "#new version expects dtype on import however as of now only 1 row is impacted\n",
    "non_latinamerican_art = pd.read_csv('../../../data_samples/art_tables/non_latin_art.csv', low_memory=False, on_bad_lines='skip')"
   ]
  },
  {
   "cell_type": "code",
   "execution_count": 19,
   "metadata": {
    "tags": []
   },
   "outputs": [
    {
     "data": {
      "text/plain": [
       "(463799, 40)"
      ]
     },
     "execution_count": 19,
     "metadata": {},
     "output_type": "execute_result"
    }
   ],
   "source": [
    "non_latinamerican_art.shape"
   ]
  },
  {
   "cell_type": "markdown",
   "metadata": {},
   "source": [
    " Saving this column to its' own dataframe will allow for the EDA notebook 'Geography and Demography' to be ran and utilized later"
   ]
  },
  {
   "cell_type": "code",
   "execution_count": 20,
   "metadata": {
    "tags": []
   },
   "outputs": [],
   "source": [
    "#Saving the 'nationality' feature to the constituents nationalities CSV file\n",
    "non_latinamerican_art.nationality.to_csv('../../../data_samples/nonLaArt/constituents_nationalities.csv', index=False)"
   ]
  },
  {
   "cell_type": "markdown",
   "metadata": {},
   "source": [
    "### Step 2: of the La Art Pipeline - Feature Engineering new geographical features"
   ]
  },
  {
   "cell_type": "markdown",
   "metadata": {},
   "source": [
    "#### List of Continent Codes for Determining which non Latin American countries are present in the Gallery"
   ]
  },
  {
   "cell_type": "code",
   "execution_count": 21,
   "metadata": {
    "tags": []
   },
   "outputs": [],
   "source": [
    "cname_alpha_2 = []\n",
    "cname_alpha_3 = []\n",
    "for country in pycountry.countries:\n",
    "    cname_alpha_2.append(country.alpha_2)\n",
    "    cname_alpha_3.append(country.alpha_3)"
   ]
  },
  {
   "cell_type": "code",
   "execution_count": 22,
   "metadata": {
    "tags": []
   },
   "outputs": [],
   "source": [
    "cname_alpha_2 = pd.Series(cname_alpha_2)\n",
    "cname_alpha_3 = pd.Series(cname_alpha_3)"
   ]
  },
  {
   "cell_type": "code",
   "execution_count": 23,
   "metadata": {
    "tags": []
   },
   "outputs": [],
   "source": [
    "error_list = ['AQ', 'TF', 'EH', 'PN', 'SX', 'TL', 'UM', 'VA']\n",
    "continent_names = cname_alpha_2.apply(lambda x: pc.country_alpha2_to_continent_code(x) if x not in error_list else 'non-transformable')"
   ]
  },
  {
   "cell_type": "code",
   "execution_count": 24,
   "metadata": {
    "tags": []
   },
   "outputs": [],
   "source": [
    "country_and_continent = pd.DataFrame([cname_alpha_2, continent_names], index= ['Country', 'Continent']).T"
   ]
  },
  {
   "cell_type": "markdown",
   "metadata": {},
   "source": [
    "This is an important aspect of the data as it will pair the countries with their continents and the nationalities of the artists in the dataset"
   ]
  },
  {
   "cell_type": "code",
   "execution_count": 25,
   "metadata": {
    "tags": []
   },
   "outputs": [
    {
     "data": {
      "text/html": [
       "<div>\n",
       "<style scoped>\n",
       "    .dataframe tbody tr th:only-of-type {\n",
       "        vertical-align: middle;\n",
       "    }\n",
       "\n",
       "    .dataframe tbody tr th {\n",
       "        vertical-align: top;\n",
       "    }\n",
       "\n",
       "    .dataframe thead th {\n",
       "        text-align: right;\n",
       "    }\n",
       "</style>\n",
       "<table border=\"1\" class=\"dataframe\">\n",
       "  <thead>\n",
       "    <tr style=\"text-align: right;\">\n",
       "      <th></th>\n",
       "      <th>Country</th>\n",
       "      <th>Continent</th>\n",
       "    </tr>\n",
       "  </thead>\n",
       "  <tbody>\n",
       "    <tr>\n",
       "      <th>0</th>\n",
       "      <td>AW</td>\n",
       "      <td>NA</td>\n",
       "    </tr>\n",
       "    <tr>\n",
       "      <th>1</th>\n",
       "      <td>AF</td>\n",
       "      <td>AS</td>\n",
       "    </tr>\n",
       "    <tr>\n",
       "      <th>2</th>\n",
       "      <td>AO</td>\n",
       "      <td>AF</td>\n",
       "    </tr>\n",
       "    <tr>\n",
       "      <th>3</th>\n",
       "      <td>AI</td>\n",
       "      <td>NA</td>\n",
       "    </tr>\n",
       "    <tr>\n",
       "      <th>4</th>\n",
       "      <td>AX</td>\n",
       "      <td>EU</td>\n",
       "    </tr>\n",
       "  </tbody>\n",
       "</table>\n",
       "</div>"
      ],
      "text/plain": [
       "  Country Continent\n",
       "0      AW        NA\n",
       "1      AF        AS\n",
       "2      AO        AF\n",
       "3      AI        NA\n",
       "4      AX        EU"
      ]
     },
     "execution_count": 25,
     "metadata": {},
     "output_type": "execute_result"
    }
   ],
   "source": [
    "country_and_continent.head()"
   ]
  },
  {
   "cell_type": "code",
   "execution_count": 26,
   "metadata": {
    "tags": []
   },
   "outputs": [],
   "source": [
    "total_by_continent = country_and_continent.groupby('Continent').count()"
   ]
  },
  {
   "cell_type": "markdown",
   "metadata": {},
   "source": [
    "### Distribution of Countries by Continent, World Wide"
   ]
  },
  {
   "cell_type": "code",
   "execution_count": 27,
   "metadata": {
    "tags": []
   },
   "outputs": [],
   "source": [
    "country_and_continent['Country Name'] = country_and_continent.Country.apply(pc.country_alpha2_to_country_name)"
   ]
  },
  {
   "cell_type": "code",
   "execution_count": 28,
   "metadata": {
    "tags": []
   },
   "outputs": [],
   "source": [
    "country_and_continent['Continent Name'] = country_and_continent.Continent.apply(lambda x: pc.convert_continent_code_to_continent_name(x) if x != 'non-transformable' else x)"
   ]
  },
  {
   "cell_type": "code",
   "execution_count": 29,
   "metadata": {
    "tags": []
   },
   "outputs": [
    {
     "data": {
      "text/html": [
       "<div>\n",
       "<style scoped>\n",
       "    .dataframe tbody tr th:only-of-type {\n",
       "        vertical-align: middle;\n",
       "    }\n",
       "\n",
       "    .dataframe tbody tr th {\n",
       "        vertical-align: top;\n",
       "    }\n",
       "\n",
       "    .dataframe thead th {\n",
       "        text-align: right;\n",
       "    }\n",
       "</style>\n",
       "<table border=\"1\" class=\"dataframe\">\n",
       "  <thead>\n",
       "    <tr style=\"text-align: right;\">\n",
       "      <th></th>\n",
       "      <th>Country</th>\n",
       "      <th>Continent</th>\n",
       "      <th>Country Name</th>\n",
       "      <th>Continent Name</th>\n",
       "    </tr>\n",
       "  </thead>\n",
       "  <tbody>\n",
       "    <tr>\n",
       "      <th>0</th>\n",
       "      <td>AW</td>\n",
       "      <td>NA</td>\n",
       "      <td>Aruba</td>\n",
       "      <td>North America</td>\n",
       "    </tr>\n",
       "    <tr>\n",
       "      <th>1</th>\n",
       "      <td>AF</td>\n",
       "      <td>AS</td>\n",
       "      <td>Afghanistan</td>\n",
       "      <td>Asia</td>\n",
       "    </tr>\n",
       "    <tr>\n",
       "      <th>2</th>\n",
       "      <td>AO</td>\n",
       "      <td>AF</td>\n",
       "      <td>Angola</td>\n",
       "      <td>Africa</td>\n",
       "    </tr>\n",
       "    <tr>\n",
       "      <th>3</th>\n",
       "      <td>AI</td>\n",
       "      <td>NA</td>\n",
       "      <td>Anguilla</td>\n",
       "      <td>North America</td>\n",
       "    </tr>\n",
       "    <tr>\n",
       "      <th>4</th>\n",
       "      <td>AX</td>\n",
       "      <td>EU</td>\n",
       "      <td>Åland Islands</td>\n",
       "      <td>Europe</td>\n",
       "    </tr>\n",
       "  </tbody>\n",
       "</table>\n",
       "</div>"
      ],
      "text/plain": [
       "  Country Continent   Country Name Continent Name\n",
       "0      AW        NA          Aruba  North America\n",
       "1      AF        AS    Afghanistan           Asia\n",
       "2      AO        AF         Angola         Africa\n",
       "3      AI        NA       Anguilla  North America\n",
       "4      AX        EU  Åland Islands         Europe"
      ]
     },
     "execution_count": 29,
     "metadata": {},
     "output_type": "execute_result"
    }
   ],
   "source": [
    "country_and_continent.head()"
   ]
  },
  {
   "cell_type": "code",
   "execution_count": 30,
   "metadata": {
    "tags": []
   },
   "outputs": [],
   "source": [
    "constituent_nationalities = non_latinamerican_art.nationality.copy()"
   ]
  },
  {
   "cell_type": "code",
   "execution_count": 31,
   "metadata": {
    "tags": []
   },
   "outputs": [],
   "source": [
    "nonla_artist_origin = constituent_nationalities.value_counts(normalize=True)"
   ]
  },
  {
   "cell_type": "code",
   "execution_count": 32,
   "metadata": {
    "tags": []
   },
   "outputs": [
    {
     "data": {
      "text/plain": [
       "(463799,)"
      ]
     },
     "execution_count": 32,
     "metadata": {},
     "output_type": "execute_result"
    }
   ],
   "source": [
    "constituent_nationalities.shape"
   ]
  },
  {
   "cell_type": "code",
   "execution_count": 35,
   "metadata": {
    "tags": []
   },
   "outputs": [
    {
     "data": {
      "text/plain": [
       "American    0.704890\n",
       "French      0.102478\n",
       "Italian     0.045463\n",
       "German      0.041107\n",
       "British     0.029466\n",
       "Name: nationality, dtype: float64"
      ]
     },
     "execution_count": 35,
     "metadata": {},
     "output_type": "execute_result"
    }
   ],
   "source": [
    "nonla_artist_origin.head()"
   ]
  },
  {
   "cell_type": "code",
   "execution_count": 36,
   "metadata": {
    "tags": []
   },
   "outputs": [],
   "source": [
    "nonla_artist_origin = nonla_artist_origin.reset_index(drop=False)"
   ]
  },
  {
   "cell_type": "code",
   "execution_count": 37,
   "metadata": {
    "tags": []
   },
   "outputs": [],
   "source": [
    "nonla_artist_origin.columns = ['demonym', 'pct_country_NGA']"
   ]
  },
  {
   "cell_type": "code",
   "execution_count": 38,
   "metadata": {
    "tags": []
   },
   "outputs": [],
   "source": [
    "#the assistance of an outside demonyms table which has a key to connect Country to Demonym\n",
    "demonyms = pd.read_csv('../../../data_samples/results/processed_subset_results/demonyms.csv')"
   ]
  },
  {
   "cell_type": "code",
   "execution_count": 39,
   "metadata": {
    "tags": []
   },
   "outputs": [],
   "source": [
    "non_latines = pd.merge(country_and_continent, demonyms, how='inner', on ='Country Name')"
   ]
  },
  {
   "cell_type": "code",
   "execution_count": 40,
   "metadata": {
    "tags": []
   },
   "outputs": [],
   "source": [
    "nonla_geographicStatistics = pd.merge(nonla_artist_origin, non_latines, how='inner', on = 'demonym')"
   ]
  },
  {
   "cell_type": "markdown",
   "metadata": {},
   "source": [
    "#### Notice: Some of the datapoints in this table are duplicated and may need to be removed to due the existence of many kinds of demonyms for each country. (one-country, many-demonyms). Could be resolved by choosing a single demonym per country."
   ]
  },
  {
   "cell_type": "code",
   "execution_count": 52,
   "metadata": {
    "tags": []
   },
   "outputs": [],
   "source": [
    "nonla_geographicStatistics.drop(11, axis=0, inplace=True)\n",
    "nonla_geographicStatistics.reset_index(drop=True, inplace=True)"
   ]
  },
  {
   "cell_type": "code",
   "execution_count": 57,
   "metadata": {
    "tags": []
   },
   "outputs": [
    {
     "data": {
      "text/html": [
       "<div>\n",
       "<style scoped>\n",
       "    .dataframe tbody tr th:only-of-type {\n",
       "        vertical-align: middle;\n",
       "    }\n",
       "\n",
       "    .dataframe tbody tr th {\n",
       "        vertical-align: top;\n",
       "    }\n",
       "\n",
       "    .dataframe thead th {\n",
       "        text-align: right;\n",
       "    }\n",
       "</style>\n",
       "<table border=\"1\" class=\"dataframe\">\n",
       "  <thead>\n",
       "    <tr style=\"text-align: right;\">\n",
       "      <th></th>\n",
       "      <th>demonym</th>\n",
       "      <th>pct_country_NGA</th>\n",
       "      <th>Country</th>\n",
       "      <th>Continent</th>\n",
       "      <th>Country Name</th>\n",
       "      <th>Continent Name</th>\n",
       "    </tr>\n",
       "  </thead>\n",
       "  <tbody>\n",
       "    <tr>\n",
       "      <th>0</th>\n",
       "      <td>American</td>\n",
       "      <td>0.704890</td>\n",
       "      <td>US</td>\n",
       "      <td>NoA</td>\n",
       "      <td>United States</td>\n",
       "      <td>North America</td>\n",
       "    </tr>\n",
       "    <tr>\n",
       "      <th>1</th>\n",
       "      <td>French</td>\n",
       "      <td>0.102478</td>\n",
       "      <td>FR</td>\n",
       "      <td>EU</td>\n",
       "      <td>France</td>\n",
       "      <td>Europe</td>\n",
       "    </tr>\n",
       "    <tr>\n",
       "      <th>2</th>\n",
       "      <td>Italian</td>\n",
       "      <td>0.045463</td>\n",
       "      <td>IT</td>\n",
       "      <td>EU</td>\n",
       "      <td>Italy</td>\n",
       "      <td>Europe</td>\n",
       "    </tr>\n",
       "    <tr>\n",
       "      <th>3</th>\n",
       "      <td>German</td>\n",
       "      <td>0.041107</td>\n",
       "      <td>DE</td>\n",
       "      <td>EU</td>\n",
       "      <td>Germany</td>\n",
       "      <td>Europe</td>\n",
       "    </tr>\n",
       "    <tr>\n",
       "      <th>4</th>\n",
       "      <td>British</td>\n",
       "      <td>0.029466</td>\n",
       "      <td>GB</td>\n",
       "      <td>EU</td>\n",
       "      <td>United Kingdom</td>\n",
       "      <td>Europe</td>\n",
       "    </tr>\n",
       "    <tr>\n",
       "      <th>5</th>\n",
       "      <td>Dutch</td>\n",
       "      <td>0.016821</td>\n",
       "      <td>NL</td>\n",
       "      <td>EU</td>\n",
       "      <td>Netherlands</td>\n",
       "      <td>Europe</td>\n",
       "    </tr>\n",
       "    <tr>\n",
       "      <th>6</th>\n",
       "      <td>Spanish</td>\n",
       "      <td>0.003908</td>\n",
       "      <td>ES</td>\n",
       "      <td>EU</td>\n",
       "      <td>Spain</td>\n",
       "      <td>Europe</td>\n",
       "    </tr>\n",
       "    <tr>\n",
       "      <th>7</th>\n",
       "      <td>Swiss</td>\n",
       "      <td>0.003898</td>\n",
       "      <td>CH</td>\n",
       "      <td>EU</td>\n",
       "      <td>Switzerland</td>\n",
       "      <td>Europe</td>\n",
       "    </tr>\n",
       "    <tr>\n",
       "      <th>8</th>\n",
       "      <td>Chinese</td>\n",
       "      <td>0.001939</td>\n",
       "      <td>CN</td>\n",
       "      <td>AS</td>\n",
       "      <td>China</td>\n",
       "      <td>Asia</td>\n",
       "    </tr>\n",
       "    <tr>\n",
       "      <th>9</th>\n",
       "      <td>Austrian</td>\n",
       "      <td>0.001889</td>\n",
       "      <td>AT</td>\n",
       "      <td>EU</td>\n",
       "      <td>Austria</td>\n",
       "      <td>Europe</td>\n",
       "    </tr>\n",
       "    <tr>\n",
       "      <th>10</th>\n",
       "      <td>Japanese</td>\n",
       "      <td>0.001676</td>\n",
       "      <td>JP</td>\n",
       "      <td>AS</td>\n",
       "      <td>Japan</td>\n",
       "      <td>Asia</td>\n",
       "    </tr>\n",
       "    <tr>\n",
       "      <th>11</th>\n",
       "      <td>Mexican</td>\n",
       "      <td>0.001012</td>\n",
       "      <td>MX</td>\n",
       "      <td>NoA</td>\n",
       "      <td>Mexico</td>\n",
       "      <td>North America</td>\n",
       "    </tr>\n",
       "    <tr>\n",
       "      <th>12</th>\n",
       "      <td>Norwegian</td>\n",
       "      <td>0.000962</td>\n",
       "      <td>NO</td>\n",
       "      <td>EU</td>\n",
       "      <td>Norway</td>\n",
       "      <td>Europe</td>\n",
       "    </tr>\n",
       "    <tr>\n",
       "      <th>13</th>\n",
       "      <td>Belgian</td>\n",
       "      <td>0.000774</td>\n",
       "      <td>BE</td>\n",
       "      <td>EU</td>\n",
       "      <td>Belgium</td>\n",
       "      <td>Europe</td>\n",
       "    </tr>\n",
       "    <tr>\n",
       "      <th>14</th>\n",
       "      <td>Swedish</td>\n",
       "      <td>0.000660</td>\n",
       "      <td>SE</td>\n",
       "      <td>EU</td>\n",
       "      <td>Sweden</td>\n",
       "      <td>Europe</td>\n",
       "    </tr>\n",
       "  </tbody>\n",
       "</table>\n",
       "</div>"
      ],
      "text/plain": [
       "      demonym  pct_country_NGA Country Continent    Country Name  \\\n",
       "0    American         0.704890      US       NoA   United States   \n",
       "1      French         0.102478      FR        EU          France   \n",
       "2     Italian         0.045463      IT        EU           Italy   \n",
       "3      German         0.041107      DE        EU         Germany   \n",
       "4     British         0.029466      GB        EU  United Kingdom   \n",
       "5       Dutch         0.016821      NL        EU     Netherlands   \n",
       "6     Spanish         0.003908      ES        EU           Spain   \n",
       "7       Swiss         0.003898      CH        EU     Switzerland   \n",
       "8     Chinese         0.001939      CN        AS           China   \n",
       "9    Austrian         0.001889      AT        EU         Austria   \n",
       "10   Japanese         0.001676      JP        AS           Japan   \n",
       "11    Mexican         0.001012      MX       NoA          Mexico   \n",
       "12  Norwegian         0.000962      NO        EU          Norway   \n",
       "13    Belgian         0.000774      BE        EU         Belgium   \n",
       "14    Swedish         0.000660      SE        EU          Sweden   \n",
       "\n",
       "   Continent Name  \n",
       "0   North America  \n",
       "1          Europe  \n",
       "2          Europe  \n",
       "3          Europe  \n",
       "4          Europe  \n",
       "5          Europe  \n",
       "6          Europe  \n",
       "7          Europe  \n",
       "8            Asia  \n",
       "9          Europe  \n",
       "10           Asia  \n",
       "11  North America  \n",
       "12         Europe  \n",
       "13         Europe  \n",
       "14         Europe  "
      ]
     },
     "execution_count": 57,
     "metadata": {},
     "output_type": "execute_result"
    }
   ],
   "source": [
    "nonla_geographicStatistics.head(15)"
   ]
  },
  {
   "cell_type": "markdown",
   "metadata": {
    "pycharm": {
     "name": "#%% md\n"
    }
   },
   "source": [
    "### Proportion of Countries per Continent\n",
    "Real vs Non-LA Dataset Distributions"
   ]
  },
  {
   "cell_type": "code",
   "execution_count": 43,
   "metadata": {
    "tags": []
   },
   "outputs": [],
   "source": [
    "remove_from_index = ['non-transformable']\n",
    "total_by_continent.index = pd.Series(list(total_by_continent.index)).apply(lambda x: pc.convert_continent_code_to_continent_name(x) if x not in remove_from_index else x)"
   ]
  },
  {
   "cell_type": "code",
   "execution_count": 44,
   "metadata": {
    "collapsed": false,
    "jupyter": {
     "outputs_hidden": false
    },
    "pycharm": {
     "name": "#%%\n"
    },
    "tags": []
   },
   "outputs": [],
   "source": [
    "total_by_continent['proportion'] = total_by_continent['Country'] / total_by_continent['Country'].sum()"
   ]
  },
  {
   "cell_type": "code",
   "execution_count": 45,
   "metadata": {
    "collapsed": false,
    "jupyter": {
     "outputs_hidden": false
    },
    "pycharm": {
     "name": "#%%\n"
    },
    "tags": []
   },
   "outputs": [],
   "source": [
    "total_by_continent.name = 'Actual Distribution'"
   ]
  },
  {
   "cell_type": "code",
   "execution_count": 46,
   "metadata": {
    "tags": []
   },
   "outputs": [
    {
     "data": {
      "text/html": [
       "<div>\n",
       "<style scoped>\n",
       "    .dataframe tbody tr th:only-of-type {\n",
       "        vertical-align: middle;\n",
       "    }\n",
       "\n",
       "    .dataframe tbody tr th {\n",
       "        vertical-align: top;\n",
       "    }\n",
       "\n",
       "    .dataframe thead th {\n",
       "        text-align: right;\n",
       "    }\n",
       "</style>\n",
       "<table border=\"1\" class=\"dataframe\">\n",
       "  <thead>\n",
       "    <tr style=\"text-align: right;\">\n",
       "      <th></th>\n",
       "      <th>Country</th>\n",
       "      <th>proportion</th>\n",
       "    </tr>\n",
       "  </thead>\n",
       "  <tbody>\n",
       "    <tr>\n",
       "      <th>Africa</th>\n",
       "      <td>57</td>\n",
       "      <td>0.228916</td>\n",
       "    </tr>\n",
       "    <tr>\n",
       "      <th>Antarctica</th>\n",
       "      <td>2</td>\n",
       "      <td>0.008032</td>\n",
       "    </tr>\n",
       "    <tr>\n",
       "      <th>Asia</th>\n",
       "      <td>53</td>\n",
       "      <td>0.212851</td>\n",
       "    </tr>\n",
       "    <tr>\n",
       "      <th>Europe</th>\n",
       "      <td>50</td>\n",
       "      <td>0.200803</td>\n",
       "    </tr>\n",
       "    <tr>\n",
       "      <th>North America</th>\n",
       "      <td>40</td>\n",
       "      <td>0.160643</td>\n",
       "    </tr>\n",
       "    <tr>\n",
       "      <th>Oceania</th>\n",
       "      <td>24</td>\n",
       "      <td>0.096386</td>\n",
       "    </tr>\n",
       "    <tr>\n",
       "      <th>South America</th>\n",
       "      <td>15</td>\n",
       "      <td>0.060241</td>\n",
       "    </tr>\n",
       "    <tr>\n",
       "      <th>non-transformable</th>\n",
       "      <td>8</td>\n",
       "      <td>0.032129</td>\n",
       "    </tr>\n",
       "  </tbody>\n",
       "</table>\n",
       "</div>"
      ],
      "text/plain": [
       "                   Country  proportion\n",
       "Africa                  57    0.228916\n",
       "Antarctica               2    0.008032\n",
       "Asia                    53    0.212851\n",
       "Europe                  50    0.200803\n",
       "North America           40    0.160643\n",
       "Oceania                 24    0.096386\n",
       "South America           15    0.060241\n",
       "non-transformable        8    0.032129"
      ]
     },
     "execution_count": 46,
     "metadata": {},
     "output_type": "execute_result"
    }
   ],
   "source": [
    "total_by_continent"
   ]
  },
  {
   "cell_type": "code",
   "execution_count": 47,
   "metadata": {
    "tags": []
   },
   "outputs": [],
   "source": [
    "nonla_geographicStatistics['Continent'] = nonla_geographicStatistics['Continent'].replace('NA', 'NoA')"
   ]
  },
  {
   "cell_type": "code",
   "execution_count": 78,
   "metadata": {
    "collapsed": false,
    "jupyter": {
     "outputs_hidden": false
    },
    "pycharm": {
     "name": "#%%\n"
    },
    "tags": []
   },
   "outputs": [],
   "source": [
    "nonla_continentCounts = nonla_geographicStatistics.groupby('Continent Name').apply(lambda x: len(x))"
   ]
  },
  {
   "cell_type": "markdown",
   "metadata": {},
   "source": [
    " After using the demonym dataset to link the geographic naming Data\n",
    " with the pct_country_NGA data, some datapoints were lots. (sum of pct is now ~96%) and the number of countries was reduced to ~ 52 (one duplicate)"
   ]
  },
  {
   "cell_type": "code",
   "execution_count": 58,
   "metadata": {
    "tags": []
   },
   "outputs": [
    {
     "data": {
      "text/html": [
       "<div>\n",
       "<style scoped>\n",
       "    .dataframe tbody tr th:only-of-type {\n",
       "        vertical-align: middle;\n",
       "    }\n",
       "\n",
       "    .dataframe tbody tr th {\n",
       "        vertical-align: top;\n",
       "    }\n",
       "\n",
       "    .dataframe thead th {\n",
       "        text-align: right;\n",
       "    }\n",
       "</style>\n",
       "<table border=\"1\" class=\"dataframe\">\n",
       "  <thead>\n",
       "    <tr style=\"text-align: right;\">\n",
       "      <th></th>\n",
       "      <th>demonym</th>\n",
       "      <th>pct_country_NGA</th>\n",
       "      <th>Country</th>\n",
       "      <th>Continent</th>\n",
       "      <th>Country Name</th>\n",
       "      <th>Continent Name</th>\n",
       "    </tr>\n",
       "  </thead>\n",
       "  <tbody>\n",
       "    <tr>\n",
       "      <th>0</th>\n",
       "      <td>American</td>\n",
       "      <td>0.704890</td>\n",
       "      <td>US</td>\n",
       "      <td>NoA</td>\n",
       "      <td>United States</td>\n",
       "      <td>North America</td>\n",
       "    </tr>\n",
       "    <tr>\n",
       "      <th>1</th>\n",
       "      <td>French</td>\n",
       "      <td>0.102478</td>\n",
       "      <td>FR</td>\n",
       "      <td>EU</td>\n",
       "      <td>France</td>\n",
       "      <td>Europe</td>\n",
       "    </tr>\n",
       "    <tr>\n",
       "      <th>2</th>\n",
       "      <td>Italian</td>\n",
       "      <td>0.045463</td>\n",
       "      <td>IT</td>\n",
       "      <td>EU</td>\n",
       "      <td>Italy</td>\n",
       "      <td>Europe</td>\n",
       "    </tr>\n",
       "    <tr>\n",
       "      <th>3</th>\n",
       "      <td>German</td>\n",
       "      <td>0.041107</td>\n",
       "      <td>DE</td>\n",
       "      <td>EU</td>\n",
       "      <td>Germany</td>\n",
       "      <td>Europe</td>\n",
       "    </tr>\n",
       "    <tr>\n",
       "      <th>4</th>\n",
       "      <td>British</td>\n",
       "      <td>0.029466</td>\n",
       "      <td>GB</td>\n",
       "      <td>EU</td>\n",
       "      <td>United Kingdom</td>\n",
       "      <td>Europe</td>\n",
       "    </tr>\n",
       "    <tr>\n",
       "      <th>5</th>\n",
       "      <td>Dutch</td>\n",
       "      <td>0.016821</td>\n",
       "      <td>NL</td>\n",
       "      <td>EU</td>\n",
       "      <td>Netherlands</td>\n",
       "      <td>Europe</td>\n",
       "    </tr>\n",
       "    <tr>\n",
       "      <th>6</th>\n",
       "      <td>Spanish</td>\n",
       "      <td>0.003908</td>\n",
       "      <td>ES</td>\n",
       "      <td>EU</td>\n",
       "      <td>Spain</td>\n",
       "      <td>Europe</td>\n",
       "    </tr>\n",
       "    <tr>\n",
       "      <th>7</th>\n",
       "      <td>Swiss</td>\n",
       "      <td>0.003898</td>\n",
       "      <td>CH</td>\n",
       "      <td>EU</td>\n",
       "      <td>Switzerland</td>\n",
       "      <td>Europe</td>\n",
       "    </tr>\n",
       "    <tr>\n",
       "      <th>8</th>\n",
       "      <td>Chinese</td>\n",
       "      <td>0.001939</td>\n",
       "      <td>CN</td>\n",
       "      <td>AS</td>\n",
       "      <td>China</td>\n",
       "      <td>Asia</td>\n",
       "    </tr>\n",
       "    <tr>\n",
       "      <th>9</th>\n",
       "      <td>Austrian</td>\n",
       "      <td>0.001889</td>\n",
       "      <td>AT</td>\n",
       "      <td>EU</td>\n",
       "      <td>Austria</td>\n",
       "      <td>Europe</td>\n",
       "    </tr>\n",
       "    <tr>\n",
       "      <th>10</th>\n",
       "      <td>Japanese</td>\n",
       "      <td>0.001676</td>\n",
       "      <td>JP</td>\n",
       "      <td>AS</td>\n",
       "      <td>Japan</td>\n",
       "      <td>Asia</td>\n",
       "    </tr>\n",
       "    <tr>\n",
       "      <th>11</th>\n",
       "      <td>Mexican</td>\n",
       "      <td>0.001012</td>\n",
       "      <td>MX</td>\n",
       "      <td>NoA</td>\n",
       "      <td>Mexico</td>\n",
       "      <td>North America</td>\n",
       "    </tr>\n",
       "    <tr>\n",
       "      <th>12</th>\n",
       "      <td>Norwegian</td>\n",
       "      <td>0.000962</td>\n",
       "      <td>NO</td>\n",
       "      <td>EU</td>\n",
       "      <td>Norway</td>\n",
       "      <td>Europe</td>\n",
       "    </tr>\n",
       "    <tr>\n",
       "      <th>13</th>\n",
       "      <td>Belgian</td>\n",
       "      <td>0.000774</td>\n",
       "      <td>BE</td>\n",
       "      <td>EU</td>\n",
       "      <td>Belgium</td>\n",
       "      <td>Europe</td>\n",
       "    </tr>\n",
       "    <tr>\n",
       "      <th>14</th>\n",
       "      <td>Swedish</td>\n",
       "      <td>0.000660</td>\n",
       "      <td>SE</td>\n",
       "      <td>EU</td>\n",
       "      <td>Sweden</td>\n",
       "      <td>Europe</td>\n",
       "    </tr>\n",
       "    <tr>\n",
       "      <th>15</th>\n",
       "      <td>Canadian</td>\n",
       "      <td>0.000640</td>\n",
       "      <td>CA</td>\n",
       "      <td>NoA</td>\n",
       "      <td>Canada</td>\n",
       "      <td>North America</td>\n",
       "    </tr>\n",
       "    <tr>\n",
       "      <th>16</th>\n",
       "      <td>Danish</td>\n",
       "      <td>0.000585</td>\n",
       "      <td>DK</td>\n",
       "      <td>EU</td>\n",
       "      <td>Denmark</td>\n",
       "      <td>Europe</td>\n",
       "    </tr>\n",
       "    <tr>\n",
       "      <th>17</th>\n",
       "      <td>Israeli</td>\n",
       "      <td>0.000402</td>\n",
       "      <td>IL</td>\n",
       "      <td>AS</td>\n",
       "      <td>Israel</td>\n",
       "      <td>Asia</td>\n",
       "    </tr>\n",
       "    <tr>\n",
       "      <th>18</th>\n",
       "      <td>Greek</td>\n",
       "      <td>0.000352</td>\n",
       "      <td>GR</td>\n",
       "      <td>EU</td>\n",
       "      <td>Greece</td>\n",
       "      <td>Europe</td>\n",
       "    </tr>\n",
       "    <tr>\n",
       "      <th>19</th>\n",
       "      <td>Australian</td>\n",
       "      <td>0.000347</td>\n",
       "      <td>AU</td>\n",
       "      <td>OC</td>\n",
       "      <td>Australia</td>\n",
       "      <td>Oceania</td>\n",
       "    </tr>\n",
       "    <tr>\n",
       "      <th>20</th>\n",
       "      <td>Polish</td>\n",
       "      <td>0.000307</td>\n",
       "      <td>PL</td>\n",
       "      <td>EU</td>\n",
       "      <td>Poland</td>\n",
       "      <td>Europe</td>\n",
       "    </tr>\n",
       "    <tr>\n",
       "      <th>21</th>\n",
       "      <td>Argentine</td>\n",
       "      <td>0.000263</td>\n",
       "      <td>AR</td>\n",
       "      <td>SA</td>\n",
       "      <td>Argentina</td>\n",
       "      <td>South America</td>\n",
       "    </tr>\n",
       "    <tr>\n",
       "      <th>22</th>\n",
       "      <td>Irish</td>\n",
       "      <td>0.000243</td>\n",
       "      <td>IE</td>\n",
       "      <td>EU</td>\n",
       "      <td>Ireland</td>\n",
       "      <td>Europe</td>\n",
       "    </tr>\n",
       "    <tr>\n",
       "      <th>23</th>\n",
       "      <td>Hungarian</td>\n",
       "      <td>0.000208</td>\n",
       "      <td>HU</td>\n",
       "      <td>EU</td>\n",
       "      <td>Hungary</td>\n",
       "      <td>Europe</td>\n",
       "    </tr>\n",
       "    <tr>\n",
       "      <th>24</th>\n",
       "      <td>Brazilian</td>\n",
       "      <td>0.000183</td>\n",
       "      <td>BR</td>\n",
       "      <td>SA</td>\n",
       "      <td>Brazil</td>\n",
       "      <td>South America</td>\n",
       "    </tr>\n",
       "    <tr>\n",
       "      <th>25</th>\n",
       "      <td>South African</td>\n",
       "      <td>0.000169</td>\n",
       "      <td>ZA</td>\n",
       "      <td>AF</td>\n",
       "      <td>South Africa</td>\n",
       "      <td>Africa</td>\n",
       "    </tr>\n",
       "    <tr>\n",
       "      <th>26</th>\n",
       "      <td>Argentinean</td>\n",
       "      <td>0.000134</td>\n",
       "      <td>AR</td>\n",
       "      <td>SA</td>\n",
       "      <td>Argentina</td>\n",
       "      <td>South America</td>\n",
       "    </tr>\n",
       "    <tr>\n",
       "      <th>27</th>\n",
       "      <td>Croatian</td>\n",
       "      <td>0.000134</td>\n",
       "      <td>HR</td>\n",
       "      <td>EU</td>\n",
       "      <td>Croatia</td>\n",
       "      <td>Europe</td>\n",
       "    </tr>\n",
       "    <tr>\n",
       "      <th>28</th>\n",
       "      <td>Guatemalan</td>\n",
       "      <td>0.000129</td>\n",
       "      <td>GT</td>\n",
       "      <td>NoA</td>\n",
       "      <td>Guatemala</td>\n",
       "      <td>North America</td>\n",
       "    </tr>\n",
       "    <tr>\n",
       "      <th>29</th>\n",
       "      <td>Chilean</td>\n",
       "      <td>0.000104</td>\n",
       "      <td>CL</td>\n",
       "      <td>SA</td>\n",
       "      <td>Chile</td>\n",
       "      <td>South America</td>\n",
       "    </tr>\n",
       "    <tr>\n",
       "      <th>30</th>\n",
       "      <td>Romanian</td>\n",
       "      <td>0.000074</td>\n",
       "      <td>RO</td>\n",
       "      <td>EU</td>\n",
       "      <td>Romania</td>\n",
       "      <td>Europe</td>\n",
       "    </tr>\n",
       "    <tr>\n",
       "      <th>31</th>\n",
       "      <td>Indian</td>\n",
       "      <td>0.000055</td>\n",
       "      <td>IN</td>\n",
       "      <td>AS</td>\n",
       "      <td>India</td>\n",
       "      <td>Asia</td>\n",
       "    </tr>\n",
       "    <tr>\n",
       "      <th>32</th>\n",
       "      <td>Finnish</td>\n",
       "      <td>0.000050</td>\n",
       "      <td>FI</td>\n",
       "      <td>EU</td>\n",
       "      <td>Finland</td>\n",
       "      <td>Europe</td>\n",
       "    </tr>\n",
       "    <tr>\n",
       "      <th>33</th>\n",
       "      <td>Portuguese</td>\n",
       "      <td>0.000045</td>\n",
       "      <td>PT</td>\n",
       "      <td>EU</td>\n",
       "      <td>Portugal</td>\n",
       "      <td>Europe</td>\n",
       "    </tr>\n",
       "    <tr>\n",
       "      <th>34</th>\n",
       "      <td>Bulgarian</td>\n",
       "      <td>0.000035</td>\n",
       "      <td>BG</td>\n",
       "      <td>EU</td>\n",
       "      <td>Bulgaria</td>\n",
       "      <td>Europe</td>\n",
       "    </tr>\n",
       "    <tr>\n",
       "      <th>35</th>\n",
       "      <td>Egyptian</td>\n",
       "      <td>0.000015</td>\n",
       "      <td>EG</td>\n",
       "      <td>AF</td>\n",
       "      <td>Egypt</td>\n",
       "      <td>Africa</td>\n",
       "    </tr>\n",
       "    <tr>\n",
       "      <th>36</th>\n",
       "      <td>Latvian</td>\n",
       "      <td>0.000015</td>\n",
       "      <td>LV</td>\n",
       "      <td>EU</td>\n",
       "      <td>Latvia</td>\n",
       "      <td>Europe</td>\n",
       "    </tr>\n",
       "    <tr>\n",
       "      <th>37</th>\n",
       "      <td>Cuban</td>\n",
       "      <td>0.000015</td>\n",
       "      <td>CU</td>\n",
       "      <td>NoA</td>\n",
       "      <td>Cuba</td>\n",
       "      <td>North America</td>\n",
       "    </tr>\n",
       "    <tr>\n",
       "      <th>38</th>\n",
       "      <td>Peruvian</td>\n",
       "      <td>0.000015</td>\n",
       "      <td>PE</td>\n",
       "      <td>SA</td>\n",
       "      <td>Peru</td>\n",
       "      <td>South America</td>\n",
       "    </tr>\n",
       "    <tr>\n",
       "      <th>39</th>\n",
       "      <td>Nigerian</td>\n",
       "      <td>0.000015</td>\n",
       "      <td>NG</td>\n",
       "      <td>AF</td>\n",
       "      <td>Nigeria</td>\n",
       "      <td>Africa</td>\n",
       "    </tr>\n",
       "    <tr>\n",
       "      <th>40</th>\n",
       "      <td>Albanian</td>\n",
       "      <td>0.000015</td>\n",
       "      <td>AL</td>\n",
       "      <td>EU</td>\n",
       "      <td>Albania</td>\n",
       "      <td>Europe</td>\n",
       "    </tr>\n",
       "    <tr>\n",
       "      <th>41</th>\n",
       "      <td>Malian</td>\n",
       "      <td>0.000015</td>\n",
       "      <td>ML</td>\n",
       "      <td>AF</td>\n",
       "      <td>Mali</td>\n",
       "      <td>Africa</td>\n",
       "    </tr>\n",
       "    <tr>\n",
       "      <th>42</th>\n",
       "      <td>New Zealander</td>\n",
       "      <td>0.000010</td>\n",
       "      <td>NZ</td>\n",
       "      <td>OC</td>\n",
       "      <td>New Zealand</td>\n",
       "      <td>Oceania</td>\n",
       "    </tr>\n",
       "    <tr>\n",
       "      <th>43</th>\n",
       "      <td>Moroccan</td>\n",
       "      <td>0.000010</td>\n",
       "      <td>MA</td>\n",
       "      <td>AF</td>\n",
       "      <td>Morocco</td>\n",
       "      <td>Africa</td>\n",
       "    </tr>\n",
       "    <tr>\n",
       "      <th>44</th>\n",
       "      <td>Uruguayan</td>\n",
       "      <td>0.000010</td>\n",
       "      <td>UY</td>\n",
       "      <td>SA</td>\n",
       "      <td>Uruguay</td>\n",
       "      <td>South America</td>\n",
       "    </tr>\n",
       "    <tr>\n",
       "      <th>45</th>\n",
       "      <td>Colombian</td>\n",
       "      <td>0.000010</td>\n",
       "      <td>CO</td>\n",
       "      <td>SA</td>\n",
       "      <td>Colombia</td>\n",
       "      <td>South America</td>\n",
       "    </tr>\n",
       "    <tr>\n",
       "      <th>46</th>\n",
       "      <td>Ethiopian</td>\n",
       "      <td>0.000010</td>\n",
       "      <td>ET</td>\n",
       "      <td>AF</td>\n",
       "      <td>Ethiopia</td>\n",
       "      <td>Africa</td>\n",
       "    </tr>\n",
       "    <tr>\n",
       "      <th>47</th>\n",
       "      <td>Turkish</td>\n",
       "      <td>0.000010</td>\n",
       "      <td>TR</td>\n",
       "      <td>AS</td>\n",
       "      <td>Turkey</td>\n",
       "      <td>Asia</td>\n",
       "    </tr>\n",
       "    <tr>\n",
       "      <th>48</th>\n",
       "      <td>Slovenian</td>\n",
       "      <td>0.000005</td>\n",
       "      <td>SI</td>\n",
       "      <td>EU</td>\n",
       "      <td>Slovenia</td>\n",
       "      <td>Europe</td>\n",
       "    </tr>\n",
       "    <tr>\n",
       "      <th>49</th>\n",
       "      <td>Lithuanian</td>\n",
       "      <td>0.000005</td>\n",
       "      <td>LT</td>\n",
       "      <td>EU</td>\n",
       "      <td>Lithuania</td>\n",
       "      <td>Europe</td>\n",
       "    </tr>\n",
       "    <tr>\n",
       "      <th>50</th>\n",
       "      <td>Nicaraguan</td>\n",
       "      <td>0.000005</td>\n",
       "      <td>NI</td>\n",
       "      <td>NoA</td>\n",
       "      <td>Nicaragua</td>\n",
       "      <td>North America</td>\n",
       "    </tr>\n",
       "    <tr>\n",
       "      <th>51</th>\n",
       "      <td>Armenian</td>\n",
       "      <td>0.000005</td>\n",
       "      <td>AM</td>\n",
       "      <td>AS</td>\n",
       "      <td>Armenia</td>\n",
       "      <td>Asia</td>\n",
       "    </tr>\n",
       "    <tr>\n",
       "      <th>52</th>\n",
       "      <td>New Zealand</td>\n",
       "      <td>0.000005</td>\n",
       "      <td>NZ</td>\n",
       "      <td>OC</td>\n",
       "      <td>New Zealand</td>\n",
       "      <td>Oceania</td>\n",
       "    </tr>\n",
       "  </tbody>\n",
       "</table>\n",
       "</div>"
      ],
      "text/plain": [
       "          demonym  pct_country_NGA Country Continent    Country Name  \\\n",
       "0        American         0.704890      US       NoA   United States   \n",
       "1          French         0.102478      FR        EU          France   \n",
       "2         Italian         0.045463      IT        EU           Italy   \n",
       "3          German         0.041107      DE        EU         Germany   \n",
       "4         British         0.029466      GB        EU  United Kingdom   \n",
       "5           Dutch         0.016821      NL        EU     Netherlands   \n",
       "6         Spanish         0.003908      ES        EU           Spain   \n",
       "7           Swiss         0.003898      CH        EU     Switzerland   \n",
       "8         Chinese         0.001939      CN        AS           China   \n",
       "9        Austrian         0.001889      AT        EU         Austria   \n",
       "10       Japanese         0.001676      JP        AS           Japan   \n",
       "11        Mexican         0.001012      MX       NoA          Mexico   \n",
       "12      Norwegian         0.000962      NO        EU          Norway   \n",
       "13        Belgian         0.000774      BE        EU         Belgium   \n",
       "14        Swedish         0.000660      SE        EU          Sweden   \n",
       "15       Canadian         0.000640      CA       NoA          Canada   \n",
       "16         Danish         0.000585      DK        EU         Denmark   \n",
       "17        Israeli         0.000402      IL        AS          Israel   \n",
       "18          Greek         0.000352      GR        EU          Greece   \n",
       "19     Australian         0.000347      AU        OC       Australia   \n",
       "20         Polish         0.000307      PL        EU          Poland   \n",
       "21      Argentine         0.000263      AR        SA       Argentina   \n",
       "22          Irish         0.000243      IE        EU         Ireland   \n",
       "23      Hungarian         0.000208      HU        EU         Hungary   \n",
       "24      Brazilian         0.000183      BR        SA          Brazil   \n",
       "25  South African         0.000169      ZA        AF    South Africa   \n",
       "26    Argentinean         0.000134      AR        SA       Argentina   \n",
       "27       Croatian         0.000134      HR        EU         Croatia   \n",
       "28     Guatemalan         0.000129      GT       NoA       Guatemala   \n",
       "29        Chilean         0.000104      CL        SA           Chile   \n",
       "30       Romanian         0.000074      RO        EU         Romania   \n",
       "31         Indian         0.000055      IN        AS           India   \n",
       "32        Finnish         0.000050      FI        EU         Finland   \n",
       "33     Portuguese         0.000045      PT        EU        Portugal   \n",
       "34      Bulgarian         0.000035      BG        EU        Bulgaria   \n",
       "35       Egyptian         0.000015      EG        AF           Egypt   \n",
       "36        Latvian         0.000015      LV        EU          Latvia   \n",
       "37          Cuban         0.000015      CU       NoA            Cuba   \n",
       "38       Peruvian         0.000015      PE        SA            Peru   \n",
       "39       Nigerian         0.000015      NG        AF         Nigeria   \n",
       "40       Albanian         0.000015      AL        EU         Albania   \n",
       "41         Malian         0.000015      ML        AF            Mali   \n",
       "42  New Zealander         0.000010      NZ        OC     New Zealand   \n",
       "43       Moroccan         0.000010      MA        AF         Morocco   \n",
       "44      Uruguayan         0.000010      UY        SA         Uruguay   \n",
       "45      Colombian         0.000010      CO        SA        Colombia   \n",
       "46      Ethiopian         0.000010      ET        AF        Ethiopia   \n",
       "47        Turkish         0.000010      TR        AS          Turkey   \n",
       "48      Slovenian         0.000005      SI        EU        Slovenia   \n",
       "49     Lithuanian         0.000005      LT        EU       Lithuania   \n",
       "50     Nicaraguan         0.000005      NI       NoA       Nicaragua   \n",
       "51       Armenian         0.000005      AM        AS         Armenia   \n",
       "52    New Zealand         0.000005      NZ        OC     New Zealand   \n",
       "\n",
       "   Continent Name  \n",
       "0   North America  \n",
       "1          Europe  \n",
       "2          Europe  \n",
       "3          Europe  \n",
       "4          Europe  \n",
       "5          Europe  \n",
       "6          Europe  \n",
       "7          Europe  \n",
       "8            Asia  \n",
       "9          Europe  \n",
       "10           Asia  \n",
       "11  North America  \n",
       "12         Europe  \n",
       "13         Europe  \n",
       "14         Europe  \n",
       "15  North America  \n",
       "16         Europe  \n",
       "17           Asia  \n",
       "18         Europe  \n",
       "19        Oceania  \n",
       "20         Europe  \n",
       "21  South America  \n",
       "22         Europe  \n",
       "23         Europe  \n",
       "24  South America  \n",
       "25         Africa  \n",
       "26  South America  \n",
       "27         Europe  \n",
       "28  North America  \n",
       "29  South America  \n",
       "30         Europe  \n",
       "31           Asia  \n",
       "32         Europe  \n",
       "33         Europe  \n",
       "34         Europe  \n",
       "35         Africa  \n",
       "36         Europe  \n",
       "37  North America  \n",
       "38  South America  \n",
       "39         Africa  \n",
       "40         Europe  \n",
       "41         Africa  \n",
       "42        Oceania  \n",
       "43         Africa  \n",
       "44  South America  \n",
       "45  South America  \n",
       "46         Africa  \n",
       "47           Asia  \n",
       "48         Europe  \n",
       "49         Europe  \n",
       "50  North America  \n",
       "51           Asia  \n",
       "52        Oceania  "
      ]
     },
     "execution_count": 58,
     "metadata": {},
     "output_type": "execute_result"
    }
   ],
   "source": [
    "nonla_geographicStatistics"
   ]
  },
  {
   "cell_type": "code",
   "execution_count": 79,
   "metadata": {
    "collapsed": false,
    "jupyter": {
     "outputs_hidden": false
    },
    "pycharm": {
     "name": "#%%\n"
    },
    "tags": []
   },
   "outputs": [],
   "source": [
    "nonla_continentCounts.name = 'Countrys_in_Continents'"
   ]
  },
  {
   "cell_type": "code",
   "execution_count": 80,
   "metadata": {
    "tags": []
   },
   "outputs": [
    {
     "data": {
      "text/plain": [
       "Continent Name\n",
       "Africa            6\n",
       "Asia              6\n",
       "Europe           25\n",
       "North America     6\n",
       "Oceania           3\n",
       "South America     7\n",
       "Name: Countrys_in_Continents, dtype: int64"
      ]
     },
     "execution_count": 80,
     "metadata": {},
     "output_type": "execute_result"
    }
   ],
   "source": [
    "nonla_continentCounts"
   ]
  },
  {
   "cell_type": "markdown",
   "metadata": {},
   "source": [
    "The goal is to make nonla_continentCounts a dataframe similar to total_by_continent and use this to measure distribution by geography"
   ]
  },
  {
   "cell_type": "code",
   "execution_count": 228,
   "metadata": {},
   "outputs": [
    {
     "data": {
      "text/html": [
       "<div>\n",
       "<style scoped>\n",
       "    .dataframe tbody tr th:only-of-type {\n",
       "        vertical-align: middle;\n",
       "    }\n",
       "\n",
       "    .dataframe tbody tr th {\n",
       "        vertical-align: top;\n",
       "    }\n",
       "\n",
       "    .dataframe thead th {\n",
       "        text-align: right;\n",
       "    }\n",
       "</style>\n",
       "<table border=\"1\" class=\"dataframe\">\n",
       "  <thead>\n",
       "    <tr style=\"text-align: right;\">\n",
       "      <th></th>\n",
       "      <th>Country</th>\n",
       "      <th>proportion</th>\n",
       "    </tr>\n",
       "  </thead>\n",
       "  <tbody>\n",
       "    <tr>\n",
       "      <th>Africa</th>\n",
       "      <td>57</td>\n",
       "      <td>0.228916</td>\n",
       "    </tr>\n",
       "    <tr>\n",
       "      <th>Antarctica</th>\n",
       "      <td>2</td>\n",
       "      <td>0.008032</td>\n",
       "    </tr>\n",
       "    <tr>\n",
       "      <th>Asia</th>\n",
       "      <td>53</td>\n",
       "      <td>0.212851</td>\n",
       "    </tr>\n",
       "    <tr>\n",
       "      <th>Europe</th>\n",
       "      <td>50</td>\n",
       "      <td>0.200803</td>\n",
       "    </tr>\n",
       "    <tr>\n",
       "      <th>North America</th>\n",
       "      <td>40</td>\n",
       "      <td>0.160643</td>\n",
       "    </tr>\n",
       "    <tr>\n",
       "      <th>Oceania</th>\n",
       "      <td>24</td>\n",
       "      <td>0.096386</td>\n",
       "    </tr>\n",
       "    <tr>\n",
       "      <th>South America</th>\n",
       "      <td>15</td>\n",
       "      <td>0.060241</td>\n",
       "    </tr>\n",
       "    <tr>\n",
       "      <th>non-transformable</th>\n",
       "      <td>8</td>\n",
       "      <td>0.032129</td>\n",
       "    </tr>\n",
       "  </tbody>\n",
       "</table>\n",
       "</div>"
      ],
      "text/plain": [
       "                   Country  proportion\n",
       "Africa                  57    0.228916\n",
       "Antarctica               2    0.008032\n",
       "Asia                    53    0.212851\n",
       "Europe                  50    0.200803\n",
       "North America           40    0.160643\n",
       "Oceania                 24    0.096386\n",
       "South America           15    0.060241\n",
       "non-transformable        8    0.032129"
      ]
     },
     "execution_count": 228,
     "metadata": {},
     "output_type": "execute_result"
    }
   ],
   "source": [
    "total_by_continent"
   ]
  },
  {
   "cell_type": "markdown",
   "metadata": {},
   "source": [
    "#### No artists in the NGA dataset were credited as having Antarctic nationality & the non-transformable index was leftover from try-catching the PyCountry transformation of ISO codes, so they will be removed."
   ]
  },
  {
   "cell_type": "code",
   "execution_count": 84,
   "metadata": {
    "tags": []
   },
   "outputs": [],
   "source": [
    "total_by_continent.drop('Antarctica', inplace=True)"
   ]
  },
  {
   "cell_type": "code",
   "execution_count": 86,
   "metadata": {
    "tags": []
   },
   "outputs": [],
   "source": [
    "total_by_continent.drop('non-transformable', inplace=True)"
   ]
  },
  {
   "cell_type": "code",
   "execution_count": 92,
   "metadata": {
    "collapsed": false,
    "jupyter": {
     "outputs_hidden": false
    },
    "pycharm": {
     "name": "#%%\n"
    },
    "tags": []
   },
   "outputs": [],
   "source": [
    "nonla_continentCounts = pd.DataFrame({'countries_present':nonla_continentCounts, 'proportion_of_continent': (nonla_continentCounts / total_by_continent['Country'])})"
   ]
  },
  {
   "cell_type": "markdown",
   "metadata": {},
   "source": [
    "#### This table shows world-wide share of countries and their proportion out of the total number of countries."
   ]
  },
  {
   "cell_type": "code",
   "execution_count": 94,
   "metadata": {
    "tags": []
   },
   "outputs": [
    {
     "data": {
      "text/html": [
       "<div>\n",
       "<style scoped>\n",
       "    .dataframe tbody tr th:only-of-type {\n",
       "        vertical-align: middle;\n",
       "    }\n",
       "\n",
       "    .dataframe tbody tr th {\n",
       "        vertical-align: top;\n",
       "    }\n",
       "\n",
       "    .dataframe thead th {\n",
       "        text-align: right;\n",
       "    }\n",
       "</style>\n",
       "<table border=\"1\" class=\"dataframe\">\n",
       "  <thead>\n",
       "    <tr style=\"text-align: right;\">\n",
       "      <th></th>\n",
       "      <th>Country</th>\n",
       "      <th>proportion</th>\n",
       "    </tr>\n",
       "  </thead>\n",
       "  <tbody>\n",
       "    <tr>\n",
       "      <th>Africa</th>\n",
       "      <td>57</td>\n",
       "      <td>0.228916</td>\n",
       "    </tr>\n",
       "    <tr>\n",
       "      <th>Asia</th>\n",
       "      <td>53</td>\n",
       "      <td>0.212851</td>\n",
       "    </tr>\n",
       "    <tr>\n",
       "      <th>Europe</th>\n",
       "      <td>50</td>\n",
       "      <td>0.200803</td>\n",
       "    </tr>\n",
       "    <tr>\n",
       "      <th>North America</th>\n",
       "      <td>40</td>\n",
       "      <td>0.160643</td>\n",
       "    </tr>\n",
       "    <tr>\n",
       "      <th>Oceania</th>\n",
       "      <td>24</td>\n",
       "      <td>0.096386</td>\n",
       "    </tr>\n",
       "    <tr>\n",
       "      <th>South America</th>\n",
       "      <td>15</td>\n",
       "      <td>0.060241</td>\n",
       "    </tr>\n",
       "  </tbody>\n",
       "</table>\n",
       "</div>"
      ],
      "text/plain": [
       "               Country  proportion\n",
       "Africa              57    0.228916\n",
       "Asia                53    0.212851\n",
       "Europe              50    0.200803\n",
       "North America       40    0.160643\n",
       "Oceania             24    0.096386\n",
       "South America       15    0.060241"
      ]
     },
     "execution_count": 94,
     "metadata": {},
     "output_type": "execute_result"
    }
   ],
   "source": [
    "total_by_continent"
   ]
  },
  {
   "cell_type": "markdown",
   "metadata": {},
   "source": [
    "#### This table shows countries present in the NGA dataset and the proportion of countries present from the continent. (e.g. 50% of countries from europe are not present in the NGA)"
   ]
  },
  {
   "cell_type": "code",
   "execution_count": 93,
   "metadata": {
    "tags": []
   },
   "outputs": [
    {
     "data": {
      "text/html": [
       "<div>\n",
       "<style scoped>\n",
       "    .dataframe tbody tr th:only-of-type {\n",
       "        vertical-align: middle;\n",
       "    }\n",
       "\n",
       "    .dataframe tbody tr th {\n",
       "        vertical-align: top;\n",
       "    }\n",
       "\n",
       "    .dataframe thead th {\n",
       "        text-align: right;\n",
       "    }\n",
       "</style>\n",
       "<table border=\"1\" class=\"dataframe\">\n",
       "  <thead>\n",
       "    <tr style=\"text-align: right;\">\n",
       "      <th></th>\n",
       "      <th>countries_present</th>\n",
       "      <th>proportion_of_continent</th>\n",
       "    </tr>\n",
       "    <tr>\n",
       "      <th>Continent Name</th>\n",
       "      <th></th>\n",
       "      <th></th>\n",
       "    </tr>\n",
       "  </thead>\n",
       "  <tbody>\n",
       "    <tr>\n",
       "      <th>Africa</th>\n",
       "      <td>6</td>\n",
       "      <td>0.105263</td>\n",
       "    </tr>\n",
       "    <tr>\n",
       "      <th>Asia</th>\n",
       "      <td>6</td>\n",
       "      <td>0.113208</td>\n",
       "    </tr>\n",
       "    <tr>\n",
       "      <th>Europe</th>\n",
       "      <td>25</td>\n",
       "      <td>0.500000</td>\n",
       "    </tr>\n",
       "    <tr>\n",
       "      <th>North America</th>\n",
       "      <td>6</td>\n",
       "      <td>0.150000</td>\n",
       "    </tr>\n",
       "    <tr>\n",
       "      <th>Oceania</th>\n",
       "      <td>3</td>\n",
       "      <td>0.125000</td>\n",
       "    </tr>\n",
       "    <tr>\n",
       "      <th>South America</th>\n",
       "      <td>7</td>\n",
       "      <td>0.466667</td>\n",
       "    </tr>\n",
       "  </tbody>\n",
       "</table>\n",
       "</div>"
      ],
      "text/plain": [
       "                countries_present  proportion_of_continent\n",
       "Continent Name                                            \n",
       "Africa                          6                 0.105263\n",
       "Asia                            6                 0.113208\n",
       "Europe                         25                 0.500000\n",
       "North America                   6                 0.150000\n",
       "Oceania                         3                 0.125000\n",
       "South America                   7                 0.466667"
      ]
     },
     "execution_count": 93,
     "metadata": {},
     "output_type": "execute_result"
    }
   ],
   "source": [
    "nonla_continentCounts"
   ]
  },
  {
   "cell_type": "markdown",
   "metadata": {},
   "source": [
    "#### To find out how many continents are not included in the NGA dataset, I will subtract the total for ALL countries included in the PyCountry library, and subtract the countries visible within the dataset per continent. The different will be called nonla_continentCounts_missing."
   ]
  },
  {
   "cell_type": "code",
   "execution_count": 95,
   "metadata": {
    "collapsed": false,
    "jupyter": {
     "outputs_hidden": false
    },
    "pycharm": {
     "name": "#%%\n"
    },
    "tags": []
   },
   "outputs": [],
   "source": [
    "nonla_continentCounts_missing = total_by_continent['Country'] - nonla_continentCounts['countries_present']"
   ]
  },
  {
   "cell_type": "code",
   "execution_count": 96,
   "metadata": {
    "tags": []
   },
   "outputs": [],
   "source": [
    "nonla_continentCounts_missing.name = 'Missing_from_Actual_Distribution'"
   ]
  },
  {
   "cell_type": "code",
   "execution_count": 97,
   "metadata": {
    "tags": []
   },
   "outputs": [],
   "source": [
    "nonla_continentCounts_missing = pd.DataFrame({'countries_missing':nonla_continentCounts_missing, 'proportion_of_continent': (nonla_continentCounts_missing / total_by_continent['Country'])})"
   ]
  },
  {
   "cell_type": "code",
   "execution_count": 98,
   "metadata": {
    "tags": []
   },
   "outputs": [
    {
     "data": {
      "text/html": [
       "<div>\n",
       "<style scoped>\n",
       "    .dataframe tbody tr th:only-of-type {\n",
       "        vertical-align: middle;\n",
       "    }\n",
       "\n",
       "    .dataframe tbody tr th {\n",
       "        vertical-align: top;\n",
       "    }\n",
       "\n",
       "    .dataframe thead th {\n",
       "        text-align: right;\n",
       "    }\n",
       "</style>\n",
       "<table border=\"1\" class=\"dataframe\">\n",
       "  <thead>\n",
       "    <tr style=\"text-align: right;\">\n",
       "      <th></th>\n",
       "      <th>countries_missing</th>\n",
       "      <th>proportion_of_continent</th>\n",
       "    </tr>\n",
       "  </thead>\n",
       "  <tbody>\n",
       "    <tr>\n",
       "      <th>Africa</th>\n",
       "      <td>51</td>\n",
       "      <td>0.894737</td>\n",
       "    </tr>\n",
       "    <tr>\n",
       "      <th>Asia</th>\n",
       "      <td>47</td>\n",
       "      <td>0.886792</td>\n",
       "    </tr>\n",
       "    <tr>\n",
       "      <th>Europe</th>\n",
       "      <td>25</td>\n",
       "      <td>0.500000</td>\n",
       "    </tr>\n",
       "    <tr>\n",
       "      <th>North America</th>\n",
       "      <td>34</td>\n",
       "      <td>0.850000</td>\n",
       "    </tr>\n",
       "    <tr>\n",
       "      <th>Oceania</th>\n",
       "      <td>21</td>\n",
       "      <td>0.875000</td>\n",
       "    </tr>\n",
       "    <tr>\n",
       "      <th>South America</th>\n",
       "      <td>8</td>\n",
       "      <td>0.533333</td>\n",
       "    </tr>\n",
       "  </tbody>\n",
       "</table>\n",
       "</div>"
      ],
      "text/plain": [
       "               countries_missing  proportion_of_continent\n",
       "Africa                        51                 0.894737\n",
       "Asia                          47                 0.886792\n",
       "Europe                        25                 0.500000\n",
       "North America                 34                 0.850000\n",
       "Oceania                       21                 0.875000\n",
       "South America                  8                 0.533333"
      ]
     },
     "execution_count": 98,
     "metadata": {},
     "output_type": "execute_result"
    }
   ],
   "source": [
    "nonla_continentCounts_missing"
   ]
  },
  {
   "cell_type": "code",
   "execution_count": 99,
   "metadata": {
    "tags": []
   },
   "outputs": [],
   "source": [
    "#inner join of non_latines and non_latinamerican_art to get the elementwise probs\n",
    "non_latinamerican_art = pd.merge(non_latinamerican_art, non_latines, how='inner',left_on='nationality', right_on='demonym')"
   ]
  },
  {
   "cell_type": "code",
   "execution_count": 100,
   "metadata": {
    "tags": []
   },
   "outputs": [
    {
     "data": {
      "text/plain": [
       "(388230, 45)"
      ]
     },
     "execution_count": 100,
     "metadata": {},
     "output_type": "execute_result"
    }
   ],
   "source": [
    "non_latinamerican_art.shape"
   ]
  },
  {
   "cell_type": "markdown",
   "metadata": {},
   "source": [
    "After merging the main non_latinamerican_art dataset with the external geographical information that I created, I will write the updated dataset back to the original filepath and overwrite it as it contains valuable information"
   ]
  },
  {
   "cell_type": "code",
   "execution_count": 101,
   "metadata": {
    "tags": []
   },
   "outputs": [
    {
     "data": {
      "text/html": [
       "<div>\n",
       "<style scoped>\n",
       "    .dataframe tbody tr th:only-of-type {\n",
       "        vertical-align: middle;\n",
       "    }\n",
       "\n",
       "    .dataframe tbody tr th {\n",
       "        vertical-align: top;\n",
       "    }\n",
       "\n",
       "    .dataframe thead th {\n",
       "        text-align: right;\n",
       "    }\n",
       "</style>\n",
       "<table border=\"1\" class=\"dataframe\">\n",
       "  <thead>\n",
       "    <tr style=\"text-align: right;\">\n",
       "      <th></th>\n",
       "      <th>uuid</th>\n",
       "      <th>iiifurl</th>\n",
       "      <th>iiifthumburl</th>\n",
       "      <th>accessioned</th>\n",
       "      <th>title</th>\n",
       "      <th>displayDate_created</th>\n",
       "      <th>roletype</th>\n",
       "      <th>role</th>\n",
       "      <th>forwarddisplayname</th>\n",
       "      <th>birthyear</th>\n",
       "      <th>...</th>\n",
       "      <th>maxpixels</th>\n",
       "      <th>assistivetext</th>\n",
       "      <th>depictstmsobjectid</th>\n",
       "      <th>objectid</th>\n",
       "      <th>constituentid</th>\n",
       "      <th>Country</th>\n",
       "      <th>Continent</th>\n",
       "      <th>Country Name</th>\n",
       "      <th>Continent Name</th>\n",
       "      <th>demonym</th>\n",
       "    </tr>\n",
       "  </thead>\n",
       "  <tbody>\n",
       "    <tr>\n",
       "      <th>0</th>\n",
       "      <td>00004dec-8300-4487-8d89-562d0126b6a1</td>\n",
       "      <td>https://api.nga.gov/iiif/00004dec-8300-4487-8d...</td>\n",
       "      <td>https://api.nga.gov/iiif/00004dec-8300-4487-8d...</td>\n",
       "      <td>1</td>\n",
       "      <td>First Book: Daphnis Playing His Pipe for Chloe...</td>\n",
       "      <td>French, 1861 - 1944</td>\n",
       "      <td>artist</td>\n",
       "      <td>artist</td>\n",
       "      <td>Aristide Maillol</td>\n",
       "      <td>1861</td>\n",
       "      <td>...</td>\n",
       "      <td>640</td>\n",
       "      <td>NaN</td>\n",
       "      <td>11975</td>\n",
       "      <td>11975</td>\n",
       "      <td>2163.0</td>\n",
       "      <td>FR</td>\n",
       "      <td>EU</td>\n",
       "      <td>France</td>\n",
       "      <td>Europe</td>\n",
       "      <td>French</td>\n",
       "    </tr>\n",
       "    <tr>\n",
       "      <th>1</th>\n",
       "      <td>00004dec-8300-4487-8d89-562d0126b6a1</td>\n",
       "      <td>https://api.nga.gov/iiif/00004dec-8300-4487-8d...</td>\n",
       "      <td>https://api.nga.gov/iiif/00004dec-8300-4487-8d...</td>\n",
       "      <td>1</td>\n",
       "      <td>First Book: Daphnis Playing His Pipe for Chloe...</td>\n",
       "      <td>French, 1861 - 1944</td>\n",
       "      <td>artist</td>\n",
       "      <td>artist</td>\n",
       "      <td>Aristide Maillol</td>\n",
       "      <td>1861</td>\n",
       "      <td>...</td>\n",
       "      <td>640</td>\n",
       "      <td>NaN</td>\n",
       "      <td>11975</td>\n",
       "      <td>11975</td>\n",
       "      <td>2163.0</td>\n",
       "      <td>FR</td>\n",
       "      <td>EU</td>\n",
       "      <td>France</td>\n",
       "      <td>Europe</td>\n",
       "      <td>French</td>\n",
       "    </tr>\n",
       "    <tr>\n",
       "      <th>2</th>\n",
       "      <td>00018ee2-2b87-444d-afbf-b5d916306d2b</td>\n",
       "      <td>https://api.nga.gov/iiif/00018ee2-2b87-444d-af...</td>\n",
       "      <td>https://api.nga.gov/iiif/00018ee2-2b87-444d-af...</td>\n",
       "      <td>1</td>\n",
       "      <td>Rose and Romaine</td>\n",
       "      <td>French, 1890 - 1968</td>\n",
       "      <td>artist</td>\n",
       "      <td>artist</td>\n",
       "      <td>Valentine Hugo</td>\n",
       "      <td>1890</td>\n",
       "      <td>...</td>\n",
       "      <td>640</td>\n",
       "      <td>NaN</td>\n",
       "      <td>43122</td>\n",
       "      <td>43122</td>\n",
       "      <td>4397.0</td>\n",
       "      <td>FR</td>\n",
       "      <td>EU</td>\n",
       "      <td>France</td>\n",
       "      <td>Europe</td>\n",
       "      <td>French</td>\n",
       "    </tr>\n",
       "    <tr>\n",
       "      <th>3</th>\n",
       "      <td>00018ee2-2b87-444d-afbf-b5d916306d2b</td>\n",
       "      <td>https://api.nga.gov/iiif/00018ee2-2b87-444d-af...</td>\n",
       "      <td>https://api.nga.gov/iiif/00018ee2-2b87-444d-af...</td>\n",
       "      <td>1</td>\n",
       "      <td>Rose and Romaine</td>\n",
       "      <td>French, 1890 - 1968</td>\n",
       "      <td>artist</td>\n",
       "      <td>artist</td>\n",
       "      <td>Valentine Hugo</td>\n",
       "      <td>1890</td>\n",
       "      <td>...</td>\n",
       "      <td>640</td>\n",
       "      <td>NaN</td>\n",
       "      <td>43122</td>\n",
       "      <td>43122</td>\n",
       "      <td>4397.0</td>\n",
       "      <td>FR</td>\n",
       "      <td>EU</td>\n",
       "      <td>France</td>\n",
       "      <td>Europe</td>\n",
       "      <td>French</td>\n",
       "    </tr>\n",
       "    <tr>\n",
       "      <th>4</th>\n",
       "      <td>0002991a-98fa-42bd-bb33-fd0e2ff1ed1f</td>\n",
       "      <td>https://api.nga.gov/iiif/0002991a-98fa-42bd-bb...</td>\n",
       "      <td>https://api.nga.gov/iiif/0002991a-98fa-42bd-bb...</td>\n",
       "      <td>1</td>\n",
       "      <td>Fourth Book: Daphnis Plays to His Goats (Daphn...</td>\n",
       "      <td>French, 1861 - 1944</td>\n",
       "      <td>artist</td>\n",
       "      <td>artist</td>\n",
       "      <td>Aristide Maillol</td>\n",
       "      <td>1861</td>\n",
       "      <td>...</td>\n",
       "      <td>640</td>\n",
       "      <td>NaN</td>\n",
       "      <td>12011</td>\n",
       "      <td>12011</td>\n",
       "      <td>2163.0</td>\n",
       "      <td>FR</td>\n",
       "      <td>EU</td>\n",
       "      <td>France</td>\n",
       "      <td>Europe</td>\n",
       "      <td>French</td>\n",
       "    </tr>\n",
       "  </tbody>\n",
       "</table>\n",
       "<p>5 rows × 45 columns</p>\n",
       "</div>"
      ],
      "text/plain": [
       "                                   uuid  \\\n",
       "0  00004dec-8300-4487-8d89-562d0126b6a1   \n",
       "1  00004dec-8300-4487-8d89-562d0126b6a1   \n",
       "2  00018ee2-2b87-444d-afbf-b5d916306d2b   \n",
       "3  00018ee2-2b87-444d-afbf-b5d916306d2b   \n",
       "4  0002991a-98fa-42bd-bb33-fd0e2ff1ed1f   \n",
       "\n",
       "                                             iiifurl  \\\n",
       "0  https://api.nga.gov/iiif/00004dec-8300-4487-8d...   \n",
       "1  https://api.nga.gov/iiif/00004dec-8300-4487-8d...   \n",
       "2  https://api.nga.gov/iiif/00018ee2-2b87-444d-af...   \n",
       "3  https://api.nga.gov/iiif/00018ee2-2b87-444d-af...   \n",
       "4  https://api.nga.gov/iiif/0002991a-98fa-42bd-bb...   \n",
       "\n",
       "                                        iiifthumburl accessioned  \\\n",
       "0  https://api.nga.gov/iiif/00004dec-8300-4487-8d...           1   \n",
       "1  https://api.nga.gov/iiif/00004dec-8300-4487-8d...           1   \n",
       "2  https://api.nga.gov/iiif/00018ee2-2b87-444d-af...           1   \n",
       "3  https://api.nga.gov/iiif/00018ee2-2b87-444d-af...           1   \n",
       "4  https://api.nga.gov/iiif/0002991a-98fa-42bd-bb...           1   \n",
       "\n",
       "                                               title  displayDate_created  \\\n",
       "0  First Book: Daphnis Playing His Pipe for Chloe...  French, 1861 - 1944   \n",
       "1  First Book: Daphnis Playing His Pipe for Chloe...  French, 1861 - 1944   \n",
       "2                                   Rose and Romaine  French, 1890 - 1968   \n",
       "3                                   Rose and Romaine  French, 1890 - 1968   \n",
       "4  Fourth Book: Daphnis Plays to His Goats (Daphn...  French, 1861 - 1944   \n",
       "\n",
       "  roletype    role forwarddisplayname birthyear  ... maxpixels assistivetext  \\\n",
       "0   artist  artist   Aristide Maillol      1861  ...       640           NaN   \n",
       "1   artist  artist   Aristide Maillol      1861  ...       640           NaN   \n",
       "2   artist  artist     Valentine Hugo      1890  ...       640           NaN   \n",
       "3   artist  artist     Valentine Hugo      1890  ...       640           NaN   \n",
       "4   artist  artist   Aristide Maillol      1861  ...       640           NaN   \n",
       "\n",
       "  depictstmsobjectid objectid constituentid Country Continent Country Name  \\\n",
       "0              11975    11975        2163.0      FR        EU       France   \n",
       "1              11975    11975        2163.0      FR        EU       France   \n",
       "2              43122    43122        4397.0      FR        EU       France   \n",
       "3              43122    43122        4397.0      FR        EU       France   \n",
       "4              12011    12011        2163.0      FR        EU       France   \n",
       "\n",
       "  Continent Name demonym  \n",
       "0         Europe  French  \n",
       "1         Europe  French  \n",
       "2         Europe  French  \n",
       "3         Europe  French  \n",
       "4         Europe  French  \n",
       "\n",
       "[5 rows x 45 columns]"
      ]
     },
     "execution_count": 101,
     "metadata": {},
     "output_type": "execute_result"
    }
   ],
   "source": [
    "non_latinamerican_art.head()"
   ]
  },
  {
   "cell_type": "code",
   "execution_count": 311,
   "metadata": {},
   "outputs": [],
   "source": [
    "non_latinamerican_art.to_csv('../../../data_samples/art_tables/non_latin_art.csv', index=False)"
   ]
  },
  {
   "cell_type": "code",
   "execution_count": 259,
   "metadata": {
    "collapsed": false,
    "jupyter": {
     "outputs_hidden": false
    },
    "pycharm": {
     "name": "#%%\n"
    }
   },
   "outputs": [],
   "source": [
    "continent_probabilities = pd.concat([nonla_continentCounts, non_latinamerican_art['Continent Name'].value_counts(normalize=True)], axis = 1).dropna(how='all')"
   ]
  },
  {
   "cell_type": "code",
   "execution_count": 261,
   "metadata": {},
   "outputs": [],
   "source": [
    "continent_probabilities['pct_continent_NGA'] = continent_probabilities['Continent Name'].fillna(0)"
   ]
  },
  {
   "cell_type": "code",
   "execution_count": 263,
   "metadata": {},
   "outputs": [],
   "source": [
    "continent_probabilities.drop('Continent Name', axis = 1, inplace=True)"
   ]
  },
  {
   "cell_type": "code",
   "execution_count": 267,
   "metadata": {
    "collapsed": false,
    "jupyter": {
     "outputs_hidden": false
    },
    "pycharm": {
     "name": "#%%\n"
    }
   },
   "outputs": [],
   "source": [
    "continent_probabilities.columns = ['countries_present', 'pct_countries_from_continent_NGA', 'pct_from_continent_NGA']"
   ]
  },
  {
   "cell_type": "code",
   "execution_count": 268,
   "metadata": {},
   "outputs": [
    {
     "data": {
      "text/html": [
       "<div>\n",
       "<style scoped>\n",
       "    .dataframe tbody tr th:only-of-type {\n",
       "        vertical-align: middle;\n",
       "    }\n",
       "\n",
       "    .dataframe tbody tr th {\n",
       "        vertical-align: top;\n",
       "    }\n",
       "\n",
       "    .dataframe thead th {\n",
       "        text-align: right;\n",
       "    }\n",
       "</style>\n",
       "<table border=\"1\" class=\"dataframe\">\n",
       "  <thead>\n",
       "    <tr style=\"text-align: right;\">\n",
       "      <th></th>\n",
       "      <th>countries_present</th>\n",
       "      <th>pct_countries_from_continent_NGA</th>\n",
       "      <th>pct_from_continent_NGA</th>\n",
       "    </tr>\n",
       "  </thead>\n",
       "  <tbody>\n",
       "    <tr>\n",
       "      <th>Africa</th>\n",
       "      <td>0</td>\n",
       "      <td>0.000</td>\n",
       "      <td>0.000000</td>\n",
       "    </tr>\n",
       "    <tr>\n",
       "      <th>Antarctica</th>\n",
       "      <td>0</td>\n",
       "      <td>0.000</td>\n",
       "      <td>0.000000</td>\n",
       "    </tr>\n",
       "    <tr>\n",
       "      <th>Asia</th>\n",
       "      <td>0</td>\n",
       "      <td>0.000</td>\n",
       "      <td>0.000000</td>\n",
       "    </tr>\n",
       "    <tr>\n",
       "      <th>Europe</th>\n",
       "      <td>9</td>\n",
       "      <td>0.180</td>\n",
       "      <td>0.591293</td>\n",
       "    </tr>\n",
       "    <tr>\n",
       "      <th>North America</th>\n",
       "      <td>1</td>\n",
       "      <td>0.025</td>\n",
       "      <td>0.408707</td>\n",
       "    </tr>\n",
       "    <tr>\n",
       "      <th>Oceania</th>\n",
       "      <td>0</td>\n",
       "      <td>0.000</td>\n",
       "      <td>0.000000</td>\n",
       "    </tr>\n",
       "    <tr>\n",
       "      <th>South America</th>\n",
       "      <td>0</td>\n",
       "      <td>0.000</td>\n",
       "      <td>0.000000</td>\n",
       "    </tr>\n",
       "    <tr>\n",
       "      <th>non-transformable</th>\n",
       "      <td>0</td>\n",
       "      <td>0.000</td>\n",
       "      <td>0.000000</td>\n",
       "    </tr>\n",
       "  </tbody>\n",
       "</table>\n",
       "</div>"
      ],
      "text/plain": [
       "                   countries_present  pct_countries_from_continent_NGA  \\\n",
       "Africa                             0                             0.000   \n",
       "Antarctica                         0                             0.000   \n",
       "Asia                               0                             0.000   \n",
       "Europe                             9                             0.180   \n",
       "North America                      1                             0.025   \n",
       "Oceania                            0                             0.000   \n",
       "South America                      0                             0.000   \n",
       "non-transformable                  0                             0.000   \n",
       "\n",
       "                   pct_from_continent_NGA  \n",
       "Africa                           0.000000  \n",
       "Antarctica                       0.000000  \n",
       "Asia                             0.000000  \n",
       "Europe                           0.591293  \n",
       "North America                    0.408707  \n",
       "Oceania                          0.000000  \n",
       "South America                    0.000000  \n",
       "non-transformable                0.000000  "
      ]
     },
     "execution_count": 268,
     "metadata": {},
     "output_type": "execute_result"
    }
   ],
   "source": [
    "continent_probabilities"
   ]
  },
  {
   "cell_type": "code",
   "execution_count": 287,
   "metadata": {},
   "outputs": [],
   "source": [
    "nonla_continentCounts_missing.columns = ['countries_missing', 'pct_countries_missing_from_continent_NGA']"
   ]
  },
  {
   "cell_type": "code",
   "execution_count": 294,
   "metadata": {},
   "outputs": [],
   "source": [
    "nonla_continentCounts_missing['is_missing'] = nonla_continentCounts_missing.pct_countries_missing_from_continent_NGA.apply(lambda x: 0 if x < 1 else 1)"
   ]
  },
  {
   "cell_type": "markdown",
   "metadata": {},
   "source": [
    "I will merge the information about the missing continent/country data with the information about the data which is contained and use this to track if there is a naming issue causing datapoints to be dropped and non-EU or non-NA images and artists to not be included in the dataset - this is a given as I have noticed artists from asian and african countries featured in the NGA but that are now missing"
   ]
  },
  {
   "cell_type": "code",
   "execution_count": 295,
   "metadata": {},
   "outputs": [
    {
     "data": {
      "text/html": [
       "<div>\n",
       "<style scoped>\n",
       "    .dataframe tbody tr th:only-of-type {\n",
       "        vertical-align: middle;\n",
       "    }\n",
       "\n",
       "    .dataframe tbody tr th {\n",
       "        vertical-align: top;\n",
       "    }\n",
       "\n",
       "    .dataframe thead th {\n",
       "        text-align: right;\n",
       "    }\n",
       "</style>\n",
       "<table border=\"1\" class=\"dataframe\">\n",
       "  <thead>\n",
       "    <tr style=\"text-align: right;\">\n",
       "      <th></th>\n",
       "      <th>countries_missing</th>\n",
       "      <th>pct_countries_missing_from_continent_NGA</th>\n",
       "      <th>is_missing</th>\n",
       "    </tr>\n",
       "  </thead>\n",
       "  <tbody>\n",
       "    <tr>\n",
       "      <th>Africa</th>\n",
       "      <td>57</td>\n",
       "      <td>1.000</td>\n",
       "      <td>1</td>\n",
       "    </tr>\n",
       "    <tr>\n",
       "      <th>Antarctica</th>\n",
       "      <td>2</td>\n",
       "      <td>1.000</td>\n",
       "      <td>1</td>\n",
       "    </tr>\n",
       "    <tr>\n",
       "      <th>Asia</th>\n",
       "      <td>53</td>\n",
       "      <td>1.000</td>\n",
       "      <td>1</td>\n",
       "    </tr>\n",
       "    <tr>\n",
       "      <th>Europe</th>\n",
       "      <td>41</td>\n",
       "      <td>0.820</td>\n",
       "      <td>0</td>\n",
       "    </tr>\n",
       "    <tr>\n",
       "      <th>North America</th>\n",
       "      <td>39</td>\n",
       "      <td>0.975</td>\n",
       "      <td>0</td>\n",
       "    </tr>\n",
       "    <tr>\n",
       "      <th>Oceania</th>\n",
       "      <td>24</td>\n",
       "      <td>1.000</td>\n",
       "      <td>1</td>\n",
       "    </tr>\n",
       "    <tr>\n",
       "      <th>South America</th>\n",
       "      <td>15</td>\n",
       "      <td>1.000</td>\n",
       "      <td>1</td>\n",
       "    </tr>\n",
       "    <tr>\n",
       "      <th>non-transformable</th>\n",
       "      <td>8</td>\n",
       "      <td>1.000</td>\n",
       "      <td>1</td>\n",
       "    </tr>\n",
       "  </tbody>\n",
       "</table>\n",
       "</div>"
      ],
      "text/plain": [
       "                   countries_missing  \\\n",
       "Africa                            57   \n",
       "Antarctica                         2   \n",
       "Asia                              53   \n",
       "Europe                            41   \n",
       "North America                     39   \n",
       "Oceania                           24   \n",
       "South America                     15   \n",
       "non-transformable                  8   \n",
       "\n",
       "                   pct_countries_missing_from_continent_NGA  is_missing  \n",
       "Africa                                                1.000           1  \n",
       "Antarctica                                            1.000           1  \n",
       "Asia                                                  1.000           1  \n",
       "Europe                                                0.820           0  \n",
       "North America                                         0.975           0  \n",
       "Oceania                                               1.000           1  \n",
       "South America                                         1.000           1  \n",
       "non-transformable                                     1.000           1  "
      ]
     },
     "execution_count": 295,
     "metadata": {},
     "output_type": "execute_result"
    }
   ],
   "source": [
    "nonla_continentCounts_missing"
   ]
  },
  {
   "cell_type": "markdown",
   "metadata": {},
   "source": [
    "Below is the code that samples data from the dataset using the missing/not missing information of country and continent data to influence its decision (not ready yet as the information is not yet accurate representation)"
   ]
  },
  {
   "cell_type": "code",
   "execution_count": 299,
   "metadata": {},
   "outputs": [
    {
     "data": {
      "text/html": [
       "<div>\n",
       "<style scoped>\n",
       "    .dataframe tbody tr th:only-of-type {\n",
       "        vertical-align: middle;\n",
       "    }\n",
       "\n",
       "    .dataframe tbody tr th {\n",
       "        vertical-align: top;\n",
       "    }\n",
       "\n",
       "    .dataframe thead th {\n",
       "        text-align: right;\n",
       "    }\n",
       "</style>\n",
       "<table border=\"1\" class=\"dataframe\">\n",
       "  <thead>\n",
       "    <tr style=\"text-align: right;\">\n",
       "      <th></th>\n",
       "      <th>demonym</th>\n",
       "      <th>pct_country_NGA</th>\n",
       "      <th>Country</th>\n",
       "      <th>Continent</th>\n",
       "      <th>Country Name</th>\n",
       "      <th>Continent Name</th>\n",
       "    </tr>\n",
       "  </thead>\n",
       "  <tbody>\n",
       "    <tr>\n",
       "      <th>0</th>\n",
       "      <td>American</td>\n",
       "      <td>0.378527</td>\n",
       "      <td>US</td>\n",
       "      <td>NoA</td>\n",
       "      <td>United States</td>\n",
       "      <td>North America</td>\n",
       "    </tr>\n",
       "    <tr>\n",
       "      <th>1</th>\n",
       "      <td>French</td>\n",
       "      <td>0.347459</td>\n",
       "      <td>FR</td>\n",
       "      <td>EU</td>\n",
       "      <td>France</td>\n",
       "      <td>Europe</td>\n",
       "    </tr>\n",
       "    <tr>\n",
       "      <th>2</th>\n",
       "      <td>German</td>\n",
       "      <td>0.119132</td>\n",
       "      <td>DE</td>\n",
       "      <td>EU</td>\n",
       "      <td>Germany</td>\n",
       "      <td>Europe</td>\n",
       "    </tr>\n",
       "    <tr>\n",
       "      <th>3</th>\n",
       "      <td>Italian</td>\n",
       "      <td>0.034380</td>\n",
       "      <td>IT</td>\n",
       "      <td>EU</td>\n",
       "      <td>Italy</td>\n",
       "      <td>Europe</td>\n",
       "    </tr>\n",
       "    <tr>\n",
       "      <th>4</th>\n",
       "      <td>British</td>\n",
       "      <td>0.028555</td>\n",
       "      <td>GB</td>\n",
       "      <td>EU</td>\n",
       "      <td>United Kingdom</td>\n",
       "      <td>Europe</td>\n",
       "    </tr>\n",
       "    <tr>\n",
       "      <th>5</th>\n",
       "      <td>Spanish</td>\n",
       "      <td>0.009595</td>\n",
       "      <td>ES</td>\n",
       "      <td>EU</td>\n",
       "      <td>Spain</td>\n",
       "      <td>Europe</td>\n",
       "    </tr>\n",
       "    <tr>\n",
       "      <th>6</th>\n",
       "      <td>Dutch</td>\n",
       "      <td>0.006967</td>\n",
       "      <td>NL</td>\n",
       "      <td>EU</td>\n",
       "      <td>Netherlands</td>\n",
       "      <td>Europe</td>\n",
       "    </tr>\n",
       "    <tr>\n",
       "      <th>7</th>\n",
       "      <td>Greek</td>\n",
       "      <td>0.000742</td>\n",
       "      <td>GR</td>\n",
       "      <td>EU</td>\n",
       "      <td>Greece</td>\n",
       "      <td>Europe</td>\n",
       "    </tr>\n",
       "    <tr>\n",
       "      <th>8</th>\n",
       "      <td>Swiss</td>\n",
       "      <td>0.000457</td>\n",
       "      <td>CH</td>\n",
       "      <td>EU</td>\n",
       "      <td>Switzerland</td>\n",
       "      <td>Europe</td>\n",
       "    </tr>\n",
       "    <tr>\n",
       "      <th>9</th>\n",
       "      <td>Austrian</td>\n",
       "      <td>0.000343</td>\n",
       "      <td>AT</td>\n",
       "      <td>EU</td>\n",
       "      <td>Austria</td>\n",
       "      <td>Europe</td>\n",
       "    </tr>\n",
       "  </tbody>\n",
       "</table>\n",
       "</div>"
      ],
      "text/plain": [
       "    demonym  pct_country_NGA Country Continent    Country Name Continent Name\n",
       "0  American         0.378527      US       NoA   United States  North America\n",
       "1    French         0.347459      FR        EU          France         Europe\n",
       "2    German         0.119132      DE        EU         Germany         Europe\n",
       "3   Italian         0.034380      IT        EU           Italy         Europe\n",
       "4   British         0.028555      GB        EU  United Kingdom         Europe\n",
       "5   Spanish         0.009595      ES        EU           Spain         Europe\n",
       "6     Dutch         0.006967      NL        EU     Netherlands         Europe\n",
       "7     Greek         0.000742      GR        EU          Greece         Europe\n",
       "8     Swiss         0.000457      CH        EU     Switzerland         Europe\n",
       "9  Austrian         0.000343      AT        EU         Austria         Europe"
      ]
     },
     "execution_count": 299,
     "metadata": {},
     "output_type": "execute_result"
    }
   ],
   "source": [
    "nonla_geographicStatistics"
   ]
  },
  {
   "cell_type": "code",
   "execution_count": 301,
   "metadata": {},
   "outputs": [],
   "source": [
    "nonla_continentStatistics = pd.concat([continent_probabilities, nonla_continentCounts_missing], axis = 1)"
   ]
  },
  {
   "cell_type": "code",
   "execution_count": 302,
   "metadata": {},
   "outputs": [],
   "source": [
    "nonla_continentStatistics.to_csv('../../../data_samples/nonLaArt/nonla_continentStatistics.csv', index=False)"
   ]
  },
  {
   "cell_type": "code",
   "execution_count": 121,
   "metadata": {
    "collapsed": false,
    "jupyter": {
     "outputs_hidden": false
    },
    "pycharm": {
     "name": "#%%\n"
    }
   },
   "outputs": [],
   "source": [
    "#1580 rows for training (0.008%) & 396 (0.002%) for validation/testing == 1976 for one iteration of sample (1/100 of total dataset) // make sure not being selected with replacement to remove duplicate issue resolved in download_nonLa_art (sampling only for nonLa)\n",
    "#matching_distribution = np.random.choice(non_latinamerican_art.index, p=percent_from_nonLaContinent, size=1976, replace=False)"
   ]
  },
  {
   "cell_type": "code",
   "execution_count": 123,
   "metadata": {
    "collapsed": false,
    "jupyter": {
     "outputs_hidden": false
    },
    "pycharm": {
     "name": "#%%\n"
    }
   },
   "outputs": [],
   "source": [
    "#index_matching = list(matching_distribution)"
   ]
  },
  {
   "cell_type": "code",
   "execution_count": 125,
   "metadata": {
    "collapsed": false,
    "jupyter": {
     "outputs_hidden": false
    },
    "pycharm": {
     "name": "#%%\n"
    }
   },
   "outputs": [],
   "source": [
    "#nonLa_art_subsample = nonLa_art.iloc[index_matching, :]"
   ]
  },
  {
   "cell_type": "code",
   "execution_count": 126,
   "metadata": {
    "collapsed": false,
    "jupyter": {
     "outputs_hidden": false
    },
    "pycharm": {
     "name": "#%%\n"
    }
   },
   "outputs": [],
   "source": [
    "#subsample_countryCounts = nonLa_art_subsample.groupby('Continent').apply(lambda x: len(x))"
   ]
  },
  {
   "cell_type": "code",
   "execution_count": 127,
   "metadata": {
    "collapsed": false,
    "jupyter": {
     "outputs_hidden": false
    },
    "pycharm": {
     "name": "#%%\n"
    }
   },
   "outputs": [
    {
     "data": {
      "text/plain": [
       "Continent\n",
       "Africa           480\n",
       "Asia             453\n",
       "Europe           469\n",
       "North America    384\n",
       "Oceania          190\n",
       "dtype: int64"
      ]
     },
     "execution_count": 127,
     "metadata": {},
     "output_type": "execute_result"
    }
   ],
   "source": [
    "#subsample_countryCounts"
   ]
  },
  {
   "cell_type": "code",
   "execution_count": 128,
   "metadata": {
    "collapsed": false,
    "jupyter": {
     "outputs_hidden": false
    },
    "pycharm": {
     "name": "#%%\n"
    }
   },
   "outputs": [],
   "source": [
    "#subsample_countryCounts = pd.DataFrame({'counts': subsample_countryCounts,'proportion':subsample_countryCounts / subsample_countryCounts.sum()})"
   ]
  },
  {
   "cell_type": "markdown",
   "metadata": {
    "pycharm": {
     "name": "#%% md\n"
    }
   },
   "source": [
    "### Using the probabilities in percent_from_nonLaContinent (with minor correction due to removing the la art causing probabilities to not sum to 1) made the sample about equally representative to overall dataset"
   ]
  },
  {
   "cell_type": "code",
   "execution_count": 129,
   "metadata": {
    "collapsed": false,
    "jupyter": {
     "outputs_hidden": false
    },
    "pycharm": {
     "name": "#%%\n"
    }
   },
   "outputs": [
    {
     "data": {
      "text/html": [
       "<div>\n",
       "<style scoped>\n",
       "    .dataframe tbody tr th:only-of-type {\n",
       "        vertical-align: middle;\n",
       "    }\n",
       "\n",
       "    .dataframe tbody tr th {\n",
       "        vertical-align: top;\n",
       "    }\n",
       "\n",
       "    .dataframe thead th {\n",
       "        text-align: right;\n",
       "    }\n",
       "</style>\n",
       "<table border=\"1\" class=\"dataframe\">\n",
       "  <thead>\n",
       "    <tr style=\"text-align: right;\">\n",
       "      <th></th>\n",
       "      <th>counts</th>\n",
       "      <th>proportion</th>\n",
       "    </tr>\n",
       "    <tr>\n",
       "      <th>Continent</th>\n",
       "      <th></th>\n",
       "      <th></th>\n",
       "    </tr>\n",
       "  </thead>\n",
       "  <tbody>\n",
       "    <tr>\n",
       "      <th>Africa</th>\n",
       "      <td>480</td>\n",
       "      <td>0.242915</td>\n",
       "    </tr>\n",
       "    <tr>\n",
       "      <th>Asia</th>\n",
       "      <td>453</td>\n",
       "      <td>0.229251</td>\n",
       "    </tr>\n",
       "    <tr>\n",
       "      <th>Europe</th>\n",
       "      <td>469</td>\n",
       "      <td>0.237348</td>\n",
       "    </tr>\n",
       "    <tr>\n",
       "      <th>North America</th>\n",
       "      <td>384</td>\n",
       "      <td>0.194332</td>\n",
       "    </tr>\n",
       "    <tr>\n",
       "      <th>Oceania</th>\n",
       "      <td>190</td>\n",
       "      <td>0.096154</td>\n",
       "    </tr>\n",
       "  </tbody>\n",
       "</table>\n",
       "</div>"
      ],
      "text/plain": [
       "               counts  proportion\n",
       "Continent                        \n",
       "Africa            480    0.242915\n",
       "Asia              453    0.229251\n",
       "Europe            469    0.237348\n",
       "North America     384    0.194332\n",
       "Oceania           190    0.096154"
      ]
     },
     "execution_count": 129,
     "metadata": {},
     "output_type": "execute_result"
    }
   ],
   "source": [
    "#subsample_countryCounts"
   ]
  },
  {
   "cell_type": "code",
   "execution_count": 130,
   "metadata": {
    "collapsed": false,
    "jupyter": {
     "outputs_hidden": false
    },
    "pycharm": {
     "name": "#%%\n"
    }
   },
   "outputs": [
    {
     "data": {
      "text/html": [
       "<div>\n",
       "<style scoped>\n",
       "    .dataframe tbody tr th:only-of-type {\n",
       "        vertical-align: middle;\n",
       "    }\n",
       "\n",
       "    .dataframe tbody tr th {\n",
       "        vertical-align: top;\n",
       "    }\n",
       "\n",
       "    .dataframe thead th {\n",
       "        text-align: right;\n",
       "    }\n",
       "</style>\n",
       "<table border=\"1\" class=\"dataframe\">\n",
       "  <thead>\n",
       "    <tr style=\"text-align: right;\">\n",
       "      <th></th>\n",
       "      <th>Countries</th>\n",
       "      <th>proportion</th>\n",
       "    </tr>\n",
       "  </thead>\n",
       "  <tbody>\n",
       "    <tr>\n",
       "      <th>Africa</th>\n",
       "      <td>57</td>\n",
       "      <td>0.247826</td>\n",
       "    </tr>\n",
       "    <tr>\n",
       "      <th>Antarctica</th>\n",
       "      <td>2</td>\n",
       "      <td>0.008696</td>\n",
       "    </tr>\n",
       "    <tr>\n",
       "      <th>Asia</th>\n",
       "      <td>53</td>\n",
       "      <td>0.230435</td>\n",
       "    </tr>\n",
       "    <tr>\n",
       "      <th>Europe</th>\n",
       "      <td>50</td>\n",
       "      <td>0.217391</td>\n",
       "    </tr>\n",
       "    <tr>\n",
       "      <th>North America</th>\n",
       "      <td>36</td>\n",
       "      <td>0.156522</td>\n",
       "    </tr>\n",
       "    <tr>\n",
       "      <th>Oceania</th>\n",
       "      <td>24</td>\n",
       "      <td>0.104348</td>\n",
       "    </tr>\n",
       "    <tr>\n",
       "      <th>South America</th>\n",
       "      <td>0</td>\n",
       "      <td>0.000000</td>\n",
       "    </tr>\n",
       "    <tr>\n",
       "      <th>non-transformable</th>\n",
       "      <td>8</td>\n",
       "      <td>0.034783</td>\n",
       "    </tr>\n",
       "  </tbody>\n",
       "</table>\n",
       "</div>"
      ],
      "text/plain": [
       "                   Countries  proportion\n",
       "Africa                    57    0.247826\n",
       "Antarctica                 2    0.008696\n",
       "Asia                      53    0.230435\n",
       "Europe                    50    0.217391\n",
       "North America             36    0.156522\n",
       "Oceania                   24    0.104348\n",
       "South America              0    0.000000\n",
       "non-transformable          8    0.034783"
      ]
     },
     "execution_count": 130,
     "metadata": {},
     "output_type": "execute_result"
    }
   ],
   "source": [
    "#nonla_countryCounts"
   ]
  },
  {
   "cell_type": "markdown",
   "metadata": {
    "tags": []
   },
   "source": [
    "### Step 3 - Feature Engineering IIIFUrl Links to view the data at the desired resolution"
   ]
  },
  {
   "cell_type": "markdown",
   "metadata": {},
   "source": [
    "### Step 4 - Outputting the final combined NGA/FE data"
   ]
  },
  {
   "cell_type": "markdown",
   "metadata": {
    "pycharm": {
     "name": "#%% md\n"
    }
   },
   "source": [
    "### Downloading the art and dropping into non_laImages folder TBD in download_nonLA_art notebook!"
   ]
  },
  {
   "cell_type": "code",
   "execution_count": 24,
   "metadata": {},
   "outputs": [],
   "source": [
    "#nonla_geographicStatistics.to_csv('../../../data_samples/nonLaArt/nonla_geographicStatistics.csv', index=False)"
   ]
  },
  {
   "cell_type": "code",
   "execution_count": 132,
   "metadata": {
    "collapsed": false,
    "jupyter": {
     "outputs_hidden": false
    },
    "pycharm": {
     "name": "#%%\n"
    }
   },
   "outputs": [],
   "source": [
    "#nonLa_art_subsample.to_csv('../../data_samples/results/processed_subset_results/nonLa_art_sample.csv', index=False)"
   ]
  }
 ],
 "metadata": {
  "kernelspec": {
   "display_name": "Python (test-env)",
   "language": "python",
   "name": "test-env"
  },
  "language_info": {
   "codemirror_mode": {
    "name": "ipython",
    "version": 3
   },
   "file_extension": ".py",
   "mimetype": "text/x-python",
   "name": "python",
   "nbconvert_exporter": "python",
   "pygments_lexer": "ipython3",
   "version": "3.10.9"
  }
 },
 "nbformat": 4,
 "nbformat_minor": 4
}
