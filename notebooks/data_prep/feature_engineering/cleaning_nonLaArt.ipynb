{
 "cells": [
  {
   "cell_type": "code",
   "execution_count": 19,
   "metadata": {
    "collapsed": false,
    "jupyter": {
     "outputs_hidden": false
    },
    "pycharm": {
     "name": "#%%\n"
    }
   },
   "outputs": [],
   "source": [
    "import pandas as pd\n",
    "from os import path"
   ]
  },
  {
   "cell_type": "code",
   "execution_count": 3,
   "metadata": {
    "collapsed": false,
    "jupyter": {
     "outputs_hidden": false
    },
    "pycharm": {
     "name": "#%%\n"
    }
   },
   "outputs": [],
   "source": [
    "nonLaArt = pd.read_csv('../../data_samples/results/whole_set_results/downloaded_nonLa_art.csv')"
   ]
  },
  {
   "cell_type": "code",
   "execution_count": 5,
   "metadata": {
    "collapsed": false,
    "jupyter": {
     "outputs_hidden": false
    },
    "pycharm": {
     "name": "#%%\n"
    }
   },
   "outputs": [],
   "source": [
    "LaArt = pd.read_csv('../../data_samples/results/whole_set_results/downloaded_LaArt.csv')"
   ]
  },
  {
   "cell_type": "code",
   "execution_count": 8,
   "metadata": {
    "collapsed": false,
    "jupyter": {
     "outputs_hidden": false
    },
    "pycharm": {
     "name": "#%%\n"
    }
   },
   "outputs": [
    {
     "name": "stdout",
     "output_type": "stream",
     "text": [
      "37\n",
      "40\n"
     ]
    }
   ],
   "source": [
    "print(len(nonLaArt.columns))\n",
    "print(len(LaArt.columns))"
   ]
  },
  {
   "cell_type": "code",
   "execution_count": 9,
   "metadata": {
    "collapsed": false,
    "jupyter": {
     "outputs_hidden": false
    },
    "pycharm": {
     "name": "#%%\n"
    }
   },
   "outputs": [
    {
     "data": {
      "text/plain": [
       "{'image_fp', 'percent_fromArtist', 'subfolder'}"
      ]
     },
     "execution_count": 9,
     "metadata": {},
     "output_type": "execute_result"
    }
   ],
   "source": [
    "set(LaArt.columns) - set(nonLaArt.columns)"
   ]
  },
  {
   "cell_type": "code",
   "execution_count": 17,
   "metadata": {
    "collapsed": false,
    "jupyter": {
     "outputs_hidden": false
    },
    "pycharm": {
     "name": "#%%\n"
    }
   },
   "outputs": [],
   "source": [
    "nonLaArt['image_fp'] = nonLaArt.directory +'/' + nonLaArt.file_name"
   ]
  },
  {
   "cell_type": "code",
   "execution_count": 20,
   "metadata": {
    "collapsed": false,
    "jupyter": {
     "outputs_hidden": false
    },
    "pycharm": {
     "name": "#%%\n"
    }
   },
   "outputs": [],
   "source": [
    "nonLaArt['file_downloaded'] = nonLaArt.image_fp.apply(path.exists)"
   ]
  },
  {
   "cell_type": "code",
   "execution_count": 22,
   "metadata": {
    "collapsed": false,
    "jupyter": {
     "outputs_hidden": false
    },
    "pycharm": {
     "name": "#%%\n"
    }
   },
   "outputs": [
    {
     "data": {
      "text/html": [
       "<div>\n",
       "<style scoped>\n",
       "    .dataframe tbody tr th:only-of-type {\n",
       "        vertical-align: middle;\n",
       "    }\n",
       "\n",
       "    .dataframe tbody tr th {\n",
       "        vertical-align: top;\n",
       "    }\n",
       "\n",
       "    .dataframe thead th {\n",
       "        text-align: right;\n",
       "    }\n",
       "</style>\n",
       "<table border=\"1\" class=\"dataframe\">\n",
       "  <thead>\n",
       "    <tr style=\"text-align: right;\">\n",
       "      <th></th>\n",
       "      <th>image_fp</th>\n",
       "      <th>file_downloaded</th>\n",
       "    </tr>\n",
       "  </thead>\n",
       "  <tbody>\n",
       "    <tr>\n",
       "      <th>0</th>\n",
       "      <td>../../non_laImages/Tanned_Hide_Tamagami_48779.jpg</td>\n",
       "      <td>True</td>\n",
       "    </tr>\n",
       "    <tr>\n",
       "      <th>1</th>\n",
       "      <td>../../non_laImages/Modern_Print_Dressen_72470.jpg</td>\n",
       "      <td>True</td>\n",
       "    </tr>\n",
       "    <tr>\n",
       "      <th>2</th>\n",
       "      <td>../../non_laImages/Truman_Capote_Seymour_14212...</td>\n",
       "      <td>True</td>\n",
       "    </tr>\n",
       "    <tr>\n",
       "      <th>3</th>\n",
       "      <td>../../non_laImages/The_Gorbals,_Glasgow_Rosenw...</td>\n",
       "      <td>True</td>\n",
       "    </tr>\n",
       "    <tr>\n",
       "      <th>4</th>\n",
       "      <td>../../non_laImages/Christ_before_Herod_German_...</td>\n",
       "      <td>True</td>\n",
       "    </tr>\n",
       "  </tbody>\n",
       "</table>\n",
       "</div>"
      ],
      "text/plain": [
       "                                            image_fp  file_downloaded\n",
       "0  ../../non_laImages/Tanned_Hide_Tamagami_48779.jpg             True\n",
       "1  ../../non_laImages/Modern_Print_Dressen_72470.jpg             True\n",
       "2  ../../non_laImages/Truman_Capote_Seymour_14212...             True\n",
       "3  ../../non_laImages/The_Gorbals,_Glasgow_Rosenw...             True\n",
       "4  ../../non_laImages/Christ_before_Herod_German_...             True"
      ]
     },
     "execution_count": 22,
     "metadata": {},
     "output_type": "execute_result"
    }
   ],
   "source": [
    "nonLaArt.loc[:,['image_fp', 'file_downloaded']].head()"
   ]
  },
  {
   "cell_type": "code",
   "execution_count": 23,
   "metadata": {
    "collapsed": false,
    "jupyter": {
     "outputs_hidden": false
    },
    "pycharm": {
     "name": "#%%\n"
    }
   },
   "outputs": [
    {
     "data": {
      "text/plain": [
       "1.0"
      ]
     },
     "execution_count": 23,
     "metadata": {},
     "output_type": "execute_result"
    }
   ],
   "source": [
    "nonLaArt.file_downloaded.sum() / len(nonLaArt)"
   ]
  },
  {
   "cell_type": "code",
   "execution_count": 24,
   "metadata": {
    "collapsed": false,
    "jupyter": {
     "outputs_hidden": false
    },
    "pycharm": {
     "name": "#%%\n"
    }
   },
   "outputs": [],
   "source": [
    "#TODO: Add percentFromArtist\n",
    "# code to add percent from artist column in non-la art to match la dataset\n",
    "proportion_ofArtist = nonLaArt.forwarddisplayname.value_counts(normalize=True)\n",
    "nonLaArt['percent_fromArtist'] = nonLaArt.forwarddisplayname.apply(lambda x: proportion_ofArtist[x])"
   ]
  },
  {
   "cell_type": "code",
   "execution_count": 25,
   "metadata": {
    "collapsed": false,
    "jupyter": {
     "outputs_hidden": false
    },
    "pycharm": {
     "name": "#%%\n"
    }
   },
   "outputs": [
    {
     "data": {
      "text/plain": [
       "{'subfolder'}"
      ]
     },
     "execution_count": 25,
     "metadata": {},
     "output_type": "execute_result"
    }
   ],
   "source": [
    "set(LaArt.columns) - set(nonLaArt.columns)"
   ]
  },
  {
   "cell_type": "code",
   "execution_count": 26,
   "metadata": {
    "collapsed": false,
    "jupyter": {
     "outputs_hidden": false
    },
    "pycharm": {
     "name": "#%%\n"
    }
   },
   "outputs": [],
   "source": [
    "nonLaArt.to_csv('../../data_samples/results/whole_set_results/downloaded_nonLa_art.csv', index=False)"
   ]
  },
  {
   "cell_type": "code",
   "execution_count": null,
   "metadata": {
    "collapsed": false,
    "jupyter": {
     "outputs_hidden": false
    },
    "pycharm": {
     "name": "#%%\n"
    }
   },
   "outputs": [],
   "source": [
    "#TODO: Transition the images in the nonLA imagefolder split notebook"
   ]
  },
  {
   "cell_type": "code",
   "execution_count": 7,
   "metadata": {
    "collapsed": false,
    "jupyter": {
     "outputs_hidden": false
    },
    "pycharm": {
     "name": "#%%\n"
    }
   },
   "outputs": [
    {
     "ename": "AttributeError",
     "evalue": "'DataFrame' object has no attribute 'iiifthumburl'",
     "output_type": "error",
     "traceback": [
      "\u001b[0;31m---------------------------------------------------------------------------\u001b[0m",
      "\u001b[0;31mAttributeError\u001b[0m                            Traceback (most recent call last)",
      "\u001b[0;32m/var/folders/b8/b_prs9t152qc96jlgz5zhwt00000gn/T/ipykernel_77969/623365600.py\u001b[0m in \u001b[0;36m<module>\u001b[0;34m\u001b[0m\n\u001b[1;32m      1\u001b[0m \u001b[0;31m#removing rows where there is no publically available image link\u001b[0m\u001b[0;34m\u001b[0m\u001b[0;34m\u001b[0m\u001b[0;34m\u001b[0m\u001b[0m\n\u001b[0;32m----> 2\u001b[0;31m \u001b[0mnonLaArt\u001b[0m \u001b[0;34m=\u001b[0m \u001b[0mnonLaArt\u001b[0m\u001b[0;34m.\u001b[0m\u001b[0mwhere\u001b[0m\u001b[0;34m(\u001b[0m\u001b[0mnonLaArt\u001b[0m\u001b[0;34m.\u001b[0m\u001b[0miiifthumburl\u001b[0m\u001b[0;34m.\u001b[0m\u001b[0mapply\u001b[0m\u001b[0;34m(\u001b[0m\u001b[0;32mlambda\u001b[0m \u001b[0mx\u001b[0m\u001b[0;34m:\u001b[0m \u001b[0mpd\u001b[0m\u001b[0;34m.\u001b[0m\u001b[0mnotna\u001b[0m\u001b[0;34m(\u001b[0m\u001b[0mx\u001b[0m\u001b[0;34m)\u001b[0m\u001b[0;34m)\u001b[0m\u001b[0;34m)\u001b[0m\u001b[0;34m.\u001b[0m\u001b[0mdropna\u001b[0m\u001b[0;34m(\u001b[0m\u001b[0mhow\u001b[0m\u001b[0;34m=\u001b[0m\u001b[0;34m'all'\u001b[0m\u001b[0;34m)\u001b[0m\u001b[0;34m\u001b[0m\u001b[0;34m\u001b[0m\u001b[0m\n\u001b[0m",
      "\u001b[0;32m~/opt/anaconda3/lib/python3.7/site-packages/pandas/core/generic.py\u001b[0m in \u001b[0;36m__getattr__\u001b[0;34m(self, name)\u001b[0m\n\u001b[1;32m   5485\u001b[0m         ):\n\u001b[1;32m   5486\u001b[0m             \u001b[0;32mreturn\u001b[0m \u001b[0mself\u001b[0m\u001b[0;34m[\u001b[0m\u001b[0mname\u001b[0m\u001b[0;34m]\u001b[0m\u001b[0;34m\u001b[0m\u001b[0;34m\u001b[0m\u001b[0m\n\u001b[0;32m-> 5487\u001b[0;31m         \u001b[0;32mreturn\u001b[0m \u001b[0mobject\u001b[0m\u001b[0;34m.\u001b[0m\u001b[0m__getattribute__\u001b[0m\u001b[0;34m(\u001b[0m\u001b[0mself\u001b[0m\u001b[0;34m,\u001b[0m \u001b[0mname\u001b[0m\u001b[0;34m)\u001b[0m\u001b[0;34m\u001b[0m\u001b[0;34m\u001b[0m\u001b[0m\n\u001b[0m\u001b[1;32m   5488\u001b[0m \u001b[0;34m\u001b[0m\u001b[0m\n\u001b[1;32m   5489\u001b[0m     \u001b[0;32mdef\u001b[0m \u001b[0m__setattr__\u001b[0m\u001b[0;34m(\u001b[0m\u001b[0mself\u001b[0m\u001b[0;34m,\u001b[0m \u001b[0mname\u001b[0m\u001b[0;34m:\u001b[0m \u001b[0mstr\u001b[0m\u001b[0;34m,\u001b[0m \u001b[0mvalue\u001b[0m\u001b[0;34m)\u001b[0m \u001b[0;34m->\u001b[0m \u001b[0;32mNone\u001b[0m\u001b[0;34m:\u001b[0m\u001b[0;34m\u001b[0m\u001b[0;34m\u001b[0m\u001b[0m\n",
      "\u001b[0;31mAttributeError\u001b[0m: 'DataFrame' object has no attribute 'iiifthumburl'"
     ]
    }
   ],
   "source": [
    "#removing rows where there is no publicly available image link\n",
    "nonLaArt = nonLaArt.where(nonLaArt.iiifthumburl.apply(lambda x: pd.notna(x))).dropna(how='all')"
   ]
  },
  {
   "cell_type": "code",
   "execution_count": 5,
   "metadata": {
    "collapsed": false,
    "jupyter": {
     "outputs_hidden": false
    },
    "pycharm": {
     "name": "#%%\n"
    }
   },
   "outputs": [
    {
     "name": "stdout",
     "output_type": "stream",
     "text": [
      "(354, 39)\n",
      "(235503, 60)\n"
     ]
    }
   ],
   "source": [
    "print(LaArt.shape)\n",
    "print(nonLaArt.shape)"
   ]
  },
  {
   "cell_type": "code",
   "execution_count": 6,
   "metadata": {
    "collapsed": false,
    "jupyter": {
     "outputs_hidden": false
    },
    "pycharm": {
     "name": "#%%\n"
    }
   },
   "outputs": [],
   "source": [
    "# Change - Reformat URL to View Entire Art (Expanded Url)\n",
    "nonLaArt['expanded_url'] = nonLaArt.iiifthumburl.apply(lambda x: x.replace('!200,200', 'full'))"
   ]
  },
  {
   "cell_type": "code",
   "execution_count": 7,
   "metadata": {
    "collapsed": false,
    "jupyter": {
     "outputs_hidden": false
    },
    "pycharm": {
     "name": "#%%\n"
    }
   },
   "outputs": [],
   "source": [
    "#selecting only data that has a listed nationality\n",
    "nonLaArt = nonLaArt.where(nonLaArt.nationality.apply(pd.notna)).dropna(how='all')"
   ]
  },
  {
   "cell_type": "code",
   "execution_count": 8,
   "metadata": {
    "collapsed": false,
    "jupyter": {
     "outputs_hidden": false
    },
    "pycharm": {
     "name": "#%%\n"
    }
   },
   "outputs": [
    {
     "name": "stdout",
     "output_type": "stream",
     "text": [
      "(354, 39)\n",
      "(204986, 61)\n"
     ]
    }
   ],
   "source": [
    "print(LaArt.shape)\n",
    "print(nonLaArt.shape)"
   ]
  },
  {
   "cell_type": "code",
   "execution_count": 9,
   "metadata": {
    "collapsed": false,
    "jupyter": {
     "outputs_hidden": false
    },
    "pycharm": {
     "name": "#%%\n"
    }
   },
   "outputs": [
    {
     "data": {
      "text/plain": [
       "{'accessionnum',\n",
       " 'artist_lifespan',\n",
       " 'artistofngaobject',\n",
       " 'birth_year',\n",
       " 'country_created',\n",
       " 'created',\n",
       " 'creation_end',\n",
       " 'creation_start',\n",
       " 'customprinturl',\n",
       " 'death_year',\n",
       " 'departmentabbr',\n",
       " 'iiifthumburl',\n",
       " 'iiifurl',\n",
       " 'lastdetectedmodification',\n",
       " 'lifespan',\n",
       " 'locationid',\n",
       " 'modified',\n",
       " 'prefix',\n",
       " 'relationship_ended',\n",
       " 'relationship_started',\n",
       " 'role',\n",
       " 'roletype',\n",
       " 'subclassification',\n",
       " 'suffix',\n",
       " 'uuid',\n",
       " 'viewtype',\n",
       " 'visualbrowserclassification',\n",
       " 'volume',\n",
       " 'watermarks',\n",
       " 'zipcode_created'}"
      ]
     },
     "execution_count": 9,
     "metadata": {},
     "output_type": "execute_result"
    }
   ],
   "source": [
    "#To Remove (Columns in nonLaArt, not in LaArt)\n",
    "set(nonLaArt.columns) - set(LaArt.columns)"
   ]
  },
  {
   "cell_type": "code",
   "execution_count": 10,
   "metadata": {
    "collapsed": false,
    "jupyter": {
     "outputs_hidden": false
    },
    "pycharm": {
     "name": "#%%\n"
    }
   },
   "outputs": [],
   "source": [
    "#dropping columns in nonLaArt missing in LaArt\n",
    "nonLaArt = nonLaArt.drop(columns = ['modified', 'iiifthumburl', 'iiifurl', 'viewtype', 'zipcode_created', 'watermarks', 'volume', 'visualbrowserclassification', 'viewtype', 'uuid', 'suffix', 'roletype', 'role', 'prefix', 'modified', 'locationid', 'lastdetectedmodification', 'iiifurl', 'iiifthumburl', 'departmentabbr', 'artistofngaobject', 'artist_lifespan', 'accessionnum', 'accessioned', 'birth_year', 'country_created', 'created', 'creation_end', 'creation_start', 'customprinturl', 'death_year', 'lifespan', 'relationship_ended', 'relationship_started', 'subclassification'])"
   ]
  },
  {
   "cell_type": "code",
   "execution_count": 59,
   "metadata": {
    "collapsed": false,
    "jupyter": {
     "outputs_hidden": false
    },
    "pycharm": {
     "name": "#%%\n"
    }
   },
   "outputs": [],
   "source": [
    "LaArt.columns = ['expanded_url', 'title', 'forwarddisplayname', 'medium', 'displaydate',\n",
    "                 'sequence', 'width', 'height', 'maxpixels', 'depictstmsobjectid',\n",
    "                 'assistivetext', 'objectid', 'displayorder', 'constituentid', 'ulanid',\n",
    "                 'preferreddisplayname', 'lastname', 'nationality', 'constituenttype',\n",
    "                 'percent_fromCountry', 'Country', 'Continent', 'Country Name', 'accessioned',\n",
    "                 'dimensions', 'inscription', 'markings', 'attributioninverted',\n",
    "                 'attribution', 'provenancetext', 'creditline', 'classification',\n",
    "                 'parentid', 'isvirtual', 'portfolio', 'series', 'file_name',\n",
    "                 'directory', 'file_downloaded']"
   ]
  },
  {
   "cell_type": "code",
   "execution_count": 60,
   "metadata": {
    "collapsed": false,
    "jupyter": {
     "outputs_hidden": false
    },
    "pycharm": {
     "name": "#%%\n"
    }
   },
   "outputs": [
    {
     "data": {
      "text/html": [
       "<div>\n",
       "<style scoped>\n",
       "    .dataframe tbody tr th:only-of-type {\n",
       "        vertical-align: middle;\n",
       "    }\n",
       "\n",
       "    .dataframe tbody tr th {\n",
       "        vertical-align: top;\n",
       "    }\n",
       "\n",
       "    .dataframe thead th {\n",
       "        text-align: right;\n",
       "    }\n",
       "</style>\n",
       "<table border=\"1\" class=\"dataframe\">\n",
       "  <thead>\n",
       "    <tr style=\"text-align: right;\">\n",
       "      <th></th>\n",
       "      <th>Country Name</th>\n",
       "      <th>displaydate</th>\n",
       "      <th>Continent</th>\n",
       "      <th>file_downloaded</th>\n",
       "      <th>accessioned</th>\n",
       "      <th>Country</th>\n",
       "      <th>directory</th>\n",
       "      <th>percent_fromCountry</th>\n",
       "      <th>file_name</th>\n",
       "    </tr>\n",
       "  </thead>\n",
       "  <tbody>\n",
       "    <tr>\n",
       "      <th>0</th>\n",
       "      <td>Chile</td>\n",
       "      <td>Chilean, 1918 - 1993</td>\n",
       "      <td>South America</td>\n",
       "      <td>True</td>\n",
       "      <td>1</td>\n",
       "      <td>CL</td>\n",
       "      <td>./All_Images</td>\n",
       "      <td>0.000392</td>\n",
       "      <td>Festival_Andino.jpg</td>\n",
       "    </tr>\n",
       "    <tr>\n",
       "      <th>1</th>\n",
       "      <td>Mexico</td>\n",
       "      <td>Mexican, 1886 - 1957</td>\n",
       "      <td>North America</td>\n",
       "      <td>True</td>\n",
       "      <td>1</td>\n",
       "      <td>MX</td>\n",
       "      <td>./All_Images</td>\n",
       "      <td>0.002417</td>\n",
       "      <td>Chester_Dale.jpg</td>\n",
       "    </tr>\n",
       "    <tr>\n",
       "      <th>2</th>\n",
       "      <td>Chile</td>\n",
       "      <td>Chilean, 1911 - 2002</td>\n",
       "      <td>South America</td>\n",
       "      <td>True</td>\n",
       "      <td>1</td>\n",
       "      <td>CL</td>\n",
       "      <td>./All_Images</td>\n",
       "      <td>0.000392</td>\n",
       "      <td>Compostion_XVI.jpg</td>\n",
       "    </tr>\n",
       "    <tr>\n",
       "      <th>3</th>\n",
       "      <td>Chile</td>\n",
       "      <td>Chilean, 1911 - 2002</td>\n",
       "      <td>South America</td>\n",
       "      <td>True</td>\n",
       "      <td>1</td>\n",
       "      <td>CL</td>\n",
       "      <td>./All_Images</td>\n",
       "      <td>0.000392</td>\n",
       "      <td>Compostion_IV.jpg</td>\n",
       "    </tr>\n",
       "    <tr>\n",
       "      <th>4</th>\n",
       "      <td>Chile</td>\n",
       "      <td>Chilean, 1911 - 2002</td>\n",
       "      <td>South America</td>\n",
       "      <td>True</td>\n",
       "      <td>1</td>\n",
       "      <td>CL</td>\n",
       "      <td>./All_Images</td>\n",
       "      <td>0.000392</td>\n",
       "      <td>Compostion_I.jpg</td>\n",
       "    </tr>\n",
       "  </tbody>\n",
       "</table>\n",
       "</div>"
      ],
      "text/plain": [
       "  Country Name           displaydate      Continent  file_downloaded  \\\n",
       "0        Chile  Chilean, 1918 - 1993  South America             True   \n",
       "1       Mexico  Mexican, 1886 - 1957  North America             True   \n",
       "2        Chile  Chilean, 1911 - 2002  South America             True   \n",
       "3        Chile  Chilean, 1911 - 2002  South America             True   \n",
       "4        Chile  Chilean, 1911 - 2002  South America             True   \n",
       "\n",
       "   accessioned Country     directory  percent_fromCountry            file_name  \n",
       "0            1      CL  ./All_Images             0.000392  Festival_Andino.jpg  \n",
       "1            1      MX  ./All_Images             0.002417     Chester_Dale.jpg  \n",
       "2            1      CL  ./All_Images             0.000392   Compostion_XVI.jpg  \n",
       "3            1      CL  ./All_Images             0.000392    Compostion_IV.jpg  \n",
       "4            1      CL  ./All_Images             0.000392     Compostion_I.jpg  "
      ]
     },
     "execution_count": 60,
     "metadata": {},
     "output_type": "execute_result"
    }
   ],
   "source": [
    "#to add columns\n",
    "LaArt[list(set(LaArt.columns) - set(nonLaArt.columns))].head()"
   ]
  },
  {
   "cell_type": "code",
   "execution_count": 61,
   "metadata": {
    "collapsed": false,
    "jupyter": {
     "outputs_hidden": false
    },
    "pycharm": {
     "name": "#%%\n"
    }
   },
   "outputs": [
    {
     "name": "stdout",
     "output_type": "stream",
     "text": [
      "(354, 39)\n",
      "(204986, 30)\n"
     ]
    }
   ],
   "source": [
    "print(LaArt.shape)\n",
    "print(nonLaArt.shape)"
   ]
  },
  {
   "cell_type": "markdown",
   "metadata": {
    "pycharm": {
     "name": "#%% md\n"
    }
   },
   "source": [
    "### Geographic Statistical Data"
   ]
  },
  {
   "cell_type": "code",
   "execution_count": 65,
   "metadata": {
    "collapsed": false,
    "jupyter": {
     "outputs_hidden": false
    },
    "pycharm": {
     "name": "#%%\n"
    }
   },
   "outputs": [],
   "source": [
    "nonLa_in_NGA = pd.read_csv('../../data_samples/results/whole_set_results/country_continent_info.csv')"
   ]
  },
  {
   "cell_type": "code",
   "execution_count": 66,
   "metadata": {
    "collapsed": false,
    "jupyter": {
     "outputs_hidden": false
    },
    "pycharm": {
     "name": "#%%\n"
    }
   },
   "outputs": [],
   "source": [
    "demonyms = pd.read_csv('../../data_samples/results/whole_set_results/demonyms.csv')"
   ]
  },
  {
   "cell_type": "code",
   "execution_count": 67,
   "metadata": {
    "collapsed": false,
    "jupyter": {
     "outputs_hidden": false
    },
    "pycharm": {
     "name": "#%%\n"
    }
   },
   "outputs": [],
   "source": [
    "demonyms.columns = ['Demonym', 'Country Name']"
   ]
  },
  {
   "cell_type": "code",
   "execution_count": 68,
   "metadata": {
    "collapsed": false,
    "jupyter": {
     "outputs_hidden": false
    },
    "pycharm": {
     "name": "#%%\n"
    }
   },
   "outputs": [],
   "source": [
    "nonLa_countryDetails = pd.merge(demonyms, nonLa_in_NGA, on='Country Name', how='inner')"
   ]
  },
  {
   "cell_type": "code",
   "execution_count": 69,
   "metadata": {
    "collapsed": false,
    "jupyter": {
     "outputs_hidden": false
    },
    "pycharm": {
     "name": "#%%\n"
    }
   },
   "outputs": [],
   "source": [
    "nationalities_prob = nonLaArt.nationality.value_counts(normalize=True)\n",
    "nationalities_prob = nationalities_prob.reset_index()\n",
    "nationalities_prob.columns = ['Demonym', 'percent_fromCountry']"
   ]
  },
  {
   "cell_type": "code",
   "execution_count": 70,
   "metadata": {
    "collapsed": false,
    "jupyter": {
     "outputs_hidden": false
    },
    "pycharm": {
     "name": "#%%\n"
    }
   },
   "outputs": [],
   "source": [
    "nonLa_countryDetails = pd.merge(nationalities_prob, nonLa_countryDetails, on ='Demonym', how='inner')"
   ]
  },
  {
   "cell_type": "code",
   "execution_count": 71,
   "metadata": {
    "collapsed": false,
    "jupyter": {
     "outputs_hidden": false
    },
    "pycharm": {
     "name": "#%%\n"
    }
   },
   "outputs": [],
   "source": [
    "to_add = nonLa_countryDetails.drop('Continent', axis=1)"
   ]
  },
  {
   "cell_type": "code",
   "execution_count": 77,
   "metadata": {
    "collapsed": false,
    "jupyter": {
     "outputs_hidden": false
    },
    "pycharm": {
     "name": "#%%\n"
    }
   },
   "outputs": [],
   "source": [
    "to_add.columns = ['nationality', 'percent_fromCountry', 'Country Name', 'Country', 'Continent']"
   ]
  },
  {
   "cell_type": "code",
   "execution_count": 80,
   "metadata": {
    "collapsed": false,
    "jupyter": {
     "outputs_hidden": false
    },
    "pycharm": {
     "name": "#%%\n"
    }
   },
   "outputs": [],
   "source": [
    "nonLaArt = pd.merge(nonLaArt, to_add, on = 'nationality', how ='inner')"
   ]
  },
  {
   "cell_type": "code",
   "execution_count": 82,
   "metadata": {
    "collapsed": false,
    "jupyter": {
     "outputs_hidden": false
    },
    "pycharm": {
     "name": "#%%\n"
    }
   },
   "outputs": [
    {
     "data": {
      "text/html": [
       "<div>\n",
       "<style scoped>\n",
       "    .dataframe tbody tr th:only-of-type {\n",
       "        vertical-align: middle;\n",
       "    }\n",
       "\n",
       "    .dataframe tbody tr th {\n",
       "        vertical-align: top;\n",
       "    }\n",
       "\n",
       "    .dataframe thead th {\n",
       "        text-align: right;\n",
       "    }\n",
       "</style>\n",
       "<table border=\"1\" class=\"dataframe\">\n",
       "  <thead>\n",
       "    <tr style=\"text-align: right;\">\n",
       "      <th></th>\n",
       "      <th>objectid</th>\n",
       "      <th>title</th>\n",
       "      <th>medium</th>\n",
       "      <th>dimensions</th>\n",
       "      <th>inscription</th>\n",
       "      <th>markings</th>\n",
       "      <th>attributioninverted</th>\n",
       "      <th>attribution</th>\n",
       "      <th>provenancetext</th>\n",
       "      <th>creditline</th>\n",
       "      <th>...</th>\n",
       "      <th>preferreddisplayname</th>\n",
       "      <th>forwarddisplayname</th>\n",
       "      <th>lastname</th>\n",
       "      <th>nationality</th>\n",
       "      <th>constituenttype</th>\n",
       "      <th>expanded_url</th>\n",
       "      <th>percent_fromCountry</th>\n",
       "      <th>Country Name</th>\n",
       "      <th>Country</th>\n",
       "      <th>Continent</th>\n",
       "    </tr>\n",
       "  </thead>\n",
       "  <tbody>\n",
       "    <tr>\n",
       "      <th>0</th>\n",
       "      <td>145077.0</td>\n",
       "      <td>Untitled (Portrait of the Artist's Mother)</td>\n",
       "      <td>etching</td>\n",
       "      <td>plate: 142 x 130 mm\\nsheet: 333 x 242 mm</td>\n",
       "      <td>NaN</td>\n",
       "      <td>NaN</td>\n",
       "      <td>Stella, Joseph</td>\n",
       "      <td>Joseph Stella</td>\n",
       "      <td>NaN</td>\n",
       "      <td>Reba and Dave Williams Collection, Gift of Reb...</td>\n",
       "      <td>...</td>\n",
       "      <td>Sorini, Emiliano</td>\n",
       "      <td>Emiliano Sorini</td>\n",
       "      <td>Sorini</td>\n",
       "      <td>American</td>\n",
       "      <td>individual</td>\n",
       "      <td>https://api.nga.gov/iiif/9f8e26de-6c9b-4359-87...</td>\n",
       "      <td>0.709936</td>\n",
       "      <td>United States</td>\n",
       "      <td>US</td>\n",
       "      <td>North America</td>\n",
       "    </tr>\n",
       "    <tr>\n",
       "      <th>1</th>\n",
       "      <td>145077.0</td>\n",
       "      <td>Untitled (Portrait of the Artist's Mother)</td>\n",
       "      <td>etching</td>\n",
       "      <td>plate: 142 x 130 mm\\nsheet: 333 x 242 mm</td>\n",
       "      <td>NaN</td>\n",
       "      <td>NaN</td>\n",
       "      <td>Stella, Joseph</td>\n",
       "      <td>Joseph Stella</td>\n",
       "      <td>NaN</td>\n",
       "      <td>Reba and Dave Williams Collection, Gift of Reb...</td>\n",
       "      <td>...</td>\n",
       "      <td>Stella, Joseph</td>\n",
       "      <td>Joseph Stella</td>\n",
       "      <td>Stella</td>\n",
       "      <td>American</td>\n",
       "      <td>individual</td>\n",
       "      <td>https://api.nga.gov/iiif/9f8e26de-6c9b-4359-87...</td>\n",
       "      <td>0.709936</td>\n",
       "      <td>United States</td>\n",
       "      <td>US</td>\n",
       "      <td>North America</td>\n",
       "    </tr>\n",
       "    <tr>\n",
       "      <th>2</th>\n",
       "      <td>17320.0</td>\n",
       "      <td>Jug</td>\n",
       "      <td>wAtercolor, colored pencil, and graphite on pa...</td>\n",
       "      <td>overall: 44.5 x 35.5 cm (17 1/2 x 14 in.)\\nOri...</td>\n",
       "      <td>lower left in graphite: S. Garfinkel / and / J...</td>\n",
       "      <td>NaN</td>\n",
       "      <td>Garfinkel, Sara and John Tarantino</td>\n",
       "      <td>Sara Garfinkel and John Tarantino</td>\n",
       "      <td>NaN</td>\n",
       "      <td>Index of American Design</td>\n",
       "      <td>...</td>\n",
       "      <td>Tarantino, John</td>\n",
       "      <td>John Tarantino</td>\n",
       "      <td>Tarantino</td>\n",
       "      <td>American</td>\n",
       "      <td>individual</td>\n",
       "      <td>https://api.nga.gov/iiif/a18e0e97-2473-4e32-b4...</td>\n",
       "      <td>0.709936</td>\n",
       "      <td>United States</td>\n",
       "      <td>US</td>\n",
       "      <td>North America</td>\n",
       "    </tr>\n",
       "    <tr>\n",
       "      <th>3</th>\n",
       "      <td>17320.0</td>\n",
       "      <td>Jug</td>\n",
       "      <td>wAtercolor, colored pencil, and graphite on pa...</td>\n",
       "      <td>overall: 44.5 x 35.5 cm (17 1/2 x 14 in.)\\nOri...</td>\n",
       "      <td>lower left in graphite: S. Garfinkel / and / J...</td>\n",
       "      <td>NaN</td>\n",
       "      <td>Garfinkel, Sara and John Tarantino</td>\n",
       "      <td>Sara Garfinkel and John Tarantino</td>\n",
       "      <td>NaN</td>\n",
       "      <td>Index of American Design</td>\n",
       "      <td>...</td>\n",
       "      <td>Garfinkel, Sara</td>\n",
       "      <td>Sara Garfinkel</td>\n",
       "      <td>Garfinkel</td>\n",
       "      <td>American</td>\n",
       "      <td>individual</td>\n",
       "      <td>https://api.nga.gov/iiif/a18e0e97-2473-4e32-b4...</td>\n",
       "      <td>0.709936</td>\n",
       "      <td>United States</td>\n",
       "      <td>US</td>\n",
       "      <td>North America</td>\n",
       "    </tr>\n",
       "    <tr>\n",
       "      <th>4</th>\n",
       "      <td>34937.0</td>\n",
       "      <td>Seascape</td>\n",
       "      <td>etching and aquatint</td>\n",
       "      <td>mount: 48.5 × 33.4 cm (19 1/8 × 13 1/8 in.)\\ns...</td>\n",
       "      <td>in plate, below image, at center: Dessin de Gu...</td>\n",
       "      <td>NaN</td>\n",
       "      <td>Schönecker, Regina after Wigerus Vitringa</td>\n",
       "      <td>Regina Schönecker after Wigerus Vitringa</td>\n",
       "      <td>(Walter Schatzki, New York); Lessing Julius Ro...</td>\n",
       "      <td>Rosenwald Collection</td>\n",
       "      <td>...</td>\n",
       "      <td>Rosenwald, Lessing Julius</td>\n",
       "      <td>Lessing Julius Rosenwald</td>\n",
       "      <td>Rosenwald</td>\n",
       "      <td>American</td>\n",
       "      <td>individual</td>\n",
       "      <td>https://api.nga.gov/iiif/a19b5f55-bbc6-4fd1-a2...</td>\n",
       "      <td>0.709936</td>\n",
       "      <td>United States</td>\n",
       "      <td>US</td>\n",
       "      <td>North America</td>\n",
       "    </tr>\n",
       "  </tbody>\n",
       "</table>\n",
       "<p>5 rows × 34 columns</p>\n",
       "</div>"
      ],
      "text/plain": [
       "   objectid                                       title  \\\n",
       "0  145077.0  Untitled (Portrait of the Artist's Mother)   \n",
       "1  145077.0  Untitled (Portrait of the Artist's Mother)   \n",
       "2   17320.0                                         Jug   \n",
       "3   17320.0                                         Jug   \n",
       "4   34937.0                                    Seascape   \n",
       "\n",
       "                                              medium  \\\n",
       "0                                            etching   \n",
       "1                                            etching   \n",
       "2  wAtercolor, colored pencil, and graphite on pa...   \n",
       "3  wAtercolor, colored pencil, and graphite on pa...   \n",
       "4                               etching and aquatint   \n",
       "\n",
       "                                          dimensions  \\\n",
       "0           plate: 142 x 130 mm\\nsheet: 333 x 242 mm   \n",
       "1           plate: 142 x 130 mm\\nsheet: 333 x 242 mm   \n",
       "2  overall: 44.5 x 35.5 cm (17 1/2 x 14 in.)\\nOri...   \n",
       "3  overall: 44.5 x 35.5 cm (17 1/2 x 14 in.)\\nOri...   \n",
       "4  mount: 48.5 × 33.4 cm (19 1/8 × 13 1/8 in.)\\ns...   \n",
       "\n",
       "                                         inscription markings  \\\n",
       "0                                                NaN      NaN   \n",
       "1                                                NaN      NaN   \n",
       "2  lower left in graphite: S. Garfinkel / and / J...      NaN   \n",
       "3  lower left in graphite: S. Garfinkel / and / J...      NaN   \n",
       "4  in plate, below image, at center: Dessin de Gu...      NaN   \n",
       "\n",
       "                         attributioninverted  \\\n",
       "0                             Stella, Joseph   \n",
       "1                             Stella, Joseph   \n",
       "2         Garfinkel, Sara and John Tarantino   \n",
       "3         Garfinkel, Sara and John Tarantino   \n",
       "4  Schönecker, Regina after Wigerus Vitringa   \n",
       "\n",
       "                                attribution  \\\n",
       "0                             Joseph Stella   \n",
       "1                             Joseph Stella   \n",
       "2         Sara Garfinkel and John Tarantino   \n",
       "3         Sara Garfinkel and John Tarantino   \n",
       "4  Regina Schönecker after Wigerus Vitringa   \n",
       "\n",
       "                                      provenancetext  \\\n",
       "0                                                NaN   \n",
       "1                                                NaN   \n",
       "2                                                NaN   \n",
       "3                                                NaN   \n",
       "4  (Walter Schatzki, New York); Lessing Julius Ro...   \n",
       "\n",
       "                                          creditline  ...  \\\n",
       "0  Reba and Dave Williams Collection, Gift of Reb...  ...   \n",
       "1  Reba and Dave Williams Collection, Gift of Reb...  ...   \n",
       "2                           Index of American Design  ...   \n",
       "3                           Index of American Design  ...   \n",
       "4                               Rosenwald Collection  ...   \n",
       "\n",
       "        preferreddisplayname        forwarddisplayname   lastname nationality  \\\n",
       "0           Sorini, Emiliano           Emiliano Sorini     Sorini    American   \n",
       "1             Stella, Joseph             Joseph Stella     Stella    American   \n",
       "2            Tarantino, John            John Tarantino  Tarantino    American   \n",
       "3            Garfinkel, Sara            Sara Garfinkel  Garfinkel    American   \n",
       "4  Rosenwald, Lessing Julius  Lessing Julius Rosenwald  Rosenwald    American   \n",
       "\n",
       "  constituenttype                                       expanded_url  \\\n",
       "0      individual  https://api.nga.gov/iiif/9f8e26de-6c9b-4359-87...   \n",
       "1      individual  https://api.nga.gov/iiif/9f8e26de-6c9b-4359-87...   \n",
       "2      individual  https://api.nga.gov/iiif/a18e0e97-2473-4e32-b4...   \n",
       "3      individual  https://api.nga.gov/iiif/a18e0e97-2473-4e32-b4...   \n",
       "4      individual  https://api.nga.gov/iiif/a19b5f55-bbc6-4fd1-a2...   \n",
       "\n",
       "   percent_fromCountry   Country Name  Country      Continent  \n",
       "0             0.709936  United States       US  North America  \n",
       "1             0.709936  United States       US  North America  \n",
       "2             0.709936  United States       US  North America  \n",
       "3             0.709936  United States       US  North America  \n",
       "4             0.709936  United States       US  North America  \n",
       "\n",
       "[5 rows x 34 columns]"
      ]
     },
     "execution_count": 82,
     "metadata": {},
     "output_type": "execute_result"
    }
   ],
   "source": [
    "nonLaArt.head()"
   ]
  },
  {
   "cell_type": "code",
   "execution_count": 1,
   "metadata": {
    "collapsed": false,
    "jupyter": {
     "outputs_hidden": false
    },
    "pycharm": {
     "name": "#%%\n"
    }
   },
   "outputs": [
    {
     "ename": "NameError",
     "evalue": "name 'LaArt' is not defined",
     "output_type": "error",
     "traceback": [
      "\u001b[0;31m---------------------------------------------------------------------------\u001b[0m",
      "\u001b[0;31mNameError\u001b[0m                                 Traceback (most recent call last)",
      "\u001b[0;32m/var/folders/b8/b_prs9t152qc96jlgz5zhwt00000gn/T/ipykernel_93857/1535228697.py\u001b[0m in \u001b[0;36m<module>\u001b[0;34m\u001b[0m\n\u001b[0;32m----> 1\u001b[0;31m \u001b[0mprint\u001b[0m\u001b[0;34m(\u001b[0m\u001b[0mLaArt\u001b[0m\u001b[0;34m.\u001b[0m\u001b[0mshape\u001b[0m\u001b[0;34m)\u001b[0m\u001b[0;34m\u001b[0m\u001b[0;34m\u001b[0m\u001b[0m\n\u001b[0m\u001b[1;32m      2\u001b[0m \u001b[0mprint\u001b[0m\u001b[0;34m(\u001b[0m\u001b[0mnonLaArt\u001b[0m\u001b[0;34m.\u001b[0m\u001b[0mshape\u001b[0m\u001b[0;34m)\u001b[0m\u001b[0;34m\u001b[0m\u001b[0;34m\u001b[0m\u001b[0m\n",
      "\u001b[0;31mNameError\u001b[0m: name 'LaArt' is not defined"
     ]
    }
   ],
   "source": [
    "print(LaArt.shape)\n",
    "print(nonLaArt.shape)"
   ]
  },
  {
   "cell_type": "code",
   "execution_count": 85,
   "metadata": {
    "collapsed": false,
    "jupyter": {
     "outputs_hidden": false
    },
    "pycharm": {
     "name": "#%%\n"
    }
   },
   "outputs": [],
   "source": [
    "#nonLaArt.to_csv('../../data_samples/results/whole_set_results/pa_nonLa_art.csv', index=False)"
   ]
  },
  {
   "cell_type": "code",
   "execution_count": null,
   "metadata": {
    "collapsed": false,
    "jupyter": {
     "outputs_hidden": false
    },
    "pycharm": {
     "name": "#%%\n"
    }
   },
   "outputs": [],
   "source": []
  }
 ],
 "metadata": {
  "kernelspec": {
   "display_name": "Python 3 (ipykernel)",
   "language": "python",
   "name": "python3"
  },
  "language_info": {
   "codemirror_mode": {
    "name": "ipython",
    "version": 3
   },
   "file_extension": ".py",
   "mimetype": "text/x-python",
   "name": "python",
   "nbconvert_exporter": "python",
   "pygments_lexer": "ipython3",
   "version": "3.9.16"
  }
 },
 "nbformat": 4,
 "nbformat_minor": 4
}
