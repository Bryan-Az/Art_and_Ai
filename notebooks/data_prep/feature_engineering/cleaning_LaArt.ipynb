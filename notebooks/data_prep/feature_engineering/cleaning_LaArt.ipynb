{
 "cells": [
  {
   "cell_type": "markdown",
   "metadata": {},
   "source": [
    "### Step 3: Cleaning the data for input into a M.L algorithm."
   ]
  },
  {
   "cell_type": "code",
   "execution_count": 222,
   "metadata": {},
   "outputs": [],
   "source": [
    "import numpy as np\n",
    "import pandas as pd\n",
    "from IPython.display import display, HTML\n",
    "import torch\n",
    "import torch.nn.functional as fun\n",
    "from sklearn.feature_extraction.text import CountVectorizer\n",
    "import re"
   ]
  },
  {
   "cell_type": "code",
   "execution_count": 223,
   "metadata": {
    "collapsed": false,
    "jupyter": {
     "outputs_hidden": false
    },
    "pycharm": {
     "name": "#%%\n"
    }
   },
   "outputs": [],
   "source": [
    "latinamerican_art = pd.read_csv('../data_samples/LaArt/latinamerican_art.csv')\n",
    "\n",
    "imagefp_exists = pd.read_csv('../data_samples/LaArt/validLa_image_fpaths.csv')\n",
    "\n",
    "stored_la_art = imagefp_exists.where(imagefp_exists.imagefp_exists == True).dropna(how='all')\n",
    "stored_la_art.reset_index(drop = True, inplace=True)\n",
    "\n",
    "valid_image_paths = stored_la_art.shape[0]\n",
    "la_art_total = latinamerican_art.shape[0]"
   ]
  },
  {
   "cell_type": "code",
   "execution_count": 224,
   "metadata": {},
   "outputs": [
    {
     "name": "stdout",
     "output_type": "stream",
     "text": [
      "After step 2: downloading, the amount of latin american images downloaded and successfully stored is 202 out of 342 starting records. The \n"
     ]
    }
   ],
   "source": [
    "print('After step 2: downloading, the amount of latin american images downloaded and successfully stored is {} out of {} starting records. The '.format(valid_image_paths, la_art_total))"
   ]
  },
  {
   "cell_type": "code",
   "execution_count": 225,
   "metadata": {},
   "outputs": [],
   "source": [
    "latinamerican_art_stored = pd.merge(left=latinamerican_art, right=stored_la_art, on = 'objectid', how = 'inner')"
   ]
  },
  {
   "cell_type": "markdown",
   "metadata": {
    "pycharm": {
     "name": "#%% md\n"
    }
   },
   "source": [
    "## Exploratory Data Analysis"
   ]
  },
  {
   "cell_type": "markdown",
   "metadata": {
    "pycharm": {
     "name": "#%% md\n"
    }
   },
   "source": [
    "### Amount of NA/Null Values per Feature in the Dataset"
   ]
  },
  {
   "cell_type": "code",
   "execution_count": 36,
   "metadata": {
    "collapsed": false,
    "jupyter": {
     "outputs_hidden": false
    },
    "pycharm": {
     "name": "#%%\n"
    }
   },
   "outputs": [],
   "source": [
    "num_nulls = pd.isna(latinamerican_art_stored)"
   ]
  },
  {
   "cell_type": "code",
   "execution_count": 37,
   "metadata": {
    "collapsed": false,
    "jupyter": {
     "outputs_hidden": false
    },
    "pycharm": {
     "name": "#%%\n"
    }
   },
   "outputs": [],
   "source": [
    "num_nulls = num_nulls.sum() / len(num_nulls)"
   ]
  },
  {
   "cell_type": "code",
   "execution_count": 38,
   "metadata": {
    "collapsed": false,
    "jupyter": {
     "outputs_hidden": false
    },
    "pycharm": {
     "name": "#%%\n"
    }
   },
   "outputs": [],
   "source": [
    "num_nulls = num_nulls.sort_values(ascending=False).where(num_nulls > 0).dropna()"
   ]
  },
  {
   "cell_type": "code",
   "execution_count": 39,
   "metadata": {
    "collapsed": false,
    "jupyter": {
     "outputs_hidden": false
    },
    "pycharm": {
     "name": "#%%\n"
    }
   },
   "outputs": [
    {
     "data": {
      "text/plain": [
       "assistivetext               1.000000\n",
       "volume                      1.000000\n",
       "country_artistAssigned      1.000000\n",
       "zipcode_artistAssigned      1.000000\n",
       "watermarks                  0.968504\n",
       "markings                    0.811024\n",
       "series                      0.728346\n",
       "parentID                    0.700787\n",
       "inscription                 0.496063\n",
       "portfolio                   0.484252\n",
       "endyear_artistAssigned      0.314961\n",
       "deathyear                   0.314961\n",
       "dimensions                  0.275591\n",
       "maxpixels                   0.212598\n",
       "ulanid                      0.196850\n",
       "beginyear_artistAssigned    0.059055\n",
       "birthyear                   0.059055\n",
       "displayDate_created         0.039370\n",
       "dtype: float64"
      ]
     },
     "execution_count": 39,
     "metadata": {},
     "output_type": "execute_result"
    }
   ],
   "source": [
    "num_nulls"
   ]
  },
  {
   "cell_type": "markdown",
   "metadata": {
    "pycharm": {
     "name": "#%% md\n"
    }
   },
   "source": [
    "### Dataset Distributions"
   ]
  },
  {
   "cell_type": "code",
   "execution_count": 252,
   "metadata": {
    "collapsed": false,
    "jupyter": {
     "outputs_hidden": false
    },
    "pycharm": {
     "name": "#%%\n"
    }
   },
   "outputs": [
    {
     "data": {
      "text/plain": [
       "(248, 57)"
      ]
     },
     "execution_count": 252,
     "metadata": {},
     "output_type": "execute_result"
    }
   ],
   "source": [
    "latinamerican_art_stored.shape"
   ]
  },
  {
   "cell_type": "markdown",
   "metadata": {},
   "source": [
    "#### To Do: Make a plot of time, or of image dimensions, in a seperate EDA notebook."
   ]
  },
  {
   "cell_type": "code",
   "execution_count": 45,
   "metadata": {
    "collapsed": false,
    "jupyter": {
     "outputs_hidden": false
    },
    "pycharm": {
     "name": "#%%\n"
    }
   },
   "outputs": [],
   "source": [
    "works_by_artist = latinamerican_art_stored.groupby('forwarddisplayname').apply(len)"
   ]
  },
  {
   "cell_type": "code",
   "execution_count": 48,
   "metadata": {
    "collapsed": false,
    "jupyter": {
     "outputs_hidden": false
    },
    "pycharm": {
     "name": "#%%\n"
    }
   },
   "outputs": [],
   "source": [
    "works_by_continent = latinamerican_art_stored.groupby('artists_continent').apply(len).sort_values(ascending=True)"
   ]
  },
  {
   "cell_type": "code",
   "execution_count": 50,
   "metadata": {
    "collapsed": false,
    "jupyter": {
     "outputs_hidden": false
    },
    "pycharm": {
     "name": "#%%\n"
    }
   },
   "outputs": [],
   "source": [
    "works_by_country = latinamerican_art_stored.groupby('artists_country').apply(len).sort_values(ascending=True)"
   ]
  },
  {
   "cell_type": "code",
   "execution_count": 52,
   "metadata": {
    "collapsed": false,
    "jupyter": {
     "outputs_hidden": false
    },
    "pycharm": {
     "name": "#%%\n"
    }
   },
   "outputs": [
    {
     "data": {
      "text/plain": [
       "<Axes: ylabel='artists_continent'>"
      ]
     },
     "execution_count": 52,
     "metadata": {},
     "output_type": "execute_result"
    },
    {
     "data": {
      "image/png": "[encoded data removed]",
      "text/plain": [
       "<Figure size 640x480 with 1 Axes>"
      ]
     },
     "metadata": {},
     "output_type": "display_data"
    }
   ],
   "source": [
    "works_by_continent.plot(kind='barh')"
   ]
  },
  {
   "cell_type": "code",
   "execution_count": 53,
   "metadata": {
    "collapsed": false,
    "jupyter": {
     "outputs_hidden": false
    },
    "pycharm": {
     "name": "#%%\n"
    }
   },
   "outputs": [
    {
     "data": {
      "text/plain": [
       "<Axes: ylabel='artists_country'>"
      ]
     },
     "execution_count": 53,
     "metadata": {},
     "output_type": "execute_result"
    },
    {
     "data": {
      "image/png": "[encoded data removed]",
      "text/plain": [
       "<Figure size 640x480 with 1 Axes>"
      ]
     },
     "metadata": {},
     "output_type": "display_data"
    }
   ],
   "source": [
    "works_by_country.plot(kind='barh')"
   ]
  },
  {
   "cell_type": "code",
   "execution_count": 56,
   "metadata": {
    "collapsed": false,
    "jupyter": {
     "outputs_hidden": false
    },
    "pycharm": {
     "name": "#%%\n"
    }
   },
   "outputs": [
    {
     "data": {
      "text/plain": [
       "forwarddisplayname\n",
       "Manuel Álvarez Bravo    23\n",
       "Leopoldo Méndez         21\n",
       "Graciela Iturbide       17\n",
       "Jesús Rafael Soto       16\n",
       "Francisco Toledo        15\n",
       "dtype: int64"
      ]
     },
     "metadata": {},
     "output_type": "display_data"
    }
   ],
   "source": [
    "display(works_by_artist.sort_values(ascending=False).head())"
   ]
  },
  {
   "cell_type": "code",
   "execution_count": 57,
   "metadata": {},
   "outputs": [
    {
     "data": {
      "text/plain": [
       "count    51.000000\n",
       "mean      4.980392\n",
       "std       5.728840\n",
       "min       1.000000\n",
       "25%       1.000000\n",
       "50%       3.000000\n",
       "75%       6.500000\n",
       "max      23.000000\n",
       "dtype: float64"
      ]
     },
     "metadata": {},
     "output_type": "display_data"
    }
   ],
   "source": [
    "display(works_by_artist.describe())"
   ]
  },
  {
   "cell_type": "markdown",
   "metadata": {
    "pycharm": {
     "name": "#%% md\n"
    }
   },
   "source": [
    "## Text/Categorical Feature Engineering (en_translation tbd - most have english translations but not all)"
   ]
  },
  {
   "cell_type": "code",
   "execution_count": 226,
   "metadata": {
    "collapsed": false,
    "jupyter": {
     "outputs_hidden": false
    },
    "pycharm": {
     "name": "#%%\n"
    }
   },
   "outputs": [
    {
     "data": {
      "text/plain": [
       "Index(['iiifurl', 'iiifthumburl', 'accessioned', 'title',\n",
       "       'displayDate_created', 'roletype', 'role', 'forwarddisplayname',\n",
       "       'birthyear', 'deathyear', 'ulanid', 'artistofngaobject', 'nationality',\n",
       "       'constituenttype', 'demonym', 'pct_country_NGA', 'artists_countryCode',\n",
       "       'artists_continent', 'artists_country', 'beginyear_artistAssigned',\n",
       "       'endyear_artistAssigned', 'displaydate_artistAssigned',\n",
       "       'country_artistAssigned', 'zipcode_artistAssigned', 'medium',\n",
       "       'dimensions', 'inscription', 'markings', 'attribution',\n",
       "       'visualBrowserClassification', 'parentID', 'isVirtual', 'portfolio',\n",
       "       'series', 'volume', 'watermarks', 'uuid', 'viewtype', 'sequence',\n",
       "       'width', 'height', 'maxpixels', 'assistivetext', 'depictstmsobjectid',\n",
       "       'objectid', 'constituentid', 'expanded_url', 'file_name', 'directory',\n",
       "       'subfolder', 'image_fp', 'imagefp_exists'],\n",
       "      dtype='object')"
      ]
     },
     "execution_count": 226,
     "metadata": {},
     "output_type": "execute_result"
    }
   ],
   "source": [
    "latinamerican_art_stored.columns"
   ]
  },
  {
   "cell_type": "code",
   "execution_count": 227,
   "metadata": {
    "collapsed": false,
    "jupyter": {
     "outputs_hidden": false
    },
    "pycharm": {
     "name": "#%%\n"
    }
   },
   "outputs": [],
   "source": [
    "text_dict = {}\n",
    "for entry in latinamerican_art_stored.title:\n",
    "    entry_words = entry.split(' ')\n",
    "    for word in entry_words:\n",
    "        word = word.strip(')([],\\./')\n",
    "        word = word.lower()\n",
    "        if word in text_dict.keys():\n",
    "            text_dict[word] += 1\n",
    "        else:\n",
    "            text_dict[word] = 1"
   ]
  },
  {
   "cell_type": "code",
   "execution_count": 228,
   "metadata": {
    "collapsed": false,
    "jupyter": {
     "outputs_hidden": false
    },
    "pycharm": {
     "name": "#%%\n"
    }
   },
   "outputs": [],
   "source": [
    "title_occurrences = pd.Series(text_dict).sort_values(ascending=False)"
   ]
  },
  {
   "cell_type": "code",
   "execution_count": 229,
   "metadata": {
    "collapsed": false,
    "jupyter": {
     "outputs_hidden": false
    },
    "pycharm": {
     "name": "#%%\n"
    }
   },
   "outputs": [],
   "source": [
    "titles = latinamerican_art_stored.title.copy()"
   ]
  },
  {
   "cell_type": "code",
   "execution_count": 230,
   "metadata": {
    "collapsed": false,
    "jupyter": {
     "outputs_hidden": false
    },
    "pycharm": {
     "name": "#%%\n"
    }
   },
   "outputs": [],
   "source": [
    "def clean_words(text):\n",
    "    def strip(string):\n",
    "        return re.sub('(?:^[{\\W}]+)|(?:[{\\W}]+$)', '', string)\n",
    "    text_arr = text.split(' ')\n",
    "    words = []\n",
    "    for word in text_arr:\n",
    "        edited = strip(word)\n",
    "        words.append(edited.lower())\n",
    "    return ' '.join(words)"
   ]
  },
  {
   "cell_type": "code",
   "execution_count": 231,
   "metadata": {
    "collapsed": false,
    "jupyter": {
     "outputs_hidden": false
    },
    "pycharm": {
     "name": "#%%\n"
    }
   },
   "outputs": [],
   "source": [
    "#cleaning and formatting the data to give uniformity and clarity\n",
    "titles = titles.apply(clean_words)"
   ]
  },
  {
   "cell_type": "code",
   "execution_count": 232,
   "metadata": {},
   "outputs": [
    {
     "data": {
      "text/plain": [
       "0    garden of hecelchácan\n",
       "1       calavera maderista\n",
       "2                     head\n",
       "3                  lunaire\n",
       "4                     head\n",
       "Name: title, dtype: object"
      ]
     },
     "execution_count": 232,
     "metadata": {},
     "output_type": "execute_result"
    }
   ],
   "source": [
    "titles.head()"
   ]
  },
  {
   "cell_type": "markdown",
   "metadata": {
    "pycharm": {
     "name": "#%% md\n"
    }
   },
   "source": [
    "### Converting text into tokens and making one-hot for word generalization across titles, medium, country origin, and artist name"
   ]
  },
  {
   "cell_type": "code",
   "execution_count": 233,
   "metadata": {
    "collapsed": false,
    "jupyter": {
     "outputs_hidden": false
    },
    "pycharm": {
     "name": "#%%\n"
    }
   },
   "outputs": [],
   "source": [
    "one_hot_vectorizer = CountVectorizer(binary=True)\n",
    "one_hot = one_hot_vectorizer.fit_transform(titles)\n",
    "\n",
    "title_oh = pd.DataFrame(one_hot.toarray().tolist(), columns=one_hot_vectorizer.get_feature_names_out())\n",
    "\n",
    "one_hot = one_hot_vectorizer.fit_transform(latinamerican_art_stored.medium)\n",
    "# Handling Duplicate Token Names in Columns (OH)\n",
    "medium_cols = [x + ' (medium)' for x in one_hot_vectorizer.get_feature_names_out()]\n",
    "medium_oh = pd.DataFrame(one_hot.toarray().tolist(), columns = medium_cols)\n",
    "\n",
    "one_hot = one_hot_vectorizer.fit_transform(latinamerican_art_stored['artists_country'], )\n",
    "# Handling Duplicate Token Names in Columns (OH)\n",
    "country_cols = [x + ' (country)' for x in one_hot_vectorizer.get_feature_names_out()]\n",
    "country_oh = pd.DataFrame(one_hot.toarray().tolist(), columns = country_cols)\n",
    "\n",
    "one_hot = one_hot_vectorizer.fit_transform(latinamerican_art_stored['forwarddisplayname'])\n",
    "# Handling Duplicate Token Names in Columns (OH)\n",
    "name_cols = [x + ' (artist)' for x in one_hot_vectorizer.get_feature_names_out()]\n",
    "artist_oh = pd.DataFrame(one_hot.toarray().tolist(), columns = name_cols)\n",
    "\n",
    "oh_collection = pd.concat([title_oh, medium_oh, artist_oh, country_oh], axis=1)"
   ]
  },
  {
   "cell_type": "code",
   "execution_count": 234,
   "metadata": {
    "collapsed": false,
    "jupyter": {
     "outputs_hidden": false
    },
    "pycharm": {
     "name": "#%%\n"
    }
   },
   "outputs": [
    {
     "data": {
      "text/html": [
       "<div>\n",
       "<style scoped>\n",
       "    .dataframe tbody tr th:only-of-type {\n",
       "        vertical-align: middle;\n",
       "    }\n",
       "\n",
       "    .dataframe tbody tr th {\n",
       "        vertical-align: top;\n",
       "    }\n",
       "\n",
       "    .dataframe thead th {\n",
       "        text-align: right;\n",
       "    }\n",
       "</style>\n",
       "<table border=\"1\" class=\"dataframe\">\n",
       "  <thead>\n",
       "    <tr style=\"text-align: right;\">\n",
       "      <th></th>\n",
       "      <th>17</th>\n",
       "      <th>1962</th>\n",
       "      <th>1972</th>\n",
       "      <th>1977</th>\n",
       "      <th>25</th>\n",
       "      <th>5x</th>\n",
       "      <th>abandonado</th>\n",
       "      <th>abandoned</th>\n",
       "      <th>aid</th>\n",
       "      <th>alarma</th>\n",
       "      <th>...</th>\n",
       "      <th>bolivarian (country)</th>\n",
       "      <th>brazil (country)</th>\n",
       "      <th>chile (country)</th>\n",
       "      <th>cuba (country)</th>\n",
       "      <th>guatemala (country)</th>\n",
       "      <th>mexico (country)</th>\n",
       "      <th>of (country)</th>\n",
       "      <th>peru (country)</th>\n",
       "      <th>republic (country)</th>\n",
       "      <th>venezuela (country)</th>\n",
       "    </tr>\n",
       "  </thead>\n",
       "  <tbody>\n",
       "    <tr>\n",
       "      <th>0</th>\n",
       "      <td>0</td>\n",
       "      <td>0</td>\n",
       "      <td>0</td>\n",
       "      <td>0</td>\n",
       "      <td>0</td>\n",
       "      <td>0</td>\n",
       "      <td>0</td>\n",
       "      <td>0</td>\n",
       "      <td>0</td>\n",
       "      <td>0</td>\n",
       "      <td>...</td>\n",
       "      <td>0</td>\n",
       "      <td>0</td>\n",
       "      <td>0</td>\n",
       "      <td>0</td>\n",
       "      <td>0</td>\n",
       "      <td>1</td>\n",
       "      <td>0</td>\n",
       "      <td>0</td>\n",
       "      <td>0</td>\n",
       "      <td>0</td>\n",
       "    </tr>\n",
       "    <tr>\n",
       "      <th>1</th>\n",
       "      <td>0</td>\n",
       "      <td>0</td>\n",
       "      <td>0</td>\n",
       "      <td>0</td>\n",
       "      <td>0</td>\n",
       "      <td>0</td>\n",
       "      <td>0</td>\n",
       "      <td>0</td>\n",
       "      <td>0</td>\n",
       "      <td>0</td>\n",
       "      <td>...</td>\n",
       "      <td>0</td>\n",
       "      <td>0</td>\n",
       "      <td>0</td>\n",
       "      <td>0</td>\n",
       "      <td>0</td>\n",
       "      <td>1</td>\n",
       "      <td>0</td>\n",
       "      <td>0</td>\n",
       "      <td>0</td>\n",
       "      <td>0</td>\n",
       "    </tr>\n",
       "    <tr>\n",
       "      <th>2</th>\n",
       "      <td>0</td>\n",
       "      <td>0</td>\n",
       "      <td>0</td>\n",
       "      <td>0</td>\n",
       "      <td>0</td>\n",
       "      <td>0</td>\n",
       "      <td>0</td>\n",
       "      <td>0</td>\n",
       "      <td>0</td>\n",
       "      <td>0</td>\n",
       "      <td>...</td>\n",
       "      <td>0</td>\n",
       "      <td>0</td>\n",
       "      <td>0</td>\n",
       "      <td>0</td>\n",
       "      <td>0</td>\n",
       "      <td>1</td>\n",
       "      <td>0</td>\n",
       "      <td>0</td>\n",
       "      <td>0</td>\n",
       "      <td>0</td>\n",
       "    </tr>\n",
       "    <tr>\n",
       "      <th>3</th>\n",
       "      <td>0</td>\n",
       "      <td>0</td>\n",
       "      <td>0</td>\n",
       "      <td>0</td>\n",
       "      <td>0</td>\n",
       "      <td>0</td>\n",
       "      <td>0</td>\n",
       "      <td>0</td>\n",
       "      <td>0</td>\n",
       "      <td>0</td>\n",
       "      <td>...</td>\n",
       "      <td>0</td>\n",
       "      <td>0</td>\n",
       "      <td>0</td>\n",
       "      <td>0</td>\n",
       "      <td>0</td>\n",
       "      <td>0</td>\n",
       "      <td>0</td>\n",
       "      <td>0</td>\n",
       "      <td>0</td>\n",
       "      <td>0</td>\n",
       "    </tr>\n",
       "    <tr>\n",
       "      <th>4</th>\n",
       "      <td>0</td>\n",
       "      <td>0</td>\n",
       "      <td>0</td>\n",
       "      <td>0</td>\n",
       "      <td>0</td>\n",
       "      <td>0</td>\n",
       "      <td>0</td>\n",
       "      <td>0</td>\n",
       "      <td>0</td>\n",
       "      <td>0</td>\n",
       "      <td>...</td>\n",
       "      <td>0</td>\n",
       "      <td>0</td>\n",
       "      <td>0</td>\n",
       "      <td>0</td>\n",
       "      <td>0</td>\n",
       "      <td>1</td>\n",
       "      <td>0</td>\n",
       "      <td>0</td>\n",
       "      <td>0</td>\n",
       "      <td>0</td>\n",
       "    </tr>\n",
       "  </tbody>\n",
       "</table>\n",
       "<p>5 rows × 600 columns</p>\n",
       "</div>"
      ],
      "text/plain": [
       "   17  1962  1972  1977  25  5x  abandonado  abandoned  aid  alarma  ...  \\\n",
       "0   0     0     0     0   0   0           0          0    0       0  ...   \n",
       "1   0     0     0     0   0   0           0          0    0       0  ...   \n",
       "2   0     0     0     0   0   0           0          0    0       0  ...   \n",
       "3   0     0     0     0   0   0           0          0    0       0  ...   \n",
       "4   0     0     0     0   0   0           0          0    0       0  ...   \n",
       "\n",
       "   bolivarian (country)  brazil (country)  chile (country)  cuba (country)  \\\n",
       "0                     0                 0                0               0   \n",
       "1                     0                 0                0               0   \n",
       "2                     0                 0                0               0   \n",
       "3                     0                 0                0               0   \n",
       "4                     0                 0                0               0   \n",
       "\n",
       "   guatemala (country)  mexico (country)  of (country)  peru (country)  \\\n",
       "0                    0                 1             0               0   \n",
       "1                    0                 1             0               0   \n",
       "2                    0                 1             0               0   \n",
       "3                    0                 0             0               0   \n",
       "4                    0                 1             0               0   \n",
       "\n",
       "   republic (country)  venezuela (country)  \n",
       "0                   0                    0  \n",
       "1                   0                    0  \n",
       "2                   0                    0  \n",
       "3                   0                    0  \n",
       "4                   0                    0  \n",
       "\n",
       "[5 rows x 600 columns]"
      ]
     },
     "execution_count": 234,
     "metadata": {},
     "output_type": "execute_result"
    }
   ],
   "source": [
    "oh_collection.head()"
   ]
  },
  {
   "cell_type": "markdown",
   "metadata": {
    "pycharm": {
     "name": "#%% md\n"
    }
   },
   "source": [
    "### FE of Numerical Data"
   ]
  },
  {
   "cell_type": "markdown",
   "metadata": {
    "pycharm": {
     "name": "#%% md\n"
    }
   },
   "source": [
    "### feature containing % dataset created by individual artists"
   ]
  },
  {
   "cell_type": "code",
   "execution_count": 235,
   "metadata": {
    "collapsed": false,
    "jupyter": {
     "outputs_hidden": false
    },
    "pycharm": {
     "name": "#%%\n"
    }
   },
   "outputs": [],
   "source": [
    "import scipy.stats as stats"
   ]
  },
  {
   "cell_type": "code",
   "execution_count": 236,
   "metadata": {
    "pycharm": {
     "name": "#%%\n"
    },
    "tags": []
   },
   "outputs": [],
   "source": [
    "percent_by_artist = latinamerican_art_stored.forwarddisplayname.value_counts(normalize='True')\n",
    "artist_zscore = stats.zscore(percent_by_artist)\n",
    "latinamerican_art_stored['artist_zscore'] = latinamerican_art_stored.forwarddisplayname.apply(lambda x: artist_zscore[x])\n",
    "latinamerican_art_stored['percent_by_artist'] = latinamerican_art_stored.forwarddisplayname.apply(lambda x: percent_by_artist[x])\n",
    "latinamerican_art_stored['log_percent_by_artist'] = latinamerican_art_stored['percent_by_artist'].apply(lambda x: np.log(x + 1))\n",
    "latinamerican_art_stored['log_width'] = latinamerican_art_stored['width'].apply(lambda x: np.log(x + 1))\n",
    "latinamerican_art_stored['log_height'] = latinamerican_art_stored['height'].apply(lambda x: np.log(x + 1))\n",
    "numerical_cols = ['log_width', 'log_height', 'log_percent_by_artist']\n",
    "numerical_data = latinamerican_art_stored.loc[:, numerical_cols]"
   ]
  },
  {
   "cell_type": "markdown",
   "metadata": {
    "pycharm": {
     "name": "#%% md\n"
    }
   },
   "source": [
    "### Final Collection of Transformed data"
   ]
  },
  {
   "cell_type": "code",
   "execution_count": 238,
   "metadata": {},
   "outputs": [],
   "source": [
    "imagefp_features = ['imagefp_exists','objectid']"
   ]
  },
  {
   "cell_type": "code",
   "execution_count": 253,
   "metadata": {},
   "outputs": [
    {
     "data": {
      "text/plain": [
       "(248, 57)"
      ]
     },
     "execution_count": 253,
     "metadata": {},
     "output_type": "execute_result"
    }
   ],
   "source": [
    "latinamerican_art_stored.shape"
   ]
  },
  {
   "cell_type": "code",
   "execution_count": 240,
   "metadata": {
    "collapsed": false,
    "jupyter": {
     "outputs_hidden": false
    },
    "pycharm": {
     "name": "#%%\n"
    }
   },
   "outputs": [],
   "source": [
    "la_image_data = latinamerican_art_stored.loc[:, imagefp_features]"
   ]
  },
  {
   "cell_type": "code",
   "execution_count": 251,
   "metadata": {
    "collapsed": false,
    "jupyter": {
     "outputs_hidden": false
    },
    "pycharm": {
     "name": "#%%\n"
    }
   },
   "outputs": [
    {
     "name": "stdout",
     "output_type": "stream",
     "text": [
      "Merging the following: \n",
      "imagefp data shape:  (248, 2)\n",
      "one-hot data shape:  (248, 600)\n",
      "numerical data shape:  (248, 3)\n"
     ]
    }
   ],
   "source": [
    "print('Merging the following: ')\n",
    "print('imagefp data shape: ', la_image_data.shape)\n",
    "print('one-hot data shape: ', oh_collection.shape)\n",
    "print('numerical data shape: ', numerical_data.shape)"
   ]
  },
  {
   "cell_type": "code",
   "execution_count": 247,
   "metadata": {
    "collapsed": false,
    "jupyter": {
     "outputs_hidden": false
    },
    "pycharm": {
     "name": "#%%\n"
    }
   },
   "outputs": [],
   "source": [
    "transformed_data = pd.concat([la_image_data, oh_collection, numerical_data], axis=1)"
   ]
  },
  {
   "cell_type": "code",
   "execution_count": 248,
   "metadata": {
    "collapsed": false,
    "jupyter": {
     "outputs_hidden": false
    },
    "pycharm": {
     "name": "#%%\n"
    }
   },
   "outputs": [
    {
     "data": {
      "text/html": [
       "<div>\n",
       "<style scoped>\n",
       "    .dataframe tbody tr th:only-of-type {\n",
       "        vertical-align: middle;\n",
       "    }\n",
       "\n",
       "    .dataframe tbody tr th {\n",
       "        vertical-align: top;\n",
       "    }\n",
       "\n",
       "    .dataframe thead th {\n",
       "        text-align: right;\n",
       "    }\n",
       "</style>\n",
       "<table border=\"1\" class=\"dataframe\">\n",
       "  <thead>\n",
       "    <tr style=\"text-align: right;\">\n",
       "      <th></th>\n",
       "      <th>imagefp_exists</th>\n",
       "      <th>objectid</th>\n",
       "      <th>17</th>\n",
       "      <th>1962</th>\n",
       "      <th>1972</th>\n",
       "      <th>1977</th>\n",
       "      <th>25</th>\n",
       "      <th>5x</th>\n",
       "      <th>abandonado</th>\n",
       "      <th>abandoned</th>\n",
       "      <th>...</th>\n",
       "      <th>cuba (country)</th>\n",
       "      <th>guatemala (country)</th>\n",
       "      <th>mexico (country)</th>\n",
       "      <th>of (country)</th>\n",
       "      <th>peru (country)</th>\n",
       "      <th>republic (country)</th>\n",
       "      <th>venezuela (country)</th>\n",
       "      <th>log_width</th>\n",
       "      <th>log_height</th>\n",
       "      <th>log_percent_by_artist</th>\n",
       "    </tr>\n",
       "  </thead>\n",
       "  <tbody>\n",
       "    <tr>\n",
       "      <th>0</th>\n",
       "      <td>True</td>\n",
       "      <td>33520.0</td>\n",
       "      <td>0</td>\n",
       "      <td>0</td>\n",
       "      <td>0</td>\n",
       "      <td>0</td>\n",
       "      <td>0</td>\n",
       "      <td>0</td>\n",
       "      <td>0</td>\n",
       "      <td>0</td>\n",
       "      <td>...</td>\n",
       "      <td>0</td>\n",
       "      <td>0</td>\n",
       "      <td>1</td>\n",
       "      <td>0</td>\n",
       "      <td>0</td>\n",
       "      <td>0</td>\n",
       "      <td>0</td>\n",
       "      <td>8.294300</td>\n",
       "      <td>8.133294</td>\n",
       "      <td>0.035647</td>\n",
       "    </tr>\n",
       "    <tr>\n",
       "      <th>1</th>\n",
       "      <td>True</td>\n",
       "      <td>30476.0</td>\n",
       "      <td>0</td>\n",
       "      <td>0</td>\n",
       "      <td>0</td>\n",
       "      <td>0</td>\n",
       "      <td>0</td>\n",
       "      <td>0</td>\n",
       "      <td>0</td>\n",
       "      <td>0</td>\n",
       "      <td>...</td>\n",
       "      <td>0</td>\n",
       "      <td>0</td>\n",
       "      <td>1</td>\n",
       "      <td>0</td>\n",
       "      <td>0</td>\n",
       "      <td>0</td>\n",
       "      <td>0</td>\n",
       "      <td>7.499423</td>\n",
       "      <td>8.294300</td>\n",
       "      <td>0.019961</td>\n",
       "    </tr>\n",
       "    <tr>\n",
       "      <th>2</th>\n",
       "      <td>True</td>\n",
       "      <td>64175.0</td>\n",
       "      <td>0</td>\n",
       "      <td>0</td>\n",
       "      <td>0</td>\n",
       "      <td>0</td>\n",
       "      <td>0</td>\n",
       "      <td>0</td>\n",
       "      <td>0</td>\n",
       "      <td>0</td>\n",
       "      <td>...</td>\n",
       "      <td>0</td>\n",
       "      <td>0</td>\n",
       "      <td>1</td>\n",
       "      <td>0</td>\n",
       "      <td>0</td>\n",
       "      <td>0</td>\n",
       "      <td>0</td>\n",
       "      <td>7.975565</td>\n",
       "      <td>8.294300</td>\n",
       "      <td>0.035647</td>\n",
       "    </tr>\n",
       "    <tr>\n",
       "      <th>3</th>\n",
       "      <td>True</td>\n",
       "      <td>58985.0</td>\n",
       "      <td>0</td>\n",
       "      <td>0</td>\n",
       "      <td>0</td>\n",
       "      <td>0</td>\n",
       "      <td>0</td>\n",
       "      <td>0</td>\n",
       "      <td>0</td>\n",
       "      <td>0</td>\n",
       "      <td>...</td>\n",
       "      <td>0</td>\n",
       "      <td>0</td>\n",
       "      <td>0</td>\n",
       "      <td>0</td>\n",
       "      <td>0</td>\n",
       "      <td>0</td>\n",
       "      <td>0</td>\n",
       "      <td>8.294300</td>\n",
       "      <td>8.081784</td>\n",
       "      <td>0.016000</td>\n",
       "    </tr>\n",
       "    <tr>\n",
       "      <th>4</th>\n",
       "      <td>True</td>\n",
       "      <td>64170.0</td>\n",
       "      <td>0</td>\n",
       "      <td>0</td>\n",
       "      <td>0</td>\n",
       "      <td>0</td>\n",
       "      <td>0</td>\n",
       "      <td>0</td>\n",
       "      <td>0</td>\n",
       "      <td>0</td>\n",
       "      <td>...</td>\n",
       "      <td>0</td>\n",
       "      <td>0</td>\n",
       "      <td>1</td>\n",
       "      <td>0</td>\n",
       "      <td>0</td>\n",
       "      <td>0</td>\n",
       "      <td>0</td>\n",
       "      <td>7.982075</td>\n",
       "      <td>8.294300</td>\n",
       "      <td>0.035647</td>\n",
       "    </tr>\n",
       "  </tbody>\n",
       "</table>\n",
       "<p>5 rows × 605 columns</p>\n",
       "</div>"
      ],
      "text/plain": [
       "  imagefp_exists  objectid  17  1962  1972  1977  25  5x  abandonado  \\\n",
       "0           True   33520.0   0     0     0     0   0   0           0   \n",
       "1           True   30476.0   0     0     0     0   0   0           0   \n",
       "2           True   64175.0   0     0     0     0   0   0           0   \n",
       "3           True   58985.0   0     0     0     0   0   0           0   \n",
       "4           True   64170.0   0     0     0     0   0   0           0   \n",
       "\n",
       "   abandoned  ...  cuba (country)  guatemala (country)  mexico (country)  \\\n",
       "0          0  ...               0                    0                 1   \n",
       "1          0  ...               0                    0                 1   \n",
       "2          0  ...               0                    0                 1   \n",
       "3          0  ...               0                    0                 0   \n",
       "4          0  ...               0                    0                 1   \n",
       "\n",
       "   of (country)  peru (country)  republic (country)  venezuela (country)  \\\n",
       "0             0               0                   0                    0   \n",
       "1             0               0                   0                    0   \n",
       "2             0               0                   0                    0   \n",
       "3             0               0                   0                    0   \n",
       "4             0               0                   0                    0   \n",
       "\n",
       "   log_width  log_height  log_percent_by_artist  \n",
       "0   8.294300    8.133294               0.035647  \n",
       "1   7.499423    8.294300               0.019961  \n",
       "2   7.975565    8.294300               0.035647  \n",
       "3   8.294300    8.081784               0.016000  \n",
       "4   7.982075    8.294300               0.035647  \n",
       "\n",
       "[5 rows x 605 columns]"
      ]
     },
     "execution_count": 248,
     "metadata": {},
     "output_type": "execute_result"
    }
   ],
   "source": [
    "transformed_data.head()"
   ]
  },
  {
   "cell_type": "code",
   "execution_count": 249,
   "metadata": {
    "collapsed": false,
    "jupyter": {
     "outputs_hidden": false
    },
    "pycharm": {
     "name": "#%%\n"
    }
   },
   "outputs": [],
   "source": [
    "transformed_data.to_csv('../data_samples/LaArt/transformed_la_art.csv', index=False)"
   ]
  },
  {
   "cell_type": "code",
   "execution_count": 254,
   "metadata": {},
   "outputs": [
    {
     "name": "stdout",
     "output_type": "stream",
     "text": [
      "Final shape of transformed data (including imagefp_exists and objectid columns) (248, 605)\n"
     ]
    }
   ],
   "source": [
    "print('Final shape of transformed data (including imagefp_exists and objectid columns)', transformed_data.shape)"
   ]
  }
 ],
 "metadata": {
  "kernelspec": {
   "display_name": "Python 3 (ipykernel)",
   "language": "python",
   "name": "python3"
  },
  "language_info": {
   "codemirror_mode": {
    "name": "ipython",
    "version": 3
   },
   "file_extension": ".py",
   "mimetype": "text/x-python",
   "name": "python",
   "nbconvert_exporter": "python",
   "pygments_lexer": "ipython3",
   "version": "3.9.16"
  }
 },
 "nbformat": 4,
 "nbformat_minor": 4
}
