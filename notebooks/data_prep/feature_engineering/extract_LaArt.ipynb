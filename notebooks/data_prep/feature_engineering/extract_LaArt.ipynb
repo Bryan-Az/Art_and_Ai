{
 "cells": [
  {
   "cell_type": "code",
   "execution_count": 2,
   "metadata": {
    "pycharm": {
     "name": "#%%\n"
    },
    "tags": []
   },
   "outputs": [],
   "source": [
    "import pandas as pd\n",
    "import numpy as np\n",
    "import pycountry\n",
    "import pycountry_convert as pc\n",
    "import matplotlib"
   ]
  },
  {
   "cell_type": "markdown",
   "metadata": {},
   "source": [
    "### Step 1: Importing/Exporting of Data"
   ]
  },
  {
   "cell_type": "code",
   "execution_count": 3,
   "metadata": {
    "tags": []
   },
   "outputs": [],
   "source": [
    "#new version expects dtype on import however as of now only 1 row is impacted\n",
    "#latinamerican_art = pd.read_csv('../../../data_samples/art_tables/latin_art.csv', on_bad_lines='skip')"
   ]
  },
  {
   "cell_type": "code",
   "execution_count": 103,
   "metadata": {
    "tags": []
   },
   "outputs": [],
   "source": [
    "#this version is the expanded dataset and is a test to update the SQL for latin_art as I've done for non_la_art\n",
    "latinamerican_art = pd.read_csv('../../../data_samples/art_tables/non_latin_art.csv', low_memory =False, on_bad_lines='skip')"
   ]
  },
  {
   "cell_type": "markdown",
   "metadata": {},
   "source": [
    " Saving this column to its' own dataframe will allow for the EDA notebook 'Geography and Demography' to be ran and utilized later"
   ]
  },
  {
   "cell_type": "code",
   "execution_count": 104,
   "metadata": {
    "tags": []
   },
   "outputs": [],
   "source": [
    "#Saving the 'nationality' feature to the constituents nationalities CSV file\n",
    "#latinamerican_art.nationality.to_csv('../../../data_samples/LaArt/constituents_nationalities.csv', index=False)"
   ]
  },
  {
   "cell_type": "code",
   "execution_count": 105,
   "metadata": {
    "tags": []
   },
   "outputs": [],
   "source": [
    "# I need to import a copy of the constituents 'nationality' column from the latin_art.csv dataset\n",
    "#constituent_nationalities = pd.read_csv('../../../data_samples/LaArt/constituents_nationalities.csv')"
   ]
  },
  {
   "cell_type": "markdown",
   "metadata": {},
   "source": [
    "These columns exist in the la_continentCounts & la_geographicStatistics, except for expanded_url which is added as its own."
   ]
  },
  {
   "cell_type": "code",
   "execution_count": 106,
   "metadata": {
    "tags": []
   },
   "outputs": [
    {
     "data": {
      "text/plain": [
       "0                            uuid\n",
       "1                         iiifurl\n",
       "2                    iiifthumburl\n",
       "3                     accessioned\n",
       "4                           title\n",
       "5             displayDate_created\n",
       "6                        roletype\n",
       "7                            role\n",
       "8              forwarddisplayname\n",
       "9                       birthyear\n",
       "10                      deathyear\n",
       "11                         ulanid\n",
       "12              artistofngaobject\n",
       "13                    nationality\n",
       "14                constituenttype\n",
       "15       beginyear_artistAssigned\n",
       "16         endyear_artistAssigned\n",
       "17         country_artistAssigned\n",
       "18         zipcode_artistAssigned\n",
       "19                         medium\n",
       "20                     dimensions\n",
       "21                    inscription\n",
       "22                       markings\n",
       "23                    attribution\n",
       "24    visualBrowserClassification\n",
       "25                       parentID\n",
       "26                      isVirtual\n",
       "27                      portfolio\n",
       "28                         series\n",
       "29                         volume\n",
       "30                     watermarks\n",
       "31                       viewtype\n",
       "32                       sequence\n",
       "33                          width\n",
       "34                         height\n",
       "35                      maxpixels\n",
       "36                  assistivetext\n",
       "37             depictstmsobjectid\n",
       "38                       objectid\n",
       "39                  constituentid\n",
       "dtype: object"
      ]
     },
     "execution_count": 106,
     "metadata": {},
     "output_type": "execute_result"
    }
   ],
   "source": [
    "pd.Series(latinamerican_art.columns)"
   ]
  },
  {
   "cell_type": "code",
   "execution_count": 107,
   "metadata": {
    "tags": []
   },
   "outputs": [
    {
     "data": {
      "text/plain": [
       "(463799, 40)"
      ]
     },
     "execution_count": 107,
     "metadata": {},
     "output_type": "execute_result"
    }
   ],
   "source": [
    "latinamerican_art.shape"
   ]
  },
  {
   "cell_type": "markdown",
   "metadata": {
    "tags": []
   },
   "source": [
    "### Step 2: of the La Art Pipeline - Feature Engineering new geographical features"
   ]
  },
  {
   "cell_type": "markdown",
   "metadata": {
    "pycharm": {
     "name": "#%% md\n"
    }
   },
   "source": [
    "#### List of American Continent Codes for Determining which Latin American countries are present in the Gallery."
   ]
  },
  {
   "cell_type": "code",
   "execution_count": 108,
   "metadata": {
    "pycharm": {
     "name": "#%%\n"
    },
    "tags": []
   },
   "outputs": [],
   "source": [
    "cname_alpha_2 = []\n",
    "cname_alpha_3 = []\n",
    "for country in pycountry.countries:\n",
    "    cname_alpha_2.append(country.alpha_2)\n",
    "    cname_alpha_3.append(country.alpha_3)"
   ]
  },
  {
   "cell_type": "code",
   "execution_count": 109,
   "metadata": {
    "pycharm": {
     "name": "#%%\n"
    },
    "tags": []
   },
   "outputs": [],
   "source": [
    "cname_alpha_2 = pd.Series(cname_alpha_2)\n",
    "cname_alpha_3 = pd.Series(cname_alpha_3)"
   ]
  },
  {
   "cell_type": "code",
   "execution_count": 110,
   "metadata": {
    "pycharm": {
     "name": "#%%\n"
    },
    "tags": []
   },
   "outputs": [],
   "source": [
    "error_list = ['AQ', 'TF', 'EH', 'PN', 'SX', 'TL', 'UM', 'VA']\n",
    "continent_names = cname_alpha_2.apply(lambda x: pc.country_alpha2_to_continent_code(x) if x not in error_list else 'non-transformable')"
   ]
  },
  {
   "cell_type": "code",
   "execution_count": 111,
   "metadata": {
    "pycharm": {
     "name": "#%%\n"
    },
    "tags": []
   },
   "outputs": [],
   "source": [
    "country_and_continent = pd.DataFrame([cname_alpha_2, continent_names], index= ['Country', 'Continent']).T"
   ]
  },
  {
   "cell_type": "code",
   "execution_count": 112,
   "metadata": {
    "pycharm": {
     "name": "#%%\n"
    },
    "tags": []
   },
   "outputs": [],
   "source": [
    "total_by_continent = country_and_continent.groupby('Continent').count()"
   ]
  },
  {
   "cell_type": "code",
   "execution_count": 113,
   "metadata": {
    "pycharm": {
     "name": "#%%\n"
    },
    "tags": []
   },
   "outputs": [],
   "source": [
    "remove_from_index = ['non-transformable']\n",
    "total_by_continent.index = pd.Series(list(total_by_continent.index)).apply(lambda x: pc.convert_continent_code_to_continent_name(x) if x not in remove_from_index else x)"
   ]
  },
  {
   "cell_type": "markdown",
   "metadata": {
    "pycharm": {
     "name": "#%% md\n"
    }
   },
   "source": [
    "### Estimated Actual Distribution of Countries by Continent, World Wide"
   ]
  },
  {
   "cell_type": "code",
   "execution_count": 114,
   "metadata": {
    "collapsed": false,
    "jupyter": {
     "outputs_hidden": false
    },
    "pycharm": {
     "name": "#%%\n"
    },
    "tags": []
   },
   "outputs": [],
   "source": [
    "country_and_continent['Country Name'] = country_and_continent.Country.apply(pc.country_alpha2_to_country_name)"
   ]
  },
  {
   "cell_type": "code",
   "execution_count": 115,
   "metadata": {
    "collapsed": false,
    "jupyter": {
     "outputs_hidden": false
    },
    "pycharm": {
     "name": "#%%\n"
    },
    "tags": []
   },
   "outputs": [],
   "source": [
    "country_and_continent['Continent Name'] = country_and_continent.Continent.apply(lambda x: pc.convert_continent_code_to_continent_name(x) if x != 'non-transformable' else x)"
   ]
  },
  {
   "cell_type": "code",
   "execution_count": 116,
   "metadata": {
    "tags": []
   },
   "outputs": [],
   "source": [
    "# 'NA' string translates to null in many data structures, so code changed to use 'NoAm' string instead\n",
    "country_and_continent['Continent'] = country_and_continent.Continent.apply(lambda x: 'NoAm' if x == 'NA' else x)"
   ]
  },
  {
   "cell_type": "code",
   "execution_count": 117,
   "metadata": {
    "pycharm": {
     "name": "#%%\n"
    },
    "tags": []
   },
   "outputs": [
    {
     "data": {
      "text/html": [
       "<div>\n",
       "<style scoped>\n",
       "    .dataframe tbody tr th:only-of-type {\n",
       "        vertical-align: middle;\n",
       "    }\n",
       "\n",
       "    .dataframe tbody tr th {\n",
       "        vertical-align: top;\n",
       "    }\n",
       "\n",
       "    .dataframe thead th {\n",
       "        text-align: right;\n",
       "    }\n",
       "</style>\n",
       "<table border=\"1\" class=\"dataframe\">\n",
       "  <thead>\n",
       "    <tr style=\"text-align: right;\">\n",
       "      <th></th>\n",
       "      <th>Country</th>\n",
       "    </tr>\n",
       "  </thead>\n",
       "  <tbody>\n",
       "    <tr>\n",
       "      <th>Africa</th>\n",
       "      <td>57</td>\n",
       "    </tr>\n",
       "    <tr>\n",
       "      <th>Antarctica</th>\n",
       "      <td>2</td>\n",
       "    </tr>\n",
       "    <tr>\n",
       "      <th>Asia</th>\n",
       "      <td>53</td>\n",
       "    </tr>\n",
       "    <tr>\n",
       "      <th>Europe</th>\n",
       "      <td>50</td>\n",
       "    </tr>\n",
       "    <tr>\n",
       "      <th>North America</th>\n",
       "      <td>40</td>\n",
       "    </tr>\n",
       "    <tr>\n",
       "      <th>Oceania</th>\n",
       "      <td>24</td>\n",
       "    </tr>\n",
       "    <tr>\n",
       "      <th>South America</th>\n",
       "      <td>15</td>\n",
       "    </tr>\n",
       "    <tr>\n",
       "      <th>non-transformable</th>\n",
       "      <td>8</td>\n",
       "    </tr>\n",
       "  </tbody>\n",
       "</table>\n",
       "</div>"
      ],
      "text/plain": [
       "                   Country\n",
       "Africa                  57\n",
       "Antarctica               2\n",
       "Asia                    53\n",
       "Europe                  50\n",
       "North America           40\n",
       "Oceania                 24\n",
       "South America           15\n",
       "non-transformable        8"
      ]
     },
     "execution_count": 117,
     "metadata": {},
     "output_type": "execute_result"
    }
   ],
   "source": [
    "total_by_continent"
   ]
  },
  {
   "cell_type": "code",
   "execution_count": 118,
   "metadata": {
    "pycharm": {
     "name": "#%%\n"
    },
    "tags": []
   },
   "outputs": [],
   "source": [
    "Latin_in_NA = ['BZ', 'CR', 'CU', 'DO', 'SV', 'GT', 'HT', 'HN', 'JM', 'MX', 'NI', 'PA', 'LC']\n",
    "latin_in_NA_map = country_and_continent.Country.apply(lambda x: x in Latin_in_NA)\n",
    "latin_in_SA_map = country_and_continent.Continent.apply(lambda x: x == 'SA')\n",
    "latins = country_and_continent.where(latin_in_SA_map | latin_in_NA_map).dropna()\n",
    "latins.name = 'Latin Countries'\n",
    "latins.reset_index(inplace=True, drop=True)\n",
    "latins['Country Name'] = latins.Country.apply(pc.country_alpha2_to_country_name)"
   ]
  },
  {
   "cell_type": "markdown",
   "metadata": {
    "pycharm": {
     "name": "#%% md\n"
    }
   },
   "source": [
    "### Latin American Group (Feature Engineering)"
   ]
  },
  {
   "cell_type": "code",
   "execution_count": 119,
   "metadata": {
    "tags": []
   },
   "outputs": [
    {
     "data": {
      "text/html": [
       "<div>\n",
       "<style scoped>\n",
       "    .dataframe tbody tr th:only-of-type {\n",
       "        vertical-align: middle;\n",
       "    }\n",
       "\n",
       "    .dataframe tbody tr th {\n",
       "        vertical-align: top;\n",
       "    }\n",
       "\n",
       "    .dataframe thead th {\n",
       "        text-align: right;\n",
       "    }\n",
       "</style>\n",
       "<table border=\"1\" class=\"dataframe\">\n",
       "  <thead>\n",
       "    <tr style=\"text-align: right;\">\n",
       "      <th></th>\n",
       "      <th>Country</th>\n",
       "      <th>Continent</th>\n",
       "      <th>Country Name</th>\n",
       "      <th>Continent Name</th>\n",
       "    </tr>\n",
       "  </thead>\n",
       "  <tbody>\n",
       "    <tr>\n",
       "      <th>0</th>\n",
       "      <td>AW</td>\n",
       "      <td>NoAm</td>\n",
       "      <td>Aruba</td>\n",
       "      <td>North America</td>\n",
       "    </tr>\n",
       "    <tr>\n",
       "      <th>1</th>\n",
       "      <td>AF</td>\n",
       "      <td>AS</td>\n",
       "      <td>Afghanistan</td>\n",
       "      <td>Asia</td>\n",
       "    </tr>\n",
       "    <tr>\n",
       "      <th>2</th>\n",
       "      <td>AO</td>\n",
       "      <td>AF</td>\n",
       "      <td>Angola</td>\n",
       "      <td>Africa</td>\n",
       "    </tr>\n",
       "    <tr>\n",
       "      <th>3</th>\n",
       "      <td>AI</td>\n",
       "      <td>NoAm</td>\n",
       "      <td>Anguilla</td>\n",
       "      <td>North America</td>\n",
       "    </tr>\n",
       "    <tr>\n",
       "      <th>4</th>\n",
       "      <td>AX</td>\n",
       "      <td>EU</td>\n",
       "      <td>Åland Islands</td>\n",
       "      <td>Europe</td>\n",
       "    </tr>\n",
       "  </tbody>\n",
       "</table>\n",
       "</div>"
      ],
      "text/plain": [
       "  Country Continent   Country Name Continent Name\n",
       "0      AW      NoAm          Aruba  North America\n",
       "1      AF        AS    Afghanistan           Asia\n",
       "2      AO        AF         Angola         Africa\n",
       "3      AI      NoAm       Anguilla  North America\n",
       "4      AX        EU  Åland Islands         Europe"
      ]
     },
     "execution_count": 119,
     "metadata": {},
     "output_type": "execute_result"
    }
   ],
   "source": [
    "country_and_continent.head()"
   ]
  },
  {
   "cell_type": "code",
   "execution_count": 120,
   "metadata": {
    "pycharm": {
     "name": "#%%\n"
    },
    "tags": []
   },
   "outputs": [
    {
     "data": {
      "text/html": [
       "<div>\n",
       "<style scoped>\n",
       "    .dataframe tbody tr th:only-of-type {\n",
       "        vertical-align: middle;\n",
       "    }\n",
       "\n",
       "    .dataframe tbody tr th {\n",
       "        vertical-align: top;\n",
       "    }\n",
       "\n",
       "    .dataframe thead th {\n",
       "        text-align: right;\n",
       "    }\n",
       "</style>\n",
       "<table border=\"1\" class=\"dataframe\">\n",
       "  <thead>\n",
       "    <tr style=\"text-align: right;\">\n",
       "      <th></th>\n",
       "      <th>Country</th>\n",
       "      <th>Continent</th>\n",
       "      <th>Country Name</th>\n",
       "      <th>Continent Name</th>\n",
       "    </tr>\n",
       "  </thead>\n",
       "  <tbody>\n",
       "    <tr>\n",
       "      <th>0</th>\n",
       "      <td>AR</td>\n",
       "      <td>SA</td>\n",
       "      <td>Argentina</td>\n",
       "      <td>South America</td>\n",
       "    </tr>\n",
       "    <tr>\n",
       "      <th>1</th>\n",
       "      <td>BZ</td>\n",
       "      <td>NoAm</td>\n",
       "      <td>Belize</td>\n",
       "      <td>North America</td>\n",
       "    </tr>\n",
       "    <tr>\n",
       "      <th>2</th>\n",
       "      <td>BO</td>\n",
       "      <td>SA</td>\n",
       "      <td>Bolivia, Plurinational State of</td>\n",
       "      <td>South America</td>\n",
       "    </tr>\n",
       "    <tr>\n",
       "      <th>3</th>\n",
       "      <td>BR</td>\n",
       "      <td>SA</td>\n",
       "      <td>Brazil</td>\n",
       "      <td>South America</td>\n",
       "    </tr>\n",
       "    <tr>\n",
       "      <th>4</th>\n",
       "      <td>CL</td>\n",
       "      <td>SA</td>\n",
       "      <td>Chile</td>\n",
       "      <td>South America</td>\n",
       "    </tr>\n",
       "  </tbody>\n",
       "</table>\n",
       "</div>"
      ],
      "text/plain": [
       "  Country Continent                     Country Name Continent Name\n",
       "0      AR        SA                        Argentina  South America\n",
       "1      BZ      NoAm                           Belize  North America\n",
       "2      BO        SA  Bolivia, Plurinational State of  South America\n",
       "3      BR        SA                           Brazil  South America\n",
       "4      CL        SA                            Chile  South America"
      ]
     },
     "execution_count": 120,
     "metadata": {},
     "output_type": "execute_result"
    }
   ],
   "source": [
    "latins.head()"
   ]
  },
  {
   "cell_type": "code",
   "execution_count": 121,
   "metadata": {
    "tags": []
   },
   "outputs": [],
   "source": [
    "la_artist_origin = latinamerican_art.nationality.value_counts(normalize=True)"
   ]
  },
  {
   "cell_type": "code",
   "execution_count": 122,
   "metadata": {
    "pycharm": {
     "name": "#%%\n"
    },
    "tags": []
   },
   "outputs": [],
   "source": [
    "latins['demonym'] = ['Argentinean', 'Belizean', 'Bolivian', 'Brazilian', 'Chilean', 'Colombian', 'Costa Rican', 'Cuban', 'Dominican', 'Ecuadorian', 'Falkland Islander', 'Guatemalan', 'Guianese', 'Guyanese', 'Honduran', 'Haitian', 'Jamaican', 'Saint Lucian', 'Mexican', 'Nicaraguan', 'Panamanian', 'Peruvian', 'Paraguayan', 'South Georgian', 'Salvadoran', 'Surinamese', 'Uruguayan', 'Venezuelan']"
   ]
  },
  {
   "cell_type": "code",
   "execution_count": 123,
   "metadata": {
    "pycharm": {
     "name": "#%%\n"
    },
    "tags": []
   },
   "outputs": [],
   "source": [
    "la_artist_origin = la_artist_origin.reset_index()"
   ]
  },
  {
   "cell_type": "code",
   "execution_count": 124,
   "metadata": {
    "pycharm": {
     "name": "#%%\n"
    },
    "tags": []
   },
   "outputs": [],
   "source": [
    "la_artist_origin.columns = ['demonym', 'pct_country_NGA']"
   ]
  },
  {
   "cell_type": "code",
   "execution_count": 125,
   "metadata": {
    "tags": []
   },
   "outputs": [
    {
     "data": {
      "text/html": [
       "<div>\n",
       "<style scoped>\n",
       "    .dataframe tbody tr th:only-of-type {\n",
       "        vertical-align: middle;\n",
       "    }\n",
       "\n",
       "    .dataframe tbody tr th {\n",
       "        vertical-align: top;\n",
       "    }\n",
       "\n",
       "    .dataframe thead th {\n",
       "        text-align: right;\n",
       "    }\n",
       "</style>\n",
       "<table border=\"1\" class=\"dataframe\">\n",
       "  <thead>\n",
       "    <tr style=\"text-align: right;\">\n",
       "      <th></th>\n",
       "      <th>demonym</th>\n",
       "      <th>pct_country_NGA</th>\n",
       "    </tr>\n",
       "  </thead>\n",
       "  <tbody>\n",
       "    <tr>\n",
       "      <th>0</th>\n",
       "      <td>American</td>\n",
       "      <td>0.704890</td>\n",
       "    </tr>\n",
       "    <tr>\n",
       "      <th>1</th>\n",
       "      <td>French</td>\n",
       "      <td>0.102478</td>\n",
       "    </tr>\n",
       "    <tr>\n",
       "      <th>2</th>\n",
       "      <td>Italian</td>\n",
       "      <td>0.045463</td>\n",
       "    </tr>\n",
       "    <tr>\n",
       "      <th>3</th>\n",
       "      <td>German</td>\n",
       "      <td>0.041107</td>\n",
       "    </tr>\n",
       "    <tr>\n",
       "      <th>4</th>\n",
       "      <td>British</td>\n",
       "      <td>0.029466</td>\n",
       "    </tr>\n",
       "    <tr>\n",
       "      <th>...</th>\n",
       "      <td>...</td>\n",
       "      <td>...</td>\n",
       "    </tr>\n",
       "    <tr>\n",
       "      <th>208</th>\n",
       "      <td>None.</td>\n",
       "      <td>0.000005</td>\n",
       "    </tr>\n",
       "    <tr>\n",
       "      <th>209</th>\n",
       "      <td>3262</td>\n",
       "      <td>0.000005</td>\n",
       "    </tr>\n",
       "    <tr>\n",
       "      <th>210</th>\n",
       "      <td>4685</td>\n",
       "      <td>0.000005</td>\n",
       "    </tr>\n",
       "    <tr>\n",
       "      <th>211</th>\n",
       "      <td>3483</td>\n",
       "      <td>0.000005</td>\n",
       "    </tr>\n",
       "    <tr>\n",
       "      <th>212</th>\n",
       "      <td>3752</td>\n",
       "      <td>0.000005</td>\n",
       "    </tr>\n",
       "  </tbody>\n",
       "</table>\n",
       "<p>213 rows × 2 columns</p>\n",
       "</div>"
      ],
      "text/plain": [
       "      demonym  pct_country_NGA\n",
       "0    American         0.704890\n",
       "1      French         0.102478\n",
       "2     Italian         0.045463\n",
       "3      German         0.041107\n",
       "4     British         0.029466\n",
       "..        ...              ...\n",
       "208     None.         0.000005\n",
       "209      3262         0.000005\n",
       "210      4685         0.000005\n",
       "211      3483         0.000005\n",
       "212      3752         0.000005\n",
       "\n",
       "[213 rows x 2 columns]"
      ]
     },
     "execution_count": 125,
     "metadata": {},
     "output_type": "execute_result"
    }
   ],
   "source": [
    "la_artist_origin"
   ]
  },
  {
   "cell_type": "code",
   "execution_count": 126,
   "metadata": {
    "pycharm": {
     "name": "#%%\n"
    },
    "tags": []
   },
   "outputs": [],
   "source": [
    "la_geographicStatistics = pd.merge(la_artist_origin, latins, how='inner', on ='demonym')"
   ]
  },
  {
   "cell_type": "markdown",
   "metadata": {},
   "source": [
    "#### After using the whole dataset to apply the filter to select for latinamerican artists, there are 10 nationalities present."
   ]
  },
  {
   "cell_type": "code",
   "execution_count": 127,
   "metadata": {
    "tags": []
   },
   "outputs": [
    {
     "data": {
      "text/html": [
       "<div>\n",
       "<style scoped>\n",
       "    .dataframe tbody tr th:only-of-type {\n",
       "        vertical-align: middle;\n",
       "    }\n",
       "\n",
       "    .dataframe tbody tr th {\n",
       "        vertical-align: top;\n",
       "    }\n",
       "\n",
       "    .dataframe thead th {\n",
       "        text-align: right;\n",
       "    }\n",
       "</style>\n",
       "<table border=\"1\" class=\"dataframe\">\n",
       "  <thead>\n",
       "    <tr style=\"text-align: right;\">\n",
       "      <th></th>\n",
       "      <th>demonym</th>\n",
       "      <th>pct_country_NGA</th>\n",
       "      <th>Country</th>\n",
       "      <th>Continent</th>\n",
       "      <th>Country Name</th>\n",
       "      <th>Continent Name</th>\n",
       "    </tr>\n",
       "  </thead>\n",
       "  <tbody>\n",
       "    <tr>\n",
       "      <th>0</th>\n",
       "      <td>Mexican</td>\n",
       "      <td>0.001012</td>\n",
       "      <td>MX</td>\n",
       "      <td>NoAm</td>\n",
       "      <td>Mexico</td>\n",
       "      <td>North America</td>\n",
       "    </tr>\n",
       "    <tr>\n",
       "      <th>1</th>\n",
       "      <td>Brazilian</td>\n",
       "      <td>0.000183</td>\n",
       "      <td>BR</td>\n",
       "      <td>SA</td>\n",
       "      <td>Brazil</td>\n",
       "      <td>South America</td>\n",
       "    </tr>\n",
       "    <tr>\n",
       "      <th>2</th>\n",
       "      <td>Argentinean</td>\n",
       "      <td>0.000134</td>\n",
       "      <td>AR</td>\n",
       "      <td>SA</td>\n",
       "      <td>Argentina</td>\n",
       "      <td>South America</td>\n",
       "    </tr>\n",
       "    <tr>\n",
       "      <th>3</th>\n",
       "      <td>Guatemalan</td>\n",
       "      <td>0.000129</td>\n",
       "      <td>GT</td>\n",
       "      <td>NoAm</td>\n",
       "      <td>Guatemala</td>\n",
       "      <td>North America</td>\n",
       "    </tr>\n",
       "    <tr>\n",
       "      <th>4</th>\n",
       "      <td>Chilean</td>\n",
       "      <td>0.000104</td>\n",
       "      <td>CL</td>\n",
       "      <td>SA</td>\n",
       "      <td>Chile</td>\n",
       "      <td>South America</td>\n",
       "    </tr>\n",
       "    <tr>\n",
       "      <th>5</th>\n",
       "      <td>Venezuelan</td>\n",
       "      <td>0.000079</td>\n",
       "      <td>VE</td>\n",
       "      <td>SA</td>\n",
       "      <td>Venezuela, Bolivarian Republic of</td>\n",
       "      <td>South America</td>\n",
       "    </tr>\n",
       "    <tr>\n",
       "      <th>6</th>\n",
       "      <td>Cuban</td>\n",
       "      <td>0.000015</td>\n",
       "      <td>CU</td>\n",
       "      <td>NoAm</td>\n",
       "      <td>Cuba</td>\n",
       "      <td>North America</td>\n",
       "    </tr>\n",
       "    <tr>\n",
       "      <th>7</th>\n",
       "      <td>Peruvian</td>\n",
       "      <td>0.000015</td>\n",
       "      <td>PE</td>\n",
       "      <td>SA</td>\n",
       "      <td>Peru</td>\n",
       "      <td>South America</td>\n",
       "    </tr>\n",
       "    <tr>\n",
       "      <th>8</th>\n",
       "      <td>Uruguayan</td>\n",
       "      <td>0.000010</td>\n",
       "      <td>UY</td>\n",
       "      <td>SA</td>\n",
       "      <td>Uruguay</td>\n",
       "      <td>South America</td>\n",
       "    </tr>\n",
       "    <tr>\n",
       "      <th>9</th>\n",
       "      <td>Colombian</td>\n",
       "      <td>0.000010</td>\n",
       "      <td>CO</td>\n",
       "      <td>SA</td>\n",
       "      <td>Colombia</td>\n",
       "      <td>South America</td>\n",
       "    </tr>\n",
       "    <tr>\n",
       "      <th>10</th>\n",
       "      <td>Nicaraguan</td>\n",
       "      <td>0.000005</td>\n",
       "      <td>NI</td>\n",
       "      <td>NoAm</td>\n",
       "      <td>Nicaragua</td>\n",
       "      <td>North America</td>\n",
       "    </tr>\n",
       "  </tbody>\n",
       "</table>\n",
       "</div>"
      ],
      "text/plain": [
       "        demonym  pct_country_NGA Country Continent  \\\n",
       "0       Mexican         0.001012      MX      NoAm   \n",
       "1     Brazilian         0.000183      BR        SA   \n",
       "2   Argentinean         0.000134      AR        SA   \n",
       "3    Guatemalan         0.000129      GT      NoAm   \n",
       "4       Chilean         0.000104      CL        SA   \n",
       "5    Venezuelan         0.000079      VE        SA   \n",
       "6         Cuban         0.000015      CU      NoAm   \n",
       "7      Peruvian         0.000015      PE        SA   \n",
       "8     Uruguayan         0.000010      UY        SA   \n",
       "9     Colombian         0.000010      CO        SA   \n",
       "10   Nicaraguan         0.000005      NI      NoAm   \n",
       "\n",
       "                         Country Name Continent Name  \n",
       "0                              Mexico  North America  \n",
       "1                              Brazil  South America  \n",
       "2                           Argentina  South America  \n",
       "3                           Guatemala  North America  \n",
       "4                               Chile  South America  \n",
       "5   Venezuela, Bolivarian Republic of  South America  \n",
       "6                                Cuba  North America  \n",
       "7                                Peru  South America  \n",
       "8                             Uruguay  South America  \n",
       "9                            Colombia  South America  \n",
       "10                          Nicaragua  North America  "
      ]
     },
     "execution_count": 127,
     "metadata": {},
     "output_type": "execute_result"
    }
   ],
   "source": [
    "la_geographicStatistics"
   ]
  },
  {
   "cell_type": "code",
   "execution_count": 128,
   "metadata": {
    "tags": []
   },
   "outputs": [],
   "source": [
    "la_continentCounts = la_geographicStatistics.groupby('Continent Name').apply(lambda x: len(x))"
   ]
  },
  {
   "cell_type": "code",
   "execution_count": 129,
   "metadata": {
    "tags": []
   },
   "outputs": [],
   "source": [
    "la_continentCounts.name = 'Countrys_in_Continents'"
   ]
  },
  {
   "cell_type": "code",
   "execution_count": 130,
   "metadata": {
    "tags": []
   },
   "outputs": [
    {
     "data": {
      "text/plain": [
       "Continent Name\n",
       "North America    4\n",
       "South America    7\n",
       "Name: Countrys_in_Continents, dtype: int64"
      ]
     },
     "execution_count": 130,
     "metadata": {},
     "output_type": "execute_result"
    }
   ],
   "source": [
    "la_continentCounts"
   ]
  },
  {
   "cell_type": "code",
   "execution_count": 131,
   "metadata": {
    "tags": []
   },
   "outputs": [],
   "source": [
    "pct_continent_NGA = la_geographicStatistics.groupby('Continent Name')['pct_country_NGA'].sum()"
   ]
  },
  {
   "cell_type": "code",
   "execution_count": 132,
   "metadata": {
    "tags": []
   },
   "outputs": [
    {
     "data": {
      "text/plain": [
       "Continent Name\n",
       "North America    0.001160\n",
       "South America    0.000536\n",
       "Name: pct_country_NGA, dtype: float64"
      ]
     },
     "execution_count": 132,
     "metadata": {},
     "output_type": "execute_result"
    }
   ],
   "source": [
    "pct_continent_NGA"
   ]
  },
  {
   "cell_type": "code",
   "execution_count": 133,
   "metadata": {
    "tags": []
   },
   "outputs": [
    {
     "data": {
      "text/html": [
       "<div>\n",
       "<style scoped>\n",
       "    .dataframe tbody tr th:only-of-type {\n",
       "        vertical-align: middle;\n",
       "    }\n",
       "\n",
       "    .dataframe tbody tr th {\n",
       "        vertical-align: top;\n",
       "    }\n",
       "\n",
       "    .dataframe thead th {\n",
       "        text-align: right;\n",
       "    }\n",
       "</style>\n",
       "<table border=\"1\" class=\"dataframe\">\n",
       "  <thead>\n",
       "    <tr style=\"text-align: right;\">\n",
       "      <th></th>\n",
       "      <th>Country</th>\n",
       "    </tr>\n",
       "  </thead>\n",
       "  <tbody>\n",
       "    <tr>\n",
       "      <th>Africa</th>\n",
       "      <td>57</td>\n",
       "    </tr>\n",
       "    <tr>\n",
       "      <th>Antarctica</th>\n",
       "      <td>2</td>\n",
       "    </tr>\n",
       "    <tr>\n",
       "      <th>Asia</th>\n",
       "      <td>53</td>\n",
       "    </tr>\n",
       "    <tr>\n",
       "      <th>Europe</th>\n",
       "      <td>50</td>\n",
       "    </tr>\n",
       "    <tr>\n",
       "      <th>North America</th>\n",
       "      <td>40</td>\n",
       "    </tr>\n",
       "    <tr>\n",
       "      <th>Oceania</th>\n",
       "      <td>24</td>\n",
       "    </tr>\n",
       "    <tr>\n",
       "      <th>South America</th>\n",
       "      <td>15</td>\n",
       "    </tr>\n",
       "    <tr>\n",
       "      <th>non-transformable</th>\n",
       "      <td>8</td>\n",
       "    </tr>\n",
       "  </tbody>\n",
       "</table>\n",
       "</div>"
      ],
      "text/plain": [
       "                   Country\n",
       "Africa                  57\n",
       "Antarctica               2\n",
       "Asia                    53\n",
       "Europe                  50\n",
       "North America           40\n",
       "Oceania                 24\n",
       "South America           15\n",
       "non-transformable        8"
      ]
     },
     "execution_count": 133,
     "metadata": {},
     "output_type": "execute_result"
    }
   ],
   "source": [
    "total_by_continent"
   ]
  },
  {
   "cell_type": "code",
   "execution_count": 134,
   "metadata": {
    "tags": []
   },
   "outputs": [],
   "source": [
    "total_by_continent = total_by_continent.loc[['North America', 'South America'], :]"
   ]
  },
  {
   "cell_type": "code",
   "execution_count": 135,
   "metadata": {
    "tags": []
   },
   "outputs": [],
   "source": [
    "la_continentCounts = pd.DataFrame({'countries_present':la_continentCounts, 'proportion_of_continent': (la_continentCounts / total_by_continent['Country'])})"
   ]
  },
  {
   "cell_type": "code",
   "execution_count": 136,
   "metadata": {
    "tags": []
   },
   "outputs": [],
   "source": [
    "la_continentCounts['pct_continent_NGA'] = pct_continent_NGA"
   ]
  },
  {
   "cell_type": "code",
   "execution_count": 137,
   "metadata": {
    "tags": []
   },
   "outputs": [
    {
     "data": {
      "text/html": [
       "<div>\n",
       "<style scoped>\n",
       "    .dataframe tbody tr th:only-of-type {\n",
       "        vertical-align: middle;\n",
       "    }\n",
       "\n",
       "    .dataframe tbody tr th {\n",
       "        vertical-align: top;\n",
       "    }\n",
       "\n",
       "    .dataframe thead th {\n",
       "        text-align: right;\n",
       "    }\n",
       "</style>\n",
       "<table border=\"1\" class=\"dataframe\">\n",
       "  <thead>\n",
       "    <tr style=\"text-align: right;\">\n",
       "      <th></th>\n",
       "      <th>countries_present</th>\n",
       "      <th>proportion_of_continent</th>\n",
       "      <th>pct_continent_NGA</th>\n",
       "    </tr>\n",
       "    <tr>\n",
       "      <th>Continent Name</th>\n",
       "      <th></th>\n",
       "      <th></th>\n",
       "      <th></th>\n",
       "    </tr>\n",
       "  </thead>\n",
       "  <tbody>\n",
       "    <tr>\n",
       "      <th>North America</th>\n",
       "      <td>4</td>\n",
       "      <td>0.100000</td>\n",
       "      <td>0.001160</td>\n",
       "    </tr>\n",
       "    <tr>\n",
       "      <th>South America</th>\n",
       "      <td>7</td>\n",
       "      <td>0.466667</td>\n",
       "      <td>0.000536</td>\n",
       "    </tr>\n",
       "  </tbody>\n",
       "</table>\n",
       "</div>"
      ],
      "text/plain": [
       "                countries_present  proportion_of_continent  pct_continent_NGA\n",
       "Continent Name                                                               \n",
       "North America                   4                 0.100000           0.001160\n",
       "South America                   7                 0.466667           0.000536"
      ]
     },
     "execution_count": 137,
     "metadata": {},
     "output_type": "execute_result"
    }
   ],
   "source": [
    "la_continentCounts"
   ]
  },
  {
   "cell_type": "code",
   "execution_count": 138,
   "metadata": {
    "tags": []
   },
   "outputs": [],
   "source": [
    "la_continentCounts_missing = total_by_continent['Country'] - la_continentCounts['countries_present']"
   ]
  },
  {
   "cell_type": "code",
   "execution_count": 139,
   "metadata": {
    "tags": []
   },
   "outputs": [],
   "source": [
    "la_continentCounts_missing.name = 'Missing_from_Actual_Distribution'"
   ]
  },
  {
   "cell_type": "code",
   "execution_count": 140,
   "metadata": {
    "tags": []
   },
   "outputs": [],
   "source": [
    "la_continentCounts_missing = pd.DataFrame({'countries_missing':la_continentCounts_missing, 'proportion_of_continent': (la_continentCounts_missing / total_by_continent['Country'])})"
   ]
  },
  {
   "cell_type": "code",
   "execution_count": 141,
   "metadata": {
    "tags": []
   },
   "outputs": [],
   "source": [
    "la_continentCounts.reset_index(drop=False, inplace=True)"
   ]
  },
  {
   "cell_type": "code",
   "execution_count": 142,
   "metadata": {
    "tags": []
   },
   "outputs": [],
   "source": [
    "la_geographicStatistics = pd.merge(la_continentCounts, la_geographicStatistics, on='Continent Name')"
   ]
  },
  {
   "cell_type": "code",
   "execution_count": 143,
   "metadata": {
    "tags": []
   },
   "outputs": [],
   "source": [
    "la_continentCounts_missing = la_continentCounts_missing.reset_index(drop=False)"
   ]
  },
  {
   "cell_type": "code",
   "execution_count": 144,
   "metadata": {
    "tags": []
   },
   "outputs": [],
   "source": [
    "la_continentCounts_missing.columns = ['Continent Name', 'countries_missing', 'proportion_of_continent']"
   ]
  },
  {
   "cell_type": "code",
   "execution_count": 145,
   "metadata": {
    "tags": []
   },
   "outputs": [
    {
     "data": {
      "text/html": [
       "<div>\n",
       "<style scoped>\n",
       "    .dataframe tbody tr th:only-of-type {\n",
       "        vertical-align: middle;\n",
       "    }\n",
       "\n",
       "    .dataframe tbody tr th {\n",
       "        vertical-align: top;\n",
       "    }\n",
       "\n",
       "    .dataframe thead th {\n",
       "        text-align: right;\n",
       "    }\n",
       "</style>\n",
       "<table border=\"1\" class=\"dataframe\">\n",
       "  <thead>\n",
       "    <tr style=\"text-align: right;\">\n",
       "      <th></th>\n",
       "      <th>Continent Name</th>\n",
       "      <th>countries_missing</th>\n",
       "      <th>proportion_of_continent</th>\n",
       "    </tr>\n",
       "  </thead>\n",
       "  <tbody>\n",
       "    <tr>\n",
       "      <th>0</th>\n",
       "      <td>North America</td>\n",
       "      <td>36</td>\n",
       "      <td>0.900000</td>\n",
       "    </tr>\n",
       "    <tr>\n",
       "      <th>1</th>\n",
       "      <td>South America</td>\n",
       "      <td>8</td>\n",
       "      <td>0.533333</td>\n",
       "    </tr>\n",
       "  </tbody>\n",
       "</table>\n",
       "</div>"
      ],
      "text/plain": [
       "  Continent Name  countries_missing  proportion_of_continent\n",
       "0  North America                 36                 0.900000\n",
       "1  South America                  8                 0.533333"
      ]
     },
     "execution_count": 145,
     "metadata": {},
     "output_type": "execute_result"
    }
   ],
   "source": [
    "la_continentCounts_missing"
   ]
  },
  {
   "cell_type": "code",
   "execution_count": 146,
   "metadata": {
    "tags": []
   },
   "outputs": [],
   "source": [
    "la_geographicStatistics = pd.merge(la_geographicStatistics, la_continentCounts_missing.loc[:, ['Continent Name','countries_missing']], how='inner', on='Continent Name')"
   ]
  },
  {
   "cell_type": "code",
   "execution_count": 147,
   "metadata": {
    "tags": []
   },
   "outputs": [
    {
     "data": {
      "text/html": [
       "<div>\n",
       "<style scoped>\n",
       "    .dataframe tbody tr th:only-of-type {\n",
       "        vertical-align: middle;\n",
       "    }\n",
       "\n",
       "    .dataframe tbody tr th {\n",
       "        vertical-align: top;\n",
       "    }\n",
       "\n",
       "    .dataframe thead th {\n",
       "        text-align: right;\n",
       "    }\n",
       "</style>\n",
       "<table border=\"1\" class=\"dataframe\">\n",
       "  <thead>\n",
       "    <tr style=\"text-align: right;\">\n",
       "      <th></th>\n",
       "      <th>Continent Name</th>\n",
       "      <th>countries_present</th>\n",
       "      <th>proportion_of_continent</th>\n",
       "      <th>pct_continent_NGA</th>\n",
       "      <th>demonym</th>\n",
       "      <th>pct_country_NGA</th>\n",
       "      <th>Country</th>\n",
       "      <th>Continent</th>\n",
       "      <th>Country Name</th>\n",
       "      <th>countries_missing</th>\n",
       "    </tr>\n",
       "  </thead>\n",
       "  <tbody>\n",
       "    <tr>\n",
       "      <th>0</th>\n",
       "      <td>North America</td>\n",
       "      <td>4</td>\n",
       "      <td>0.100000</td>\n",
       "      <td>0.001160</td>\n",
       "      <td>Mexican</td>\n",
       "      <td>0.001012</td>\n",
       "      <td>MX</td>\n",
       "      <td>NoAm</td>\n",
       "      <td>Mexico</td>\n",
       "      <td>36</td>\n",
       "    </tr>\n",
       "    <tr>\n",
       "      <th>1</th>\n",
       "      <td>North America</td>\n",
       "      <td>4</td>\n",
       "      <td>0.100000</td>\n",
       "      <td>0.001160</td>\n",
       "      <td>Guatemalan</td>\n",
       "      <td>0.000129</td>\n",
       "      <td>GT</td>\n",
       "      <td>NoAm</td>\n",
       "      <td>Guatemala</td>\n",
       "      <td>36</td>\n",
       "    </tr>\n",
       "    <tr>\n",
       "      <th>2</th>\n",
       "      <td>North America</td>\n",
       "      <td>4</td>\n",
       "      <td>0.100000</td>\n",
       "      <td>0.001160</td>\n",
       "      <td>Cuban</td>\n",
       "      <td>0.000015</td>\n",
       "      <td>CU</td>\n",
       "      <td>NoAm</td>\n",
       "      <td>Cuba</td>\n",
       "      <td>36</td>\n",
       "    </tr>\n",
       "    <tr>\n",
       "      <th>3</th>\n",
       "      <td>North America</td>\n",
       "      <td>4</td>\n",
       "      <td>0.100000</td>\n",
       "      <td>0.001160</td>\n",
       "      <td>Nicaraguan</td>\n",
       "      <td>0.000005</td>\n",
       "      <td>NI</td>\n",
       "      <td>NoAm</td>\n",
       "      <td>Nicaragua</td>\n",
       "      <td>36</td>\n",
       "    </tr>\n",
       "    <tr>\n",
       "      <th>4</th>\n",
       "      <td>South America</td>\n",
       "      <td>7</td>\n",
       "      <td>0.466667</td>\n",
       "      <td>0.000536</td>\n",
       "      <td>Brazilian</td>\n",
       "      <td>0.000183</td>\n",
       "      <td>BR</td>\n",
       "      <td>SA</td>\n",
       "      <td>Brazil</td>\n",
       "      <td>8</td>\n",
       "    </tr>\n",
       "    <tr>\n",
       "      <th>5</th>\n",
       "      <td>South America</td>\n",
       "      <td>7</td>\n",
       "      <td>0.466667</td>\n",
       "      <td>0.000536</td>\n",
       "      <td>Argentinean</td>\n",
       "      <td>0.000134</td>\n",
       "      <td>AR</td>\n",
       "      <td>SA</td>\n",
       "      <td>Argentina</td>\n",
       "      <td>8</td>\n",
       "    </tr>\n",
       "    <tr>\n",
       "      <th>6</th>\n",
       "      <td>South America</td>\n",
       "      <td>7</td>\n",
       "      <td>0.466667</td>\n",
       "      <td>0.000536</td>\n",
       "      <td>Chilean</td>\n",
       "      <td>0.000104</td>\n",
       "      <td>CL</td>\n",
       "      <td>SA</td>\n",
       "      <td>Chile</td>\n",
       "      <td>8</td>\n",
       "    </tr>\n",
       "    <tr>\n",
       "      <th>7</th>\n",
       "      <td>South America</td>\n",
       "      <td>7</td>\n",
       "      <td>0.466667</td>\n",
       "      <td>0.000536</td>\n",
       "      <td>Venezuelan</td>\n",
       "      <td>0.000079</td>\n",
       "      <td>VE</td>\n",
       "      <td>SA</td>\n",
       "      <td>Venezuela, Bolivarian Republic of</td>\n",
       "      <td>8</td>\n",
       "    </tr>\n",
       "    <tr>\n",
       "      <th>8</th>\n",
       "      <td>South America</td>\n",
       "      <td>7</td>\n",
       "      <td>0.466667</td>\n",
       "      <td>0.000536</td>\n",
       "      <td>Peruvian</td>\n",
       "      <td>0.000015</td>\n",
       "      <td>PE</td>\n",
       "      <td>SA</td>\n",
       "      <td>Peru</td>\n",
       "      <td>8</td>\n",
       "    </tr>\n",
       "    <tr>\n",
       "      <th>9</th>\n",
       "      <td>South America</td>\n",
       "      <td>7</td>\n",
       "      <td>0.466667</td>\n",
       "      <td>0.000536</td>\n",
       "      <td>Uruguayan</td>\n",
       "      <td>0.000010</td>\n",
       "      <td>UY</td>\n",
       "      <td>SA</td>\n",
       "      <td>Uruguay</td>\n",
       "      <td>8</td>\n",
       "    </tr>\n",
       "    <tr>\n",
       "      <th>10</th>\n",
       "      <td>South America</td>\n",
       "      <td>7</td>\n",
       "      <td>0.466667</td>\n",
       "      <td>0.000536</td>\n",
       "      <td>Colombian</td>\n",
       "      <td>0.000010</td>\n",
       "      <td>CO</td>\n",
       "      <td>SA</td>\n",
       "      <td>Colombia</td>\n",
       "      <td>8</td>\n",
       "    </tr>\n",
       "  </tbody>\n",
       "</table>\n",
       "</div>"
      ],
      "text/plain": [
       "   Continent Name  countries_present  proportion_of_continent  \\\n",
       "0   North America                  4                 0.100000   \n",
       "1   North America                  4                 0.100000   \n",
       "2   North America                  4                 0.100000   \n",
       "3   North America                  4                 0.100000   \n",
       "4   South America                  7                 0.466667   \n",
       "5   South America                  7                 0.466667   \n",
       "6   South America                  7                 0.466667   \n",
       "7   South America                  7                 0.466667   \n",
       "8   South America                  7                 0.466667   \n",
       "9   South America                  7                 0.466667   \n",
       "10  South America                  7                 0.466667   \n",
       "\n",
       "    pct_continent_NGA      demonym  pct_country_NGA Country Continent  \\\n",
       "0            0.001160      Mexican         0.001012      MX      NoAm   \n",
       "1            0.001160   Guatemalan         0.000129      GT      NoAm   \n",
       "2            0.001160        Cuban         0.000015      CU      NoAm   \n",
       "3            0.001160   Nicaraguan         0.000005      NI      NoAm   \n",
       "4            0.000536    Brazilian         0.000183      BR        SA   \n",
       "5            0.000536  Argentinean         0.000134      AR        SA   \n",
       "6            0.000536      Chilean         0.000104      CL        SA   \n",
       "7            0.000536   Venezuelan         0.000079      VE        SA   \n",
       "8            0.000536     Peruvian         0.000015      PE        SA   \n",
       "9            0.000536    Uruguayan         0.000010      UY        SA   \n",
       "10           0.000536    Colombian         0.000010      CO        SA   \n",
       "\n",
       "                         Country Name  countries_missing  \n",
       "0                              Mexico                 36  \n",
       "1                           Guatemala                 36  \n",
       "2                                Cuba                 36  \n",
       "3                           Nicaragua                 36  \n",
       "4                              Brazil                  8  \n",
       "5                           Argentina                  8  \n",
       "6                               Chile                  8  \n",
       "7   Venezuela, Bolivarian Republic of                  8  \n",
       "8                                Peru                  8  \n",
       "9                             Uruguay                  8  \n",
       "10                           Colombia                  8  "
      ]
     },
     "execution_count": 147,
     "metadata": {},
     "output_type": "execute_result"
    }
   ],
   "source": [
    "la_geographicStatistics"
   ]
  },
  {
   "cell_type": "code",
   "execution_count": 148,
   "metadata": {
    "tags": []
   },
   "outputs": [
    {
     "data": {
      "text/plain": [
       "(463799, 40)"
      ]
     },
     "execution_count": 148,
     "metadata": {},
     "output_type": "execute_result"
    }
   ],
   "source": [
    "latinamerican_art.shape"
   ]
  },
  {
   "cell_type": "code",
   "execution_count": 149,
   "metadata": {
    "tags": []
   },
   "outputs": [],
   "source": [
    "#inner join of la_geographicStatistics and non_latinamerican_art\n",
    "latinamerican_art = pd.merge(latinamerican_art, la_geographicStatistics, how='inner',left_on='nationality', right_on='demonym')"
   ]
  },
  {
   "cell_type": "code",
   "execution_count": 168,
   "metadata": {
    "pycharm": {
     "name": "#%%\n"
    },
    "tags": []
   },
   "outputs": [],
   "source": [
    "#converts the iiifurl to return the full image size\n",
    "latinamerican_art['expanded_url'] = latinamerican_art.iiifthumburl.apply(lambda x: x.replace('!200,200', '!640,640'))"
   ]
  },
  {
   "cell_type": "code",
   "execution_count": 162,
   "metadata": {
    "tags": []
   },
   "outputs": [
    {
     "data": {
      "text/plain": [
       "(684, 51)"
      ]
     },
     "execution_count": 162,
     "metadata": {},
     "output_type": "execute_result"
    }
   ],
   "source": [
    "latinamerican_art.shape"
   ]
  },
  {
   "cell_type": "markdown",
   "metadata": {
    "pycharm": {
     "name": "#%% md\n"
    },
    "tags": []
   },
   "source": [
    "### Output Latin American Art data present within the NGA database (Data Prep)"
   ]
  },
  {
   "cell_type": "code",
   "execution_count": 163,
   "metadata": {
    "tags": []
   },
   "outputs": [],
   "source": [
    "### Important: This file is used to add geographic data to other tables in DB"
   ]
  },
  {
   "cell_type": "code",
   "execution_count": 153,
   "metadata": {
    "pycharm": {
     "name": "#%%\n"
    },
    "tags": []
   },
   "outputs": [],
   "source": [
    "la_geographicStatistics.to_csv('../../../data_samples/LaArt/la_geographicStatistics.csv', index=False)"
   ]
  },
  {
   "cell_type": "code",
   "execution_count": 169,
   "metadata": {
    "pycharm": {
     "name": "#%%\n"
    },
    "tags": []
   },
   "outputs": [],
   "source": [
    "latinamerican_art.to_csv('../../../data_samples/art_tables_test/latinamerican_art.csv', index=False)"
   ]
  },
  {
   "cell_type": "code",
   "execution_count": null,
   "metadata": {},
   "outputs": [],
   "source": []
  }
 ],
 "metadata": {
  "kernelspec": {
   "display_name": "Python (test-env)",
   "language": "python",
   "name": "test-env"
  },
  "language_info": {
   "codemirror_mode": {
    "name": "ipython",
    "version": 3
   },
   "file_extension": ".py",
   "mimetype": "text/x-python",
   "name": "python",
   "nbconvert_exporter": "python",
   "pygments_lexer": "ipython3",
   "version": "3.10.9"
  }
 },
 "nbformat": 4,
 "nbformat_minor": 4
}
