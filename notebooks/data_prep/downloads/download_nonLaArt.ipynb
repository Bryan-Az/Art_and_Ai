{
 "cells": [
  {
   "cell_type": "code",
   "execution_count": 1,
   "metadata": {
    "collapsed": false,
    "jupyter": {
     "outputs_hidden": false
    },
    "pycharm": {
     "name": "#%%\n"
    }
   },
   "outputs": [],
   "source": [
    "import pandas as pd\n",
    "from os.path import exists\n",
    "import os\n",
    "import re\n",
    "from sklearn.model_selection import train_test_split\n",
    "import shutil\n",
    "import requests\n",
    "import time\n",
    "import numpy as np"
   ]
  },
  {
   "cell_type": "code",
   "execution_count": 177,
   "metadata": {
    "collapsed": false,
    "jupyter": {
     "outputs_hidden": false
    },
    "pycharm": {
     "name": "#%%\n"
    }
   },
   "outputs": [],
   "source": [
    "#using a premade subset/sample that is representative in diversity in country origin as parent dataset (excluding latin america)\n",
    "nonLa_image_metadata_sample = pd.read_csv('../../../data_samples/results/processed_subset_results/non_latinamericanart_sample.csv', low_memory=False)"
   ]
  },
  {
   "cell_type": "code",
   "execution_count": 178,
   "metadata": {},
   "outputs": [],
   "source": [
    "#dropping unneccessary rows (1 removed)\n",
    "nonLa_image_metadata_sample = nonLa_image_metadata_sample.where(nonLa_image_metadata_sample.title.apply(pd.notna)).dropna(how='all')\n",
    "nonLa_image_metadata_sample = nonLa_image_metadata_sample.where(nonLa_image_metadata_sample.forwarddisplayname.apply(pd.notna)).dropna(how='all')\n",
    "nonLa_image_metadata_sample = nonLa_image_metadata_sample.where(nonLa_image_metadata_sample.objectid.apply(pd.notna)).dropna(how='all')"
   ]
  },
  {
   "cell_type": "markdown",
   "metadata": {
    "pycharm": {
     "name": "#%% md\n"
    }
   },
   "source": [
    "### Image Scraping"
   ]
  },
  {
   "cell_type": "code",
   "execution_count": 179,
   "metadata": {
    "collapsed": false,
    "jupyter": {
     "outputs_hidden": false
    },
    "pycharm": {
     "name": "#%%\n"
    }
   },
   "outputs": [],
   "source": [
    "shape_initial = nonLa_image_metadata_sample.shape"
   ]
  },
  {
   "cell_type": "code",
   "execution_count": 180,
   "metadata": {},
   "outputs": [
    {
     "data": {
      "text/plain": [
       "(16354, 51)"
      ]
     },
     "execution_count": 180,
     "metadata": {},
     "output_type": "execute_result"
    }
   ],
   "source": [
    "shape_initial"
   ]
  },
  {
   "cell_type": "markdown",
   "metadata": {},
   "source": [
    "Adding Columns"
   ]
  },
  {
   "cell_type": "code",
   "execution_count": 181,
   "metadata": {},
   "outputs": [
    {
     "data": {
      "text/plain": [
       "Index(['iiifurl', 'iiifthumburl', 'accessioned', 'title',\n",
       "       'displayDate_created', 'roletype', 'role', 'forwarddisplayname',\n",
       "       'birthyear', 'deathyear', 'ulanid', 'artistofngaobject', 'nationality',\n",
       "       'constituenttype', 'beginyear_artistAssigned', 'endyear_artistAssigned',\n",
       "       'country_artistAssigned', 'zipcode_artistAssigned', 'medium',\n",
       "       'dimensions', 'inscription', 'markings', 'attribution',\n",
       "       'visualBrowserClassification', 'parentID', 'isVirtual', 'portfolio',\n",
       "       'series', 'volume', 'watermarks', 'uuid', 'viewtype', 'sequence',\n",
       "       'width', 'height', 'maxpixels', 'assistivetext', 'depictstmsobjectid',\n",
       "       'objectid', 'constituentid', 'Continent Name', 'countries_present',\n",
       "       'proportion_of_continent', 'pct_continent_NGA', 'demonym',\n",
       "       'pct_country_NGA', 'Country', 'Continent', 'Country Name',\n",
       "       'countries_missing', 'expanded_url'],\n",
       "      dtype='object')"
      ]
     },
     "execution_count": 181,
     "metadata": {},
     "output_type": "execute_result"
    }
   ],
   "source": [
    "nonLa_image_metadata_sample.columns"
   ]
  },
  {
   "cell_type": "code",
   "execution_count": 182,
   "metadata": {},
   "outputs": [],
   "source": [
    "# adding expected file name (limiting title to 100 characters and concatenating it with forwardisplayname and objectid to create UUID filepath)\n",
    "nonLa_image_metadata_sample['file_name'] = nonLa_image_metadata_sample['title'].apply(lambda x: x.replace(' ','_').replace('/', '&')).apply(lambda x: x[:100]) + '_' + nonLa_image_metadata_sample['forwarddisplayname'].apply(lambda x: x.replace(' ', '_').replace('/', '&')) + '_' + nonLa_image_metadata_sample['objectid'].apply(lambda x: str(int(x)) + '.jpg')\n",
    "#adding the expected root directory of the image files\n",
    "la_image_directory = '../../../latinamerican-2-imagefolder-split/'\n",
    "nonLa_image_metadata_sample['directory'] = [la_image_directory] * len(nonLa_image_metadata_sample)\n",
    "#subfolder split (train 70% /test 30%) need to be identified randomly\n",
    "train_data, test_data = train_test_split(nonLa_image_metadata_sample, test_size=0.2)\n",
    "train_data['subfolder'] = ['train'] * len(train_data)\n",
    "test_data['subfolder'] = ['test'] * len(test_data)\n",
    "#adding new split (subfolder) column to la_image_metadata\n",
    "nonLa_image_metadata_sample = pd.concat([train_data, test_data]).reset_index(drop=True)\n",
    "# adding expected filepath (directory + filename)\n",
    "nonLa_image_metadata_sample['image_fp'] = nonLa_image_metadata_sample.directory + nonLa_image_metadata_sample.subfolder + '/' + nonLa_image_metadata_sample.file_name"
   ]
  },
  {
   "cell_type": "markdown",
   "metadata": {},
   "source": [
    "Check the change in shape for input in M.L algs."
   ]
  },
  {
   "cell_type": "code",
   "execution_count": 183,
   "metadata": {},
   "outputs": [
    {
     "name": "stdout",
     "output_type": "stream",
     "text": [
      "Shape starting:  (16354, 51)\n",
      "Shape after edit 1:  (16354, 55)\n"
     ]
    }
   ],
   "source": [
    "#To verify data shape during process\n",
    "shape_change_1 = nonLa_image_metadata_sample.shape\n",
    "print('Shape starting: ', shape_initial)\n",
    "print('Shape after edit 1: ', shape_change_1)"
   ]
  },
  {
   "cell_type": "markdown",
   "metadata": {},
   "source": [
    "### Downloading the images from the open source NGA Database API"
   ]
  },
  {
   "cell_type": "markdown",
   "metadata": {},
   "source": [
    "This is how the images would be downloaded if ran as a script."
   ]
  },
  {
   "cell_type": "code",
   "execution_count": 184,
   "metadata": {},
   "outputs": [],
   "source": [
    "#### adding expected filepath (directory + filename)\n",
    "nonLa_image_metadata_sample.title = nonLa_image_metadata_sample.title.fillna('missing')\n",
    "nonLa_image_metadata_sample.forwarddisplayname = nonLa_image_metadata_sample.forwarddisplayname.fillna('missing')\n",
    "nonLa_image_metadata_sample['image_fp'] = nonLa_image_metadata_sample.directory + nonLa_image_metadata_sample.subfolder + '/' + nonLa_image_metadata_sample.file_name"
   ]
  },
  {
   "cell_type": "code",
   "execution_count": 185,
   "metadata": {},
   "outputs": [],
   "source": [
    "# selects the features relevant to run the download script\n",
    "nonLa_image_fpaths = nonLa_image_metadata_sample.loc[:, ['objectid','directory','subfolder', 'file_name', 'image_fp']]"
   ]
  },
  {
   "cell_type": "code",
   "execution_count": 107,
   "metadata": {
    "collapsed": false,
    "jupyter": {
     "outputs_hidden": false
    },
    "pycharm": {
     "name": "#%%\n"
    }
   },
   "outputs": [
    {
     "name": "stdout",
     "output_type": "stream",
     "text": [
      "Download starting... please wait :)\n"
     ]
    },
    {
     "ename": "OSError",
     "evalue": "[Errno 36] File name too long: \"Et_l'homme_parut,_interrogeant_le_sol_d'ou__il_sort_et_qui_l'attire,_il_se_fraya_la_voie_vers_(And_Man_appeared;_questioning_theearth_from_which_he_emerged_and_which_attracts_hi_m,_he_made_his_way_toward_somber_brightness)_Lessing_Julius_Rosenwald_40263.jpg\"",
     "output_type": "error",
     "traceback": [
      "\u001b[0;31m---------------------------------------------------------------------------\u001b[0m",
      "\u001b[0;31mOSError\u001b[0m                                   Traceback (most recent call last)",
      "Cell \u001b[0;32mIn[107], line 28\u001b[0m\n\u001b[1;32m     25\u001b[0m     \u001b[38;5;66;03m# Download image\u001b[39;00m\n\u001b[1;32m     26\u001b[0m     \u001b[38;5;66;03m# timer delay (15 seconds)\u001b[39;00m\n\u001b[1;32m     27\u001b[0m     time\u001b[38;5;241m.\u001b[39msleep(\u001b[38;5;241m15\u001b[39m)\n\u001b[0;32m---> 28\u001b[0m     \u001b[43mdownload_image\u001b[49m\u001b[43m(\u001b[49m\u001b[43mexpanded_url\u001b[49m\u001b[43m,\u001b[49m\u001b[43m \u001b[49m\u001b[43mfp\u001b[49m\u001b[43m,\u001b[49m\u001b[43m \u001b[49m\u001b[43mfile_name\u001b[49m\u001b[43m,\u001b[49m\u001b[43m \u001b[49m\u001b[43mua_header\u001b[49m\u001b[43m)\u001b[49m\n\u001b[1;32m     31\u001b[0m \u001b[38;5;28mprint\u001b[39m(\u001b[38;5;124m\"\u001b[39m\u001b[38;5;124mDownload finished.\u001b[39m\u001b[38;5;124m\"\u001b[39m)\n",
      "Cell \u001b[0;32mIn[107], line 6\u001b[0m, in \u001b[0;36mdownload_image\u001b[0;34m(url, path, name, headers)\u001b[0m\n\u001b[1;32m      4\u001b[0m response \u001b[38;5;241m=\u001b[39m requests\u001b[38;5;241m.\u001b[39mget(url, headers\u001b[38;5;241m=\u001b[39mheaders)\n\u001b[1;32m      5\u001b[0m \u001b[38;5;28;01mif\u001b[39;00m response\u001b[38;5;241m.\u001b[39mstatus_code \u001b[38;5;241m==\u001b[39m \u001b[38;5;241m200\u001b[39m:\n\u001b[0;32m----> 6\u001b[0m     \u001b[38;5;28;01mwith\u001b[39;00m \u001b[38;5;28;43mopen\u001b[39;49m\u001b[43m(\u001b[49m\u001b[43mname\u001b[49m\u001b[43m,\u001b[49m\u001b[43m \u001b[49m\u001b[38;5;124;43m\"\u001b[39;49m\u001b[38;5;124;43mwb\u001b[39;49m\u001b[38;5;124;43m\"\u001b[39;49m\u001b[43m)\u001b[49m \u001b[38;5;28;01mas\u001b[39;00m f:\n\u001b[1;32m      7\u001b[0m         f\u001b[38;5;241m.\u001b[39mwrite(response\u001b[38;5;241m.\u001b[39mcontent)\n\u001b[1;32m      8\u001b[0m     shutil\u001b[38;5;241m.\u001b[39mmove(name, path)\n",
      "File \u001b[0;32m/home/test-user/external_drive/anaconda3/envs/test-env/lib/python3.10/site-packages/IPython/core/interactiveshell.py:284\u001b[0m, in \u001b[0;36m_modified_open\u001b[0;34m(file, *args, **kwargs)\u001b[0m\n\u001b[1;32m    277\u001b[0m \u001b[38;5;28;01mif\u001b[39;00m file \u001b[38;5;129;01min\u001b[39;00m {\u001b[38;5;241m0\u001b[39m, \u001b[38;5;241m1\u001b[39m, \u001b[38;5;241m2\u001b[39m}:\n\u001b[1;32m    278\u001b[0m     \u001b[38;5;28;01mraise\u001b[39;00m \u001b[38;5;167;01mValueError\u001b[39;00m(\n\u001b[1;32m    279\u001b[0m         \u001b[38;5;124mf\u001b[39m\u001b[38;5;124m\"\u001b[39m\u001b[38;5;124mIPython won\u001b[39m\u001b[38;5;124m'\u001b[39m\u001b[38;5;124mt let you open fd=\u001b[39m\u001b[38;5;132;01m{\u001b[39;00mfile\u001b[38;5;132;01m}\u001b[39;00m\u001b[38;5;124m by default \u001b[39m\u001b[38;5;124m\"\u001b[39m\n\u001b[1;32m    280\u001b[0m         \u001b[38;5;124m\"\u001b[39m\u001b[38;5;124mas it is likely to crash IPython. If you know what you are doing, \u001b[39m\u001b[38;5;124m\"\u001b[39m\n\u001b[1;32m    281\u001b[0m         \u001b[38;5;124m\"\u001b[39m\u001b[38;5;124myou can use builtins\u001b[39m\u001b[38;5;124m'\u001b[39m\u001b[38;5;124m open.\u001b[39m\u001b[38;5;124m\"\u001b[39m\n\u001b[1;32m    282\u001b[0m     )\n\u001b[0;32m--> 284\u001b[0m \u001b[38;5;28;01mreturn\u001b[39;00m \u001b[43mio_open\u001b[49m\u001b[43m(\u001b[49m\u001b[43mfile\u001b[49m\u001b[43m,\u001b[49m\u001b[43m \u001b[49m\u001b[38;5;241;43m*\u001b[39;49m\u001b[43margs\u001b[49m\u001b[43m,\u001b[49m\u001b[43m \u001b[49m\u001b[38;5;241;43m*\u001b[39;49m\u001b[38;5;241;43m*\u001b[39;49m\u001b[43mkwargs\u001b[49m\u001b[43m)\u001b[49m\n",
      "\u001b[0;31mOSError\u001b[0m: [Errno 36] File name too long: \"Et_l'homme_parut,_interrogeant_le_sol_d'ou__il_sort_et_qui_l'attire,_il_se_fraya_la_voie_vers_(And_Man_appeared;_questioning_theearth_from_which_he_emerged_and_which_attracts_hi_m,_he_made_his_way_toward_somber_brightness)_Lessing_Julius_Rosenwald_40263.jpg\""
     ]
    }
   ],
   "source": [
    "import shutil\n",
    "import requests\n",
    "def download_image(url, path, name, headers):\n",
    "    response = requests.get(url, headers=headers)\n",
    "    if response.status_code == 200:\n",
    "        with open(name, \"wb\") as f:\n",
    "            f.write(response.content)\n",
    "        shutil.move(name, path)\n",
    "    else:\n",
    "        print(response.status_code)\n",
    "        \n",
    "#Define HTTP Headers\n",
    "ua_header = {\n",
    "    \"User-Agent\": \"Chrome/51.0.2704.103\",\n",
    "}\n",
    "# this block now uses the la_image_fpaths table\n",
    "print(\"Download starting... please wait :)\")\n",
    "for i in range(0, len(nonLa_image_metadata_sample)):\n",
    "    # Define URL of an image\n",
    "    expanded_url = nonLa_image_metadata_sample.expanded_url[i]\n",
    "    # Define image file name, file path to place\n",
    "    file_name = nonLa_image_fpaths.file_name[i]\n",
    "    fp = nonLa_image_fpaths.image_fp[i]\n",
    "    # Download image\n",
    "    # timer delay (15 seconds)\n",
    "    time.sleep(15)\n",
    "    download_image(expanded_url, fp, file_name, ua_header)\n",
    "    \n",
    "print(\"Download finished.\")"
   ]
  },
  {
   "cell_type": "markdown",
   "metadata": {
    "pycharm": {
     "name": "#%% md\n"
    }
   },
   "source": [
    "### Verifying File Names Correspond to the Dataset (Some Images Unable to be Downloaded)"
   ]
  },
  {
   "cell_type": "code",
   "execution_count": 186,
   "metadata": {
    "collapsed": false,
    "jupyter": {
     "outputs_hidden": false
    },
    "pycharm": {
     "name": "#%%\n"
    }
   },
   "outputs": [],
   "source": [
    "#checking that the filepath / naming conventions I used are consistent\n",
    "from os.path import exists\n",
    "file_exists = []\n",
    "for i in range(len(nonLa_image_fpaths)):\n",
    "    file_exists.append(exists(nonLa_image_fpaths.image_fp[i]))\n",
    "nonLa_image_fpaths['file_downloaded'] = file_exists"
   ]
  },
  {
   "cell_type": "markdown",
   "metadata": {},
   "source": [
    "### Saving the files edites / created in this NB"
   ]
  },
  {
   "cell_type": "markdown",
   "metadata": {},
   "source": [
    "This is where data is saved and outputted. If the .py files are run using the .sh script then the data will be edited."
   ]
  },
  {
   "cell_type": "markdown",
   "metadata": {},
   "source": [
    "The nonLa_image_fp data will be split into two datasets (present/missing). Some of the images in the dataset were not downloaded successfully and splitting the dataset allows for the model to be trained without causing file not found errors, and for troubleshooting the errors."
   ]
  },
  {
   "cell_type": "code",
   "execution_count": 188,
   "metadata": {},
   "outputs": [],
   "source": [
    "presentnonLa_image_fpaths = nonLa_image_fpaths.where(nonLa_image_fpaths.file_downloaded == True).dropna(how='all')\n",
    "\n",
    "missingnonLa_image_fpaths = nonLa_image_fpaths.where(nonLa_image_fpaths.file_downloaded == False).dropna(how='all')"
   ]
  },
  {
   "cell_type": "markdown",
   "metadata": {},
   "source": [
    "#### Saving the files to their directories"
   ]
  },
  {
   "cell_type": "code",
   "execution_count": 189,
   "metadata": {},
   "outputs": [
    {
     "name": "stdout",
     "output_type": "stream",
     "text": [
      "CSV Created: ../../../data_samples/nonLaArt/presentnonLa_image_fpaths_sample.csv\n",
      "CSV Created: ../../../data_samples/nonLaArt/missingnonLa_image_fpaths_sample.csv\n",
      "CSV Edited: ../../../data_samples/nonLaArt/non_latinamerican_art_sample.csv\n",
      "download_nonLaArt.py finished.\n"
     ]
    }
   ],
   "source": [
    "presentnonLa_image_fpaths.to_csv('../../../data_samples/nonLaArt/presentnonLa_image_fpaths_sample.csv', index=False)\n",
    "missingnonLa_image_fpaths.to_csv('../../../data_samples/nonLaArt/missingnonLa_image_fpaths_sample.csv', index=False)\n",
    "print('CSV Created: ../../../data_samples/nonLaArt/presentnonLa_image_fpaths_sample.csv')\n",
    "print('CSV Created: ../../../data_samples/nonLaArt/missingnonLa_image_fpaths_sample.csv')\n",
    "nonLa_image_metadata_sample.to_csv('../../../data_samples/nonLaArt/non_latinamerican_art_sample.csv', index=False)\n",
    "print('CSV Edited: ../../../data_samples/nonLaArt/non_latinamerican_art_sample.csv')"
   ]
  },
  {
   "cell_type": "code",
   "execution_count": 191,
   "metadata": {},
   "outputs": [
    {
     "data": {
      "text/plain": [
       "'The amount of images downloaded is 0.701785495903143 percent. Which means 11477.0 is amount downloaded, out of 16354 in latinamerican_art_sample.csv'"
      ]
     },
     "execution_count": 191,
     "metadata": {},
     "output_type": "execute_result"
    }
   ],
   "source": [
    "perc_exists = nonLa_image_fpaths.file_downloaded.sum()/len(file_exists)\n",
    "total = nonLa_image_fpaths.shape[0]\n",
    "whole_num_exists = perc_exists * total\n",
    "text = 'The amount of images downloaded is {} percent. Which means {} is amount downloaded, out of {} in latinamerican_art_sample.csv'\n",
    "text.format(perc_exists, whole_num_exists, total)"
   ]
  },
  {
   "cell_type": "code",
   "execution_count": null,
   "metadata": {},
   "outputs": [],
   "source": [
    "print(\"download_nonLaArt.py finished.\")"
   ]
  }
 ],
 "metadata": {
  "kernelspec": {
   "display_name": "Python 3 (ipykernel)",
   "language": "python",
   "name": "python3"
  },
  "language_info": {
   "codemirror_mode": {
    "name": "ipython",
    "version": 3
   },
   "file_extension": ".py",
   "mimetype": "text/x-python",
   "name": "python",
   "nbconvert_exporter": "python",
   "pygments_lexer": "ipython3",
   "version": "3.11.4"
  }
 },
 "nbformat": 4,
 "nbformat_minor": 4
}
