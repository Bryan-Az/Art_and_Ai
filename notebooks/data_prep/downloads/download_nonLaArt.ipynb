{
 "cells": [
  {
   "cell_type": "code",
   "execution_count": 75,
   "metadata": {
    "collapsed": false,
    "jupyter": {
     "outputs_hidden": false
    },
    "pycharm": {
     "name": "#%%\n"
    }
   },
   "outputs": [],
   "source": [
    "import pandas as pd\n",
    "from os.path import exists\n",
    "import os\n",
    "import re\n",
    "from sklearn.model_selection import train_test_split\n",
    "import shutil\n",
    "import requests\n",
    "import time\n",
    "import numpy as np"
   ]
  },
  {
   "cell_type": "code",
   "execution_count": 97,
   "metadata": {
    "collapsed": false,
    "jupyter": {
     "outputs_hidden": false
    },
    "pycharm": {
     "name": "#%%\n"
    }
   },
   "outputs": [],
   "source": [
    "#using a premade subset/sample that is representative in diversity in country origin as parent dataset (excluding latin america)\n",
    "nonLa_image_metadata_sample = pd.read_csv('../../../data_samples/results/processed_subset_results/non_latinamericanart_sample.csv', low_memory=False)"
   ]
  },
  {
   "cell_type": "code",
   "execution_count": 98,
   "metadata": {},
   "outputs": [],
   "source": [
    "#dropping unneccessary rows (1 removed)\n",
    "nonLa_image_metadata_sample = nonLa_image_metadata_sample.where(nonLa_image_metadata_sample.title.apply(pd.notna)).dropna(how='all')\n",
    "nonLa_image_metadata_sample = nonLa_image_metadata_sample.where(nonLa_image_metadata_sample.forwarddisplayname.apply(pd.notna)).dropna(how='all')\n",
    "nonLa_image_metadata_sample = nonLa_image_metadata_sample.where(nonLa_image_metadata_sample.objectid.apply(pd.notna)).dropna(how='all')"
   ]
  },
  {
   "cell_type": "markdown",
   "metadata": {
    "pycharm": {
     "name": "#%% md\n"
    }
   },
   "source": [
    "### Image Scraping"
   ]
  },
  {
   "cell_type": "code",
   "execution_count": 99,
   "metadata": {
    "collapsed": false,
    "jupyter": {
     "outputs_hidden": false
    },
    "pycharm": {
     "name": "#%%\n"
    }
   },
   "outputs": [],
   "source": [
    "shape_initial = nonLa_image_metadata_sample.shape"
   ]
  },
  {
   "cell_type": "code",
   "execution_count": 100,
   "metadata": {},
   "outputs": [
    {
     "data": {
      "text/plain": [
       "(34863, 51)"
      ]
     },
     "execution_count": 100,
     "metadata": {},
     "output_type": "execute_result"
    }
   ],
   "source": [
    "shape_initial"
   ]
  },
  {
   "cell_type": "markdown",
   "metadata": {},
   "source": [
    "Adding Columns"
   ]
  },
  {
   "cell_type": "code",
   "execution_count": 101,
   "metadata": {},
   "outputs": [],
   "source": [
    "# adding expected file name\n",
    "nonLa_image_metadata_sample['file_name'] = nonLa_image_metadata_sample['title'].apply(lambda x: x.replace(' ','_').replace('/', '&')) + '_' + nonLa_image_metadata_sample['forwarddisplayname'].apply(lambda x: x.replace(' ', '_').replace('/', '&')) + '_' + nonLa_image_metadata_sample['objectid'].apply(lambda x: str(int(x)) + '.jpg')\n",
    "#adding the expected root directory of the image files\n",
    "la_image_directory = '../../../latinamerican-2-imagefolder-split/'\n",
    "nonLa_image_metadata_sample['directory'] = [la_image_directory] * len(nonLa_image_metadata_sample)\n",
    "#subfolder split (train 70% /test 30%) need to be identified randomly\n",
    "train_data, test_data = train_test_split(nonLa_image_metadata_sample, test_size=0.3)\n",
    "train_data['subfolder'] = ['train'] * len(train_data)\n",
    "test_data['subfolder'] = ['test'] * len(test_data)\n",
    "#adding new split (subfolder) column to la_image_metadata\n",
    "nonLa_image_metadata_sample = pd.concat([train_data, test_data]).reset_index(drop=True)\n",
    "# adding expected filepath (directory + filename)\n",
    "nonLa_image_metadata_sample['image_fp'] = nonLa_image_metadata_sample.directory + nonLa_image_metadata_sample.subfolder + '/' + nonLa_image_metadata_sample.file_name"
   ]
  },
  {
   "cell_type": "markdown",
   "metadata": {},
   "source": [
    "Check the change in shape for input in M.L algs."
   ]
  },
  {
   "cell_type": "code",
   "execution_count": 102,
   "metadata": {},
   "outputs": [
    {
     "name": "stdout",
     "output_type": "stream",
     "text": [
      "Shape starting:  (34863, 51)\n",
      "Shape after edit 1:  (34863, 55)\n"
     ]
    }
   ],
   "source": [
    "#To verify data shape during process\n",
    "shape_change_1 = nonLa_image_metadata_sample.shape\n",
    "print('Shape starting: ', shape_initial)\n",
    "print('Shape after edit 1: ', shape_change_1)"
   ]
  },
  {
   "cell_type": "markdown",
   "metadata": {},
   "source": [
    "### Saving the files edites / created in this NB"
   ]
  },
  {
   "cell_type": "markdown",
   "metadata": {},
   "source": [
    "This is where data is saved and outputted. If the .py files are run using the .sh script then the data will be edited."
   ]
  },
  {
   "cell_type": "code",
   "execution_count": 103,
   "metadata": {},
   "outputs": [
    {
     "name": "stdout",
     "output_type": "stream",
     "text": [
      "CSV Created: ../../../data_samples/art_tables_test/nonla_image_fpaths_sample.csv\n",
      "CSV Edited: ../../../data_samples/art_tables_test/non_latinamerican_art_sample.csv\n"
     ]
    }
   ],
   "source": [
    "# saves the selected parts to a new csv file to run the download script portion of downloadLa\n",
    "nonLa_image_fpaths = nonLa_image_metadata_sample.loc[:, ['objectid', 'file_name', 'image_fp']]\n",
    "nonLa_image_fpaths.to_csv('../../../data_samples/art_tables_test/nonla_image_fpaths_sample.csv', index=False)\n",
    "print('CSV Created: ../../../data_samples/art_tables_test/nonla_image_fpaths_sample.csv')\n",
    "nonLa_image_metadata_sample.to_csv('../../../data_samples/art_tables_test/non_latinamerican_art_sample.csv', index=False)\n",
    "print('CSV Edited: ../../../data_samples/art_tables_test/non_latinamerican_art_sample.csv')"
   ]
  },
  {
   "cell_type": "markdown",
   "metadata": {},
   "source": [
    "### Downloading the images from the open source NGA Database API"
   ]
  },
  {
   "cell_type": "markdown",
   "metadata": {},
   "source": [
    "This is how the images would be downloaded if ran as a script."
   ]
  },
  {
   "cell_type": "code",
   "execution_count": 122,
   "metadata": {},
   "outputs": [
    {
     "data": {
      "text/plain": [
       "artist                       13771\n",
       "previous owner                6526\n",
       "source                        5880\n",
       "donor                         5364\n",
       "printer                       1388\n",
       "publisher                      890\n",
       "artist after                   230\n",
       "painter                        225\n",
       "sculptor                       180\n",
       "edition production              67\n",
       "designer                        66\n",
       "manufacturer                    52\n",
       "technical collaborator          40\n",
       "architect                       35\n",
       "author                          25\n",
       "medalist                        19\n",
       "editor                          17\n",
       "photographer                    14\n",
       "processor                       12\n",
       "related artist                  12\n",
       "processing and proofing          8\n",
       "engraver/modeler                 8\n",
       "collaborator                     6\n",
       "die engraver                     5\n",
       "collaborator & supervisor        5\n",
       "engraver                         5\n",
       "cabinetmaker                     4\n",
       "ceramist                         3\n",
       "quiltmaker                       2\n",
       "artist/author                    2\n",
       "wood-engraver                    1\n",
       "printmaker                       1\n",
       "Name: role, dtype: int64"
      ]
     },
     "execution_count": 122,
     "metadata": {},
     "output_type": "execute_result"
    }
   ],
   "source": [
    "nonLa_image_metadata_sample.role.value_counts()"
   ]
  },
  {
   "cell_type": "code",
   "execution_count": 119,
   "metadata": {},
   "outputs": [
    {
     "data": {
      "text/html": [
       "<div>\n",
       "<style scoped>\n",
       "    .dataframe tbody tr th:only-of-type {\n",
       "        vertical-align: middle;\n",
       "    }\n",
       "\n",
       "    .dataframe tbody tr th {\n",
       "        vertical-align: top;\n",
       "    }\n",
       "\n",
       "    .dataframe thead th {\n",
       "        text-align: right;\n",
       "    }\n",
       "</style>\n",
       "<table border=\"1\" class=\"dataframe\">\n",
       "  <thead>\n",
       "    <tr style=\"text-align: right;\">\n",
       "      <th></th>\n",
       "      <th>uuid</th>\n",
       "      <th>iiifurl</th>\n",
       "      <th>iiifthumburl</th>\n",
       "      <th>accessioned</th>\n",
       "      <th>title</th>\n",
       "      <th>displayDate_created</th>\n",
       "      <th>roletype</th>\n",
       "      <th>role</th>\n",
       "      <th>forwarddisplayname</th>\n",
       "      <th>birthyear</th>\n",
       "      <th>...</th>\n",
       "      <th>pct_country_NGA</th>\n",
       "      <th>Country</th>\n",
       "      <th>Continent</th>\n",
       "      <th>Country Name</th>\n",
       "      <th>countries_missing</th>\n",
       "      <th>expanded_url</th>\n",
       "      <th>file_name</th>\n",
       "      <th>directory</th>\n",
       "      <th>subfolder</th>\n",
       "      <th>image_fp</th>\n",
       "    </tr>\n",
       "  </thead>\n",
       "  <tbody>\n",
       "    <tr>\n",
       "      <th>7</th>\n",
       "      <td>7fcd2920-4d0f-4c0f-b184-45574ab7cd4c</td>\n",
       "      <td>https://api.nga.gov/iiif/7fcd2920-4d0f-4c0f-b1...</td>\n",
       "      <td>https://api.nga.gov/iiif/7fcd2920-4d0f-4c0f-b1...</td>\n",
       "      <td>1.0</td>\n",
       "      <td>Aesacus and Hesperie</td>\n",
       "      <td>American, 1891 - 1979</td>\n",
       "      <td>donor</td>\n",
       "      <td>donor</td>\n",
       "      <td>Lessing Julius Rosenwald</td>\n",
       "      <td>1891.0</td>\n",
       "      <td>...</td>\n",
       "      <td>0.70489</td>\n",
       "      <td>US</td>\n",
       "      <td>NoA</td>\n",
       "      <td>United States</td>\n",
       "      <td>38.0</td>\n",
       "      <td>https://api.nga.gov/iiif/7fcd2920-4d0f-4c0f-b1...</td>\n",
       "      <td>Aesacus_and_Hesperie_Lessing_Julius_Rosenwald_...</td>\n",
       "      <td>../../../latinamerican-2-imagefolder-split/</td>\n",
       "      <td>train</td>\n",
       "      <td>../../../latinamerican-2-imagefolder-split/tra...</td>\n",
       "    </tr>\n",
       "    <tr>\n",
       "      <th>8</th>\n",
       "      <td>38eda221-c29b-4f68-9a14-e6ee5a75ad9e</td>\n",
       "      <td>https://api.nga.gov/iiif/38eda221-c29b-4f68-9a...</td>\n",
       "      <td>https://api.nga.gov/iiif/38eda221-c29b-4f68-9a...</td>\n",
       "      <td>1.0</td>\n",
       "      <td>Two Brooches with Bird and Winged Snake at Top...</td>\n",
       "      <td>American, 1891 - 1979</td>\n",
       "      <td>donor</td>\n",
       "      <td>donor</td>\n",
       "      <td>Lessing Julius Rosenwald</td>\n",
       "      <td>1891.0</td>\n",
       "      <td>...</td>\n",
       "      <td>0.70489</td>\n",
       "      <td>US</td>\n",
       "      <td>NoA</td>\n",
       "      <td>United States</td>\n",
       "      <td>38.0</td>\n",
       "      <td>https://api.nga.gov/iiif/38eda221-c29b-4f68-9a...</td>\n",
       "      <td>Two_Brooches_with_Bird_and_Winged_Snake_at_Top...</td>\n",
       "      <td>../../../latinamerican-2-imagefolder-split/</td>\n",
       "      <td>train</td>\n",
       "      <td>../../../latinamerican-2-imagefolder-split/tra...</td>\n",
       "    </tr>\n",
       "    <tr>\n",
       "      <th>9</th>\n",
       "      <td>e0001381-dc13-4ec9-9a44-d98371cdec9c</td>\n",
       "      <td>https://api.nga.gov/iiif/e0001381-dc13-4ec9-9a...</td>\n",
       "      <td>https://api.nga.gov/iiif/e0001381-dc13-4ec9-9a...</td>\n",
       "      <td>1.0</td>\n",
       "      <td>Little Smithfield</td>\n",
       "      <td>American, 1891 - 1979</td>\n",
       "      <td>owner</td>\n",
       "      <td>previous owner</td>\n",
       "      <td>Lessing Julius Rosenwald</td>\n",
       "      <td>1891.0</td>\n",
       "      <td>...</td>\n",
       "      <td>0.70489</td>\n",
       "      <td>US</td>\n",
       "      <td>NoA</td>\n",
       "      <td>United States</td>\n",
       "      <td>38.0</td>\n",
       "      <td>https://api.nga.gov/iiif/e0001381-dc13-4ec9-9a...</td>\n",
       "      <td>Little_Smithfield_Lessing_Julius_Rosenwald_109...</td>\n",
       "      <td>../../../latinamerican-2-imagefolder-split/</td>\n",
       "      <td>train</td>\n",
       "      <td>../../../latinamerican-2-imagefolder-split/tra...</td>\n",
       "    </tr>\n",
       "    <tr>\n",
       "      <th>10</th>\n",
       "      <td>b422c844-15a6-427c-87e6-c76794b606b7</td>\n",
       "      <td>https://api.nga.gov/iiif/b422c844-15a6-427c-87...</td>\n",
       "      <td>https://api.nga.gov/iiif/b422c844-15a6-427c-87...</td>\n",
       "      <td>1.0</td>\n",
       "      <td>Au fil de la marne</td>\n",
       "      <td>American, 1891 - 1979</td>\n",
       "      <td>donor</td>\n",
       "      <td>donor</td>\n",
       "      <td>Lessing Julius Rosenwald</td>\n",
       "      <td>1891.0</td>\n",
       "      <td>...</td>\n",
       "      <td>0.70489</td>\n",
       "      <td>US</td>\n",
       "      <td>NoA</td>\n",
       "      <td>United States</td>\n",
       "      <td>38.0</td>\n",
       "      <td>https://api.nga.gov/iiif/b422c844-15a6-427c-87...</td>\n",
       "      <td>Au_fil_de_la_marne_Lessing_Julius_Rosenwald_71...</td>\n",
       "      <td>../../../latinamerican-2-imagefolder-split/</td>\n",
       "      <td>train</td>\n",
       "      <td>../../../latinamerican-2-imagefolder-split/tra...</td>\n",
       "    </tr>\n",
       "    <tr>\n",
       "      <th>14</th>\n",
       "      <td>ee182ab6-9885-4edc-9f5a-0e44f692e8dd</td>\n",
       "      <td>https://api.nga.gov/iiif/ee182ab6-9885-4edc-9f...</td>\n",
       "      <td>https://api.nga.gov/iiif/ee182ab6-9885-4edc-9f...</td>\n",
       "      <td>1.0</td>\n",
       "      <td>Sheet of Studies. Profiles of Marie-Thérèse an...</td>\n",
       "      <td>American, 1891 - 1979</td>\n",
       "      <td>owner</td>\n",
       "      <td>previous owner</td>\n",
       "      <td>Lessing Julius Rosenwald</td>\n",
       "      <td>1891.0</td>\n",
       "      <td>...</td>\n",
       "      <td>0.70489</td>\n",
       "      <td>US</td>\n",
       "      <td>NoA</td>\n",
       "      <td>United States</td>\n",
       "      <td>38.0</td>\n",
       "      <td>https://api.nga.gov/iiif/ee182ab6-9885-4edc-9f...</td>\n",
       "      <td>Sheet_of_Studies._Profiles_of_Marie-Thérèse_an...</td>\n",
       "      <td>../../../latinamerican-2-imagefolder-split/</td>\n",
       "      <td>train</td>\n",
       "      <td>../../../latinamerican-2-imagefolder-split/tra...</td>\n",
       "    </tr>\n",
       "    <tr>\n",
       "      <th>...</th>\n",
       "      <td>...</td>\n",
       "      <td>...</td>\n",
       "      <td>...</td>\n",
       "      <td>...</td>\n",
       "      <td>...</td>\n",
       "      <td>...</td>\n",
       "      <td>...</td>\n",
       "      <td>...</td>\n",
       "      <td>...</td>\n",
       "      <td>...</td>\n",
       "      <td>...</td>\n",
       "      <td>...</td>\n",
       "      <td>...</td>\n",
       "      <td>...</td>\n",
       "      <td>...</td>\n",
       "      <td>...</td>\n",
       "      <td>...</td>\n",
       "      <td>...</td>\n",
       "      <td>...</td>\n",
       "      <td>...</td>\n",
       "      <td>...</td>\n",
       "    </tr>\n",
       "    <tr>\n",
       "      <th>34849</th>\n",
       "      <td>e1f54067-b73a-4e53-9430-f3539cf9c62b</td>\n",
       "      <td>https://api.nga.gov/iiif/e1f54067-b73a-4e53-94...</td>\n",
       "      <td>https://api.nga.gov/iiif/e1f54067-b73a-4e53-94...</td>\n",
       "      <td>1.0</td>\n",
       "      <td>Saint George Liberating the Princess</td>\n",
       "      <td>American, 1891 - 1979</td>\n",
       "      <td>donor</td>\n",
       "      <td>source</td>\n",
       "      <td>Lessing Julius Rosenwald</td>\n",
       "      <td>1891.0</td>\n",
       "      <td>...</td>\n",
       "      <td>0.70489</td>\n",
       "      <td>US</td>\n",
       "      <td>NoA</td>\n",
       "      <td>United States</td>\n",
       "      <td>38.0</td>\n",
       "      <td>https://api.nga.gov/iiif/e1f54067-b73a-4e53-94...</td>\n",
       "      <td>Saint_George_Liberating_the_Princess_Lessing_J...</td>\n",
       "      <td>../../../latinamerican-2-imagefolder-split/</td>\n",
       "      <td>test</td>\n",
       "      <td>../../../latinamerican-2-imagefolder-split/tes...</td>\n",
       "    </tr>\n",
       "    <tr>\n",
       "      <th>34850</th>\n",
       "      <td>cc210495-9964-48cc-ac69-a6ddbfc0584a</td>\n",
       "      <td>https://api.nga.gov/iiif/cc210495-9964-48cc-ac...</td>\n",
       "      <td>https://api.nga.gov/iiif/cc210495-9964-48cc-ac...</td>\n",
       "      <td>1.0</td>\n",
       "      <td>Hercules and the Cretan Bull</td>\n",
       "      <td>American, 1891 - 1979</td>\n",
       "      <td>donor</td>\n",
       "      <td>donor</td>\n",
       "      <td>Lessing Julius Rosenwald</td>\n",
       "      <td>1891.0</td>\n",
       "      <td>...</td>\n",
       "      <td>0.70489</td>\n",
       "      <td>US</td>\n",
       "      <td>NoA</td>\n",
       "      <td>United States</td>\n",
       "      <td>38.0</td>\n",
       "      <td>https://api.nga.gov/iiif/cc210495-9964-48cc-ac...</td>\n",
       "      <td>Hercules_and_the_Cretan_Bull_Lessing_Julius_Ro...</td>\n",
       "      <td>../../../latinamerican-2-imagefolder-split/</td>\n",
       "      <td>test</td>\n",
       "      <td>../../../latinamerican-2-imagefolder-split/tes...</td>\n",
       "    </tr>\n",
       "    <tr>\n",
       "      <th>34852</th>\n",
       "      <td>963d08ef-7b69-4b75-a68d-a726e17a66b2</td>\n",
       "      <td>https://api.nga.gov/iiif/963d08ef-7b69-4b75-a6...</td>\n",
       "      <td>https://api.nga.gov/iiif/963d08ef-7b69-4b75-a6...</td>\n",
       "      <td>1.0</td>\n",
       "      <td>Marechal de Turenne</td>\n",
       "      <td>American, 1891 - 1979</td>\n",
       "      <td>donor</td>\n",
       "      <td>donor</td>\n",
       "      <td>Lessing Julius Rosenwald</td>\n",
       "      <td>1891.0</td>\n",
       "      <td>...</td>\n",
       "      <td>0.70489</td>\n",
       "      <td>US</td>\n",
       "      <td>NoA</td>\n",
       "      <td>United States</td>\n",
       "      <td>38.0</td>\n",
       "      <td>https://api.nga.gov/iiif/963d08ef-7b69-4b75-a6...</td>\n",
       "      <td>Marechal_de_Turenne_Lessing_Julius_Rosenwald_9...</td>\n",
       "      <td>../../../latinamerican-2-imagefolder-split/</td>\n",
       "      <td>test</td>\n",
       "      <td>../../../latinamerican-2-imagefolder-split/tes...</td>\n",
       "    </tr>\n",
       "    <tr>\n",
       "      <th>34853</th>\n",
       "      <td>3658e42f-e713-4674-88c8-c1066eb20eb0</td>\n",
       "      <td>https://api.nga.gov/iiif/3658e42f-e713-4674-88...</td>\n",
       "      <td>https://api.nga.gov/iiif/3658e42f-e713-4674-88...</td>\n",
       "      <td>1.0</td>\n",
       "      <td>Jaime Sabartes' Dans l'Atelier de Picasso\"\"</td>\n",
       "      <td>American, 1891 - 1979</td>\n",
       "      <td>owner</td>\n",
       "      <td>previous owner</td>\n",
       "      <td>Lessing Julius Rosenwald</td>\n",
       "      <td>1891.0</td>\n",
       "      <td>...</td>\n",
       "      <td>0.70489</td>\n",
       "      <td>US</td>\n",
       "      <td>NoA</td>\n",
       "      <td>United States</td>\n",
       "      <td>38.0</td>\n",
       "      <td>https://api.nga.gov/iiif/3658e42f-e713-4674-88...</td>\n",
       "      <td>Jaime_Sabartes'_Dans_l'Atelier_de_Picasso\"\"_Le...</td>\n",
       "      <td>../../../latinamerican-2-imagefolder-split/</td>\n",
       "      <td>test</td>\n",
       "      <td>../../../latinamerican-2-imagefolder-split/tes...</td>\n",
       "    </tr>\n",
       "    <tr>\n",
       "      <th>34862</th>\n",
       "      <td>87b866a0-d320-4e2a-bfc5-4830811405d5</td>\n",
       "      <td>https://api.nga.gov/iiif/87b866a0-d320-4e2a-bf...</td>\n",
       "      <td>https://api.nga.gov/iiif/87b866a0-d320-4e2a-bf...</td>\n",
       "      <td>1.0</td>\n",
       "      <td>Broken Carousel</td>\n",
       "      <td>American, 1891 - 1979</td>\n",
       "      <td>donor</td>\n",
       "      <td>donor</td>\n",
       "      <td>Lessing Julius Rosenwald</td>\n",
       "      <td>1891.0</td>\n",
       "      <td>...</td>\n",
       "      <td>0.70489</td>\n",
       "      <td>US</td>\n",
       "      <td>NoA</td>\n",
       "      <td>United States</td>\n",
       "      <td>38.0</td>\n",
       "      <td>https://api.nga.gov/iiif/87b866a0-d320-4e2a-bf...</td>\n",
       "      <td>Broken_Carousel_Lessing_Julius_Rosenwald_39982...</td>\n",
       "      <td>../../../latinamerican-2-imagefolder-split/</td>\n",
       "      <td>test</td>\n",
       "      <td>../../../latinamerican-2-imagefolder-split/tes...</td>\n",
       "    </tr>\n",
       "  </tbody>\n",
       "</table>\n",
       "<p>12320 rows × 55 columns</p>\n",
       "</div>"
      ],
      "text/plain": [
       "                                       uuid  \\\n",
       "7      7fcd2920-4d0f-4c0f-b184-45574ab7cd4c   \n",
       "8      38eda221-c29b-4f68-9a14-e6ee5a75ad9e   \n",
       "9      e0001381-dc13-4ec9-9a44-d98371cdec9c   \n",
       "10     b422c844-15a6-427c-87e6-c76794b606b7   \n",
       "14     ee182ab6-9885-4edc-9f5a-0e44f692e8dd   \n",
       "...                                     ...   \n",
       "34849  e1f54067-b73a-4e53-9430-f3539cf9c62b   \n",
       "34850  cc210495-9964-48cc-ac69-a6ddbfc0584a   \n",
       "34852  963d08ef-7b69-4b75-a68d-a726e17a66b2   \n",
       "34853  3658e42f-e713-4674-88c8-c1066eb20eb0   \n",
       "34862  87b866a0-d320-4e2a-bfc5-4830811405d5   \n",
       "\n",
       "                                                 iiifurl  \\\n",
       "7      https://api.nga.gov/iiif/7fcd2920-4d0f-4c0f-b1...   \n",
       "8      https://api.nga.gov/iiif/38eda221-c29b-4f68-9a...   \n",
       "9      https://api.nga.gov/iiif/e0001381-dc13-4ec9-9a...   \n",
       "10     https://api.nga.gov/iiif/b422c844-15a6-427c-87...   \n",
       "14     https://api.nga.gov/iiif/ee182ab6-9885-4edc-9f...   \n",
       "...                                                  ...   \n",
       "34849  https://api.nga.gov/iiif/e1f54067-b73a-4e53-94...   \n",
       "34850  https://api.nga.gov/iiif/cc210495-9964-48cc-ac...   \n",
       "34852  https://api.nga.gov/iiif/963d08ef-7b69-4b75-a6...   \n",
       "34853  https://api.nga.gov/iiif/3658e42f-e713-4674-88...   \n",
       "34862  https://api.nga.gov/iiif/87b866a0-d320-4e2a-bf...   \n",
       "\n",
       "                                            iiifthumburl  accessioned  \\\n",
       "7      https://api.nga.gov/iiif/7fcd2920-4d0f-4c0f-b1...          1.0   \n",
       "8      https://api.nga.gov/iiif/38eda221-c29b-4f68-9a...          1.0   \n",
       "9      https://api.nga.gov/iiif/e0001381-dc13-4ec9-9a...          1.0   \n",
       "10     https://api.nga.gov/iiif/b422c844-15a6-427c-87...          1.0   \n",
       "14     https://api.nga.gov/iiif/ee182ab6-9885-4edc-9f...          1.0   \n",
       "...                                                  ...          ...   \n",
       "34849  https://api.nga.gov/iiif/e1f54067-b73a-4e53-94...          1.0   \n",
       "34850  https://api.nga.gov/iiif/cc210495-9964-48cc-ac...          1.0   \n",
       "34852  https://api.nga.gov/iiif/963d08ef-7b69-4b75-a6...          1.0   \n",
       "34853  https://api.nga.gov/iiif/3658e42f-e713-4674-88...          1.0   \n",
       "34862  https://api.nga.gov/iiif/87b866a0-d320-4e2a-bf...          1.0   \n",
       "\n",
       "                                                   title  \\\n",
       "7                                   Aesacus and Hesperie   \n",
       "8      Two Brooches with Bird and Winged Snake at Top...   \n",
       "9                                      Little Smithfield   \n",
       "10                                    Au fil de la marne   \n",
       "14     Sheet of Studies. Profiles of Marie-Thérèse an...   \n",
       "...                                                  ...   \n",
       "34849               Saint George Liberating the Princess   \n",
       "34850                       Hercules and the Cretan Bull   \n",
       "34852                                Marechal de Turenne   \n",
       "34853        Jaime Sabartes' Dans l'Atelier de Picasso\"\"   \n",
       "34862                                    Broken Carousel   \n",
       "\n",
       "         displayDate_created roletype            role  \\\n",
       "7      American, 1891 - 1979    donor           donor   \n",
       "8      American, 1891 - 1979    donor           donor   \n",
       "9      American, 1891 - 1979    owner  previous owner   \n",
       "10     American, 1891 - 1979    donor           donor   \n",
       "14     American, 1891 - 1979    owner  previous owner   \n",
       "...                      ...      ...             ...   \n",
       "34849  American, 1891 - 1979    donor          source   \n",
       "34850  American, 1891 - 1979    donor           donor   \n",
       "34852  American, 1891 - 1979    donor           donor   \n",
       "34853  American, 1891 - 1979    owner  previous owner   \n",
       "34862  American, 1891 - 1979    donor           donor   \n",
       "\n",
       "             forwarddisplayname  birthyear  ...  pct_country_NGA  Country  \\\n",
       "7      Lessing Julius Rosenwald     1891.0  ...          0.70489       US   \n",
       "8      Lessing Julius Rosenwald     1891.0  ...          0.70489       US   \n",
       "9      Lessing Julius Rosenwald     1891.0  ...          0.70489       US   \n",
       "10     Lessing Julius Rosenwald     1891.0  ...          0.70489       US   \n",
       "14     Lessing Julius Rosenwald     1891.0  ...          0.70489       US   \n",
       "...                         ...        ...  ...              ...      ...   \n",
       "34849  Lessing Julius Rosenwald     1891.0  ...          0.70489       US   \n",
       "34850  Lessing Julius Rosenwald     1891.0  ...          0.70489       US   \n",
       "34852  Lessing Julius Rosenwald     1891.0  ...          0.70489       US   \n",
       "34853  Lessing Julius Rosenwald     1891.0  ...          0.70489       US   \n",
       "34862  Lessing Julius Rosenwald     1891.0  ...          0.70489       US   \n",
       "\n",
       "       Continent   Country Name countries_missing  \\\n",
       "7            NoA  United States              38.0   \n",
       "8            NoA  United States              38.0   \n",
       "9            NoA  United States              38.0   \n",
       "10           NoA  United States              38.0   \n",
       "14           NoA  United States              38.0   \n",
       "...          ...            ...               ...   \n",
       "34849        NoA  United States              38.0   \n",
       "34850        NoA  United States              38.0   \n",
       "34852        NoA  United States              38.0   \n",
       "34853        NoA  United States              38.0   \n",
       "34862        NoA  United States              38.0   \n",
       "\n",
       "                                            expanded_url  \\\n",
       "7      https://api.nga.gov/iiif/7fcd2920-4d0f-4c0f-b1...   \n",
       "8      https://api.nga.gov/iiif/38eda221-c29b-4f68-9a...   \n",
       "9      https://api.nga.gov/iiif/e0001381-dc13-4ec9-9a...   \n",
       "10     https://api.nga.gov/iiif/b422c844-15a6-427c-87...   \n",
       "14     https://api.nga.gov/iiif/ee182ab6-9885-4edc-9f...   \n",
       "...                                                  ...   \n",
       "34849  https://api.nga.gov/iiif/e1f54067-b73a-4e53-94...   \n",
       "34850  https://api.nga.gov/iiif/cc210495-9964-48cc-ac...   \n",
       "34852  https://api.nga.gov/iiif/963d08ef-7b69-4b75-a6...   \n",
       "34853  https://api.nga.gov/iiif/3658e42f-e713-4674-88...   \n",
       "34862  https://api.nga.gov/iiif/87b866a0-d320-4e2a-bf...   \n",
       "\n",
       "                                               file_name  \\\n",
       "7      Aesacus_and_Hesperie_Lessing_Julius_Rosenwald_...   \n",
       "8      Two_Brooches_with_Bird_and_Winged_Snake_at_Top...   \n",
       "9      Little_Smithfield_Lessing_Julius_Rosenwald_109...   \n",
       "10     Au_fil_de_la_marne_Lessing_Julius_Rosenwald_71...   \n",
       "14     Sheet_of_Studies._Profiles_of_Marie-Thérèse_an...   \n",
       "...                                                  ...   \n",
       "34849  Saint_George_Liberating_the_Princess_Lessing_J...   \n",
       "34850  Hercules_and_the_Cretan_Bull_Lessing_Julius_Ro...   \n",
       "34852  Marechal_de_Turenne_Lessing_Julius_Rosenwald_9...   \n",
       "34853  Jaime_Sabartes'_Dans_l'Atelier_de_Picasso\"\"_Le...   \n",
       "34862  Broken_Carousel_Lessing_Julius_Rosenwald_39982...   \n",
       "\n",
       "                                         directory  subfolder  \\\n",
       "7      ../../../latinamerican-2-imagefolder-split/      train   \n",
       "8      ../../../latinamerican-2-imagefolder-split/      train   \n",
       "9      ../../../latinamerican-2-imagefolder-split/      train   \n",
       "10     ../../../latinamerican-2-imagefolder-split/      train   \n",
       "14     ../../../latinamerican-2-imagefolder-split/      train   \n",
       "...                                            ...        ...   \n",
       "34849  ../../../latinamerican-2-imagefolder-split/       test   \n",
       "34850  ../../../latinamerican-2-imagefolder-split/       test   \n",
       "34852  ../../../latinamerican-2-imagefolder-split/       test   \n",
       "34853  ../../../latinamerican-2-imagefolder-split/       test   \n",
       "34862  ../../../latinamerican-2-imagefolder-split/       test   \n",
       "\n",
       "                                                image_fp  \n",
       "7      ../../../latinamerican-2-imagefolder-split/tra...  \n",
       "8      ../../../latinamerican-2-imagefolder-split/tra...  \n",
       "9      ../../../latinamerican-2-imagefolder-split/tra...  \n",
       "10     ../../../latinamerican-2-imagefolder-split/tra...  \n",
       "14     ../../../latinamerican-2-imagefolder-split/tra...  \n",
       "...                                                  ...  \n",
       "34849  ../../../latinamerican-2-imagefolder-split/tes...  \n",
       "34850  ../../../latinamerican-2-imagefolder-split/tes...  \n",
       "34852  ../../../latinamerican-2-imagefolder-split/tes...  \n",
       "34853  ../../../latinamerican-2-imagefolder-split/tes...  \n",
       "34862  ../../../latinamerican-2-imagefolder-split/tes...  \n",
       "\n",
       "[12320 rows x 55 columns]"
      ]
     },
     "execution_count": 119,
     "metadata": {},
     "output_type": "execute_result"
    }
   ],
   "source": [
    "\n",
    "nonLa_image_metadata_sample.where(nonLa_image_metadata_sample.forwarddisplayname.apply(lambda x: 'Julius' in x)).dropna(how='all')"
   ]
  },
  {
   "cell_type": "code",
   "execution_count": 107,
   "metadata": {
    "collapsed": false,
    "jupyter": {
     "outputs_hidden": false
    },
    "pycharm": {
     "name": "#%%\n"
    }
   },
   "outputs": [
    {
     "name": "stdout",
     "output_type": "stream",
     "text": [
      "Download starting... please wait :)\n"
     ]
    },
    {
     "ename": "OSError",
     "evalue": "[Errno 36] File name too long: \"Et_l'homme_parut,_interrogeant_le_sol_d'ou__il_sort_et_qui_l'attire,_il_se_fraya_la_voie_vers_(And_Man_appeared;_questioning_theearth_from_which_he_emerged_and_which_attracts_hi_m,_he_made_his_way_toward_somber_brightness)_Lessing_Julius_Rosenwald_40263.jpg\"",
     "output_type": "error",
     "traceback": [
      "\u001b[0;31m---------------------------------------------------------------------------\u001b[0m",
      "\u001b[0;31mOSError\u001b[0m                                   Traceback (most recent call last)",
      "Cell \u001b[0;32mIn[107], line 28\u001b[0m\n\u001b[1;32m     25\u001b[0m     \u001b[38;5;66;03m# Download image\u001b[39;00m\n\u001b[1;32m     26\u001b[0m     \u001b[38;5;66;03m# timer delay (15 seconds)\u001b[39;00m\n\u001b[1;32m     27\u001b[0m     time\u001b[38;5;241m.\u001b[39msleep(\u001b[38;5;241m15\u001b[39m)\n\u001b[0;32m---> 28\u001b[0m     \u001b[43mdownload_image\u001b[49m\u001b[43m(\u001b[49m\u001b[43mexpanded_url\u001b[49m\u001b[43m,\u001b[49m\u001b[43m \u001b[49m\u001b[43mfp\u001b[49m\u001b[43m,\u001b[49m\u001b[43m \u001b[49m\u001b[43mfile_name\u001b[49m\u001b[43m,\u001b[49m\u001b[43m \u001b[49m\u001b[43mua_header\u001b[49m\u001b[43m)\u001b[49m\n\u001b[1;32m     31\u001b[0m \u001b[38;5;28mprint\u001b[39m(\u001b[38;5;124m\"\u001b[39m\u001b[38;5;124mDownload finished.\u001b[39m\u001b[38;5;124m\"\u001b[39m)\n",
      "Cell \u001b[0;32mIn[107], line 6\u001b[0m, in \u001b[0;36mdownload_image\u001b[0;34m(url, path, name, headers)\u001b[0m\n\u001b[1;32m      4\u001b[0m response \u001b[38;5;241m=\u001b[39m requests\u001b[38;5;241m.\u001b[39mget(url, headers\u001b[38;5;241m=\u001b[39mheaders)\n\u001b[1;32m      5\u001b[0m \u001b[38;5;28;01mif\u001b[39;00m response\u001b[38;5;241m.\u001b[39mstatus_code \u001b[38;5;241m==\u001b[39m \u001b[38;5;241m200\u001b[39m:\n\u001b[0;32m----> 6\u001b[0m     \u001b[38;5;28;01mwith\u001b[39;00m \u001b[38;5;28;43mopen\u001b[39;49m\u001b[43m(\u001b[49m\u001b[43mname\u001b[49m\u001b[43m,\u001b[49m\u001b[43m \u001b[49m\u001b[38;5;124;43m\"\u001b[39;49m\u001b[38;5;124;43mwb\u001b[39;49m\u001b[38;5;124;43m\"\u001b[39;49m\u001b[43m)\u001b[49m \u001b[38;5;28;01mas\u001b[39;00m f:\n\u001b[1;32m      7\u001b[0m         f\u001b[38;5;241m.\u001b[39mwrite(response\u001b[38;5;241m.\u001b[39mcontent)\n\u001b[1;32m      8\u001b[0m     shutil\u001b[38;5;241m.\u001b[39mmove(name, path)\n",
      "File \u001b[0;32m/home/test-user/external_drive/anaconda3/envs/test-env/lib/python3.10/site-packages/IPython/core/interactiveshell.py:284\u001b[0m, in \u001b[0;36m_modified_open\u001b[0;34m(file, *args, **kwargs)\u001b[0m\n\u001b[1;32m    277\u001b[0m \u001b[38;5;28;01mif\u001b[39;00m file \u001b[38;5;129;01min\u001b[39;00m {\u001b[38;5;241m0\u001b[39m, \u001b[38;5;241m1\u001b[39m, \u001b[38;5;241m2\u001b[39m}:\n\u001b[1;32m    278\u001b[0m     \u001b[38;5;28;01mraise\u001b[39;00m \u001b[38;5;167;01mValueError\u001b[39;00m(\n\u001b[1;32m    279\u001b[0m         \u001b[38;5;124mf\u001b[39m\u001b[38;5;124m\"\u001b[39m\u001b[38;5;124mIPython won\u001b[39m\u001b[38;5;124m'\u001b[39m\u001b[38;5;124mt let you open fd=\u001b[39m\u001b[38;5;132;01m{\u001b[39;00mfile\u001b[38;5;132;01m}\u001b[39;00m\u001b[38;5;124m by default \u001b[39m\u001b[38;5;124m\"\u001b[39m\n\u001b[1;32m    280\u001b[0m         \u001b[38;5;124m\"\u001b[39m\u001b[38;5;124mas it is likely to crash IPython. If you know what you are doing, \u001b[39m\u001b[38;5;124m\"\u001b[39m\n\u001b[1;32m    281\u001b[0m         \u001b[38;5;124m\"\u001b[39m\u001b[38;5;124myou can use builtins\u001b[39m\u001b[38;5;124m'\u001b[39m\u001b[38;5;124m open.\u001b[39m\u001b[38;5;124m\"\u001b[39m\n\u001b[1;32m    282\u001b[0m     )\n\u001b[0;32m--> 284\u001b[0m \u001b[38;5;28;01mreturn\u001b[39;00m \u001b[43mio_open\u001b[49m\u001b[43m(\u001b[49m\u001b[43mfile\u001b[49m\u001b[43m,\u001b[49m\u001b[43m \u001b[49m\u001b[38;5;241;43m*\u001b[39;49m\u001b[43margs\u001b[49m\u001b[43m,\u001b[49m\u001b[43m \u001b[49m\u001b[38;5;241;43m*\u001b[39;49m\u001b[38;5;241;43m*\u001b[39;49m\u001b[43mkwargs\u001b[49m\u001b[43m)\u001b[49m\n",
      "\u001b[0;31mOSError\u001b[0m: [Errno 36] File name too long: \"Et_l'homme_parut,_interrogeant_le_sol_d'ou__il_sort_et_qui_l'attire,_il_se_fraya_la_voie_vers_(And_Man_appeared;_questioning_theearth_from_which_he_emerged_and_which_attracts_hi_m,_he_made_his_way_toward_somber_brightness)_Lessing_Julius_Rosenwald_40263.jpg\""
     ]
    }
   ],
   "source": [
    "import shutil\n",
    "import requests\n",
    "def download_image(url, path, name, headers):\n",
    "    response = requests.get(url, headers=headers)\n",
    "    if response.status_code == 200:\n",
    "        with open(name, \"wb\") as f:\n",
    "            f.write(response.content)\n",
    "        shutil.move(name, path)\n",
    "    else:\n",
    "        print(response.status_code)\n",
    "        \n",
    "#Define HTTP Headers\n",
    "ua_header = {\n",
    "    \"User-Agent\": \"Chrome/51.0.2704.103\",\n",
    "}\n",
    "# this block now uses the la_image_fpaths table\n",
    "print(\"Download starting... please wait :)\")\n",
    "for i in range(0, len(nonLa_image_fpaths)):\n",
    "    \n",
    "    # Define URL of an image\n",
    "    expanded_url = nonLa_image_metadata_sample.expanded_url[i]\n",
    "    # Define image file name, file path to place\n",
    "    file_name = nonLa_image_fpaths.file_name[i]\n",
    "    fp = nonLa_image_fpaths.image_fp[i]\n",
    "    # Download image\n",
    "    # timer delay (15 seconds)\n",
    "    time.sleep(15)\n",
    "    download_image(expanded_url, fp, file_name, ua_header)\n",
    "    \n",
    "    \n",
    "print(\"Download finished.\")"
   ]
  },
  {
   "cell_type": "code",
   "execution_count": 79,
   "metadata": {
    "collapsed": false,
    "jupyter": {
     "outputs_hidden": false
    },
    "pycharm": {
     "name": "#%%\n"
    }
   },
   "outputs": [],
   "source": [
    "pa_nonLa_art.title = pa_nonLa_art.title.fillna('missing')\n",
    "pa_nonLa_art.lastname = pa_nonLa_art.lastname.fillna('missing')\n",
    "pa_nonLa_art['file_name'] = pa_nonLa_art.title.apply(lambda x: x.replace(' ', '_').replace('/', '&'))  + '_' + pa_nonLa_art.lastname.apply(lambda x: x.replace(' ', '_').replace('/', '&')) + '.jpg'"
   ]
  },
  {
   "cell_type": "markdown",
   "metadata": {
    "pycharm": {
     "name": "#%% md\n"
    }
   },
   "source": [
    "### Verifying File Names Correspond to the Dataset (Some Images Unable to be Downloaded)"
   ]
  },
  {
   "cell_type": "code",
   "execution_count": 81,
   "metadata": {
    "collapsed": false,
    "jupyter": {
     "outputs_hidden": false
    },
    "pycharm": {
     "name": "#%%\n"
    }
   },
   "outputs": [],
   "source": [
    "pa_nonLa_art['directory'] = ['../../non_laImages'] * len(pa_nonLa_art)"
   ]
  },
  {
   "cell_type": "code",
   "execution_count": 82,
   "metadata": {
    "collapsed": false,
    "jupyter": {
     "outputs_hidden": false
    },
    "pycharm": {
     "name": "#%%\n"
    }
   },
   "outputs": [],
   "source": [
    "#checking that the filepath / naming conventions I used are consistent\n",
    "from os.path import exists\n",
    "file_exists = []\n",
    "for i in range(len(pa_nonLa_art)):\n",
    "    directory = pa_nonLa_art.directory[i]\n",
    "    filename = pa_nonLa_art.file_name[i]\n",
    "    full = directory + '/' + filename\n",
    "    file_exists.append(exists(full))\n",
    "pa_nonLa_art['file_downloaded'] = file_exists"
   ]
  },
  {
   "cell_type": "code",
   "execution_count": 84,
   "metadata": {
    "collapsed": false,
    "jupyter": {
     "outputs_hidden": false
    },
    "pycharm": {
     "name": "#%%\n"
    }
   },
   "outputs": [
    {
     "data": {
      "text/plain": [
       "0.9883603238866396"
      ]
     },
     "execution_count": 84,
     "metadata": {},
     "output_type": "execute_result"
    }
   ],
   "source": [
    "pa_nonLa_art.file_downloaded.sum() / len(pa_nonLa_art)"
   ]
  },
  {
   "cell_type": "code",
   "execution_count": 85,
   "metadata": {
    "collapsed": false,
    "jupyter": {
     "outputs_hidden": false
    },
    "pycharm": {
     "name": "#%%\n"
    }
   },
   "outputs": [],
   "source": [
    "#dropping columns where file wasn't accessible\n",
    "pa_nonLa_art = pa_nonLa_art.where(pa_nonLa_art.file_downloaded).dropna(how='all')"
   ]
  },
  {
   "cell_type": "code",
   "execution_count": 89,
   "metadata": {
    "collapsed": false,
    "jupyter": {
     "outputs_hidden": false
    },
    "pycharm": {
     "name": "#%%\n"
    }
   },
   "outputs": [],
   "source": [
    "pa_nonLa_art.to_csv('../../data_samples/results/processed_subset_results/subsampled_nonLa_art.csv', index=False)"
   ]
  },
  {
   "cell_type": "code",
   "execution_count": null,
   "metadata": {
    "collapsed": false,
    "jupyter": {
     "outputs_hidden": false
    },
    "pycharm": {
     "name": "#%%\n"
    }
   },
   "outputs": [],
   "source": []
  }
 ],
 "metadata": {
  "kernelspec": {
   "display_name": "Python 3 (ipykernel)",
   "language": "python",
   "name": "python3"
  },
  "language_info": {
   "codemirror_mode": {
    "name": "ipython",
    "version": 3
   },
   "file_extension": ".py",
   "mimetype": "text/x-python",
   "name": "python",
   "nbconvert_exporter": "python",
   "pygments_lexer": "ipython3",
   "version": "3.10.9"
  }
 },
 "nbformat": 4,
 "nbformat_minor": 4
}
