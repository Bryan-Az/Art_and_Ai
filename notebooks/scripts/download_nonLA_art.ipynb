{
 "cells": [
  {
   "cell_type": "code",
   "execution_count": 1,
   "outputs": [],
   "source": [
    "import pandas as pd"
   ],
   "metadata": {
    "collapsed": false,
    "pycharm": {
     "name": "#%%\n"
    }
   }
  },
  {
   "cell_type": "code",
   "execution_count": 3,
   "outputs": [],
   "source": [
    "#using a premade subset/sample that is representative in diversity in country origin as parent dataset (excluding latin america)\n",
    "pa_nonLa_art = pd.read_csv('../../data_samples/results/processed_subset_results/nonLa_art_sample.csv')"
   ],
   "metadata": {
    "collapsed": false,
    "pycharm": {
     "name": "#%%\n"
    }
   }
  },
  {
   "cell_type": "markdown",
   "source": [
    "### Image Scraping"
   ],
   "metadata": {
    "collapsed": false,
    "pycharm": {
     "name": "#%% md\n"
    }
   }
  },
  {
   "cell_type": "code",
   "execution_count": 4,
   "outputs": [
    {
     "data": {
      "text/plain": "      objectid                                              title  \\\n0      43431.0                                               Fowl   \n1     204079.0                                      Caged Panther   \n2     132627.0                                       White Target   \n3      48779.0                                        Tanned Hide   \n4      72470.0                                       Modern Print   \n...        ...                                                ...   \n1971   52481.0                     Auch ein Todtentanz: Text Page   \n1972  220957.0                                               Poem   \n1973   44709.0  Constancy Holding a Staff and Resting on a Col...   \n1974    6829.0  \"Ah Mr. Hardy, Mr. Hardy, if you only knew all...   \n1975  156435.0                               Untitled (diagonals)   \n\n                                                 medium  \\\n0                         brass with cast iron supports   \n1              photogravure with drypoint on wove paper   \n2                     lithograph in black on wove paper   \n3                                    2-color lithograph   \n4     color lithograph and screenprint on Special Ar...   \n...                                                 ...   \n1971                                   typeset printing   \n1972           drypoint in black on Somerset wove paper   \n1973                                             bronze   \n1974                                           drypoint   \n1975  color aquatint with softground etching on wove...   \n\n                                             dimensions  \\\n0     overall with base: 52.3 × 18 × 46.9 cm, 30.391...   \n1     image: 35.24 × 50.48 cm (13 7/8 × 19 7/8 in.)\\...   \n2           sheet: 71.8 x 51.1 cm (28 1/4 x 20 1/8 in.)   \n3                                                   NaN   \n4     image: 61 x 61 cm (24 x 24 in.)\\nsheet: 78.8 x...   \n...                                                 ...   \n1971                                                NaN   \n1972  plate: 39.69 × 24.77 cm (15 5/8 × 9 3/4 in.)\\n...   \n1973  overall (diameter): 6.09 cm (2 3/8 in.)\\ngross...   \n1974                                                NaN   \n1975  plate: 45.72 x 33.02 cm (18 x 13 in.)\\nsheet: ...   \n\n                                            inscription  \\\n0                                                   NaN   \n1     lower left in graphite: 7/30; lower right in g...   \n2     lower left in graphite: TRIAL PROOF; lower rig...   \n3                                                   NaN   \n4     lower left in graphite: Gemini III; lower righ...   \n...                                                 ...   \n1971                                                NaN   \n1972  lower left in graphite: 3/40; lower center in ...   \n1973                          across bottom: CONSTANTIA   \n1974                                                NaN   \n1975  lower left in graphite: OKTP; lower right in g...   \n\n                                               markings  \\\n0                                                   NaN   \n1                                                   NaN   \n2     blind stamp: [chop of Universal Limited Art Ed...   \n3                                                   NaN   \n4     embossed lower right: © [Gemini G.E.L.]; stamp...   \n...                                                 ...   \n1971                                                NaN   \n1972  embossed lower left: [David Krut Workshop] [Ji...   \n1973                                                NaN   \n1974                                                NaN   \n1975                                                NaN   \n\n                        attributioninverted  \\\n0     Nigerian 18th Century, Court of Benin   \n1                        Kentridge, William   \n2                             Johns, Jasper   \n3                          Tamagami, Tsuneo   \n4                         Lichtenstein, Roy   \n...                                     ...   \n1971                         Rethel, Alfred   \n1972                          Bell, Deborah   \n1973                  Cristoforo di Geremia   \n1974                            Dyson, Will   \n1975                            Abts, Tomma   \n\n                                attribution  \\\n0     Nigerian 18th Century, Court of Benin   \n1                         William Kentridge   \n2                              Jasper Johns   \n3                           Tsuneo Tamagami   \n4                          Roy Lichtenstein   \n...                                     ...   \n1971                          Alfred Rethel   \n1972                           Deborah Bell   \n1973                  Cristoforo di Geremia   \n1974                             Will Dyson   \n1975                             Tomma Abts   \n\n                                         provenancetext  \\\n0     Obas of the Edo people, Kingdom of Benin, befo...   \n1     (Robert Brown Gallery, Arlington, VA); purchas...   \n2     the artist, Sharon, Connecticut; acquired 2004...   \n3                                                   NaN   \n4     Gemini G.E.L., Los Angeles, California; acquir...   \n...                                                 ...   \n1971                                                NaN   \n1972  Christopher and Beverly With, Washington, D.C....   \n1973  Gustave Dreyfus [1837-1914], Paris; his heirs;...   \n1974                                                NaN   \n1975     Kathan Brown, San Francisco; gift to NGA, 2011   \n\n                                             creditline  ...  \\\n0              Gift of Mr. and Mrs. Winston F. C. Guest  ...   \n1     Thomas G. Klarner Collection, Gift of Neal Tur...  ...   \n2     Patrons' Permanent Fund and Special Friends of...  ...   \n3                                  Rosenwald Collection  ...   \n4                  Gift of Gemini G.E.L. and the Artist  ...   \n...                                                 ...  ...   \n1971                            Ailsa Mellon Bruce Fund  ...   \n1972  Gift of Christopher and Beverly With in memory...  ...   \n1973                         Samuel H. Kress Collection  ...   \n1974                               Rosenwald Collection  ...   \n1975                               Gift of Kathan Brown  ...   \n\n       preferreddisplayname     forwarddisplayname               lastname  \\\n0     Nigerian 18th Century  Nigerian 18th Century  Nigerian 18th Century   \n1        Kentridge, William      William Kentridge              Kentridge   \n2               Genis, Fred             Fred Genis                  Genis   \n3          Tamagami, Tsuneo        Tsuneo Tamagami               Tamagami   \n4           Dressen, Robert         Robert Dressen                Dressen   \n...                     ...                    ...                    ...   \n1971         Rethel, Alfred          Alfred Rethel                 Rethel   \n1972          Ross, Jillian           Jillian Ross                   Ross   \n1973  Cristoforo di Geremia  Cristoforo di Geremia  Cristoforo di Geremia   \n1974            Dyson, Will             Will Dyson                  Dyson   \n1975            Abts, Tomma             Tomma Abts                   Abts   \n\n        nationality constituenttype  \\\n0          Nigerian       anonymous   \n1     South African      individual   \n2        Australian      individual   \n3          Japanese      individual   \n4          American      individual   \n...             ...             ...   \n1971         German      individual   \n1972  South African      individual   \n1973        Italian      individual   \n1974     Australian      individual   \n1975         German      individual   \n\n                                           expanded_url  percent_fromCountry  \\\n0     https://api.nga.gov/iiif/ac553bca-1808-469c-a0...             0.000015   \n1     https://api.nga.gov/iiif/9902cc6d-81d3-4de1-be...             0.000176   \n2     https://api.nga.gov/iiif/9a4b2e60-5505-4766-8c...             0.000356   \n3     https://api.nga.gov/iiif/14c93846-ac93-4f1a-b6...             0.001668   \n4     https://api.nga.gov/iiif/ae4712b9-ca98-42c9-94...             0.709936   \n...                                                 ...                  ...   \n1971  https://api.nga.gov/iiif/32b7c514-f5a5-4b61-93...             0.040764   \n1972  https://api.nga.gov/iiif/9c8e4384-f711-4997-a1...             0.000176   \n1973  https://api.nga.gov/iiif/b53ba8ca-41a9-48e7-be...             0.045247   \n1974  https://api.nga.gov/iiif/9b625788-593a-4e9a-9c...             0.000356   \n1975  https://api.nga.gov/iiif/1e6b9b6b-3c9c-4ef5-a5...             0.040764   \n\n       Country Name  Country      Continent  \n0           Nigeria       NG         Africa  \n1      South Africa       ZA         Africa  \n2         Australia       AU        Oceania  \n3             Japan       JP           Asia  \n4     United States       US  North America  \n...             ...      ...            ...  \n1971        Germany       DE         Europe  \n1972   South Africa       ZA         Africa  \n1973          Italy       IT         Europe  \n1974      Australia       AU        Oceania  \n1975        Germany       DE         Europe  \n\n[1976 rows x 34 columns]",
      "text/html": "<div>\n<style scoped>\n    .dataframe tbody tr th:only-of-type {\n        vertical-align: middle;\n    }\n\n    .dataframe tbody tr th {\n        vertical-align: top;\n    }\n\n    .dataframe thead th {\n        text-align: right;\n    }\n</style>\n<table border=\"1\" class=\"dataframe\">\n  <thead>\n    <tr style=\"text-align: right;\">\n      <th></th>\n      <th>objectid</th>\n      <th>title</th>\n      <th>medium</th>\n      <th>dimensions</th>\n      <th>inscription</th>\n      <th>markings</th>\n      <th>attributioninverted</th>\n      <th>attribution</th>\n      <th>provenancetext</th>\n      <th>creditline</th>\n      <th>...</th>\n      <th>preferreddisplayname</th>\n      <th>forwarddisplayname</th>\n      <th>lastname</th>\n      <th>nationality</th>\n      <th>constituenttype</th>\n      <th>expanded_url</th>\n      <th>percent_fromCountry</th>\n      <th>Country Name</th>\n      <th>Country</th>\n      <th>Continent</th>\n    </tr>\n  </thead>\n  <tbody>\n    <tr>\n      <th>0</th>\n      <td>43431.0</td>\n      <td>Fowl</td>\n      <td>brass with cast iron supports</td>\n      <td>overall with base: 52.3 × 18 × 46.9 cm, 30.391...</td>\n      <td>NaN</td>\n      <td>NaN</td>\n      <td>Nigerian 18th Century, Court of Benin</td>\n      <td>Nigerian 18th Century, Court of Benin</td>\n      <td>Obas of the Edo people, Kingdom of Benin, befo...</td>\n      <td>Gift of Mr. and Mrs. Winston F. C. Guest</td>\n      <td>...</td>\n      <td>Nigerian 18th Century</td>\n      <td>Nigerian 18th Century</td>\n      <td>Nigerian 18th Century</td>\n      <td>Nigerian</td>\n      <td>anonymous</td>\n      <td>https://api.nga.gov/iiif/ac553bca-1808-469c-a0...</td>\n      <td>0.000015</td>\n      <td>Nigeria</td>\n      <td>NG</td>\n      <td>Africa</td>\n    </tr>\n    <tr>\n      <th>1</th>\n      <td>204079.0</td>\n      <td>Caged Panther</td>\n      <td>photogravure with drypoint on wove paper</td>\n      <td>image: 35.24 × 50.48 cm (13 7/8 × 19 7/8 in.)\\...</td>\n      <td>lower left in graphite: 7/30; lower right in g...</td>\n      <td>NaN</td>\n      <td>Kentridge, William</td>\n      <td>William Kentridge</td>\n      <td>(Robert Brown Gallery, Arlington, VA); purchas...</td>\n      <td>Thomas G. Klarner Collection, Gift of Neal Tur...</td>\n      <td>...</td>\n      <td>Kentridge, William</td>\n      <td>William Kentridge</td>\n      <td>Kentridge</td>\n      <td>South African</td>\n      <td>individual</td>\n      <td>https://api.nga.gov/iiif/9902cc6d-81d3-4de1-be...</td>\n      <td>0.000176</td>\n      <td>South Africa</td>\n      <td>ZA</td>\n      <td>Africa</td>\n    </tr>\n    <tr>\n      <th>2</th>\n      <td>132627.0</td>\n      <td>White Target</td>\n      <td>lithograph in black on wove paper</td>\n      <td>sheet: 71.8 x 51.1 cm (28 1/4 x 20 1/8 in.)</td>\n      <td>lower left in graphite: TRIAL PROOF; lower rig...</td>\n      <td>blind stamp: [chop of Universal Limited Art Ed...</td>\n      <td>Johns, Jasper</td>\n      <td>Jasper Johns</td>\n      <td>the artist, Sharon, Connecticut; acquired 2004...</td>\n      <td>Patrons' Permanent Fund and Special Friends of...</td>\n      <td>...</td>\n      <td>Genis, Fred</td>\n      <td>Fred Genis</td>\n      <td>Genis</td>\n      <td>Australian</td>\n      <td>individual</td>\n      <td>https://api.nga.gov/iiif/9a4b2e60-5505-4766-8c...</td>\n      <td>0.000356</td>\n      <td>Australia</td>\n      <td>AU</td>\n      <td>Oceania</td>\n    </tr>\n    <tr>\n      <th>3</th>\n      <td>48779.0</td>\n      <td>Tanned Hide</td>\n      <td>2-color lithograph</td>\n      <td>NaN</td>\n      <td>NaN</td>\n      <td>NaN</td>\n      <td>Tamagami, Tsuneo</td>\n      <td>Tsuneo Tamagami</td>\n      <td>NaN</td>\n      <td>Rosenwald Collection</td>\n      <td>...</td>\n      <td>Tamagami, Tsuneo</td>\n      <td>Tsuneo Tamagami</td>\n      <td>Tamagami</td>\n      <td>Japanese</td>\n      <td>individual</td>\n      <td>https://api.nga.gov/iiif/14c93846-ac93-4f1a-b6...</td>\n      <td>0.001668</td>\n      <td>Japan</td>\n      <td>JP</td>\n      <td>Asia</td>\n    </tr>\n    <tr>\n      <th>4</th>\n      <td>72470.0</td>\n      <td>Modern Print</td>\n      <td>color lithograph and screenprint on Special Ar...</td>\n      <td>image: 61 x 61 cm (24 x 24 in.)\\nsheet: 78.8 x...</td>\n      <td>lower left in graphite: Gemini III; lower righ...</td>\n      <td>embossed lower right: © [Gemini G.E.L.]; stamp...</td>\n      <td>Lichtenstein, Roy</td>\n      <td>Roy Lichtenstein</td>\n      <td>Gemini G.E.L., Los Angeles, California; acquir...</td>\n      <td>Gift of Gemini G.E.L. and the Artist</td>\n      <td>...</td>\n      <td>Dressen, Robert</td>\n      <td>Robert Dressen</td>\n      <td>Dressen</td>\n      <td>American</td>\n      <td>individual</td>\n      <td>https://api.nga.gov/iiif/ae4712b9-ca98-42c9-94...</td>\n      <td>0.709936</td>\n      <td>United States</td>\n      <td>US</td>\n      <td>North America</td>\n    </tr>\n    <tr>\n      <th>...</th>\n      <td>...</td>\n      <td>...</td>\n      <td>...</td>\n      <td>...</td>\n      <td>...</td>\n      <td>...</td>\n      <td>...</td>\n      <td>...</td>\n      <td>...</td>\n      <td>...</td>\n      <td>...</td>\n      <td>...</td>\n      <td>...</td>\n      <td>...</td>\n      <td>...</td>\n      <td>...</td>\n      <td>...</td>\n      <td>...</td>\n      <td>...</td>\n      <td>...</td>\n      <td>...</td>\n    </tr>\n    <tr>\n      <th>1971</th>\n      <td>52481.0</td>\n      <td>Auch ein Todtentanz: Text Page</td>\n      <td>typeset printing</td>\n      <td>NaN</td>\n      <td>NaN</td>\n      <td>NaN</td>\n      <td>Rethel, Alfred</td>\n      <td>Alfred Rethel</td>\n      <td>NaN</td>\n      <td>Ailsa Mellon Bruce Fund</td>\n      <td>...</td>\n      <td>Rethel, Alfred</td>\n      <td>Alfred Rethel</td>\n      <td>Rethel</td>\n      <td>German</td>\n      <td>individual</td>\n      <td>https://api.nga.gov/iiif/32b7c514-f5a5-4b61-93...</td>\n      <td>0.040764</td>\n      <td>Germany</td>\n      <td>DE</td>\n      <td>Europe</td>\n    </tr>\n    <tr>\n      <th>1972</th>\n      <td>220957.0</td>\n      <td>Poem</td>\n      <td>drypoint in black on Somerset wove paper</td>\n      <td>plate: 39.69 × 24.77 cm (15 5/8 × 9 3/4 in.)\\n...</td>\n      <td>lower left in graphite: 3/40; lower center in ...</td>\n      <td>embossed lower left: [David Krut Workshop] [Ji...</td>\n      <td>Bell, Deborah</td>\n      <td>Deborah Bell</td>\n      <td>Christopher and Beverly With, Washington, D.C....</td>\n      <td>Gift of Christopher and Beverly With in memory...</td>\n      <td>...</td>\n      <td>Ross, Jillian</td>\n      <td>Jillian Ross</td>\n      <td>Ross</td>\n      <td>South African</td>\n      <td>individual</td>\n      <td>https://api.nga.gov/iiif/9c8e4384-f711-4997-a1...</td>\n      <td>0.000176</td>\n      <td>South Africa</td>\n      <td>ZA</td>\n      <td>Africa</td>\n    </tr>\n    <tr>\n      <th>1973</th>\n      <td>44709.0</td>\n      <td>Constancy Holding a Staff and Resting on a Col...</td>\n      <td>bronze</td>\n      <td>overall (diameter): 6.09 cm (2 3/8 in.)\\ngross...</td>\n      <td>across bottom: CONSTANTIA</td>\n      <td>NaN</td>\n      <td>Cristoforo di Geremia</td>\n      <td>Cristoforo di Geremia</td>\n      <td>Gustave Dreyfus [1837-1914], Paris; his heirs;...</td>\n      <td>Samuel H. Kress Collection</td>\n      <td>...</td>\n      <td>Cristoforo di Geremia</td>\n      <td>Cristoforo di Geremia</td>\n      <td>Cristoforo di Geremia</td>\n      <td>Italian</td>\n      <td>individual</td>\n      <td>https://api.nga.gov/iiif/b53ba8ca-41a9-48e7-be...</td>\n      <td>0.045247</td>\n      <td>Italy</td>\n      <td>IT</td>\n      <td>Europe</td>\n    </tr>\n    <tr>\n      <th>1974</th>\n      <td>6829.0</td>\n      <td>\"Ah Mr. Hardy, Mr. Hardy, if you only knew all...</td>\n      <td>drypoint</td>\n      <td>NaN</td>\n      <td>NaN</td>\n      <td>NaN</td>\n      <td>Dyson, Will</td>\n      <td>Will Dyson</td>\n      <td>NaN</td>\n      <td>Rosenwald Collection</td>\n      <td>...</td>\n      <td>Dyson, Will</td>\n      <td>Will Dyson</td>\n      <td>Dyson</td>\n      <td>Australian</td>\n      <td>individual</td>\n      <td>https://api.nga.gov/iiif/9b625788-593a-4e9a-9c...</td>\n      <td>0.000356</td>\n      <td>Australia</td>\n      <td>AU</td>\n      <td>Oceania</td>\n    </tr>\n    <tr>\n      <th>1975</th>\n      <td>156435.0</td>\n      <td>Untitled (diagonals)</td>\n      <td>color aquatint with softground etching on wove...</td>\n      <td>plate: 45.72 x 33.02 cm (18 x 13 in.)\\nsheet: ...</td>\n      <td>lower left in graphite: OKTP; lower right in g...</td>\n      <td>NaN</td>\n      <td>Abts, Tomma</td>\n      <td>Tomma Abts</td>\n      <td>Kathan Brown, San Francisco; gift to NGA, 2011</td>\n      <td>Gift of Kathan Brown</td>\n      <td>...</td>\n      <td>Abts, Tomma</td>\n      <td>Tomma Abts</td>\n      <td>Abts</td>\n      <td>German</td>\n      <td>individual</td>\n      <td>https://api.nga.gov/iiif/1e6b9b6b-3c9c-4ef5-a5...</td>\n      <td>0.040764</td>\n      <td>Germany</td>\n      <td>DE</td>\n      <td>Europe</td>\n    </tr>\n  </tbody>\n</table>\n<p>1976 rows × 34 columns</p>\n</div>"
     },
     "execution_count": 4,
     "metadata": {},
     "output_type": "execute_result"
    }
   ],
   "source": [
    "pa_nonLa_art"
   ],
   "metadata": {
    "collapsed": false,
    "pycharm": {
     "name": "#%%\n"
    }
   }
  },
  {
   "cell_type": "code",
   "execution_count": 72,
   "outputs": [
    {
     "name": "stdout",
     "output_type": "stream",
     "text": [
      "Ginsberg\n",
      "Wedding party, New York Municipal Building Marriage Chambers, waiting room-- second row Simon Pettet poet bridegroom, eternal flower child Rosebud Feliu bride, her son Harley Flanagan of Cro-Mags and his friend Manon Brière, maid of honor with glasses; front row Luc Sante essayist, Maria Saavedra and her fiancé best man Steven Taylor, mid-day, August 1984.\n"
     ]
    },
    {
     "ename": "KeyboardInterrupt",
     "evalue": "",
     "output_type": "error",
     "traceback": [
      "\u001B[0;31m---------------------------------------------------------------------------\u001B[0m",
      "\u001B[0;31mKeyboardInterrupt\u001B[0m                         Traceback (most recent call last)",
      "\u001B[0;32m/var/folders/b8/b_prs9t152qc96jlgz5zhwt00000gn/T/ipykernel_78193/1173578084.py\u001B[0m in \u001B[0;36m<module>\u001B[0;34m\u001B[0m\n\u001B[1;32m     34\u001B[0m     \u001B[0;31m# Download image\u001B[0m\u001B[0;34m\u001B[0m\u001B[0;34m\u001B[0m\u001B[0;34m\u001B[0m\u001B[0m\n\u001B[1;32m     35\u001B[0m     \u001B[0;31m#timer delay (15 seconds)\u001B[0m\u001B[0;34m\u001B[0m\u001B[0;34m\u001B[0m\u001B[0;34m\u001B[0m\u001B[0m\n\u001B[0;32m---> 36\u001B[0;31m     \u001B[0mtime\u001B[0m\u001B[0;34m.\u001B[0m\u001B[0msleep\u001B[0m\u001B[0;34m(\u001B[0m\u001B[0;36m15\u001B[0m\u001B[0;34m)\u001B[0m\u001B[0;34m\u001B[0m\u001B[0;34m\u001B[0m\u001B[0m\n\u001B[0m\u001B[1;32m     37\u001B[0m     \u001B[0mdownload_image\u001B[0m\u001B[0;34m(\u001B[0m\u001B[0murl\u001B[0m\u001B[0;34m,\u001B[0m \u001B[0mfile_name\u001B[0m\u001B[0;34m,\u001B[0m \u001B[0mheaders\u001B[0m\u001B[0;34m)\u001B[0m\u001B[0;34m\u001B[0m\u001B[0;34m\u001B[0m\u001B[0m\n\u001B[1;32m     38\u001B[0m \u001B[0mpa_nonLa_art\u001B[0m\u001B[0;34m.\u001B[0m\u001B[0mtitle\u001B[0m \u001B[0;34m=\u001B[0m \u001B[0mpa_nonLa_art\u001B[0m\u001B[0;34m.\u001B[0m\u001B[0mtitle\u001B[0m\u001B[0;34m.\u001B[0m\u001B[0mfillna\u001B[0m\u001B[0;34m(\u001B[0m\u001B[0;34m'missing'\u001B[0m\u001B[0;34m)\u001B[0m\u001B[0;34m\u001B[0m\u001B[0;34m\u001B[0m\u001B[0m\n",
      "\u001B[0;31mKeyboardInterrupt\u001B[0m: "
     ]
    }
   ],
   "source": [
    "import shutil\n",
    "import requests\n",
    "def download_image(url, file_name, headers):\n",
    "    response = requests.get(url, headers=headers)\n",
    "    if response.status_code == 200:\n",
    "        with open(file_name, \"wb\") as f:\n",
    "            f.write(response.content)\n",
    "        shutil.move(file_name,'../../non_laImages/' + file_name)\n",
    "    else:\n",
    "        print(response.status_code)\n",
    "#Define HTTP Headers\n",
    "headers = {\n",
    "    \"User-Agent\": \"Chrome/51.0.2704.103\",\n",
    "}\n",
    "import time\n",
    "for i in range(1955, len(pa_nonLa_art)):\n",
    "    #Define URL of an image\n",
    "    url = pa_nonLa_art.expanded_url[i]\n",
    "    # Define image file name\n",
    "    #check for nans in last name or title\n",
    "    title = 'missing'\n",
    "    last_name = 'missing'\n",
    "    if isinstance(pa_nonLa_art.title[i], str):\n",
    "        title = pa_nonLa_art.title[i]\n",
    "    if isinstance(pa_nonLa_art.lastname[i], str):\n",
    "        last_name = pa_nonLa_art.lastname[i]\n",
    "    file_name = str.replace(title, ' ', '_').replace('/', '&') + '_' + str.replace(last_name, ' ', '_').replace('/', '&') + '.jpg'\n",
    "    if len(file_name[:-4]) > 250:\n",
    "        num_remove = len(file_name[:-4]) - 250\n",
    "        file_name = file_name[:-(4 + num_remove)] + '.jpg'\n",
    "    if isinstance(last_name, str) & isinstance(title, str):\n",
    "        print(last_name)\n",
    "        print(title)\n",
    "    # Download image\n",
    "    #timer delay (15 seconds)\n",
    "    time.sleep(15)\n",
    "    download_image(url, file_name, headers)"
   ],
   "metadata": {
    "collapsed": false,
    "pycharm": {
     "name": "#%%\n"
    }
   }
  },
  {
   "cell_type": "code",
   "execution_count": 79,
   "outputs": [],
   "source": [
    "pa_nonLa_art.title = pa_nonLa_art.title.fillna('missing')\n",
    "pa_nonLa_art.lastname = pa_nonLa_art.lastname.fillna('missing')\n",
    "pa_nonLa_art['file_name'] = pa_nonLa_art.title.apply(lambda x: x.replace(' ', '_').replace('/', '&'))  + '_' + pa_nonLa_art.lastname.apply(lambda x: x.replace(' ', '_').replace('/', '&')) + '.jpg'"
   ],
   "metadata": {
    "collapsed": false,
    "pycharm": {
     "name": "#%%\n"
    }
   }
  },
  {
   "cell_type": "code",
   "execution_count": 80,
   "outputs": [
    {
     "data": {
      "text/plain": "      objectid                                              title  \\\n0      43431.0                                               Fowl   \n1     204079.0                                      Caged Panther   \n2     132627.0                                       White Target   \n3      48779.0                                        Tanned Hide   \n4      72470.0                                       Modern Print   \n...        ...                                                ...   \n1971   52481.0                     Auch ein Todtentanz: Text Page   \n1972  220957.0                                               Poem   \n1973   44709.0  Constancy Holding a Staff and Resting on a Col...   \n1974    6829.0  \"Ah Mr. Hardy, Mr. Hardy, if you only knew all...   \n1975  156435.0                               Untitled (diagonals)   \n\n                                                 medium  \\\n0                         brass with cast iron supports   \n1              photogravure with drypoint on wove paper   \n2                     lithograph in black on wove paper   \n3                                    2-color lithograph   \n4     color lithograph and screenprint on Special Ar...   \n...                                                 ...   \n1971                                   typeset printing   \n1972           drypoint in black on Somerset wove paper   \n1973                                             bronze   \n1974                                           drypoint   \n1975  color aquatint with softground etching on wove...   \n\n                                             dimensions  \\\n0     overall with base: 52.3 × 18 × 46.9 cm, 30.391...   \n1     image: 35.24 × 50.48 cm (13 7/8 × 19 7/8 in.)\\...   \n2           sheet: 71.8 x 51.1 cm (28 1/4 x 20 1/8 in.)   \n3                                                   NaN   \n4     image: 61 x 61 cm (24 x 24 in.)\\nsheet: 78.8 x...   \n...                                                 ...   \n1971                                                NaN   \n1972  plate: 39.69 × 24.77 cm (15 5/8 × 9 3/4 in.)\\n...   \n1973  overall (diameter): 6.09 cm (2 3/8 in.)\\ngross...   \n1974                                                NaN   \n1975  plate: 45.72 x 33.02 cm (18 x 13 in.)\\nsheet: ...   \n\n                                            inscription  \\\n0                                                   NaN   \n1     lower left in graphite: 7/30; lower right in g...   \n2     lower left in graphite: TRIAL PROOF; lower rig...   \n3                                                   NaN   \n4     lower left in graphite: Gemini III; lower righ...   \n...                                                 ...   \n1971                                                NaN   \n1972  lower left in graphite: 3/40; lower center in ...   \n1973                          across bottom: CONSTANTIA   \n1974                                                NaN   \n1975  lower left in graphite: OKTP; lower right in g...   \n\n                                               markings  \\\n0                                                   NaN   \n1                                                   NaN   \n2     blind stamp: [chop of Universal Limited Art Ed...   \n3                                                   NaN   \n4     embossed lower right: © [Gemini G.E.L.]; stamp...   \n...                                                 ...   \n1971                                                NaN   \n1972  embossed lower left: [David Krut Workshop] [Ji...   \n1973                                                NaN   \n1974                                                NaN   \n1975                                                NaN   \n\n                        attributioninverted  \\\n0     Nigerian 18th Century, Court of Benin   \n1                        Kentridge, William   \n2                             Johns, Jasper   \n3                          Tamagami, Tsuneo   \n4                         Lichtenstein, Roy   \n...                                     ...   \n1971                         Rethel, Alfred   \n1972                          Bell, Deborah   \n1973                  Cristoforo di Geremia   \n1974                            Dyson, Will   \n1975                            Abts, Tomma   \n\n                                attribution  \\\n0     Nigerian 18th Century, Court of Benin   \n1                         William Kentridge   \n2                              Jasper Johns   \n3                           Tsuneo Tamagami   \n4                          Roy Lichtenstein   \n...                                     ...   \n1971                          Alfred Rethel   \n1972                           Deborah Bell   \n1973                  Cristoforo di Geremia   \n1974                             Will Dyson   \n1975                             Tomma Abts   \n\n                                         provenancetext  \\\n0     Obas of the Edo people, Kingdom of Benin, befo...   \n1     (Robert Brown Gallery, Arlington, VA); purchas...   \n2     the artist, Sharon, Connecticut; acquired 2004...   \n3                                                   NaN   \n4     Gemini G.E.L., Los Angeles, California; acquir...   \n...                                                 ...   \n1971                                                NaN   \n1972  Christopher and Beverly With, Washington, D.C....   \n1973  Gustave Dreyfus [1837-1914], Paris; his heirs;...   \n1974                                                NaN   \n1975     Kathan Brown, San Francisco; gift to NGA, 2011   \n\n                                             creditline  ...  \\\n0              Gift of Mr. and Mrs. Winston F. C. Guest  ...   \n1     Thomas G. Klarner Collection, Gift of Neal Tur...  ...   \n2     Patrons' Permanent Fund and Special Friends of...  ...   \n3                                  Rosenwald Collection  ...   \n4                  Gift of Gemini G.E.L. and the Artist  ...   \n...                                                 ...  ...   \n1971                            Ailsa Mellon Bruce Fund  ...   \n1972  Gift of Christopher and Beverly With in memory...  ...   \n1973                         Samuel H. Kress Collection  ...   \n1974                               Rosenwald Collection  ...   \n1975                               Gift of Kathan Brown  ...   \n\n         forwarddisplayname               lastname    nationality  \\\n0     Nigerian 18th Century  Nigerian 18th Century       Nigerian   \n1         William Kentridge              Kentridge  South African   \n2                Fred Genis                  Genis     Australian   \n3           Tsuneo Tamagami               Tamagami       Japanese   \n4            Robert Dressen                Dressen       American   \n...                     ...                    ...            ...   \n1971          Alfred Rethel                 Rethel         German   \n1972           Jillian Ross                   Ross  South African   \n1973  Cristoforo di Geremia  Cristoforo di Geremia        Italian   \n1974             Will Dyson                  Dyson     Australian   \n1975             Tomma Abts                   Abts         German   \n\n     constituenttype                                       expanded_url  \\\n0          anonymous  https://api.nga.gov/iiif/ac553bca-1808-469c-a0...   \n1         individual  https://api.nga.gov/iiif/9902cc6d-81d3-4de1-be...   \n2         individual  https://api.nga.gov/iiif/9a4b2e60-5505-4766-8c...   \n3         individual  https://api.nga.gov/iiif/14c93846-ac93-4f1a-b6...   \n4         individual  https://api.nga.gov/iiif/ae4712b9-ca98-42c9-94...   \n...              ...                                                ...   \n1971      individual  https://api.nga.gov/iiif/32b7c514-f5a5-4b61-93...   \n1972      individual  https://api.nga.gov/iiif/9c8e4384-f711-4997-a1...   \n1973      individual  https://api.nga.gov/iiif/b53ba8ca-41a9-48e7-be...   \n1974      individual  https://api.nga.gov/iiif/9b625788-593a-4e9a-9c...   \n1975      individual  https://api.nga.gov/iiif/1e6b9b6b-3c9c-4ef5-a5...   \n\n      percent_fromCountry   Country Name  Country      Continent  \\\n0                0.000015        Nigeria       NG         Africa   \n1                0.000176   South Africa       ZA         Africa   \n2                0.000356      Australia       AU        Oceania   \n3                0.001668          Japan       JP           Asia   \n4                0.709936  United States       US  North America   \n...                   ...            ...      ...            ...   \n1971             0.040764        Germany       DE         Europe   \n1972             0.000176   South Africa       ZA         Africa   \n1973             0.045247          Italy       IT         Europe   \n1974             0.000356      Australia       AU        Oceania   \n1975             0.040764        Germany       DE         Europe   \n\n                                              file_name  \n0                        Fowl_Nigerian_18th_Century.jpg  \n1                           Caged_Panther_Kentridge.jpg  \n2                                White_Target_Genis.jpg  \n3                              Tanned_Hide_Tamagami.jpg  \n4                              Modern_Print_Dressen.jpg  \n...                                                 ...  \n1971          Auch_ein_Todtentanz:_Text_Page_Rethel.jpg  \n1972                                      Poem_Ross.jpg  \n1973  Constancy_Holding_a_Staff_and_Resting_on_a_Col...  \n1974  \"Ah_Mr._Hardy,_Mr._Hardy,_if_you_only_knew_all...  \n1975                      Untitled_(diagonals)_Abts.jpg  \n\n[1976 rows x 35 columns]",
      "text/html": "<div>\n<style scoped>\n    .dataframe tbody tr th:only-of-type {\n        vertical-align: middle;\n    }\n\n    .dataframe tbody tr th {\n        vertical-align: top;\n    }\n\n    .dataframe thead th {\n        text-align: right;\n    }\n</style>\n<table border=\"1\" class=\"dataframe\">\n  <thead>\n    <tr style=\"text-align: right;\">\n      <th></th>\n      <th>objectid</th>\n      <th>title</th>\n      <th>medium</th>\n      <th>dimensions</th>\n      <th>inscription</th>\n      <th>markings</th>\n      <th>attributioninverted</th>\n      <th>attribution</th>\n      <th>provenancetext</th>\n      <th>creditline</th>\n      <th>...</th>\n      <th>forwarddisplayname</th>\n      <th>lastname</th>\n      <th>nationality</th>\n      <th>constituenttype</th>\n      <th>expanded_url</th>\n      <th>percent_fromCountry</th>\n      <th>Country Name</th>\n      <th>Country</th>\n      <th>Continent</th>\n      <th>file_name</th>\n    </tr>\n  </thead>\n  <tbody>\n    <tr>\n      <th>0</th>\n      <td>43431.0</td>\n      <td>Fowl</td>\n      <td>brass with cast iron supports</td>\n      <td>overall with base: 52.3 × 18 × 46.9 cm, 30.391...</td>\n      <td>NaN</td>\n      <td>NaN</td>\n      <td>Nigerian 18th Century, Court of Benin</td>\n      <td>Nigerian 18th Century, Court of Benin</td>\n      <td>Obas of the Edo people, Kingdom of Benin, befo...</td>\n      <td>Gift of Mr. and Mrs. Winston F. C. Guest</td>\n      <td>...</td>\n      <td>Nigerian 18th Century</td>\n      <td>Nigerian 18th Century</td>\n      <td>Nigerian</td>\n      <td>anonymous</td>\n      <td>https://api.nga.gov/iiif/ac553bca-1808-469c-a0...</td>\n      <td>0.000015</td>\n      <td>Nigeria</td>\n      <td>NG</td>\n      <td>Africa</td>\n      <td>Fowl_Nigerian_18th_Century.jpg</td>\n    </tr>\n    <tr>\n      <th>1</th>\n      <td>204079.0</td>\n      <td>Caged Panther</td>\n      <td>photogravure with drypoint on wove paper</td>\n      <td>image: 35.24 × 50.48 cm (13 7/8 × 19 7/8 in.)\\...</td>\n      <td>lower left in graphite: 7/30; lower right in g...</td>\n      <td>NaN</td>\n      <td>Kentridge, William</td>\n      <td>William Kentridge</td>\n      <td>(Robert Brown Gallery, Arlington, VA); purchas...</td>\n      <td>Thomas G. Klarner Collection, Gift of Neal Tur...</td>\n      <td>...</td>\n      <td>William Kentridge</td>\n      <td>Kentridge</td>\n      <td>South African</td>\n      <td>individual</td>\n      <td>https://api.nga.gov/iiif/9902cc6d-81d3-4de1-be...</td>\n      <td>0.000176</td>\n      <td>South Africa</td>\n      <td>ZA</td>\n      <td>Africa</td>\n      <td>Caged_Panther_Kentridge.jpg</td>\n    </tr>\n    <tr>\n      <th>2</th>\n      <td>132627.0</td>\n      <td>White Target</td>\n      <td>lithograph in black on wove paper</td>\n      <td>sheet: 71.8 x 51.1 cm (28 1/4 x 20 1/8 in.)</td>\n      <td>lower left in graphite: TRIAL PROOF; lower rig...</td>\n      <td>blind stamp: [chop of Universal Limited Art Ed...</td>\n      <td>Johns, Jasper</td>\n      <td>Jasper Johns</td>\n      <td>the artist, Sharon, Connecticut; acquired 2004...</td>\n      <td>Patrons' Permanent Fund and Special Friends of...</td>\n      <td>...</td>\n      <td>Fred Genis</td>\n      <td>Genis</td>\n      <td>Australian</td>\n      <td>individual</td>\n      <td>https://api.nga.gov/iiif/9a4b2e60-5505-4766-8c...</td>\n      <td>0.000356</td>\n      <td>Australia</td>\n      <td>AU</td>\n      <td>Oceania</td>\n      <td>White_Target_Genis.jpg</td>\n    </tr>\n    <tr>\n      <th>3</th>\n      <td>48779.0</td>\n      <td>Tanned Hide</td>\n      <td>2-color lithograph</td>\n      <td>NaN</td>\n      <td>NaN</td>\n      <td>NaN</td>\n      <td>Tamagami, Tsuneo</td>\n      <td>Tsuneo Tamagami</td>\n      <td>NaN</td>\n      <td>Rosenwald Collection</td>\n      <td>...</td>\n      <td>Tsuneo Tamagami</td>\n      <td>Tamagami</td>\n      <td>Japanese</td>\n      <td>individual</td>\n      <td>https://api.nga.gov/iiif/14c93846-ac93-4f1a-b6...</td>\n      <td>0.001668</td>\n      <td>Japan</td>\n      <td>JP</td>\n      <td>Asia</td>\n      <td>Tanned_Hide_Tamagami.jpg</td>\n    </tr>\n    <tr>\n      <th>4</th>\n      <td>72470.0</td>\n      <td>Modern Print</td>\n      <td>color lithograph and screenprint on Special Ar...</td>\n      <td>image: 61 x 61 cm (24 x 24 in.)\\nsheet: 78.8 x...</td>\n      <td>lower left in graphite: Gemini III; lower righ...</td>\n      <td>embossed lower right: © [Gemini G.E.L.]; stamp...</td>\n      <td>Lichtenstein, Roy</td>\n      <td>Roy Lichtenstein</td>\n      <td>Gemini G.E.L., Los Angeles, California; acquir...</td>\n      <td>Gift of Gemini G.E.L. and the Artist</td>\n      <td>...</td>\n      <td>Robert Dressen</td>\n      <td>Dressen</td>\n      <td>American</td>\n      <td>individual</td>\n      <td>https://api.nga.gov/iiif/ae4712b9-ca98-42c9-94...</td>\n      <td>0.709936</td>\n      <td>United States</td>\n      <td>US</td>\n      <td>North America</td>\n      <td>Modern_Print_Dressen.jpg</td>\n    </tr>\n    <tr>\n      <th>...</th>\n      <td>...</td>\n      <td>...</td>\n      <td>...</td>\n      <td>...</td>\n      <td>...</td>\n      <td>...</td>\n      <td>...</td>\n      <td>...</td>\n      <td>...</td>\n      <td>...</td>\n      <td>...</td>\n      <td>...</td>\n      <td>...</td>\n      <td>...</td>\n      <td>...</td>\n      <td>...</td>\n      <td>...</td>\n      <td>...</td>\n      <td>...</td>\n      <td>...</td>\n      <td>...</td>\n    </tr>\n    <tr>\n      <th>1971</th>\n      <td>52481.0</td>\n      <td>Auch ein Todtentanz: Text Page</td>\n      <td>typeset printing</td>\n      <td>NaN</td>\n      <td>NaN</td>\n      <td>NaN</td>\n      <td>Rethel, Alfred</td>\n      <td>Alfred Rethel</td>\n      <td>NaN</td>\n      <td>Ailsa Mellon Bruce Fund</td>\n      <td>...</td>\n      <td>Alfred Rethel</td>\n      <td>Rethel</td>\n      <td>German</td>\n      <td>individual</td>\n      <td>https://api.nga.gov/iiif/32b7c514-f5a5-4b61-93...</td>\n      <td>0.040764</td>\n      <td>Germany</td>\n      <td>DE</td>\n      <td>Europe</td>\n      <td>Auch_ein_Todtentanz:_Text_Page_Rethel.jpg</td>\n    </tr>\n    <tr>\n      <th>1972</th>\n      <td>220957.0</td>\n      <td>Poem</td>\n      <td>drypoint in black on Somerset wove paper</td>\n      <td>plate: 39.69 × 24.77 cm (15 5/8 × 9 3/4 in.)\\n...</td>\n      <td>lower left in graphite: 3/40; lower center in ...</td>\n      <td>embossed lower left: [David Krut Workshop] [Ji...</td>\n      <td>Bell, Deborah</td>\n      <td>Deborah Bell</td>\n      <td>Christopher and Beverly With, Washington, D.C....</td>\n      <td>Gift of Christopher and Beverly With in memory...</td>\n      <td>...</td>\n      <td>Jillian Ross</td>\n      <td>Ross</td>\n      <td>South African</td>\n      <td>individual</td>\n      <td>https://api.nga.gov/iiif/9c8e4384-f711-4997-a1...</td>\n      <td>0.000176</td>\n      <td>South Africa</td>\n      <td>ZA</td>\n      <td>Africa</td>\n      <td>Poem_Ross.jpg</td>\n    </tr>\n    <tr>\n      <th>1973</th>\n      <td>44709.0</td>\n      <td>Constancy Holding a Staff and Resting on a Col...</td>\n      <td>bronze</td>\n      <td>overall (diameter): 6.09 cm (2 3/8 in.)\\ngross...</td>\n      <td>across bottom: CONSTANTIA</td>\n      <td>NaN</td>\n      <td>Cristoforo di Geremia</td>\n      <td>Cristoforo di Geremia</td>\n      <td>Gustave Dreyfus [1837-1914], Paris; his heirs;...</td>\n      <td>Samuel H. Kress Collection</td>\n      <td>...</td>\n      <td>Cristoforo di Geremia</td>\n      <td>Cristoforo di Geremia</td>\n      <td>Italian</td>\n      <td>individual</td>\n      <td>https://api.nga.gov/iiif/b53ba8ca-41a9-48e7-be...</td>\n      <td>0.045247</td>\n      <td>Italy</td>\n      <td>IT</td>\n      <td>Europe</td>\n      <td>Constancy_Holding_a_Staff_and_Resting_on_a_Col...</td>\n    </tr>\n    <tr>\n      <th>1974</th>\n      <td>6829.0</td>\n      <td>\"Ah Mr. Hardy, Mr. Hardy, if you only knew all...</td>\n      <td>drypoint</td>\n      <td>NaN</td>\n      <td>NaN</td>\n      <td>NaN</td>\n      <td>Dyson, Will</td>\n      <td>Will Dyson</td>\n      <td>NaN</td>\n      <td>Rosenwald Collection</td>\n      <td>...</td>\n      <td>Will Dyson</td>\n      <td>Dyson</td>\n      <td>Australian</td>\n      <td>individual</td>\n      <td>https://api.nga.gov/iiif/9b625788-593a-4e9a-9c...</td>\n      <td>0.000356</td>\n      <td>Australia</td>\n      <td>AU</td>\n      <td>Oceania</td>\n      <td>\"Ah_Mr._Hardy,_Mr._Hardy,_if_you_only_knew_all...</td>\n    </tr>\n    <tr>\n      <th>1975</th>\n      <td>156435.0</td>\n      <td>Untitled (diagonals)</td>\n      <td>color aquatint with softground etching on wove...</td>\n      <td>plate: 45.72 x 33.02 cm (18 x 13 in.)\\nsheet: ...</td>\n      <td>lower left in graphite: OKTP; lower right in g...</td>\n      <td>NaN</td>\n      <td>Abts, Tomma</td>\n      <td>Tomma Abts</td>\n      <td>Kathan Brown, San Francisco; gift to NGA, 2011</td>\n      <td>Gift of Kathan Brown</td>\n      <td>...</td>\n      <td>Tomma Abts</td>\n      <td>Abts</td>\n      <td>German</td>\n      <td>individual</td>\n      <td>https://api.nga.gov/iiif/1e6b9b6b-3c9c-4ef5-a5...</td>\n      <td>0.040764</td>\n      <td>Germany</td>\n      <td>DE</td>\n      <td>Europe</td>\n      <td>Untitled_(diagonals)_Abts.jpg</td>\n    </tr>\n  </tbody>\n</table>\n<p>1976 rows × 35 columns</p>\n</div>"
     },
     "execution_count": 80,
     "metadata": {},
     "output_type": "execute_result"
    }
   ],
   "source": [
    "pa_nonLa_art"
   ],
   "metadata": {
    "collapsed": false,
    "pycharm": {
     "name": "#%%\n"
    }
   }
  },
  {
   "cell_type": "markdown",
   "source": [
    "### Verifying File Names Correspond to the Dataset (Some Images Unable to be Downloaded)"
   ],
   "metadata": {
    "collapsed": false,
    "pycharm": {
     "name": "#%% md\n"
    }
   }
  },
  {
   "cell_type": "code",
   "execution_count": 81,
   "outputs": [],
   "source": [
    "pa_nonLa_art['directory'] = ['../../non_laImages'] * len(pa_nonLa_art)"
   ],
   "metadata": {
    "collapsed": false,
    "pycharm": {
     "name": "#%%\n"
    }
   }
  },
  {
   "cell_type": "code",
   "execution_count": 82,
   "outputs": [],
   "source": [
    "#checking that the filepath / naming conventions I used are consistent\n",
    "from os.path import exists\n",
    "file_exists = []\n",
    "for i in range(len(pa_nonLa_art)):\n",
    "    directory = pa_nonLa_art.directory[i]\n",
    "    filename = pa_nonLa_art.file_name[i]\n",
    "    full = directory + '/' + filename\n",
    "    file_exists.append(exists(full))\n",
    "pa_nonLa_art['file_downloaded'] = file_exists"
   ],
   "metadata": {
    "collapsed": false,
    "pycharm": {
     "name": "#%%\n"
    }
   }
  },
  {
   "cell_type": "code",
   "execution_count": 84,
   "outputs": [
    {
     "data": {
      "text/plain": "0.9883603238866396"
     },
     "execution_count": 84,
     "metadata": {},
     "output_type": "execute_result"
    }
   ],
   "source": [
    "pa_nonLa_art.file_downloaded.sum() / len(pa_nonLa_art)"
   ],
   "metadata": {
    "collapsed": false,
    "pycharm": {
     "name": "#%%\n"
    }
   }
  },
  {
   "cell_type": "code",
   "execution_count": 85,
   "outputs": [],
   "source": [
    "#dropping columns where file wasn't accessible\n",
    "pa_nonLa_art = pa_nonLa_art.where(pa_nonLa_art.file_downloaded).dropna(how='all')"
   ],
   "metadata": {
    "collapsed": false,
    "pycharm": {
     "name": "#%%\n"
    }
   }
  },
  {
   "cell_type": "code",
   "execution_count": 89,
   "outputs": [],
   "source": [
    "pa_nonLa_art.to_csv('../../data_samples/results/processed_subset_results/local_nonLa_art.csv', index=False)"
   ],
   "metadata": {
    "collapsed": false,
    "pycharm": {
     "name": "#%%\n"
    }
   }
  },
  {
   "cell_type": "code",
   "execution_count": null,
   "outputs": [],
   "source": [],
   "metadata": {
    "collapsed": false,
    "pycharm": {
     "name": "#%%\n"
    }
   }
  }
 ],
 "metadata": {
  "kernelspec": {
   "display_name": "Python 3",
   "language": "python",
   "name": "python3"
  },
  "language_info": {
   "codemirror_mode": {
    "name": "ipython",
    "version": 2
   },
   "file_extension": ".py",
   "mimetype": "text/x-python",
   "name": "python",
   "nbconvert_exporter": "python",
   "pygments_lexer": "ipython2",
   "version": "2.7.6"
  }
 },
 "nbformat": 4,
 "nbformat_minor": 0
}