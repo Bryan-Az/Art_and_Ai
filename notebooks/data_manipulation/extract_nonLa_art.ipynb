{
 "cells": [
  {
   "cell_type": "code",
   "execution_count": 33,
   "outputs": [],
   "source": [
    "import pandas as pd\n",
    "import numpy as np\n",
    "import pycountry\n",
    "import pycountry_convert as pc\n",
    "import random"
   ],
   "metadata": {
    "collapsed": false,
    "pycharm": {
     "name": "#%%\n"
    }
   }
  },
  {
   "cell_type": "code",
   "execution_count": 17,
   "outputs": [],
   "source": [
    "nonLa_art = pd.read_csv('../../data_samples/results/whole_set_results/pa_nonLa_art.csv')\n",
    "la_geographicStatistics = pd.read_csv('../../data_samples/la_geographicStatistics.csv')"
   ],
   "metadata": {
    "collapsed": false,
    "pycharm": {
     "name": "#%%\n"
    }
   }
  },
  {
   "cell_type": "markdown",
   "source": [
    "### Goal: Make a similar dataset to la_geographicStatistics but with nonLa art this time, then using this information to make a representative sample of the data according to continent, which we will use to download about 2000 images for the models."
   ],
   "metadata": {
    "collapsed": false,
    "pycharm": {
     "name": "#%% md\n"
    }
   }
  },
  {
   "cell_type": "code",
   "execution_count": 18,
   "outputs": [],
   "source": [
    "cname_alpha_2 = []\n",
    "cname_alpha_3 = []\n",
    "for country in pycountry.countries:\n",
    "    cname_alpha_2.append(country.alpha_2)\n",
    "    cname_alpha_3.append(country.alpha_3)\n",
    "\n",
    "cname_alpha_2 = pd.Series(cname_alpha_2)\n",
    "cname_alpha_3 = pd.Series(cname_alpha_3)\n",
    "\n",
    "error_list = ['AQ', 'TF', 'EH', 'PN', 'SX', 'TL', 'UM', 'VA']\n",
    "continent_names = cname_alpha_2.apply(lambda x: pc.country_alpha2_to_continent_code(x) if x not in error_list else 'non-transformable')\n",
    "\n",
    "country_and_continent = pd.DataFrame([cname_alpha_2, continent_names], index=['Country', 'Continent']).T\n",
    "\n",
    "total_by_continent = country_and_continent.groupby('Continent').count()\n",
    "\n",
    "remove_from_index = ['non-transformable']\n",
    "total_by_continent.index = pd.Series(list(total_by_continent.index)).apply(lambda x: pc.convert_continent_code_to_continent_name(x) if x not in remove_from_index else x)"
   ],
   "metadata": {
    "collapsed": false,
    "pycharm": {
     "name": "#%%\n"
    }
   }
  },
  {
   "cell_type": "code",
   "execution_count": 19,
   "outputs": [],
   "source": [
    "country_and_continent['Country Name'] = country_and_continent.Country.apply(pc.country_alpha2_to_country_name)\n",
    "country_and_continent['Continent Name'] = country_and_continent.Continent.apply(lambda x: pc.convert_continent_code_to_continent_name(x) if x != 'non-transformable' else x)"
   ],
   "metadata": {
    "collapsed": false,
    "pycharm": {
     "name": "#%%\n"
    }
   }
  },
  {
   "cell_type": "code",
   "execution_count": 50,
   "outputs": [
    {
     "data": {
      "text/plain": "    Country Continent   Country Name Continent Name\n0        AW        NA          Aruba  North America\n1        AF        AS    Afghanistan           Asia\n2        AO        AF         Angola         Africa\n3        AI        NA       Anguilla  North America\n4        AX        EU  Åland Islands         Europe\n..      ...       ...            ...            ...\n244      WS        OC          Samoa        Oceania\n245      YE        AS          Yemen           Asia\n246      ZA        AF   South Africa         Africa\n247      ZM        AF         Zambia         Africa\n248      ZW        AF       Zimbabwe         Africa\n\n[249 rows x 4 columns]",
      "text/html": "<div>\n<style scoped>\n    .dataframe tbody tr th:only-of-type {\n        vertical-align: middle;\n    }\n\n    .dataframe tbody tr th {\n        vertical-align: top;\n    }\n\n    .dataframe thead th {\n        text-align: right;\n    }\n</style>\n<table border=\"1\" class=\"dataframe\">\n  <thead>\n    <tr style=\"text-align: right;\">\n      <th></th>\n      <th>Country</th>\n      <th>Continent</th>\n      <th>Country Name</th>\n      <th>Continent Name</th>\n    </tr>\n  </thead>\n  <tbody>\n    <tr>\n      <th>0</th>\n      <td>AW</td>\n      <td>NA</td>\n      <td>Aruba</td>\n      <td>North America</td>\n    </tr>\n    <tr>\n      <th>1</th>\n      <td>AF</td>\n      <td>AS</td>\n      <td>Afghanistan</td>\n      <td>Asia</td>\n    </tr>\n    <tr>\n      <th>2</th>\n      <td>AO</td>\n      <td>AF</td>\n      <td>Angola</td>\n      <td>Africa</td>\n    </tr>\n    <tr>\n      <th>3</th>\n      <td>AI</td>\n      <td>NA</td>\n      <td>Anguilla</td>\n      <td>North America</td>\n    </tr>\n    <tr>\n      <th>4</th>\n      <td>AX</td>\n      <td>EU</td>\n      <td>Åland Islands</td>\n      <td>Europe</td>\n    </tr>\n    <tr>\n      <th>...</th>\n      <td>...</td>\n      <td>...</td>\n      <td>...</td>\n      <td>...</td>\n    </tr>\n    <tr>\n      <th>244</th>\n      <td>WS</td>\n      <td>OC</td>\n      <td>Samoa</td>\n      <td>Oceania</td>\n    </tr>\n    <tr>\n      <th>245</th>\n      <td>YE</td>\n      <td>AS</td>\n      <td>Yemen</td>\n      <td>Asia</td>\n    </tr>\n    <tr>\n      <th>246</th>\n      <td>ZA</td>\n      <td>AF</td>\n      <td>South Africa</td>\n      <td>Africa</td>\n    </tr>\n    <tr>\n      <th>247</th>\n      <td>ZM</td>\n      <td>AF</td>\n      <td>Zambia</td>\n      <td>Africa</td>\n    </tr>\n    <tr>\n      <th>248</th>\n      <td>ZW</td>\n      <td>AF</td>\n      <td>Zimbabwe</td>\n      <td>Africa</td>\n    </tr>\n  </tbody>\n</table>\n<p>249 rows × 4 columns</p>\n</div>"
     },
     "execution_count": 50,
     "metadata": {},
     "output_type": "execute_result"
    }
   ],
   "source": [
    "country_and_continent"
   ],
   "metadata": {
    "collapsed": false,
    "pycharm": {
     "name": "#%%\n"
    }
   }
  },
  {
   "cell_type": "markdown",
   "source": [
    "### Proportion of Countries per Continent\n",
    "Real vs Non-LA Dataset Distributions"
   ],
   "metadata": {
    "collapsed": false,
    "pycharm": {
     "name": "#%% md\n"
    }
   }
  },
  {
   "cell_type": "code",
   "execution_count": 21,
   "outputs": [],
   "source": [
    "total_by_continent['proportion'] = total_by_continent['Country'] / total_by_continent['Country'].sum()"
   ],
   "metadata": {
    "collapsed": false,
    "pycharm": {
     "name": "#%%\n"
    }
   }
  },
  {
   "cell_type": "code",
   "execution_count": 32,
   "outputs": [
    {
     "data": {
      "text/plain": "                   Country  proportion\nAfrica                  57    0.228916\nAntarctica               2    0.008032\nAsia                    53    0.212851\nEurope                  50    0.200803\nNorth America           40    0.160643\nOceania                 24    0.096386\nSouth America           15    0.060241\nnon-transformable        8    0.032129",
      "text/html": "<div>\n<style scoped>\n    .dataframe tbody tr th:only-of-type {\n        vertical-align: middle;\n    }\n\n    .dataframe tbody tr th {\n        vertical-align: top;\n    }\n\n    .dataframe thead th {\n        text-align: right;\n    }\n</style>\n<table border=\"1\" class=\"dataframe\">\n  <thead>\n    <tr style=\"text-align: right;\">\n      <th></th>\n      <th>Country</th>\n      <th>proportion</th>\n    </tr>\n  </thead>\n  <tbody>\n    <tr>\n      <th>Africa</th>\n      <td>57</td>\n      <td>0.228916</td>\n    </tr>\n    <tr>\n      <th>Antarctica</th>\n      <td>2</td>\n      <td>0.008032</td>\n    </tr>\n    <tr>\n      <th>Asia</th>\n      <td>53</td>\n      <td>0.212851</td>\n    </tr>\n    <tr>\n      <th>Europe</th>\n      <td>50</td>\n      <td>0.200803</td>\n    </tr>\n    <tr>\n      <th>North America</th>\n      <td>40</td>\n      <td>0.160643</td>\n    </tr>\n    <tr>\n      <th>Oceania</th>\n      <td>24</td>\n      <td>0.096386</td>\n    </tr>\n    <tr>\n      <th>South America</th>\n      <td>15</td>\n      <td>0.060241</td>\n    </tr>\n    <tr>\n      <th>non-transformable</th>\n      <td>8</td>\n      <td>0.032129</td>\n    </tr>\n  </tbody>\n</table>\n</div>"
     },
     "execution_count": 32,
     "metadata": {},
     "output_type": "execute_result"
    }
   ],
   "source": [
    "total_by_continent"
   ],
   "metadata": {
    "collapsed": false,
    "pycharm": {
     "name": "#%%\n"
    }
   }
  },
  {
   "cell_type": "code",
   "execution_count": 23,
   "outputs": [],
   "source": [
    "la_geographicStatistics['Continent'] = la_geographicStatistics['Continent'].fillna('NoA')"
   ],
   "metadata": {
    "collapsed": false,
    "pycharm": {
     "name": "#%%\n"
    }
   }
  },
  {
   "cell_type": "code",
   "execution_count": 24,
   "outputs": [],
   "source": [
    "la_continentCounts = la_geographicStatistics.groupby('Continent').apply(lambda x: len(x))"
   ],
   "metadata": {
    "collapsed": false,
    "pycharm": {
     "name": "#%%\n"
    }
   }
  },
  {
   "cell_type": "code",
   "execution_count": 25,
   "outputs": [],
   "source": [
    "la_continentCounts.index = ['North America', 'South America']\n",
    "# 8 non-transformable country/continent pairs during labeling added to zero the south america group\n",
    "la_continentCounts['South America'] += 8"
   ],
   "metadata": {
    "collapsed": false,
    "pycharm": {
     "name": "#%%\n"
    }
   }
  },
  {
   "cell_type": "code",
   "execution_count": 26,
   "outputs": [],
   "source": [
    "la_continentCounts = la_continentCounts.append(pd.Series({'Africa': 0, 'Antarctica': 0, 'Asia': 0, 'Europe':0, 'Oceania':0, 'non-transformable':0}))"
   ],
   "metadata": {
    "collapsed": false,
    "pycharm": {
     "name": "#%%\n"
    }
   }
  },
  {
   "cell_type": "code",
   "execution_count": 27,
   "outputs": [],
   "source": [
    "la_continentCounts = la_continentCounts.reindex(total_by_continent.index)\n",
    "la_continentCounts.name = 'Country'"
   ],
   "metadata": {
    "collapsed": false,
    "pycharm": {
     "name": "#%%\n"
    }
   }
  },
  {
   "cell_type": "code",
   "execution_count": 89,
   "outputs": [],
   "source": [
    "nonla_countryCounts = total_by_continent['Country'] - la_continentCounts"
   ],
   "metadata": {
    "collapsed": false,
    "pycharm": {
     "name": "#%%\n"
    }
   }
  },
  {
   "cell_type": "code",
   "execution_count": 90,
   "outputs": [],
   "source": [
    "nonla_countryCounts = pd.DataFrame({'Countries':nonla_countryCounts, 'proportion': (nonla_countryCounts / nonla_countryCounts.sum())})"
   ],
   "metadata": {
    "collapsed": false,
    "pycharm": {
     "name": "#%%\n"
    }
   }
  },
  {
   "cell_type": "code",
   "execution_count": 93,
   "outputs": [],
   "source": [
    "elementwise_probabilities = pd.concat([nonla_countryCounts, nonLa_art.Continent.value_counts()], axis = 1).dropna(how='any')"
   ],
   "metadata": {
    "collapsed": false,
    "pycharm": {
     "name": "#%%\n"
    }
   }
  },
  {
   "cell_type": "code",
   "execution_count": 94,
   "outputs": [
    {
     "data": {
      "text/plain": "               Countries  proportion  Continent\nAfrica                57    0.247826       49.0\nAsia                  53    0.230435      828.0\nEurope                50    0.217391    50910.0\nNorth America         36    0.156522   145665.0\nOceania               24    0.104348       78.0\nSouth America          0    0.000000       54.0",
      "text/html": "<div>\n<style scoped>\n    .dataframe tbody tr th:only-of-type {\n        vertical-align: middle;\n    }\n\n    .dataframe tbody tr th {\n        vertical-align: top;\n    }\n\n    .dataframe thead th {\n        text-align: right;\n    }\n</style>\n<table border=\"1\" class=\"dataframe\">\n  <thead>\n    <tr style=\"text-align: right;\">\n      <th></th>\n      <th>Countries</th>\n      <th>proportion</th>\n      <th>Continent</th>\n    </tr>\n  </thead>\n  <tbody>\n    <tr>\n      <th>Africa</th>\n      <td>57</td>\n      <td>0.247826</td>\n      <td>49.0</td>\n    </tr>\n    <tr>\n      <th>Asia</th>\n      <td>53</td>\n      <td>0.230435</td>\n      <td>828.0</td>\n    </tr>\n    <tr>\n      <th>Europe</th>\n      <td>50</td>\n      <td>0.217391</td>\n      <td>50910.0</td>\n    </tr>\n    <tr>\n      <th>North America</th>\n      <td>36</td>\n      <td>0.156522</td>\n      <td>145665.0</td>\n    </tr>\n    <tr>\n      <th>Oceania</th>\n      <td>24</td>\n      <td>0.104348</td>\n      <td>78.0</td>\n    </tr>\n    <tr>\n      <th>South America</th>\n      <td>0</td>\n      <td>0.000000</td>\n      <td>54.0</td>\n    </tr>\n  </tbody>\n</table>\n</div>"
     },
     "execution_count": 94,
     "metadata": {},
     "output_type": "execute_result"
    }
   ],
   "source": [
    "elementwise_probabilities"
   ],
   "metadata": {
    "collapsed": false,
    "pycharm": {
     "name": "#%%\n"
    }
   }
  },
  {
   "cell_type": "code",
   "execution_count": 95,
   "outputs": [],
   "source": [
    "elementwise_probabilities.columns = ['countries', 'proportion', 'numRows']"
   ],
   "metadata": {
    "collapsed": false,
    "pycharm": {
     "name": "#%%\n"
    }
   }
  },
  {
   "cell_type": "code",
   "execution_count": 97,
   "outputs": [],
   "source": [
    "elementwise_probabilities['prob_per_entry'] = elementwise_probabilities['proportion'] / elementwise_probabilities['numRows']"
   ],
   "metadata": {
    "collapsed": false,
    "pycharm": {
     "name": "#%%\n"
    }
   }
  },
  {
   "cell_type": "code",
   "execution_count": 113,
   "outputs": [],
   "source": [
    "percent_from_nonLaContinent = nonLa_art['Continent'].apply(lambda x: elementwise_probabilities.prob_per_entry[x])"
   ],
   "metadata": {
    "collapsed": false,
    "pycharm": {
     "name": "#%%\n"
    }
   }
  },
  {
   "cell_type": "code",
   "execution_count": 114,
   "outputs": [],
   "source": [
    "missing_la_percent = 1 - percent_from_nonLaContinent.sum()"
   ],
   "metadata": {
    "collapsed": false,
    "pycharm": {
     "name": "#%%\n"
    }
   }
  },
  {
   "cell_type": "code",
   "execution_count": 117,
   "outputs": [],
   "source": [
    "percent_from_nonLaContinent += missing_la_percent / len(percent_from_nonLaContinent)"
   ],
   "metadata": {
    "collapsed": false,
    "pycharm": {
     "name": "#%%\n"
    }
   }
  },
  {
   "cell_type": "code",
   "execution_count": 121,
   "outputs": [],
   "source": [
    "#1580 rows for training (0.008%) & 396 (0.002%) for validation/testing == 1976 for one iteration of sample (1/100 of total dataset) // make sure not being selected with replacement to remove duplicate issue resolved in download_nonLa_art (sampling only for nonLa)\n",
    "matching_distribution = np.random.choice(nonLa_art.index, p=percent_from_nonLaContinent, size=1976, replace=False)"
   ],
   "metadata": {
    "collapsed": false,
    "pycharm": {
     "name": "#%%\n"
    }
   }
  },
  {
   "cell_type": "code",
   "execution_count": 123,
   "outputs": [],
   "source": [
    "index_matching = list(matching_distribution)"
   ],
   "metadata": {
    "collapsed": false,
    "pycharm": {
     "name": "#%%\n"
    }
   }
  },
  {
   "cell_type": "code",
   "execution_count": 125,
   "outputs": [],
   "source": [
    "nonLa_art_subsample = nonLa_art.iloc[index_matching, :]"
   ],
   "metadata": {
    "collapsed": false,
    "pycharm": {
     "name": "#%%\n"
    }
   }
  },
  {
   "cell_type": "code",
   "execution_count": 126,
   "outputs": [],
   "source": [
    "subsample_countryCounts = nonLa_art_subsample.groupby('Continent').apply(lambda x: len(x))"
   ],
   "metadata": {
    "collapsed": false,
    "pycharm": {
     "name": "#%%\n"
    }
   }
  },
  {
   "cell_type": "code",
   "execution_count": 127,
   "outputs": [
    {
     "data": {
      "text/plain": "Continent\nAfrica           480\nAsia             453\nEurope           469\nNorth America    384\nOceania          190\ndtype: int64"
     },
     "execution_count": 127,
     "metadata": {},
     "output_type": "execute_result"
    }
   ],
   "source": [
    "subsample_countryCounts"
   ],
   "metadata": {
    "collapsed": false,
    "pycharm": {
     "name": "#%%\n"
    }
   }
  },
  {
   "cell_type": "code",
   "execution_count": 128,
   "outputs": [],
   "source": [
    "subsample_countryCounts = pd.DataFrame({'counts': subsample_countryCounts,'proportion':subsample_countryCounts / subsample_countryCounts.sum()})"
   ],
   "metadata": {
    "collapsed": false,
    "pycharm": {
     "name": "#%%\n"
    }
   }
  },
  {
   "cell_type": "markdown",
   "source": [
    "### Using the probabilities in percent_from_nonLaContinent (with minor correction due to removing the la art causing probabilities to not sum to 1) made the sample about equally representative to overall dataset"
   ],
   "metadata": {
    "collapsed": false,
    "pycharm": {
     "name": "#%% md\n"
    }
   }
  },
  {
   "cell_type": "code",
   "execution_count": 129,
   "outputs": [
    {
     "data": {
      "text/plain": "               counts  proportion\nContinent                        \nAfrica            480    0.242915\nAsia              453    0.229251\nEurope            469    0.237348\nNorth America     384    0.194332\nOceania           190    0.096154",
      "text/html": "<div>\n<style scoped>\n    .dataframe tbody tr th:only-of-type {\n        vertical-align: middle;\n    }\n\n    .dataframe tbody tr th {\n        vertical-align: top;\n    }\n\n    .dataframe thead th {\n        text-align: right;\n    }\n</style>\n<table border=\"1\" class=\"dataframe\">\n  <thead>\n    <tr style=\"text-align: right;\">\n      <th></th>\n      <th>counts</th>\n      <th>proportion</th>\n    </tr>\n    <tr>\n      <th>Continent</th>\n      <th></th>\n      <th></th>\n    </tr>\n  </thead>\n  <tbody>\n    <tr>\n      <th>Africa</th>\n      <td>480</td>\n      <td>0.242915</td>\n    </tr>\n    <tr>\n      <th>Asia</th>\n      <td>453</td>\n      <td>0.229251</td>\n    </tr>\n    <tr>\n      <th>Europe</th>\n      <td>469</td>\n      <td>0.237348</td>\n    </tr>\n    <tr>\n      <th>North America</th>\n      <td>384</td>\n      <td>0.194332</td>\n    </tr>\n    <tr>\n      <th>Oceania</th>\n      <td>190</td>\n      <td>0.096154</td>\n    </tr>\n  </tbody>\n</table>\n</div>"
     },
     "execution_count": 129,
     "metadata": {},
     "output_type": "execute_result"
    }
   ],
   "source": [
    "subsample_countryCounts"
   ],
   "metadata": {
    "collapsed": false,
    "pycharm": {
     "name": "#%%\n"
    }
   }
  },
  {
   "cell_type": "code",
   "execution_count": 130,
   "outputs": [
    {
     "data": {
      "text/plain": "                   Countries  proportion\nAfrica                    57    0.247826\nAntarctica                 2    0.008696\nAsia                      53    0.230435\nEurope                    50    0.217391\nNorth America             36    0.156522\nOceania                   24    0.104348\nSouth America              0    0.000000\nnon-transformable          8    0.034783",
      "text/html": "<div>\n<style scoped>\n    .dataframe tbody tr th:only-of-type {\n        vertical-align: middle;\n    }\n\n    .dataframe tbody tr th {\n        vertical-align: top;\n    }\n\n    .dataframe thead th {\n        text-align: right;\n    }\n</style>\n<table border=\"1\" class=\"dataframe\">\n  <thead>\n    <tr style=\"text-align: right;\">\n      <th></th>\n      <th>Countries</th>\n      <th>proportion</th>\n    </tr>\n  </thead>\n  <tbody>\n    <tr>\n      <th>Africa</th>\n      <td>57</td>\n      <td>0.247826</td>\n    </tr>\n    <tr>\n      <th>Antarctica</th>\n      <td>2</td>\n      <td>0.008696</td>\n    </tr>\n    <tr>\n      <th>Asia</th>\n      <td>53</td>\n      <td>0.230435</td>\n    </tr>\n    <tr>\n      <th>Europe</th>\n      <td>50</td>\n      <td>0.217391</td>\n    </tr>\n    <tr>\n      <th>North America</th>\n      <td>36</td>\n      <td>0.156522</td>\n    </tr>\n    <tr>\n      <th>Oceania</th>\n      <td>24</td>\n      <td>0.104348</td>\n    </tr>\n    <tr>\n      <th>South America</th>\n      <td>0</td>\n      <td>0.000000</td>\n    </tr>\n    <tr>\n      <th>non-transformable</th>\n      <td>8</td>\n      <td>0.034783</td>\n    </tr>\n  </tbody>\n</table>\n</div>"
     },
     "execution_count": 130,
     "metadata": {},
     "output_type": "execute_result"
    }
   ],
   "source": [
    "nonla_countryCounts"
   ],
   "metadata": {
    "collapsed": false,
    "pycharm": {
     "name": "#%%\n"
    }
   }
  },
  {
   "cell_type": "markdown",
   "source": [
    "### Downloading the art and dropping into non_laImages folder TBD in download_nonLA_art notebook!"
   ],
   "metadata": {
    "collapsed": false,
    "pycharm": {
     "name": "#%% md\n"
    }
   }
  },
  {
   "cell_type": "code",
   "execution_count": 132,
   "outputs": [],
   "source": [
    "nonLa_art_subsample.to_csv('../../data_samples/results/processed_subset_results/nonLa_art_sample.csv', index=False)"
   ],
   "metadata": {
    "collapsed": false,
    "pycharm": {
     "name": "#%%\n"
    }
   }
  }
 ],
 "metadata": {
  "kernelspec": {
   "display_name": "Python 3",
   "language": "python",
   "name": "python3"
  },
  "language_info": {
   "codemirror_mode": {
    "name": "ipython",
    "version": 2
   },
   "file_extension": ".py",
   "mimetype": "text/x-python",
   "name": "python",
   "nbconvert_exporter": "python",
   "pygments_lexer": "ipython2",
   "version": "2.7.6"
  }
 },
 "nbformat": 4,
 "nbformat_minor": 0
}