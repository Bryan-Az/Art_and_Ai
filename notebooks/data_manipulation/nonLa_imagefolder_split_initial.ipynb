{
 "cells": [
  {
   "cell_type": "code",
   "execution_count": 1,
   "outputs": [],
   "source": [
    "import shutil\n",
    "import pandas as pd\n",
    "import re"
   ],
   "metadata": {
    "collapsed": false,
    "pycharm": {
     "name": "#%%\n"
    }
   }
  },
  {
   "cell_type": "code",
   "execution_count": 2,
   "outputs": [],
   "source": [
    "nonLa_image_metadata = pd.read_csv('../../data_samples/results/processed_subset_results/local_nonLa_art.csv')"
   ],
   "metadata": {
    "collapsed": false,
    "pycharm": {
     "name": "#%%\n"
    }
   }
  },
  {
   "cell_type": "markdown",
   "source": [
    "### TODO: Fix Current Issue / Duplicate image names and authors are in the metadata, and during download I was only able to reach one, as the duplicates were all overwritten. (one name/many images) Complete\n",
    "### TODO: Replace naming convention for file names by appending the objectID tag which will fully resolve issue with duplicate rows. There may also be a sampling issue during the creation of the nonLA image sample which caused the data to be sampled with replacement which potentially caused so many redundant rows and images during downloading which increased the load time."
   ],
   "metadata": {
    "collapsed": false,
    "pycharm": {
     "name": "#%% md\n"
    }
   }
  },
  {
   "cell_type": "code",
   "execution_count": 7,
   "outputs": [
    {
     "data": {
      "text/plain": "Index(['objectid', 'title', 'medium', 'dimensions', 'inscription', 'markings',\n       'attributioninverted', 'attribution', 'provenancetext', 'creditline',\n       'classification', 'parentid', 'isvirtual', 'portfolio', 'series',\n       'sequence', 'width', 'height', 'maxpixels', 'depictstmsobjectid',\n       'assistivetext', 'constituentid', 'displayorder', 'ulanid',\n       'preferreddisplayname', 'forwarddisplayname', 'lastname', 'nationality',\n       'constituenttype', 'expanded_url', 'percent_fromCountry',\n       'Country Name', 'Country', 'Continent', 'file_name', 'directory',\n       'file_downloaded'],\n      dtype='object')"
     },
     "execution_count": 7,
     "metadata": {},
     "output_type": "execute_result"
    }
   ],
   "source": [
    "nonLa_image_metadata.columns"
   ],
   "metadata": {
    "collapsed": false,
    "pycharm": {
     "name": "#%%\n"
    }
   }
  },
  {
   "cell_type": "markdown",
   "source": [
    "### Identifying the duplicates which causes a reduction in the num of images downloaded due to file name overwriting issue"
   ],
   "metadata": {
    "collapsed": false,
    "pycharm": {
     "name": "#%% md\n"
    }
   }
  },
  {
   "cell_type": "code",
   "execution_count": 11,
   "outputs": [],
   "source": [
    "#these are files we need to reinspect due to their multiplicity\n",
    "series_num_objs = nonLa_image_metadata.loc[:,['title', 'lastname', 'preferreddisplayname', 'displayorder']].groupby(['title', 'lastname']).apply(len)"
   ],
   "metadata": {
    "collapsed": false,
    "pycharm": {
     "name": "#%%\n"
    }
   }
  },
  {
   "cell_type": "code",
   "execution_count": 25,
   "outputs": [],
   "source": [
    "series = series_num_objs[series_num_objs > 2]"
   ],
   "metadata": {
    "collapsed": false,
    "pycharm": {
     "name": "#%%\n"
    }
   }
  },
  {
   "cell_type": "code",
   "execution_count": 39,
   "outputs": [],
   "source": [
    "series_groups = series.index"
   ],
   "metadata": {
    "collapsed": false,
    "pycharm": {
     "name": "#%%\n"
    }
   }
  },
  {
   "cell_type": "code",
   "execution_count": 41,
   "outputs": [],
   "source": [
    "duplicates = None\n",
    "for title, author in series_groups:\n",
    "    dupe_partition = nonLa_image_metadata.where((nonLa_image_metadata.title == title) & (nonLa_image_metadata.lastname == author) ).dropna(how='all')\n",
    "    if duplicates is None:\n",
    "        duplicates = dupe_partition\n",
    "    else:\n",
    "        duplicates = pd.concat([duplicates, dupe_partition])"
   ],
   "metadata": {
    "collapsed": false,
    "pycharm": {
     "name": "#%%\n"
    }
   }
  },
  {
   "cell_type": "code",
   "execution_count": 46,
   "outputs": [],
   "source": [
    "duplicates = duplicates.reset_index(drop=False)"
   ],
   "metadata": {
    "collapsed": false,
    "pycharm": {
     "name": "#%%\n"
    }
   }
  },
  {
   "cell_type": "code",
   "execution_count": 61,
   "outputs": [],
   "source": [
    "unique_from_duplicates = duplicates.groupby(['title', 'lastname', 'expanded_url'])"
   ],
   "metadata": {
    "collapsed": false,
    "pycharm": {
     "name": "#%%\n"
    }
   }
  },
  {
   "cell_type": "code",
   "execution_count": 82,
   "outputs": [],
   "source": [
    "unique = None"
   ],
   "metadata": {
    "collapsed": false,
    "pycharm": {
     "name": "#%%\n"
    }
   }
  },
  {
   "cell_type": "code",
   "execution_count": 69,
   "outputs": [
    {
     "data": {
      "text/plain": "(1953, 37)"
     },
     "execution_count": 69,
     "metadata": {},
     "output_type": "execute_result"
    }
   ],
   "source": [
    "nonLa_image_metadata.shape"
   ],
   "metadata": {
    "collapsed": false,
    "pycharm": {
     "name": "#%%\n"
    }
   }
  },
  {
   "cell_type": "code",
   "execution_count": 83,
   "outputs": [],
   "source": [
    "for art_info, data in unique_from_duplicates:\n",
    "    single_pick = data.iloc[0,:]\n",
    "    to_trash = list(data.iloc[1:, :].index)\n",
    "    #collect all the unique datas into unique df for future download\n",
    "    if unique is None:\n",
    "        unique = pd.DataFrame(single_pick)\n",
    "    else:\n",
    "        unique = pd.concat([unique, single_pick], axis=1)\n",
    "    #remove all duplicates (except for one) from the nonLa image metadata set\n",
    "    #nonLa_image_metadata = nonLa_image_metadata.drop(to_trash)"
   ],
   "metadata": {
    "collapsed": false,
    "pycharm": {
     "name": "#%%\n"
    }
   }
  },
  {
   "cell_type": "code",
   "execution_count": 88,
   "outputs": [],
   "source": [
    "to_download = unique.T"
   ],
   "metadata": {
    "collapsed": false,
    "pycharm": {
     "name": "#%%\n"
    }
   }
  },
  {
   "cell_type": "code",
   "execution_count": 90,
   "outputs": [],
   "source": [
    "to_download = to_download.reset_index(drop=True)"
   ],
   "metadata": {
    "collapsed": false,
    "pycharm": {
     "name": "#%%\n"
    }
   }
  },
  {
   "cell_type": "code",
   "execution_count": 92,
   "outputs": [
    {
     "data": {
      "text/plain": "    index  objectid                                              title  \\\n0     184    6829.0  \"Ah Mr. Hardy, Mr. Hardy, if you only knew all...   \n1     266    1692.0                                \"Beehive\" Water Pot   \n2    1909   53322.0                                \"Beehive\" Water Pot   \n3    1710    1693.0                                \"Beehive\" Water Pot   \n4     384    1693.0                                \"Beehive\" Water Pot   \n..    ...       ...                                                ...   \n219   466    1750.0                                           Wine Cup   \n220   288    1740.0                                           Wine Pot   \n221  1470    1739.0                                           Wine Pot   \n222   111  169698.0                                            Zinnias   \n223  1110  198599.0                                           no world   \n\n                                                medium  \\\n0                                             drypoint   \n1                      porcelain with peachbloom glaze   \n2                      porcelain with peachbloom glaze   \n3                      porcelain with peachbloom glaze   \n4                      porcelain with peachbloom glaze   \n..                                                 ...   \n219  porcelain with famille verte and famille jaune...   \n220  porcelain with famille verte, famille jaune, a...   \n221  porcelain with famille verte, famille jaune, a...   \n222              wood engraving in black on wove paper   \n223  color etching, drypoint, and aquatint with sug...   \n\n                                            dimensions  \\\n0                                                  NaN   \n1               overall: 8.3 x 12.7 cm (3 1/4 x 5 in.)   \n2              overall: 8.8 x 12.7 cm (3 7/16 x 5 in.)   \n3        overall: 89 x 12.5 cm (35 1/16 x 4 15/16 in.)   \n4        overall: 89 x 12.5 cm (35 1/16 x 4 15/16 in.)   \n..                                                 ...   \n219  overall (without handle): 3.2 x 5.6 cm (1 1/4 ...   \n220  overall (with lid): 11.4 x 15.2 cm (4 1/2 x 6 ...   \n221  overall (with lid): 11.3 x 15.4 cm (4 7/16 x 6...   \n222  image: 10.16 × 12.54 cm (4 × 4 15/16 in.)\\nshe...   \n223  plate: 60.64 × 90.17 cm (23 7/8 × 35 1/2 in.)\\...   \n\n                                           inscription  \\\n0                                                  NaN   \n1    in standard script on the base in underglaze b...   \n2    in standard script on the base in underglaze b...   \n3    in standard script on the base in underglaze b...   \n4    in standard script on the base in underglaze b...   \n..                                                 ...   \n219                                                NaN   \n220                                                NaN   \n221                                                NaN   \n222  lower right in block: Lionel Lindsay; lower le...   \n223  lower left in graphite: A.P. VI/VIII; lower ri...   \n\n                                              markings   attributioninverted  \\\n0                                                  NaN           Dyson, Will   \n1                                                  NaN  Chinese Qing Dynasty   \n2                                                  NaN  Chinese Qing Dynasty   \n3                                                  NaN  Chinese Qing Dynasty   \n4                                                  NaN  Chinese Qing Dynasty   \n..                                                 ...                   ...   \n219                                                NaN  Chinese Qing Dynasty   \n220                                                NaN  Chinese Qing Dynasty   \n221                                                NaN  Chinese Qing Dynasty   \n222  stamped center left verso in black ink: F.B.B....       Lindsay, Lionel   \n223                                                NaN          Walker, Kara   \n\n              attribution                                     provenancetext  \\\n0              Will Dyson                                                NaN   \n1    Chinese Qing Dynasty  Thomas B. Clarke [1848-1913], New York; sold 1...   \n2    Chinese Qing Dynasty  Harry G. Steele [1881-1942], Pasadena; his wid...   \n3    Chinese Qing Dynasty  Possibly collection of Lord Kitchener.[1] Thom...   \n4    Chinese Qing Dynasty  Possibly collection of Lord Kitchener.[1] Thom...   \n..                    ...                                                ...   \n219  Chinese Qing Dynasty  J. Pierpont Morgan [1837-1913], New York, by 1...   \n220  Chinese Qing Dynasty  J. Pierpont Morgan [1837-1913], New York, by 1...   \n221  Chinese Qing Dynasty  J. Pierpont Morgan [1837-1913], New York, by 1...   \n222        Lionel Lindsay  Frank B. Bristow, Falls Church, Virginia; Corc...   \n223           Kara Walker  (Sikkema Jenkins & Co., NY); purchased 2015 by...   \n\n     ... nationality constituenttype  \\\n0    ...  Australian      individual   \n1    ...     Chinese       anonymous   \n2    ...     Chinese       anonymous   \n3    ...     Chinese       anonymous   \n4    ...     Chinese       anonymous   \n..   ...         ...             ...   \n219  ...     Chinese       anonymous   \n220  ...     Chinese       anonymous   \n221  ...     Chinese       anonymous   \n222  ...  Australian      individual   \n223  ...  Australian      individual   \n\n                                          expanded_url percent_fromCountry  \\\n0    https://api.nga.gov/iiif/9b625788-593a-4e9a-9c...            0.000356   \n1    https://api.nga.gov/iiif/1339e031-ef63-4ab5-b7...            0.001907   \n2    https://api.nga.gov/iiif/2f7e8059-3544-4a57-80...            0.001907   \n3    https://api.nga.gov/iiif/b0b56671-265b-4127-90...            0.001907   \n4    https://api.nga.gov/iiif/b8892c30-3991-4cef-8b...            0.001907   \n..                                                 ...                 ...   \n219  https://api.nga.gov/iiif/f50a7b19-f48c-4e0f-85...            0.001907   \n220  https://api.nga.gov/iiif/a22c71b9-0e37-4c2d-9d...            0.001907   \n221  https://api.nga.gov/iiif/e5a7c645-b8f3-4db4-9e...            0.001907   \n222  https://api.nga.gov/iiif/242f2eeb-af4f-4cd1-a8...            0.000356   \n223  https://api.nga.gov/iiif/bea650ed-bd48-4f71-b3...            0.000356   \n\n    Country Name Country Continent  \\\n0      Australia      AU   Oceania   \n1          China      CN      Asia   \n2          China      CN      Asia   \n3          China      CN      Asia   \n4          China      CN      Asia   \n..           ...     ...       ...   \n219        China      CN      Asia   \n220        China      CN      Asia   \n221        China      CN      Asia   \n222    Australia      AU   Oceania   \n223    Australia      AU   Oceania   \n\n                                             file_name           directory  \\\n0    \"Ah_Mr._Hardy,_Mr._Hardy,_if_you_only_knew_all...  ../../non_laImages   \n1         \"Beehive\"_Water_Pot_Chinese_Qing_Dynasty.jpg  ../../non_laImages   \n2         \"Beehive\"_Water_Pot_Chinese_Qing_Dynasty.jpg  ../../non_laImages   \n3         \"Beehive\"_Water_Pot_Chinese_Qing_Dynasty.jpg  ../../non_laImages   \n4         \"Beehive\"_Water_Pot_Chinese_Qing_Dynasty.jpg  ../../non_laImages   \n..                                                 ...                 ...   \n219                  Wine_Cup_Chinese_Qing_Dynasty.jpg  ../../non_laImages   \n220                  Wine_Pot_Chinese_Qing_Dynasty.jpg  ../../non_laImages   \n221                  Wine_Pot_Chinese_Qing_Dynasty.jpg  ../../non_laImages   \n222                                Zinnias_Lindsay.jpg  ../../non_laImages   \n223                                no_world_Burnet.jpg  ../../non_laImages   \n\n    file_downloaded  \n0              True  \n1              True  \n2              True  \n3              True  \n4              True  \n..              ...  \n219            True  \n220            True  \n221            True  \n222            True  \n223            True  \n\n[224 rows x 38 columns]",
      "text/html": "<div>\n<style scoped>\n    .dataframe tbody tr th:only-of-type {\n        vertical-align: middle;\n    }\n\n    .dataframe tbody tr th {\n        vertical-align: top;\n    }\n\n    .dataframe thead th {\n        text-align: right;\n    }\n</style>\n<table border=\"1\" class=\"dataframe\">\n  <thead>\n    <tr style=\"text-align: right;\">\n      <th></th>\n      <th>index</th>\n      <th>objectid</th>\n      <th>title</th>\n      <th>medium</th>\n      <th>dimensions</th>\n      <th>inscription</th>\n      <th>markings</th>\n      <th>attributioninverted</th>\n      <th>attribution</th>\n      <th>provenancetext</th>\n      <th>...</th>\n      <th>nationality</th>\n      <th>constituenttype</th>\n      <th>expanded_url</th>\n      <th>percent_fromCountry</th>\n      <th>Country Name</th>\n      <th>Country</th>\n      <th>Continent</th>\n      <th>file_name</th>\n      <th>directory</th>\n      <th>file_downloaded</th>\n    </tr>\n  </thead>\n  <tbody>\n    <tr>\n      <th>0</th>\n      <td>184</td>\n      <td>6829.0</td>\n      <td>\"Ah Mr. Hardy, Mr. Hardy, if you only knew all...</td>\n      <td>drypoint</td>\n      <td>NaN</td>\n      <td>NaN</td>\n      <td>NaN</td>\n      <td>Dyson, Will</td>\n      <td>Will Dyson</td>\n      <td>NaN</td>\n      <td>...</td>\n      <td>Australian</td>\n      <td>individual</td>\n      <td>https://api.nga.gov/iiif/9b625788-593a-4e9a-9c...</td>\n      <td>0.000356</td>\n      <td>Australia</td>\n      <td>AU</td>\n      <td>Oceania</td>\n      <td>\"Ah_Mr._Hardy,_Mr._Hardy,_if_you_only_knew_all...</td>\n      <td>../../non_laImages</td>\n      <td>True</td>\n    </tr>\n    <tr>\n      <th>1</th>\n      <td>266</td>\n      <td>1692.0</td>\n      <td>\"Beehive\" Water Pot</td>\n      <td>porcelain with peachbloom glaze</td>\n      <td>overall: 8.3 x 12.7 cm (3 1/4 x 5 in.)</td>\n      <td>in standard script on the base in underglaze b...</td>\n      <td>NaN</td>\n      <td>Chinese Qing Dynasty</td>\n      <td>Chinese Qing Dynasty</td>\n      <td>Thomas B. Clarke [1848-1913], New York; sold 1...</td>\n      <td>...</td>\n      <td>Chinese</td>\n      <td>anonymous</td>\n      <td>https://api.nga.gov/iiif/1339e031-ef63-4ab5-b7...</td>\n      <td>0.001907</td>\n      <td>China</td>\n      <td>CN</td>\n      <td>Asia</td>\n      <td>\"Beehive\"_Water_Pot_Chinese_Qing_Dynasty.jpg</td>\n      <td>../../non_laImages</td>\n      <td>True</td>\n    </tr>\n    <tr>\n      <th>2</th>\n      <td>1909</td>\n      <td>53322.0</td>\n      <td>\"Beehive\" Water Pot</td>\n      <td>porcelain with peachbloom glaze</td>\n      <td>overall: 8.8 x 12.7 cm (3 7/16 x 5 in.)</td>\n      <td>in standard script on the base in underglaze b...</td>\n      <td>NaN</td>\n      <td>Chinese Qing Dynasty</td>\n      <td>Chinese Qing Dynasty</td>\n      <td>Harry G. Steele [1881-1942], Pasadena; his wid...</td>\n      <td>...</td>\n      <td>Chinese</td>\n      <td>anonymous</td>\n      <td>https://api.nga.gov/iiif/2f7e8059-3544-4a57-80...</td>\n      <td>0.001907</td>\n      <td>China</td>\n      <td>CN</td>\n      <td>Asia</td>\n      <td>\"Beehive\"_Water_Pot_Chinese_Qing_Dynasty.jpg</td>\n      <td>../../non_laImages</td>\n      <td>True</td>\n    </tr>\n    <tr>\n      <th>3</th>\n      <td>1710</td>\n      <td>1693.0</td>\n      <td>\"Beehive\" Water Pot</td>\n      <td>porcelain with peachbloom glaze</td>\n      <td>overall: 89 x 12.5 cm (35 1/16 x 4 15/16 in.)</td>\n      <td>in standard script on the base in underglaze b...</td>\n      <td>NaN</td>\n      <td>Chinese Qing Dynasty</td>\n      <td>Chinese Qing Dynasty</td>\n      <td>Possibly collection of Lord Kitchener.[1] Thom...</td>\n      <td>...</td>\n      <td>Chinese</td>\n      <td>anonymous</td>\n      <td>https://api.nga.gov/iiif/b0b56671-265b-4127-90...</td>\n      <td>0.001907</td>\n      <td>China</td>\n      <td>CN</td>\n      <td>Asia</td>\n      <td>\"Beehive\"_Water_Pot_Chinese_Qing_Dynasty.jpg</td>\n      <td>../../non_laImages</td>\n      <td>True</td>\n    </tr>\n    <tr>\n      <th>4</th>\n      <td>384</td>\n      <td>1693.0</td>\n      <td>\"Beehive\" Water Pot</td>\n      <td>porcelain with peachbloom glaze</td>\n      <td>overall: 89 x 12.5 cm (35 1/16 x 4 15/16 in.)</td>\n      <td>in standard script on the base in underglaze b...</td>\n      <td>NaN</td>\n      <td>Chinese Qing Dynasty</td>\n      <td>Chinese Qing Dynasty</td>\n      <td>Possibly collection of Lord Kitchener.[1] Thom...</td>\n      <td>...</td>\n      <td>Chinese</td>\n      <td>anonymous</td>\n      <td>https://api.nga.gov/iiif/b8892c30-3991-4cef-8b...</td>\n      <td>0.001907</td>\n      <td>China</td>\n      <td>CN</td>\n      <td>Asia</td>\n      <td>\"Beehive\"_Water_Pot_Chinese_Qing_Dynasty.jpg</td>\n      <td>../../non_laImages</td>\n      <td>True</td>\n    </tr>\n    <tr>\n      <th>...</th>\n      <td>...</td>\n      <td>...</td>\n      <td>...</td>\n      <td>...</td>\n      <td>...</td>\n      <td>...</td>\n      <td>...</td>\n      <td>...</td>\n      <td>...</td>\n      <td>...</td>\n      <td>...</td>\n      <td>...</td>\n      <td>...</td>\n      <td>...</td>\n      <td>...</td>\n      <td>...</td>\n      <td>...</td>\n      <td>...</td>\n      <td>...</td>\n      <td>...</td>\n      <td>...</td>\n    </tr>\n    <tr>\n      <th>219</th>\n      <td>466</td>\n      <td>1750.0</td>\n      <td>Wine Cup</td>\n      <td>porcelain with famille verte and famille jaune...</td>\n      <td>overall (without handle): 3.2 x 5.6 cm (1 1/4 ...</td>\n      <td>NaN</td>\n      <td>NaN</td>\n      <td>Chinese Qing Dynasty</td>\n      <td>Chinese Qing Dynasty</td>\n      <td>J. Pierpont Morgan [1837-1913], New York, by 1...</td>\n      <td>...</td>\n      <td>Chinese</td>\n      <td>anonymous</td>\n      <td>https://api.nga.gov/iiif/f50a7b19-f48c-4e0f-85...</td>\n      <td>0.001907</td>\n      <td>China</td>\n      <td>CN</td>\n      <td>Asia</td>\n      <td>Wine_Cup_Chinese_Qing_Dynasty.jpg</td>\n      <td>../../non_laImages</td>\n      <td>True</td>\n    </tr>\n    <tr>\n      <th>220</th>\n      <td>288</td>\n      <td>1740.0</td>\n      <td>Wine Pot</td>\n      <td>porcelain with famille verte, famille jaune, a...</td>\n      <td>overall (with lid): 11.4 x 15.2 cm (4 1/2 x 6 ...</td>\n      <td>NaN</td>\n      <td>NaN</td>\n      <td>Chinese Qing Dynasty</td>\n      <td>Chinese Qing Dynasty</td>\n      <td>J. Pierpont Morgan [1837-1913], New York, by 1...</td>\n      <td>...</td>\n      <td>Chinese</td>\n      <td>anonymous</td>\n      <td>https://api.nga.gov/iiif/a22c71b9-0e37-4c2d-9d...</td>\n      <td>0.001907</td>\n      <td>China</td>\n      <td>CN</td>\n      <td>Asia</td>\n      <td>Wine_Pot_Chinese_Qing_Dynasty.jpg</td>\n      <td>../../non_laImages</td>\n      <td>True</td>\n    </tr>\n    <tr>\n      <th>221</th>\n      <td>1470</td>\n      <td>1739.0</td>\n      <td>Wine Pot</td>\n      <td>porcelain with famille verte, famille jaune, a...</td>\n      <td>overall (with lid): 11.3 x 15.4 cm (4 7/16 x 6...</td>\n      <td>NaN</td>\n      <td>NaN</td>\n      <td>Chinese Qing Dynasty</td>\n      <td>Chinese Qing Dynasty</td>\n      <td>J. Pierpont Morgan [1837-1913], New York, by 1...</td>\n      <td>...</td>\n      <td>Chinese</td>\n      <td>anonymous</td>\n      <td>https://api.nga.gov/iiif/e5a7c645-b8f3-4db4-9e...</td>\n      <td>0.001907</td>\n      <td>China</td>\n      <td>CN</td>\n      <td>Asia</td>\n      <td>Wine_Pot_Chinese_Qing_Dynasty.jpg</td>\n      <td>../../non_laImages</td>\n      <td>True</td>\n    </tr>\n    <tr>\n      <th>222</th>\n      <td>111</td>\n      <td>169698.0</td>\n      <td>Zinnias</td>\n      <td>wood engraving in black on wove paper</td>\n      <td>image: 10.16 × 12.54 cm (4 × 4 15/16 in.)\\nshe...</td>\n      <td>lower right in block: Lionel Lindsay; lower le...</td>\n      <td>stamped center left verso in black ink: F.B.B....</td>\n      <td>Lindsay, Lionel</td>\n      <td>Lionel Lindsay</td>\n      <td>Frank B. Bristow, Falls Church, Virginia; Corc...</td>\n      <td>...</td>\n      <td>Australian</td>\n      <td>individual</td>\n      <td>https://api.nga.gov/iiif/242f2eeb-af4f-4cd1-a8...</td>\n      <td>0.000356</td>\n      <td>Australia</td>\n      <td>AU</td>\n      <td>Oceania</td>\n      <td>Zinnias_Lindsay.jpg</td>\n      <td>../../non_laImages</td>\n      <td>True</td>\n    </tr>\n    <tr>\n      <th>223</th>\n      <td>1110</td>\n      <td>198599.0</td>\n      <td>no world</td>\n      <td>color etching, drypoint, and aquatint with sug...</td>\n      <td>plate: 60.64 × 90.17 cm (23 7/8 × 35 1/2 in.)\\...</td>\n      <td>lower left in graphite: A.P. VI/VIII; lower ri...</td>\n      <td>NaN</td>\n      <td>Walker, Kara</td>\n      <td>Kara Walker</td>\n      <td>(Sikkema Jenkins &amp; Co., NY); purchased 2015 by...</td>\n      <td>...</td>\n      <td>Australian</td>\n      <td>individual</td>\n      <td>https://api.nga.gov/iiif/bea650ed-bd48-4f71-b3...</td>\n      <td>0.000356</td>\n      <td>Australia</td>\n      <td>AU</td>\n      <td>Oceania</td>\n      <td>no_world_Burnet.jpg</td>\n      <td>../../non_laImages</td>\n      <td>True</td>\n    </tr>\n  </tbody>\n</table>\n<p>224 rows × 38 columns</p>\n</div>"
     },
     "execution_count": 92,
     "metadata": {},
     "output_type": "execute_result"
    }
   ],
   "source": [
    "to_download"
   ],
   "metadata": {
    "collapsed": false,
    "pycharm": {
     "name": "#%%\n"
    }
   }
  },
  {
   "cell_type": "markdown",
   "source": [
    "### Redownloading the images with duplicate filenames to increase size of training and testing dataset in nonLa art"
   ],
   "metadata": {
    "collapsed": false,
    "pycharm": {
     "name": "#%% md\n"
    }
   }
  },
  {
   "cell_type": "code",
   "execution_count": 94,
   "outputs": [
    {
     "name": "stdout",
     "output_type": "stream",
     "text": [
      "Dyson\n",
      "\"Ah Mr. Hardy, Mr. Hardy, if you only knew all the circumstances...\"\n",
      "Chinese Qing Dynasty\n",
      "\"Beehive\" Water Pot\n",
      "Chinese Qing Dynasty\n",
      "\"Beehive\" Water Pot\n",
      "Chinese Qing Dynasty\n",
      "\"Beehive\" Water Pot\n",
      "Chinese Qing Dynasty\n",
      "\"Beehive\" Water Pot\n",
      "Chinese Qing Dynasty\n",
      "\"Beehive\" Water Pot\n",
      "Dyson\n",
      "\"Can you forgive me Father?\" - \"Can you forgive me daughter?\"\n",
      "Kentridge\n",
      "A Nicely Built City Never Resists Destruction\n",
      "Kentridge\n",
      "Act I, Scene 2, from Ubu Tells the Truth\n",
      "Kentridge\n",
      "Act II, Scene 1, from Ubu Tells the Truth\n",
      "Kentridge\n",
      "Act II, Scene 5, from Ubu Tells the Truth\n",
      "Kentridge\n",
      "Act III, Scene 4, from Ubu Tells the Truth\n",
      "Kentridge\n",
      "Act III, Scene 9, from Ubu Tells the Truth\n",
      "Kentridge\n",
      "Act IV, Scene 1, from Ubu Tells the Truth\n",
      "Kentridge\n",
      "Act IV, Scene 7, from Ubu Tells the Truth\n",
      "Kentridge\n",
      "Act V, Scene 4, from Ubu Tells the Truth\n",
      "Chinese Qing Dynasty\n",
      "Amphora Vase\n",
      "Chinese Qing Dynasty\n",
      "Amphora Vase\n",
      "Chinese Qing Dynasty\n",
      "Amphora Vase\n",
      "Chinese Qing Dynasty\n",
      "Amphora Vase\n",
      "Chinese Qing Dynasty\n",
      "Amphora Vase\n",
      "Chinese Qing Dynasty\n",
      "Amphora Vase\n",
      "Chinese Qing Dynasty\n",
      "Baluster Vase\n",
      "Chinese Qing Dynasty\n",
      "Baluster Vase\n",
      "Chinese Qing Dynasty\n",
      "Baluster Vase\n",
      "Chinese Qing Dynasty\n",
      "Baluster Vase\n",
      "Chinese Qing Dynasty\n",
      "Baluster Vase\n",
      "Chinese Qing Dynasty\n",
      "Baluster Vase\n",
      "Chinese Qing Dynasty\n",
      "Baluster Vase\n",
      "Abergil\n",
      "Basilone\n",
      "Chinese Qing Dynasty\n",
      "Bottle Vase\n",
      "Chinese Qing Dynasty\n",
      "Bottle Vase\n",
      "Chinese Qing Dynasty\n",
      "Bottle Vase\n",
      "Chinese Qing Dynasty\n",
      "Bottle Vase\n",
      "Chinese Qing Dynasty\n",
      "Bottle Vase\n",
      "Chinese Qing Dynasty\n",
      "Bottle Vase\n",
      "Chinese Qing Dynasty\n",
      "Bottle Vase\n",
      "Chinese Jin Dynasty\n",
      "Bowl\n",
      "Chinese Jin Dynasty\n",
      "Bowl\n",
      "Chinese Qing Dynasty\n",
      "Bowl\n",
      "Chinese Qing Dynasty\n",
      "Bowl\n",
      "Chinese Qing Dynasty\n",
      "Bowl\n",
      "Chinese Qing Dynasty\n",
      "Bowl\n",
      "Chinese Qing Dynasty\n",
      "Bowl\n",
      "Chinese Qing Dynasty\n",
      "Bowl\n",
      "Chinese Qing Dynasty\n",
      "Bowl\n",
      "Kentridge\n",
      "Bowlers\n",
      "Chinese Qing Dynasty\n",
      "Brush Washer\n",
      "Chinese Qing Dynasty\n",
      "Brush Washer\n",
      "Chinese Qing Dynasty\n",
      "Brush Washer\n",
      "Chinese Qing Dynasty\n",
      "Brush Washer\n",
      "Saito\n",
      "Buddhist, Nara\n",
      "Kentridge\n",
      "Caged Panther\n",
      "Rubin\n",
      "Camel Driver\n",
      "Kentridge\n",
      "Chairs\n",
      "Kawanishi\n",
      "Cicada II [1/2 trial proof - secondaries]\n",
      "Kawanishi\n",
      "Cicada II [1/2 trial proof - secondaries]\n",
      "Kawanishi\n",
      "Cicada II [1/2 trial proof - secondaries]\n",
      "Nonaka\n",
      "Cicada II [trial proof]\n",
      "Nonaka\n",
      "Cicada II [trial proof]\n",
      "Shimada\n",
      "Cicada II [trial proof]\n",
      "Shimada\n",
      "Cicada II [trial proof]\n",
      "Kawanishi\n",
      "Cicada [working proof with pencil and ink additions]\n",
      "Genis\n",
      "Clipper Ship\n",
      "Essaydi\n",
      "Converging Territories #29\n",
      "Essaydi\n",
      "Converging Territories #30\n",
      "Abergil\n",
      "Cortes\n",
      "Abergil\n",
      "Cortes\n",
      "Chinese Qing Dynasty\n",
      "Covered Box for Seal Paste\n",
      "Chinese Qing Dynasty\n",
      "Covered Box for Seal Paste\n",
      "Chinese Qing Dynasty\n",
      "Covered Box for Seal Paste\n",
      "Chinese Qing Dynasty\n",
      "Covered Box for Seal Paste\n",
      "Chinese Qing Dynasty\n",
      "Covered Box for Seal Paste\n",
      "Chinese Qing Dynasty\n",
      "Covered Box for Seal Paste\n",
      "Genis\n",
      "Covered Wagons\n",
      "Chinese Qing Dynasty\n",
      "Cup\n",
      "Chinese Qing Dynasty\n",
      "Cup\n",
      "Chinese Qing Dynasty\n",
      "Cup\n",
      "Chinese Qing Dynasty\n",
      "Cup\n",
      "Chinese Qing Dynasty\n",
      "Cup\n",
      "Subotzky\n",
      "Doors, Ponte City, Johannesburg\n",
      "Nakayama\n",
      "East\n",
      "Crosby\n",
      "Eko Skyscraper\n",
      "Dyson\n",
      "Evil Tidings in B Flat\n",
      "Genis\n",
      "Fire Engine\n",
      "Arikha\n",
      "Foreshortened Self-Portrait\n",
      "Pardington\n",
      "Gall's Bust IV, A Study in Winter\n",
      "Yamawaki\n",
      "Ginza\n",
      "Yamawaki\n",
      "Ginza\n",
      "Yamawaki\n",
      "Ginza\n",
      "Munakata\n",
      "Group of Owls\n",
      "Chinese Qing Dynasty\n",
      "Hexagonal Lantern\n",
      "Chinese Qing Dynasty\n",
      "Hexagonal Lantern\n",
      "Napangardi\n",
      "Karntakulangu Jukurrpa 1 (Women's Dreaming 1)\n",
      "Fox\n",
      "Karntakulangu Jukurrpa 2 (Women's Dreaming 2)\n",
      "Napangardi\n",
      "Karntakulangu Jukurrpa 2 (Women's Dreaming 2)\n",
      "Nakazato\n",
      "Kasha\n",
      "Chinese Qing Dynasty\n",
      "Lantern\n",
      "Chinese Qing Dynasty\n",
      "Lantern\n",
      "Chinese Qing Dynasty\n",
      "Lantern\n",
      "Chinese Qing Dynasty\n",
      "Large Fish Bowl\n",
      "Chinese Qing Dynasty\n",
      "Large Fish Bowl\n",
      "Bell\n",
      "Left Luggage, from Ubu in Africa\n",
      "Sidibé\n",
      "Les Beatles Bayada Di\n",
      "Isozaki\n",
      "MOCA Print\n",
      "Bell\n",
      "Ma Ubu, Political Advisor, from Ubu in Africa\n",
      "Bell\n",
      "Ma Ubu, from Ubu in Africa\n",
      "Egyptian Ptolemaic Period\n",
      "Male Head\n",
      "Egyptian Ptolemaic Period\n",
      "Male Head\n",
      "Sidibé\n",
      "Malick en 1956\n",
      "Kentridge\n",
      "Man/Woman\n",
      "Napangardi\n",
      "Mina Mina Country\n",
      "Chinese Qing Dynasty\n",
      "Miniature Vase\n",
      "Chinese Qing Dynasty\n",
      "Miniature Vase\n",
      "Chinese Qing Dynasty\n",
      "Miniature Vase\n",
      "Chinese Qing Dynasty\n",
      "Miniature Vase\n",
      "Chinese Republic\n",
      "Miniature Vase\n",
      "Chinese Republic\n",
      "Miniature Vase\n",
      "Chinese Republic\n",
      "Miniature Vase\n",
      "Chinese Republic\n",
      "Miniature Vase\n",
      "Chinese Republic\n",
      "Miniature Vase\n",
      "Genis\n",
      "Model T Ford\n",
      "Louw\n",
      "Moments after an Assassin’s Bullet Struck the Reverend Martin Luther King, Jr...\n",
      "Lindsay\n",
      "Morning Glory\n",
      "Bell\n",
      "Nature Morte\n",
      "Ross\n",
      "Nature Morte\n",
      "missing\n",
      "Nature Morte\n",
      "Genis\n",
      "Numbers\n",
      "Genis\n",
      "Numbers\n",
      "Genis\n",
      "Numbers\n",
      "Genis\n",
      "Numbers\n",
      "Genis\n",
      "Numbers\n",
      "Genis\n",
      "Old Jenny\n",
      "Abergil\n",
      "Ortega\n",
      "Abergil\n",
      "Ortega\n",
      "Chinese Qing Dynasty\n",
      "Petal-Decorated Vase\n",
      "Chinese Qing Dynasty\n",
      "Petal-Decorated Vase\n",
      "Chinese Qing Dynasty\n",
      "Petal-Decorated Vase\n",
      "Chinese Qing Dynasty\n",
      "Petal-Decorated Vase\n",
      "Chinese Qing Dynasty\n",
      "Petal-Decorated Vase\n",
      "Chinese Qing Dynasty\n",
      "Petal-Decorated Vase\n",
      "Chinese Qing Dynasty\n",
      "Petal-Decorated Vase\n",
      "Kentridge\n",
      "Planes\n",
      "Bell\n",
      "Poem\n",
      "Ross\n",
      "Poem\n",
      "missing\n",
      "Poem\n",
      "Kentridge\n",
      "Portage\n",
      "Egyptian 2nd Century\n",
      "Portrait of a Woman\n",
      "Kentridge\n",
      "Prosthetic Leg\n",
      "Lindsay\n",
      "Repose\n",
      "Lindsay\n",
      "Repose\n",
      "Chinese Qing Dynasty\n",
      "Reticulated Perfume Ball\n",
      "Chinese Qing Dynasty\n",
      "Reticulated Perfume Ball\n",
      "Chinese Qing Dynasty\n",
      "Reticulated Perfume Ball\n",
      "Fox\n",
      "Salt on Mina Mina\n",
      "Bell\n",
      "Salutations - Ubu Expands his Horizons, from Ubu in Africa\n",
      "Napangardi\n",
      "Sandhill Country\n",
      "Bell\n",
      "Seat of Power, from Ubu in Africa\n",
      "Kentridge\n",
      "Soldiers/Italian Front\n",
      "Fox\n",
      "Spinifex Country\n",
      "Napangardi\n",
      "Spinifex Country\n",
      "Kawano\n",
      "Target\n",
      "Genis\n",
      "Targets\n",
      "Genis\n",
      "Targets\n",
      "Genis\n",
      "Targets\n",
      "Genis\n",
      "Targets\n",
      "Subotzky\n",
      "Televisions, Ponte City, Johannesburg\n",
      "Bell\n",
      "The Grand Tour, from Ubu in Africa\n",
      "Ethiopian 18th/20th Century\n",
      "The Nativity\n",
      "Ethiopian 18th/20th Century\n",
      "The Nativity\n",
      "Hulme\n",
      "The Silences Between (Moeraki Conversations)\n",
      "Hulme\n",
      "The Silences Between (Moeraki Conversations)\n",
      "Lindsay\n",
      "The White Fan\n",
      "Bell\n",
      "UBU: ± 101\n",
      "Kentridge\n",
      "UBU: ± 101\n",
      "Bell\n",
      "Ubu Potentate, from Ubu in Africa\n",
      "Bell\n",
      "Ubu, Ma Ubu and Ma Ubu's Lover, from Ubu in Africa\n",
      "Etgar\n",
      "Untitled\n",
      "Ishimoto\n",
      "Untitled\n",
      "Johns\n",
      "Untitled\n",
      "Johns\n",
      "Untitled\n",
      "Johns\n",
      "Untitled\n",
      "Johns\n",
      "Untitled\n",
      "Johns\n",
      "Untitled\n",
      "Takatsuki\n",
      "Untitled (Family of Acrobatic Jugglers II)\n",
      "Burnet\n",
      "Untitled: Four Etchings [C]\n",
      "Chinese Qing Dynasty\n",
      "Vase\n",
      "Chinese Qing Dynasty\n",
      "Vase\n",
      "Chinese Qing Dynasty\n",
      "Vase\n",
      "Chinese Qing Dynasty\n",
      "Vase\n",
      "Chinese Qing Dynasty\n",
      "Vase\n",
      "Chinese Qing Dynasty\n",
      "Vase\n",
      "Chinese Qing Dynasty\n",
      "Vase\n",
      "Chinese Qing Dynasty\n",
      "Vase\n",
      "Chinese Qing Dynasty\n",
      "Vase\n",
      "Chinese Qing Dynasty\n",
      "Vase, Meiping Shape\n",
      "Chinese Qing Dynasty\n",
      "Vase, Meiping Shape\n",
      "Chinese Qing Dynasty\n",
      "Vase, Meiping Shape\n",
      "Sidibé\n",
      "Vues de dos (Back views)\n",
      "Genis\n",
      "WLS XII\n",
      "Chinese Qing Dynasty\n",
      "Water Pot\n",
      "Chinese Qing Dynasty\n",
      "Water Pot\n",
      "Chinese Qing Dynasty\n",
      "Water Pot\n",
      "Chinese Qing Dynasty\n",
      "Water Pot\n",
      "Spowers\n",
      "Wet Afternoon\n",
      "Genis\n",
      "White Target\n",
      "Genis\n",
      "White Target\n",
      "Genis\n",
      "White Target\n",
      "Genis\n",
      "White Target\n",
      "Genis\n",
      "White Target\n",
      "Genis\n",
      "White Target\n",
      "Abergil\n",
      "Whiting\n",
      "Abergil\n",
      "Whiting\n",
      "Chinese Qing Dynasty\n",
      "Wine Cup\n",
      "Chinese Qing Dynasty\n",
      "Wine Cup\n",
      "Chinese Qing Dynasty\n",
      "Wine Cup\n",
      "Chinese Qing Dynasty\n",
      "Wine Cup\n",
      "Chinese Qing Dynasty\n",
      "Wine Cup\n",
      "Chinese Qing Dynasty\n",
      "Wine Cup\n",
      "Chinese Qing Dynasty\n",
      "Wine Cup\n",
      "Chinese Qing Dynasty\n",
      "Wine Pot\n",
      "Chinese Qing Dynasty\n",
      "Wine Pot\n",
      "Lindsay\n",
      "Zinnias\n",
      "Burnet\n",
      "no world\n"
     ]
    }
   ],
   "source": [
    "import shutil\n",
    "import requests\n",
    "def download_image(url, file_name, headers):\n",
    "    response = requests.get(url, headers=headers)\n",
    "    if response.status_code == 200:\n",
    "        with open(file_name, \"wb\") as f:\n",
    "            f.write(response.content)\n",
    "        shutil.move(file_name,'../../non_laImages/' + file_name)\n",
    "    else:\n",
    "        print(response.status_code)\n",
    "#Define HTTP Headers\n",
    "headers = {\n",
    "    \"User-Agent\": \"Chrome/51.0.2704.103\",\n",
    "}\n",
    "import time\n",
    "for i in range(0, len(to_download)):\n",
    "    #Define URL of an image\n",
    "    url = to_download.expanded_url[i]\n",
    "    # Define image file name\n",
    "    #check for nans in last name or title\n",
    "    title = 'missing'\n",
    "    last_name = 'missing'\n",
    "    if isinstance(to_download.title[i], str):\n",
    "        title = to_download.title[i]\n",
    "    if isinstance(to_download.lastname[i], str):\n",
    "        last_name = to_download.lastname[i]\n",
    "    file_name = str.replace(title, ' ', '_').replace('/', '&') + '_' + str.replace(last_name, ' ', '_').replace('/', '&') + '_'  + str(int(to_download.objectid[i])) + '.jpg'\n",
    "    if len(file_name[:-4]) > 250:\n",
    "        num_remove = len(file_name[:-4]) - 250\n",
    "        file_name = file_name[:-(4 + num_remove)] + '.jpg'\n",
    "    if isinstance(last_name, str) & isinstance(title, str):\n",
    "        print(last_name)\n",
    "        print(title)\n",
    "    # Download image\n",
    "    #timer delay (15 seconds)\n",
    "    time.sleep(15)\n",
    "    download_image(url, file_name, headers)"
   ],
   "metadata": {
    "collapsed": false,
    "pycharm": {
     "name": "#%%\n"
    }
   }
  },
  {
   "cell_type": "markdown",
   "source": [
    "### Splitting the Non La Art, for training and testing"
   ],
   "metadata": {
    "collapsed": false,
    "pycharm": {
     "name": "#%% md\n"
    }
   }
  },
  {
   "cell_type": "code",
   "execution_count": 5,
   "outputs": [],
   "source": [
    "from sklearn.model_selection import train_test_split\n",
    "#1580 rows for training (0.008%) & 396 (0.002%) for validation/testing == 1976 for one iteration of sample (1/100 of total dataset)\n",
    "X_train_sample, X_valid_sample, y_train_sample, y_valid_sample = train_test_split(nonLa_image_metadata, nonLa_image_metadata.title, train_size=0.8,test_size=0.2, random_state=626)"
   ],
   "metadata": {
    "collapsed": false,
    "pycharm": {
     "name": "#%%\n"
    }
   }
  },
  {
   "cell_type": "markdown",
   "source": [
    "### Making the individual directories for testing and training\n",
    "For Non-Latin American art"
   ],
   "metadata": {
    "collapsed": false,
    "pycharm": {
     "name": "#%% md\n"
    }
   }
  },
  {
   "cell_type": "code",
   "execution_count": null,
   "outputs": [],
   "source": [],
   "metadata": {
    "collapsed": false,
    "pycharm": {
     "name": "#%%\n"
    }
   }
  }
 ],
 "metadata": {
  "kernelspec": {
   "display_name": "Python 3",
   "language": "python",
   "name": "python3"
  },
  "language_info": {
   "codemirror_mode": {
    "name": "ipython",
    "version": 2
   },
   "file_extension": ".py",
   "mimetype": "text/x-python",
   "name": "python",
   "nbconvert_exporter": "python",
   "pygments_lexer": "ipython2",
   "version": "2.7.6"
  }
 },
 "nbformat": 4,
 "nbformat_minor": 0
}