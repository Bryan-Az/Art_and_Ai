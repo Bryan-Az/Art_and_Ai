{
 "cells": [
  {
   "cell_type": "code",
   "execution_count": 19,
   "outputs": [],
   "source": [
    "import pandas as pd\n",
    "from os import path"
   ],
   "metadata": {
    "collapsed": false,
    "pycharm": {
     "name": "#%%\n"
    }
   }
  },
  {
   "cell_type": "code",
   "execution_count": 3,
   "outputs": [],
   "source": [
    "nonLaArt = pd.read_csv('../../data_samples/results/whole_set_results/downloaded_nonLa_art.csv')"
   ],
   "metadata": {
    "collapsed": false,
    "pycharm": {
     "name": "#%%\n"
    }
   }
  },
  {
   "cell_type": "code",
   "execution_count": 5,
   "outputs": [],
   "source": [
    "LaArt = pd.read_csv('../../data_samples/results/whole_set_results/downloaded_LaArt.csv')"
   ],
   "metadata": {
    "collapsed": false,
    "pycharm": {
     "name": "#%%\n"
    }
   }
  },
  {
   "cell_type": "code",
   "execution_count": 8,
   "outputs": [
    {
     "name": "stdout",
     "output_type": "stream",
     "text": [
      "37\n",
      "40\n"
     ]
    }
   ],
   "source": [
    "print(len(nonLaArt.columns))\n",
    "print(len(LaArt.columns))"
   ],
   "metadata": {
    "collapsed": false,
    "pycharm": {
     "name": "#%%\n"
    }
   }
  },
  {
   "cell_type": "code",
   "execution_count": 9,
   "outputs": [
    {
     "data": {
      "text/plain": "{'image_fp', 'percent_fromArtist', 'subfolder'}"
     },
     "execution_count": 9,
     "metadata": {},
     "output_type": "execute_result"
    }
   ],
   "source": [
    "set(LaArt.columns) - set(nonLaArt.columns)"
   ],
   "metadata": {
    "collapsed": false,
    "pycharm": {
     "name": "#%%\n"
    }
   }
  },
  {
   "cell_type": "code",
   "execution_count": 17,
   "outputs": [],
   "source": [
    "nonLaArt['image_fp'] = nonLaArt.directory +'/' + nonLaArt.file_name"
   ],
   "metadata": {
    "collapsed": false,
    "pycharm": {
     "name": "#%%\n"
    }
   }
  },
  {
   "cell_type": "code",
   "execution_count": 20,
   "outputs": [],
   "source": [
    "nonLaArt['file_downloaded'] = nonLaArt.image_fp.apply(path.exists)"
   ],
   "metadata": {
    "collapsed": false,
    "pycharm": {
     "name": "#%%\n"
    }
   }
  },
  {
   "cell_type": "code",
   "execution_count": 22,
   "outputs": [
    {
     "data": {
      "text/plain": "                                            image_fp  file_downloaded\n0  ../../non_laImages/Tanned_Hide_Tamagami_48779.jpg             True\n1  ../../non_laImages/Modern_Print_Dressen_72470.jpg             True\n2  ../../non_laImages/Truman_Capote_Seymour_14212...             True\n3  ../../non_laImages/The_Gorbals,_Glasgow_Rosenw...             True\n4  ../../non_laImages/Christ_before_Herod_German_...             True",
      "text/html": "<div>\n<style scoped>\n    .dataframe tbody tr th:only-of-type {\n        vertical-align: middle;\n    }\n\n    .dataframe tbody tr th {\n        vertical-align: top;\n    }\n\n    .dataframe thead th {\n        text-align: right;\n    }\n</style>\n<table border=\"1\" class=\"dataframe\">\n  <thead>\n    <tr style=\"text-align: right;\">\n      <th></th>\n      <th>image_fp</th>\n      <th>file_downloaded</th>\n    </tr>\n  </thead>\n  <tbody>\n    <tr>\n      <th>0</th>\n      <td>../../non_laImages/Tanned_Hide_Tamagami_48779.jpg</td>\n      <td>True</td>\n    </tr>\n    <tr>\n      <th>1</th>\n      <td>../../non_laImages/Modern_Print_Dressen_72470.jpg</td>\n      <td>True</td>\n    </tr>\n    <tr>\n      <th>2</th>\n      <td>../../non_laImages/Truman_Capote_Seymour_14212...</td>\n      <td>True</td>\n    </tr>\n    <tr>\n      <th>3</th>\n      <td>../../non_laImages/The_Gorbals,_Glasgow_Rosenw...</td>\n      <td>True</td>\n    </tr>\n    <tr>\n      <th>4</th>\n      <td>../../non_laImages/Christ_before_Herod_German_...</td>\n      <td>True</td>\n    </tr>\n  </tbody>\n</table>\n</div>"
     },
     "execution_count": 22,
     "metadata": {},
     "output_type": "execute_result"
    }
   ],
   "source": [
    "nonLaArt.loc[:,['image_fp', 'file_downloaded']].head()"
   ],
   "metadata": {
    "collapsed": false,
    "pycharm": {
     "name": "#%%\n"
    }
   }
  },
  {
   "cell_type": "code",
   "execution_count": 23,
   "outputs": [
    {
     "data": {
      "text/plain": "1.0"
     },
     "execution_count": 23,
     "metadata": {},
     "output_type": "execute_result"
    }
   ],
   "source": [
    "nonLaArt.file_downloaded.sum() / len(nonLaArt)"
   ],
   "metadata": {
    "collapsed": false,
    "pycharm": {
     "name": "#%%\n"
    }
   }
  },
  {
   "cell_type": "code",
   "execution_count": 24,
   "outputs": [],
   "source": [
    "#TODO: Add percentFromArtist\n",
    "# code to add percent from artist column in non-la art to match la dataset\n",
    "proportion_ofArtist = nonLaArt.forwarddisplayname.value_counts(normalize=True)\n",
    "nonLaArt['percent_fromArtist'] = nonLaArt.forwarddisplayname.apply(lambda x: proportion_ofArtist[x])"
   ],
   "metadata": {
    "collapsed": false,
    "pycharm": {
     "name": "#%%\n"
    }
   }
  },
  {
   "cell_type": "code",
   "execution_count": 25,
   "outputs": [
    {
     "data": {
      "text/plain": "{'subfolder'}"
     },
     "execution_count": 25,
     "metadata": {},
     "output_type": "execute_result"
    }
   ],
   "source": [
    "set(LaArt.columns) - set(nonLaArt.columns)"
   ],
   "metadata": {
    "collapsed": false,
    "pycharm": {
     "name": "#%%\n"
    }
   }
  },
  {
   "cell_type": "code",
   "execution_count": 26,
   "outputs": [],
   "source": [
    "nonLaArt.to_csv('../../data_samples/results/whole_set_results/downloaded_nonLa_art.csv', index=False)"
   ],
   "metadata": {
    "collapsed": false,
    "pycharm": {
     "name": "#%%\n"
    }
   }
  },
  {
   "cell_type": "code",
   "execution_count": null,
   "outputs": [],
   "source": [
    "#TODO: Transition the images in the nonLA imagefolder split notebook"
   ],
   "metadata": {
    "collapsed": false,
    "pycharm": {
     "name": "#%%\n"
    }
   }
  },
  {
   "cell_type": "code",
   "execution_count": 7,
   "outputs": [
    {
     "ename": "AttributeError",
     "evalue": "'DataFrame' object has no attribute 'iiifthumburl'",
     "output_type": "error",
     "traceback": [
      "\u001B[0;31m---------------------------------------------------------------------------\u001B[0m",
      "\u001B[0;31mAttributeError\u001B[0m                            Traceback (most recent call last)",
      "\u001B[0;32m/var/folders/b8/b_prs9t152qc96jlgz5zhwt00000gn/T/ipykernel_77969/623365600.py\u001B[0m in \u001B[0;36m<module>\u001B[0;34m\u001B[0m\n\u001B[1;32m      1\u001B[0m \u001B[0;31m#removing rows where there is no publically available image link\u001B[0m\u001B[0;34m\u001B[0m\u001B[0;34m\u001B[0m\u001B[0;34m\u001B[0m\u001B[0m\n\u001B[0;32m----> 2\u001B[0;31m \u001B[0mnonLaArt\u001B[0m \u001B[0;34m=\u001B[0m \u001B[0mnonLaArt\u001B[0m\u001B[0;34m.\u001B[0m\u001B[0mwhere\u001B[0m\u001B[0;34m(\u001B[0m\u001B[0mnonLaArt\u001B[0m\u001B[0;34m.\u001B[0m\u001B[0miiifthumburl\u001B[0m\u001B[0;34m.\u001B[0m\u001B[0mapply\u001B[0m\u001B[0;34m(\u001B[0m\u001B[0;32mlambda\u001B[0m \u001B[0mx\u001B[0m\u001B[0;34m:\u001B[0m \u001B[0mpd\u001B[0m\u001B[0;34m.\u001B[0m\u001B[0mnotna\u001B[0m\u001B[0;34m(\u001B[0m\u001B[0mx\u001B[0m\u001B[0;34m)\u001B[0m\u001B[0;34m)\u001B[0m\u001B[0;34m)\u001B[0m\u001B[0;34m.\u001B[0m\u001B[0mdropna\u001B[0m\u001B[0;34m(\u001B[0m\u001B[0mhow\u001B[0m\u001B[0;34m=\u001B[0m\u001B[0;34m'all'\u001B[0m\u001B[0;34m)\u001B[0m\u001B[0;34m\u001B[0m\u001B[0;34m\u001B[0m\u001B[0m\n\u001B[0m",
      "\u001B[0;32m~/opt/anaconda3/lib/python3.7/site-packages/pandas/core/generic.py\u001B[0m in \u001B[0;36m__getattr__\u001B[0;34m(self, name)\u001B[0m\n\u001B[1;32m   5485\u001B[0m         ):\n\u001B[1;32m   5486\u001B[0m             \u001B[0;32mreturn\u001B[0m \u001B[0mself\u001B[0m\u001B[0;34m[\u001B[0m\u001B[0mname\u001B[0m\u001B[0;34m]\u001B[0m\u001B[0;34m\u001B[0m\u001B[0;34m\u001B[0m\u001B[0m\n\u001B[0;32m-> 5487\u001B[0;31m         \u001B[0;32mreturn\u001B[0m \u001B[0mobject\u001B[0m\u001B[0;34m.\u001B[0m\u001B[0m__getattribute__\u001B[0m\u001B[0;34m(\u001B[0m\u001B[0mself\u001B[0m\u001B[0;34m,\u001B[0m \u001B[0mname\u001B[0m\u001B[0;34m)\u001B[0m\u001B[0;34m\u001B[0m\u001B[0;34m\u001B[0m\u001B[0m\n\u001B[0m\u001B[1;32m   5488\u001B[0m \u001B[0;34m\u001B[0m\u001B[0m\n\u001B[1;32m   5489\u001B[0m     \u001B[0;32mdef\u001B[0m \u001B[0m__setattr__\u001B[0m\u001B[0;34m(\u001B[0m\u001B[0mself\u001B[0m\u001B[0;34m,\u001B[0m \u001B[0mname\u001B[0m\u001B[0;34m:\u001B[0m \u001B[0mstr\u001B[0m\u001B[0;34m,\u001B[0m \u001B[0mvalue\u001B[0m\u001B[0;34m)\u001B[0m \u001B[0;34m->\u001B[0m \u001B[0;32mNone\u001B[0m\u001B[0;34m:\u001B[0m\u001B[0;34m\u001B[0m\u001B[0;34m\u001B[0m\u001B[0m\n",
      "\u001B[0;31mAttributeError\u001B[0m: 'DataFrame' object has no attribute 'iiifthumburl'"
     ]
    }
   ],
   "source": [
    "#removing rows where there is no publicly available image link\n",
    "nonLaArt = nonLaArt.where(nonLaArt.iiifthumburl.apply(lambda x: pd.notna(x))).dropna(how='all')"
   ],
   "metadata": {
    "collapsed": false,
    "pycharm": {
     "name": "#%%\n"
    }
   }
  },
  {
   "cell_type": "code",
   "execution_count": 5,
   "outputs": [
    {
     "name": "stdout",
     "output_type": "stream",
     "text": [
      "(354, 39)\n",
      "(235503, 60)\n"
     ]
    }
   ],
   "source": [
    "print(LaArt.shape)\n",
    "print(nonLaArt.shape)"
   ],
   "metadata": {
    "collapsed": false,
    "pycharm": {
     "name": "#%%\n"
    }
   }
  },
  {
   "cell_type": "code",
   "execution_count": 6,
   "outputs": [],
   "source": [
    "# Change - Reformat URL to View Entire Art (Expanded Url)\n",
    "nonLaArt['expanded_url'] = nonLaArt.iiifthumburl.apply(lambda x: x.replace('!200,200', 'full'))"
   ],
   "metadata": {
    "collapsed": false,
    "pycharm": {
     "name": "#%%\n"
    }
   }
  },
  {
   "cell_type": "code",
   "execution_count": 7,
   "outputs": [],
   "source": [
    "#selecting only data that has a listed nationality\n",
    "nonLaArt = nonLaArt.where(nonLaArt.nationality.apply(pd.notna)).dropna(how='all')"
   ],
   "metadata": {
    "collapsed": false,
    "pycharm": {
     "name": "#%%\n"
    }
   }
  },
  {
   "cell_type": "code",
   "execution_count": 8,
   "outputs": [
    {
     "name": "stdout",
     "output_type": "stream",
     "text": [
      "(354, 39)\n",
      "(204986, 61)\n"
     ]
    }
   ],
   "source": [
    "print(LaArt.shape)\n",
    "print(nonLaArt.shape)"
   ],
   "metadata": {
    "collapsed": false,
    "pycharm": {
     "name": "#%%\n"
    }
   }
  },
  {
   "cell_type": "code",
   "execution_count": 9,
   "outputs": [
    {
     "data": {
      "text/plain": "{'accessionnum',\n 'artist_lifespan',\n 'artistofngaobject',\n 'birth_year',\n 'country_created',\n 'created',\n 'creation_end',\n 'creation_start',\n 'customprinturl',\n 'death_year',\n 'departmentabbr',\n 'iiifthumburl',\n 'iiifurl',\n 'lastdetectedmodification',\n 'lifespan',\n 'locationid',\n 'modified',\n 'prefix',\n 'relationship_ended',\n 'relationship_started',\n 'role',\n 'roletype',\n 'subclassification',\n 'suffix',\n 'uuid',\n 'viewtype',\n 'visualbrowserclassification',\n 'volume',\n 'watermarks',\n 'zipcode_created'}"
     },
     "execution_count": 9,
     "metadata": {},
     "output_type": "execute_result"
    }
   ],
   "source": [
    "#To Remove (Columns in nonLaArt, not in LaArt)\n",
    "set(nonLaArt.columns) - set(LaArt.columns)"
   ],
   "metadata": {
    "collapsed": false,
    "pycharm": {
     "name": "#%%\n"
    }
   }
  },
  {
   "cell_type": "code",
   "execution_count": 10,
   "outputs": [],
   "source": [
    "#dropping columns in nonLaArt missing in LaArt\n",
    "nonLaArt = nonLaArt.drop(columns = ['modified', 'iiifthumburl', 'iiifurl', 'viewtype', 'zipcode_created', 'watermarks', 'volume', 'visualbrowserclassification', 'viewtype', 'uuid', 'suffix', 'roletype', 'role', 'prefix', 'modified', 'locationid', 'lastdetectedmodification', 'iiifurl', 'iiifthumburl', 'departmentabbr', 'artistofngaobject', 'artist_lifespan', 'accessionnum', 'accessioned', 'birth_year', 'country_created', 'created', 'creation_end', 'creation_start', 'customprinturl', 'death_year', 'lifespan', 'relationship_ended', 'relationship_started', 'subclassification'])"
   ],
   "metadata": {
    "collapsed": false,
    "pycharm": {
     "name": "#%%\n"
    }
   }
  },
  {
   "cell_type": "code",
   "execution_count": 59,
   "outputs": [],
   "source": [
    "LaArt.columns = ['expanded_url', 'title', 'forwarddisplayname', 'medium', 'displaydate',\n",
    "                 'sequence', 'width', 'height', 'maxpixels', 'depictstmsobjectid',\n",
    "                 'assistivetext', 'objectid', 'displayorder', 'constituentid', 'ulanid',\n",
    "                 'preferreddisplayname', 'lastname', 'nationality', 'constituenttype',\n",
    "                 'percent_fromCountry', 'Country', 'Continent', 'Country Name', 'accessioned',\n",
    "                 'dimensions', 'inscription', 'markings', 'attributioninverted',\n",
    "                 'attribution', 'provenancetext', 'creditline', 'classification',\n",
    "                 'parentid', 'isvirtual', 'portfolio', 'series', 'file_name',\n",
    "                 'directory', 'file_downloaded']"
   ],
   "metadata": {
    "collapsed": false,
    "pycharm": {
     "name": "#%%\n"
    }
   }
  },
  {
   "cell_type": "code",
   "execution_count": 60,
   "outputs": [
    {
     "data": {
      "text/plain": "  Country Name           displaydate      Continent  file_downloaded  \\\n0        Chile  Chilean, 1918 - 1993  South America             True   \n1       Mexico  Mexican, 1886 - 1957  North America             True   \n2        Chile  Chilean, 1911 - 2002  South America             True   \n3        Chile  Chilean, 1911 - 2002  South America             True   \n4        Chile  Chilean, 1911 - 2002  South America             True   \n\n   accessioned Country     directory  percent_fromCountry            file_name  \n0            1      CL  ./All_Images             0.000392  Festival_Andino.jpg  \n1            1      MX  ./All_Images             0.002417     Chester_Dale.jpg  \n2            1      CL  ./All_Images             0.000392   Compostion_XVI.jpg  \n3            1      CL  ./All_Images             0.000392    Compostion_IV.jpg  \n4            1      CL  ./All_Images             0.000392     Compostion_I.jpg  ",
      "text/html": "<div>\n<style scoped>\n    .dataframe tbody tr th:only-of-type {\n        vertical-align: middle;\n    }\n\n    .dataframe tbody tr th {\n        vertical-align: top;\n    }\n\n    .dataframe thead th {\n        text-align: right;\n    }\n</style>\n<table border=\"1\" class=\"dataframe\">\n  <thead>\n    <tr style=\"text-align: right;\">\n      <th></th>\n      <th>Country Name</th>\n      <th>displaydate</th>\n      <th>Continent</th>\n      <th>file_downloaded</th>\n      <th>accessioned</th>\n      <th>Country</th>\n      <th>directory</th>\n      <th>percent_fromCountry</th>\n      <th>file_name</th>\n    </tr>\n  </thead>\n  <tbody>\n    <tr>\n      <th>0</th>\n      <td>Chile</td>\n      <td>Chilean, 1918 - 1993</td>\n      <td>South America</td>\n      <td>True</td>\n      <td>1</td>\n      <td>CL</td>\n      <td>./All_Images</td>\n      <td>0.000392</td>\n      <td>Festival_Andino.jpg</td>\n    </tr>\n    <tr>\n      <th>1</th>\n      <td>Mexico</td>\n      <td>Mexican, 1886 - 1957</td>\n      <td>North America</td>\n      <td>True</td>\n      <td>1</td>\n      <td>MX</td>\n      <td>./All_Images</td>\n      <td>0.002417</td>\n      <td>Chester_Dale.jpg</td>\n    </tr>\n    <tr>\n      <th>2</th>\n      <td>Chile</td>\n      <td>Chilean, 1911 - 2002</td>\n      <td>South America</td>\n      <td>True</td>\n      <td>1</td>\n      <td>CL</td>\n      <td>./All_Images</td>\n      <td>0.000392</td>\n      <td>Compostion_XVI.jpg</td>\n    </tr>\n    <tr>\n      <th>3</th>\n      <td>Chile</td>\n      <td>Chilean, 1911 - 2002</td>\n      <td>South America</td>\n      <td>True</td>\n      <td>1</td>\n      <td>CL</td>\n      <td>./All_Images</td>\n      <td>0.000392</td>\n      <td>Compostion_IV.jpg</td>\n    </tr>\n    <tr>\n      <th>4</th>\n      <td>Chile</td>\n      <td>Chilean, 1911 - 2002</td>\n      <td>South America</td>\n      <td>True</td>\n      <td>1</td>\n      <td>CL</td>\n      <td>./All_Images</td>\n      <td>0.000392</td>\n      <td>Compostion_I.jpg</td>\n    </tr>\n  </tbody>\n</table>\n</div>"
     },
     "execution_count": 60,
     "metadata": {},
     "output_type": "execute_result"
    }
   ],
   "source": [
    "#to add columns\n",
    "LaArt[list(set(LaArt.columns) - set(nonLaArt.columns))].head()"
   ],
   "metadata": {
    "collapsed": false,
    "pycharm": {
     "name": "#%%\n"
    }
   }
  },
  {
   "cell_type": "code",
   "execution_count": 61,
   "outputs": [
    {
     "name": "stdout",
     "output_type": "stream",
     "text": [
      "(354, 39)\n",
      "(204986, 30)\n"
     ]
    }
   ],
   "source": [
    "print(LaArt.shape)\n",
    "print(nonLaArt.shape)"
   ],
   "metadata": {
    "collapsed": false,
    "pycharm": {
     "name": "#%%\n"
    }
   }
  },
  {
   "cell_type": "markdown",
   "source": [
    "### Geographic Statistical Data"
   ],
   "metadata": {
    "collapsed": false,
    "pycharm": {
     "name": "#%% md\n"
    }
   }
  },
  {
   "cell_type": "code",
   "execution_count": 65,
   "outputs": [],
   "source": [
    "nonLa_in_NGA = pd.read_csv('../../data_samples/results/whole_set_results/country_continent_info.csv')"
   ],
   "metadata": {
    "collapsed": false,
    "pycharm": {
     "name": "#%%\n"
    }
   }
  },
  {
   "cell_type": "code",
   "execution_count": 66,
   "outputs": [],
   "source": [
    "demonyms = pd.read_csv('../../data_samples/results/whole_set_results/demonyms.csv')"
   ],
   "metadata": {
    "collapsed": false,
    "pycharm": {
     "name": "#%%\n"
    }
   }
  },
  {
   "cell_type": "code",
   "execution_count": 67,
   "outputs": [],
   "source": [
    "demonyms.columns = ['Demonym', 'Country Name']"
   ],
   "metadata": {
    "collapsed": false,
    "pycharm": {
     "name": "#%%\n"
    }
   }
  },
  {
   "cell_type": "code",
   "execution_count": 68,
   "outputs": [],
   "source": [
    "nonLa_countryDetails = pd.merge(demonyms, nonLa_in_NGA, on='Country Name', how='inner')"
   ],
   "metadata": {
    "collapsed": false,
    "pycharm": {
     "name": "#%%\n"
    }
   }
  },
  {
   "cell_type": "code",
   "execution_count": 69,
   "outputs": [],
   "source": [
    "nationalities_prob = nonLaArt.nationality.value_counts(normalize=True)\n",
    "nationalities_prob = nationalities_prob.reset_index()\n",
    "nationalities_prob.columns = ['Demonym', 'percent_fromCountry']"
   ],
   "metadata": {
    "collapsed": false,
    "pycharm": {
     "name": "#%%\n"
    }
   }
  },
  {
   "cell_type": "code",
   "execution_count": 70,
   "outputs": [],
   "source": [
    "nonLa_countryDetails = pd.merge(nationalities_prob, nonLa_countryDetails, on ='Demonym', how='inner')"
   ],
   "metadata": {
    "collapsed": false,
    "pycharm": {
     "name": "#%%\n"
    }
   }
  },
  {
   "cell_type": "code",
   "execution_count": 71,
   "outputs": [],
   "source": [
    "to_add = nonLa_countryDetails.drop('Continent', axis=1)"
   ],
   "metadata": {
    "collapsed": false,
    "pycharm": {
     "name": "#%%\n"
    }
   }
  },
  {
   "cell_type": "code",
   "execution_count": 77,
   "outputs": [],
   "source": [
    "to_add.columns = ['nationality', 'percent_fromCountry', 'Country Name', 'Country', 'Continent']"
   ],
   "metadata": {
    "collapsed": false,
    "pycharm": {
     "name": "#%%\n"
    }
   }
  },
  {
   "cell_type": "code",
   "execution_count": 80,
   "outputs": [],
   "source": [
    "nonLaArt = pd.merge(nonLaArt, to_add, on = 'nationality', how ='inner')"
   ],
   "metadata": {
    "collapsed": false,
    "pycharm": {
     "name": "#%%\n"
    }
   }
  },
  {
   "cell_type": "code",
   "execution_count": 82,
   "outputs": [
    {
     "data": {
      "text/plain": "   objectid                                       title  \\\n0  145077.0  Untitled (Portrait of the Artist's Mother)   \n1  145077.0  Untitled (Portrait of the Artist's Mother)   \n2   17320.0                                         Jug   \n3   17320.0                                         Jug   \n4   34937.0                                    Seascape   \n\n                                              medium  \\\n0                                            etching   \n1                                            etching   \n2  wAtercolor, colored pencil, and graphite on pa...   \n3  wAtercolor, colored pencil, and graphite on pa...   \n4                               etching and aquatint   \n\n                                          dimensions  \\\n0           plate: 142 x 130 mm\\nsheet: 333 x 242 mm   \n1           plate: 142 x 130 mm\\nsheet: 333 x 242 mm   \n2  overall: 44.5 x 35.5 cm (17 1/2 x 14 in.)\\nOri...   \n3  overall: 44.5 x 35.5 cm (17 1/2 x 14 in.)\\nOri...   \n4  mount: 48.5 × 33.4 cm (19 1/8 × 13 1/8 in.)\\ns...   \n\n                                         inscription markings  \\\n0                                                NaN      NaN   \n1                                                NaN      NaN   \n2  lower left in graphite: S. Garfinkel / and / J...      NaN   \n3  lower left in graphite: S. Garfinkel / and / J...      NaN   \n4  in plate, below image, at center: Dessin de Gu...      NaN   \n\n                         attributioninverted  \\\n0                             Stella, Joseph   \n1                             Stella, Joseph   \n2         Garfinkel, Sara and John Tarantino   \n3         Garfinkel, Sara and John Tarantino   \n4  Schönecker, Regina after Wigerus Vitringa   \n\n                                attribution  \\\n0                             Joseph Stella   \n1                             Joseph Stella   \n2         Sara Garfinkel and John Tarantino   \n3         Sara Garfinkel and John Tarantino   \n4  Regina Schönecker after Wigerus Vitringa   \n\n                                      provenancetext  \\\n0                                                NaN   \n1                                                NaN   \n2                                                NaN   \n3                                                NaN   \n4  (Walter Schatzki, New York); Lessing Julius Ro...   \n\n                                          creditline  ...  \\\n0  Reba and Dave Williams Collection, Gift of Reb...  ...   \n1  Reba and Dave Williams Collection, Gift of Reb...  ...   \n2                           Index of American Design  ...   \n3                           Index of American Design  ...   \n4                               Rosenwald Collection  ...   \n\n        preferreddisplayname        forwarddisplayname   lastname nationality  \\\n0           Sorini, Emiliano           Emiliano Sorini     Sorini    American   \n1             Stella, Joseph             Joseph Stella     Stella    American   \n2            Tarantino, John            John Tarantino  Tarantino    American   \n3            Garfinkel, Sara            Sara Garfinkel  Garfinkel    American   \n4  Rosenwald, Lessing Julius  Lessing Julius Rosenwald  Rosenwald    American   \n\n  constituenttype                                       expanded_url  \\\n0      individual  https://api.nga.gov/iiif/9f8e26de-6c9b-4359-87...   \n1      individual  https://api.nga.gov/iiif/9f8e26de-6c9b-4359-87...   \n2      individual  https://api.nga.gov/iiif/a18e0e97-2473-4e32-b4...   \n3      individual  https://api.nga.gov/iiif/a18e0e97-2473-4e32-b4...   \n4      individual  https://api.nga.gov/iiif/a19b5f55-bbc6-4fd1-a2...   \n\n   percent_fromCountry   Country Name  Country      Continent  \n0             0.709936  United States       US  North America  \n1             0.709936  United States       US  North America  \n2             0.709936  United States       US  North America  \n3             0.709936  United States       US  North America  \n4             0.709936  United States       US  North America  \n\n[5 rows x 34 columns]",
      "text/html": "<div>\n<style scoped>\n    .dataframe tbody tr th:only-of-type {\n        vertical-align: middle;\n    }\n\n    .dataframe tbody tr th {\n        vertical-align: top;\n    }\n\n    .dataframe thead th {\n        text-align: right;\n    }\n</style>\n<table border=\"1\" class=\"dataframe\">\n  <thead>\n    <tr style=\"text-align: right;\">\n      <th></th>\n      <th>objectid</th>\n      <th>title</th>\n      <th>medium</th>\n      <th>dimensions</th>\n      <th>inscription</th>\n      <th>markings</th>\n      <th>attributioninverted</th>\n      <th>attribution</th>\n      <th>provenancetext</th>\n      <th>creditline</th>\n      <th>...</th>\n      <th>preferreddisplayname</th>\n      <th>forwarddisplayname</th>\n      <th>lastname</th>\n      <th>nationality</th>\n      <th>constituenttype</th>\n      <th>expanded_url</th>\n      <th>percent_fromCountry</th>\n      <th>Country Name</th>\n      <th>Country</th>\n      <th>Continent</th>\n    </tr>\n  </thead>\n  <tbody>\n    <tr>\n      <th>0</th>\n      <td>145077.0</td>\n      <td>Untitled (Portrait of the Artist's Mother)</td>\n      <td>etching</td>\n      <td>plate: 142 x 130 mm\\nsheet: 333 x 242 mm</td>\n      <td>NaN</td>\n      <td>NaN</td>\n      <td>Stella, Joseph</td>\n      <td>Joseph Stella</td>\n      <td>NaN</td>\n      <td>Reba and Dave Williams Collection, Gift of Reb...</td>\n      <td>...</td>\n      <td>Sorini, Emiliano</td>\n      <td>Emiliano Sorini</td>\n      <td>Sorini</td>\n      <td>American</td>\n      <td>individual</td>\n      <td>https://api.nga.gov/iiif/9f8e26de-6c9b-4359-87...</td>\n      <td>0.709936</td>\n      <td>United States</td>\n      <td>US</td>\n      <td>North America</td>\n    </tr>\n    <tr>\n      <th>1</th>\n      <td>145077.0</td>\n      <td>Untitled (Portrait of the Artist's Mother)</td>\n      <td>etching</td>\n      <td>plate: 142 x 130 mm\\nsheet: 333 x 242 mm</td>\n      <td>NaN</td>\n      <td>NaN</td>\n      <td>Stella, Joseph</td>\n      <td>Joseph Stella</td>\n      <td>NaN</td>\n      <td>Reba and Dave Williams Collection, Gift of Reb...</td>\n      <td>...</td>\n      <td>Stella, Joseph</td>\n      <td>Joseph Stella</td>\n      <td>Stella</td>\n      <td>American</td>\n      <td>individual</td>\n      <td>https://api.nga.gov/iiif/9f8e26de-6c9b-4359-87...</td>\n      <td>0.709936</td>\n      <td>United States</td>\n      <td>US</td>\n      <td>North America</td>\n    </tr>\n    <tr>\n      <th>2</th>\n      <td>17320.0</td>\n      <td>Jug</td>\n      <td>wAtercolor, colored pencil, and graphite on pa...</td>\n      <td>overall: 44.5 x 35.5 cm (17 1/2 x 14 in.)\\nOri...</td>\n      <td>lower left in graphite: S. Garfinkel / and / J...</td>\n      <td>NaN</td>\n      <td>Garfinkel, Sara and John Tarantino</td>\n      <td>Sara Garfinkel and John Tarantino</td>\n      <td>NaN</td>\n      <td>Index of American Design</td>\n      <td>...</td>\n      <td>Tarantino, John</td>\n      <td>John Tarantino</td>\n      <td>Tarantino</td>\n      <td>American</td>\n      <td>individual</td>\n      <td>https://api.nga.gov/iiif/a18e0e97-2473-4e32-b4...</td>\n      <td>0.709936</td>\n      <td>United States</td>\n      <td>US</td>\n      <td>North America</td>\n    </tr>\n    <tr>\n      <th>3</th>\n      <td>17320.0</td>\n      <td>Jug</td>\n      <td>wAtercolor, colored pencil, and graphite on pa...</td>\n      <td>overall: 44.5 x 35.5 cm (17 1/2 x 14 in.)\\nOri...</td>\n      <td>lower left in graphite: S. Garfinkel / and / J...</td>\n      <td>NaN</td>\n      <td>Garfinkel, Sara and John Tarantino</td>\n      <td>Sara Garfinkel and John Tarantino</td>\n      <td>NaN</td>\n      <td>Index of American Design</td>\n      <td>...</td>\n      <td>Garfinkel, Sara</td>\n      <td>Sara Garfinkel</td>\n      <td>Garfinkel</td>\n      <td>American</td>\n      <td>individual</td>\n      <td>https://api.nga.gov/iiif/a18e0e97-2473-4e32-b4...</td>\n      <td>0.709936</td>\n      <td>United States</td>\n      <td>US</td>\n      <td>North America</td>\n    </tr>\n    <tr>\n      <th>4</th>\n      <td>34937.0</td>\n      <td>Seascape</td>\n      <td>etching and aquatint</td>\n      <td>mount: 48.5 × 33.4 cm (19 1/8 × 13 1/8 in.)\\ns...</td>\n      <td>in plate, below image, at center: Dessin de Gu...</td>\n      <td>NaN</td>\n      <td>Schönecker, Regina after Wigerus Vitringa</td>\n      <td>Regina Schönecker after Wigerus Vitringa</td>\n      <td>(Walter Schatzki, New York); Lessing Julius Ro...</td>\n      <td>Rosenwald Collection</td>\n      <td>...</td>\n      <td>Rosenwald, Lessing Julius</td>\n      <td>Lessing Julius Rosenwald</td>\n      <td>Rosenwald</td>\n      <td>American</td>\n      <td>individual</td>\n      <td>https://api.nga.gov/iiif/a19b5f55-bbc6-4fd1-a2...</td>\n      <td>0.709936</td>\n      <td>United States</td>\n      <td>US</td>\n      <td>North America</td>\n    </tr>\n  </tbody>\n</table>\n<p>5 rows × 34 columns</p>\n</div>"
     },
     "execution_count": 82,
     "metadata": {},
     "output_type": "execute_result"
    }
   ],
   "source": [
    "nonLaArt.head()"
   ],
   "metadata": {
    "collapsed": false,
    "pycharm": {
     "name": "#%%\n"
    }
   }
  },
  {
   "cell_type": "code",
   "execution_count": 1,
   "outputs": [
    {
     "ename": "NameError",
     "evalue": "name 'LaArt' is not defined",
     "output_type": "error",
     "traceback": [
      "\u001B[0;31m---------------------------------------------------------------------------\u001B[0m",
      "\u001B[0;31mNameError\u001B[0m                                 Traceback (most recent call last)",
      "\u001B[0;32m/var/folders/b8/b_prs9t152qc96jlgz5zhwt00000gn/T/ipykernel_93857/1535228697.py\u001B[0m in \u001B[0;36m<module>\u001B[0;34m\u001B[0m\n\u001B[0;32m----> 1\u001B[0;31m \u001B[0mprint\u001B[0m\u001B[0;34m(\u001B[0m\u001B[0mLaArt\u001B[0m\u001B[0;34m.\u001B[0m\u001B[0mshape\u001B[0m\u001B[0;34m)\u001B[0m\u001B[0;34m\u001B[0m\u001B[0;34m\u001B[0m\u001B[0m\n\u001B[0m\u001B[1;32m      2\u001B[0m \u001B[0mprint\u001B[0m\u001B[0;34m(\u001B[0m\u001B[0mnonLaArt\u001B[0m\u001B[0;34m.\u001B[0m\u001B[0mshape\u001B[0m\u001B[0;34m)\u001B[0m\u001B[0;34m\u001B[0m\u001B[0;34m\u001B[0m\u001B[0m\n",
      "\u001B[0;31mNameError\u001B[0m: name 'LaArt' is not defined"
     ]
    }
   ],
   "source": [
    "print(LaArt.shape)\n",
    "print(nonLaArt.shape)"
   ],
   "metadata": {
    "collapsed": false,
    "pycharm": {
     "name": "#%%\n"
    }
   }
  },
  {
   "cell_type": "code",
   "execution_count": 85,
   "outputs": [],
   "source": [
    "#nonLaArt.to_csv('../../data_samples/results/whole_set_results/pa_nonLa_art.csv', index=False)"
   ],
   "metadata": {
    "collapsed": false,
    "pycharm": {
     "name": "#%%\n"
    }
   }
  },
  {
   "cell_type": "code",
   "execution_count": null,
   "outputs": [],
   "source": [],
   "metadata": {
    "collapsed": false,
    "pycharm": {
     "name": "#%%\n"
    }
   }
  }
 ],
 "metadata": {
  "kernelspec": {
   "display_name": "Python 3",
   "language": "python",
   "name": "python3"
  },
  "language_info": {
   "codemirror_mode": {
    "name": "ipython",
    "version": 2
   },
   "file_extension": ".py",
   "mimetype": "text/x-python",
   "name": "python",
   "nbconvert_exporter": "python",
   "pygments_lexer": "ipython2",
   "version": "2.7.6"
  }
 },
 "nbformat": 4,
 "nbformat_minor": 0
}